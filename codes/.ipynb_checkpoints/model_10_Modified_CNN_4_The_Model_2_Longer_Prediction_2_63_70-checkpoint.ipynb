{
 "cells": [
  {
   "cell_type": "code",
   "execution_count": 1,
   "metadata": {},
   "outputs": [
    {
     "data": {
      "application/javascript": [
       "IPython.notebook.set_autosave_interval(0)"
      ]
     },
     "metadata": {},
     "output_type": "display_data"
    },
    {
     "name": "stdout",
     "output_type": "stream",
     "text": [
      "Autosave disabled\n"
     ]
    }
   ],
   "source": [
    "%autosave 0"
   ]
  },
  {
   "cell_type": "markdown",
   "metadata": {},
   "source": [
    "### Kaggle - Web Traffic Time Series Forecasting\n",
    "\n",
    "## Model 10 - Modified CNN with Fibonacci\n",
    "\n",
    "### v4 The Model - Longer prediction\n",
    "\n",
    "by Louis Yang\n",
    "\n",
    "Use Fibonacci series median as the center of each data.\n",
    "\n",
    "According to the center, split data into groups and train individual neural network (model) in each group.\n",
    "\n",
    "The grouping split are log10(fib_med + 1) < (1.0 , 2.0, 4.0, rest) There are total 4 groups.\n",
    "\n",
    "The first 1 groups use original Fibonacci median as prediction since it is difficult to learn. The rest groups use the trained CNN as prediction.\n",
    "\n",
    "The neural network structure is: \n",
    "\n",
    "    1 Conv1D(120) with filter size 3 > Average pooling(2) > FC(120) > FC(120) > FC(63, linear).\n",
    "\n",
    "Then do ensemble learning: Evaluate the same model 5 times and take the ensemble median.\n",
    "\n",
    "v0 Feed second input (median and stdev) to the neural network after the CNN part.\n",
    "\n",
    "v4.2 Extend the prediction to longer time since there is larger gap between train and test dates.\n",
    "\n",
    "Test on stage 2 data.\n",
    "\n",
    "Original model: 'model_10_Modified_CNN_4_The_Model'"
   ]
  },
  {
   "cell_type": "code",
   "execution_count": 2,
   "metadata": {
    "collapsed": true
   },
   "outputs": [],
   "source": [
    "model_name = 'model_10_Modified_CNN_4_The_Model_2_Longer_Prediction_2_63_70'"
   ]
  },
  {
   "cell_type": "code",
   "execution_count": 3,
   "metadata": {
    "collapsed": true
   },
   "outputs": [],
   "source": [
    "import numpy as np # linear algebra\n",
    "import pandas as pd # data processing, CSV file I/O (e.g. pd.read_csv)\n",
    "import matplotlib.pyplot as plt\n",
    "import gc  # Python garbage collect\n",
    "from tools import *"
   ]
  },
  {
   "cell_type": "markdown",
   "metadata": {},
   "source": [
    "## Input"
   ]
  },
  {
   "cell_type": "code",
   "execution_count": 4,
   "metadata": {
    "collapsed": true
   },
   "outputs": [],
   "source": [
    "train_file = 'train_2.csv'"
   ]
  },
  {
   "cell_type": "code",
   "execution_count": 5,
   "metadata": {
    "collapsed": true
   },
   "outputs": [],
   "source": [
    "key_file = 'key_2.csv'"
   ]
  },
  {
   "cell_type": "code",
   "execution_count": 6,
   "metadata": {
    "collapsed": true
   },
   "outputs": [],
   "source": [
    "input_df = pd.read_csv('../data/' + train_file, nrows=1)"
   ]
  },
  {
   "cell_type": "code",
   "execution_count": 7,
   "metadata": {},
   "outputs": [
    {
     "data": {
      "text/html": [
       "<div>\n",
       "<style>\n",
       "    .dataframe thead tr:only-child th {\n",
       "        text-align: right;\n",
       "    }\n",
       "\n",
       "    .dataframe thead th {\n",
       "        text-align: left;\n",
       "    }\n",
       "\n",
       "    .dataframe tbody tr th {\n",
       "        vertical-align: top;\n",
       "    }\n",
       "</style>\n",
       "<table border=\"1\" class=\"dataframe\">\n",
       "  <thead>\n",
       "    <tr style=\"text-align: right;\">\n",
       "      <th></th>\n",
       "      <th>Page</th>\n",
       "      <th>2015-07-01</th>\n",
       "      <th>2015-07-02</th>\n",
       "      <th>2015-07-03</th>\n",
       "      <th>2015-07-04</th>\n",
       "      <th>2015-07-05</th>\n",
       "      <th>2015-07-06</th>\n",
       "      <th>2015-07-07</th>\n",
       "      <th>2015-07-08</th>\n",
       "      <th>2015-07-09</th>\n",
       "      <th>...</th>\n",
       "      <th>2017-08-22</th>\n",
       "      <th>2017-08-23</th>\n",
       "      <th>2017-08-24</th>\n",
       "      <th>2017-08-25</th>\n",
       "      <th>2017-08-26</th>\n",
       "      <th>2017-08-27</th>\n",
       "      <th>2017-08-28</th>\n",
       "      <th>2017-08-29</th>\n",
       "      <th>2017-08-30</th>\n",
       "      <th>2017-08-31</th>\n",
       "    </tr>\n",
       "  </thead>\n",
       "  <tbody>\n",
       "    <tr>\n",
       "      <th>0</th>\n",
       "      <td>2NE1_zh.wikipedia.org_all-access_spider</td>\n",
       "      <td>18</td>\n",
       "      <td>11</td>\n",
       "      <td>5</td>\n",
       "      <td>13</td>\n",
       "      <td>14</td>\n",
       "      <td>9</td>\n",
       "      <td>9</td>\n",
       "      <td>22</td>\n",
       "      <td>26</td>\n",
       "      <td>...</td>\n",
       "      <td>37</td>\n",
       "      <td>58</td>\n",
       "      <td>25</td>\n",
       "      <td>23</td>\n",
       "      <td>25</td>\n",
       "      <td>47</td>\n",
       "      <td>44</td>\n",
       "      <td>26</td>\n",
       "      <td>24</td>\n",
       "      <td>21</td>\n",
       "    </tr>\n",
       "  </tbody>\n",
       "</table>\n",
       "<p>1 rows × 794 columns</p>\n",
       "</div>"
      ],
      "text/plain": [
       "                                      Page  2015-07-01  2015-07-02  \\\n",
       "0  2NE1_zh.wikipedia.org_all-access_spider          18          11   \n",
       "\n",
       "   2015-07-03  2015-07-04  2015-07-05  2015-07-06  2015-07-07  2015-07-08  \\\n",
       "0           5          13          14           9           9          22   \n",
       "\n",
       "   2015-07-09     ...      2017-08-22  2017-08-23  2017-08-24  2017-08-25  \\\n",
       "0          26     ...              37          58          25          23   \n",
       "\n",
       "   2017-08-26  2017-08-27  2017-08-28  2017-08-29  2017-08-30  2017-08-31  \n",
       "0          25          47          44          26          24          21  \n",
       "\n",
       "[1 rows x 794 columns]"
      ]
     },
     "execution_count": 7,
     "metadata": {},
     "output_type": "execute_result"
    }
   ],
   "source": [
    "input_df"
   ]
  },
  {
   "cell_type": "code",
   "execution_count": 8,
   "metadata": {},
   "outputs": [
    {
     "data": {
      "text/plain": [
       "Index(['2015-07-01', '2015-07-02', '2015-07-03', '2015-07-04', '2015-07-05',\n",
       "       '2015-07-06', '2015-07-07', '2015-07-08', '2015-07-09', '2015-07-10',\n",
       "       ...\n",
       "       '2017-08-22', '2017-08-23', '2017-08-24', '2017-08-25', '2017-08-26',\n",
       "       '2017-08-27', '2017-08-28', '2017-08-29', '2017-08-30', '2017-08-31'],\n",
       "      dtype='object', length=793)"
      ]
     },
     "execution_count": 8,
     "metadata": {},
     "output_type": "execute_result"
    }
   ],
   "source": [
    "input_df_dates = input_df.columns[1:]; input_df_dates"
   ]
  },
  {
   "cell_type": "code",
   "execution_count": 9,
   "metadata": {
    "collapsed": true
   },
   "outputs": [],
   "source": [
    "visits_dtype = {d: np.float32 for d in input_df_dates}"
   ]
  },
  {
   "cell_type": "code",
   "execution_count": 10,
   "metadata": {},
   "outputs": [
    {
     "name": "stdout",
     "output_type": "stream",
     "text": [
      "%%% Reading data train_2.csv ... done!\n"
     ]
    }
   ],
   "source": [
    "print('%%% Reading data '+ train_file + ' ... ', end = '', flush = True)\n",
    "input_df = pd.read_csv('../data/' + train_file, engine='c', dtype=visits_dtype)\n",
    "print('done!')"
   ]
  },
  {
   "cell_type": "code",
   "execution_count": 11,
   "metadata": {},
   "outputs": [
    {
     "data": {
      "text/html": [
       "<div>\n",
       "<style>\n",
       "    .dataframe thead tr:only-child th {\n",
       "        text-align: right;\n",
       "    }\n",
       "\n",
       "    .dataframe thead th {\n",
       "        text-align: left;\n",
       "    }\n",
       "\n",
       "    .dataframe tbody tr th {\n",
       "        vertical-align: top;\n",
       "    }\n",
       "</style>\n",
       "<table border=\"1\" class=\"dataframe\">\n",
       "  <thead>\n",
       "    <tr style=\"text-align: right;\">\n",
       "      <th></th>\n",
       "      <th>Page</th>\n",
       "      <th>2015-07-01</th>\n",
       "      <th>2015-07-02</th>\n",
       "      <th>2015-07-03</th>\n",
       "      <th>2015-07-04</th>\n",
       "      <th>2015-07-05</th>\n",
       "      <th>2015-07-06</th>\n",
       "      <th>2015-07-07</th>\n",
       "      <th>2015-07-08</th>\n",
       "      <th>2015-07-09</th>\n",
       "      <th>...</th>\n",
       "      <th>2017-08-22</th>\n",
       "      <th>2017-08-23</th>\n",
       "      <th>2017-08-24</th>\n",
       "      <th>2017-08-25</th>\n",
       "      <th>2017-08-26</th>\n",
       "      <th>2017-08-27</th>\n",
       "      <th>2017-08-28</th>\n",
       "      <th>2017-08-29</th>\n",
       "      <th>2017-08-30</th>\n",
       "      <th>2017-08-31</th>\n",
       "    </tr>\n",
       "  </thead>\n",
       "  <tbody>\n",
       "    <tr>\n",
       "      <th>0</th>\n",
       "      <td>2NE1_zh.wikipedia.org_all-access_spider</td>\n",
       "      <td>18.0</td>\n",
       "      <td>11.0</td>\n",
       "      <td>5.0</td>\n",
       "      <td>13.0</td>\n",
       "      <td>14.0</td>\n",
       "      <td>9.0</td>\n",
       "      <td>9.0</td>\n",
       "      <td>22.0</td>\n",
       "      <td>26.0</td>\n",
       "      <td>...</td>\n",
       "      <td>37.0</td>\n",
       "      <td>58.0</td>\n",
       "      <td>25.0</td>\n",
       "      <td>23.0</td>\n",
       "      <td>25.0</td>\n",
       "      <td>47.0</td>\n",
       "      <td>44.0</td>\n",
       "      <td>26.0</td>\n",
       "      <td>24.0</td>\n",
       "      <td>21.0</td>\n",
       "    </tr>\n",
       "    <tr>\n",
       "      <th>1</th>\n",
       "      <td>2PM_zh.wikipedia.org_all-access_spider</td>\n",
       "      <td>11.0</td>\n",
       "      <td>14.0</td>\n",
       "      <td>15.0</td>\n",
       "      <td>18.0</td>\n",
       "      <td>11.0</td>\n",
       "      <td>13.0</td>\n",
       "      <td>22.0</td>\n",
       "      <td>11.0</td>\n",
       "      <td>10.0</td>\n",
       "      <td>...</td>\n",
       "      <td>14.0</td>\n",
       "      <td>34.0</td>\n",
       "      <td>16.0</td>\n",
       "      <td>31.0</td>\n",
       "      <td>34.0</td>\n",
       "      <td>33.0</td>\n",
       "      <td>32.0</td>\n",
       "      <td>29.0</td>\n",
       "      <td>34.0</td>\n",
       "      <td>25.0</td>\n",
       "    </tr>\n",
       "    <tr>\n",
       "      <th>2</th>\n",
       "      <td>3C_zh.wikipedia.org_all-access_spider</td>\n",
       "      <td>1.0</td>\n",
       "      <td>0.0</td>\n",
       "      <td>1.0</td>\n",
       "      <td>1.0</td>\n",
       "      <td>0.0</td>\n",
       "      <td>4.0</td>\n",
       "      <td>0.0</td>\n",
       "      <td>3.0</td>\n",
       "      <td>4.0</td>\n",
       "      <td>...</td>\n",
       "      <td>6.0</td>\n",
       "      <td>23.0</td>\n",
       "      <td>11.0</td>\n",
       "      <td>8.0</td>\n",
       "      <td>6.0</td>\n",
       "      <td>13.0</td>\n",
       "      <td>12.0</td>\n",
       "      <td>8.0</td>\n",
       "      <td>12.0</td>\n",
       "      <td>9.0</td>\n",
       "    </tr>\n",
       "    <tr>\n",
       "      <th>3</th>\n",
       "      <td>4minute_zh.wikipedia.org_all-access_spider</td>\n",
       "      <td>35.0</td>\n",
       "      <td>13.0</td>\n",
       "      <td>10.0</td>\n",
       "      <td>94.0</td>\n",
       "      <td>4.0</td>\n",
       "      <td>26.0</td>\n",
       "      <td>14.0</td>\n",
       "      <td>9.0</td>\n",
       "      <td>11.0</td>\n",
       "      <td>...</td>\n",
       "      <td>21.0</td>\n",
       "      <td>42.0</td>\n",
       "      <td>23.0</td>\n",
       "      <td>17.0</td>\n",
       "      <td>11.0</td>\n",
       "      <td>21.0</td>\n",
       "      <td>20.0</td>\n",
       "      <td>20.0</td>\n",
       "      <td>110.0</td>\n",
       "      <td>15.0</td>\n",
       "    </tr>\n",
       "    <tr>\n",
       "      <th>4</th>\n",
       "      <td>52_Hz_I_Love_You_zh.wikipedia.org_all-access_s...</td>\n",
       "      <td>NaN</td>\n",
       "      <td>NaN</td>\n",
       "      <td>NaN</td>\n",
       "      <td>NaN</td>\n",
       "      <td>NaN</td>\n",
       "      <td>NaN</td>\n",
       "      <td>NaN</td>\n",
       "      <td>NaN</td>\n",
       "      <td>NaN</td>\n",
       "      <td>...</td>\n",
       "      <td>23.0</td>\n",
       "      <td>41.0</td>\n",
       "      <td>25.0</td>\n",
       "      <td>22.0</td>\n",
       "      <td>20.0</td>\n",
       "      <td>24.0</td>\n",
       "      <td>29.0</td>\n",
       "      <td>20.0</td>\n",
       "      <td>17.0</td>\n",
       "      <td>24.0</td>\n",
       "    </tr>\n",
       "  </tbody>\n",
       "</table>\n",
       "<p>5 rows × 794 columns</p>\n",
       "</div>"
      ],
      "text/plain": [
       "                                                Page  2015-07-01  2015-07-02  \\\n",
       "0            2NE1_zh.wikipedia.org_all-access_spider        18.0        11.0   \n",
       "1             2PM_zh.wikipedia.org_all-access_spider        11.0        14.0   \n",
       "2              3C_zh.wikipedia.org_all-access_spider         1.0         0.0   \n",
       "3         4minute_zh.wikipedia.org_all-access_spider        35.0        13.0   \n",
       "4  52_Hz_I_Love_You_zh.wikipedia.org_all-access_s...         NaN         NaN   \n",
       "\n",
       "   2015-07-03  2015-07-04  2015-07-05  2015-07-06  2015-07-07  2015-07-08  \\\n",
       "0         5.0        13.0        14.0         9.0         9.0        22.0   \n",
       "1        15.0        18.0        11.0        13.0        22.0        11.0   \n",
       "2         1.0         1.0         0.0         4.0         0.0         3.0   \n",
       "3        10.0        94.0         4.0        26.0        14.0         9.0   \n",
       "4         NaN         NaN         NaN         NaN         NaN         NaN   \n",
       "\n",
       "   2015-07-09     ...      2017-08-22  2017-08-23  2017-08-24  2017-08-25  \\\n",
       "0        26.0     ...            37.0        58.0        25.0        23.0   \n",
       "1        10.0     ...            14.0        34.0        16.0        31.0   \n",
       "2         4.0     ...             6.0        23.0        11.0         8.0   \n",
       "3        11.0     ...            21.0        42.0        23.0        17.0   \n",
       "4         NaN     ...            23.0        41.0        25.0        22.0   \n",
       "\n",
       "   2017-08-26  2017-08-27  2017-08-28  2017-08-29  2017-08-30  2017-08-31  \n",
       "0        25.0        47.0        44.0        26.0        24.0        21.0  \n",
       "1        34.0        33.0        32.0        29.0        34.0        25.0  \n",
       "2         6.0        13.0        12.0         8.0        12.0         9.0  \n",
       "3        11.0        21.0        20.0        20.0       110.0        15.0  \n",
       "4        20.0        24.0        29.0        20.0        17.0        24.0  \n",
       "\n",
       "[5 rows x 794 columns]"
      ]
     },
     "execution_count": 11,
     "metadata": {},
     "output_type": "execute_result"
    }
   ],
   "source": [
    "input_df.head()"
   ]
  },
  {
   "cell_type": "code",
   "execution_count": 12,
   "metadata": {},
   "outputs": [
    {
     "name": "stdout",
     "output_type": "stream",
     "text": [
      "<class 'pandas.core.frame.DataFrame'>\n",
      "RangeIndex: 145063 entries, 0 to 145062\n",
      "Columns: 794 entries, Page to 2017-08-31\n",
      "dtypes: float32(793), object(1)\n",
      "memory usage: 439.9+ MB\n"
     ]
    }
   ],
   "source": [
    "input_df.info()"
   ]
  },
  {
   "cell_type": "markdown",
   "metadata": {},
   "source": [
    "## Processing Data\n",
    "Generate training set and test (predict) set"
   ]
  },
  {
   "cell_type": "markdown",
   "metadata": {},
   "source": [
    "### Day of week alignment"
   ]
  },
  {
   "cell_type": "code",
   "execution_count": 13,
   "metadata": {
    "collapsed": true
   },
   "outputs": [],
   "source": [
    "from datetime import datetime\n",
    "def weekday(datestr):\n",
    "    return datetime.strptime(datestr,'%Y-%m-%d').weekday()\n",
    "def daydiff(dstr1,dstr2):\n",
    "    return datetime.strptime(dstr1,'%Y-%m-%d') - datetime.strptime(dstr2,'%Y-%m-%d') "
   ]
  },
  {
   "cell_type": "markdown",
   "metadata": {},
   "source": [
    "We need to predict output (Y_output_pred) start from Sunday (6) for data set 1. (0: Monday, 6: Sunday)"
   ]
  },
  {
   "cell_type": "code",
   "execution_count": 14,
   "metadata": {
    "collapsed": true
   },
   "outputs": [],
   "source": [
    "# We take the x_length + y_length days of data only\n",
    "# This part then split into x_length as input X and y_length as output Y\n",
    "x_length = 63  # input period\n",
    "y_length = 70  # predict period"
   ]
  },
  {
   "cell_type": "code",
   "execution_count": 15,
   "metadata": {
    "collapsed": true
   },
   "outputs": [],
   "source": [
    "#test_length = 0  # for predicting\n",
    "test_length = y_length  # for self testing"
   ]
  },
  {
   "cell_type": "markdown",
   "metadata": {},
   "source": [
    "Shift everything forward by y_length = 63 days to allows self testing without Kaggle"
   ]
  },
  {
   "cell_type": "markdown",
   "metadata": {},
   "source": [
    "#### X"
   ]
  },
  {
   "cell_type": "code",
   "execution_count": 16,
   "metadata": {
    "collapsed": true
   },
   "outputs": [],
   "source": [
    "X_input_dates = input_df_dates[-x_length-test_length-364:-test_length-364]; #X_input_dates"
   ]
  },
  {
   "cell_type": "code",
   "execution_count": 17,
   "metadata": {},
   "outputs": [
    {
     "data": {
      "text/plain": [
       "('2016-04-22', '2016-06-23')"
      ]
     },
     "execution_count": 17,
     "metadata": {},
     "output_type": "execute_result"
    }
   ],
   "source": [
    "X_input_first_day = X_input_dates[0]\n",
    "X_input_final_day = X_input_dates[-1]\n",
    "X_input_first_day, X_input_final_day"
   ]
  },
  {
   "cell_type": "code",
   "execution_count": 18,
   "metadata": {},
   "outputs": [
    {
     "data": {
      "text/plain": [
       "datetime.timedelta(-62)"
      ]
     },
     "execution_count": 18,
     "metadata": {},
     "output_type": "execute_result"
    }
   ],
   "source": [
    "daydiff(X_input_first_day, X_input_final_day)  # should be 1 - y_length"
   ]
  },
  {
   "cell_type": "code",
   "execution_count": 19,
   "metadata": {
    "collapsed": true
   },
   "outputs": [],
   "source": [
    "# X for output set\n",
    "if test_length:\n",
    "    X_output_dates = input_df_dates[-x_length-test_length:-test_length]\n",
    "else:\n",
    "    X_output_dates = input_df_dates[-x_length:]\n",
    "#X_output_dates"
   ]
  },
  {
   "cell_type": "code",
   "execution_count": 20,
   "metadata": {},
   "outputs": [
    {
     "data": {
      "text/plain": [
       "('2017-04-21', '2017-06-22')"
      ]
     },
     "execution_count": 20,
     "metadata": {},
     "output_type": "execute_result"
    }
   ],
   "source": [
    "X_output_first_day = X_output_dates[0]\n",
    "X_output_final_day = X_output_dates[-1]\n",
    "X_output_first_day, X_output_final_day"
   ]
  },
  {
   "cell_type": "code",
   "execution_count": 21,
   "metadata": {},
   "outputs": [
    {
     "data": {
      "text/plain": [
       "datetime.timedelta(-62)"
      ]
     },
     "execution_count": 21,
     "metadata": {},
     "output_type": "execute_result"
    }
   ],
   "source": [
    "daydiff(X_output_first_day, X_output_final_day)  # should be 1 - y_length"
   ]
  },
  {
   "cell_type": "code",
   "execution_count": 22,
   "metadata": {},
   "outputs": [
    {
     "data": {
      "text/plain": [
       "(4, 4)"
      ]
     },
     "execution_count": 22,
     "metadata": {},
     "output_type": "execute_result"
    }
   ],
   "source": [
    "weekday(X_input_first_day), weekday(X_output_first_day)"
   ]
  },
  {
   "cell_type": "markdown",
   "metadata": {},
   "source": [
    "Should be the same"
   ]
  },
  {
   "cell_type": "markdown",
   "metadata": {},
   "source": [
    "#### Y"
   ]
  },
  {
   "cell_type": "code",
   "execution_count": 23,
   "metadata": {
    "collapsed": true
   },
   "outputs": [],
   "source": [
    "Y_input_dates = input_df_dates[-test_length-364:-test_length-364+y_length]; #Y_input_dates"
   ]
  },
  {
   "cell_type": "code",
   "execution_count": 24,
   "metadata": {},
   "outputs": [
    {
     "data": {
      "text/plain": [
       "('2016-06-24', '2016-09-01')"
      ]
     },
     "execution_count": 24,
     "metadata": {},
     "output_type": "execute_result"
    }
   ],
   "source": [
    "Y_input_first_day = Y_input_dates[0]\n",
    "Y_input_final_day = Y_input_dates[-1]\n",
    "Y_input_first_day, Y_input_final_day"
   ]
  },
  {
   "cell_type": "code",
   "execution_count": 25,
   "metadata": {},
   "outputs": [
    {
     "data": {
      "text/plain": [
       "datetime.timedelta(-69)"
      ]
     },
     "execution_count": 25,
     "metadata": {},
     "output_type": "execute_result"
    }
   ],
   "source": [
    "daydiff(Y_input_first_day, Y_input_final_day)"
   ]
  },
  {
   "cell_type": "code",
   "execution_count": 26,
   "metadata": {
    "collapsed": true
   },
   "outputs": [],
   "source": [
    "# Y for output set\n",
    "if test_length:\n",
    "    Y_output_dates = input_df_dates[-test_length:]\n",
    "else:\n",
    "    Y_output_first_day = '2017-09-12'  ## Make sure it is correct when predicting !!!!!!!\n",
    "    Y_output_dates = pd.Index(np.arange(np.datetime64(Y_output_first_day), \n",
    "                                        np.datetime64(Y_output_first_day)\n",
    "                                        + np.timedelta64(y_length, 'D')).astype('str'))\n",
    "#Y_output_dates"
   ]
  },
  {
   "cell_type": "code",
   "execution_count": 27,
   "metadata": {
    "scrolled": true
   },
   "outputs": [
    {
     "data": {
      "text/plain": [
       "('2017-06-23', '2017-08-31')"
      ]
     },
     "execution_count": 27,
     "metadata": {},
     "output_type": "execute_result"
    }
   ],
   "source": [
    "Y_output_first_day = Y_output_dates[0]\n",
    "Y_output_final_day = Y_output_dates[-1]\n",
    "Y_output_first_day, Y_output_final_day"
   ]
  },
  {
   "cell_type": "code",
   "execution_count": 28,
   "metadata": {},
   "outputs": [
    {
     "data": {
      "text/plain": [
       "datetime.timedelta(-69)"
      ]
     },
     "execution_count": 28,
     "metadata": {},
     "output_type": "execute_result"
    }
   ],
   "source": [
    "daydiff(Y_output_first_day, Y_output_final_day)  # should be 1 - y_length"
   ]
  },
  {
   "cell_type": "code",
   "execution_count": 29,
   "metadata": {},
   "outputs": [
    {
     "data": {
      "text/plain": [
       "(4, 4)"
      ]
     },
     "execution_count": 29,
     "metadata": {},
     "output_type": "execute_result"
    }
   ],
   "source": [
    "weekday(Y_input_first_day), weekday(Y_output_first_day)"
   ]
  },
  {
   "cell_type": "markdown",
   "metadata": {},
   "source": [
    "Should be the same"
   ]
  },
  {
   "cell_type": "markdown",
   "metadata": {},
   "source": [
    "## Fibonacci"
   ]
  },
  {
   "cell_type": "markdown",
   "metadata": {},
   "source": [
    "#### Window Sizes"
   ]
  },
  {
   "cell_type": "markdown",
   "metadata": {},
   "source": [
    "The window sizes are given by Ehsan https://www.kaggle.com/safavieh"
   ]
  },
  {
   "cell_type": "code",
   "execution_count": 30,
   "metadata": {
    "collapsed": true
   },
   "outputs": [],
   "source": [
    "windows = [11, 18, 30, 48, 78, 126, 203, 329]\n",
    "fib_length = max(windows)#; fib_length"
   ]
  },
  {
   "cell_type": "markdown",
   "metadata": {},
   "source": [
    "#### Data selection"
   ]
  },
  {
   "cell_type": "markdown",
   "metadata": {},
   "source": [
    "In this testing code, we did not include the last y_length days since in the real predicting stage, we don't know their visits."
   ]
  },
  {
   "cell_type": "code",
   "execution_count": 31,
   "metadata": {},
   "outputs": [
    {
     "data": {
      "text/plain": [
       "(Index(['2015-07-31', '2015-08-01', '2015-08-02', '2015-08-03', '2015-08-04',\n",
       "        '2015-08-05', '2015-08-06', '2015-08-07', '2015-08-08', '2015-08-09',\n",
       "        ...\n",
       "        '2016-06-14', '2016-06-15', '2016-06-16', '2016-06-17', '2016-06-18',\n",
       "        '2016-06-19', '2016-06-20', '2016-06-21', '2016-06-22', '2016-06-23'],\n",
       "       dtype='object', length=329),\n",
       " Index(['2016-07-29', '2016-07-30', '2016-07-31', '2016-08-01', '2016-08-02',\n",
       "        '2016-08-03', '2016-08-04', '2016-08-05', '2016-08-06', '2016-08-07',\n",
       "        ...\n",
       "        '2017-06-13', '2017-06-14', '2017-06-15', '2017-06-16', '2017-06-17',\n",
       "        '2017-06-18', '2017-06-19', '2017-06-20', '2017-06-21', '2017-06-22'],\n",
       "       dtype='object', length=329))"
      ]
     },
     "execution_count": 31,
     "metadata": {},
     "output_type": "execute_result"
    }
   ],
   "source": [
    "if test_length:\n",
    "    fib_output_dates = input_df_dates[-fib_length-test_length:-test_length]\n",
    "else:\n",
    "    fib_output_dates = input_df_dates[-fib_length:]\n",
    "fib_input_dates = input_df_dates[-fib_length-test_length-364:-test_length-364]\n",
    "fib_input_dates, fib_output_dates"
   ]
  },
  {
   "cell_type": "code",
   "execution_count": 32,
   "metadata": {},
   "outputs": [
    {
     "data": {
      "text/plain": [
       "(4, 4)"
      ]
     },
     "execution_count": 32,
     "metadata": {},
     "output_type": "execute_result"
    }
   ],
   "source": [
    "weekday(fib_input_dates[0]), weekday(fib_output_dates[0])"
   ]
  },
  {
   "cell_type": "code",
   "execution_count": 33,
   "metadata": {
    "collapsed": true
   },
   "outputs": [],
   "source": [
    "fib_output_data = input_df[fib_output_dates].values; #fib_output_data"
   ]
  },
  {
   "cell_type": "code",
   "execution_count": 34,
   "metadata": {
    "collapsed": true
   },
   "outputs": [],
   "source": [
    "fib_input_data = input_df[fib_input_dates].values; #fib_input_data"
   ]
  },
  {
   "cell_type": "markdown",
   "metadata": {},
   "source": [
    "#### Fibonacci median in each window"
   ]
  },
  {
   "cell_type": "code",
   "execution_count": 35,
   "metadata": {},
   "outputs": [
    {
     "name": "stderr",
     "output_type": "stream",
     "text": [
      "c:\\python36\\lib\\site-packages\\numpy\\lib\\function_base.py:3858: RuntimeWarning: All-NaN slice encountered\n",
      "  r = func(a, **kwargs)\n"
     ]
    }
   ],
   "source": [
    "fib_input_median_list = np.array([np.nanmedian(fib_input_data[:, -w:] , axis=-1) \n",
    "                            for w in windows])"
   ]
  },
  {
   "cell_type": "code",
   "execution_count": 36,
   "metadata": {},
   "outputs": [
    {
     "name": "stderr",
     "output_type": "stream",
     "text": [
      "c:\\python36\\lib\\site-packages\\numpy\\lib\\function_base.py:3858: RuntimeWarning: All-NaN slice encountered\n",
      "  r = func(a, **kwargs)\n"
     ]
    }
   ],
   "source": [
    "fib_output_median_list = np.array([np.nanmedian(fib_output_data[:, -w:] , axis=-1) \n",
    "                            for w in windows])"
   ]
  },
  {
   "cell_type": "markdown",
   "metadata": {},
   "source": [
    "fib_input_median_list.T.shape"
   ]
  },
  {
   "cell_type": "markdown",
   "metadata": {},
   "source": [
    "fib_output_median_na = np.nanmedian(fib_output_median_list.T, axis=-1)"
   ]
  },
  {
   "cell_type": "markdown",
   "metadata": {},
   "source": [
    "fib_output_median_na"
   ]
  },
  {
   "cell_type": "code",
   "execution_count": 37,
   "metadata": {},
   "outputs": [
    {
     "name": "stderr",
     "output_type": "stream",
     "text": [
      "c:\\python36\\lib\\site-packages\\numpy\\lib\\function_base.py:3858: RuntimeWarning: All-NaN slice encountered\n",
      "  r = func(a, **kwargs)\n"
     ]
    },
    {
     "data": {
      "text/plain": [
       "(145063,)"
      ]
     },
     "execution_count": 37,
     "metadata": {},
     "output_type": "execute_result"
    }
   ],
   "source": [
    "fib_input_median = np.nan_to_num(np.nanmedian(fib_input_median_list.T, axis=-1)); fib_input_median.shape"
   ]
  },
  {
   "cell_type": "code",
   "execution_count": 38,
   "metadata": {
    "scrolled": true
   },
   "outputs": [
    {
     "name": "stderr",
     "output_type": "stream",
     "text": [
      "c:\\python36\\lib\\site-packages\\numpy\\lib\\function_base.py:3858: RuntimeWarning: All-NaN slice encountered\n",
      "  r = func(a, **kwargs)\n"
     ]
    },
    {
     "data": {
      "text/plain": [
       "(145063,)"
      ]
     },
     "execution_count": 38,
     "metadata": {},
     "output_type": "execute_result"
    }
   ],
   "source": [
    "fib_output_median = np.nan_to_num(np.nanmedian(fib_output_median_list.T, axis=-1)); fib_output_median.shape"
   ]
  },
  {
   "cell_type": "markdown",
   "metadata": {},
   "source": [
    "fib_input_median"
   ]
  },
  {
   "cell_type": "markdown",
   "metadata": {
    "scrolled": true
   },
   "source": [
    "fib_output_median"
   ]
  },
  {
   "cell_type": "code",
   "execution_count": 39,
   "metadata": {},
   "outputs": [
    {
     "data": {
      "text/plain": [
       "0"
      ]
     },
     "execution_count": 39,
     "metadata": {},
     "output_type": "execute_result"
    }
   ],
   "source": [
    "del fib_output_data\n",
    "del fib_input_data\n",
    "del fib_output_median_list\n",
    "del fib_input_median_list\n",
    "gc.collect()"
   ]
  },
  {
   "cell_type": "markdown",
   "metadata": {},
   "source": [
    "We will use this as the center and part of the result"
   ]
  },
  {
   "cell_type": "code",
   "execution_count": 40,
   "metadata": {
    "collapsed": true
   },
   "outputs": [],
   "source": [
    "Y_input_fib = fib_input_median.reshape(-1,1)\n",
    "Y_output_fib = fib_output_median.reshape(-1,1)"
   ]
  },
  {
   "cell_type": "markdown",
   "metadata": {},
   "source": [
    "## Data Selection\n",
    "Select x_length + y_length days of data as input or ouput set."
   ]
  },
  {
   "cell_type": "markdown",
   "metadata": {},
   "source": [
    "### Input and Output data"
   ]
  },
  {
   "cell_type": "code",
   "execution_count": 41,
   "metadata": {
    "collapsed": true
   },
   "outputs": [],
   "source": [
    "X_input_raw = input_df[X_input_dates].values\n",
    "Y_input_raw = input_df[Y_input_dates].values\n",
    "X_output_raw = input_df[X_output_dates].values\n",
    "if test_length:\n",
    "    Y_output_raw = input_df[Y_output_dates].values"
   ]
  },
  {
   "cell_type": "markdown",
   "metadata": {},
   "source": [
    "##### Convert nan to number 0."
   ]
  },
  {
   "cell_type": "code",
   "execution_count": 42,
   "metadata": {
    "collapsed": true
   },
   "outputs": [],
   "source": [
    "X_input_num = np.nan_to_num(X_input_raw)\n",
    "Y_input_num = np.nan_to_num(Y_input_raw)\n",
    "X_output_num = np.nan_to_num(X_output_raw)\n",
    "if test_length:\n",
    "    Y_output_num = np.nan_to_num(Y_output_raw)"
   ]
  },
  {
   "cell_type": "markdown",
   "metadata": {},
   "source": [
    "## Transform Data"
   ]
  },
  {
   "cell_type": "markdown",
   "metadata": {},
   "source": [
    "### Log"
   ]
  },
  {
   "cell_type": "code",
   "execution_count": 43,
   "metadata": {
    "collapsed": true
   },
   "outputs": [],
   "source": [
    "def log(X):\n",
    "    return np.log10(X + 1.0)\n",
    "def unlog(X):\n",
    "    return np.clip(np.power(10., X) - 1.0, 0.0, None)"
   ]
  },
  {
   "cell_type": "code",
   "execution_count": 44,
   "metadata": {
    "collapsed": true
   },
   "outputs": [],
   "source": [
    "X_input_raw_log = log(X_input_raw)  # Contain nan\n",
    "Y_input_raw_log = log(Y_input_raw)\n",
    "X_output_raw_log = log(X_output_raw)\n",
    "if test_length:\n",
    "    Y_output_raw_log = log(Y_output_raw)"
   ]
  },
  {
   "cell_type": "code",
   "execution_count": 45,
   "metadata": {
    "collapsed": true
   },
   "outputs": [],
   "source": [
    "X_input_log = log(X_input_num)  # Do not contain nan\n",
    "Y_input_log = log(Y_input_num)\n",
    "X_output_log = log(X_output_num)\n",
    "if test_length:\n",
    "    Y_output_log = log(Y_output_num)"
   ]
  },
  {
   "cell_type": "code",
   "execution_count": 46,
   "metadata": {},
   "outputs": [
    {
     "data": {
      "text/plain": [
       "array([[ 0.84509802,  1.50514996,  1.25527251, ...,  1.43136382,\n",
       "         1.36172783,  0.95424253],\n",
       "       [ 1.25527251,  1.25527251,  1.62324929, ...,  1.27875364,\n",
       "         1.41497338,  1.14612806],\n",
       "       [ 0.69897002,  0.84509802,  0.77815127, ...,  0.84509802,\n",
       "         0.30103001,  0.69897002],\n",
       "       ..., \n",
       "       [ 0.        ,  0.        ,  0.        , ...,  0.        ,\n",
       "         0.        ,  0.        ],\n",
       "       [ 0.        ,  0.        ,  0.        , ...,  0.        ,\n",
       "         0.        ,  0.        ],\n",
       "       [ 0.        ,  0.        ,  0.        , ...,  0.        ,\n",
       "         0.        ,  0.        ]], dtype=float32)"
      ]
     },
     "execution_count": 46,
     "metadata": {},
     "output_type": "execute_result"
    }
   ],
   "source": [
    "X_input_log"
   ]
  },
  {
   "cell_type": "markdown",
   "metadata": {
    "collapsed": true
   },
   "source": [
    "input_data_log = log(input_data_num)\n",
    "output_data_log = log(output_data_num)"
   ]
  },
  {
   "cell_type": "markdown",
   "metadata": {
    "collapsed": true
   },
   "source": [
    "Z_input_data_log = log(Z_input_data_num)"
   ]
  },
  {
   "cell_type": "markdown",
   "metadata": {},
   "source": [
    "##### Check Log transformation"
   ]
  },
  {
   "cell_type": "code",
   "execution_count": 47,
   "metadata": {},
   "outputs": [
    {
     "name": "stdout",
     "output_type": "stream",
     "text": [
      "(145063, 63) (145063, 70) (145063, 63)\n",
      "(145063, 70)\n"
     ]
    }
   ],
   "source": [
    "print(X_input_log.shape, Y_input_log.shape, X_output_log.shape)\n",
    "if test_length: print(Y_output_log.shape)"
   ]
  },
  {
   "cell_type": "code",
   "execution_count": 48,
   "metadata": {},
   "outputs": [
    {
     "name": "stdout",
     "output_type": "stream",
     "text": [
      "shape, min, max, median, stdev\n",
      "(145063, 63) 0.0 7.36145 2.10721 1.05957\n",
      "(145063, 70) 0.0 7.82778 2.11059 1.02761\n",
      "(145063, 63) 0.0 7.39148 2.10037 0.964018\n",
      "shape, min, max, median, stdev\n",
      "(145063, 70) 0.0 7.27115 2.0569 0.962737\n"
     ]
    }
   ],
   "source": [
    "arr_info((X_input_log, Y_input_log, X_output_log))\n",
    "if test_length: arr_info([Y_output_log])"
   ]
  },
  {
   "cell_type": "code",
   "execution_count": 49,
   "metadata": {},
   "outputs": [
    {
     "data": {
      "text/plain": [
       "(-12.0, 10.0, 0.0, 0.020558469)"
      ]
     },
     "execution_count": 49,
     "metadata": {},
     "output_type": "execute_result"
    }
   ],
   "source": [
    "#Check inverse log transformation\n",
    "X_input_log_tt = unlog(X_input_log)\n",
    "X_input_log_tt_dif = X_input_log_tt - X_input_num\n",
    "X_input_log_tt_dif.min(), X_input_log_tt_dif.max(), np.median(X_input_log_tt_dif), np.std(X_input_log_tt_dif)"
   ]
  },
  {
   "cell_type": "code",
   "execution_count": 50,
   "metadata": {},
   "outputs": [
    {
     "data": {
      "text/plain": [
       "(-12.0, 14.0, 0.0, 0.02074391)"
      ]
     },
     "execution_count": 50,
     "metadata": {},
     "output_type": "execute_result"
    }
   ],
   "source": [
    "X_output_log_tt = unlog(X_output_log)\n",
    "X_output_log_tt_dif = X_output_log_tt - X_output_num\n",
    "X_output_log_tt_dif.min(), X_output_log_tt_dif.max(), np.median(X_output_log_tt_dif), np.std(X_output_log_tt_dif)"
   ]
  },
  {
   "cell_type": "code",
   "execution_count": 51,
   "metadata": {},
   "outputs": [
    {
     "data": {
      "text/plain": [
       "(-28.0, 32.0, 0.0, 0.044398136)"
      ]
     },
     "execution_count": 51,
     "metadata": {},
     "output_type": "execute_result"
    }
   ],
   "source": [
    "Y_input_log_tt = unlog(Y_input_log)\n",
    "Y_input_log_tt_dif = Y_input_log_tt - Y_input_num\n",
    "Y_input_log_tt_dif.min(), Y_input_log_tt_dif.max(), np.median(Y_input_log_tt_dif), np.std(Y_input_log_tt_dif)"
   ]
  },
  {
   "cell_type": "code",
   "execution_count": 52,
   "metadata": {},
   "outputs": [
    {
     "data": {
      "text/plain": [
       "(-12.0, 9.0, 0.0, 0.017370781)"
      ]
     },
     "execution_count": 52,
     "metadata": {},
     "output_type": "execute_result"
    }
   ],
   "source": [
    "Y_output_log_tt = unlog(Y_output_log)\n",
    "Y_output_log_tt_dif = Y_output_log_tt - Y_output_num\n",
    "Y_output_log_tt_dif.min(), Y_output_log_tt_dif.max(), np.median(Y_output_log_tt_dif), np.std(Y_output_log_tt_dif)"
   ]
  },
  {
   "cell_type": "code",
   "execution_count": 53,
   "metadata": {},
   "outputs": [
    {
     "data": {
      "text/plain": [
       "119"
      ]
     },
     "execution_count": 53,
     "metadata": {},
     "output_type": "execute_result"
    }
   ],
   "source": [
    "del X_input_log_tt; del X_input_log_tt_dif\n",
    "del X_output_log_tt; del X_output_log_tt_dif\n",
    "del Y_input_log_tt; del Y_input_log_tt_dif\n",
    "del Y_output_log_tt; del Y_output_log_tt_dif\n",
    "gc.collect()"
   ]
  },
  {
   "cell_type": "markdown",
   "metadata": {},
   "source": [
    "There is some error (~10) due to float32 when unlog (exp) it. However, for those cases, the original number is about 10^7 so the relative error is still very small."
   ]
  },
  {
   "cell_type": "markdown",
   "metadata": {},
   "source": [
    "### Normalization (Center and Scale)"
   ]
  },
  {
   "cell_type": "markdown",
   "metadata": {},
   "source": [
    "#### Center"
   ]
  },
  {
   "cell_type": "code",
   "execution_count": 54,
   "metadata": {
    "collapsed": true
   },
   "outputs": [],
   "source": [
    "output_center = log(fib_output_median).reshape(-1,1) # Fib. median as the center\n",
    "#input_center = log(fib_input_median).reshape(-1,1)\n",
    "input_center = output_center  # using output_center instead"
   ]
  },
  {
   "cell_type": "code",
   "execution_count": 55,
   "metadata": {
    "collapsed": true
   },
   "outputs": [],
   "source": [
    "X_input_center = input_center\n",
    "Y_input_center = input_center\n",
    "X_output_center = output_center\n",
    "Y_output_center = output_center"
   ]
  },
  {
   "cell_type": "code",
   "execution_count": 56,
   "metadata": {},
   "outputs": [
    {
     "data": {
      "text/plain": [
       "(145063, 1)"
      ]
     },
     "execution_count": 56,
     "metadata": {},
     "output_type": "execute_result"
    }
   ],
   "source": [
    "output_center.shape"
   ]
  },
  {
   "cell_type": "code",
   "execution_count": 57,
   "metadata": {},
   "outputs": [
    {
     "data": {
      "text/plain": [
       "(array([[ 1.38471174],\n",
       "        [ 1.36172783],\n",
       "        [ 0.60206002],\n",
       "        ..., \n",
       "        [ 1.50852966],\n",
       "        [ 0.9777236 ],\n",
       "        [ 1.16879201]], dtype=float32), array([[ 1.38471174],\n",
       "        [ 1.36172783],\n",
       "        [ 0.60206002],\n",
       "        ..., \n",
       "        [ 1.50852966],\n",
       "        [ 0.9777236 ],\n",
       "        [ 1.16879201]], dtype=float32))"
      ]
     },
     "execution_count": 57,
     "metadata": {},
     "output_type": "execute_result"
    }
   ],
   "source": [
    "input_center, output_center"
   ]
  },
  {
   "cell_type": "markdown",
   "metadata": {},
   "source": [
    "plt.scatter(X_input_center.reshape(-1),Y_input_center.reshape(-1))\n",
    "plt.show()"
   ]
  },
  {
   "cell_type": "markdown",
   "metadata": {
    "collapsed": true
   },
   "source": [
    "Z_input_center = np.median(Z_input_data_log, axis=-1).reshape(-1,1)"
   ]
  },
  {
   "cell_type": "markdown",
   "metadata": {},
   "source": [
    "Z_input_center.shape"
   ]
  },
  {
   "cell_type": "markdown",
   "metadata": {},
   "source": [
    "#Use Regular Median as the Center for X\n",
    "#Choice 1: Not including nan\n",
    "X_input_center = np.nan_to_num(np.nanmedian(X_input_log, axis=-1)).reshape(-1,1)\n",
    "X_output_center = np.nan_to_num(np.nanmedian(X_output_log, axis=-1)).reshape(-1,1)\n",
    "\n",
    "#Choice 2: Including nan\n",
    "#X_input_center = np.median(np.nan_to_num(X_input_log), axis=-1).reshape(-1,1)\n",
    "#X_output_center = np.median(np.nan_to_num(X_output_log), axis=-1).reshape(-1,1)"
   ]
  },
  {
   "cell_type": "markdown",
   "metadata": {},
   "source": [
    "Y_input_center = np.nanmedian(input_data_log[:,:x_length], axis=-1).reshape(-1,1)\n",
    "Y_input_center  # remember sample-wised center\n",
    "\n",
    "Y_output_center = np.nanmedian(output_data_log[:,:x_length], axis=-1).reshape(-1,1)\n",
    "Y_output_center  # remember sample-wised center"
   ]
  },
  {
   "cell_type": "markdown",
   "metadata": {},
   "source": [
    "#### Choice of default scale"
   ]
  },
  {
   "cell_type": "code",
   "execution_count": 58,
   "metadata": {
    "scrolled": true
   },
   "outputs": [
    {
     "name": "stderr",
     "output_type": "stream",
     "text": [
      "c:\\python36\\lib\\site-packages\\numpy\\lib\\nanfunctions.py:1423: RuntimeWarning: Degrees of freedom <= 0 for slice.\n",
      "  keepdims=keepdims)\n"
     ]
    },
    {
     "data": {
      "text/plain": [
       "0.17827976"
      ]
     },
     "execution_count": 58,
     "metadata": {},
     "output_type": "execute_result"
    }
   ],
   "source": [
    "default_input_scale = np.nanmedian(np.nanstd(X_input_raw_log, axis=-1))  # Do not include nan\n",
    "default_input_scale"
   ]
  },
  {
   "cell_type": "code",
   "execution_count": 59,
   "metadata": {
    "scrolled": true
   },
   "outputs": [
    {
     "name": "stderr",
     "output_type": "stream",
     "text": [
      "c:\\python36\\lib\\site-packages\\numpy\\lib\\nanfunctions.py:1423: RuntimeWarning: Degrees of freedom <= 0 for slice.\n",
      "  keepdims=keepdims)\n"
     ]
    },
    {
     "data": {
      "text/plain": [
       "0.16574678"
      ]
     },
     "execution_count": 59,
     "metadata": {},
     "output_type": "execute_result"
    }
   ],
   "source": [
    "default_output_scale = np.nanmedian(np.nanstd(X_output_raw_log, axis=-1))  # Do not include nan\n",
    "default_output_scale"
   ]
  },
  {
   "cell_type": "code",
   "execution_count": 60,
   "metadata": {},
   "outputs": [
    {
     "data": {
      "text/plain": [
       "0.17201327"
      ]
     },
     "execution_count": 60,
     "metadata": {},
     "output_type": "execute_result"
    }
   ],
   "source": [
    "default_scale = np.mean([default_input_scale, default_output_scale]); default_scale"
   ]
  },
  {
   "cell_type": "markdown",
   "metadata": {},
   "source": [
    "#### Scale"
   ]
  },
  {
   "cell_type": "code",
   "execution_count": 61,
   "metadata": {
    "collapsed": true,
    "scrolled": true
   },
   "outputs": [],
   "source": [
    "#Choice 1: Treat nan as 0\n",
    "input_scale = np.std(X_input_log, axis=-1).reshape(-1,1)\n",
    "output_scale = np.std(X_output_log, axis=-1).reshape(-1,1)\n",
    "\n",
    "#Choice 2: Not including nan\n",
    "#input_scale = np.nan_to_num(np.nanstd(X_input_raw_log, axis=-1)).reshape(-1,1)\n",
    "#output_scale = np.nan_to_num(np.nanstd(X_output_raw_log, axis=-1)).reshape(-1,1)\n",
    "\n",
    "input_scale[input_scale == 0.0] = default_scale  # Prevent divid by zero \n",
    "output_scale[output_scale == 0.0] = default_scale  # Prevent divid by zero "
   ]
  },
  {
   "cell_type": "code",
   "execution_count": 62,
   "metadata": {
    "collapsed": true
   },
   "outputs": [],
   "source": [
    "X_input_scale = input_scale\n",
    "Y_input_scale = input_scale\n",
    "X_output_scale = output_scale\n",
    "Y_output_scale = output_scale"
   ]
  },
  {
   "cell_type": "code",
   "execution_count": 63,
   "metadata": {
    "scrolled": true
   },
   "outputs": [
    {
     "data": {
      "text/plain": [
       "array([[ 0.21925032],\n",
       "       [ 0.21705157],\n",
       "       [ 0.2288945 ],\n",
       "       ..., \n",
       "       [ 0.17201327],\n",
       "       [ 0.17201327],\n",
       "       [ 0.17201327]], dtype=float32)"
      ]
     },
     "execution_count": 63,
     "metadata": {},
     "output_type": "execute_result"
    }
   ],
   "source": [
    "input_scale"
   ]
  },
  {
   "cell_type": "code",
   "execution_count": 64,
   "metadata": {
    "scrolled": true
   },
   "outputs": [
    {
     "data": {
      "text/plain": [
       "array([[ 0.17017005],\n",
       "       [ 0.18036954],\n",
       "       [ 0.30635408],\n",
       "       ..., \n",
       "       [ 0.30519921],\n",
       "       [ 0.29993713],\n",
       "       [ 0.41581747]], dtype=float32)"
      ]
     },
     "execution_count": 64,
     "metadata": {},
     "output_type": "execute_result"
    }
   ],
   "source": [
    "output_scale"
   ]
  },
  {
   "cell_type": "markdown",
   "metadata": {},
   "source": [
    "Z_input_scale = np.std(Z_input_data_log, axis=-1).reshape(-1,1)\n",
    "Z_input_scale[Z_input_scale == 0.0] = default_input_scale  # Prevent divid by zero\n",
    "Z_input_scale  # remember sample-wised scale"
   ]
  },
  {
   "cell_type": "markdown",
   "metadata": {},
   "source": [
    "##### Check zero in scale"
   ]
  },
  {
   "cell_type": "markdown",
   "metadata": {},
   "source": [
    "#Check if there is any 0. in input_scale\n",
    "input_scale[input_scale == 0.]"
   ]
  },
  {
   "cell_type": "markdown",
   "metadata": {},
   "source": [
    "#Check if there is any 0. in output_scale\n",
    "output_scale[output_scale == 0.]"
   ]
  },
  {
   "cell_type": "markdown",
   "metadata": {},
   "source": [
    "#### Shift by Center and Scale by Scale"
   ]
  },
  {
   "cell_type": "code",
   "execution_count": 65,
   "metadata": {
    "collapsed": true
   },
   "outputs": [],
   "source": [
    "def transform(data_ori, center, scale):\n",
    "    return (data_ori - center) / scale\n",
    "def untransform(data, center, scale):\n",
    "    return data * scale + center"
   ]
  },
  {
   "cell_type": "code",
   "execution_count": 66,
   "metadata": {
    "collapsed": true
   },
   "outputs": [],
   "source": [
    "# Normalize after nan->0\n",
    "X_input = transform(X_input_log, X_input_center, X_input_scale)\n",
    "X_output = transform(X_output_log, X_output_center, X_output_scale)\n",
    "Y_input = transform(Y_input_log, Y_input_center, Y_input_scale)\n",
    "if test_length:\n",
    "    Y_output = transform(Y_output_log, Y_output_center, Y_output_scale)    \n",
    "\n",
    "# Another choice: Normalize before nan->0\n",
    "#X_input = np.nan_to_num(transform(X_input_raw_log, X_input_center, input_scale))\n",
    "#X_output = np.nan_to_num(transform(X_output_raw_log, X_output_center, output_scale))\n",
    "#Y_input = np.nan_to_num(transform(Y_input_raw_log, Y_input_center, input_scale))\n",
    "#if test_length:\n",
    "#    Y_output = np.nan_to_num(transform(Y_output_raw_log, Y_output_center, output_scale))"
   ]
  },
  {
   "cell_type": "markdown",
   "metadata": {},
   "source": [
    "Note:\n",
    "\n",
    "* If we take nan_to_num before transform, we make sure the nan got transformed into 0 but not the center.\n",
    "* If we take nan_to_num after transform, nan trun into the center but not 0 of the original data."
   ]
  },
  {
   "cell_type": "markdown",
   "metadata": {},
   "source": [
    "examine(Y_input)"
   ]
  },
  {
   "cell_type": "markdown",
   "metadata": {
    "collapsed": true
   },
   "source": [
    "input_data_norm = transform(input_data_log, Y_input_center, input_scale)\n",
    "output_data_norm = transform(output_data_log, Y_output_center, output_scale)"
   ]
  },
  {
   "cell_type": "markdown",
   "metadata": {},
   "source": [
    "Z_input = transform(Z_input_data_log, Z_input_center, Z_input_scale)"
   ]
  },
  {
   "cell_type": "markdown",
   "metadata": {},
   "source": [
    "##### Check median and stdev transformations"
   ]
  },
  {
   "cell_type": "code",
   "execution_count": 67,
   "metadata": {
    "collapsed": true
   },
   "outputs": [],
   "source": [
    "def check_nan(X):\n",
    "    return [x for x in X if np.isnan(x).any()]"
   ]
  },
  {
   "cell_type": "markdown",
   "metadata": {},
   "source": [
    "check_nan(X_input)  # Check if there is any nan in the input_data"
   ]
  },
  {
   "cell_type": "markdown",
   "metadata": {},
   "source": [
    "#Check inverse scale transformation\n",
    "X_input_unnorm = untransform(X_input, X_input_center, X_input_scale)\n",
    "X_input_unnorm_dif = X_input_unnorm - X_input_log\n",
    "X_input_unnorm_dif.min(), X_input_unnorm_dif.max()"
   ]
  },
  {
   "cell_type": "markdown",
   "metadata": {},
   "source": [
    "#Check inverse scale transformation\n",
    "Y_input_unnorm = untransform(Y_input, Y_input_center, Y_input_scale)\n",
    "Y_input_unnorm_dif = Y_input_unnorm - Y_input_log\n",
    "Y_input_unnorm_dif.min(), Y_input_unnorm_dif.max()"
   ]
  },
  {
   "cell_type": "markdown",
   "metadata": {},
   "source": [
    "#Check inverse scale transformation\n",
    "X_output_unnorm = untransform(X_output, X_output_center, X_output_scale)\n",
    "X_output_unnorm_dif = X_output_unnorm - X_output_log\n",
    "X_output_unnorm_dif.min(), X_output_unnorm_dif.max()"
   ]
  },
  {
   "cell_type": "markdown",
   "metadata": {},
   "source": [
    "#Check inverse scale transformation\n",
    "Y_output_unnorm = untransform(Y_output, Y_output_center, Y_output_scale)\n",
    "Y_output_unnorm_dif = Y_output_unnorm - Y_output_log\n",
    "Y_output_unnorm_dif.min(), Y_output_unnorm_dif.max()"
   ]
  },
  {
   "cell_type": "markdown",
   "metadata": {
    "scrolled": true
   },
   "source": [
    "del X_input_unnorm; del X_input_unnorm_dif\n",
    "del Y_input_unnorm; del Y_input_unnorm_dif\n",
    "del X_output_unnorm; del X_output_unnorm_dif\n",
    "del Y_output_unnorm; del Y_output_unnorm_dif\n",
    "gc.collect()"
   ]
  },
  {
   "cell_type": "markdown",
   "metadata": {},
   "source": [
    "## Center (Median) and Scale (Stdev) Investigation"
   ]
  },
  {
   "cell_type": "markdown",
   "metadata": {},
   "source": [
    "### Center"
   ]
  },
  {
   "cell_type": "markdown",
   "metadata": {},
   "source": [
    "plt.hist(Y_input_center, bins=40, alpha=0.5, label='input')\n",
    "plt.hist(Y_output_center, bins=40, alpha=0.5, label='output')\n",
    "plt.hist(X_input_center, bins=40, alpha=0.5, label='input')\n",
    "plt.hist(X_output_center, bins=40, alpha=0.5, label='output')\n",
    "#plt.hist(Z_input_center, bins=40, alpha=0.5, label='Z_input')\n",
    "plt.legend()\n",
    "plt.show()"
   ]
  },
  {
   "cell_type": "markdown",
   "metadata": {},
   "source": [
    "plt.hist(Y_input_center, bins=40, alpha=0.7, label='input')\n",
    "plt.hist(Y_output_center, bins=40, alpha=0.7, label='output')\n",
    "plt.legend()\n",
    "plt.yscale('log')\n",
    "plt.show()"
   ]
  },
  {
   "cell_type": "markdown",
   "metadata": {},
   "source": [
    "### Scale"
   ]
  },
  {
   "cell_type": "markdown",
   "metadata": {},
   "source": [
    "plt.hist(input_scale, bins=40, alpha=0.7, label='input')\n",
    "plt.hist(output_scale, bins=40, alpha=0.7, label='output')\n",
    "#plt.hist(Z_input_scale, bins=40, alpha=0.7, label='Z_input')\n",
    "plt.legend()\n",
    "plt.show()"
   ]
  },
  {
   "cell_type": "markdown",
   "metadata": {},
   "source": [
    "plt.hist(input_scale, bins=40, alpha=0.7, label='input')\n",
    "plt.hist(output_scale, bins=40, alpha=0.7, label='output')\n",
    "plt.legend()\n",
    "plt.yscale('log')\n",
    "plt.show()"
   ]
  },
  {
   "cell_type": "markdown",
   "metadata": {},
   "source": [
    "### Group index based on scale of median (center)"
   ]
  },
  {
   "cell_type": "code",
   "execution_count": 68,
   "metadata": {},
   "outputs": [
    {
     "data": {
      "text/plain": [
       "[0, 1, 2, 3]"
      ]
     },
     "execution_count": 68,
     "metadata": {},
     "output_type": "execute_result"
    }
   ],
   "source": [
    "def group_index(logx):\n",
    "    if logx < 1.0: return 0\n",
    "    elif logx < 2.0: return 1\n",
    "    elif logx < 4.0: return 2\n",
    "    else: return 3\n",
    "group_index_v = np.vectorize(group_index)\n",
    "gp_list = list(range(4)); gp_list"
   ]
  },
  {
   "cell_type": "markdown",
   "metadata": {},
   "source": [
    "def group_index(median, stdev):\n",
    "    if median < 1.0: return 0\n",
    "    elif median < 2.0: \n",
    "        if stdev < 1.7: return 1\n",
    "        else: return 2\n",
    "    elif median < 4.0: \n",
    "        if stdev < 1.7: return 3\n",
    "        else: return 4\n",
    "    else: return 5\n",
    "#group_index_v = np.vectorize(group_index)\n",
    "gp_list = list(range(6)); gp_list"
   ]
  },
  {
   "cell_type": "markdown",
   "metadata": {},
   "source": [
    "def group_index(logx):\n",
    "    if logx == 0.: return 0\n",
    "    elif logx < 1.0: return 1\n",
    "    elif logx < 2.0: return 2\n",
    "    elif logx < 4.0: return 3\n",
    "    elif logx < 5.0: return 4\n",
    "    else: return 5\n",
    "group_index_v = np.vectorize(group_index)\n",
    "gp_list = list(range(6)); gp_list"
   ]
  },
  {
   "cell_type": "markdown",
   "metadata": {},
   "source": [
    "input_gp = np.array([group_index(center, scale) for center, scale in zip(Y_input_center, input_scale)]).reshape(-1)\n",
    "output_gp = np.array([group_index(center, scale) for center, scale in zip(Y_output_center, output_scale)]).reshape(-1)"
   ]
  },
  {
   "cell_type": "code",
   "execution_count": 69,
   "metadata": {
    "collapsed": true
   },
   "outputs": [],
   "source": [
    "# Choice 1: Group using X center\n",
    "input_gp = group_index_v(X_input_center).reshape(-1)\n",
    "output_gp = group_index_v(X_output_center).reshape(-1)\n",
    "\n",
    "# Choice 2: Group using Y center (Fib Median)\n",
    "#input_gp = group_index_v(Y_input_center).reshape(-1)\n",
    "#output_gp = group_index_v(Y_output_center).reshape(-1)"
   ]
  },
  {
   "cell_type": "code",
   "execution_count": 70,
   "metadata": {},
   "outputs": [
    {
     "data": {
      "text/plain": [
       "(array([1, 1, 0, ..., 1, 0, 1]), array([1, 1, 0, ..., 1, 0, 1]))"
      ]
     },
     "execution_count": 70,
     "metadata": {},
     "output_type": "execute_result"
    }
   ],
   "source": [
    "input_gp, output_gp"
   ]
  },
  {
   "cell_type": "code",
   "execution_count": 71,
   "metadata": {},
   "outputs": [
    {
     "data": {
      "text/plain": [
       "[24628, 43782, 75828, 825]"
      ]
     },
     "execution_count": 71,
     "metadata": {},
     "output_type": "execute_result"
    }
   ],
   "source": [
    "# group counts\n",
    "gp_input_counts = [0] * len(gp_list)\n",
    "for x in input_gp: gp_input_counts[x] += 1\n",
    "gp_input_counts"
   ]
  },
  {
   "cell_type": "code",
   "execution_count": 72,
   "metadata": {},
   "outputs": [
    {
     "data": {
      "text/plain": [
       "[24628, 43782, 75828, 825]"
      ]
     },
     "execution_count": 72,
     "metadata": {},
     "output_type": "execute_result"
    }
   ],
   "source": [
    "# group counts\n",
    "gp_output_counts = [0] * len(gp_list)\n",
    "for x in output_gp: gp_output_counts[x] += 1\n",
    "gp_output_counts"
   ]
  },
  {
   "cell_type": "code",
   "execution_count": 73,
   "metadata": {},
   "outputs": [
    {
     "data": {
      "image/png": "[encoded data removed]",
      "text/plain": [
       "<matplotlib.figure.Figure at 0x1b8d9e80>"
      ]
     },
     "metadata": {},
     "output_type": "display_data"
    }
   ],
   "source": [
    "plt.hist(input_gp, alpha=0.8, label='input')\n",
    "plt.hist(output_gp, alpha=0.3, label='output')\n",
    "plt.yscale('linear')\n",
    "plt.legend()\n",
    "plt.show()"
   ]
  },
  {
   "cell_type": "markdown",
   "metadata": {},
   "source": [
    "plt.hist(input_gp, alpha=0.8, label='input')\n",
    "plt.hist(output_gp, alpha=0.3, label='output')\n",
    "plt.yscale('log')\n",
    "plt.legend()\n",
    "plt.show()"
   ]
  },
  {
   "cell_type": "markdown",
   "metadata": {},
   "source": [
    "#### Original data"
   ]
  },
  {
   "cell_type": "code",
   "execution_count": 74,
   "metadata": {
    "collapsed": true
   },
   "outputs": [],
   "source": [
    "X_input_ori = X_input_num  # Do not contain nan\n",
    "Y_input_ori = Y_input_num\n",
    "X_output_ori = X_output_num\n",
    "if test_length:\n",
    "    Y_output_ori = Y_output_num"
   ]
  },
  {
   "cell_type": "code",
   "execution_count": 75,
   "metadata": {},
   "outputs": [
    {
     "name": "stdout",
     "output_type": "stream",
     "text": [
      "shape, min, max, median, stdev\n",
      "(145063, 63) -105.078 136.964 0.010174 3.46202\n",
      "(145063, 70) -105.078 136.815 -0.0549248 3.50883\n",
      "(145063, 63) -41.0931 8.00102 0.0 1.25842\n",
      "(145063, 70) -1623.68 58.4669 -0.244036 5.92375\n",
      "(145063, 63) 0.0 2.29855e+07 127.0 63071.2\n",
      "(145063, 70) 0.0 6.72643e+07 128.0 149043.0\n",
      "(145063, 63) 0.0 2.46307e+07 125.0 67962.2\n",
      "(145063, 70) 0.0 1.86702e+07 113.0 56850.9\n"
     ]
    }
   ],
   "source": [
    "if test_length:\n",
    "    arr_info((X_input, Y_input, X_output, Y_output, \n",
    "              X_input_ori, Y_input_ori, X_output_ori, Y_output_ori))\n",
    "else:\n",
    "    arr_info((X_input, Y_input, X_output, \n",
    "              X_input_ori, Y_input_ori, X_output_ori))"
   ]
  },
  {
   "cell_type": "markdown",
   "metadata": {},
   "source": [
    "arr_info((Z_input,))"
   ]
  },
  {
   "cell_type": "markdown",
   "metadata": {},
   "source": [
    "#### Min and max cases examination"
   ]
  },
  {
   "cell_type": "markdown",
   "metadata": {},
   "source": [
    "np.argmin(Y_output, axis=0)"
   ]
  },
  {
   "cell_type": "markdown",
   "metadata": {},
   "source": [
    "Y_output[8604]"
   ]
  },
  {
   "cell_type": "markdown",
   "metadata": {},
   "source": [
    "Y_output_ori[8604]"
   ]
  },
  {
   "cell_type": "markdown",
   "metadata": {},
   "source": [
    "fib_output_median[8604]"
   ]
  },
  {
   "cell_type": "markdown",
   "metadata": {},
   "source": [
    "log(Y_output_ori[8604])"
   ]
  },
  {
   "cell_type": "markdown",
   "metadata": {},
   "source": [
    "log(fib_output_median[8604])"
   ]
  },
  {
   "cell_type": "markdown",
   "metadata": {},
   "source": [
    "np.std(log(Y_output_ori[8604]))"
   ]
  },
  {
   "cell_type": "markdown",
   "metadata": {},
   "source": [
    "np.std(log(X_output_ori[8604]))"
   ]
  },
  {
   "cell_type": "markdown",
   "metadata": {},
   "source": [
    "output_scale[8604]"
   ]
  },
  {
   "cell_type": "markdown",
   "metadata": {},
   "source": [
    "#### Check if the inverse transformation is correct"
   ]
  },
  {
   "cell_type": "markdown",
   "metadata": {
    "collapsed": true
   },
   "source": [
    "#Undo transformation\n",
    "X_input_tt = unlog(untransform(X_input, X_input_center, X_input_scale))"
   ]
  },
  {
   "cell_type": "markdown",
   "metadata": {},
   "source": [
    "X_input_tt_diff = X_input_tt - X_input_ori\n",
    "X_input_tt_diff.min(), X_input_tt_diff.max()"
   ]
  },
  {
   "cell_type": "markdown",
   "metadata": {},
   "source": [
    "del X_input_tt_diff; del X_input_tt"
   ]
  },
  {
   "cell_type": "markdown",
   "metadata": {},
   "source": [
    "## Split X,Y data into groups"
   ]
  },
  {
   "cell_type": "markdown",
   "metadata": {},
   "source": [
    "X_input[input_gp == 1].shape"
   ]
  },
  {
   "cell_type": "code",
   "execution_count": 76,
   "metadata": {
    "collapsed": true
   },
   "outputs": [],
   "source": [
    "X_input_list = [X_input[input_gp == gp] for gp in gp_list]\n",
    "Y_input_list = [Y_input[input_gp == gp] for gp in gp_list]\n",
    "X_output_list = [X_output[output_gp == gp] for gp in gp_list]\n",
    "if test_length:\n",
    "    Y_output_list = [Y_output[output_gp == gp] for gp in gp_list]"
   ]
  },
  {
   "cell_type": "markdown",
   "metadata": {
    "collapsed": true
   },
   "source": [
    "Z_input_list = [Z_input[input_gp == gp] for gp in gp_list]\n",
    "Z_output_list = [Z_output[output_gp == gp] for gp in gp_list]"
   ]
  },
  {
   "cell_type": "markdown",
   "metadata": {},
   "source": [
    "## Additional input for the neural network"
   ]
  },
  {
   "cell_type": "markdown",
   "metadata": {},
   "source": [
    "#Split center into group\n",
    "Y_input_center_list = [Y_input_center[input_gp == gp] for gp in gp_list]\n",
    "Y_output_center_list = [Y_output_center[output_gp == gp] for gp in gp_list]\n",
    "\n",
    "#Split scale into group\n",
    "input_scale_list = [input_scale[input_gp == gp] for gp in gp_list]\n",
    "output_scale_list = [output_scale[output_gp == gp] for gp in gp_list]"
   ]
  },
  {
   "cell_type": "markdown",
   "metadata": {},
   "source": [
    "input_scale_list[0].shape"
   ]
  },
  {
   "cell_type": "code",
   "execution_count": 77,
   "metadata": {},
   "outputs": [
    {
     "data": {
      "text/plain": [
       "((145063, 2), (145063, 2))"
      ]
     },
     "execution_count": 77,
     "metadata": {},
     "output_type": "execute_result"
    }
   ],
   "source": [
    "A_input = np.concatenate((Y_input_center, input_scale), axis=1)\n",
    "A_output = np.concatenate((Y_output_center, output_scale), axis=1); A_input.shape, A_output.shape"
   ]
  },
  {
   "cell_type": "code",
   "execution_count": 78,
   "metadata": {
    "collapsed": true
   },
   "outputs": [],
   "source": [
    "A_input_list = [A_input[input_gp == gp] for gp in gp_list]\n",
    "A_output_list = [A_output[output_gp == gp] for gp in gp_list]"
   ]
  },
  {
   "cell_type": "code",
   "execution_count": 79,
   "metadata": {},
   "outputs": [
    {
     "data": {
      "text/plain": [
       "2"
      ]
     },
     "execution_count": 79,
     "metadata": {},
     "output_type": "execute_result"
    }
   ],
   "source": [
    "a_length = len(A_input[0]); a_length"
   ]
  },
  {
   "cell_type": "markdown",
   "metadata": {},
   "source": [
    "## Dates that We don't evaluate their scores !!!!\n",
    "We modify Y_output_raw so that some of the dates won't be evaluated."
   ]
  },
  {
   "cell_type": "code",
   "execution_count": 80,
   "metadata": {},
   "outputs": [
    {
     "data": {
      "text/plain": [
       "7"
      ]
     },
     "execution_count": 80,
     "metadata": {},
     "output_type": "execute_result"
    }
   ],
   "source": [
    "y_eval_length = 63\n",
    "y_not_eval = y_length - y_eval_length  # number of days we don't evaluate their scores\n",
    "y_not_eval"
   ]
  },
  {
   "cell_type": "code",
   "execution_count": 81,
   "metadata": {
    "collapsed": true
   },
   "outputs": [],
   "source": [
    "if test_length and y_not_eval > 0:\n",
    "    Y_output_raw[:,:y_not_eval] = np.nan"
   ]
  },
  {
   "cell_type": "code",
   "execution_count": 82,
   "metadata": {},
   "outputs": [
    {
     "name": "stdout",
     "output_type": "stream",
     "text": [
      "63 63 70\n"
     ]
    }
   ],
   "source": [
    "if test_length and y_not_eval > 0:\n",
    "    print(np.sum(~np.isnan(Y_output_raw[0])), y_eval_length, y_length)"
   ]
  },
  {
   "cell_type": "code",
   "execution_count": 83,
   "metadata": {},
   "outputs": [
    {
     "name": "stdout",
     "output_type": "stream",
     "text": [
      "[[ nan  24.]\n",
      " [ nan  29.]]\n"
     ]
    }
   ],
   "source": [
    "if test_length and y_not_eval > 0:\n",
    "    print(Y_output_raw[0:2,y_not_eval-1:y_not_eval+1])"
   ]
  },
  {
   "cell_type": "markdown",
   "metadata": {},
   "source": [
    "## Neural Network?"
   ]
  },
  {
   "cell_type": "code",
   "execution_count": 84,
   "metadata": {},
   "outputs": [
    {
     "name": "stderr",
     "output_type": "stream",
     "text": [
      "Using TensorFlow backend.\n"
     ]
    }
   ],
   "source": [
    "import keras"
   ]
  },
  {
   "cell_type": "markdown",
   "metadata": {},
   "source": [
    "### SMAPE\n",
    "Symmetric mean absolute percentage error\n",
    "\n",
    "https://en.wikipedia.org/wiki/Symmetric_mean_absolute_percentage_error"
   ]
  },
  {
   "cell_type": "code",
   "execution_count": 85,
   "metadata": {
    "collapsed": true
   },
   "outputs": [],
   "source": [
    "import keras.backend as K\n",
    "\n",
    "def k_smape(y_true, y_pred):\n",
    "    '''Symmetric mean absolute percentage error for keras metric'''\n",
    "    diff = K.abs((y_true - y_pred) / K.clip(K.abs(y_true) + K.abs(y_pred),\n",
    "                                            K.epsilon(), None))\n",
    "    return 200. * K.mean(diff, axis=-1)"
   ]
  },
  {
   "cell_type": "code",
   "execution_count": 86,
   "metadata": {
    "collapsed": true
   },
   "outputs": [],
   "source": [
    "def smape(y_true, y_pred, axis=None):\n",
    "    '''Symmetric mean absolute percentage error'''\n",
    "    diff = np.abs((y_true - y_pred) / \n",
    "                  np.clip(np.abs(y_true) + np.abs(y_pred), np.float32(1e-07), None))\n",
    "    return np.float32(200.) * np.nanmean(diff, axis=axis)"
   ]
  },
  {
   "cell_type": "markdown",
   "metadata": {},
   "source": [
    "smape(np.array([0,1]),np.array([np.nan, 0])), smape(np.array([0]),np.array([0]))"
   ]
  },
  {
   "cell_type": "code",
   "execution_count": 88,
   "metadata": {},
   "outputs": [
    {
     "data": {
      "text/plain": [
       "(119.43417, 148.62785, 0.0)"
      ]
     },
     "execution_count": 88,
     "metadata": {},
     "output_type": "execute_result"
    }
   ],
   "source": [
    "# Benchmark SMAPE on the transformed data\n",
    "smape(Y_input[:,-x_length:],X_input), smape(Y_input[:,-x_length:], X_output), smape(Y_input,Y_input)"
   ]
  },
  {
   "cell_type": "code",
   "execution_count": 90,
   "metadata": {
    "scrolled": true
   },
   "outputs": [
    {
     "data": {
      "text/plain": [
       "(61.339867, 59.730095)"
      ]
     },
     "execution_count": 90,
     "metadata": {},
     "output_type": "execute_result"
    }
   ],
   "source": [
    "# Benchmark SMAPE on the original data\n",
    "smape(Y_input_raw[:,-x_length:],X_input_ori), smape(Y_input_ori[:,-x_length:],X_input_ori)"
   ]
  },
  {
   "cell_type": "code",
   "execution_count": 91,
   "metadata": {},
   "outputs": [
    {
     "name": "stdout",
     "output_type": "stream",
     "text": [
      "51.8731 142.442\n"
     ]
    }
   ],
   "source": [
    "if test_length: print(smape(Y_output_raw[:,-x_length:], X_output_ori), smape(Y_output[:,-x_length:], X_output))"
   ]
  },
  {
   "cell_type": "code",
   "execution_count": 92,
   "metadata": {},
   "outputs": [
    {
     "name": "stdout",
     "output_type": "stream",
     "text": [
      "48.9123\n",
      "41.4865\n"
     ]
    }
   ],
   "source": [
    "print(smape(Y_input_raw, Y_input_fib))\n",
    "if test_length: print(smape(Y_output_raw, Y_output_fib))"
   ]
  },
  {
   "cell_type": "markdown",
   "metadata": {},
   "source": [
    "Doing better than the first two scores are better than simply copy and past the previous result."
   ]
  },
  {
   "cell_type": "markdown",
   "metadata": {},
   "source": [
    "### Neural Network Model\n",
    "With the flavor of convolutional neural network"
   ]
  },
  {
   "cell_type": "code",
   "execution_count": 93,
   "metadata": {
    "collapsed": true
   },
   "outputs": [],
   "source": [
    "from keras.models import Model\n",
    "from keras.layers import Dense, Dropout, Flatten\n",
    "from keras.layers import Input\n",
    "from keras.layers import Conv1D\n",
    "from keras.layers import Reshape\n",
    "from keras.layers import MaxPooling1D\n",
    "from keras.layers import AveragePooling1D\n",
    "from keras.layers import concatenate\n",
    "from keras.optimizers import Adam"
   ]
  },
  {
   "cell_type": "code",
   "execution_count": 204,
   "metadata": {
    "collapsed": true
   },
   "outputs": [],
   "source": [
    "from keras.models import load_model"
   ]
  },
  {
   "cell_type": "code",
   "execution_count": 94,
   "metadata": {
    "collapsed": true
   },
   "outputs": [],
   "source": [
    "n_ens = 3\n",
    "ens_list = list(range(n_ens))"
   ]
  },
  {
   "cell_type": "code",
   "execution_count": 95,
   "metadata": {
    "scrolled": true
   },
   "outputs": [
    {
     "name": "stdout",
     "output_type": "stream",
     "text": [
      "Run 0: Group-0 Group-1 Group-2 Group-3 \n",
      "Run 1: Group-0 Group-1 Group-2 Group-3 \n",
      "Run 2: Group-0 Group-1 Group-2 Group-3 \n"
     ]
    }
   ],
   "source": [
    "#runbelow\n",
    "models_ens = []\n",
    "for run in ens_list:\n",
    "    print('Run', run, end=': ')\n",
    "    models = []\n",
    "    for gp in gp_list:\n",
    "        print('Group-', gp, sep='', end=' ')\n",
    "        layer_0 = Input(shape=(x_length,), name='x_input')\n",
    "        layer_t = Reshape((-1, 1))(layer_0)\n",
    "        layer_t = Conv1D(120, kernel_size=3, activation='relu')(layer_t)\n",
    "        layer_t = AveragePooling1D(pool_size=2)(layer_t)\n",
    "        layer_cnn_x = Flatten()(layer_t)\n",
    "        \n",
    "        layer_a = Input(shape=(a_length,), name='a_input')\n",
    "        \n",
    "        #layer_z = Input(shape=(y_length,), name='z_input')\n",
    "        #layer_t = Reshape((-1, 1))(layer_0)\n",
    "        #layer_t = Conv1D(20, kernel_size=3, activation='relu')(layer_t)\n",
    "        #layer_t = AveragePooling1D(pool_size=2)(layer_t)\n",
    "        #layer_cnn_z = Flatten()(layer_t)\n",
    "                \n",
    "        layer_t = concatenate([layer_cnn_x, layer_a])#, layer_cnn_z])\n",
    "        \n",
    "        layer_t = Dense(120, activation='relu')(layer_t)\n",
    "        layer_t = Dropout(0.25)(layer_t)\n",
    "        layer_t = Dense(120, activation='relu')(layer_t)\n",
    "        layer_t = Dropout(0.5)(layer_t)\n",
    "        layer_f = Dense(y_length)(layer_t)\n",
    "        \n",
    "        model = Model(inputs=[layer_0, layer_a], outputs=layer_f)\n",
    "        #model = Model(inputs=[layer_0, layer_a, layer_z], outputs=layer_f)\n",
    "        model.compile(optimizer='adam',\n",
    "                      loss='mean_absolute_error', metrics=[k_smape])\n",
    "        #model.summary()\n",
    "        models.append(model)\n",
    "    models_ens.append(models)\n",
    "    print('')"
   ]
  },
  {
   "cell_type": "code",
   "execution_count": 96,
   "metadata": {},
   "outputs": [
    {
     "name": "stdout",
     "output_type": "stream",
     "text": [
      "____________________________________________________________________________________________________\n",
      "Layer (type)                     Output Shape          Param #     Connected to                     \n",
      "====================================================================================================\n",
      "x_input (InputLayer)             (None, 63)            0                                            \n",
      "____________________________________________________________________________________________________\n",
      "reshape_12 (Reshape)             (None, 63, 1)         0           x_input[0][0]                    \n",
      "____________________________________________________________________________________________________\n",
      "conv1d_12 (Conv1D)               (None, 61, 120)       480         reshape_12[0][0]                 \n",
      "____________________________________________________________________________________________________\n",
      "average_pooling1d_12 (AveragePoo (None, 30, 120)       0           conv1d_12[0][0]                  \n",
      "____________________________________________________________________________________________________\n",
      "flatten_12 (Flatten)             (None, 3600)          0           average_pooling1d_12[0][0]       \n",
      "____________________________________________________________________________________________________\n",
      "a_input (InputLayer)             (None, 2)             0                                            \n",
      "____________________________________________________________________________________________________\n",
      "concatenate_12 (Concatenate)     (None, 3602)          0           flatten_12[0][0]                 \n",
      "                                                                   a_input[0][0]                    \n",
      "____________________________________________________________________________________________________\n",
      "dense_34 (Dense)                 (None, 120)           432360      concatenate_12[0][0]             \n",
      "____________________________________________________________________________________________________\n",
      "dropout_23 (Dropout)             (None, 120)           0           dense_34[0][0]                   \n",
      "____________________________________________________________________________________________________\n",
      "dense_35 (Dense)                 (None, 120)           14520       dropout_23[0][0]                 \n",
      "____________________________________________________________________________________________________\n",
      "dropout_24 (Dropout)             (None, 120)           0           dense_35[0][0]                   \n",
      "____________________________________________________________________________________________________\n",
      "dense_36 (Dense)                 (None, 70)            8470        dropout_24[0][0]                 \n",
      "====================================================================================================\n",
      "Total params: 455,830\n",
      "Trainable params: 455,830\n",
      "Non-trainable params: 0\n",
      "____________________________________________________________________________________________________\n"
     ]
    }
   ],
   "source": [
    "models_ens[-1][-1].summary()"
   ]
  },
  {
   "cell_type": "code",
   "execution_count": 97,
   "metadata": {},
   "outputs": [
    {
     "data": {
      "text/plain": [
       "(3, 4)"
      ]
     },
     "execution_count": 97,
     "metadata": {},
     "output_type": "execute_result"
    }
   ],
   "source": [
    "np.array(models_ens).shape"
   ]
  },
  {
   "cell_type": "code",
   "execution_count": 98,
   "metadata": {},
   "outputs": [
    {
     "data": {
      "text/plain": [
       "4"
      ]
     },
     "execution_count": 98,
     "metadata": {},
     "output_type": "execute_result"
    }
   ],
   "source": [
    "len(gp_list)"
   ]
  },
  {
   "cell_type": "code",
   "execution_count": 99,
   "metadata": {
    "collapsed": true
   },
   "outputs": [],
   "source": [
    "epochs_list = [0,40,40,60]  # change to smaller epochs later (1,1,20,40,60,80)"
   ]
  },
  {
   "cell_type": "code",
   "execution_count": 100,
   "metadata": {
    "scrolled": true
   },
   "outputs": [
    {
     "name": "stdout",
     "output_type": "stream",
     "text": [
      "=== Run: 1 / 3 ===\n",
      "--- Group: 1 / 4 ---\n",
      "Train on 22165 samples, validate on 2463 samples\n",
      "--- Group: 2 / 4 ---\n",
      "Train on 39403 samples, validate on 4379 samples\n",
      "Epoch 1/40\n",
      "8s - loss: 1.3422 - k_smape: 126.8356 - val_loss: 1.0681 - val_k_smape: 121.1418\n",
      "Epoch 2/40\n",
      "7s - loss: 1.2598 - k_smape: 117.8118 - val_loss: 1.0484 - val_k_smape: 116.8277\n",
      "Epoch 3/40\n",
      "7s - loss: 1.2449 - k_smape: 116.0174 - val_loss: 1.0576 - val_k_smape: 120.8445\n",
      "Epoch 4/40\n",
      "7s - loss: 1.2417 - k_smape: 115.3659 - val_loss: 1.0648 - val_k_smape: 121.5656\n",
      "Epoch 5/40\n",
      "7s - loss: 1.2356 - k_smape: 115.0206 - val_loss: 1.0425 - val_k_smape: 115.5454\n",
      "Epoch 6/40\n",
      "7s - loss: 1.2266 - k_smape: 114.3723 - val_loss: 1.0638 - val_k_smape: 119.1296\n",
      "Epoch 7/40\n",
      "7s - loss: 1.2207 - k_smape: 113.9371 - val_loss: 1.0799 - val_k_smape: 118.7468\n",
      "Epoch 8/40\n",
      "7s - loss: 1.2147 - k_smape: 113.7095 - val_loss: 1.0392 - val_k_smape: 114.7288\n",
      "Epoch 9/40\n",
      "7s - loss: 1.2161 - k_smape: 113.6691 - val_loss: 1.0361 - val_k_smape: 114.2348\n",
      "Epoch 10/40\n",
      "7s - loss: 1.2147 - k_smape: 113.2185 - val_loss: 1.1005 - val_k_smape: 123.2747\n",
      "Epoch 11/40\n",
      "7s - loss: 1.2105 - k_smape: 113.1467 - val_loss: 1.0604 - val_k_smape: 117.6180\n",
      "Epoch 12/40\n",
      "7s - loss: 1.2115 - k_smape: 112.8693 - val_loss: 1.0455 - val_k_smape: 113.9779\n",
      "Epoch 13/40\n",
      "7s - loss: 1.2161 - k_smape: 112.8744 - val_loss: 1.0611 - val_k_smape: 120.4286\n",
      "Epoch 14/40\n",
      "7s - loss: 1.2082 - k_smape: 112.5582 - val_loss: 1.0541 - val_k_smape: 117.0209\n",
      "Epoch 15/40\n",
      "7s - loss: 1.2036 - k_smape: 112.2569 - val_loss: 1.0653 - val_k_smape: 119.3976\n",
      "Epoch 16/40\n",
      "7s - loss: 1.2023 - k_smape: 112.3110 - val_loss: 1.0844 - val_k_smape: 120.1366\n",
      "Epoch 17/40\n",
      "7s - loss: 1.1944 - k_smape: 111.9366 - val_loss: 1.0530 - val_k_smape: 118.0339\n",
      "Epoch 18/40\n",
      "7s - loss: 1.1959 - k_smape: 111.7646 - val_loss: 1.0589 - val_k_smape: 117.9580\n",
      "Epoch 19/40\n",
      "7s - loss: 1.1955 - k_smape: 111.8755 - val_loss: 1.0502 - val_k_smape: 115.7494\n",
      "Epoch 20/40\n",
      "7s - loss: 1.1948 - k_smape: 111.6820 - val_loss: 1.0277 - val_k_smape: 115.0288\n",
      "Epoch 21/40\n",
      "7s - loss: 1.1949 - k_smape: 111.4236 - val_loss: 1.0502 - val_k_smape: 118.5976\n",
      "Epoch 22/40\n",
      "7s - loss: 1.1921 - k_smape: 111.4412 - val_loss: 1.0571 - val_k_smape: 120.9484\n",
      "Epoch 23/40\n",
      "7s - loss: 1.1889 - k_smape: 111.4280 - val_loss: 1.0464 - val_k_smape: 117.6921\n",
      "Epoch 24/40\n",
      "7s - loss: 1.1873 - k_smape: 111.1961 - val_loss: 1.0557 - val_k_smape: 117.2670\n",
      "Epoch 25/40\n",
      "7s - loss: 1.1838 - k_smape: 111.2224 - val_loss: 1.0425 - val_k_smape: 117.2821\n",
      "Epoch 26/40\n",
      "7s - loss: 1.1857 - k_smape: 111.0680 - val_loss: 1.0672 - val_k_smape: 117.2540\n",
      "Epoch 27/40\n",
      "7s - loss: 1.1778 - k_smape: 110.8598 - val_loss: 1.0298 - val_k_smape: 113.8816\n",
      "Epoch 28/40\n",
      "7s - loss: 1.1727 - k_smape: 110.7286 - val_loss: 1.0446 - val_k_smape: 116.0949\n",
      "Epoch 29/40\n",
      "7s - loss: 1.1742 - k_smape: 110.7218 - val_loss: 1.0338 - val_k_smape: 116.4435\n",
      "Epoch 30/40\n",
      "7s - loss: 1.1762 - k_smape: 110.5673 - val_loss: 1.0484 - val_k_smape: 115.0788\n",
      "Epoch 31/40\n",
      "7s - loss: 1.1738 - k_smape: 110.4210 - val_loss: 1.0499 - val_k_smape: 116.2272\n",
      "Epoch 32/40\n",
      "7s - loss: 1.1742 - k_smape: 110.7515 - val_loss: 1.0499 - val_k_smape: 119.0890\n",
      "Epoch 33/40\n",
      "7s - loss: 1.1713 - k_smape: 110.3838 - val_loss: 1.0510 - val_k_smape: 118.6034\n",
      "Epoch 34/40\n",
      "7s - loss: 1.1675 - k_smape: 110.4138 - val_loss: 1.0742 - val_k_smape: 119.6159\n",
      "Epoch 35/40\n",
      "7s - loss: 1.1683 - k_smape: 110.4103 - val_loss: 1.0491 - val_k_smape: 119.3226\n",
      "Epoch 36/40\n",
      "7s - loss: 1.1661 - k_smape: 110.1476 - val_loss: 1.0464 - val_k_smape: 116.0320\n",
      "Epoch 37/40\n",
      "7s - loss: 1.1644 - k_smape: 110.1963 - val_loss: 1.0363 - val_k_smape: 115.4994\n",
      "Epoch 38/40\n",
      "7s - loss: 1.1626 - k_smape: 110.1173 - val_loss: 1.0567 - val_k_smape: 117.5198\n",
      "Epoch 39/40\n",
      "7s - loss: 1.1592 - k_smape: 109.9092 - val_loss: 1.0477 - val_k_smape: 116.3405\n",
      "Epoch 40/40\n",
      "7s - loss: 1.1566 - k_smape: 109.8366 - val_loss: 1.0427 - val_k_smape: 118.1979\n",
      "--- Group: 3 / 4 ---\n",
      "Train on 68245 samples, validate on 7583 samples\n",
      "Epoch 1/40\n",
      "12s - loss: 1.4068 - k_smape: 109.6039 - val_loss: 1.1555 - val_k_smape: 109.7765\n",
      "Epoch 2/40\n",
      "12s - loss: 1.3062 - k_smape: 101.5993 - val_loss: 1.1336 - val_k_smape: 108.9426\n",
      "Epoch 3/40\n",
      "12s - loss: 1.2860 - k_smape: 100.2399 - val_loss: 1.1030 - val_k_smape: 106.5332\n",
      "Epoch 4/40\n",
      "12s - loss: 1.2754 - k_smape: 99.3825 - val_loss: 1.1097 - val_k_smape: 108.6419\n",
      "Epoch 5/40\n",
      "12s - loss: 1.2638 - k_smape: 98.5800 - val_loss: 1.1082 - val_k_smape: 106.8327\n",
      "Epoch 6/40\n",
      "12s - loss: 1.2590 - k_smape: 98.2109 - val_loss: 1.1639 - val_k_smape: 108.6531\n",
      "Epoch 7/40\n",
      "12s - loss: 1.2595 - k_smape: 98.0374 - val_loss: 1.1054 - val_k_smape: 105.2763\n",
      "Epoch 8/40\n",
      "12s - loss: 1.2558 - k_smape: 97.6815 - val_loss: 1.1633 - val_k_smape: 110.3678\n",
      "Epoch 9/40\n",
      "12s - loss: 1.2470 - k_smape: 97.5072 - val_loss: 1.1434 - val_k_smape: 107.6108\n",
      "Epoch 10/40\n",
      "12s - loss: 1.2464 - k_smape: 97.2974 - val_loss: 1.1124 - val_k_smape: 105.9385\n",
      "Epoch 11/40\n",
      "12s - loss: 1.2398 - k_smape: 97.0693 - val_loss: 1.1222 - val_k_smape: 105.6636\n",
      "Epoch 12/40\n",
      "12s - loss: 1.2424 - k_smape: 96.9161 - val_loss: 1.1024 - val_k_smape: 105.6393\n",
      "Epoch 13/40\n",
      "12s - loss: 1.2405 - k_smape: 96.8738 - val_loss: 1.1296 - val_k_smape: 106.5149\n",
      "Epoch 14/40\n",
      "12s - loss: 1.2357 - k_smape: 96.6270 - val_loss: 1.1313 - val_k_smape: 106.7441\n",
      "Epoch 15/40\n",
      "12s - loss: 1.2301 - k_smape: 96.6152 - val_loss: 1.1394 - val_k_smape: 107.3288\n",
      "Epoch 16/40\n",
      "12s - loss: 1.2293 - k_smape: 96.3436 - val_loss: 1.1185 - val_k_smape: 106.9001\n",
      "Epoch 17/40\n",
      "12s - loss: 1.2267 - k_smape: 96.2351 - val_loss: 1.1185 - val_k_smape: 107.0425\n",
      "Epoch 18/40\n",
      "12s - loss: 1.2277 - k_smape: 96.2068 - val_loss: 1.0860 - val_k_smape: 104.7525\n",
      "Epoch 19/40\n",
      "12s - loss: 1.2249 - k_smape: 95.9987 - val_loss: 1.1349 - val_k_smape: 108.2614\n",
      "Epoch 20/40\n",
      "12s - loss: 1.2229 - k_smape: 96.0006 - val_loss: 1.1208 - val_k_smape: 106.4299\n",
      "Epoch 21/40\n",
      "12s - loss: 1.2167 - k_smape: 95.7093 - val_loss: 1.1268 - val_k_smape: 106.4838\n",
      "Epoch 22/40\n",
      "12s - loss: 1.2154 - k_smape: 95.7101 - val_loss: 1.1321 - val_k_smape: 106.6132\n",
      "Epoch 23/40\n",
      "12s - loss: 1.2146 - k_smape: 95.6990 - val_loss: 1.1039 - val_k_smape: 104.8738\n",
      "Epoch 24/40\n",
      "12s - loss: 1.2135 - k_smape: 95.6147 - val_loss: 1.1306 - val_k_smape: 107.2511\n",
      "Epoch 25/40\n",
      "12s - loss: 1.2109 - k_smape: 95.4103 - val_loss: 1.1359 - val_k_smape: 106.1240\n",
      "Epoch 26/40\n",
      "12s - loss: 1.2088 - k_smape: 95.3049 - val_loss: 1.1261 - val_k_smape: 106.3679\n",
      "Epoch 27/40\n",
      "12s - loss: 1.2042 - k_smape: 95.1196 - val_loss: 1.0891 - val_k_smape: 104.6464\n",
      "Epoch 28/40\n",
      "12s - loss: 1.2045 - k_smape: 95.3449 - val_loss: 1.1443 - val_k_smape: 106.3290\n",
      "Epoch 29/40\n",
      "12s - loss: 1.2047 - k_smape: 95.1389 - val_loss: 1.1040 - val_k_smape: 104.8899\n",
      "Epoch 30/40\n",
      "12s - loss: 1.1965 - k_smape: 94.8619 - val_loss: 1.1013 - val_k_smape: 105.5219\n",
      "Epoch 31/40\n",
      "12s - loss: 1.1967 - k_smape: 94.8142 - val_loss: 1.1084 - val_k_smape: 106.8791\n",
      "Epoch 32/40\n",
      "12s - loss: 1.1983 - k_smape: 94.5967 - val_loss: 1.1296 - val_k_smape: 106.3757\n",
      "Epoch 33/40\n",
      "12s - loss: 1.1931 - k_smape: 94.5782 - val_loss: 1.1109 - val_k_smape: 106.4161\n",
      "Epoch 34/40\n",
      "12s - loss: 1.1939 - k_smape: 94.7651 - val_loss: 1.1243 - val_k_smape: 106.2420\n",
      "Epoch 35/40\n",
      "12s - loss: 1.1928 - k_smape: 94.5887 - val_loss: 1.0978 - val_k_smape: 105.4617\n",
      "Epoch 36/40\n",
      "12s - loss: 1.1919 - k_smape: 94.5366 - val_loss: 1.1098 - val_k_smape: 106.0060\n",
      "Epoch 37/40\n",
      "12s - loss: 1.1924 - k_smape: 94.6669 - val_loss: 1.0897 - val_k_smape: 105.5104\n",
      "Epoch 38/40\n",
      "12s - loss: 1.1900 - k_smape: 94.4451 - val_loss: 1.1253 - val_k_smape: 107.4810\n",
      "Epoch 39/40\n",
      "12s - loss: 1.1886 - k_smape: 94.4377 - val_loss: 1.1033 - val_k_smape: 106.3659\n",
      "Epoch 40/40\n",
      "12s - loss: 1.1863 - k_smape: 94.3610 - val_loss: 1.1230 - val_k_smape: 105.5590\n",
      "--- Group: 4 / 4 ---\n",
      "Train on 742 samples, validate on 83 samples\n",
      "Epoch 1/60\n",
      "0s - loss: 3.1417 - k_smape: 157.5731 - val_loss: 3.7543 - val_k_smape: 145.0719\n",
      "Epoch 2/60\n",
      "0s - loss: 2.7271 - k_smape: 140.9529 - val_loss: 3.5946 - val_k_smape: 141.3899\n",
      "Epoch 3/60\n",
      "0s - loss: 2.4664 - k_smape: 131.9167 - val_loss: 3.0157 - val_k_smape: 125.7396\n",
      "Epoch 4/60\n",
      "0s - loss: 2.3020 - k_smape: 123.2088 - val_loss: 2.9546 - val_k_smape: 121.1931\n",
      "Epoch 5/60\n",
      "0s - loss: 2.1984 - k_smape: 117.6788 - val_loss: 2.5642 - val_k_smape: 113.1172\n",
      "Epoch 6/60\n",
      "0s - loss: 2.0886 - k_smape: 114.7025 - val_loss: 2.4782 - val_k_smape: 107.8339\n",
      "Epoch 7/60\n"
     ]
    },
    {
     "name": "stdout",
     "output_type": "stream",
     "text": [
      "0s - loss: 2.0297 - k_smape: 107.7959 - val_loss: 2.3471 - val_k_smape: 104.2314\n",
      "Epoch 8/60\n",
      "0s - loss: 1.9132 - k_smape: 106.2734 - val_loss: 2.2522 - val_k_smape: 103.4598\n",
      "Epoch 9/60\n",
      "0s - loss: 1.8699 - k_smape: 103.8851 - val_loss: 2.1155 - val_k_smape: 99.1541\n",
      "Epoch 10/60\n",
      "0s - loss: 1.8711 - k_smape: 101.2776 - val_loss: 2.0294 - val_k_smape: 97.5047\n",
      "Epoch 11/60\n",
      "0s - loss: 1.7900 - k_smape: 100.2342 - val_loss: 1.9396 - val_k_smape: 96.1775\n",
      "Epoch 12/60\n",
      "0s - loss: 1.7704 - k_smape: 99.0305 - val_loss: 1.7145 - val_k_smape: 92.3766\n",
      "Epoch 13/60\n",
      "0s - loss: 1.7226 - k_smape: 97.2714 - val_loss: 2.0536 - val_k_smape: 97.3579\n",
      "Epoch 14/60\n",
      "0s - loss: 1.7448 - k_smape: 95.9877 - val_loss: 2.0178 - val_k_smape: 96.7891\n",
      "Epoch 15/60\n",
      "0s - loss: 1.7138 - k_smape: 95.6033 - val_loss: 1.7622 - val_k_smape: 92.0257\n",
      "Epoch 16/60\n",
      "0s - loss: 1.6726 - k_smape: 95.0961 - val_loss: 1.9073 - val_k_smape: 95.8926\n",
      "Epoch 17/60\n",
      "0s - loss: 1.6340 - k_smape: 92.9455 - val_loss: 1.4760 - val_k_smape: 87.9269\n",
      "Epoch 18/60\n",
      "0s - loss: 1.6673 - k_smape: 92.0338 - val_loss: 1.5704 - val_k_smape: 88.3996\n",
      "Epoch 19/60\n",
      "0s - loss: 1.6729 - k_smape: 93.6286 - val_loss: 1.9299 - val_k_smape: 92.9783\n",
      "Epoch 20/60\n",
      "0s - loss: 1.6401 - k_smape: 90.8959 - val_loss: 2.0066 - val_k_smape: 95.3854\n",
      "Epoch 21/60\n",
      "0s - loss: 1.6924 - k_smape: 92.3943 - val_loss: 1.4429 - val_k_smape: 87.3681\n",
      "Epoch 22/60\n",
      "0s - loss: 1.6128 - k_smape: 91.9298 - val_loss: 1.4813 - val_k_smape: 84.6265\n",
      "Epoch 23/60\n",
      "0s - loss: 1.6101 - k_smape: 89.0843 - val_loss: 1.8665 - val_k_smape: 92.7601\n",
      "Epoch 24/60\n",
      "0s - loss: 1.6175 - k_smape: 90.1907 - val_loss: 1.3858 - val_k_smape: 84.7091\n",
      "Epoch 25/60\n",
      "0s - loss: 1.5690 - k_smape: 89.1012 - val_loss: 1.6264 - val_k_smape: 84.5868\n",
      "Epoch 26/60\n",
      "0s - loss: 1.5812 - k_smape: 87.1104 - val_loss: 2.0363 - val_k_smape: 94.4156\n",
      "Epoch 27/60\n",
      "0s - loss: 1.5693 - k_smape: 89.3733 - val_loss: 1.3548 - val_k_smape: 80.4087\n",
      "Epoch 28/60\n",
      "0s - loss: 1.5453 - k_smape: 87.1642 - val_loss: 1.8878 - val_k_smape: 90.3532\n",
      "Epoch 29/60\n",
      "0s - loss: 1.5812 - k_smape: 87.4085 - val_loss: 1.7147 - val_k_smape: 87.5555\n",
      "Epoch 30/60\n",
      "0s - loss: 1.5154 - k_smape: 86.3978 - val_loss: 1.4541 - val_k_smape: 78.8213\n",
      "Epoch 31/60\n",
      "0s - loss: 1.4819 - k_smape: 83.6941 - val_loss: 1.4033 - val_k_smape: 82.2414\n",
      "Epoch 32/60\n",
      "0s - loss: 1.4760 - k_smape: 86.1061 - val_loss: 1.4254 - val_k_smape: 83.7459\n",
      "Epoch 33/60\n",
      "0s - loss: 1.5293 - k_smape: 85.0336 - val_loss: 1.2776 - val_k_smape: 77.8594\n",
      "Epoch 34/60\n",
      "0s - loss: 1.5233 - k_smape: 85.1671 - val_loss: 1.7912 - val_k_smape: 87.9691\n",
      "Epoch 35/60\n",
      "0s - loss: 1.4894 - k_smape: 84.3732 - val_loss: 1.6180 - val_k_smape: 81.4486\n",
      "Epoch 36/60\n",
      "0s - loss: 1.4801 - k_smape: 82.7534 - val_loss: 1.3572 - val_k_smape: 79.6424\n",
      "Epoch 37/60\n",
      "0s - loss: 1.4935 - k_smape: 85.7988 - val_loss: 1.3946 - val_k_smape: 81.8330\n",
      "Epoch 38/60\n",
      "0s - loss: 1.4841 - k_smape: 82.4393 - val_loss: 1.7100 - val_k_smape: 80.0754\n",
      "Epoch 39/60\n",
      "0s - loss: 1.4833 - k_smape: 82.7452 - val_loss: 1.5780 - val_k_smape: 86.2922\n",
      "Epoch 40/60\n",
      "0s - loss: 1.4603 - k_smape: 86.2715 - val_loss: 1.4223 - val_k_smape: 77.9627\n",
      "Epoch 41/60\n",
      "0s - loss: 1.4392 - k_smape: 82.5558 - val_loss: 1.3053 - val_k_smape: 77.4603\n",
      "Epoch 42/60\n",
      "0s - loss: 1.4859 - k_smape: 82.6699 - val_loss: 1.7099 - val_k_smape: 88.1134\n",
      "Epoch 43/60\n",
      "0s - loss: 1.4733 - k_smape: 83.6764 - val_loss: 1.4467 - val_k_smape: 77.2143\n",
      "Epoch 44/60\n",
      "0s - loss: 1.4561 - k_smape: 80.6683 - val_loss: 1.6400 - val_k_smape: 84.7950\n",
      "Epoch 45/60\n",
      "0s - loss: 1.3837 - k_smape: 83.5216 - val_loss: 1.5938 - val_k_smape: 81.5439\n",
      "Epoch 46/60\n",
      "0s - loss: 1.4227 - k_smape: 81.0077 - val_loss: 1.3667 - val_k_smape: 78.2505\n",
      "Epoch 47/60\n",
      "0s - loss: 1.3939 - k_smape: 81.4552 - val_loss: 1.6029 - val_k_smape: 82.6091\n",
      "Epoch 48/60\n",
      "0s - loss: 1.4634 - k_smape: 81.5470 - val_loss: 1.7274 - val_k_smape: 81.2730\n",
      "Epoch 49/60\n",
      "0s - loss: 1.4919 - k_smape: 81.8248 - val_loss: 1.4277 - val_k_smape: 76.6587\n",
      "Epoch 50/60\n",
      "0s - loss: 1.4654 - k_smape: 82.9709 - val_loss: 1.7383 - val_k_smape: 85.3115\n",
      "Epoch 51/60\n",
      "0s - loss: 1.4606 - k_smape: 82.1891 - val_loss: 1.3792 - val_k_smape: 77.2824\n",
      "Epoch 52/60\n",
      "0s - loss: 1.4526 - k_smape: 82.2936 - val_loss: 1.4790 - val_k_smape: 80.7741\n",
      "Epoch 53/60\n",
      "0s - loss: 1.4158 - k_smape: 80.0934 - val_loss: 1.6219 - val_k_smape: 84.2463\n",
      "Epoch 54/60\n",
      "0s - loss: 1.3653 - k_smape: 80.1962 - val_loss: 1.2443 - val_k_smape: 73.2324\n",
      "Epoch 55/60\n",
      "0s - loss: 1.3952 - k_smape: 78.9131 - val_loss: 1.4440 - val_k_smape: 78.9070\n",
      "Epoch 56/60\n",
      "0s - loss: 1.3870 - k_smape: 80.9766 - val_loss: 1.3174 - val_k_smape: 77.9320\n",
      "Epoch 57/60\n",
      "0s - loss: 1.3954 - k_smape: 79.9572 - val_loss: 1.4027 - val_k_smape: 78.7033\n",
      "Epoch 58/60\n",
      "0s - loss: 1.4158 - k_smape: 79.7477 - val_loss: 1.3927 - val_k_smape: 75.3301\n",
      "Epoch 59/60\n",
      "0s - loss: 1.3600 - k_smape: 79.1311 - val_loss: 1.4163 - val_k_smape: 83.1394\n",
      "Epoch 60/60\n",
      "0s - loss: 1.3546 - k_smape: 81.5184 - val_loss: 1.6255 - val_k_smape: 82.1038\n",
      "=== Run: 2 / 3 ===\n",
      "--- Group: 1 / 4 ---\n",
      "Train on 22165 samples, validate on 2463 samples\n",
      "--- Group: 2 / 4 ---\n",
      "Train on 39403 samples, validate on 4379 samples\n",
      "Epoch 1/40\n",
      "7s - loss: 1.3481 - k_smape: 127.1663 - val_loss: 1.0730 - val_k_smape: 121.5317\n",
      "Epoch 2/40\n",
      "7s - loss: 1.2691 - k_smape: 118.1133 - val_loss: 1.0735 - val_k_smape: 120.0380\n",
      "Epoch 3/40\n",
      "7s - loss: 1.2487 - k_smape: 116.1731 - val_loss: 1.0884 - val_k_smape: 120.5288\n",
      "Epoch 4/40\n",
      "7s - loss: 1.2358 - k_smape: 114.9861 - val_loss: 1.0512 - val_k_smape: 116.9866\n",
      "Epoch 5/40\n",
      "7s - loss: 1.2338 - k_smape: 114.8375 - val_loss: 1.0363 - val_k_smape: 115.5658\n",
      "Epoch 6/40\n",
      "7s - loss: 1.2273 - k_smape: 114.3912 - val_loss: 1.0618 - val_k_smape: 122.4822\n",
      "Epoch 7/40\n",
      "7s - loss: 1.2189 - k_smape: 113.9312 - val_loss: 1.0516 - val_k_smape: 118.6861\n",
      "Epoch 8/40\n",
      "7s - loss: 1.2203 - k_smape: 113.9918 - val_loss: 1.0304 - val_k_smape: 117.0708\n",
      "Epoch 9/40\n",
      "7s - loss: 1.2126 - k_smape: 113.4797 - val_loss: 1.0734 - val_k_smape: 120.9101\n",
      "Epoch 10/40\n",
      "7s - loss: 1.2131 - k_smape: 113.6588 - val_loss: 1.0269 - val_k_smape: 115.1157\n",
      "Epoch 11/40\n",
      "7s - loss: 1.2127 - k_smape: 113.3594 - val_loss: 1.0462 - val_k_smape: 120.0934\n",
      "Epoch 12/40\n",
      "7s - loss: 1.2116 - k_smape: 113.3682 - val_loss: 1.0385 - val_k_smape: 116.1264\n",
      "Epoch 13/40\n",
      "7s - loss: 1.2122 - k_smape: 113.3754 - val_loss: 1.0260 - val_k_smape: 115.8799\n",
      "Epoch 14/40\n",
      "7s - loss: 1.2059 - k_smape: 113.2060 - val_loss: 1.0673 - val_k_smape: 120.1812\n",
      "Epoch 15/40\n",
      "7s - loss: 1.2073 - k_smape: 112.9431 - val_loss: 1.0440 - val_k_smape: 120.7566\n",
      "Epoch 16/40\n",
      "7s - loss: 1.2031 - k_smape: 112.7508 - val_loss: 1.0259 - val_k_smape: 115.3072\n",
      "Epoch 17/40\n",
      "7s - loss: 1.1994 - k_smape: 112.5467 - val_loss: 1.0710 - val_k_smape: 123.3605\n",
      "Epoch 18/40\n",
      "7s - loss: 1.2002 - k_smape: 112.6986 - val_loss: 1.0331 - val_k_smape: 117.7794\n",
      "Epoch 19/40\n",
      "7s - loss: 1.1963 - k_smape: 112.2477 - val_loss: 1.0276 - val_k_smape: 116.2387\n",
      "Epoch 20/40\n",
      "7s - loss: 1.1998 - k_smape: 112.4330 - val_loss: 1.0558 - val_k_smape: 119.4482\n",
      "Epoch 21/40\n",
      "7s - loss: 1.1956 - k_smape: 112.1731 - val_loss: 1.0348 - val_k_smape: 117.0366\n",
      "Epoch 22/40\n",
      "7s - loss: 1.1925 - k_smape: 111.9401 - val_loss: 1.0695 - val_k_smape: 122.7888\n",
      "Epoch 23/40\n",
      "7s - loss: 1.1874 - k_smape: 111.7776 - val_loss: 1.0535 - val_k_smape: 118.9248\n",
      "Epoch 24/40\n",
      "7s - loss: 1.1882 - k_smape: 111.6410 - val_loss: 1.0603 - val_k_smape: 120.4029\n",
      "Epoch 25/40\n",
      "7s - loss: 1.1896 - k_smape: 111.7323 - val_loss: 1.0362 - val_k_smape: 116.5467\n",
      "Epoch 26/40\n",
      "7s - loss: 1.1881 - k_smape: 111.6026 - val_loss: 1.0477 - val_k_smape: 120.2024\n",
      "Epoch 27/40\n",
      "7s - loss: 1.1885 - k_smape: 111.5798 - val_loss: 1.0388 - val_k_smape: 119.8609\n",
      "Epoch 28/40\n",
      "7s - loss: 1.1835 - k_smape: 111.4877 - val_loss: 1.0252 - val_k_smape: 116.6029\n",
      "Epoch 29/40\n",
      "7s - loss: 1.1819 - k_smape: 111.3871 - val_loss: 1.0240 - val_k_smape: 115.7844\n",
      "Epoch 30/40\n",
      "7s - loss: 1.1812 - k_smape: 111.2123 - val_loss: 1.0269 - val_k_smape: 115.7425\n",
      "Epoch 31/40\n",
      "7s - loss: 1.1775 - k_smape: 111.2928 - val_loss: 1.0485 - val_k_smape: 119.7944\n",
      "Epoch 32/40\n",
      "7s - loss: 1.1780 - k_smape: 111.2835 - val_loss: 1.0158 - val_k_smape: 115.6906\n",
      "Epoch 33/40\n",
      "7s - loss: 1.1766 - k_smape: 110.9913 - val_loss: 1.0427 - val_k_smape: 117.1084\n",
      "Epoch 34/40\n",
      "7s - loss: 1.1727 - k_smape: 110.8928 - val_loss: 1.0183 - val_k_smape: 116.4617\n",
      "Epoch 35/40\n"
     ]
    },
    {
     "name": "stdout",
     "output_type": "stream",
     "text": [
      "7s - loss: 1.1727 - k_smape: 110.9860 - val_loss: 1.0358 - val_k_smape: 115.9749\n",
      "Epoch 36/40\n",
      "7s - loss: 1.1670 - k_smape: 110.5668 - val_loss: 1.0447 - val_k_smape: 118.4665\n",
      "Epoch 37/40\n",
      "7s - loss: 1.1707 - k_smape: 111.0014 - val_loss: 1.0443 - val_k_smape: 117.1311\n",
      "Epoch 38/40\n",
      "7s - loss: 1.1686 - k_smape: 110.6459 - val_loss: 1.0454 - val_k_smape: 119.1316\n",
      "Epoch 39/40\n",
      "7s - loss: 1.1642 - k_smape: 110.5048 - val_loss: 1.0129 - val_k_smape: 114.2261\n",
      "Epoch 40/40\n",
      "7s - loss: 1.1639 - k_smape: 110.6801 - val_loss: 1.0414 - val_k_smape: 118.9466\n",
      "--- Group: 3 / 4 ---\n",
      "Train on 68245 samples, validate on 7583 samples\n",
      "Epoch 1/40\n",
      "12s - loss: 1.4099 - k_smape: 110.0260 - val_loss: 1.1649 - val_k_smape: 109.8436\n",
      "Epoch 2/40\n",
      "12s - loss: 1.3093 - k_smape: 101.9715 - val_loss: 1.1688 - val_k_smape: 111.0995\n",
      "Epoch 3/40\n",
      "12s - loss: 1.2893 - k_smape: 100.4704 - val_loss: 1.1265 - val_k_smape: 108.6489\n",
      "Epoch 4/40\n",
      "12s - loss: 1.2767 - k_smape: 99.7537 - val_loss: 1.1316 - val_k_smape: 108.7385\n",
      "Epoch 5/40\n",
      "12s - loss: 1.2723 - k_smape: 99.1340 - val_loss: 1.1003 - val_k_smape: 106.3598\n",
      "Epoch 6/40\n",
      "12s - loss: 1.2686 - k_smape: 98.7250 - val_loss: 1.1248 - val_k_smape: 106.4021\n",
      "Epoch 7/40\n",
      "12s - loss: 1.2620 - k_smape: 98.5297 - val_loss: 1.1284 - val_k_smape: 107.4785\n",
      "Epoch 8/40\n",
      "12s - loss: 1.2570 - k_smape: 98.0428 - val_loss: 1.1179 - val_k_smape: 107.6416\n",
      "Epoch 9/40\n",
      "12s - loss: 1.2554 - k_smape: 97.9277 - val_loss: 1.1339 - val_k_smape: 106.9234\n",
      "Epoch 10/40\n",
      "12s - loss: 1.2499 - k_smape: 97.5748 - val_loss: 1.1127 - val_k_smape: 107.0011\n",
      "Epoch 11/40\n",
      "12s - loss: 1.2448 - k_smape: 97.4402 - val_loss: 1.1327 - val_k_smape: 106.5491\n",
      "Epoch 12/40\n",
      "12s - loss: 1.2444 - k_smape: 97.3875 - val_loss: 1.1091 - val_k_smape: 106.1505\n",
      "Epoch 13/40\n",
      "12s - loss: 1.2424 - k_smape: 97.2456 - val_loss: 1.1294 - val_k_smape: 108.8785\n",
      "Epoch 14/40\n",
      "12s - loss: 1.2402 - k_smape: 97.2984 - val_loss: 1.0822 - val_k_smape: 105.9436\n",
      "Epoch 15/40\n",
      "12s - loss: 1.2381 - k_smape: 96.9027 - val_loss: 1.1477 - val_k_smape: 106.6559\n",
      "Epoch 16/40\n",
      "12s - loss: 1.2358 - k_smape: 96.7488 - val_loss: 1.1097 - val_k_smape: 105.6045\n",
      "Epoch 17/40\n",
      "12s - loss: 1.2323 - k_smape: 96.8006 - val_loss: 1.1372 - val_k_smape: 108.2471\n",
      "Epoch 18/40\n",
      "12s - loss: 1.2269 - k_smape: 96.4836 - val_loss: 1.0978 - val_k_smape: 105.7446\n",
      "Epoch 19/40\n",
      "12s - loss: 1.2294 - k_smape: 96.5213 - val_loss: 1.1319 - val_k_smape: 107.2048\n",
      "Epoch 20/40\n",
      "12s - loss: 1.2261 - k_smape: 96.3923 - val_loss: 1.1608 - val_k_smape: 108.6860\n",
      "Epoch 21/40\n",
      "12s - loss: 1.2235 - k_smape: 96.2637 - val_loss: 1.1518 - val_k_smape: 107.9536\n",
      "Epoch 22/40\n",
      "12s - loss: 1.2231 - k_smape: 96.2326 - val_loss: 1.1316 - val_k_smape: 107.2495\n",
      "Epoch 23/40\n",
      "12s - loss: 1.2200 - k_smape: 95.9652 - val_loss: 1.1498 - val_k_smape: 108.0260\n",
      "Epoch 24/40\n",
      "12s - loss: 1.2217 - k_smape: 95.8947 - val_loss: 1.1564 - val_k_smape: 106.8668\n",
      "Epoch 25/40\n",
      "12s - loss: 1.2151 - k_smape: 95.8638 - val_loss: 1.0991 - val_k_smape: 105.2560\n",
      "Epoch 26/40\n",
      "12s - loss: 1.2169 - k_smape: 95.7656 - val_loss: 1.1256 - val_k_smape: 106.9794\n",
      "Epoch 27/40\n",
      "12s - loss: 1.2111 - k_smape: 95.6225 - val_loss: 1.1214 - val_k_smape: 105.8820\n",
      "Epoch 28/40\n",
      "12s - loss: 1.2105 - k_smape: 95.6345 - val_loss: 1.1004 - val_k_smape: 105.3296\n",
      "Epoch 29/40\n",
      "12s - loss: 1.2107 - k_smape: 95.5187 - val_loss: 1.1137 - val_k_smape: 106.9129\n",
      "Epoch 30/40\n",
      "13s - loss: 1.2074 - k_smape: 95.4935 - val_loss: 1.1068 - val_k_smape: 105.9210\n",
      "Epoch 31/40\n",
      "12s - loss: 1.2066 - k_smape: 95.3829 - val_loss: 1.1096 - val_k_smape: 105.8740\n",
      "Epoch 32/40\n",
      "12s - loss: 1.2062 - k_smape: 95.4437 - val_loss: 1.1599 - val_k_smape: 107.7540\n",
      "Epoch 33/40\n",
      "12s - loss: 1.2033 - k_smape: 95.0898 - val_loss: 1.1280 - val_k_smape: 106.3439\n",
      "Epoch 34/40\n",
      "12s - loss: 1.2009 - k_smape: 95.2332 - val_loss: 1.0940 - val_k_smape: 105.2779\n",
      "Epoch 35/40\n",
      "12s - loss: 1.2028 - k_smape: 95.2064 - val_loss: 1.1095 - val_k_smape: 106.4575\n",
      "Epoch 36/40\n",
      "12s - loss: 1.1993 - k_smape: 95.1764 - val_loss: 1.0825 - val_k_smape: 105.0126\n",
      "Epoch 37/40\n",
      "12s - loss: 1.2002 - k_smape: 95.1121 - val_loss: 1.1003 - val_k_smape: 105.0403\n",
      "Epoch 38/40\n",
      "12s - loss: 1.1944 - k_smape: 94.8871 - val_loss: 1.1525 - val_k_smape: 106.0748\n",
      "Epoch 39/40\n",
      "12s - loss: 1.1969 - k_smape: 94.9478 - val_loss: 1.1094 - val_k_smape: 105.5027\n",
      "Epoch 40/40\n",
      "12s - loss: 1.1927 - k_smape: 94.9207 - val_loss: 1.0683 - val_k_smape: 104.3802\n",
      "--- Group: 4 / 4 ---\n",
      "Train on 742 samples, validate on 83 samples\n",
      "Epoch 1/60\n",
      "0s - loss: 3.1129 - k_smape: 155.5633 - val_loss: 3.6934 - val_k_smape: 138.9826\n",
      "Epoch 2/60\n",
      "0s - loss: 2.7676 - k_smape: 135.5188 - val_loss: 3.7680 - val_k_smape: 139.4803\n",
      "Epoch 3/60\n",
      "0s - loss: 2.5634 - k_smape: 130.5701 - val_loss: 2.9414 - val_k_smape: 118.6002\n",
      "Epoch 4/60\n",
      "0s - loss: 2.3350 - k_smape: 121.3129 - val_loss: 2.9371 - val_k_smape: 117.9225\n",
      "Epoch 5/60\n",
      "0s - loss: 2.1997 - k_smape: 118.0618 - val_loss: 2.4536 - val_k_smape: 105.9013\n",
      "Epoch 6/60\n",
      "0s - loss: 2.0809 - k_smape: 110.7800 - val_loss: 2.3258 - val_k_smape: 101.6709\n",
      "Epoch 7/60\n",
      "0s - loss: 2.0138 - k_smape: 107.4548 - val_loss: 2.3284 - val_k_smape: 101.3796\n",
      "Epoch 8/60\n",
      "0s - loss: 1.9559 - k_smape: 105.3696 - val_loss: 2.1250 - val_k_smape: 98.8459\n",
      "Epoch 9/60\n",
      "0s - loss: 1.9031 - k_smape: 103.5310 - val_loss: 1.9268 - val_k_smape: 93.9121\n",
      "Epoch 10/60\n",
      "0s - loss: 1.8387 - k_smape: 100.6990 - val_loss: 2.0152 - val_k_smape: 97.1462\n",
      "Epoch 11/60\n",
      "0s - loss: 1.8079 - k_smape: 98.9086 - val_loss: 2.0932 - val_k_smape: 97.8645\n",
      "Epoch 12/60\n",
      "0s - loss: 1.7556 - k_smape: 97.0936 - val_loss: 1.6442 - val_k_smape: 89.5568\n",
      "Epoch 13/60\n",
      "0s - loss: 1.7111 - k_smape: 95.6062 - val_loss: 1.7836 - val_k_smape: 91.2899\n",
      "Epoch 14/60\n",
      "0s - loss: 1.7444 - k_smape: 95.9016 - val_loss: 1.8582 - val_k_smape: 94.7399\n",
      "Epoch 15/60\n",
      "0s - loss: 1.6969 - k_smape: 94.2195 - val_loss: 2.0027 - val_k_smape: 90.0471\n",
      "Epoch 16/60\n",
      "0s - loss: 1.6786 - k_smape: 92.6078 - val_loss: 1.4877 - val_k_smape: 88.3351\n",
      "Epoch 17/60\n",
      "0s - loss: 1.7097 - k_smape: 94.7407 - val_loss: 1.4816 - val_k_smape: 86.1615\n",
      "Epoch 18/60\n",
      "0s - loss: 1.7011 - k_smape: 91.3063 - val_loss: 1.7352 - val_k_smape: 91.3897\n",
      "Epoch 19/60\n",
      "0s - loss: 1.6522 - k_smape: 89.8392 - val_loss: 1.7925 - val_k_smape: 90.7060\n",
      "Epoch 20/60\n",
      "0s - loss: 1.6263 - k_smape: 91.5513 - val_loss: 1.4967 - val_k_smape: 84.7679\n",
      "Epoch 21/60\n",
      "0s - loss: 1.5932 - k_smape: 88.3458 - val_loss: 1.6261 - val_k_smape: 90.6694\n",
      "Epoch 22/60\n",
      "0s - loss: 1.5614 - k_smape: 89.0640 - val_loss: 1.5177 - val_k_smape: 83.3997\n",
      "Epoch 23/60\n",
      "0s - loss: 1.5673 - k_smape: 87.5886 - val_loss: 1.7162 - val_k_smape: 89.8731\n",
      "Epoch 24/60\n",
      "0s - loss: 1.5394 - k_smape: 87.4581 - val_loss: 1.6983 - val_k_smape: 89.5410\n",
      "Epoch 25/60\n",
      "0s - loss: 1.5364 - k_smape: 86.5905 - val_loss: 1.6377 - val_k_smape: 84.2963\n",
      "Epoch 26/60\n",
      "0s - loss: 1.5616 - k_smape: 87.8840 - val_loss: 1.3360 - val_k_smape: 84.7709\n",
      "Epoch 27/60\n",
      "0s - loss: 1.5671 - k_smape: 87.3677 - val_loss: 1.6015 - val_k_smape: 83.2683\n",
      "Epoch 28/60\n",
      "0s - loss: 1.5151 - k_smape: 84.4286 - val_loss: 1.3600 - val_k_smape: 83.2965\n",
      "Epoch 29/60\n",
      "0s - loss: 1.4811 - k_smape: 84.4802 - val_loss: 1.4605 - val_k_smape: 83.5541\n",
      "Epoch 30/60\n",
      "0s - loss: 1.4679 - k_smape: 85.5294 - val_loss: 1.5164 - val_k_smape: 82.7621\n",
      "Epoch 31/60\n",
      "0s - loss: 1.4913 - k_smape: 83.3177 - val_loss: 1.4635 - val_k_smape: 82.3876\n",
      "Epoch 32/60\n",
      "0s - loss: 1.5470 - k_smape: 86.5114 - val_loss: 1.3219 - val_k_smape: 79.1028\n",
      "Epoch 33/60\n",
      "0s - loss: 1.4881 - k_smape: 83.9920 - val_loss: 1.7765 - val_k_smape: 84.3804\n",
      "Epoch 34/60\n",
      "0s - loss: 1.5002 - k_smape: 82.9258 - val_loss: 1.6145 - val_k_smape: 85.8339\n",
      "Epoch 35/60\n",
      "0s - loss: 1.5043 - k_smape: 84.5072 - val_loss: 1.3599 - val_k_smape: 81.6712\n",
      "Epoch 36/60\n",
      "0s - loss: 1.4448 - k_smape: 83.0357 - val_loss: 1.3377 - val_k_smape: 81.8596\n",
      "Epoch 37/60\n",
      "0s - loss: 1.4364 - k_smape: 81.1120 - val_loss: 1.2980 - val_k_smape: 79.9342\n",
      "Epoch 38/60\n",
      "0s - loss: 1.4449 - k_smape: 81.3776 - val_loss: 1.6913 - val_k_smape: 85.4353\n",
      "Epoch 39/60\n",
      "0s - loss: 1.4553 - k_smape: 83.0283 - val_loss: 1.2347 - val_k_smape: 77.7610\n",
      "Epoch 40/60\n",
      "0s - loss: 1.4122 - k_smape: 81.2264 - val_loss: 1.4017 - val_k_smape: 78.8997\n",
      "Epoch 41/60\n",
      "0s - loss: 1.4166 - k_smape: 81.4500 - val_loss: 1.5269 - val_k_smape: 84.0853\n",
      "Epoch 42/60\n",
      "0s - loss: 1.4171 - k_smape: 81.2102 - val_loss: 1.3930 - val_k_smape: 78.5785\n",
      "Epoch 43/60\n"
     ]
    },
    {
     "name": "stdout",
     "output_type": "stream",
     "text": [
      "0s - loss: 1.4352 - k_smape: 81.1635 - val_loss: 1.5385 - val_k_smape: 82.4423\n",
      "Epoch 44/60\n",
      "0s - loss: 1.4194 - k_smape: 81.1053 - val_loss: 1.3107 - val_k_smape: 78.1603\n",
      "Epoch 45/60\n",
      "0s - loss: 1.4154 - k_smape: 79.8475 - val_loss: 1.2788 - val_k_smape: 77.5092\n",
      "Epoch 46/60\n",
      "0s - loss: 1.4407 - k_smape: 79.7759 - val_loss: 1.5260 - val_k_smape: 83.9056\n",
      "Epoch 47/60\n",
      "0s - loss: 1.4055 - k_smape: 81.5148 - val_loss: 1.4401 - val_k_smape: 81.5957\n",
      "Epoch 48/60\n",
      "0s - loss: 1.4135 - k_smape: 80.3588 - val_loss: 1.3533 - val_k_smape: 75.8107\n",
      "Epoch 49/60\n",
      "0s - loss: 1.3687 - k_smape: 79.5493 - val_loss: 1.2667 - val_k_smape: 82.1079\n",
      "Epoch 50/60\n",
      "0s - loss: 1.3934 - k_smape: 81.0890 - val_loss: 1.5611 - val_k_smape: 80.7972\n",
      "Epoch 51/60\n",
      "0s - loss: 1.3805 - k_smape: 78.5776 - val_loss: 1.3706 - val_k_smape: 78.4654\n",
      "Epoch 52/60\n",
      "0s - loss: 1.3800 - k_smape: 78.9813 - val_loss: 1.5036 - val_k_smape: 84.1271\n",
      "Epoch 53/60\n",
      "0s - loss: 1.3964 - k_smape: 80.8050 - val_loss: 1.2134 - val_k_smape: 74.8666\n",
      "Epoch 54/60\n",
      "0s - loss: 1.4546 - k_smape: 79.3189 - val_loss: 1.4999 - val_k_smape: 80.5576\n",
      "Epoch 55/60\n",
      "0s - loss: 1.3673 - k_smape: 78.7228 - val_loss: 1.7039 - val_k_smape: 84.9911\n",
      "Epoch 56/60\n",
      "0s - loss: 1.4216 - k_smape: 80.2628 - val_loss: 1.3381 - val_k_smape: 79.3358\n",
      "Epoch 57/60\n",
      "0s - loss: 1.3767 - k_smape: 82.3297 - val_loss: 1.3842 - val_k_smape: 78.8912\n",
      "Epoch 58/60\n",
      "0s - loss: 1.3858 - k_smape: 78.1042 - val_loss: 1.6840 - val_k_smape: 84.3519\n",
      "Epoch 59/60\n",
      "0s - loss: 1.3971 - k_smape: 79.1690 - val_loss: 1.3546 - val_k_smape: 75.6943\n",
      "Epoch 60/60\n",
      "0s - loss: 1.3609 - k_smape: 78.1586 - val_loss: 1.2854 - val_k_smape: 75.7508\n",
      "=== Run: 3 / 3 ===\n",
      "--- Group: 1 / 4 ---\n",
      "Train on 22165 samples, validate on 2463 samples\n",
      "--- Group: 2 / 4 ---\n",
      "Train on 39403 samples, validate on 4379 samples\n",
      "Epoch 1/40\n",
      "7s - loss: 1.3468 - k_smape: 126.9965 - val_loss: 1.0540 - val_k_smape: 119.3171\n",
      "Epoch 2/40\n",
      "7s - loss: 1.2631 - k_smape: 117.7401 - val_loss: 1.0428 - val_k_smape: 116.6169\n",
      "Epoch 3/40\n",
      "7s - loss: 1.2432 - k_smape: 116.1550 - val_loss: 1.0374 - val_k_smape: 114.4836\n",
      "Epoch 4/40\n",
      "7s - loss: 1.2342 - k_smape: 114.9514 - val_loss: 1.0672 - val_k_smape: 117.3302\n",
      "Epoch 5/40\n",
      "7s - loss: 1.2270 - k_smape: 114.3690 - val_loss: 1.0451 - val_k_smape: 116.8276\n",
      "Epoch 6/40\n",
      "7s - loss: 1.2212 - k_smape: 114.1036 - val_loss: 1.0290 - val_k_smape: 112.6060\n",
      "Epoch 7/40\n",
      "7s - loss: 1.2228 - k_smape: 113.8138 - val_loss: 1.0328 - val_k_smape: 115.4131\n",
      "Epoch 8/40\n",
      "7s - loss: 1.2154 - k_smape: 113.4873 - val_loss: 1.0485 - val_k_smape: 119.5215\n",
      "Epoch 9/40\n",
      "7s - loss: 1.2149 - k_smape: 113.4557 - val_loss: 1.0542 - val_k_smape: 121.4995\n",
      "Epoch 10/40\n",
      "7s - loss: 1.2118 - k_smape: 113.3098 - val_loss: 1.0271 - val_k_smape: 117.0121\n",
      "Epoch 11/40\n",
      "7s - loss: 1.2069 - k_smape: 112.9324 - val_loss: 1.0432 - val_k_smape: 116.2675\n",
      "Epoch 12/40\n",
      "7s - loss: 1.2122 - k_smape: 112.9766 - val_loss: 1.0271 - val_k_smape: 115.6990\n",
      "Epoch 13/40\n",
      "7s - loss: 1.2084 - k_smape: 112.7744 - val_loss: 1.0348 - val_k_smape: 116.7314\n",
      "Epoch 14/40\n",
      "7s - loss: 1.2062 - k_smape: 112.7412 - val_loss: 1.0482 - val_k_smape: 119.3437\n",
      "Epoch 15/40\n",
      "7s - loss: 1.2072 - k_smape: 112.4462 - val_loss: 1.0441 - val_k_smape: 119.2345\n",
      "Epoch 16/40\n",
      "7s - loss: 1.2030 - k_smape: 112.3680 - val_loss: 1.0420 - val_k_smape: 115.7311\n",
      "Epoch 17/40\n",
      "7s - loss: 1.2006 - k_smape: 112.1310 - val_loss: 1.0661 - val_k_smape: 115.2049\n",
      "Epoch 18/40\n",
      "7s - loss: 1.1991 - k_smape: 112.0737 - val_loss: 1.0293 - val_k_smape: 115.7660\n",
      "Epoch 19/40\n",
      "7s - loss: 1.1961 - k_smape: 111.8017 - val_loss: 1.0282 - val_k_smape: 114.6549\n",
      "Epoch 20/40\n",
      "7s - loss: 1.1981 - k_smape: 111.8891 - val_loss: 1.0475 - val_k_smape: 116.0614\n",
      "Epoch 21/40\n",
      "7s - loss: 1.1969 - k_smape: 111.8363 - val_loss: 1.0635 - val_k_smape: 117.4119\n",
      "Epoch 22/40\n",
      "7s - loss: 1.1978 - k_smape: 111.8365 - val_loss: 1.0509 - val_k_smape: 118.7870\n",
      "Epoch 23/40\n",
      "7s - loss: 1.1912 - k_smape: 111.6191 - val_loss: 1.0408 - val_k_smape: 117.3502\n",
      "Epoch 24/40\n",
      "7s - loss: 1.1947 - k_smape: 111.5230 - val_loss: 1.0890 - val_k_smape: 122.2066\n",
      "Epoch 25/40\n",
      "7s - loss: 1.1920 - k_smape: 111.4854 - val_loss: 1.0367 - val_k_smape: 116.1933\n",
      "Epoch 26/40\n",
      "7s - loss: 1.1886 - k_smape: 111.3090 - val_loss: 1.0496 - val_k_smape: 116.6207\n",
      "Epoch 27/40\n",
      "7s - loss: 1.1871 - k_smape: 111.2363 - val_loss: 1.0360 - val_k_smape: 115.8350\n",
      "Epoch 28/40\n",
      "7s - loss: 1.1822 - k_smape: 111.0593 - val_loss: 1.0512 - val_k_smape: 118.0341\n",
      "Epoch 29/40\n",
      "7s - loss: 1.1816 - k_smape: 111.2452 - val_loss: 1.0462 - val_k_smape: 117.9205\n",
      "Epoch 30/40\n",
      "7s - loss: 1.1796 - k_smape: 110.9996 - val_loss: 1.0389 - val_k_smape: 116.0294\n",
      "Epoch 31/40\n",
      "7s - loss: 1.1771 - k_smape: 111.0851 - val_loss: 1.0695 - val_k_smape: 118.9315\n",
      "Epoch 32/40\n",
      "7s - loss: 1.1740 - k_smape: 110.8476 - val_loss: 1.0441 - val_k_smape: 116.6511\n",
      "Epoch 33/40\n",
      "7s - loss: 1.1768 - k_smape: 110.8811 - val_loss: 1.0372 - val_k_smape: 116.3829\n",
      "Epoch 34/40\n",
      "7s - loss: 1.1775 - k_smape: 110.8662 - val_loss: 1.0643 - val_k_smape: 116.6105\n",
      "Epoch 35/40\n",
      "7s - loss: 1.1719 - k_smape: 110.7691 - val_loss: 1.0365 - val_k_smape: 117.4905\n",
      "Epoch 36/40\n",
      "7s - loss: 1.1692 - k_smape: 110.8243 - val_loss: 1.0467 - val_k_smape: 117.3228\n",
      "Epoch 37/40\n",
      "7s - loss: 1.1704 - k_smape: 110.6755 - val_loss: 1.0221 - val_k_smape: 115.4464\n",
      "Epoch 38/40\n",
      "7s - loss: 1.1670 - k_smape: 110.6459 - val_loss: 1.0364 - val_k_smape: 116.8177\n",
      "Epoch 39/40\n",
      "7s - loss: 1.1682 - k_smape: 110.5649 - val_loss: 1.0766 - val_k_smape: 121.6073\n",
      "Epoch 40/40\n",
      "7s - loss: 1.1654 - k_smape: 110.3746 - val_loss: 1.0398 - val_k_smape: 116.5201\n",
      "--- Group: 3 / 4 ---\n",
      "Train on 68245 samples, validate on 7583 samples\n",
      "Epoch 1/40\n",
      "12s - loss: 1.4048 - k_smape: 109.3270 - val_loss: 1.1531 - val_k_smape: 109.8843\n",
      "Epoch 2/40\n",
      "12s - loss: 1.3052 - k_smape: 101.5003 - val_loss: 1.1239 - val_k_smape: 108.2890\n",
      "Epoch 3/40\n",
      "12s - loss: 1.2867 - k_smape: 100.0949 - val_loss: 1.1269 - val_k_smape: 108.2673\n",
      "Epoch 4/40\n",
      "12s - loss: 1.2762 - k_smape: 99.2613 - val_loss: 1.1229 - val_k_smape: 107.8804\n",
      "Epoch 5/40\n",
      "12s - loss: 1.2687 - k_smape: 98.7872 - val_loss: 1.1051 - val_k_smape: 108.0814\n",
      "Epoch 6/40\n",
      "12s - loss: 1.2631 - k_smape: 98.3835 - val_loss: 1.1296 - val_k_smape: 106.7895\n",
      "Epoch 7/40\n",
      "12s - loss: 1.2593 - k_smape: 98.3543 - val_loss: 1.1008 - val_k_smape: 105.9325\n",
      "Epoch 8/40\n",
      "12s - loss: 1.2563 - k_smape: 97.9367 - val_loss: 1.1071 - val_k_smape: 104.9358\n",
      "Epoch 9/40\n",
      "12s - loss: 1.2498 - k_smape: 97.6455 - val_loss: 1.0821 - val_k_smape: 104.2244\n",
      "Epoch 10/40\n",
      "12s - loss: 1.2487 - k_smape: 97.3789 - val_loss: 1.1360 - val_k_smape: 105.2350\n",
      "Epoch 11/40\n",
      "12s - loss: 1.2469 - k_smape: 97.3854 - val_loss: 1.0909 - val_k_smape: 104.8896\n",
      "Epoch 12/40\n",
      "12s - loss: 1.2437 - k_smape: 97.2927 - val_loss: 1.1035 - val_k_smape: 105.8533\n",
      "Epoch 13/40\n",
      "12s - loss: 1.2415 - k_smape: 97.0364 - val_loss: 1.1207 - val_k_smape: 107.5703\n",
      "Epoch 14/40\n",
      "12s - loss: 1.2362 - k_smape: 96.8489 - val_loss: 1.0902 - val_k_smape: 105.2618\n",
      "Epoch 15/40\n",
      "12s - loss: 1.2369 - k_smape: 96.7622 - val_loss: 1.1255 - val_k_smape: 106.9517\n",
      "Epoch 16/40\n",
      "12s - loss: 1.2330 - k_smape: 96.6920 - val_loss: 1.1317 - val_k_smape: 107.9622\n",
      "Epoch 17/40\n",
      "12s - loss: 1.2301 - k_smape: 96.4477 - val_loss: 1.1321 - val_k_smape: 106.4768\n",
      "Epoch 18/40\n",
      "12s - loss: 1.2281 - k_smape: 96.3263 - val_loss: 1.1122 - val_k_smape: 105.2493\n",
      "Epoch 19/40\n",
      "12s - loss: 1.2295 - k_smape: 96.3399 - val_loss: 1.1023 - val_k_smape: 107.1412\n",
      "Epoch 20/40\n",
      "12s - loss: 1.2230 - k_smape: 96.1828 - val_loss: 1.1649 - val_k_smape: 106.3821\n",
      "Epoch 21/40\n",
      "12s - loss: 1.2227 - k_smape: 96.0969 - val_loss: 1.1353 - val_k_smape: 106.8169\n",
      "Epoch 22/40\n",
      "12s - loss: 1.2190 - k_smape: 95.8464 - val_loss: 1.1333 - val_k_smape: 105.6127\n",
      "Epoch 23/40\n",
      "12s - loss: 1.2208 - k_smape: 95.8021 - val_loss: 1.1333 - val_k_smape: 105.8685\n",
      "Epoch 24/40\n",
      "12s - loss: 1.2151 - k_smape: 95.6801 - val_loss: 1.1355 - val_k_smape: 106.3930\n",
      "Epoch 25/40\n",
      "12s - loss: 1.2151 - k_smape: 95.6411 - val_loss: 1.1468 - val_k_smape: 107.3373\n",
      "Epoch 26/40\n",
      "12s - loss: 1.2153 - k_smape: 95.7107 - val_loss: 1.1154 - val_k_smape: 104.7500\n",
      "Epoch 27/40\n",
      "12s - loss: 1.2081 - k_smape: 95.4467 - val_loss: 1.1104 - val_k_smape: 105.0276\n",
      "Epoch 28/40\n",
      "12s - loss: 1.2080 - k_smape: 95.3259 - val_loss: 1.1118 - val_k_smape: 105.0065\n",
      "Epoch 29/40\n",
      "12s - loss: 1.2102 - k_smape: 95.2883 - val_loss: 1.1497 - val_k_smape: 107.3225\n",
      "Epoch 30/40\n"
     ]
    },
    {
     "name": "stdout",
     "output_type": "stream",
     "text": [
      "12s - loss: 1.2059 - k_smape: 95.2681 - val_loss: 1.1169 - val_k_smape: 104.4874\n",
      "Epoch 31/40\n",
      "12s - loss: 1.2023 - k_smape: 95.1541 - val_loss: 1.1265 - val_k_smape: 106.4204\n",
      "Epoch 32/40\n",
      "12s - loss: 1.2017 - k_smape: 95.1371 - val_loss: 1.1331 - val_k_smape: 107.4355\n",
      "Epoch 33/40\n",
      "12s - loss: 1.2012 - k_smape: 95.1812 - val_loss: 1.0973 - val_k_smape: 104.2772\n",
      "Epoch 34/40\n",
      "12s - loss: 1.1974 - k_smape: 95.0868 - val_loss: 1.1291 - val_k_smape: 106.7105\n",
      "Epoch 35/40\n",
      "12s - loss: 1.2024 - k_smape: 95.1433 - val_loss: 1.1324 - val_k_smape: 106.9020\n",
      "Epoch 36/40\n",
      "12s - loss: 1.1966 - k_smape: 94.9523 - val_loss: 1.1010 - val_k_smape: 104.4609\n",
      "Epoch 37/40\n",
      "12s - loss: 1.1986 - k_smape: 94.9914 - val_loss: 1.1117 - val_k_smape: 106.2978\n",
      "Epoch 38/40\n",
      "12s - loss: 1.1944 - k_smape: 94.7277 - val_loss: 1.1160 - val_k_smape: 105.9630\n",
      "Epoch 39/40\n",
      "12s - loss: 1.1919 - k_smape: 94.7483 - val_loss: 1.1266 - val_k_smape: 106.5841\n",
      "Epoch 40/40\n",
      "12s - loss: 1.1912 - k_smape: 94.7213 - val_loss: 1.1202 - val_k_smape: 106.3992\n",
      "--- Group: 4 / 4 ---\n",
      "Train on 742 samples, validate on 83 samples\n",
      "Epoch 1/60\n",
      "0s - loss: 3.0995 - k_smape: 154.1416 - val_loss: 3.7797 - val_k_smape: 144.1931\n",
      "Epoch 2/60\n",
      "0s - loss: 2.6941 - k_smape: 136.7917 - val_loss: 3.4230 - val_k_smape: 132.0432\n",
      "Epoch 3/60\n",
      "0s - loss: 2.4971 - k_smape: 128.3869 - val_loss: 3.0353 - val_k_smape: 122.3325\n",
      "Epoch 4/60\n",
      "0s - loss: 2.3155 - k_smape: 120.4837 - val_loss: 2.8258 - val_k_smape: 116.8129\n",
      "Epoch 5/60\n",
      "0s - loss: 2.1556 - k_smape: 117.2689 - val_loss: 2.4246 - val_k_smape: 107.6829\n",
      "Epoch 6/60\n",
      "0s - loss: 2.0888 - k_smape: 110.5474 - val_loss: 2.5397 - val_k_smape: 105.9016\n",
      "Epoch 7/60\n",
      "0s - loss: 1.9974 - k_smape: 108.0247 - val_loss: 2.0702 - val_k_smape: 99.2000\n",
      "Epoch 8/60\n",
      "0s - loss: 1.9094 - k_smape: 105.2975 - val_loss: 1.8322 - val_k_smape: 93.9499\n",
      "Epoch 9/60\n",
      "0s - loss: 1.9158 - k_smape: 101.4452 - val_loss: 2.2239 - val_k_smape: 100.1950\n",
      "Epoch 10/60\n",
      "0s - loss: 1.8512 - k_smape: 100.7175 - val_loss: 2.0978 - val_k_smape: 99.3539\n",
      "Epoch 11/60\n",
      "0s - loss: 1.8279 - k_smape: 102.4182 - val_loss: 1.6719 - val_k_smape: 91.2682\n",
      "Epoch 12/60\n",
      "0s - loss: 1.8097 - k_smape: 98.1941 - val_loss: 2.0306 - val_k_smape: 95.9225\n",
      "Epoch 13/60\n",
      "0s - loss: 1.7476 - k_smape: 96.9000 - val_loss: 1.8522 - val_k_smape: 92.9937\n",
      "Epoch 14/60\n",
      "0s - loss: 1.7315 - k_smape: 95.0367 - val_loss: 1.6602 - val_k_smape: 89.8566\n",
      "Epoch 15/60\n",
      "0s - loss: 1.7596 - k_smape: 96.3652 - val_loss: 1.7609 - val_k_smape: 92.9248\n",
      "Epoch 16/60\n",
      "0s - loss: 1.7120 - k_smape: 94.5123 - val_loss: 1.5393 - val_k_smape: 85.7030\n",
      "Epoch 17/60\n",
      "0s - loss: 1.6759 - k_smape: 92.3415 - val_loss: 2.0658 - val_k_smape: 95.0782\n",
      "Epoch 18/60\n",
      "0s - loss: 1.6976 - k_smape: 91.3262 - val_loss: 1.7692 - val_k_smape: 91.3390\n",
      "Epoch 19/60\n",
      "0s - loss: 1.6691 - k_smape: 93.3330 - val_loss: 1.5150 - val_k_smape: 85.2313\n",
      "Epoch 20/60\n",
      "0s - loss: 1.6299 - k_smape: 90.8801 - val_loss: 1.8521 - val_k_smape: 92.5607\n",
      "Epoch 21/60\n",
      "0s - loss: 1.5775 - k_smape: 90.0518 - val_loss: 1.7752 - val_k_smape: 87.4158\n",
      "Epoch 22/60\n",
      "0s - loss: 1.6115 - k_smape: 90.0880 - val_loss: 1.4381 - val_k_smape: 85.6625\n",
      "Epoch 23/60\n",
      "0s - loss: 1.6040 - k_smape: 89.2000 - val_loss: 1.6245 - val_k_smape: 85.6517\n",
      "Epoch 24/60\n",
      "0s - loss: 1.5832 - k_smape: 86.9703 - val_loss: 1.3409 - val_k_smape: 84.2057\n",
      "Epoch 25/60\n",
      "0s - loss: 1.5644 - k_smape: 89.4466 - val_loss: 1.4815 - val_k_smape: 85.2719\n",
      "Epoch 26/60\n",
      "0s - loss: 1.5474 - k_smape: 87.7067 - val_loss: 1.8022 - val_k_smape: 88.4313\n",
      "Epoch 27/60\n",
      "0s - loss: 1.5351 - k_smape: 85.5495 - val_loss: 1.7555 - val_k_smape: 87.2195\n",
      "Epoch 28/60\n",
      "0s - loss: 1.5969 - k_smape: 88.5325 - val_loss: 1.2888 - val_k_smape: 79.9733\n",
      "Epoch 29/60\n",
      "0s - loss: 1.5458 - k_smape: 87.3975 - val_loss: 1.5819 - val_k_smape: 86.0254\n",
      "Epoch 30/60\n",
      "0s - loss: 1.5729 - k_smape: 85.0444 - val_loss: 1.6373 - val_k_smape: 86.2392\n",
      "Epoch 31/60\n",
      "0s - loss: 1.5322 - k_smape: 85.5450 - val_loss: 1.3627 - val_k_smape: 79.2445\n",
      "Epoch 32/60\n",
      "0s - loss: 1.5384 - k_smape: 86.3750 - val_loss: 1.4140 - val_k_smape: 83.3225\n",
      "Epoch 33/60\n",
      "0s - loss: 1.5247 - k_smape: 84.4826 - val_loss: 1.7551 - val_k_smape: 85.8400\n",
      "Epoch 34/60\n",
      "0s - loss: 1.4846 - k_smape: 84.0037 - val_loss: 1.6372 - val_k_smape: 80.6892\n",
      "Epoch 35/60\n",
      "0s - loss: 1.4912 - k_smape: 84.6874 - val_loss: 1.4735 - val_k_smape: 84.4098\n",
      "Epoch 36/60\n",
      "0s - loss: 1.5169 - k_smape: 85.6144 - val_loss: 1.8401 - val_k_smape: 87.6773\n",
      "Epoch 37/60\n",
      "0s - loss: 1.4929 - k_smape: 83.2265 - val_loss: 1.4377 - val_k_smape: 78.7961\n",
      "Epoch 38/60\n",
      "0s - loss: 1.4611 - k_smape: 83.7438 - val_loss: 1.3820 - val_k_smape: 84.1204\n",
      "Epoch 39/60\n",
      "0s - loss: 1.4823 - k_smape: 83.7042 - val_loss: 1.5615 - val_k_smape: 82.6729\n",
      "Epoch 40/60\n",
      "0s - loss: 1.4441 - k_smape: 81.8892 - val_loss: 1.3810 - val_k_smape: 78.4229\n",
      "Epoch 41/60\n",
      "0s - loss: 1.4481 - k_smape: 81.4086 - val_loss: 1.4524 - val_k_smape: 82.7183\n",
      "Epoch 42/60\n",
      "0s - loss: 1.4246 - k_smape: 82.6801 - val_loss: 1.3918 - val_k_smape: 77.7353\n",
      "Epoch 43/60\n",
      "0s - loss: 1.3915 - k_smape: 79.8725 - val_loss: 1.3205 - val_k_smape: 78.4885\n",
      "Epoch 44/60\n",
      "0s - loss: 1.4504 - k_smape: 82.0471 - val_loss: 1.7062 - val_k_smape: 81.5521\n",
      "Epoch 45/60\n",
      "0s - loss: 1.4216 - k_smape: 80.6446 - val_loss: 1.2488 - val_k_smape: 79.3732\n",
      "Epoch 46/60\n",
      "0s - loss: 1.4565 - k_smape: 82.7683 - val_loss: 1.3572 - val_k_smape: 80.1315\n",
      "Epoch 47/60\n",
      "0s - loss: 1.4000 - k_smape: 81.0571 - val_loss: 1.3473 - val_k_smape: 79.2724\n",
      "Epoch 48/60\n",
      "0s - loss: 1.4491 - k_smape: 79.9783 - val_loss: 1.6981 - val_k_smape: 82.9858\n",
      "Epoch 49/60\n",
      "0s - loss: 1.3905 - k_smape: 81.6899 - val_loss: 1.2611 - val_k_smape: 78.3544\n",
      "Epoch 50/60\n",
      "0s - loss: 1.3848 - k_smape: 79.4779 - val_loss: 1.2471 - val_k_smape: 76.4601\n",
      "Epoch 51/60\n",
      "0s - loss: 1.4353 - k_smape: 80.4545 - val_loss: 1.6349 - val_k_smape: 79.8399\n",
      "Epoch 52/60\n",
      "0s - loss: 1.3854 - k_smape: 78.5417 - val_loss: 1.3477 - val_k_smape: 76.6868\n",
      "Epoch 53/60\n",
      "0s - loss: 1.3965 - k_smape: 79.7806 - val_loss: 1.2283 - val_k_smape: 77.6721\n",
      "Epoch 54/60\n",
      "0s - loss: 1.3704 - k_smape: 80.9399 - val_loss: 1.6235 - val_k_smape: 81.0804\n",
      "Epoch 55/60\n",
      "0s - loss: 1.3833 - k_smape: 78.3302 - val_loss: 1.3481 - val_k_smape: 78.2884\n",
      "Epoch 56/60\n",
      "0s - loss: 1.4135 - k_smape: 80.7821 - val_loss: 1.2847 - val_k_smape: 79.3898\n",
      "Epoch 57/60\n",
      "0s - loss: 1.4002 - k_smape: 79.0673 - val_loss: 1.1878 - val_k_smape: 73.6223\n",
      "Epoch 58/60\n",
      "0s - loss: 1.3380 - k_smape: 78.6194 - val_loss: 1.3594 - val_k_smape: 81.6406\n",
      "Epoch 59/60\n",
      "0s - loss: 1.3499 - k_smape: 78.7634 - val_loss: 1.6212 - val_k_smape: 80.1849\n",
      "Epoch 60/60\n",
      "0s - loss: 1.3865 - k_smape: 78.4402 - val_loss: 1.4795 - val_k_smape: 79.4177\n",
      "Wall time: 39min 23s\n"
     ]
    }
   ],
   "source": [
    "%%time\n",
    "hists_ens = []\n",
    "for run, models in zip(ens_list, models_ens):\n",
    "    print('=== Run:', run+1, '/', len(ens_list), '===')\n",
    "    hists = []\n",
    "    for (gp, model, X_in, Y_in, epochs, A_in) in zip(gp_list, models,\n",
    "                                       X_input_list, Y_input_list, \n",
    "                                       epochs_list, A_input_list):\n",
    "        print('--- Group:', gp+1, '/', len(gp_list), '---')\n",
    "        hist = model.fit([X_in, A_in], Y_in, batch_size=128, \n",
    "                         epochs=epochs, \n",
    "                         validation_split=0.1, verbose=2)\n",
    "        #validation_data=(X_val, Y_val))\n",
    "        hists.append(hist)\n",
    "    hists_ens.append(hists)"
   ]
  },
  {
   "cell_type": "markdown",
   "metadata": {
    "collapsed": true,
    "scrolled": true
   },
   "source": [
    "%%time\n",
    "hists_ens = []\n",
    "for run, models in zip(ens_list, models_ens):\n",
    "    print('=== Run:', run+1, '/', len(ens_list), '===')\n",
    "    hists = []\n",
    "    for (gp, model, X_in, Y_in, epochs, A_in, Z_in) in zip(gp_list, models,\n",
    "                                       X_input_list, Y_input_list, \n",
    "                                       epochs_list, A_input_list, Z_input_list):\n",
    "        print('--- Group:', gp+1, '/', len(gp_list), '---')\n",
    "        hist = model.fit([X_in, A_in, Z_in], Y_in, batch_size=128, \n",
    "                         epochs=epochs, \n",
    "                         validation_split=0.1, verbose=2)\n",
    "        #validation_data=(X_val, Y_val))\n",
    "        hists.append(hist)\n",
    "    hists_ens.append(hists)"
   ]
  },
  {
   "cell_type": "markdown",
   "metadata": {},
   "source": [
    "#### Save models"
   ]
  },
  {
   "cell_type": "code",
   "execution_count": 206,
   "metadata": {},
   "outputs": [
    {
     "ename": "ImportError",
     "evalue": "`save_model` requires h5py.",
     "output_type": "error",
     "traceback": [
      "\u001b[1;31m---------------------------------------------------------------------------\u001b[0m",
      "\u001b[1;31mImportError\u001b[0m                               Traceback (most recent call last)",
      "\u001b[1;32m<ipython-input-206-84b9bdb2e00e>\u001b[0m in \u001b[0;36m<module>\u001b[1;34m()\u001b[0m\n\u001b[0;32m      1\u001b[0m \u001b[1;32mfor\u001b[0m \u001b[0mrun\u001b[0m \u001b[1;32min\u001b[0m \u001b[0mens_list\u001b[0m\u001b[1;33m:\u001b[0m\u001b[1;33m\u001b[0m\u001b[0m\n\u001b[0;32m      2\u001b[0m     \u001b[1;32mfor\u001b[0m \u001b[0mgp\u001b[0m \u001b[1;32min\u001b[0m \u001b[0mgp_list\u001b[0m\u001b[1;33m:\u001b[0m\u001b[1;33m\u001b[0m\u001b[0m\n\u001b[1;32m----> 3\u001b[1;33m         \u001b[0mmodels_ens\u001b[0m\u001b[1;33m[\u001b[0m\u001b[0mrun\u001b[0m\u001b[1;33m]\u001b[0m\u001b[1;33m[\u001b[0m\u001b[0mgp\u001b[0m\u001b[1;33m]\u001b[0m\u001b[1;33m.\u001b[0m\u001b[0msave\u001b[0m\u001b[1;33m(\u001b[0m\u001b[1;34m'../models/'\u001b[0m \u001b[1;33m+\u001b[0m \u001b[0mmodel_name\u001b[0m \u001b[1;33m+\u001b[0m \u001b[1;34m'-'\u001b[0m \u001b[1;33m+\u001b[0m \u001b[0mstr\u001b[0m\u001b[1;33m(\u001b[0m\u001b[0mrun\u001b[0m\u001b[1;33m)\u001b[0m \u001b[1;33m+\u001b[0m \u001b[1;34m'-'\u001b[0m \u001b[1;33m+\u001b[0m \u001b[0mstr\u001b[0m\u001b[1;33m(\u001b[0m\u001b[0mgp\u001b[0m\u001b[1;33m)\u001b[0m \u001b[1;33m+\u001b[0m\u001b[1;34m'.h5'\u001b[0m\u001b[1;33m)\u001b[0m\u001b[1;33m\u001b[0m\u001b[0m\n\u001b[0m",
      "\u001b[1;32mc:\\python36\\lib\\site-packages\\keras\\engine\\topology.py\u001b[0m in \u001b[0;36msave\u001b[1;34m(self, filepath, overwrite, include_optimizer)\u001b[0m\n\u001b[0;32m   2504\u001b[0m         \"\"\"\n\u001b[0;32m   2505\u001b[0m         \u001b[1;32mfrom\u001b[0m \u001b[1;33m.\u001b[0m\u001b[1;33m.\u001b[0m\u001b[0mmodels\u001b[0m \u001b[1;32mimport\u001b[0m \u001b[0msave_model\u001b[0m\u001b[1;33m\u001b[0m\u001b[0m\n\u001b[1;32m-> 2506\u001b[1;33m         \u001b[0msave_model\u001b[0m\u001b[1;33m(\u001b[0m\u001b[0mself\u001b[0m\u001b[1;33m,\u001b[0m \u001b[0mfilepath\u001b[0m\u001b[1;33m,\u001b[0m \u001b[0moverwrite\u001b[0m\u001b[1;33m,\u001b[0m \u001b[0minclude_optimizer\u001b[0m\u001b[1;33m)\u001b[0m\u001b[1;33m\u001b[0m\u001b[0m\n\u001b[0m\u001b[0;32m   2507\u001b[0m \u001b[1;33m\u001b[0m\u001b[0m\n\u001b[0;32m   2508\u001b[0m     \u001b[1;32mdef\u001b[0m \u001b[0msave_weights\u001b[0m\u001b[1;33m(\u001b[0m\u001b[0mself\u001b[0m\u001b[1;33m,\u001b[0m \u001b[0mfilepath\u001b[0m\u001b[1;33m,\u001b[0m \u001b[0moverwrite\u001b[0m\u001b[1;33m=\u001b[0m\u001b[1;32mTrue\u001b[0m\u001b[1;33m)\u001b[0m\u001b[1;33m:\u001b[0m\u001b[1;33m\u001b[0m\u001b[0m\n",
      "\u001b[1;32mc:\\python36\\lib\\site-packages\\keras\\models.py\u001b[0m in \u001b[0;36msave_model\u001b[1;34m(model, filepath, overwrite, include_optimizer)\u001b[0m\n\u001b[0;32m     53\u001b[0m \u001b[1;33m\u001b[0m\u001b[0m\n\u001b[0;32m     54\u001b[0m     \u001b[1;32mif\u001b[0m \u001b[0mh5py\u001b[0m \u001b[1;32mis\u001b[0m \u001b[1;32mNone\u001b[0m\u001b[1;33m:\u001b[0m\u001b[1;33m\u001b[0m\u001b[0m\n\u001b[1;32m---> 55\u001b[1;33m         \u001b[1;32mraise\u001b[0m \u001b[0mImportError\u001b[0m\u001b[1;33m(\u001b[0m\u001b[1;34m'`save_model` requires h5py.'\u001b[0m\u001b[1;33m)\u001b[0m\u001b[1;33m\u001b[0m\u001b[0m\n\u001b[0m\u001b[0;32m     56\u001b[0m \u001b[1;33m\u001b[0m\u001b[0m\n\u001b[0;32m     57\u001b[0m     \u001b[1;32mdef\u001b[0m \u001b[0mget_json_type\u001b[0m\u001b[1;33m(\u001b[0m\u001b[0mobj\u001b[0m\u001b[1;33m)\u001b[0m\u001b[1;33m:\u001b[0m\u001b[1;33m\u001b[0m\u001b[0m\n",
      "\u001b[1;31mImportError\u001b[0m: `save_model` requires h5py."
     ]
    }
   ],
   "source": [
    "for run in ens_list:\n",
    "    for gp in gp_list:\n",
    "        models_ens[run][gp].save('../models/' + model_name + '-' + str(run) + '-' + str(gp) +'.h5')"
   ]
  },
  {
   "cell_type": "markdown",
   "metadata": {},
   "source": [
    "### Training History"
   ]
  },
  {
   "cell_type": "code",
   "execution_count": 208,
   "metadata": {
    "scrolled": true
   },
   "outputs": [
    {
     "data": {
      "image/png": "[encoded data removed]",
      "text/plain": [
       "<matplotlib.figure.Figure at 0x996ba4e0>"
      ]
     },
     "metadata": {},
     "output_type": "display_data"
    },
    {
     "data": {
      "image/png": "[encoded data removed]",
      "text/plain": [
       "<matplotlib.figure.Figure at 0x993e3f98>"
      ]
     },
     "metadata": {},
     "output_type": "display_data"
    },
    {
     "data": {
      "image/png": "[encoded data removed]",
      "text/plain": [
       "<matplotlib.figure.Figure at 0x99034e10>"
      ]
     },
     "metadata": {},
     "output_type": "display_data"
    }
   ],
   "source": [
    "for gp, ep in zip(gp_list, epochs_list):\n",
    "    if ep:\n",
    "        for run in ens_list:\n",
    "            hist = hists_ens[run][gp]\n",
    "            plt.plot(hist.history['loss'], label=str(run))\n",
    "        plt.title('Mean Squared Error (Train) - Group ' + str(gp))\n",
    "        plt.legend(); plt.show()        "
   ]
  },
  {
   "cell_type": "code",
   "execution_count": 102,
   "metadata": {
    "scrolled": true
   },
   "outputs": [
    {
     "data": {
      "image/png": "[encoded data removed]",
      "text/plain": [
       "<matplotlib.figure.Figure at 0x979aa898>"
      ]
     },
     "metadata": {},
     "output_type": "display_data"
    },
    {
     "data": {
      "image/png": "[encoded data removed]",
      "text/plain": [
       "<matplotlib.figure.Figure at 0x979aacc0>"
      ]
     },
     "metadata": {},
     "output_type": "display_data"
    },
    {
     "data": {
      "image/png": "[encoded data removed]",
      "text/plain": [
       "<matplotlib.figure.Figure at 0x98151fd0>"
      ]
     },
     "metadata": {},
     "output_type": "display_data"
    }
   ],
   "source": [
    "for gp, ep in zip(gp_list, epochs_list):\n",
    "    if ep:\n",
    "        for run in ens_list:\n",
    "            hist = hists_ens[run][gp]\n",
    "            plt.plot(hist.history['val_loss'], label=str(run))\n",
    "        plt.title('Mean Squared Error (Validation) - Group ' + str(gp))\n",
    "        plt.legend(); plt.show()        "
   ]
  },
  {
   "cell_type": "code",
   "execution_count": 103,
   "metadata": {
    "scrolled": true
   },
   "outputs": [
    {
     "data": {
      "image/png": "[encoded data removed]",
      "text/plain": [
       "<matplotlib.figure.Figure at 0x984f4e10>"
      ]
     },
     "metadata": {},
     "output_type": "display_data"
    },
    {
     "data": {
      "image/png": "[encoded data removed]",
      "text/plain": [
       "<matplotlib.figure.Figure at 0x9853a710>"
      ]
     },
     "metadata": {},
     "output_type": "display_data"
    },
    {
     "data": {
      "image/png": "[encoded data removed]",
      "text/plain": [
       "<matplotlib.figure.Figure at 0x981a56a0>"
      ]
     },
     "metadata": {},
     "output_type": "display_data"
    }
   ],
   "source": [
    "for gp, ep in zip(gp_list, epochs_list):\n",
    "    if ep:\n",
    "        for run in ens_list:\n",
    "            hist = hists_ens[run][gp]\n",
    "            plt.plot(hist.history['k_smape'], label=str(run))\n",
    "        plt.title('SMAPE (Train) - Group ' + str(gp))\n",
    "        plt.legend(); plt.show()        "
   ]
  },
  {
   "cell_type": "code",
   "execution_count": 104,
   "metadata": {
    "scrolled": true
   },
   "outputs": [
    {
     "data": {
      "image/png": "[encoded data removed]",
      "text/plain": [
       "<matplotlib.figure.Figure at 0x982582b0>"
      ]
     },
     "metadata": {},
     "output_type": "display_data"
    },
    {
     "data": {
      "image/png": "[encoded data removed]",
      "text/plain": [
       "<matplotlib.figure.Figure at 0x746ddf60>"
      ]
     },
     "metadata": {},
     "output_type": "display_data"
    },
    {
     "data": {
      "image/png": "[encoded data removed]",
      "text/plain": [
       "<matplotlib.figure.Figure at 0x9806dbe0>"
      ]
     },
     "metadata": {},
     "output_type": "display_data"
    }
   ],
   "source": [
    "for gp, ep in zip(gp_list, epochs_list):\n",
    "    if ep:\n",
    "        for run in ens_list:\n",
    "            hist = hists_ens[run][gp]\n",
    "            plt.plot(hist.history['val_k_smape'], label=str(run))\n",
    "        plt.title('SMAPE (Validation) - Group ' + str(gp))\n",
    "        plt.legend(); plt.show()        "
   ]
  },
  {
   "cell_type": "code",
   "execution_count": 105,
   "metadata": {
    "scrolled": true
   },
   "outputs": [
    {
     "data": {
      "image/png": "[encoded data removed]",
      "text/plain": [
       "<matplotlib.figure.Figure at 0x980b1898>"
      ]
     },
     "metadata": {},
     "output_type": "display_data"
    },
    {
     "data": {
      "image/png": "[encoded data removed]",
      "text/plain": [
       "<matplotlib.figure.Figure at 0x9792ce48>"
      ]
     },
     "metadata": {},
     "output_type": "display_data"
    },
    {
     "data": {
      "image/png": "[encoded data removed]",
      "text/plain": [
       "<matplotlib.figure.Figure at 0x978cae80>"
      ]
     },
     "metadata": {},
     "output_type": "display_data"
    }
   ],
   "source": [
    "for (hist, gp, ep) in zip(hists, gp_list, epochs_list):\n",
    "    if ep:\n",
    "        plt.plot(hist.history['loss'], label='train')\n",
    "        plt.plot(hist.history['val_loss'], label='validation')\n",
    "        plt.title('Mean Squared Error - ' + str(gp))\n",
    "        plt.legend(); plt.show()"
   ]
  },
  {
   "cell_type": "code",
   "execution_count": 106,
   "metadata": {
    "scrolled": true
   },
   "outputs": [
    {
     "data": {
      "image/png": "[encoded data removed]",
      "text/plain": [
       "<matplotlib.figure.Figure at 0x98d5c908>"
      ]
     },
     "metadata": {},
     "output_type": "display_data"
    },
    {
     "data": {
      "image/png": "[encoded data removed]",
      "text/plain": [
       "<matplotlib.figure.Figure at 0x98213198>"
      ]
     },
     "metadata": {},
     "output_type": "display_data"
    },
    {
     "data": {
      "image/png": "[encoded data removed]",
      "text/plain": [
       "<matplotlib.figure.Figure at 0x98eb1588>"
      ]
     },
     "metadata": {},
     "output_type": "display_data"
    }
   ],
   "source": [
    "for (hist, gp, ep) in zip(hists, gp_list, epochs_list):\n",
    "    if ep:\n",
    "        plt.plot(hist.history['k_smape'], label='train')\n",
    "        plt.plot(hist.history['val_k_smape'], label='validation')\n",
    "        plt.title('SMAPE - ' + str(gp))\n",
    "        plt.legend(); plt.show()"
   ]
  },
  {
   "cell_type": "code",
   "execution_count": 107,
   "metadata": {},
   "outputs": [
    {
     "data": {
      "image/png": "[encoded data removed]",
      "text/plain": [
       "<matplotlib.figure.Figure at 0x979aa7f0>"
      ]
     },
     "metadata": {},
     "output_type": "display_data"
    }
   ],
   "source": [
    "for (hist, gp, ep) in zip(hists, gp_list, epochs_list):\n",
    "    if ep: plt.plot(hist.history['loss'], label=gp)\n",
    "plt.title('Mean Squared Error - train')\n",
    "plt.legend(); plt.show()"
   ]
  },
  {
   "cell_type": "code",
   "execution_count": 108,
   "metadata": {},
   "outputs": [
    {
     "data": {
      "image/png": "[encoded data removed]",
      "text/plain": [
       "<matplotlib.figure.Figure at 0x99041048>"
      ]
     },
     "metadata": {},
     "output_type": "display_data"
    }
   ],
   "source": [
    "for (hist, gp, ep) in zip(hists, gp_list, epochs_list):\n",
    "    if ep: plt.plot(hist.history['val_loss'], label=gp)\n",
    "plt.title('Mean Squared Error - validation')\n",
    "plt.legend(); plt.show()"
   ]
  },
  {
   "cell_type": "code",
   "execution_count": 109,
   "metadata": {},
   "outputs": [
    {
     "data": {
      "image/png": "[encoded data removed]",
      "text/plain": [
       "<matplotlib.figure.Figure at 0x990fd898>"
      ]
     },
     "metadata": {},
     "output_type": "display_data"
    }
   ],
   "source": [
    "for (hist, gp, ep) in zip(hists, gp_list, epochs_list):\n",
    "    if ep: plt.plot(hist.history['k_smape'], label=gp)\n",
    "plt.title('SMAPE - train')\n",
    "plt.legend(); plt.show()"
   ]
  },
  {
   "cell_type": "code",
   "execution_count": 110,
   "metadata": {},
   "outputs": [
    {
     "data": {
      "image/png": "[encoded data removed]",
      "text/plain": [
       "<matplotlib.figure.Figure at 0x991469b0>"
      ]
     },
     "metadata": {},
     "output_type": "display_data"
    }
   ],
   "source": [
    "for (hist, gp, ep) in zip(hists, gp_list, epochs_list):\n",
    "    if ep: plt.plot(hist.history['val_k_smape'], label=gp)\n",
    "plt.title('SMAPE - validation')\n",
    "plt.legend(); plt.show()"
   ]
  },
  {
   "cell_type": "markdown",
   "metadata": {},
   "source": [
    "### More Training"
   ]
  },
  {
   "cell_type": "markdown",
   "metadata": {},
   "source": [
    "epochs_list2 = [0,10,0,0,10]"
   ]
  },
  {
   "cell_type": "markdown",
   "metadata": {},
   "source": [
    "hists2 = []\n",
    "for (gp, model, X_in, Y_in, epochs) in zip(gp_list, models,\n",
    "                                   X_input_list, Y_input_list, \n",
    "                                   epochs_list2):\n",
    "    hist = model.fit(X_in, Y_in, batch_size=128, \n",
    "                     epochs=epochs, \n",
    "                     validation_split=0.05)\n",
    "    #validation_data=(X_val, Y_val))\n",
    "    hists2.append(hist)"
   ]
  },
  {
   "cell_type": "markdown",
   "metadata": {},
   "source": [
    "for (hist, gp, epochs) in zip(hists2, gp_list, epochs_list2):\n",
    "    if epochs:\n",
    "        plt.plot(hist.history['loss'], label='train')\n",
    "        plt.plot(hist.history['val_loss'], label='validation')\n",
    "        plt.title('Mean Squared Error - ' + str(gp))\n",
    "        plt.legend(); plt.show()"
   ]
  },
  {
   "cell_type": "markdown",
   "metadata": {
    "scrolled": false
   },
   "source": [
    "for (hist, gp, epochs) in zip(hists2, gp_list, epochs_list2):\n",
    "    if epochs:\n",
    "        plt.plot(hist.history['k_smape'], label='train')\n",
    "        plt.plot(hist.history['val_k_smape'], label='validation')\n",
    "        plt.title('SMAPE - ' + str(gp))\n",
    "        plt.legend(); plt.show()"
   ]
  },
  {
   "cell_type": "markdown",
   "metadata": {},
   "source": [
    "for (hist, gp, epochs) in zip(hists2, gp_list, epochs_list2):\n",
    "    if epochs:\n",
    "        plt.plot(hist.history['loss'], label=gp)\n",
    "plt.title('Mean Squared Error - train')\n",
    "plt.legend(); plt.show()"
   ]
  },
  {
   "cell_type": "markdown",
   "metadata": {},
   "source": [
    "for (hist, gp, epochs) in zip(hists2, gp_list, epochs_list2):\n",
    "    if epochs: plt.plot(hist.history['val_loss'], label=gp)\n",
    "plt.title('Mean Squared Error - validation')\n",
    "plt.legend(); plt.show()"
   ]
  },
  {
   "cell_type": "markdown",
   "metadata": {},
   "source": [
    "for (hist, gp, epochs) in zip(hists2, gp_list, epochs_list2):\n",
    "    if epochs: plt.plot(hist.history['k_smape'], label=gp)\n",
    "plt.title('SMAPE - train')\n",
    "plt.legend(); plt.show()"
   ]
  },
  {
   "cell_type": "markdown",
   "metadata": {},
   "source": [
    "for (hist, gp, epochs) in zip(hists2, gp_list, epochs_list2):\n",
    "    if epochs: plt.plot(hist.history['val_k_smape'], label=gp)\n",
    "plt.title('SMAPE - validation')\n",
    "plt.legend(); plt.show()"
   ]
  },
  {
   "cell_type": "markdown",
   "metadata": {},
   "source": [
    "## Predict for Input Set (Training Set)"
   ]
  },
  {
   "cell_type": "code",
   "execution_count": 111,
   "metadata": {},
   "outputs": [
    {
     "name": "stdout",
     "output_type": "stream",
     "text": [
      "Run 0: 0 1 2 3 \n",
      "Run 1: 0 1 2 3 \n",
      "Run 2: 0 1 2 3 \n",
      "Wall time: 30.6 s\n"
     ]
    }
   ],
   "source": [
    "%%time\n",
    "Y_input_pred_list_ens = []\n",
    "for models, run in zip(models_ens, ens_list):\n",
    "    print('Run', run, end=': ')\n",
    "    Y_input_pred_list = []\n",
    "    for (gp, model, X, A) in zip(gp_list, models, X_input_list, A_input_list):\n",
    "        print(gp, end=' ')\n",
    "        Y_input_pred_list.append(model.predict([X, A]))\n",
    "    Y_input_pred_list_ens.append(Y_input_pred_list)\n",
    "    print('')"
   ]
  },
  {
   "cell_type": "markdown",
   "metadata": {
    "collapsed": true
   },
   "source": [
    "%%time\n",
    "Y_input_pred_list_ens = []\n",
    "for models, run in zip(models_ens, ens_list):\n",
    "    print('Run', run, end=': ')\n",
    "    Y_input_pred_list = []\n",
    "    for (gp, model, X, A, Z) in zip(gp_list, models, X_input_list, A_input_list, Z_input_list):\n",
    "        print(gp, end=' ')\n",
    "        Y_input_pred_list.append(model.predict([X, A, Z]))\n",
    "    Y_input_pred_list_ens.append(Y_input_pred_list)\n",
    "    print('')"
   ]
  },
  {
   "cell_type": "markdown",
   "metadata": {},
   "source": [
    "Find the original index"
   ]
  },
  {
   "cell_type": "code",
   "execution_count": 112,
   "metadata": {
    "collapsed": true
   },
   "outputs": [],
   "source": [
    "input_index_range = np.arange(len(input_gp)); #input_index_range"
   ]
  },
  {
   "cell_type": "code",
   "execution_count": 113,
   "metadata": {
    "collapsed": true
   },
   "outputs": [],
   "source": [
    "# list for original index\n",
    "input_index_list = [input_index_range[input_gp == gp] \n",
    "                     for gp in gp_list]"
   ]
  },
  {
   "cell_type": "code",
   "execution_count": 114,
   "metadata": {
    "scrolled": false
   },
   "outputs": [
    {
     "name": "stdout",
     "output_type": "stream",
     "text": [
      "(24628,) (43782,) (75828,) (825,) "
     ]
    }
   ],
   "source": [
    "for o in input_index_list:\n",
    "    print(o.shape, end=' ')"
   ]
  },
  {
   "cell_type": "code",
   "execution_count": 115,
   "metadata": {
    "collapsed": true
   },
   "outputs": [],
   "source": [
    "input_index_list_comb = np.concatenate(input_index_list); #input_index_list_comb"
   ]
  },
  {
   "cell_type": "code",
   "execution_count": 116,
   "metadata": {
    "collapsed": true
   },
   "outputs": [],
   "source": [
    "Y_input_pred_ens = []\n",
    "for Y_input_pred_list in Y_input_pred_list_ens:\n",
    "    Y_input_pred_comb = np.concatenate(Y_input_pred_list)\n",
    "    Y_input_pred = [0]*len(input_index_list_comb)\n",
    "\n",
    "    for index, y in zip(input_index_list_comb, Y_input_pred_comb):\n",
    "        Y_input_pred[index] = y\n",
    "\n",
    "    Y_input_pred = np.array(Y_input_pred)  # make it an numpy array (which will also make a copy)\n",
    "    Y_input_pred_ens.append(Y_input_pred)\n",
    "\n",
    "del Y_input_pred_comb"
   ]
  },
  {
   "cell_type": "code",
   "execution_count": 117,
   "metadata": {
    "collapsed": true
   },
   "outputs": [],
   "source": [
    "# Inverse transform Y_input_pred to original Y\n",
    "Y_input_pred_ori_ens = []\n",
    "for Y_input_pred in Y_input_pred_ens:\n",
    "    Y_input_pred_ori = unlog(untransform(Y_input_pred, \n",
    "                                          Y_input_center, Y_input_scale))\n",
    "    Y_input_pred_ori_ens.append(Y_input_pred_ori)"
   ]
  },
  {
   "cell_type": "code",
   "execution_count": 118,
   "metadata": {
    "collapsed": true
   },
   "outputs": [],
   "source": [
    "Y_input_pred_ori_ens = np.array(Y_input_pred_ori_ens)"
   ]
  },
  {
   "cell_type": "markdown",
   "metadata": {},
   "source": [
    "## Predict for Output Set"
   ]
  },
  {
   "cell_type": "code",
   "execution_count": 119,
   "metadata": {},
   "outputs": [
    {
     "name": "stdout",
     "output_type": "stream",
     "text": [
      "Run 0: 0 1 2 3 \n",
      "Run 1: 0 1 2 3 \n",
      "Run 2: 0 1 2 3 \n",
      "Wall time: 26.8 s\n"
     ]
    }
   ],
   "source": [
    "%%time\n",
    "Y_output_pred_list_ens = []\n",
    "for models, run in zip(models_ens, ens_list):\n",
    "    print('Run', run, end=': ')\n",
    "    Y_output_pred_list = []\n",
    "    for (gp, model, X, A) in zip(gp_list, models, X_output_list, A_output_list):\n",
    "        print(gp, end=' ')\n",
    "        Y_output_pred_list.append(model.predict([X, A]))\n",
    "    Y_output_pred_list_ens.append(Y_output_pred_list)\n",
    "    print('')"
   ]
  },
  {
   "cell_type": "markdown",
   "metadata": {
    "collapsed": true
   },
   "source": [
    "%%time\n",
    "Y_output_pred_list_ens = []\n",
    "for models, run in zip(models_ens, ens_list):\n",
    "    print('Run', run, end=': ')\n",
    "    Y_output_pred_list = []\n",
    "    for (gp, model, X, A, Z) in zip(gp_list, models, X_output_list, A_output_list, Z_output_list):\n",
    "        print(gp, end=' ')\n",
    "        Y_output_pred_list.append(model.predict([X, A, Z]))\n",
    "    Y_output_pred_list_ens.append(Y_output_pred_list)\n",
    "    print('')"
   ]
  },
  {
   "cell_type": "markdown",
   "metadata": {},
   "source": [
    "Find the original index"
   ]
  },
  {
   "cell_type": "code",
   "execution_count": 120,
   "metadata": {
    "collapsed": true
   },
   "outputs": [],
   "source": [
    "output_index_range = np.arange(len(output_gp)); #output_index_range"
   ]
  },
  {
   "cell_type": "code",
   "execution_count": 121,
   "metadata": {
    "collapsed": true
   },
   "outputs": [],
   "source": [
    "# list for original index\n",
    "output_index_list = [output_index_range[output_gp == gp] \n",
    "                     for gp in gp_list]"
   ]
  },
  {
   "cell_type": "code",
   "execution_count": 122,
   "metadata": {
    "scrolled": false
   },
   "outputs": [
    {
     "name": "stdout",
     "output_type": "stream",
     "text": [
      "(24628,) (43782,) (75828,) (825,) "
     ]
    }
   ],
   "source": [
    "for o in output_index_list:\n",
    "    print(o.shape, end=' ')"
   ]
  },
  {
   "cell_type": "code",
   "execution_count": 123,
   "metadata": {
    "collapsed": true
   },
   "outputs": [],
   "source": [
    "output_index_list_comb = np.concatenate(output_index_list); #output_index_list_comb"
   ]
  },
  {
   "cell_type": "code",
   "execution_count": 124,
   "metadata": {
    "collapsed": true
   },
   "outputs": [],
   "source": [
    "Y_output_pred_ens = []\n",
    "for Y_output_pred_list in Y_output_pred_list_ens:\n",
    "    Y_output_pred_comb = np.concatenate(Y_output_pred_list)\n",
    "    Y_output_pred = [0]*len(output_index_list_comb)\n",
    "\n",
    "    for index, y in zip(output_index_list_comb, Y_output_pred_comb):\n",
    "        Y_output_pred[index] = y\n",
    "\n",
    "    Y_output_pred = np.array(Y_output_pred)  # make it an numpy array (which will also make a copy)\n",
    "    Y_output_pred_ens.append(Y_output_pred)\n",
    "\n",
    "del Y_output_pred_comb"
   ]
  },
  {
   "cell_type": "code",
   "execution_count": 125,
   "metadata": {
    "collapsed": true
   },
   "outputs": [],
   "source": [
    "# Inverse transform Y_output_pred to original Y\n",
    "Y_output_pred_ori_ens = []\n",
    "for Y_output_pred in Y_output_pred_ens:\n",
    "    Y_output_pred_ori = unlog(untransform(Y_output_pred, \n",
    "                                          Y_output_center, Y_output_scale))\n",
    "    Y_output_pred_ori_ens.append(Y_output_pred_ori)"
   ]
  },
  {
   "cell_type": "code",
   "execution_count": 126,
   "metadata": {
    "collapsed": true
   },
   "outputs": [],
   "source": [
    "Y_output_pred_ori_ens = np.array(Y_output_pred_ori_ens)"
   ]
  },
  {
   "cell_type": "markdown",
   "metadata": {},
   "source": [
    "#### Check predict output"
   ]
  },
  {
   "cell_type": "markdown",
   "metadata": {},
   "source": [
    "Y_output_pred"
   ]
  },
  {
   "cell_type": "markdown",
   "metadata": {},
   "source": [
    "Y_output_pred_ori"
   ]
  },
  {
   "cell_type": "markdown",
   "metadata": {
    "scrolled": true
   },
   "source": [
    "examine(Y_output_pred)"
   ]
  },
  {
   "cell_type": "markdown",
   "metadata": {
    "scrolled": true
   },
   "source": [
    "examine(Y_output_pred_ori)"
   ]
  },
  {
   "cell_type": "markdown",
   "metadata": {},
   "source": [
    "view(X_output_ori[126420])"
   ]
  },
  {
   "cell_type": "markdown",
   "metadata": {},
   "source": [
    "## SMAPE Scores"
   ]
  },
  {
   "cell_type": "markdown",
   "metadata": {},
   "source": [
    "### Model Score"
   ]
  },
  {
   "cell_type": "code",
   "execution_count": 127,
   "metadata": {
    "collapsed": true,
    "scrolled": true
   },
   "outputs": [],
   "source": [
    "# SMAPE scores for the model\n",
    "if test_length:\n",
    "    model_smape_ens = []\n",
    "    model_smape_0_ens = []\n",
    "    for Y_output_pred_ori in Y_output_pred_ori_ens:\n",
    "        model_smape = smape(Y_output_raw, Y_output_pred_ori) # SMAPE score excluding nan (Correct one)\n",
    "        model_smape_0 = smape(Y_output_ori, Y_output_pred_ori) # SMAPE assuming nan == 0\n",
    "        \n",
    "        model_smape_ens.append(model_smape)\n",
    "        model_smape_0_ens.append(model_smape_0)\n",
    "    model_smape_ens_mean = np.mean(model_smape_ens)\n",
    "    model_smape_0_ens_mean = np.mean(model_smape_0_ens)\n",
    "    \n",
    "    model_smape_stdev = np.std(model_smape_ens)  # standard deviation of the smape score\n",
    "    model_smape_0_stdev = np.std(model_smape_0_ens)  # standard deviation of the smape score\n",
    "    \n",
    "    model_smape_ens_mean_std = model_smape_stdev / np.sqrt(len(model_smape_ens))"
   ]
  },
  {
   "cell_type": "code",
   "execution_count": 128,
   "metadata": {},
   "outputs": [
    {
     "name": "stdout",
     "output_type": "stream",
     "text": [
      "39.320         42.084\n",
      "39.309         42.095\n",
      "39.652         42.369\n",
      "-----------------------------\n",
      "39.427 +-0.159 42.182 +-0.132\n",
      "+-0.092\n"
     ]
    }
   ],
   "source": [
    "if test_length:\n",
    "    for model_smape, model_smape_0 in zip(model_smape_ens, model_smape_0_ens):\n",
    "        print('%6.3f' % model_smape, '       ', '%6.3f' % model_smape_0)\n",
    "    print('-----------------------------')\n",
    "    print('%6.3f' % model_smape_ens_mean, '+-%5.3f' % model_smape_stdev, \n",
    "          '%6.3f' % model_smape_0_ens_mean, '+-%5.3f' % model_smape_0_stdev)\n",
    "    print('+-%5.3f' % model_smape_ens_mean_std)"
   ]
  },
  {
   "cell_type": "code",
   "execution_count": 129,
   "metadata": {},
   "outputs": [
    {
     "name": "stdout",
     "output_type": "stream",
     "text": [
      "41.4865\n"
     ]
    }
   ],
   "source": [
    "# SMAPE score for Fibonacci median\n",
    "if test_length:\n",
    "    fib_smape = smape(Y_output_raw, Y_output_fib)\n",
    "    print(fib_smape)"
   ]
  },
  {
   "cell_type": "code",
   "execution_count": 130,
   "metadata": {
    "collapsed": true
   },
   "outputs": [],
   "source": [
    "esmape = smape"
   ]
  },
  {
   "cell_type": "code",
   "execution_count": 131,
   "metadata": {
    "collapsed": true,
    "scrolled": true
   },
   "outputs": [],
   "source": [
    "# Estimated SMAPE scores for the model using training set\n",
    "model_esmape_ens = []\n",
    "model_esmape_0_ens = []\n",
    "for Y_input_pred_ori in Y_input_pred_ori_ens:\n",
    "    model_esmape = esmape(Y_input_raw, Y_input_pred_ori) # SMAPE score excluding nan (Correct one)\n",
    "    model_esmape_0 = esmape(Y_input_ori, Y_input_pred_ori) # SMAPE assuming nan == 0\n",
    "    \n",
    "    model_esmape_ens.append(model_esmape)\n",
    "    model_esmape_0_ens.append(model_esmape_0)\n",
    "model_esmape_ens_mean = np.mean(model_esmape_ens)\n",
    "model_esmape_0_ens_mean = np.mean(model_esmape_0_ens)\n",
    "\n",
    "model_esmape_stdev = np.std(model_esmape_ens)  # standard deviation of the esmape score\n",
    "model_esmape_0_stdev = np.std(model_esmape_0_ens)  # standard deviation of the esmape score\n",
    "\n",
    "model_esmape_ens_mean_std = model_esmape_stdev / np.sqrt(len(model_esmape_ens))"
   ]
  },
  {
   "cell_type": "code",
   "execution_count": 132,
   "metadata": {},
   "outputs": [
    {
     "name": "stdout",
     "output_type": "stream",
     "text": [
      "42.125         49.224\n",
      "42.025         48.367\n",
      "42.439         49.530\n",
      "-----------------------------\n",
      "42.196 +-0.176 49.041 +-0.493\n",
      "+-0.102\n"
     ]
    }
   ],
   "source": [
    "for model_esmape, model_esmape_0 in zip(model_esmape_ens, model_esmape_0_ens):\n",
    "    print('%6.3f' % model_esmape, '       ', '%6.3f' % model_esmape_0)\n",
    "print('-----------------------------')\n",
    "print('%6.3f' % model_esmape_ens_mean, '+-%5.3f' % model_esmape_stdev, \n",
    "      '%6.3f' % model_esmape_0_ens_mean, '+-%5.3f' % model_esmape_0_stdev)\n",
    "print('+-%5.3f' % model_esmape_ens_mean_std)"
   ]
  },
  {
   "cell_type": "code",
   "execution_count": 133,
   "metadata": {},
   "outputs": [
    {
     "name": "stdout",
     "output_type": "stream",
     "text": [
      "48.9123\n"
     ]
    }
   ],
   "source": [
    "# SMAPE Est score for Fibonacci median\n",
    "fib_esmape = esmape(Y_input_raw, Y_input_fib)\n",
    "print(fib_esmape)"
   ]
  },
  {
   "cell_type": "markdown",
   "metadata": {},
   "source": [
    "### Group Scores"
   ]
  },
  {
   "cell_type": "code",
   "execution_count": 134,
   "metadata": {
    "collapsed": true
   },
   "outputs": [],
   "source": [
    "# Prediction Y_output in group\n",
    "Y_output_pred_ori_list_ens = [[Y_output_pred_ori[output_gp == gp] for gp in gp_list]\n",
    "                              for Y_output_pred_ori in Y_output_pred_ori_ens]\n",
    "#Y_output_pred_ori_list = [Y_output_pred_ori[output_gp == gp] for gp in gp_list]\n",
    "Y_output_pred_ori_list = Y_output_pred_ori_list_ens[-1]  # in case you want to see one of them"
   ]
  },
  {
   "cell_type": "code",
   "execution_count": 135,
   "metadata": {
    "collapsed": true
   },
   "outputs": [],
   "source": [
    "# Prediction Y_input in group\n",
    "Y_input_pred_ori_list_ens = [[Y_input_pred_ori[input_gp == gp] for gp in gp_list]\n",
    "                              for Y_input_pred_ori in Y_input_pred_ori_ens]\n",
    "#Y_input_pred_ori_list = [Y_input_pred_ori[input_gp == gp] for gp in gp_list]\n",
    "Y_input_pred_ori_list = Y_input_pred_ori_list_ens[-1]  # in case you want to see one of them"
   ]
  },
  {
   "cell_type": "code",
   "execution_count": 136,
   "metadata": {
    "collapsed": true
   },
   "outputs": [],
   "source": [
    "# Fibonacci median in group\n",
    "Y_output_fib_list = [Y_output_fib[output_gp == gp] for gp in gp_list]"
   ]
  },
  {
   "cell_type": "code",
   "execution_count": 137,
   "metadata": {
    "collapsed": true
   },
   "outputs": [],
   "source": [
    "# Fibonacci median in group\n",
    "Y_input_fib_list = [Y_input_fib[input_gp == gp] for gp in gp_list]"
   ]
  },
  {
   "cell_type": "code",
   "execution_count": 138,
   "metadata": {
    "collapsed": true
   },
   "outputs": [],
   "source": [
    "# True Y_output in group\n",
    "if test_length:\n",
    "    # untransformed Y_output with nan replaced by 0\n",
    "    Y_output_ori_list = [Y_output_ori[output_gp == gp] for gp in gp_list]\n",
    "    \n",
    "    # untransformed Y_output_ori with nan (for SMAPE estimation)\n",
    "    Y_output_raw_list = [Y_output_raw[output_gp == gp] for gp in gp_list]"
   ]
  },
  {
   "cell_type": "code",
   "execution_count": 139,
   "metadata": {
    "collapsed": true
   },
   "outputs": [],
   "source": [
    "# True Y_input in group\n",
    "# untransformed Y_input with nan replaced by 0\n",
    "Y_input_ori_list = [Y_input_ori[input_gp == gp] for gp in gp_list]\n",
    "\n",
    "# untransformed Y_input_ori with nan (for SMAPE estimation)\n",
    "Y_input_raw_list = [Y_input_raw[input_gp == gp] for gp in gp_list]"
   ]
  },
  {
   "cell_type": "code",
   "execution_count": 140,
   "metadata": {},
   "outputs": [
    {
     "data": {
      "text/plain": [
       "145063"
      ]
     },
     "execution_count": 140,
     "metadata": {},
     "output_type": "execute_result"
    }
   ],
   "source": [
    "tot_n = len(output_gp); tot_n  # total number of pages in output set"
   ]
  },
  {
   "cell_type": "code",
   "execution_count": 141,
   "metadata": {
    "collapsed": true
   },
   "outputs": [],
   "source": [
    "def count_not_nan(data):\n",
    "    return np.count_nonzero(~np.isnan(data))"
   ]
  },
  {
   "cell_type": "code",
   "execution_count": 142,
   "metadata": {},
   "outputs": [
    {
     "name": "stdout",
     "output_type": "stream",
     "text": [
      "[ 65.61489105  40.80061722  31.17557335  34.5765152 ]\n"
     ]
    }
   ],
   "source": [
    "# Group scores for the model\n",
    "if test_length:\n",
    "    gp_n = [len(Y) for Y in Y_output_raw_list]\n",
    "    # SMAPE with nan values ignored (used by Kaggle)\n",
    "    gp_smape_ens = [[smape(Y, Y_p) for Y, Y_p in zip(Y_output_raw_list, Y_output_pred_ori_list)]\n",
    "                    for Y_output_pred_ori_list in Y_output_pred_ori_list_ens]\n",
    "    gp_smape = gp_smape_ens[-1]    \n",
    "    gp_smape_mean = np.mean(gp_smape_ens, axis=0)\n",
    "    print(gp_smape_mean)"
   ]
  },
  {
   "cell_type": "code",
   "execution_count": 143,
   "metadata": {},
   "outputs": [
    {
     "name": "stdout",
     "output_type": "stream",
     "text": [
      "[ 71.57214355  44.52665329  32.77970886  26.69445229]\n"
     ]
    }
   ],
   "source": [
    "# Group estimated scores for the model\n",
    "gp_n = [len(Y) for Y in Y_input_raw_list]\n",
    "# SMAPE with nan values ignored (used by Kaggle)\n",
    "gp_esmape_ens = [[esmape(Y, Y_p) for Y, Y_p in zip(Y_input_raw_list, Y_input_pred_ori_list)]\n",
    "                for Y_input_pred_ori_list in Y_input_pred_ori_list_ens]\n",
    "gp_esmape = gp_esmape_ens[-1]    \n",
    "gp_esmape_mean = np.mean(gp_esmape_ens, axis=0)\n",
    "print(gp_esmape_mean)"
   ]
  },
  {
   "cell_type": "markdown",
   "metadata": {
    "collapsed": true
   },
   "source": [
    "if test_length:\n",
    "    #gp_smape = [smape(Y, Y_p) for Y, Y_p \n",
    "    #            in zip(Y_output_raw_list, Y_output_pred_ori_list)]\n",
    "    \n",
    "    #n_not_nan = count_not_nan(Y_output_raw)\n",
    "    #n_not_nan_gp = [count_not_nan(Y) for Y in Y_output_raw_list]\n",
    "    #n_not_nan_ratio_gp = [n / (len(Y) * len(Y[0])) for Y,n \n",
    "    #                      in zip(Y_output_raw_list, n_not_nan_gp)]\n",
    "    \n",
    "    # SMAPE contribution\n",
    "    #gp_smape_sum = [s * n for n, s in zip(gp_smape, n_not_nan_gp)]\n",
    "    #gp_smape_cont = [s / n_not_nan for s in gp_smape_sum]"
   ]
  },
  {
   "cell_type": "code",
   "execution_count": 144,
   "metadata": {
    "collapsed": true
   },
   "outputs": [],
   "source": [
    "# Group score for Fibonacci median\n",
    "if test_length:\n",
    "    gp_smape_fib = [smape(Y, Y_p) for Y, Y_p in zip(Y_output_raw_list, Y_output_fib_list)]"
   ]
  },
  {
   "cell_type": "code",
   "execution_count": 145,
   "metadata": {
    "collapsed": true
   },
   "outputs": [],
   "source": [
    "# Group Estimated score for Fibonacci median\n",
    "gp_esmape_fib = [esmape(Y, Y_p) for Y, Y_p in zip(Y_input_raw_list, Y_input_fib_list)]"
   ]
  },
  {
   "cell_type": "code",
   "execution_count": 146,
   "metadata": {},
   "outputs": [
    {
     "name": "stdout",
     "output_type": "stream",
     "text": [
      "#### model_10_Modified_CNN_4_The_Model_2_Longer_Prediction_2_63_70\n",
      "|N_pages |Fibonacci| Average | Model 0 | Model 1 | Model 2 |\n",
      "|--------|---------|---------|---------|---------|---------|\n",
      "|  24628 |  61.714 |  65.615 |  65.436 |  65.572 |  65.837 |\n",
      "|  43782 |  41.506 |  40.801 |  40.901 |  40.558 |  40.943 |\n",
      "|  75828 |  35.726 |  31.176 |  30.970 |  31.105 |  31.452 |\n",
      "|    825 |  36.698 |  34.577 |  34.314 |  34.809 |  34.606 |\n",
      "|  Total |  41.486 |  39.427 |  39.320 |  39.309 |  39.652 |"
     ]
    }
   ],
   "source": [
    "if test_length:  # gp_score compare\n",
    "    print('#### ' + model_name)\n",
    "    print('', end='|')\n",
    "    print('N_pages ', 'Fibonacci', ' Average ', sep='|', end='|')\n",
    "    for run in ens_list: print(' Model', run, end=' |')\n",
    "    print('')\n",
    "    print('', end='|')\n",
    "    print('--------', '---------', '---------', sep='|', end='|')\n",
    "    for run in ens_list: print('---------', end='|')\n",
    "    print('')\n",
    "    for gp in gp_list:\n",
    "        print('', end='|')\n",
    "        print(' %6d ' % gp_n[gp], end='|')\n",
    "        print(' %7.3f ' % gp_smape_fib[gp], end='|')\n",
    "        print(' %7.3f ' % gp_smape_mean[gp], end='|')\n",
    "        for run in ens_list:\n",
    "            print(' %7.3f ' % gp_smape_ens[run][gp], end='|')\n",
    "        print('')\n",
    "    print('|  Total ', ' %7.3f ' % fib_smape, ' %7.3f ' % model_smape_ens_mean, sep='|', end='|')\n",
    "    for run in ens_list:\n",
    "            print(' %7.3f ' % model_smape_ens[run], end='|')"
   ]
  },
  {
   "cell_type": "code",
   "execution_count": 147,
   "metadata": {},
   "outputs": [
    {
     "name": "stdout",
     "output_type": "stream",
     "text": [
      "#### model_10_Modified_CNN_4_The_Model_2_Longer_Prediction_2_63_70\n",
      "|N_pages |Fibonacci| Average | Model 0 | Model 1 | Model 2 |\n",
      "|--------|---------|---------|---------|---------|---------|\n",
      "|  24628 |  65.060 |  71.572 |  71.544 |  71.566 |  71.607 |\n",
      "|  43782 |  50.675 |  44.527 |  44.264 |  44.427 |  44.889 |\n",
      "|  75828 |  43.511 |  32.780 |  32.792 |  32.528 |  33.019 |\n",
      "|    825 |  35.540 |  26.694 |  28.034 |  25.834 |  26.215 |\n",
      "|  Total |  48.912 |  42.196 |  42.125 |  42.025 |  42.439 |"
     ]
    }
   ],
   "source": [
    "#Estimated gp_score compare\n",
    "print('#### ' + model_name)\n",
    "print('', end='|')\n",
    "print('N_pages ', 'Fibonacci', ' Average ', sep='|', end='|')\n",
    "for run in ens_list: print(' Model', run, end=' |')\n",
    "print('')\n",
    "print('', end='|')\n",
    "print('--------', '---------', '---------', sep='|', end='|')\n",
    "for run in ens_list: print('---------', end='|')\n",
    "print('')\n",
    "for gp in gp_list:\n",
    "    print('', end='|')\n",
    "    print(' %6d ' % gp_n[gp], end='|')\n",
    "    print(' %7.3f ' % gp_esmape_fib[gp], end='|')\n",
    "    print(' %7.3f ' % gp_esmape_mean[gp], end='|')\n",
    "    for run in ens_list:\n",
    "        print(' %7.3f ' % gp_esmape_ens[run][gp], end='|')\n",
    "    print('')\n",
    "print('|  Total ', ' %7.3f ' % fib_esmape, ' %7.3f ' % model_esmape_ens_mean, sep='|', end='|')\n",
    "for run in ens_list:\n",
    "        print(' %7.3f ' % model_esmape_ens[run], end='|')"
   ]
  },
  {
   "cell_type": "markdown",
   "metadata": {},
   "source": [
    "#### model_10_Modified_CNN_4_The_Model\n",
    "|N_pages |Fibonacci| Average | Model 0 | Model 1 | Model 2 | Model 3 | Model 4 |\n",
    "|--------|---------|---------|---------|---------|---------|---------|---------|\n",
    "|  24964 |  61.170 |  68.291 |  68.432 |  67.965 |  68.039 |  68.527 |  68.492 |\n",
    "|  43691 |  40.612 |  39.986 |  39.863 |  39.935 |  40.101 |  39.696 |  40.336 |\n",
    "|  75617 |  34.284 |  29.633 |  29.641 |  29.453 |  29.630 |  29.832 |  29.606 |\n",
    "|    791 |  34.653 |  33.308 |  33.714 |  33.951 |  32.934 |  33.296 |  32.647 |\n",
    "|  Total |  40.404 |  38.836 |  38.826 |  38.677 |  38.829 |  38.889 |  38.957 |\n",
    "#### model_10_Modified_CNN_1_Z\n",
    "|N_pages |Fibonacci| Average | Model 0 | Model 1 | Model 2 | Model 3 | Model 4 |\n",
    "|--------|---------|---------|---------|---------|---------|---------|---------|\n",
    "|   1879 |  57.385 | 158.876 | 166.920 | 167.117 | 154.478 | 165.189 | 140.678 |\n",
    "|  23085 |  61.354 |  64.057 |  63.166 |  63.533 |  63.921 |  64.384 |  65.282 |\n",
    "|  43691 |  40.612 |  40.025 |  40.088 |  39.890 |  40.224 |  40.132 |  39.794 |\n",
    "|  75617 |  34.284 |  29.755 |  29.759 |  29.741 |  29.658 |  29.865 |  29.752 |\n",
    "|    740 |  35.621 |  33.983 |  33.411 |  33.945 |  34.447 |  34.013 |  34.100 |\n",
    "|     51 |  20.224 |  17.259 |  17.687 |  17.204 |  17.227 |  17.300 |  16.878 |\n",
    "|  Total |  40.404 |  38.937 |  38.881 |  38.869 |  38.897 |  39.122 |  38.914 |\n",
    "#### model_10_Modified_CNN_0_median_stdev\n",
    "|N_pages |Fibonacci| Model 0 | Model 1 | Model 2 | Model 3 | Model 4 |\n",
    "|--------|---------|---------|---------|---------|---------|---------|\n",
    "|   1879 |  57.385 | 161.576 | 156.487 | 166.024 | 139.355 | 159.019 |\n",
    "|  23085 |  61.354 |  64.389 |  64.273 |  64.008 |  63.988 |  64.148 |\n",
    "|  43691 |  40.612 |  39.684 |  39.842 |  39.969 |  39.808 |  40.173 |\n",
    "|  75617 |  34.284 |  29.538 |  29.575 |  29.454 |  29.907 |  29.573 |\n",
    "|    740 |  35.621 |  33.564 |  33.710 |  33.397 |  33.666 |  33.965 |\n",
    "|     51 |  20.224 |  16.406 |  16.451 |  17.309 |  16.628 |  16.331 |\n",
    "#### model_9_CNN_with_Fibonacci_4_Ensemble_3_filter_3\n",
    "|N_pages |Fibonacci| Model 0 | Model 1 | Model 2 | Model 3 | Model 4 |\n",
    "|--------|---------|---------|---------|---------|---------|---------|\n",
    "|   1879 |  57.385 | 161.230 | 166.806 | 139.008 | 152.935 | 170.833 |\n",
    "|  23085 |  61.354 |  64.048 |  63.281 |  63.966 |  63.664 |  63.569 |\n",
    "|  43691 |  40.612 |  40.004 |  39.860 |  40.201 |  39.817 |  40.143 |\n",
    "|  75617 |  34.284 |  30.201 |  29.582 |  29.611 |  29.744 |  29.618 |\n",
    "|    740 |  35.621 |  33.801 |  34.143 |  34.101 |  34.290 |  34.145 |\n",
    "|     51 |  20.224 |  16.933 |  17.094 |  16.930 |  17.424 |  16.985 |\n",
    "\n",
    "#### model_9_CNN_with_Fibonacci_4_Ensemble\n",
    "|N_pages |Fibonacci| Model 0 |\n",
    "|--------|---------|---------|\n",
    "|   1879 |  57.385 | 146.145 |\n",
    "|  23085 |  61.354 |  64.128 |\n",
    "|  43691 |  40.612 |  40.052 |\n",
    "|  75617 |  34.284 |  29.862 |\n",
    "|    740 |  35.621 |  34.607 |\n",
    "|     51 |  20.224 |  16.023 |"
   ]
  },
  {
   "cell_type": "markdown",
   "metadata": {},
   "source": [
    "### Page Scores"
   ]
  },
  {
   "cell_type": "code",
   "execution_count": 148,
   "metadata": {
    "scrolled": true
   },
   "outputs": [
    {
     "name": "stderr",
     "output_type": "stream",
     "text": [
      "c:\\python36\\lib\\site-packages\\ipykernel_launcher.py:5: RuntimeWarning: Mean of empty slice\n",
      "  \"\"\"\n"
     ]
    }
   ],
   "source": [
    "if test_length:  # Page scores for the model\n",
    "    smape_Y_pred_ens = []\n",
    "    for Y_output_pred_ori in Y_output_pred_ori_ens:\n",
    "        smape_Y_pred = np.nan_to_num(np.array([smape(yp, y) for yp, y \n",
    "                                               in zip(Y_output_pred_ori, Y_output_raw)]))\n",
    "        smape_Y_pred_ens.append(smape_Y_pred)"
   ]
  },
  {
   "cell_type": "code",
   "execution_count": 149,
   "metadata": {
    "scrolled": true
   },
   "outputs": [
    {
     "name": "stderr",
     "output_type": "stream",
     "text": [
      "c:\\python36\\lib\\site-packages\\ipykernel_launcher.py:5: RuntimeWarning: Mean of empty slice\n",
      "  \"\"\"\n"
     ]
    }
   ],
   "source": [
    "if test_length:  # Page score for Fib.\n",
    "    smape_Y_fib = np.nan_to_num(np.array([smape(yp, y) for yp, y \n",
    "                                          in zip(Y_output_fib, Y_output_raw)]))"
   ]
  },
  {
   "cell_type": "markdown",
   "metadata": {},
   "source": [
    "if test_length:\n",
    "    for smape_Y_pred in smape_Y_pred_ens:\n",
    "        plt.hist(smape_Y_pred, bins=40, alpha=0.4)\n",
    "        #plt.yscale('log')\n",
    "    plt.title('Ensemble Page SMAPE'); plt.show()"
   ]
  },
  {
   "cell_type": "code",
   "execution_count": 150,
   "metadata": {},
   "outputs": [
    {
     "data": {
      "image/png": "[encoded data removed]",
      "text/plain": [
       "<matplotlib.figure.Figure at 0x992ba9b0>"
      ]
     },
     "metadata": {},
     "output_type": "display_data"
    }
   ],
   "source": [
    "if test_length:\n",
    "    plt.hist(smape_Y_fib, bins=40, alpha=0.6, label='Fib.')\n",
    "    plt.hist(smape_Y_pred, bins=40, alpha=0.6, label='Model')\n",
    "    #plt.yscale('log')\n",
    "    plt.legend(); plt.show()"
   ]
  },
  {
   "cell_type": "markdown",
   "metadata": {},
   "source": [
    "### Page Scores in Each Group"
   ]
  },
  {
   "cell_type": "code",
   "execution_count": 151,
   "metadata": {
    "collapsed": true
   },
   "outputs": [],
   "source": [
    "if test_length:  # The model\n",
    "    smape_Y_pred_list_ens = []\n",
    "    for smape_Y_pred in smape_Y_pred_ens:\n",
    "        smape_Y_pred_list = [smape_Y_pred[output_gp == gp] for gp in gp_list]\n",
    "        smape_Y_pred_list_ens.append(smape_Y_pred_list)"
   ]
  },
  {
   "cell_type": "code",
   "execution_count": 152,
   "metadata": {
    "collapsed": true
   },
   "outputs": [],
   "source": [
    "if test_length:  # Fib.\n",
    "    smape_Y_fib_list = [smape_Y_fib[output_gp == gp] for gp in gp_list]"
   ]
  },
  {
   "cell_type": "markdown",
   "metadata": {},
   "source": [
    "#### Plots"
   ]
  },
  {
   "cell_type": "code",
   "execution_count": 153,
   "metadata": {},
   "outputs": [
    {
     "data": {
      "image/png": "[encoded data removed]",
      "text/plain": [
       "<matplotlib.figure.Figure at 0xa1285f28>"
      ]
     },
     "metadata": {},
     "output_type": "display_data"
    }
   ],
   "source": [
    "if test_length:\n",
    "    for gp,s in zip(gp_list,smape_Y_pred_list):\n",
    "        plt.hist(s, bins=40, normed=True, alpha=0.6, label='gp = ' + str(gp))\n",
    "    #plt.yscale('log')\n",
    "    plt.legend(); plt.show()"
   ]
  },
  {
   "cell_type": "code",
   "execution_count": 154,
   "metadata": {},
   "outputs": [
    {
     "data": {
      "image/png": "[encoded data removed]",
      "text/plain": [
       "<matplotlib.figure.Figure at 0x9941b668>"
      ]
     },
     "metadata": {},
     "output_type": "display_data"
    }
   ],
   "source": [
    "if test_length:\n",
    "    for gp,s in zip(gp_list,smape_Y_pred_list):\n",
    "        plt.hist(s, bins=40, alpha=0.6, label='gp = ' + str(gp))\n",
    "    #plt.yscale('log')\n",
    "    plt.legend(); plt.show()"
   ]
  },
  {
   "cell_type": "code",
   "execution_count": 155,
   "metadata": {
    "scrolled": true
   },
   "outputs": [
    {
     "data": {
      "image/png": "[encoded data removed]",
      "text/plain": [
       "<matplotlib.figure.Figure at 0x997d8eb8>"
      ]
     },
     "metadata": {},
     "output_type": "display_data"
    },
    {
     "data": {
      "image/png": "[encoded data removed]",
      "text/plain": [
       "<matplotlib.figure.Figure at 0x997bec18>"
      ]
     },
     "metadata": {},
     "output_type": "display_data"
    },
    {
     "data": {
      "image/png": "[encoded data removed]",
      "text/plain": [
       "<matplotlib.figure.Figure at 0x9abfae80>"
      ]
     },
     "metadata": {},
     "output_type": "display_data"
    },
    {
     "data": {
      "image/png": "[encoded data removed]",
      "text/plain": [
       "<matplotlib.figure.Figure at 0x9ac1b6d8>"
      ]
     },
     "metadata": {},
     "output_type": "display_data"
    }
   ],
   "source": [
    "if test_length:\n",
    "    for gp in gp_list:\n",
    "        plt.hist(smape_Y_fib_list[gp], bins=40, alpha=0.6, label='Fib.')\n",
    "        plt.hist(smape_Y_pred_list[gp], bins=40, alpha=0.6, label='Model')\n",
    "        plt.title('gp = '+str(gp)); plt.legend()\n",
    "        plt.show()\n",
    "    #plt.yscale('log')\n",
    "    #plt.ylim([0,0.05])"
   ]
  },
  {
   "cell_type": "markdown",
   "metadata": {},
   "source": [
    "## Prediction Pre Combine\n",
    "Combine group 0, 1 from Fib and rest from the model"
   ]
  },
  {
   "cell_type": "markdown",
   "metadata": {},
   "source": [
    "Y_output_fib.shape"
   ]
  },
  {
   "cell_type": "code",
   "execution_count": 156,
   "metadata": {},
   "outputs": [
    {
     "data": {
      "text/plain": [
       "(145063, 70)"
      ]
     },
     "execution_count": 156,
     "metadata": {},
     "output_type": "execute_result"
    }
   ],
   "source": [
    "Y_output_fib_ori = np.repeat(Y_output_fib, y_length, axis=1); Y_output_fib_ori.shape"
   ]
  },
  {
   "cell_type": "code",
   "execution_count": 157,
   "metadata": {},
   "outputs": [
    {
     "data": {
      "text/plain": [
       "(145063, 1)"
      ]
     },
     "execution_count": 157,
     "metadata": {},
     "output_type": "execute_result"
    }
   ],
   "source": [
    "# Select group 0 from Fib.\n",
    "fib_mask = (output_gp == 0).reshape(-1,1); fib_mask.shape\n",
    "#fib_mask = ((output_gp == 0)|(output_gp == 1)).reshape(-1,1); fib_mask.shape"
   ]
  },
  {
   "cell_type": "code",
   "execution_count": 158,
   "metadata": {
    "collapsed": true
   },
   "outputs": [],
   "source": [
    "# The combined result\n",
    "Y_output_fmc_ori_ens = []\n",
    "for Y_output_pred_ori in Y_output_pred_ori_ens:\n",
    "    \n",
    "    Y_output_fmc_ori = fib_mask * Y_output_fib_ori + (~fib_mask) * Y_output_pred_ori\n",
    "    \n",
    "    Y_output_fmc_ori_ens.append(Y_output_fmc_ori)"
   ]
  },
  {
   "cell_type": "markdown",
   "metadata": {},
   "source": [
    "Y_output_fmc_ori"
   ]
  },
  {
   "cell_type": "markdown",
   "metadata": {},
   "source": [
    "#### Pre Combined Score"
   ]
  },
  {
   "cell_type": "code",
   "execution_count": 159,
   "metadata": {
    "collapsed": true
   },
   "outputs": [],
   "source": [
    "if test_length: \n",
    "    fmc_smape_ens = []\n",
    "    for Y_output_fmc_ori in Y_output_fmc_ori_ens:\n",
    "        fmc_smape = smape(Y_output_fmc_ori, Y_output_raw)\n",
    "        fmc_smape_ens.append(fmc_smape)        \n",
    "    fmc_smape_ens_mean = np.mean(fmc_smape_ens)"
   ]
  },
  {
   "cell_type": "code",
   "execution_count": 160,
   "metadata": {},
   "outputs": [
    {
     "name": "stdout",
     "output_type": "stream",
     "text": [
      "38.751 (39.320) - model_10_Modified_CNN_4_The_Model_2_Longer_Prediction_2_63_70 0\n",
      "38.719 (39.309) - model_10_Modified_CNN_4_The_Model_2_Longer_Prediction_2_63_70 1\n",
      "39.022 (39.652) - model_10_Modified_CNN_4_The_Model_2_Longer_Prediction_2_63_70 2\n",
      "38.831 (39.427) - model_10_Modified_CNN_4_The_Model_2_Longer_Prediction_2_63_70 Average\n"
     ]
    }
   ],
   "source": [
    "if test_length: \n",
    "    for run, fmc_smape, model_smape in zip(ens_list, fmc_smape_ens, model_smape_ens):\n",
    "        print('%6.3f' % fmc_smape, '(%6.3f)' % model_smape, '-', model_name, run)\n",
    "    print('%6.3f' % fmc_smape_ens_mean, '(%6.3f)' % model_smape_ens_mean, '-', model_name, 'Average')"
   ]
  },
  {
   "cell_type": "markdown",
   "metadata": {},
   "source": [
    "## Ensemble Learning"
   ]
  },
  {
   "cell_type": "markdown",
   "metadata": {},
   "source": [
    "### Ensemble Median"
   ]
  },
  {
   "cell_type": "code",
   "execution_count": 161,
   "metadata": {},
   "outputs": [
    {
     "data": {
      "text/plain": [
       "(145063, 70)"
      ]
     },
     "execution_count": 161,
     "metadata": {},
     "output_type": "execute_result"
    }
   ],
   "source": [
    "Y_output_pred_ori_ens_med = np.median(Y_output_pred_ori_ens, axis=0)\n",
    "Y_output_pred_ori_ens_med.shape"
   ]
  },
  {
   "cell_type": "markdown",
   "metadata": {},
   "source": [
    "Y_output_pred_ori_ens_med"
   ]
  },
  {
   "cell_type": "code",
   "execution_count": 162,
   "metadata": {},
   "outputs": [
    {
     "data": {
      "text/plain": [
       "39.176151"
      ]
     },
     "execution_count": 162,
     "metadata": {},
     "output_type": "execute_result"
    }
   ],
   "source": [
    "ens_med_smape = smape(Y_output_pred_ori_ens_med, Y_output_raw); ens_med_smape"
   ]
  },
  {
   "cell_type": "markdown",
   "metadata": {},
   "source": [
    "Best ways seem to be taking median either before or after transformation."
   ]
  },
  {
   "cell_type": "markdown",
   "metadata": {},
   "source": [
    "### Ensemble Combine with Fibonacci Median"
   ]
  },
  {
   "cell_type": "code",
   "execution_count": 163,
   "metadata": {},
   "outputs": [
    {
     "data": {
      "text/plain": [
       "(145063, 1)"
      ]
     },
     "execution_count": 163,
     "metadata": {},
     "output_type": "execute_result"
    }
   ],
   "source": [
    "#Replace group 0 by Fib. Median\n",
    "fib_mask = ((output_gp == 0)).reshape(-1,1); fib_mask.shape\n",
    "#fib_mask = ((output_gp == 0)|(output_gp == 1)).reshape(-1,1); fib_mask.shape"
   ]
  },
  {
   "cell_type": "code",
   "execution_count": 164,
   "metadata": {
    "collapsed": true
   },
   "outputs": [],
   "source": [
    "#Y_output_f_omean = fib_mask * Y_output_fib_ori + (~fib_mask) * Y_output_pred_ori_ens_mean\n",
    "Y_output_f_omed  = fib_mask * Y_output_fib_ori + (~fib_mask) * Y_output_pred_ori_ens_med  # Our final output\n",
    "#Y_output_f_meano = fib_mask * Y_output_fib_ori + (~fib_mask) * Y_output_pred_ens_mean_ori\n",
    "#Y_output_f_medo  = fib_mask * Y_output_fib_ori + (~fib_mask) * Y_output_pred_ens_med_ori"
   ]
  },
  {
   "cell_type": "markdown",
   "metadata": {},
   "source": [
    "## All Model Scores"
   ]
  },
  {
   "cell_type": "code",
   "execution_count": 165,
   "metadata": {
    "collapsed": true,
    "scrolled": true
   },
   "outputs": [],
   "source": [
    "if test_length:  # Ensemble learning model score\n",
    "    #f_omean_smape = smape(Y_output_raw, Y_output_f_omean)\n",
    "    f_omed_smape = smape(Y_output_raw, Y_output_f_omed)\n",
    "    #f_meano_smape = smape(Y_output_raw, Y_output_f_meano)\n",
    "    #f_medo_smape = smape(Y_output_raw, Y_output_f_medo)"
   ]
  },
  {
   "cell_type": "code",
   "execution_count": 166,
   "metadata": {
    "scrolled": true
   },
   "outputs": [
    {
     "name": "stdout",
     "output_type": "stream",
     "text": [
      "38.584 (39.176) - model_10_Modified_CNN_4_The_Model_2_Longer_Prediction_2_63_70 ori_ensemble_median\n",
      "38.831 (39.427) - model_10_Modified_CNN_4_The_Model_2_Longer_Prediction_2_63_70 Average\n",
      "38.751 (39.320) - model_10_Modified_CNN_4_The_Model_2_Longer_Prediction_2_63_70 0\n",
      "38.719 (39.309) - model_10_Modified_CNN_4_The_Model_2_Longer_Prediction_2_63_70 1\n",
      "39.022 (39.652) - model_10_Modified_CNN_4_The_Model_2_Longer_Prediction_2_63_70 2\n"
     ]
    }
   ],
   "source": [
    "if test_length: # The_score with (without) combining Fibonacci median model\n",
    "    #print('%6.3f         ' % f_omean_smape, '-', model_name, 'ori_ens_mean')\n",
    "    print('%6.3f' % f_omed_smape, '(%6.3f)' % ens_med_smape,'-', model_name, 'ori_ensemble_median')\n",
    "    #print('%6.3f         ' % f_meano_smape, '-', model_name, 'ens_mean_ori')\n",
    "    #print('%6.3f         ' % f_medo_smape, '-', model_name, 'ens_med_ori')\n",
    "    print('%6.3f' % fmc_smape_ens_mean, '(%6.3f)' % model_smape_ens_mean, '-', model_name, 'Average')\n",
    "    for run, fmc_smape, model_smape in zip(ens_list, fmc_smape_ens, model_smape_ens):\n",
    "        print('%6.3f' % fmc_smape, '(%6.3f)' % model_smape, '-', model_name, run)"
   ]
  },
  {
   "cell_type": "markdown",
   "metadata": {},
   "source": [
    "37.429 (38.536) - model_10_Modified_CNN_4_The_Model ori_ensemble_median\n",
    "37.731 (38.836) - model_10_Modified_CNN_4_The_Model Average\n",
    "37.699 (38.826) - model_10_Modified_CNN_4_The_Model 0\n",
    "37.623 (38.677) - model_10_Modified_CNN_4_The_Model 1\n",
    "37.763 (38.829) - model_10_Modified_CNN_4_The_Model 2\n",
    "37.748 (38.889) - model_10_Modified_CNN_4_The_Model 3\n",
    "37.821 (38.957) - model_10_Modified_CNN_4_The_Model 4\n",
    "\n",
    "37.436          - model_10_Modified_CNN_0_median_stdev ori_ens_mean\n",
    "37.382          - model_10_Modified_CNN_0_median_stdev ori_ens_med\n",
    "37.394          - model_10_Modified_CNN_0_median_stdev ens_mean_ori\n",
    "37.382          - model_10_Modified_CNN_0_median_stdev ens_med_ori\n",
    "37.687 (38.816) - model_10_Modified_CNN_0_median_stdev Average"
   ]
  },
  {
   "cell_type": "markdown",
   "metadata": {},
   "source": [
    "Ensemble of model are all better than the individual model."
   ]
  },
  {
   "cell_type": "markdown",
   "metadata": {},
   "source": [
    "fmc_smape_ens"
   ]
  },
  {
   "cell_type": "markdown",
   "metadata": {},
   "source": [
    "fmc_smape_ens_mean"
   ]
  },
  {
   "cell_type": "markdown",
   "metadata": {
    "collapsed": true
   },
   "source": [
    "#### Combined Scores:\n",
    "37.473          - model_10_Modified_CNN_1_Z ori_ensemble_median\n",
    "\n",
    "37.535          - model_10_Modified_CNN_0_median_stdev_2_3_groups ori_ensemble_median\n",
    "\n",
    "37.382          - model_10_Modified_CNN_0_median_stdev ori_ens_med\n",
    "\n",
    "37.687 (38.816) - model_10_Modified_CNN_0_median_stdev Average\n",
    "\n",
    "38.734 (39.415) - Model 9.1.0 - model_9_CNN_with_Fibonacci_1_no_group 1\n",
    "\n",
    "38.227 (39.321) - Model 9.0.0 - model_9_CNN_with_Fibonacci_0_separate_Fib_median 1\n",
    "\n",
    "43.009 (44.180) - Model 7.8.0 - model_7_CNN_with_Fibonacci_8_mean_absolute_error 2\n",
    "\n",
    "44.070 (45.335) - Model 7.6.3 - model_7_CNN_with_Fibonacci_6_Wider_3_conv_120_Averagepool 1\n",
    "\n",
    "44.473 (45.652) - Model 7.6.1 - model_7_CNN_with_Fibonacci_6_Wider_1_conv_120_Maxpool 1\n",
    "\n",
    "44.433 - Model 7.5.0 - model_7_CNN_with_Fibonacci_5_Deeper_0_Initial\n",
    "\n",
    "44.168 - Model 7.2.0"
   ]
  },
  {
   "cell_type": "markdown",
   "metadata": {},
   "source": [
    "## All Group Scores"
   ]
  },
  {
   "cell_type": "code",
   "execution_count": 167,
   "metadata": {
    "collapsed": true
   },
   "outputs": [],
   "source": [
    "# ensemble result Y_output in each group\n",
    "#Y_output_pred_ori_ens_mean_list = [Y_output_pred_ori_ens_mean[output_gp == gp] for gp in gp_list]\n",
    "Y_output_pred_ori_ens_med_list = [Y_output_pred_ori_ens_med[output_gp == gp] for gp in gp_list]\n",
    "#Y_output_pred_ens_mean_ori_list = [Y_output_pred_ens_mean_ori[output_gp == gp] for gp in gp_list]\n",
    "#Y_output_pred_ens_med_ori_list = [Y_output_pred_ens_med_ori[output_gp == gp] for gp in gp_list]"
   ]
  },
  {
   "cell_type": "code",
   "execution_count": 168,
   "metadata": {
    "collapsed": true
   },
   "outputs": [],
   "source": [
    "# Group SMAPE scores\n",
    "if test_length:\n",
    "    # SMAPE with nan values ignored (used by Kaggle)\n",
    "    #gp_omean_smape = [smape(Y, Y_p) for Y, Y_p in zip(Y_output_raw_list, Y_output_pred_ori_ens_mean_list)]\n",
    "    gp_omed_smape = [smape(Y, Y_p) for Y, Y_p in zip(Y_output_raw_list, Y_output_pred_ori_ens_med_list)]\n",
    "    #gp_meano_smape = [smape(Y, Y_p) for Y, Y_p in zip(Y_output_raw_list, Y_output_pred_ens_mean_ori_list)]\n"
   ]
  },
  {
   "cell_type": "code",
   "execution_count": 169,
   "metadata": {
    "scrolled": true
   },
   "outputs": [
    {
     "name": "stdout",
     "output_type": "stream",
     "text": [
      "#### model_10_Modified_CNN_4_The_Model_2_Longer_Prediction_2_63_70\n",
      "| N_pages|Fibonacci|Ens Media| Average | Model 0 | Model 1 | Model 2 |\n",
      "|--------|---------|---------|---------|---------|---------|---------|\n",
      "|  24628 |  61.714 |  65.590 |  65.615 |  65.436 |  65.572 |  65.837 |\n",
      "|  43782 |  41.506 |  40.531 |  40.801 |  40.901 |  40.558 |  40.943 |\n",
      "|  75828 |  35.726 |  30.870 |  31.176 |  30.970 |  31.105 |  31.452 |\n",
      "|    825 |  36.698 |  34.398 |  34.577 |  34.314 |  34.809 |  34.606 |\n",
      "|Over All|  41.486 |  38.584 |  39.427 |  39.320 |  39.309 |  39.652 |"
     ]
    }
   ],
   "source": [
    "if test_length:  # The_gp_score\n",
    "    print('#### ' + model_name)\n",
    "    print('', end='|')\n",
    "    print(' N_pages', 'Fibonacci', 'Ens Media', ' Average ', sep='|', end='|')\n",
    "    for run in ens_list: print(' Model', run, end=' |')\n",
    "    print('')\n",
    "    print('', end='|')\n",
    "    print('--------', '---------', '---------', '---------', sep='|', end='|')\n",
    "    for run in ens_list: print('---------', end='|')\n",
    "    print('')\n",
    "    for gp in gp_list:\n",
    "        print('', end='|')\n",
    "        print(' %6d ' % gp_n[gp], end='|')\n",
    "        print(' %7.3f ' % gp_smape_fib[gp], end='|')\n",
    "        #print(' %7.3f ' % gp_omean_smape[gp], end='|')\n",
    "        print(' %7.3f ' % gp_omed_smape[gp], end='|')\n",
    "        #print(' %7.3f ' % gp_meano_smape[gp], end='|')\n",
    "        #print(' %7.3f ' % gp_medo_smape[gp], end='|')\n",
    "        print(' %7.3f ' % gp_smape_mean[gp], end='|')\n",
    "        for run in ens_list:\n",
    "            print(' %7.3f ' % gp_smape_ens[run][gp], end='|')\n",
    "        print('')\n",
    "    print('|Over All', ' %7.3f ' % fib_smape, ' %7.3f ' % f_omed_smape,\n",
    "          ' %7.3f ' % model_smape_ens_mean, sep='|', end='|')\n",
    "    for run in ens_list:\n",
    "            print(' %7.3f ' % model_smape_ens[run], end='|')\n",
    "\n",
    "# Note The over all score for ensemble median (Ens Media) is the one after combining with \n",
    "# Fibonacci median model not the total score"
   ]
  },
  {
   "cell_type": "markdown",
   "metadata": {},
   "source": [
    "#### model_10_Modified_CNN_4_The_Model\n",
    "| N_pages|Fibonacci|Ens Media| Average | Model 0 | Model 1 | Model 2 | Model 3 | Model 4 |\n",
    "|--------|---------|---------|---------|---------|---------|---------|---------|---------|\n",
    "|  24964 |  61.170 |  68.304 |  68.291 |  68.432 |  67.965 |  68.039 |  68.527 |  68.492 |\n",
    "|  43691 |  40.612 |  39.627 |  39.986 |  39.863 |  39.935 |  40.101 |  39.696 |  40.336 |\n",
    "|  75617 |  34.284 |  29.275 |  29.633 |  29.641 |  29.453 |  29.630 |  29.832 |  29.606 |\n",
    "|    791 |  34.653 |  33.112 |  33.308 |  33.714 |  33.951 |  32.934 |  33.296 |  32.647 |\n",
    "|Over All|  40.404 |  37.429 |  38.836 |  38.826 |  38.677 |  38.829 |  38.889 |  38.957 |\n",
    "#### model_10_Modified_CNN_0_median_stdev_2_3_groups\n",
    "| N_pages|Fibonacci|Ens Media| Average | Model 0 | Model 1 | Model 2 | Model 3 | Model 4 |\n",
    "|--------|---------|---------|---------|---------|---------|---------|---------|---------|\n",
    "|  24964 |  61.170 |  68.909 |  68.900 |  69.367 |  69.103 |  69.194 |  69.001 |  67.833 |\n",
    "|  43691 |  40.612 |  39.821 |  40.247 |  39.939 |  40.098 |  40.056 |  40.701 |  40.443 |\n",
    "|  76408 |  34.288 |  29.400 |  29.910 |  29.979 |  30.039 |  29.790 |  29.676 |  30.068 |\n",
    "|Over All|  40.404 |  37.535 |  39.140 |  39.154 |  39.194 |  39.062 |  39.169 |  39.119 |\n",
    "#### model_10_Modified_CNN_0_median_stdev\n",
    "| N_pages|Fibonacci| ori mean|ori media| mean ori|media ori| Model 0 | Model 1 | Model 2 | Model 3 | Model 4 |\n",
    "|--------|---------|---------|---------|---------|---------|---------|---------|---------|---------|---------|\n",
    "|   1879 |  57.385 | 199.741 | 172.496 | 191.624 | 172.496 | 161.576 | 156.487 | 166.024 | 139.355 | 159.019 |\n",
    "|  23085 |  61.354 |  64.110 |  64.122 |  64.116 |  64.122 |  64.389 |  64.273 |  64.008 |  63.988 |  64.148 |\n",
    "|  43691 |  40.612 |  39.620 |  39.564 |  39.574 |  39.564 |  39.684 |  39.842 |  39.969 |  39.808 |  40.173 |\n",
    "|  75617 |  34.284 |  29.300 |  29.231 |  29.248 |  29.231 |  29.538 |  29.575 |  29.454 |  29.907 |  29.573 |\n",
    "|    740 |  35.621 |  33.403 |  33.482 |  33.373 |  33.482 |  33.564 |  33.710 |  33.397 |  33.666 |  33.965 |\n",
    "|     51 |  20.224 |  16.360 |  16.338 |  16.361 |  16.338 |  16.406 |  16.451 |  17.309 |  16.628 |  16.331 |\n",
    "#### model_9_CNN_with_Fibonacci_4_Ensemble_3_filter_3\n",
    "| N_pages|Fibonacci| ori mean|ori media| mean ori|media ori| Model 0 | Model 1 | Model 2 | Model 3 | Model 4 |\n",
    "|--------|---------|---------|---------|---------|---------|---------|---------|---------|---------|---------|\n",
    "|   1879 |  57.385 | 199.921 | 173.799 | 189.346 | 173.799 | 161.230 | 166.806 | 139.008 | 152.935 | 170.833 |\n",
    "|  23085 |  61.354 |  63.635 |  63.651 |  63.644 |  63.651 |  64.048 |  63.281 |  63.966 |  63.664 |  63.569 |\n",
    "|  43691 |  40.612 |  39.693 |  39.628 |  39.637 |  39.628 |  40.004 |  39.860 |  40.201 |  39.817 |  40.143 |\n",
    "|  75617 |  34.284 |  29.444 |  29.368 |  29.381 |  29.368 |  30.201 |  29.582 |  29.611 |  29.744 |  29.618 |\n",
    "|    740 |  35.621 |  33.858 |  33.893 |  33.837 |  33.893 |  33.801 |  34.143 |  34.101 |  34.290 |  34.145 |\n",
    "|     51 |  20.224 |  16.861 |  16.948 |  16.856 |  16.948 |  16.933 |  17.094 |  16.930 |  17.424 |  16.985 |"
   ]
  },
  {
   "cell_type": "markdown",
   "metadata": {},
   "source": [
    "## More Explore"
   ]
  },
  {
   "cell_type": "markdown",
   "metadata": {},
   "source": [
    "### Group Models in other Groups"
   ]
  },
  {
   "cell_type": "code",
   "execution_count": 170,
   "metadata": {},
   "outputs": [
    {
     "name": "stdout",
     "output_type": "stream",
     "text": [
      "Run 0\n",
      "Run 1\n",
      "Run 2\n",
      "Wall time: 1min 58s\n"
     ]
    }
   ],
   "source": [
    "%%time\n",
    "smape_gpm_gp_ens = []\n",
    "for run in ens_list:\n",
    "    print('Run', run)\n",
    "    models = models_ens[run]\n",
    "    Y_output_all_ori_list = unlog(np.array([untransform(model.predict([X_output, A_output]), \n",
    "                                                        Y_output_center, output_scale) \n",
    "                                            for model in models]))\n",
    "    # row: model of the group; column: group of Y\n",
    "    smape_gpm_gp = [[smape(Y, Y_p[output_gp == gp]) for gp, Y in zip(gp_list, Y_output_raw_list)] \n",
    "                    for Y_p in Y_output_all_ori_list]\n",
    "    smape_gpm_gp_ens.append(smape_gpm_gp)\n",
    "smape_gpm_gp_ens = np.array(smape_gpm_gp_ens)"
   ]
  },
  {
   "cell_type": "code",
   "execution_count": 171,
   "metadata": {
    "collapsed": true
   },
   "outputs": [],
   "source": [
    "smape_gpm_gp_mean = np.mean(smape_gpm_gp_ens, axis=0)"
   ]
  },
  {
   "cell_type": "code",
   "execution_count": 172,
   "metadata": {
    "scrolled": true
   },
   "outputs": [
    {
     "name": "stdout",
     "output_type": "stream",
     "text": [
      "Ensemble avg  | group 0| group 1| group 2| group 3|\n",
      "--------------|--------|--------|--------|--------|\n",
      "group model 0 |  65.61 |  41.61 |  35.84 |  36.85 |\n",
      "group model 1 |  69.35 |  40.80 |  32.26 |  33.70 |\n",
      "group model 2 |  70.49 |  41.44 |  31.18 |  30.85 |\n",
      "group model 3 |  75.05 |  44.97 |  34.92 |  34.58 |\n"
     ]
    }
   ],
   "source": [
    "print('Ensemble avg  ', end='|')\n",
    "for j in range(len(smape_gpm_gp_mean[0])): print(' group', j, end='|')\n",
    "print('')\n",
    "print('--------------', end='|')\n",
    "for j in range(len(smape_gpm_gp_mean[0])): print('--------', end='|')\n",
    "print('')\n",
    "for i in range(len(smape_gpm_gp_mean)):\n",
    "    print('group model', i, end=' |')\n",
    "    for j in range(len(smape_gpm_gp_mean[0])):\n",
    "        print(' %6.2f ' % smape_gpm_gp_mean[i][j], end='|')\n",
    "    print('')"
   ]
  },
  {
   "cell_type": "markdown",
   "metadata": {},
   "source": [
    "Only group model 2 and 3 are useful"
   ]
  },
  {
   "cell_type": "code",
   "execution_count": 173,
   "metadata": {},
   "outputs": [
    {
     "name": "stdout",
     "output_type": "stream",
     "text": [
      "  65.59 |  40.53 |  30.87 |  34.40 |"
     ]
    }
   ],
   "source": [
    "for x in gp_omed_smape: print(' %6.2f ' % x, end='|')"
   ]
  },
  {
   "cell_type": "code",
   "execution_count": 174,
   "metadata": {},
   "outputs": [
    {
     "name": "stdout",
     "output_type": "stream",
     "text": [
      "  61.71 |  41.51 |  35.73 |  36.70 |"
     ]
    }
   ],
   "source": [
    "for x in gp_smape_fib: print(' %6.2f ' % x, end='|')"
   ]
  },
  {
   "cell_type": "markdown",
   "metadata": {},
   "source": [
    "Group 4 is better at group 3 model. Group 5 is better at group 2 or 3 model"
   ]
  },
  {
   "cell_type": "markdown",
   "metadata": {},
   "source": [
    "## Optimize Group Models"
   ]
  },
  {
   "cell_type": "markdown",
   "metadata": {},
   "source": [
    "### Group Models in other Groups"
   ]
  },
  {
   "cell_type": "code",
   "execution_count": 175,
   "metadata": {},
   "outputs": [
    {
     "name": "stdout",
     "output_type": "stream",
     "text": [
      "Wall time: 1min 56s\n"
     ]
    }
   ],
   "source": [
    "%%time\n",
    "Y_output_all_ori_list_ens = unlog(np.array([[untransform(model.predict([X_output, A_output]), \n",
    "                                                         Y_output_center, output_scale) \n",
    "                                            for model in models] for models in models_ens]))\n",
    "#Take 4 min on PC and NB"
   ]
  },
  {
   "cell_type": "code",
   "execution_count": 176,
   "metadata": {},
   "outputs": [
    {
     "data": {
      "text/plain": [
       "(3, 4, 145063, 70)"
      ]
     },
     "execution_count": 176,
     "metadata": {},
     "output_type": "execute_result"
    }
   ],
   "source": [
    "Y_output_all_ori_list_ens.shape  # (Ensemble, Group model, Y, y)"
   ]
  },
  {
   "cell_type": "code",
   "execution_count": 177,
   "metadata": {},
   "outputs": [
    {
     "data": {
      "text/plain": [
       "(4, 145063, 70)"
      ]
     },
     "execution_count": 177,
     "metadata": {},
     "output_type": "execute_result"
    }
   ],
   "source": [
    "#Take Ensemble median\n",
    "Y_output_all_ori_list_ens_med = np.median(Y_output_all_ori_list_ens, axis=0); Y_output_all_ori_list_ens_med.shape"
   ]
  },
  {
   "cell_type": "code",
   "execution_count": 178,
   "metadata": {
    "collapsed": true
   },
   "outputs": [],
   "source": [
    "#Group scores for each group models\n",
    "#row index: group model; column index: group of Y\n",
    "smape_gpm_gp_ens_med = [[smape(Y, Y_p[output_gp == gp]) for gp, Y in zip(gp_list, Y_output_raw_list)] \n",
    "                        for Y_p in Y_output_all_ori_list_ens_med]"
   ]
  },
  {
   "cell_type": "code",
   "execution_count": 179,
   "metadata": {},
   "outputs": [
    {
     "name": "stdout",
     "output_type": "stream",
     "text": [
      "Ens. Median   | group 0| group 1| group 2| group 3|\n",
      "--------------|--------|--------|--------|--------|\n",
      "group model 0 |  65.59 |  41.56 |  35.80 |  36.82 |\n",
      "group model 1 |  69.33 |  40.53 |  31.91 |  33.31 |\n",
      "group model 2 |  69.97 |  40.95 |  30.87 |  30.55 |\n",
      "group model 3 |  74.52 |  44.67 |  34.72 |  34.40 |\n"
     ]
    }
   ],
   "source": [
    "print('Ens. Median   ', end='|')\n",
    "for j in range(len(smape_gpm_gp_ens_med[0])): print(' group', j, end='|')\n",
    "print('')\n",
    "print('--------------', end='|')\n",
    "for j in range(len(smape_gpm_gp_ens_med[0])): print('--------', end='|')\n",
    "print('')\n",
    "for i in range(len(smape_gpm_gp_ens_med)):\n",
    "    print('group model', i, end=' |')\n",
    "    for j in range(len(smape_gpm_gp_ens_med[0])):\n",
    "        print(' %6.2f ' % smape_gpm_gp_ens_med[i][j], end='|')\n",
    "    print('')"
   ]
  },
  {
   "cell_type": "code",
   "execution_count": 180,
   "metadata": {},
   "outputs": [
    {
     "name": "stdout",
     "output_type": "stream",
     "text": [
      "  65.59 |  40.53 |  30.87 |  34.40 |"
     ]
    }
   ],
   "source": [
    "for x in gp_omed_smape: print(' %6.2f ' % x, end='|')"
   ]
  },
  {
   "cell_type": "code",
   "execution_count": 181,
   "metadata": {},
   "outputs": [
    {
     "name": "stdout",
     "output_type": "stream",
     "text": [
      "  61.71 |  41.51 |  35.73 |  36.70 |"
     ]
    }
   ],
   "source": [
    "for x in gp_smape_fib: print(' %6.2f ' % x, end='|')"
   ]
  },
  {
   "cell_type": "markdown",
   "metadata": {},
   "source": [
    "### Optimized Group Models"
   ]
  },
  {
   "cell_type": "code",
   "execution_count": 182,
   "metadata": {},
   "outputs": [
    {
     "name": "stdout",
     "output_type": "stream",
     "text": [
      "model_10_Modified_CNN_4_The_Model_2_Longer_Prediction_2_63_70 gpm_list = [0,1,2,2,]\n"
     ]
    }
   ],
   "source": [
    "gpm_list = np.argmin(smape_gpm_gp_mean,axis=0)\n",
    "\n",
    "print(model_name,'gpm_list = [', end='')\n",
    "for x in gpm_list: print(x, end=',')\n",
    "print(']')"
   ]
  },
  {
   "cell_type": "code",
   "execution_count": 183,
   "metadata": {},
   "outputs": [
    {
     "data": {
      "text/plain": [
       "array([[ True, False, False, False],\n",
       "       [False,  True, False, False],\n",
       "       [False, False,  True, False],\n",
       "       [False, False,  True, False]], dtype=bool)"
      ]
     },
     "execution_count": 183,
     "metadata": {},
     "output_type": "execute_result"
    }
   ],
   "source": [
    "gpm_mask = np.array([gpm_list == gp for gp in gp_list]).T; gpm_mask"
   ]
  },
  {
   "cell_type": "code",
   "execution_count": 184,
   "metadata": {
    "collapsed": true
   },
   "outputs": [],
   "source": [
    "Y_output_ori_list_ens_med_temp = np.tensordot(gpm_mask, Y_output_all_ori_list_ens_med, axes=([1],[0]))"
   ]
  },
  {
   "cell_type": "code",
   "execution_count": 185,
   "metadata": {},
   "outputs": [
    {
     "data": {
      "text/plain": [
       "array([[False, False,  True, ..., False,  True, False],\n",
       "       [ True,  True, False, ...,  True, False,  True],\n",
       "       [False, False, False, ..., False, False, False],\n",
       "       [False, False, False, ..., False, False, False]], dtype=bool)"
      ]
     },
     "execution_count": 185,
     "metadata": {},
     "output_type": "execute_result"
    }
   ],
   "source": [
    "gp_mask = np.array([output_gp == gp for gp in gp_list]); gp_mask"
   ]
  },
  {
   "cell_type": "code",
   "execution_count": 186,
   "metadata": {},
   "outputs": [
    {
     "data": {
      "text/plain": [
       "(4, 145063, 1)"
      ]
     },
     "execution_count": 186,
     "metadata": {},
     "output_type": "execute_result"
    }
   ],
   "source": [
    "gp_mask_reshape = gp_mask.reshape(len(gp_mask),len(gp_mask[0]),1); gp_mask_reshape.shape"
   ]
  },
  {
   "cell_type": "code",
   "execution_count": 187,
   "metadata": {
    "collapsed": true
   },
   "outputs": [],
   "source": [
    "Y_output_ori_list_ens_med_temp_mask = gp_mask_reshape * Y_output_ori_list_ens_med_temp"
   ]
  },
  {
   "cell_type": "code",
   "execution_count": 188,
   "metadata": {},
   "outputs": [
    {
     "data": {
      "text/plain": [
       "(4, 145063, 70)"
      ]
     },
     "execution_count": 188,
     "metadata": {},
     "output_type": "execute_result"
    }
   ],
   "source": [
    "Y_output_ori_list_ens_med_temp_mask.shape"
   ]
  },
  {
   "cell_type": "code",
   "execution_count": 189,
   "metadata": {
    "collapsed": true
   },
   "outputs": [],
   "source": [
    "Y_output_gpm_ens_med = np.sum(Y_output_ori_list_ens_med_temp_mask, axis=0)"
   ]
  },
  {
   "cell_type": "code",
   "execution_count": 190,
   "metadata": {},
   "outputs": [
    {
     "data": {
      "text/plain": [
       "(145063, 70)"
      ]
     },
     "execution_count": 190,
     "metadata": {},
     "output_type": "execute_result"
    }
   ],
   "source": [
    "Y_output_gpm_ens_med.shape"
   ]
  },
  {
   "cell_type": "code",
   "execution_count": 191,
   "metadata": {
    "collapsed": true
   },
   "outputs": [],
   "source": [
    "gpm_ens_smape = smape(Y_output_raw, Y_output_gpm_ens_med)"
   ]
  },
  {
   "cell_type": "code",
   "execution_count": 192,
   "metadata": {},
   "outputs": [
    {
     "data": {
      "text/plain": [
       "(39.154552, 39.176151)"
      ]
     },
     "execution_count": 192,
     "metadata": {},
     "output_type": "execute_result"
    }
   ],
   "source": [
    "gpm_ens_smape, ens_med_smape"
   ]
  },
  {
   "cell_type": "markdown",
   "metadata": {},
   "source": [
    "#### Group scores"
   ]
  },
  {
   "cell_type": "code",
   "execution_count": 193,
   "metadata": {
    "collapsed": true
   },
   "outputs": [],
   "source": [
    "Y_output_gpm_ens_med_list = [Y_output_gpm_ens_med[output_gp == gp] for gp in gp_list]"
   ]
  },
  {
   "cell_type": "code",
   "execution_count": 194,
   "metadata": {
    "collapsed": true
   },
   "outputs": [],
   "source": [
    "# Group SMAPE scores\n",
    "if test_length:\n",
    "    gp_gpm_ens_med_smape = [smape(Y, Y_p) for Y, Y_p in zip(Y_output_raw_list, Y_output_gpm_ens_med_list)]"
   ]
  },
  {
   "cell_type": "code",
   "execution_count": 195,
   "metadata": {
    "scrolled": true
   },
   "outputs": [
    {
     "name": "stdout",
     "output_type": "stream",
     "text": [
      " N_pages|Fibonacci|GPM Optim|Ens Media| Average |\n",
      "|--------|---------|---------|---------|---------|\n",
      "|  24628 |  61.714 |  65.590 |  65.590 |  65.615 |\n",
      "|  43782 |  41.506 |  40.531 |  40.531 |  40.801 |\n",
      "|  75828 |  35.726 |  30.870 |  30.870 |  31.176 |\n",
      "|    825 |  36.698 |  30.549 |  34.398 |  34.577 |\n"
     ]
    }
   ],
   "source": [
    "if test_length:\n",
    "    #print('#### ' + model_name + 'group model optimized')\n",
    "    #print('', end='|')\n",
    "    print(' N_pages', 'Fibonacci', 'GPM Optim', 'Ens Media', ' Average ', sep='|', end='|')\n",
    "    #or run in ens_list: print(' Model', run, end=' |')\n",
    "    print('')\n",
    "    print('', end='|')\n",
    "    print('--------', '---------', '---------', '---------', '---------', sep='|', end='|')\n",
    "    #for run in ens_list: print('---------', end='|')\n",
    "    print('')\n",
    "    for gp in gp_list:\n",
    "        print('', end='|')\n",
    "        print(' %6d ' % gp_n[gp], end='|')\n",
    "        print(' %7.3f ' % gp_smape_fib[gp], end='|')\n",
    "        print(' %7.3f ' % gp_gpm_ens_med_smape[gp], end='|')\n",
    "        print(' %7.3f ' % gp_omed_smape[gp], end='|')\n",
    "        print(' %7.3f ' % gp_smape_mean[gp], end='|')\n",
    "        print('')\n",
    "    #print('|Over All', ' %7.3f ' % fib_smape, ' %7.3f ' % f_omed_smape,\n",
    "    #      ' %7.3f ' % model_smape_ens_mean, sep='|', end='|')    \n",
    "# Note The over all score for ensemble median (Ens Media) is the one after combining with \n",
    "# Fibonacci median model not the total score"
   ]
  },
  {
   "cell_type": "markdown",
   "metadata": {},
   "source": [
    "#### Combined with Fib."
   ]
  },
  {
   "cell_type": "code",
   "execution_count": 196,
   "metadata": {},
   "outputs": [
    {
     "data": {
      "text/plain": [
       "(145063, 1)"
      ]
     },
     "execution_count": 196,
     "metadata": {},
     "output_type": "execute_result"
    }
   ],
   "source": [
    "#Select group 0\n",
    "#fib_mask = ((output_gp == 0)|(output_gp == 1)).reshape(-1,1); fib_mask.shape\n",
    "fib_mask = (output_gp == 0).reshape(-1,1); fib_mask.shape"
   ]
  },
  {
   "cell_type": "code",
   "execution_count": 197,
   "metadata": {
    "collapsed": true
   },
   "outputs": [],
   "source": [
    "Y_output_f_gpm = fib_mask * Y_output_fib_ori + (~fib_mask) * Y_output_gpm_ens_med  # Our final output"
   ]
  },
  {
   "cell_type": "code",
   "execution_count": 198,
   "metadata": {
    "collapsed": true
   },
   "outputs": [],
   "source": [
    "f_gpm_ens_smape = smape(Y_output_raw, Y_output_f_gpm)"
   ]
  },
  {
   "cell_type": "code",
   "execution_count": 199,
   "metadata": {},
   "outputs": [
    {
     "name": "stdout",
     "output_type": "stream",
     "text": [
      "38.562 (39.155) - model_10_Modified_CNN_4_The_Model_2_Longer_Prediction_2_63_70 GPM Optim Ens\n"
     ]
    }
   ],
   "source": [
    "print('%6.3f' % f_gpm_ens_smape, '(%6.3f)' % gpm_ens_smape, '-', model_name, 'GPM Optim Ens')"
   ]
  },
  {
   "cell_type": "markdown",
   "metadata": {},
   "source": [
    "## Plots"
   ]
  },
  {
   "cell_type": "markdown",
   "metadata": {
    "collapsed": true
   },
   "source": [
    "### Group model examination"
   ]
  },
  {
   "cell_type": "code",
   "execution_count": 200,
   "metadata": {},
   "outputs": [
    {
     "data": {
      "text/plain": [
       "(4, 145063, 70)"
      ]
     },
     "execution_count": 200,
     "metadata": {},
     "output_type": "execute_result"
    }
   ],
   "source": [
    "Y_output_all_ori_list_ens_med.shape"
   ]
  },
  {
   "cell_type": "markdown",
   "metadata": {},
   "source": [
    "#### Group = 5"
   ]
  },
  {
   "cell_type": "code",
   "execution_count": 201,
   "metadata": {
    "collapsed": true
   },
   "outputs": [],
   "source": [
    "gp = 5\n",
    "Y_list = Y_output_all_ori_list_ens_med[:, output_gp == gp]"
   ]
  },
  {
   "cell_type": "code",
   "execution_count": 202,
   "metadata": {},
   "outputs": [
    {
     "data": {
      "text/plain": [
       "(4, 0, 70)"
      ]
     },
     "execution_count": 202,
     "metadata": {},
     "output_type": "execute_result"
    }
   ],
   "source": [
    "Y_list.shape"
   ]
  },
  {
   "cell_type": "code",
   "execution_count": 203,
   "metadata": {},
   "outputs": [
    {
     "ename": "ValueError",
     "evalue": "a must be greater than 0",
     "output_type": "error",
     "traceback": [
      "\u001b[1;31m---------------------------------------------------------------------------\u001b[0m",
      "\u001b[1;31mValueError\u001b[0m                                Traceback (most recent call last)",
      "\u001b[1;32m<ipython-input-203-863832cbd7b4>\u001b[0m in \u001b[0;36m<module>\u001b[1;34m()\u001b[0m\n\u001b[1;32m----> 1\u001b[1;33m \u001b[0mview_list\u001b[0m \u001b[1;33m=\u001b[0m \u001b[0mnp\u001b[0m\u001b[1;33m.\u001b[0m\u001b[0msort\u001b[0m\u001b[1;33m(\u001b[0m\u001b[0mnp\u001b[0m\u001b[1;33m.\u001b[0m\u001b[0mrandom\u001b[0m\u001b[1;33m.\u001b[0m\u001b[0mchoice\u001b[0m\u001b[1;33m(\u001b[0m\u001b[0mlen\u001b[0m\u001b[1;33m(\u001b[0m\u001b[0mY_list\u001b[0m\u001b[1;33m[\u001b[0m\u001b[1;36m0\u001b[0m\u001b[1;33m]\u001b[0m\u001b[1;33m)\u001b[0m\u001b[1;33m,\u001b[0m \u001b[1;36m5\u001b[0m\u001b[1;33m,\u001b[0m \u001b[0mreplace\u001b[0m\u001b[1;33m=\u001b[0m\u001b[1;32mFalse\u001b[0m\u001b[1;33m)\u001b[0m\u001b[1;33m)\u001b[0m\u001b[1;33m;\u001b[0m \u001b[0mview_list\u001b[0m\u001b[1;33m\u001b[0m\u001b[0m\n\u001b[0m",
      "\u001b[1;32mmtrand.pyx\u001b[0m in \u001b[0;36mmtrand.RandomState.choice (numpy\\random\\mtrand\\mtrand.c:17062)\u001b[1;34m()\u001b[0m\n",
      "\u001b[1;31mValueError\u001b[0m: a must be greater than 0"
     ]
    }
   ],
   "source": [
    "view_list = np.sort(np.random.choice(len(Y_list[0]), 5, replace=False)); view_list"
   ]
  },
  {
   "cell_type": "code",
   "execution_count": null,
   "metadata": {
    "collapsed": true,
    "scrolled": true
   },
   "outputs": [],
   "source": [
    "print('Group ' + str(gp))\n",
    "for i in view_list:\n",
    "    print('i = ', i)\n",
    "    plt.plot(Y_output_ori_list[gp][i], label='true')\n",
    "    for gpm in gp_list:\n",
    "        plt.plot(Y_list[gpm, i], label='gpm '+ str(gpm))\n",
    "    plt.legend()\n",
    "    plt.show()    "
   ]
  },
  {
   "cell_type": "code",
   "execution_count": null,
   "metadata": {
    "collapsed": true
   },
   "outputs": [],
   "source": [
    "orinal_view_list = np.arange(len(output_gp))[output_gp == gp][view_list];\n",
    "np.array([view_list, orinal_view_list])"
   ]
  },
  {
   "cell_type": "code",
   "execution_count": null,
   "metadata": {
    "collapsed": true
   },
   "outputs": [],
   "source": [
    "np.array([fib_input_median[orinal_view_list], fib_output_median[orinal_view_list]])"
   ]
  },
  {
   "cell_type": "markdown",
   "metadata": {},
   "source": [
    "#### Group = 4"
   ]
  },
  {
   "cell_type": "code",
   "execution_count": null,
   "metadata": {
    "collapsed": true
   },
   "outputs": [],
   "source": [
    "gp = 4\n",
    "Y_list = Y_output_all_ori_list_ens_med[:, output_gp == gp]"
   ]
  },
  {
   "cell_type": "code",
   "execution_count": null,
   "metadata": {
    "collapsed": true
   },
   "outputs": [],
   "source": [
    "Y_list.shape"
   ]
  },
  {
   "cell_type": "code",
   "execution_count": null,
   "metadata": {
    "collapsed": true
   },
   "outputs": [],
   "source": [
    "view_list = np.sort(np.random.choice(len(Y_list[0]), 5, replace=False)); view_list"
   ]
  },
  {
   "cell_type": "code",
   "execution_count": null,
   "metadata": {
    "collapsed": true
   },
   "outputs": [],
   "source": [
    "output_log_std_p = [1.]"
   ]
  },
  {
   "cell_type": "code",
   "execution_count": null,
   "metadata": {
    "collapsed": true,
    "scrolled": false
   },
   "outputs": [],
   "source": [
    "print('Group ' + str(gp))\n",
    "for i in view_list:\n",
    "    print('i = ', i)\n",
    "    plt.plot(Y_output_ori_list[gp][i], label='true')\n",
    "    for gpm in gp_list:\n",
    "        plt.plot(Y_list[gpm, i], label='gpm '+ str(gpm))\n",
    "    plt.legend()\n",
    "    plt.show()    "
   ]
  },
  {
   "cell_type": "code",
   "execution_count": null,
   "metadata": {
    "collapsed": true,
    "scrolled": false
   },
   "outputs": [],
   "source": [
    "print('Group ' + str(gp))\n",
    "for i in view_list:\n",
    "    print('i = ', i)\n",
    "    plt.plot(Y_output_ori_list[gp][i], label='true')\n",
    "    for gpm in gp_list:\n",
    "        plt.plot(Y_list[gpm, i], label='gpm '+ str(gpm))\n",
    "    plt.yscale('log')\n",
    "    plt.legend(); plt.show()    "
   ]
  },
  {
   "cell_type": "code",
   "execution_count": null,
   "metadata": {
    "collapsed": true
   },
   "outputs": [],
   "source": [
    "orinal_view_list = np.arange(len(output_gp))[output_gp == gp][view_list];\n",
    "np.array([view_list, orinal_view_list])"
   ]
  },
  {
   "cell_type": "code",
   "execution_count": null,
   "metadata": {
    "collapsed": true
   },
   "outputs": [],
   "source": [
    "np.array([fib_input_median[orinal_view_list], fib_output_median[orinal_view_list]])"
   ]
  },
  {
   "cell_type": "markdown",
   "metadata": {},
   "source": [
    "#### Case 131296"
   ]
  },
  {
   "cell_type": "code",
   "execution_count": null,
   "metadata": {
    "collapsed": true
   },
   "outputs": [],
   "source": [
    "i = 131296"
   ]
  },
  {
   "cell_type": "code",
   "execution_count": null,
   "metadata": {
    "collapsed": true
   },
   "outputs": [],
   "source": [
    "multi_view((Y_output_ori[i],Y_output_pred_ori[i]))"
   ]
  },
  {
   "cell_type": "markdown",
   "metadata": {},
   "source": [
    "### Cases study"
   ]
  },
  {
   "cell_type": "code",
   "execution_count": null,
   "metadata": {
    "collapsed": true
   },
   "outputs": [],
   "source": [
    "view_list=[93175, 13986, 5464, 89589, 119659, 64392, 73856, 140331, 19234, 25591]"
   ]
  },
  {
   "cell_type": "markdown",
   "metadata": {
    "scrolled": true
   },
   "source": [
    "view_list = examine_list_gp((Y_output_ori,\n",
    "                             Y_output_pred_ori_ens_mean, \n",
    "                             Y_output_pred_ori_ens_med,\n",
    "                             Y_output_pred_ori_ens[-1], \n",
    "                             ), output_gp, view_list=view_list)"
   ]
  },
  {
   "cell_type": "markdown",
   "metadata": {},
   "source": [
    "i = 93175\n",
    "plt.plot(Y_output_ori[i], label='true')\n",
    "plt.plot(Y_output_pred_ori_ens_mean[i], label='ens mean')\n",
    "plt.plot(Y_output_pred_ori_ens_med[i], label='ens median')\n",
    "plt.plot(Y_output_pred_ens_mean_ori[i], label='ens mean before transf')\n",
    "plt.plot(Y_output_pred_ens_med_ori[i], label='ens median before transf')\n",
    "plt.plot(Y_output_pred_ori_ens[-1][i], label='run: 4')\n",
    "plt.title('i = ' + str(i) + ' gp = ' + str(output_gp[i]))\n",
    "plt.legend()\n",
    "plt.show()"
   ]
  },
  {
   "cell_type": "markdown",
   "metadata": {},
   "source": [
    "i = 93175\n",
    "plt.plot(Y_output_ori[i], label='true')\n",
    "for run in ens_list:\n",
    "    plt.plot(Y_output_pred_ori_ens[run][i], label='run' + str(run))\n",
    "plt.plot(Y_output_pred_ens_mean_ori[i], label='ens mean before transf')\n",
    "plt.title('i = ' + str(i) + ' gp = ' + str(output_gp[i]))\n",
    "plt.legend()\n",
    "plt.show()"
   ]
  },
  {
   "cell_type": "code",
   "execution_count": null,
   "metadata": {
    "collapsed": true,
    "scrolled": true
   },
   "outputs": [],
   "source": [
    "view_list = examine_list_gp((Y_output_pred_ori_ens[-1], \n",
    "                             Y_output_pred_ori_ens_med,\n",
    "                             Y_output_f_gpm, \n",
    "                             Y_output_ori), output_gp, view_list=view_list)"
   ]
  },
  {
   "cell_type": "markdown",
   "metadata": {},
   "source": [
    "view_list = comp_examine(X_output, Y_output_pred, view_list=view_list)"
   ]
  },
  {
   "cell_type": "markdown",
   "metadata": {},
   "source": [
    "view_list = comp_examine(X_output_ori, Y_output_pred_ori, view_list=view_list)"
   ]
  },
  {
   "cell_type": "code",
   "execution_count": null,
   "metadata": {
    "collapsed": true
   },
   "outputs": [],
   "source": [
    "view_list = examine_list_gp((Y_output_pred_ori, X_output_ori, Y_input_ori), output_gp, view_list=view_list)"
   ]
  },
  {
   "cell_type": "code",
   "execution_count": null,
   "metadata": {
    "collapsed": true,
    "scrolled": true
   },
   "outputs": [],
   "source": [
    "view_list = examine_list_gp((Y_output_pred_ori, X_output_ori, Y_input_ori), output_gp, view_list=view_list)"
   ]
  },
  {
   "cell_type": "markdown",
   "metadata": {},
   "source": [
    "view_list = examine_list_gp((Y_output_pred, X_output, Y_input), output_gp, view_list=view_list)"
   ]
  },
  {
   "cell_type": "markdown",
   "metadata": {},
   "source": [
    "if test_length:\n",
    "    view_list = examine_list((Y_output_pred, Y_output, X_output), view_list=view_list)"
   ]
  },
  {
   "cell_type": "markdown",
   "metadata": {},
   "source": [
    "if test_length:\n",
    "    view_list = examine_list((Y_output_pred_ori, Y_output_ori, X_output_ori), view_list=view_list)"
   ]
  },
  {
   "cell_type": "markdown",
   "metadata": {
    "scrolled": true
   },
   "source": [
    "if test_length:\n",
    "    view_list = examine_list_gp((Y_output_pred, Y_output, X_output), output_gp,\n",
    "                             view_list=view_list)"
   ]
  },
  {
   "cell_type": "markdown",
   "metadata": {
    "scrolled": true
   },
   "source": [
    "if test_length:\n",
    "    view_list = examine_list_gp((Y_output_pred_ori, Y_output_ori, X_output_ori), output_gp,\n",
    "                             view_list=view_list)"
   ]
  },
  {
   "cell_type": "markdown",
   "metadata": {},
   "source": [
    "view_list_smape = [smape(Y_output_pred_ori[i], Y_output_raw[i]) for i in view_list]; view_list_smape"
   ]
  },
  {
   "cell_type": "markdown",
   "metadata": {
    "scrolled": true
   },
   "source": [
    "view_list_review = [score < model_smape for score in view_list_smape]; view_list_review"
   ]
  },
  {
   "cell_type": "markdown",
   "metadata": {},
   "source": [
    "view_list_good = list(np.array(view_list)[view_list_review]); view_list_good"
   ]
  },
  {
   "cell_type": "markdown",
   "metadata": {},
   "source": [
    "view_list_bad = list(np.array(view_list)[~np.array(view_list_review)]); view_list_bad"
   ]
  },
  {
   "cell_type": "markdown",
   "metadata": {},
   "source": [
    "#### Good cases"
   ]
  },
  {
   "cell_type": "markdown",
   "metadata": {
    "scrolled": true
   },
   "source": [
    "examine_list_gp((Y_output_pred_ori, Y_output_ori, X_output_ori), output_gp,\n",
    "             view_list=view_list_good)"
   ]
  },
  {
   "cell_type": "markdown",
   "metadata": {},
   "source": [
    "#### Bad cases"
   ]
  },
  {
   "cell_type": "markdown",
   "metadata": {
    "scrolled": true
   },
   "source": [
    "examine_list_gp((Y_output_pred_ori, Y_output_ori, X_output_ori),output_gp,\n",
    "             view_list=view_list_bad)"
   ]
  },
  {
   "cell_type": "markdown",
   "metadata": {},
   "source": [
    "print(Y_output_center[view_list_good].reshape(-1))\n",
    "print(Y_output_center[view_list_bad].reshape(-1))"
   ]
  },
  {
   "cell_type": "markdown",
   "metadata": {},
   "source": [
    "print(output_scale[view_list_good].reshape(-1))\n",
    "print(output_scale[view_list_bad].reshape(-1))"
   ]
  },
  {
   "cell_type": "markdown",
   "metadata": {},
   "source": [
    "output_gp[view_list_good]"
   ]
  },
  {
   "cell_type": "markdown",
   "metadata": {},
   "source": [
    "output_gp[view_list_bad]"
   ]
  },
  {
   "cell_type": "markdown",
   "metadata": {},
   "source": [
    "#### Case 93175"
   ]
  },
  {
   "cell_type": "markdown",
   "metadata": {
    "collapsed": true
   },
   "source": [
    "i = 93175"
   ]
  },
  {
   "cell_type": "markdown",
   "metadata": {},
   "source": [
    "multi_view((Y_output_pred_ori[i], Y_output_ori[i], X_output_ori[i]), yscale='log')\n",
    "multi_view((Y_output_pred_ori[i], Y_output_ori[i], X_output_ori[i]))"
   ]
  },
  {
   "cell_type": "markdown",
   "metadata": {},
   "source": [
    "smape(Y_output_pred_ori[i], Y_output_raw[i])"
   ]
  },
  {
   "cell_type": "markdown",
   "metadata": {
    "scrolled": false
   },
   "source": [
    "Y_input_center[i], Y_output_center[i], input_scale[i], output_scale[i]"
   ]
  },
  {
   "cell_type": "markdown",
   "metadata": {},
   "source": [
    "#### Case 41896"
   ]
  },
  {
   "cell_type": "markdown",
   "metadata": {
    "collapsed": true
   },
   "source": [
    "i = 41896"
   ]
  },
  {
   "cell_type": "markdown",
   "metadata": {
    "collapsed": true
   },
   "source": [
    "multi_view((X_input[i], Y_input[i]))"
   ]
  },
  {
   "cell_type": "markdown",
   "metadata": {
    "collapsed": true
   },
   "source": [
    "comp_view(X_input_ori[i], Y_input_ori[i])"
   ]
  },
  {
   "cell_type": "markdown",
   "metadata": {
    "collapsed": true
   },
   "source": [
    "comp_view(X_output_ori[i], Y_output_pred_ori[i])"
   ]
  },
  {
   "cell_type": "markdown",
   "metadata": {
    "collapsed": true
   },
   "source": [
    "comp_view(X_input_ori[i], Y_input_ori[i])"
   ]
  },
  {
   "cell_type": "markdown",
   "metadata": {},
   "source": [
    "### Good and bad cases"
   ]
  },
  {
   "cell_type": "markdown",
   "metadata": {
    "collapsed": true
   },
   "source": [
    "review_Y = np.array([score < model_smape for score in smape_Y_pred])\n",
    "good_Y_index = np.arange(len(Y_output_pred))[review_Y]; #good_Y_index\n",
    "bad_Y_index = np.arange(len(Y_output_pred))[~review_Y]; #bad_Y_index"
   ]
  },
  {
   "cell_type": "markdown",
   "metadata": {
    "collapsed": true
   },
   "source": [
    "good_input_scale = input_scale[good_Y_index]\n",
    "good_output_scale = output_scale[good_Y_index]\n",
    "bad_input_scale = input_scale[bad_Y_index]\n",
    "bad_output_scale = output_scale[bad_Y_index]"
   ]
  },
  {
   "cell_type": "markdown",
   "metadata": {
    "collapsed": true
   },
   "source": [
    "good_Y_input_center = Y_input_center[good_Y_index]\n",
    "good_Y_output_center = Y_output_center[good_Y_index]\n",
    "bad_Y_input_center = Y_input_center[bad_Y_index]\n",
    "bad_Y_output_center = Y_output_center[bad_Y_index]"
   ]
  },
  {
   "cell_type": "markdown",
   "metadata": {
    "scrolled": true
   },
   "source": [
    "examine_list_gp((Y_output_pred_ori[good_Y_index], Y_output_ori[good_Y_index], X_output_ori[good_Y_index]), output_gp[good_Y_index])"
   ]
  },
  {
   "cell_type": "markdown",
   "metadata": {
    "scrolled": true
   },
   "source": [
    "examine_list_gp((Y_output_pred_ori[bad_Y_index], Y_output_ori[bad_Y_index], X_output_ori[bad_Y_index]), output_gp[bad_Y_index])"
   ]
  },
  {
   "cell_type": "markdown",
   "metadata": {},
   "source": [
    "good_output_scale.min(), good_output_scale.max()"
   ]
  },
  {
   "cell_type": "markdown",
   "metadata": {},
   "source": [
    "bad_output_scale.min(), bad_output_scale.max()"
   ]
  },
  {
   "cell_type": "markdown",
   "metadata": {},
   "source": [
    "plt.hist(good_input_scale, bins=40, alpha=0.6, label='good input')\n",
    "plt.hist(bad_input_scale, bins=40, alpha=0.6, label='bad input')\n",
    "plt.yscale('linear')\n",
    "plt.legend()\n",
    "plt.show()"
   ]
  },
  {
   "cell_type": "markdown",
   "metadata": {},
   "source": [
    "plt.hist(good_output_scale, bins=40, alpha=0.6, label='good output')\n",
    "plt.hist(bad_output_scale, bins=40, alpha=0.6, label='bad output')\n",
    "plt.yscale('linear')\n",
    "plt.legend()\n",
    "plt.show()"
   ]
  },
  {
   "cell_type": "markdown",
   "metadata": {},
   "source": [
    "plt.hist(good_input_scale, bins=40, alpha=0.6, label='good input')\n",
    "plt.hist(bad_input_scale, bins=40, alpha=0.6, label='bad input')\n",
    "plt.yscale('log')\n",
    "plt.legend()\n",
    "plt.show()"
   ]
  },
  {
   "cell_type": "markdown",
   "metadata": {
    "scrolled": false
   },
   "source": [
    "plt.hist(good_output_scale, bins=40, alpha=0.6, label='good output')\n",
    "plt.hist(bad_output_scale, bins=40, alpha=0.6, label='bad output')\n",
    "plt.yscale('log')\n",
    "plt.legend()\n",
    "plt.show()"
   ]
  },
  {
   "cell_type": "markdown",
   "metadata": {},
   "source": [
    "plt.figure(figsize=(12,4))\n",
    "plt.hist(good_input_scale, bins=100, range=(0,0.8), alpha=0.6, label='good input')\n",
    "plt.hist(good_output_scale, bins=100, range=(0,0.8), alpha=0.6, label='good output')\n",
    "plt.hist(bad_input_scale, bins=100, range=(0,0.8), alpha=0.6, label='bad input')\n",
    "plt.hist(bad_output_scale, bins=100, range=(0,0.8), alpha=0.6, label='bad output')\n",
    "plt.yscale('linear')\n",
    "plt.legend()\n",
    "plt.show()"
   ]
  },
  {
   "cell_type": "markdown",
   "metadata": {},
   "source": [
    "Should we split the data into std > and < 1.7 ?"
   ]
  },
  {
   "cell_type": "markdown",
   "metadata": {},
   "source": [
    "np.mean(good_output_scale), np.mean(good_input_scale)"
   ]
  },
  {
   "cell_type": "markdown",
   "metadata": {},
   "source": [
    "np.mean(bad_output_scale), np.mean(bad_input_scale)"
   ]
  },
  {
   "cell_type": "markdown",
   "metadata": {},
   "source": [
    "plt.figure(figsize=(12,4))\n",
    "plt.hist(bad_input_scale, bins=60, range=(0,0.8), alpha=0.6, label='bad input')\n",
    "plt.hist(bad_output_scale, bins=60, range=(0,0.8), alpha=0.6, label='bad output')\n",
    "plt.yscale('linear')\n",
    "plt.legend()\n",
    "plt.show()"
   ]
  },
  {
   "cell_type": "markdown",
   "metadata": {
    "scrolled": true
   },
   "source": [
    "plt.figure(figsize=(12,4))\n",
    "plt.hist(output_scale, bins=40, alpha=0.6, label='output')\n",
    "plt.hist(input_scale, bins=40, alpha=0.6, label='input')\n",
    "plt.legend()\n",
    "plt.show()"
   ]
  },
  {
   "cell_type": "markdown",
   "metadata": {},
   "source": [
    "np.histogram(output_scale, bins=np.arange(0,1,0.05))"
   ]
  },
  {
   "cell_type": "markdown",
   "metadata": {},
   "source": [
    "#### Median"
   ]
  },
  {
   "cell_type": "markdown",
   "metadata": {},
   "source": [
    "plt.figure(figsize=(12,4))\n",
    "plt.hist(good_Y_input_center, bins=100, range=(0,5), alpha=0.6, label='good input')\n",
    "plt.hist(good_Y_output_center, bins=100, range=(0,5), alpha=0.6, label='good output')\n",
    "plt.hist(bad_Y_input_center, bins=100, range=(0,5), alpha=0.6, label='bad input')\n",
    "plt.hist(bad_Y_output_center, bins=100, range=(0,5), alpha=0.6, label='bad output')\n",
    "plt.yscale('linear')\n",
    "plt.legend()\n",
    "plt.show()"
   ]
  },
  {
   "cell_type": "markdown",
   "metadata": {},
   "source": [
    "### stdev/median"
   ]
  },
  {
   "cell_type": "markdown",
   "metadata": {},
   "source": [
    "output_factor_1 = (Y_output_center / output_scale).reshape(-1); output_factor_1"
   ]
  },
  {
   "cell_type": "markdown",
   "metadata": {},
   "source": [
    "output_factor_1.min(), output_factor_1.max()"
   ]
  },
  {
   "cell_type": "markdown",
   "metadata": {},
   "source": [
    "plt.hist(output_factor_1, bins=40, range=[0,50], alpha=0.6)\n",
    "plt.show()"
   ]
  },
  {
   "cell_type": "markdown",
   "metadata": {},
   "source": [
    "plt.scatter(smape_Y_pred, output_scale, alpha=0.1, marker='.')\n",
    "plt.show()"
   ]
  },
  {
   "cell_type": "markdown",
   "metadata": {},
   "source": [
    "plt.figure(figsize=(12,9))\n",
    "plt.scatter(smape_Y_pred, Y_output_center, alpha=0.1, marker='.')\n",
    "plt.ylim([-0.1,5])\n",
    "plt.show()"
   ]
  },
  {
   "cell_type": "markdown",
   "metadata": {},
   "source": [
    "plt.figure(figsize=(12,9))\n",
    "plt.scatter(smape_Y_pred, output_scale, alpha=0.1, marker='.')\n",
    "plt.ylim([0,0.5])\n",
    "plt.show()"
   ]
  },
  {
   "cell_type": "markdown",
   "metadata": {},
   "source": [
    "plt.figure(figsize=(12,9))\n",
    "plt.scatter(output_scale, Y_output_center, alpha=0.1, marker='.')\n",
    "plt.ylim([0,4.5])\n",
    "plt.xlim([0,0.6])\n",
    "plt.show()"
   ]
  },
  {
   "cell_type": "markdown",
   "metadata": {},
   "source": [
    "output_factor_2 = (output_scale / Y_output_center).reshape(-1); output_factor_2"
   ]
  },
  {
   "cell_type": "markdown",
   "metadata": {},
   "source": [
    "plt.figure(figsize=(12,9))\n",
    "plt.scatter(smape_Y_pred, output_factor_2, alpha=0.1, marker='.')\n",
    "plt.ylim([0,0.8])\n",
    "#plt.xlim([0,0.6])\n",
    "plt.show()"
   ]
  },
  {
   "cell_type": "markdown",
   "metadata": {},
   "source": [
    "output_factor_3 = (output_scale / (Y_output_center + 0.01)).reshape(-1); output_factor_3"
   ]
  },
  {
   "cell_type": "markdown",
   "metadata": {},
   "source": [
    "plt.figure(figsize=(12,9))\n",
    "plt.scatter(smape_Y_pred, output_factor_3, alpha=0.1, marker='.')\n",
    "plt.ylim([0,4])\n",
    "#plt.xlim([0,0.6])\n",
    "plt.show()"
   ]
  },
  {
   "cell_type": "markdown",
   "metadata": {},
   "source": [
    "output_factor_4 = output_scale - input_scale"
   ]
  },
  {
   "cell_type": "markdown",
   "metadata": {},
   "source": [
    "plt.figure(figsize=(12,9))\n",
    "plt.scatter(smape_Y_pred, output_factor_4, alpha=0.1, marker='.')\n",
    "plt.ylim([-1.5,0.5])\n",
    "#plt.xlim([0,0.6])\n",
    "plt.show()"
   ]
  },
  {
   "cell_type": "markdown",
   "metadata": {},
   "source": [
    "## Output Prediction\n",
    "For predicting stage only"
   ]
  },
  {
   "cell_type": "markdown",
   "metadata": {},
   "source": [
    "### Result DataFrame"
   ]
  },
  {
   "cell_type": "markdown",
   "metadata": {
    "collapsed": true
   },
   "source": [
    "predict_dates_index=pd.date_range(Y_output_first_day, \n",
    "                                  periods=np.timedelta64(y_length,'D'), \n",
    "                                  freq = 'D', unit = 'D')\n",
    "predict_dates_index"
   ]
  },
  {
   "cell_type": "code",
   "execution_count": null,
   "metadata": {
    "collapsed": true
   },
   "outputs": [],
   "source": [
    "Y_output_dates"
   ]
  },
  {
   "cell_type": "code",
   "execution_count": null,
   "metadata": {
    "collapsed": true,
    "scrolled": true
   },
   "outputs": [],
   "source": [
    "if test_length == 0:\n",
    "    result_df = pd.DataFrame(Y_output_f_omed, columns = Y_output_dates)  # using ensemble median combined result\n",
    "result_df"
   ]
  },
  {
   "cell_type": "code",
   "execution_count": null,
   "metadata": {
    "collapsed": true,
    "scrolled": true
   },
   "outputs": [],
   "source": [
    "result_df['Page'] = input_df['Page']  # Append 'Page' column from input_df\n",
    "result_df"
   ]
  },
  {
   "cell_type": "code",
   "execution_count": null,
   "metadata": {
    "collapsed": true,
    "scrolled": true
   },
   "outputs": [],
   "source": [
    "result_flat_df = pd.melt(result_df, id_vars='Page', var_name='date',\n",
    "                         value_name='Visits')\n",
    "result_flat_df"
   ]
  },
  {
   "cell_type": "markdown",
   "metadata": {},
   "source": [
    "### Output DataFrame"
   ]
  },
  {
   "cell_type": "code",
   "execution_count": null,
   "metadata": {
    "collapsed": true
   },
   "outputs": [],
   "source": [
    "if test_length == 0:\n",
    "    print('%%% Reading data key_2.csv ...', end = '', flush = True)\n",
    "    output_df = pd.read_csv(\"../data/key_2.csv\")\n",
    "    print('done!')"
   ]
  },
  {
   "cell_type": "code",
   "execution_count": null,
   "metadata": {
    "collapsed": true,
    "scrolled": true
   },
   "outputs": [],
   "source": [
    "output_df['date'] = output_df.Page.apply(lambda a: a[-10:])  # take the last 10 characters from 'Page' as date\n",
    "output_df['Page'] = output_df.Page.apply(lambda a: a[:-11])  # remove the last 10 caharacters from 'Page'\n",
    "#output_df['date'] = output_df['date'].astype('datetime64[ns]')  # convert 'date' string to numpy datetime format\n",
    "#test['weekday'] = test.date.dt.dayofweek  # find the day of week using the 'date' column\n",
    "output_df.head()"
   ]
  },
  {
   "cell_type": "code",
   "execution_count": null,
   "metadata": {
    "collapsed": true
   },
   "outputs": [],
   "source": [
    "output_df.info()"
   ]
  },
  {
   "cell_type": "code",
   "execution_count": null,
   "metadata": {
    "collapsed": true,
    "scrolled": true
   },
   "outputs": [],
   "source": [
    "output_df['date'].values[0:62]  # Make sure the range is 60 days (see if the dates resume after 60)"
   ]
  },
  {
   "cell_type": "code",
   "execution_count": null,
   "metadata": {
    "collapsed": true
   },
   "outputs": [],
   "source": [
    "Y_output_dates"
   ]
  },
  {
   "cell_type": "code",
   "execution_count": null,
   "metadata": {
    "collapsed": true,
    "scrolled": true
   },
   "outputs": [],
   "source": [
    "output_df = output_df.merge(result_flat_df, how='left')  # fill the 'Visits\" from result\n",
    "output_df"
   ]
  },
  {
   "cell_type": "code",
   "execution_count": null,
   "metadata": {
    "collapsed": true
   },
   "outputs": [],
   "source": [
    "del result_flat_df"
   ]
  },
  {
   "cell_type": "code",
   "execution_count": null,
   "metadata": {
    "collapsed": true
   },
   "outputs": [],
   "source": [
    "gc.collect()"
   ]
  },
  {
   "cell_type": "code",
   "execution_count": null,
   "metadata": {
    "collapsed": true
   },
   "outputs": [],
   "source": [
    "#Check if there is null value\n",
    "output_df.loc[output_df.Visits.isnull(), 'Visits']"
   ]
  },
  {
   "cell_type": "code",
   "execution_count": null,
   "metadata": {
    "collapsed": true
   },
   "outputs": [],
   "source": [
    "#output_df.loc[output_df.Visits.isnull(), 'Visits'] = 0.0  # Uncommend this line to Replace NaN with 0.0"
   ]
  },
  {
   "cell_type": "code",
   "execution_count": null,
   "metadata": {
    "collapsed": true
   },
   "outputs": [],
   "source": [
    "print('%%% Writing result for ' + model_name + ' ...', \n",
    "      end = '', flush = True)\n",
    "#Write only the 'Id' and 'Visits' to the result file\n",
    "output_df[['Id','Visits']].to_csv('../results/submit_1_' + model_name\n",
    "                                  + '.csv', index = False, \n",
    "                                  float_format='%.3f')\n",
    "print('done!')"
   ]
  },
  {
   "cell_type": "markdown",
   "metadata": {},
   "source": [
    "Kaggle LB Score: \n",
    "\n",
    "[6.0.0] 46.3 [Model 6.0.0 CNN - Conv(60, 7)-FC(120)-Drop(0.25)-FC(120)-Drop(0.5)-Linear, 20 epoches]\n",
    "\n",
    "[6.1.0] 46.7 [Model 6.1.0 CNN - Conv(30, 7)-Conv(60, 7)-FC(120)-Drop(0.25)-FC(120)-Drop(0.5)-Linear, 20 epoches]\n",
    "\n",
    "[7.1.2] 47.3 [Model 7.1.2 CNN Fibonacci - range corrected :-y_length - score corrected]\n",
    "\n",
    "[7.2.0] 46.5 [Model 7.2.0 CNN Fibonacci and original combined]"
   ]
  }
 ],
 "metadata": {
  "kernelspec": {
   "display_name": "Python 3",
   "language": "python",
   "name": "python3"
  },
  "language_info": {
   "codemirror_mode": {
    "name": "ipython",
    "version": 3
   },
   "file_extension": ".py",
   "mimetype": "text/x-python",
   "name": "python",
   "nbconvert_exporter": "python",
   "pygments_lexer": "ipython3",
   "version": "3.6.1"
  }
 },
 "nbformat": 4,
 "nbformat_minor": 2
}
