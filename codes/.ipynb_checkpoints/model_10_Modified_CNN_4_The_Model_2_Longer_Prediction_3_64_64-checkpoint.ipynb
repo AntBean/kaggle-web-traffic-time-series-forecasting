{
 "cells": [
  {
   "cell_type": "code",
   "execution_count": 1,
   "metadata": {},
   "outputs": [
    {
     "data": {
      "application/javascript": [
       "IPython.notebook.set_autosave_interval(0)"
      ]
     },
     "metadata": {},
     "output_type": "display_data"
    },
    {
     "name": "stdout",
     "output_type": "stream",
     "text": [
      "Autosave disabled\n"
     ]
    }
   ],
   "source": [
    "%autosave 0"
   ]
  },
  {
   "cell_type": "markdown",
   "metadata": {},
   "source": [
    "### Kaggle - Web Traffic Time Series Forecasting\n",
    "\n",
    "## Model 10 - Modified CNN with Fibonacci\n",
    "\n",
    "### v4 The Model - Longer prediction\n",
    "\n",
    "by Louis Yang\n",
    "\n",
    "Use Fibonacci series median as the center of each data.\n",
    "\n",
    "According to the center, split data into groups and train individual neural network (model) in each group.\n",
    "\n",
    "The grouping split are log10(fib_med + 1) < (1.0 , 2.0, 4.0, rest) There are total 4 groups.\n",
    "\n",
    "The first 1 groups use original Fibonacci median as prediction since it is difficult to learn. The rest groups use the trained CNN as prediction.\n",
    "\n",
    "The neural network structure is: \n",
    "\n",
    "    1 Conv1D(120) with filter size 3 > Average pooling(2) > FC(120) > FC(120) > FC(63, linear).\n",
    "\n",
    "Then do ensemble learning: Evaluate the same model 5 times and take the ensemble median.\n",
    "\n",
    "v0 Feed second input (median and stdev) to the neural network after the CNN part.\n",
    "\n",
    "v4.2 Extend the prediction to longer time since there is larger gap between train and test dates.\n",
    "\n",
    "Test on stage 2 data.\n",
    "\n",
    "Original model: 'model_10_Modified_CNN_4_The_Model'"
   ]
  },
  {
   "cell_type": "code",
   "execution_count": 2,
   "metadata": {
    "collapsed": true
   },
   "outputs": [],
   "source": [
    "model_name = 'model_10_Modified_CNN_4_The_Model_2_Longer_Prediction_3_64_64'"
   ]
  },
  {
   "cell_type": "code",
   "execution_count": 3,
   "metadata": {
    "collapsed": true
   },
   "outputs": [],
   "source": [
    "import numpy as np # linear algebra\n",
    "import pandas as pd # data processing, CSV file I/O (e.g. pd.read_csv)\n",
    "import matplotlib.pyplot as plt\n",
    "import gc  # Python garbage collect\n",
    "from tools import *"
   ]
  },
  {
   "cell_type": "markdown",
   "metadata": {},
   "source": [
    "## Input"
   ]
  },
  {
   "cell_type": "code",
   "execution_count": 4,
   "metadata": {
    "collapsed": true
   },
   "outputs": [],
   "source": [
    "train_file = 'train_2.csv'"
   ]
  },
  {
   "cell_type": "code",
   "execution_count": 5,
   "metadata": {
    "collapsed": true
   },
   "outputs": [],
   "source": [
    "key_file = 'key_2.csv'"
   ]
  },
  {
   "cell_type": "code",
   "execution_count": 6,
   "metadata": {
    "collapsed": true
   },
   "outputs": [],
   "source": [
    "input_df = pd.read_csv('../data/' + train_file, nrows=1)"
   ]
  },
  {
   "cell_type": "code",
   "execution_count": 7,
   "metadata": {},
   "outputs": [
    {
     "data": {
      "text/html": [
       "<div>\n",
       "<style>\n",
       "    .dataframe thead tr:only-child th {\n",
       "        text-align: right;\n",
       "    }\n",
       "\n",
       "    .dataframe thead th {\n",
       "        text-align: left;\n",
       "    }\n",
       "\n",
       "    .dataframe tbody tr th {\n",
       "        vertical-align: top;\n",
       "    }\n",
       "</style>\n",
       "<table border=\"1\" class=\"dataframe\">\n",
       "  <thead>\n",
       "    <tr style=\"text-align: right;\">\n",
       "      <th></th>\n",
       "      <th>Page</th>\n",
       "      <th>2015-07-01</th>\n",
       "      <th>2015-07-02</th>\n",
       "      <th>2015-07-03</th>\n",
       "      <th>2015-07-04</th>\n",
       "      <th>2015-07-05</th>\n",
       "      <th>2015-07-06</th>\n",
       "      <th>2015-07-07</th>\n",
       "      <th>2015-07-08</th>\n",
       "      <th>2015-07-09</th>\n",
       "      <th>...</th>\n",
       "      <th>2017-08-22</th>\n",
       "      <th>2017-08-23</th>\n",
       "      <th>2017-08-24</th>\n",
       "      <th>2017-08-25</th>\n",
       "      <th>2017-08-26</th>\n",
       "      <th>2017-08-27</th>\n",
       "      <th>2017-08-28</th>\n",
       "      <th>2017-08-29</th>\n",
       "      <th>2017-08-30</th>\n",
       "      <th>2017-08-31</th>\n",
       "    </tr>\n",
       "  </thead>\n",
       "  <tbody>\n",
       "    <tr>\n",
       "      <th>0</th>\n",
       "      <td>2NE1_zh.wikipedia.org_all-access_spider</td>\n",
       "      <td>18</td>\n",
       "      <td>11</td>\n",
       "      <td>5</td>\n",
       "      <td>13</td>\n",
       "      <td>14</td>\n",
       "      <td>9</td>\n",
       "      <td>9</td>\n",
       "      <td>22</td>\n",
       "      <td>26</td>\n",
       "      <td>...</td>\n",
       "      <td>37</td>\n",
       "      <td>58</td>\n",
       "      <td>25</td>\n",
       "      <td>23</td>\n",
       "      <td>25</td>\n",
       "      <td>47</td>\n",
       "      <td>44</td>\n",
       "      <td>26</td>\n",
       "      <td>24</td>\n",
       "      <td>21</td>\n",
       "    </tr>\n",
       "  </tbody>\n",
       "</table>\n",
       "<p>1 rows × 794 columns</p>\n",
       "</div>"
      ],
      "text/plain": [
       "                                      Page  2015-07-01  2015-07-02  \\\n",
       "0  2NE1_zh.wikipedia.org_all-access_spider          18          11   \n",
       "\n",
       "   2015-07-03  2015-07-04  2015-07-05  2015-07-06  2015-07-07  2015-07-08  \\\n",
       "0           5          13          14           9           9          22   \n",
       "\n",
       "   2015-07-09     ...      2017-08-22  2017-08-23  2017-08-24  2017-08-25  \\\n",
       "0          26     ...              37          58          25          23   \n",
       "\n",
       "   2017-08-26  2017-08-27  2017-08-28  2017-08-29  2017-08-30  2017-08-31  \n",
       "0          25          47          44          26          24          21  \n",
       "\n",
       "[1 rows x 794 columns]"
      ]
     },
     "execution_count": 7,
     "metadata": {},
     "output_type": "execute_result"
    }
   ],
   "source": [
    "input_df"
   ]
  },
  {
   "cell_type": "code",
   "execution_count": 8,
   "metadata": {},
   "outputs": [
    {
     "data": {
      "text/plain": [
       "Index(['2015-07-01', '2015-07-02', '2015-07-03', '2015-07-04', '2015-07-05',\n",
       "       '2015-07-06', '2015-07-07', '2015-07-08', '2015-07-09', '2015-07-10',\n",
       "       ...\n",
       "       '2017-08-22', '2017-08-23', '2017-08-24', '2017-08-25', '2017-08-26',\n",
       "       '2017-08-27', '2017-08-28', '2017-08-29', '2017-08-30', '2017-08-31'],\n",
       "      dtype='object', length=793)"
      ]
     },
     "execution_count": 8,
     "metadata": {},
     "output_type": "execute_result"
    }
   ],
   "source": [
    "input_df_dates = input_df.columns[1:]; input_df_dates"
   ]
  },
  {
   "cell_type": "code",
   "execution_count": 9,
   "metadata": {
    "collapsed": true
   },
   "outputs": [],
   "source": [
    "visits_dtype = {d: np.float32 for d in input_df_dates}"
   ]
  },
  {
   "cell_type": "code",
   "execution_count": 10,
   "metadata": {},
   "outputs": [
    {
     "name": "stdout",
     "output_type": "stream",
     "text": [
      "%%% Reading data train_2.csv ... done!\n"
     ]
    }
   ],
   "source": [
    "print('%%% Reading data '+ train_file + ' ... ', end = '', flush = True)\n",
    "input_df = pd.read_csv('../data/' + train_file, engine='c', dtype=visits_dtype)\n",
    "print('done!')"
   ]
  },
  {
   "cell_type": "code",
   "execution_count": 11,
   "metadata": {},
   "outputs": [
    {
     "data": {
      "text/html": [
       "<div>\n",
       "<style>\n",
       "    .dataframe thead tr:only-child th {\n",
       "        text-align: right;\n",
       "    }\n",
       "\n",
       "    .dataframe thead th {\n",
       "        text-align: left;\n",
       "    }\n",
       "\n",
       "    .dataframe tbody tr th {\n",
       "        vertical-align: top;\n",
       "    }\n",
       "</style>\n",
       "<table border=\"1\" class=\"dataframe\">\n",
       "  <thead>\n",
       "    <tr style=\"text-align: right;\">\n",
       "      <th></th>\n",
       "      <th>Page</th>\n",
       "      <th>2015-07-01</th>\n",
       "      <th>2015-07-02</th>\n",
       "      <th>2015-07-03</th>\n",
       "      <th>2015-07-04</th>\n",
       "      <th>2015-07-05</th>\n",
       "      <th>2015-07-06</th>\n",
       "      <th>2015-07-07</th>\n",
       "      <th>2015-07-08</th>\n",
       "      <th>2015-07-09</th>\n",
       "      <th>...</th>\n",
       "      <th>2017-08-22</th>\n",
       "      <th>2017-08-23</th>\n",
       "      <th>2017-08-24</th>\n",
       "      <th>2017-08-25</th>\n",
       "      <th>2017-08-26</th>\n",
       "      <th>2017-08-27</th>\n",
       "      <th>2017-08-28</th>\n",
       "      <th>2017-08-29</th>\n",
       "      <th>2017-08-30</th>\n",
       "      <th>2017-08-31</th>\n",
       "    </tr>\n",
       "  </thead>\n",
       "  <tbody>\n",
       "    <tr>\n",
       "      <th>0</th>\n",
       "      <td>2NE1_zh.wikipedia.org_all-access_spider</td>\n",
       "      <td>18.0</td>\n",
       "      <td>11.0</td>\n",
       "      <td>5.0</td>\n",
       "      <td>13.0</td>\n",
       "      <td>14.0</td>\n",
       "      <td>9.0</td>\n",
       "      <td>9.0</td>\n",
       "      <td>22.0</td>\n",
       "      <td>26.0</td>\n",
       "      <td>...</td>\n",
       "      <td>37.0</td>\n",
       "      <td>58.0</td>\n",
       "      <td>25.0</td>\n",
       "      <td>23.0</td>\n",
       "      <td>25.0</td>\n",
       "      <td>47.0</td>\n",
       "      <td>44.0</td>\n",
       "      <td>26.0</td>\n",
       "      <td>24.0</td>\n",
       "      <td>21.0</td>\n",
       "    </tr>\n",
       "    <tr>\n",
       "      <th>1</th>\n",
       "      <td>2PM_zh.wikipedia.org_all-access_spider</td>\n",
       "      <td>11.0</td>\n",
       "      <td>14.0</td>\n",
       "      <td>15.0</td>\n",
       "      <td>18.0</td>\n",
       "      <td>11.0</td>\n",
       "      <td>13.0</td>\n",
       "      <td>22.0</td>\n",
       "      <td>11.0</td>\n",
       "      <td>10.0</td>\n",
       "      <td>...</td>\n",
       "      <td>14.0</td>\n",
       "      <td>34.0</td>\n",
       "      <td>16.0</td>\n",
       "      <td>31.0</td>\n",
       "      <td>34.0</td>\n",
       "      <td>33.0</td>\n",
       "      <td>32.0</td>\n",
       "      <td>29.0</td>\n",
       "      <td>34.0</td>\n",
       "      <td>25.0</td>\n",
       "    </tr>\n",
       "    <tr>\n",
       "      <th>2</th>\n",
       "      <td>3C_zh.wikipedia.org_all-access_spider</td>\n",
       "      <td>1.0</td>\n",
       "      <td>0.0</td>\n",
       "      <td>1.0</td>\n",
       "      <td>1.0</td>\n",
       "      <td>0.0</td>\n",
       "      <td>4.0</td>\n",
       "      <td>0.0</td>\n",
       "      <td>3.0</td>\n",
       "      <td>4.0</td>\n",
       "      <td>...</td>\n",
       "      <td>6.0</td>\n",
       "      <td>23.0</td>\n",
       "      <td>11.0</td>\n",
       "      <td>8.0</td>\n",
       "      <td>6.0</td>\n",
       "      <td>13.0</td>\n",
       "      <td>12.0</td>\n",
       "      <td>8.0</td>\n",
       "      <td>12.0</td>\n",
       "      <td>9.0</td>\n",
       "    </tr>\n",
       "    <tr>\n",
       "      <th>3</th>\n",
       "      <td>4minute_zh.wikipedia.org_all-access_spider</td>\n",
       "      <td>35.0</td>\n",
       "      <td>13.0</td>\n",
       "      <td>10.0</td>\n",
       "      <td>94.0</td>\n",
       "      <td>4.0</td>\n",
       "      <td>26.0</td>\n",
       "      <td>14.0</td>\n",
       "      <td>9.0</td>\n",
       "      <td>11.0</td>\n",
       "      <td>...</td>\n",
       "      <td>21.0</td>\n",
       "      <td>42.0</td>\n",
       "      <td>23.0</td>\n",
       "      <td>17.0</td>\n",
       "      <td>11.0</td>\n",
       "      <td>21.0</td>\n",
       "      <td>20.0</td>\n",
       "      <td>20.0</td>\n",
       "      <td>110.0</td>\n",
       "      <td>15.0</td>\n",
       "    </tr>\n",
       "    <tr>\n",
       "      <th>4</th>\n",
       "      <td>52_Hz_I_Love_You_zh.wikipedia.org_all-access_s...</td>\n",
       "      <td>NaN</td>\n",
       "      <td>NaN</td>\n",
       "      <td>NaN</td>\n",
       "      <td>NaN</td>\n",
       "      <td>NaN</td>\n",
       "      <td>NaN</td>\n",
       "      <td>NaN</td>\n",
       "      <td>NaN</td>\n",
       "      <td>NaN</td>\n",
       "      <td>...</td>\n",
       "      <td>23.0</td>\n",
       "      <td>41.0</td>\n",
       "      <td>25.0</td>\n",
       "      <td>22.0</td>\n",
       "      <td>20.0</td>\n",
       "      <td>24.0</td>\n",
       "      <td>29.0</td>\n",
       "      <td>20.0</td>\n",
       "      <td>17.0</td>\n",
       "      <td>24.0</td>\n",
       "    </tr>\n",
       "  </tbody>\n",
       "</table>\n",
       "<p>5 rows × 794 columns</p>\n",
       "</div>"
      ],
      "text/plain": [
       "                                                Page  2015-07-01  2015-07-02  \\\n",
       "0            2NE1_zh.wikipedia.org_all-access_spider        18.0        11.0   \n",
       "1             2PM_zh.wikipedia.org_all-access_spider        11.0        14.0   \n",
       "2              3C_zh.wikipedia.org_all-access_spider         1.0         0.0   \n",
       "3         4minute_zh.wikipedia.org_all-access_spider        35.0        13.0   \n",
       "4  52_Hz_I_Love_You_zh.wikipedia.org_all-access_s...         NaN         NaN   \n",
       "\n",
       "   2015-07-03  2015-07-04  2015-07-05  2015-07-06  2015-07-07  2015-07-08  \\\n",
       "0         5.0        13.0        14.0         9.0         9.0        22.0   \n",
       "1        15.0        18.0        11.0        13.0        22.0        11.0   \n",
       "2         1.0         1.0         0.0         4.0         0.0         3.0   \n",
       "3        10.0        94.0         4.0        26.0        14.0         9.0   \n",
       "4         NaN         NaN         NaN         NaN         NaN         NaN   \n",
       "\n",
       "   2015-07-09     ...      2017-08-22  2017-08-23  2017-08-24  2017-08-25  \\\n",
       "0        26.0     ...            37.0        58.0        25.0        23.0   \n",
       "1        10.0     ...            14.0        34.0        16.0        31.0   \n",
       "2         4.0     ...             6.0        23.0        11.0         8.0   \n",
       "3        11.0     ...            21.0        42.0        23.0        17.0   \n",
       "4         NaN     ...            23.0        41.0        25.0        22.0   \n",
       "\n",
       "   2017-08-26  2017-08-27  2017-08-28  2017-08-29  2017-08-30  2017-08-31  \n",
       "0        25.0        47.0        44.0        26.0        24.0        21.0  \n",
       "1        34.0        33.0        32.0        29.0        34.0        25.0  \n",
       "2         6.0        13.0        12.0         8.0        12.0         9.0  \n",
       "3        11.0        21.0        20.0        20.0       110.0        15.0  \n",
       "4        20.0        24.0        29.0        20.0        17.0        24.0  \n",
       "\n",
       "[5 rows x 794 columns]"
      ]
     },
     "execution_count": 11,
     "metadata": {},
     "output_type": "execute_result"
    }
   ],
   "source": [
    "input_df.head()"
   ]
  },
  {
   "cell_type": "code",
   "execution_count": 12,
   "metadata": {},
   "outputs": [
    {
     "name": "stdout",
     "output_type": "stream",
     "text": [
      "<class 'pandas.core.frame.DataFrame'>\n",
      "RangeIndex: 145063 entries, 0 to 145062\n",
      "Columns: 794 entries, Page to 2017-08-31\n",
      "dtypes: float32(793), object(1)\n",
      "memory usage: 439.9+ MB\n"
     ]
    }
   ],
   "source": [
    "input_df.info()"
   ]
  },
  {
   "cell_type": "markdown",
   "metadata": {},
   "source": [
    "## Processing Data\n",
    "Generate training set and test (predict) set"
   ]
  },
  {
   "cell_type": "markdown",
   "metadata": {},
   "source": [
    "### Day of week alignment"
   ]
  },
  {
   "cell_type": "code",
   "execution_count": 13,
   "metadata": {
    "collapsed": true
   },
   "outputs": [],
   "source": [
    "from datetime import datetime\n",
    "def weekday(datestr):\n",
    "    return datetime.strptime(datestr,'%Y-%m-%d').weekday()\n",
    "def daydiff(dstr1,dstr2):\n",
    "    return datetime.strptime(dstr1,'%Y-%m-%d') - datetime.strptime(dstr2,'%Y-%m-%d') "
   ]
  },
  {
   "cell_type": "markdown",
   "metadata": {},
   "source": [
    "We need to predict output (Y_output_pred) start from Sunday (6) for data set 1. (0: Monday, 6: Sunday)"
   ]
  },
  {
   "cell_type": "code",
   "execution_count": 14,
   "metadata": {
    "collapsed": true
   },
   "outputs": [],
   "source": [
    "# We take the x_length + y_length days of data only\n",
    "# This part then split into x_length as input X and y_length as output Y\n",
    "x_length = 64  # input period\n",
    "y_length = 64  # predict period"
   ]
  },
  {
   "cell_type": "code",
   "execution_count": 15,
   "metadata": {
    "collapsed": true
   },
   "outputs": [],
   "source": [
    "#test_length = 0  # for predicting\n",
    "test_length = y_length  # for self testing"
   ]
  },
  {
   "cell_type": "markdown",
   "metadata": {},
   "source": [
    "Shift everything forward by y_length = 63 days to allows self testing without Kaggle"
   ]
  },
  {
   "cell_type": "markdown",
   "metadata": {},
   "source": [
    "#### X"
   ]
  },
  {
   "cell_type": "code",
   "execution_count": 16,
   "metadata": {
    "collapsed": true
   },
   "outputs": [],
   "source": [
    "X_input_dates = input_df_dates[-x_length-test_length-364:-test_length-364]; #X_input_dates"
   ]
  },
  {
   "cell_type": "code",
   "execution_count": 17,
   "metadata": {},
   "outputs": [
    {
     "data": {
      "text/plain": [
       "('2016-04-27', '2016-06-29')"
      ]
     },
     "execution_count": 17,
     "metadata": {},
     "output_type": "execute_result"
    }
   ],
   "source": [
    "X_input_first_day = X_input_dates[0]\n",
    "X_input_final_day = X_input_dates[-1]\n",
    "X_input_first_day, X_input_final_day"
   ]
  },
  {
   "cell_type": "code",
   "execution_count": 18,
   "metadata": {},
   "outputs": [
    {
     "data": {
      "text/plain": [
       "datetime.timedelta(-63)"
      ]
     },
     "execution_count": 18,
     "metadata": {},
     "output_type": "execute_result"
    }
   ],
   "source": [
    "daydiff(X_input_first_day, X_input_final_day)  # should be 1 - y_length"
   ]
  },
  {
   "cell_type": "code",
   "execution_count": 19,
   "metadata": {
    "collapsed": true
   },
   "outputs": [],
   "source": [
    "# X for output set\n",
    "if test_length:\n",
    "    X_output_dates = input_df_dates[-x_length-test_length:-test_length]\n",
    "else:\n",
    "    X_output_dates = input_df_dates[-x_length:]\n",
    "#X_output_dates"
   ]
  },
  {
   "cell_type": "code",
   "execution_count": 20,
   "metadata": {},
   "outputs": [
    {
     "data": {
      "text/plain": [
       "('2017-04-26', '2017-06-28')"
      ]
     },
     "execution_count": 20,
     "metadata": {},
     "output_type": "execute_result"
    }
   ],
   "source": [
    "X_output_first_day = X_output_dates[0]\n",
    "X_output_final_day = X_output_dates[-1]\n",
    "X_output_first_day, X_output_final_day"
   ]
  },
  {
   "cell_type": "code",
   "execution_count": 21,
   "metadata": {},
   "outputs": [
    {
     "data": {
      "text/plain": [
       "datetime.timedelta(-63)"
      ]
     },
     "execution_count": 21,
     "metadata": {},
     "output_type": "execute_result"
    }
   ],
   "source": [
    "daydiff(X_output_first_day, X_output_final_day)  # should be 1 - y_length"
   ]
  },
  {
   "cell_type": "code",
   "execution_count": 22,
   "metadata": {},
   "outputs": [
    {
     "data": {
      "text/plain": [
       "(2, 2)"
      ]
     },
     "execution_count": 22,
     "metadata": {},
     "output_type": "execute_result"
    }
   ],
   "source": [
    "weekday(X_input_first_day), weekday(X_output_first_day)"
   ]
  },
  {
   "cell_type": "markdown",
   "metadata": {},
   "source": [
    "Should be the same"
   ]
  },
  {
   "cell_type": "markdown",
   "metadata": {},
   "source": [
    "#### Y"
   ]
  },
  {
   "cell_type": "code",
   "execution_count": 23,
   "metadata": {
    "collapsed": true
   },
   "outputs": [],
   "source": [
    "Y_input_dates = input_df_dates[-test_length-364:-test_length-364+y_length]; #Y_input_dates"
   ]
  },
  {
   "cell_type": "code",
   "execution_count": 24,
   "metadata": {},
   "outputs": [
    {
     "data": {
      "text/plain": [
       "('2016-06-30', '2016-09-01')"
      ]
     },
     "execution_count": 24,
     "metadata": {},
     "output_type": "execute_result"
    }
   ],
   "source": [
    "Y_input_first_day = Y_input_dates[0]\n",
    "Y_input_final_day = Y_input_dates[-1]\n",
    "Y_input_first_day, Y_input_final_day"
   ]
  },
  {
   "cell_type": "code",
   "execution_count": 25,
   "metadata": {},
   "outputs": [
    {
     "data": {
      "text/plain": [
       "datetime.timedelta(-63)"
      ]
     },
     "execution_count": 25,
     "metadata": {},
     "output_type": "execute_result"
    }
   ],
   "source": [
    "daydiff(Y_input_first_day, Y_input_final_day)"
   ]
  },
  {
   "cell_type": "code",
   "execution_count": 26,
   "metadata": {
    "collapsed": true
   },
   "outputs": [],
   "source": [
    "# Y for output set\n",
    "if test_length:\n",
    "    Y_output_dates = input_df_dates[-test_length:]\n",
    "else:\n",
    "    Y_output_first_day = '2017-09-12'  ## Make sure it is correct when predicting !!!!!!!\n",
    "    Y_output_dates = pd.Index(np.arange(np.datetime64(Y_output_first_day), \n",
    "                                        np.datetime64(Y_output_first_day)\n",
    "                                        + np.timedelta64(y_length, 'D')).astype('str'))\n",
    "#Y_output_dates"
   ]
  },
  {
   "cell_type": "code",
   "execution_count": 27,
   "metadata": {
    "scrolled": true
   },
   "outputs": [
    {
     "data": {
      "text/plain": [
       "('2017-06-29', '2017-08-31')"
      ]
     },
     "execution_count": 27,
     "metadata": {},
     "output_type": "execute_result"
    }
   ],
   "source": [
    "Y_output_first_day = Y_output_dates[0]\n",
    "Y_output_final_day = Y_output_dates[-1]\n",
    "Y_output_first_day, Y_output_final_day"
   ]
  },
  {
   "cell_type": "code",
   "execution_count": 28,
   "metadata": {},
   "outputs": [
    {
     "data": {
      "text/plain": [
       "datetime.timedelta(-63)"
      ]
     },
     "execution_count": 28,
     "metadata": {},
     "output_type": "execute_result"
    }
   ],
   "source": [
    "daydiff(Y_output_first_day, Y_output_final_day)  # should be 1 - y_length"
   ]
  },
  {
   "cell_type": "code",
   "execution_count": 29,
   "metadata": {},
   "outputs": [
    {
     "data": {
      "text/plain": [
       "(3, 3)"
      ]
     },
     "execution_count": 29,
     "metadata": {},
     "output_type": "execute_result"
    }
   ],
   "source": [
    "weekday(Y_input_first_day), weekday(Y_output_first_day)"
   ]
  },
  {
   "cell_type": "markdown",
   "metadata": {},
   "source": [
    "Should be the same"
   ]
  },
  {
   "cell_type": "markdown",
   "metadata": {},
   "source": [
    "## Fibonacci"
   ]
  },
  {
   "cell_type": "markdown",
   "metadata": {},
   "source": [
    "#### Window Sizes"
   ]
  },
  {
   "cell_type": "markdown",
   "metadata": {},
   "source": [
    "The window sizes are given by Ehsan https://www.kaggle.com/safavieh"
   ]
  },
  {
   "cell_type": "code",
   "execution_count": 30,
   "metadata": {
    "collapsed": true
   },
   "outputs": [],
   "source": [
    "windows = [11, 18, 30, 48, 78, 126, 203, 329]\n",
    "fib_length = max(windows)#; fib_length"
   ]
  },
  {
   "cell_type": "markdown",
   "metadata": {},
   "source": [
    "#### Data selection"
   ]
  },
  {
   "cell_type": "markdown",
   "metadata": {},
   "source": [
    "In this testing code, we did not include the last y_length days since in the real predicting stage, we don't know their visits."
   ]
  },
  {
   "cell_type": "code",
   "execution_count": 31,
   "metadata": {},
   "outputs": [
    {
     "data": {
      "text/plain": [
       "(Index(['2015-08-06', '2015-08-07', '2015-08-08', '2015-08-09', '2015-08-10',\n",
       "        '2015-08-11', '2015-08-12', '2015-08-13', '2015-08-14', '2015-08-15',\n",
       "        ...\n",
       "        '2016-06-20', '2016-06-21', '2016-06-22', '2016-06-23', '2016-06-24',\n",
       "        '2016-06-25', '2016-06-26', '2016-06-27', '2016-06-28', '2016-06-29'],\n",
       "       dtype='object', length=329),\n",
       " Index(['2016-08-04', '2016-08-05', '2016-08-06', '2016-08-07', '2016-08-08',\n",
       "        '2016-08-09', '2016-08-10', '2016-08-11', '2016-08-12', '2016-08-13',\n",
       "        ...\n",
       "        '2017-06-19', '2017-06-20', '2017-06-21', '2017-06-22', '2017-06-23',\n",
       "        '2017-06-24', '2017-06-25', '2017-06-26', '2017-06-27', '2017-06-28'],\n",
       "       dtype='object', length=329))"
      ]
     },
     "execution_count": 31,
     "metadata": {},
     "output_type": "execute_result"
    }
   ],
   "source": [
    "if test_length:\n",
    "    fib_output_dates = input_df_dates[-fib_length-test_length:-test_length]\n",
    "else:\n",
    "    fib_output_dates = input_df_dates[-fib_length:]\n",
    "fib_input_dates = input_df_dates[-fib_length-test_length-364:-test_length-364]\n",
    "fib_input_dates, fib_output_dates"
   ]
  },
  {
   "cell_type": "code",
   "execution_count": 32,
   "metadata": {},
   "outputs": [
    {
     "data": {
      "text/plain": [
       "(3, 3)"
      ]
     },
     "execution_count": 32,
     "metadata": {},
     "output_type": "execute_result"
    }
   ],
   "source": [
    "weekday(fib_input_dates[0]), weekday(fib_output_dates[0])"
   ]
  },
  {
   "cell_type": "code",
   "execution_count": 33,
   "metadata": {
    "collapsed": true
   },
   "outputs": [],
   "source": [
    "fib_output_data = input_df[fib_output_dates].values; #fib_output_data"
   ]
  },
  {
   "cell_type": "code",
   "execution_count": 34,
   "metadata": {
    "collapsed": true
   },
   "outputs": [],
   "source": [
    "fib_input_data = input_df[fib_input_dates].values; #fib_input_data"
   ]
  },
  {
   "cell_type": "markdown",
   "metadata": {},
   "source": [
    "#### Fibonacci median in each window"
   ]
  },
  {
   "cell_type": "code",
   "execution_count": 35,
   "metadata": {},
   "outputs": [
    {
     "name": "stderr",
     "output_type": "stream",
     "text": [
      "c:\\python3\\lib\\site-packages\\numpy\\lib\\function_base.py:4011: RuntimeWarning: All-NaN slice encountered\n",
      "  r = func(a, **kwargs)\n"
     ]
    }
   ],
   "source": [
    "fib_input_median_list = np.array([np.nanmedian(fib_input_data[:, -w:] , axis=-1) \n",
    "                            for w in windows])"
   ]
  },
  {
   "cell_type": "code",
   "execution_count": 36,
   "metadata": {},
   "outputs": [
    {
     "name": "stderr",
     "output_type": "stream",
     "text": [
      "c:\\python3\\lib\\site-packages\\numpy\\lib\\function_base.py:4011: RuntimeWarning: All-NaN slice encountered\n",
      "  r = func(a, **kwargs)\n"
     ]
    }
   ],
   "source": [
    "fib_output_median_list = np.array([np.nanmedian(fib_output_data[:, -w:] , axis=-1) \n",
    "                            for w in windows])"
   ]
  },
  {
   "cell_type": "markdown",
   "metadata": {},
   "source": [
    "fib_input_median_list.T.shape"
   ]
  },
  {
   "cell_type": "markdown",
   "metadata": {},
   "source": [
    "fib_output_median_na = np.nanmedian(fib_output_median_list.T, axis=-1)"
   ]
  },
  {
   "cell_type": "markdown",
   "metadata": {},
   "source": [
    "fib_output_median_na"
   ]
  },
  {
   "cell_type": "code",
   "execution_count": 37,
   "metadata": {},
   "outputs": [
    {
     "name": "stderr",
     "output_type": "stream",
     "text": [
      "c:\\python3\\lib\\site-packages\\numpy\\lib\\function_base.py:4011: RuntimeWarning: All-NaN slice encountered\n",
      "  r = func(a, **kwargs)\n"
     ]
    },
    {
     "data": {
      "text/plain": [
       "(145063,)"
      ]
     },
     "execution_count": 37,
     "metadata": {},
     "output_type": "execute_result"
    }
   ],
   "source": [
    "fib_input_median = np.nan_to_num(np.nanmedian(fib_input_median_list.T, axis=-1)); fib_input_median.shape"
   ]
  },
  {
   "cell_type": "code",
   "execution_count": 38,
   "metadata": {
    "scrolled": true
   },
   "outputs": [
    {
     "name": "stderr",
     "output_type": "stream",
     "text": [
      "c:\\python3\\lib\\site-packages\\numpy\\lib\\function_base.py:4011: RuntimeWarning: All-NaN slice encountered\n",
      "  r = func(a, **kwargs)\n"
     ]
    },
    {
     "data": {
      "text/plain": [
       "(145063,)"
      ]
     },
     "execution_count": 38,
     "metadata": {},
     "output_type": "execute_result"
    }
   ],
   "source": [
    "fib_output_median = np.nan_to_num(np.nanmedian(fib_output_median_list.T, axis=-1)); fib_output_median.shape"
   ]
  },
  {
   "cell_type": "markdown",
   "metadata": {},
   "source": [
    "fib_input_median"
   ]
  },
  {
   "cell_type": "markdown",
   "metadata": {
    "scrolled": true
   },
   "source": [
    "fib_output_median"
   ]
  },
  {
   "cell_type": "code",
   "execution_count": 39,
   "metadata": {},
   "outputs": [
    {
     "data": {
      "text/plain": [
       "380"
      ]
     },
     "execution_count": 39,
     "metadata": {},
     "output_type": "execute_result"
    }
   ],
   "source": [
    "del fib_output_data\n",
    "del fib_input_data\n",
    "del fib_output_median_list\n",
    "del fib_input_median_list\n",
    "gc.collect()"
   ]
  },
  {
   "cell_type": "markdown",
   "metadata": {},
   "source": [
    "We will use this as the center and part of the result"
   ]
  },
  {
   "cell_type": "code",
   "execution_count": 40,
   "metadata": {
    "collapsed": true
   },
   "outputs": [],
   "source": [
    "Y_input_fib = fib_input_median.reshape(-1,1)\n",
    "Y_output_fib = fib_output_median.reshape(-1,1)"
   ]
  },
  {
   "cell_type": "markdown",
   "metadata": {},
   "source": [
    "## Data Selection\n",
    "Select x_length + y_length days of data as input or ouput set."
   ]
  },
  {
   "cell_type": "markdown",
   "metadata": {},
   "source": [
    "### Input and Output data"
   ]
  },
  {
   "cell_type": "code",
   "execution_count": 41,
   "metadata": {
    "collapsed": true
   },
   "outputs": [],
   "source": [
    "X_input_raw = input_df[X_input_dates].values\n",
    "Y_input_raw = input_df[Y_input_dates].values\n",
    "X_output_raw = input_df[X_output_dates].values\n",
    "if test_length:\n",
    "    Y_output_raw = input_df[Y_output_dates].values"
   ]
  },
  {
   "cell_type": "markdown",
   "metadata": {},
   "source": [
    "##### Convert nan to number 0."
   ]
  },
  {
   "cell_type": "code",
   "execution_count": 42,
   "metadata": {
    "collapsed": true
   },
   "outputs": [],
   "source": [
    "X_input_num = np.nan_to_num(X_input_raw)\n",
    "Y_input_num = np.nan_to_num(Y_input_raw)\n",
    "X_output_num = np.nan_to_num(X_output_raw)\n",
    "if test_length:\n",
    "    Y_output_num = np.nan_to_num(Y_output_raw)"
   ]
  },
  {
   "cell_type": "markdown",
   "metadata": {},
   "source": [
    "## Transform Data"
   ]
  },
  {
   "cell_type": "markdown",
   "metadata": {},
   "source": [
    "### Log"
   ]
  },
  {
   "cell_type": "code",
   "execution_count": 43,
   "metadata": {
    "collapsed": true
   },
   "outputs": [],
   "source": [
    "def log(X):\n",
    "    return np.log10(X + 1.0)\n",
    "def unlog(X):\n",
    "    return np.clip(np.power(10., X) - 1.0, 0.0, None)"
   ]
  },
  {
   "cell_type": "code",
   "execution_count": 44,
   "metadata": {
    "collapsed": true
   },
   "outputs": [],
   "source": [
    "X_input_raw_log = log(X_input_raw)  # Contain nan\n",
    "Y_input_raw_log = log(Y_input_raw)\n",
    "X_output_raw_log = log(X_output_raw)\n",
    "if test_length:\n",
    "    Y_output_raw_log = log(Y_output_raw)"
   ]
  },
  {
   "cell_type": "code",
   "execution_count": 45,
   "metadata": {
    "collapsed": true
   },
   "outputs": [],
   "source": [
    "X_input_log = log(X_input_num)  # Do not contain nan\n",
    "Y_input_log = log(Y_input_num)\n",
    "X_output_log = log(X_output_num)\n",
    "if test_length:\n",
    "    Y_output_log = log(Y_output_num)"
   ]
  },
  {
   "cell_type": "code",
   "execution_count": 46,
   "metadata": {},
   "outputs": [
    {
     "data": {
      "text/plain": [
       "array([[ 1.30103004,  1.20412004,  1.20412004, ...,  1.07918119,\n",
       "         1.27875364,  1.38021123],\n",
       "       [ 1.        ,  1.8129133 ,  1.36172783, ...,  1.17609131,\n",
       "         1.39794004,  1.23044896],\n",
       "       [ 0.60206002,  0.90309   ,  0.84509802, ...,  0.84509802,\n",
       "         0.77815127,  0.30103001],\n",
       "       ..., \n",
       "       [ 0.        ,  0.        ,  0.        , ...,  0.        ,\n",
       "         0.        ,  0.        ],\n",
       "       [ 0.        ,  0.        ,  0.        , ...,  0.        ,\n",
       "         0.        ,  0.        ],\n",
       "       [ 0.        ,  0.        ,  0.        , ...,  0.        ,\n",
       "         0.        ,  0.        ]], dtype=float32)"
      ]
     },
     "execution_count": 46,
     "metadata": {},
     "output_type": "execute_result"
    }
   ],
   "source": [
    "X_input_log"
   ]
  },
  {
   "cell_type": "markdown",
   "metadata": {
    "collapsed": true
   },
   "source": [
    "input_data_log = log(input_data_num)\n",
    "output_data_log = log(output_data_num)"
   ]
  },
  {
   "cell_type": "markdown",
   "metadata": {
    "collapsed": true
   },
   "source": [
    "Z_input_data_log = log(Z_input_data_num)"
   ]
  },
  {
   "cell_type": "markdown",
   "metadata": {},
   "source": [
    "##### Check Log transformation"
   ]
  },
  {
   "cell_type": "code",
   "execution_count": 47,
   "metadata": {},
   "outputs": [
    {
     "name": "stdout",
     "output_type": "stream",
     "text": [
      "(145063, 64) (145063, 64) (145063, 64)\n",
      "(145063, 64)\n"
     ]
    }
   ],
   "source": [
    "print(X_input_log.shape, Y_input_log.shape, X_output_log.shape)\n",
    "if test_length: print(Y_output_log.shape)"
   ]
  },
  {
   "cell_type": "code",
   "execution_count": 48,
   "metadata": {},
   "outputs": [
    {
     "name": "stdout",
     "output_type": "stream",
     "text": [
      "shape, min, max, median, stdev\n",
      "(145063, 64) 0.0 7.36145 2.1038 1.05698\n",
      "(145063, 64) 0.0 7.82778 2.11059 1.02642\n",
      "(145063, 64) 0.0 7.39148 2.09342 0.964567\n",
      "shape, min, max, median, stdev\n",
      "(145063, 64) 0.0 7.27115 2.0569 0.962366\n"
     ]
    }
   ],
   "source": [
    "arr_info((X_input_log, Y_input_log, X_output_log))\n",
    "if test_length: arr_info([Y_output_log])"
   ]
  },
  {
   "cell_type": "code",
   "execution_count": 49,
   "metadata": {},
   "outputs": [
    {
     "data": {
      "text/plain": [
       "(-12.0, 10.0, 0.0, 0.020861939)"
      ]
     },
     "execution_count": 49,
     "metadata": {},
     "output_type": "execute_result"
    }
   ],
   "source": [
    "#Check inverse log transformation\n",
    "X_input_log_tt = unlog(X_input_log)\n",
    "X_input_log_tt_dif = X_input_log_tt - X_input_num\n",
    "X_input_log_tt_dif.min(), X_input_log_tt_dif.max(), np.median(X_input_log_tt_dif), np.std(X_input_log_tt_dif)"
   ]
  },
  {
   "cell_type": "code",
   "execution_count": 50,
   "metadata": {},
   "outputs": [
    {
     "data": {
      "text/plain": [
       "(-12.0, 14.0, 0.0, 0.020529805)"
      ]
     },
     "execution_count": 50,
     "metadata": {},
     "output_type": "execute_result"
    }
   ],
   "source": [
    "X_output_log_tt = unlog(X_output_log)\n",
    "X_output_log_tt_dif = X_output_log_tt - X_output_num\n",
    "X_output_log_tt_dif.min(), X_output_log_tt_dif.max(), np.median(X_output_log_tt_dif), np.std(X_output_log_tt_dif)"
   ]
  },
  {
   "cell_type": "code",
   "execution_count": 51,
   "metadata": {},
   "outputs": [
    {
     "data": {
      "text/plain": [
       "(-28.0, 32.0, 0.0, 0.045897424)"
      ]
     },
     "execution_count": 51,
     "metadata": {},
     "output_type": "execute_result"
    }
   ],
   "source": [
    "Y_input_log_tt = unlog(Y_input_log)\n",
    "Y_input_log_tt_dif = Y_input_log_tt - Y_input_num\n",
    "Y_input_log_tt_dif.min(), Y_input_log_tt_dif.max(), np.median(Y_input_log_tt_dif), np.std(Y_input_log_tt_dif)"
   ]
  },
  {
   "cell_type": "code",
   "execution_count": 52,
   "metadata": {},
   "outputs": [
    {
     "data": {
      "text/plain": [
       "(-12.0, 9.0, 0.0, 0.017678957)"
      ]
     },
     "execution_count": 52,
     "metadata": {},
     "output_type": "execute_result"
    }
   ],
   "source": [
    "Y_output_log_tt = unlog(Y_output_log)\n",
    "Y_output_log_tt_dif = Y_output_log_tt - Y_output_num\n",
    "Y_output_log_tt_dif.min(), Y_output_log_tt_dif.max(), np.median(Y_output_log_tt_dif), np.std(Y_output_log_tt_dif)"
   ]
  },
  {
   "cell_type": "code",
   "execution_count": 53,
   "metadata": {},
   "outputs": [
    {
     "data": {
      "text/plain": [
       "119"
      ]
     },
     "execution_count": 53,
     "metadata": {},
     "output_type": "execute_result"
    }
   ],
   "source": [
    "del X_input_log_tt; del X_input_log_tt_dif\n",
    "del X_output_log_tt; del X_output_log_tt_dif\n",
    "del Y_input_log_tt; del Y_input_log_tt_dif\n",
    "del Y_output_log_tt; del Y_output_log_tt_dif\n",
    "gc.collect()"
   ]
  },
  {
   "cell_type": "markdown",
   "metadata": {},
   "source": [
    "There is some error (~10) due to float32 when unlog (exp) it. However, for those cases, the original number is about 10^7 so the relative error is still very small."
   ]
  },
  {
   "cell_type": "markdown",
   "metadata": {},
   "source": [
    "### Normalization (Center and Scale)"
   ]
  },
  {
   "cell_type": "markdown",
   "metadata": {},
   "source": [
    "#### Center"
   ]
  },
  {
   "cell_type": "code",
   "execution_count": 54,
   "metadata": {
    "collapsed": true
   },
   "outputs": [],
   "source": [
    "output_center = log(fib_output_median).reshape(-1,1) # Fib. median as the center\n",
    "#input_center = log(fib_input_median).reshape(-1,1)\n",
    "input_center = output_center  # using output_center instead"
   ]
  },
  {
   "cell_type": "code",
   "execution_count": 55,
   "metadata": {
    "collapsed": true
   },
   "outputs": [],
   "source": [
    "X_input_center = input_center\n",
    "Y_input_center = input_center\n",
    "X_output_center = output_center\n",
    "Y_output_center = output_center"
   ]
  },
  {
   "cell_type": "code",
   "execution_count": 56,
   "metadata": {},
   "outputs": [
    {
     "data": {
      "text/plain": [
       "(145063, 1)"
      ]
     },
     "execution_count": 56,
     "metadata": {},
     "output_type": "execute_result"
    }
   ],
   "source": [
    "output_center.shape"
   ]
  },
  {
   "cell_type": "code",
   "execution_count": 57,
   "metadata": {},
   "outputs": [
    {
     "data": {
      "text/plain": [
       "(array([[ 1.39794004],\n",
       "        [ 1.38021123],\n",
       "        [ 0.69897002],\n",
       "        ..., \n",
       "        [ 1.51851392],\n",
       "        [ 0.95424253],\n",
       "        [ 1.07918119]], dtype=float32), array([[ 1.39794004],\n",
       "        [ 1.38021123],\n",
       "        [ 0.69897002],\n",
       "        ..., \n",
       "        [ 1.51851392],\n",
       "        [ 0.95424253],\n",
       "        [ 1.07918119]], dtype=float32))"
      ]
     },
     "execution_count": 57,
     "metadata": {},
     "output_type": "execute_result"
    }
   ],
   "source": [
    "input_center, output_center"
   ]
  },
  {
   "cell_type": "markdown",
   "metadata": {},
   "source": [
    "plt.scatter(X_input_center.reshape(-1),Y_input_center.reshape(-1))\n",
    "plt.show()"
   ]
  },
  {
   "cell_type": "markdown",
   "metadata": {
    "collapsed": true
   },
   "source": [
    "Z_input_center = np.median(Z_input_data_log, axis=-1).reshape(-1,1)"
   ]
  },
  {
   "cell_type": "markdown",
   "metadata": {},
   "source": [
    "Z_input_center.shape"
   ]
  },
  {
   "cell_type": "markdown",
   "metadata": {},
   "source": [
    "#Use Regular Median as the Center for X\n",
    "#Choice 1: Not including nan\n",
    "X_input_center = np.nan_to_num(np.nanmedian(X_input_log, axis=-1)).reshape(-1,1)\n",
    "X_output_center = np.nan_to_num(np.nanmedian(X_output_log, axis=-1)).reshape(-1,1)\n",
    "\n",
    "#Choice 2: Including nan\n",
    "#X_input_center = np.median(np.nan_to_num(X_input_log), axis=-1).reshape(-1,1)\n",
    "#X_output_center = np.median(np.nan_to_num(X_output_log), axis=-1).reshape(-1,1)"
   ]
  },
  {
   "cell_type": "markdown",
   "metadata": {},
   "source": [
    "Y_input_center = np.nanmedian(input_data_log[:,:x_length], axis=-1).reshape(-1,1)\n",
    "Y_input_center  # remember sample-wised center\n",
    "\n",
    "Y_output_center = np.nanmedian(output_data_log[:,:x_length], axis=-1).reshape(-1,1)\n",
    "Y_output_center  # remember sample-wised center"
   ]
  },
  {
   "cell_type": "markdown",
   "metadata": {},
   "source": [
    "#### Choice of default scale"
   ]
  },
  {
   "cell_type": "code",
   "execution_count": 58,
   "metadata": {
    "scrolled": true
   },
   "outputs": [
    {
     "name": "stderr",
     "output_type": "stream",
     "text": [
      "c:\\python3\\lib\\site-packages\\numpy\\lib\\nanfunctions.py:1427: RuntimeWarning: Degrees of freedom <= 0 for slice.\n",
      "  keepdims=keepdims)\n"
     ]
    },
    {
     "data": {
      "text/plain": [
       "0.17991364"
      ]
     },
     "execution_count": 58,
     "metadata": {},
     "output_type": "execute_result"
    }
   ],
   "source": [
    "default_input_scale = np.nanmedian(np.nanstd(X_input_raw_log, axis=-1))  # Do not include nan\n",
    "default_input_scale"
   ]
  },
  {
   "cell_type": "code",
   "execution_count": 59,
   "metadata": {
    "scrolled": true
   },
   "outputs": [
    {
     "name": "stderr",
     "output_type": "stream",
     "text": [
      "c:\\python3\\lib\\site-packages\\numpy\\lib\\nanfunctions.py:1427: RuntimeWarning: Degrees of freedom <= 0 for slice.\n",
      "  keepdims=keepdims)\n"
     ]
    },
    {
     "data": {
      "text/plain": [
       "0.16437981"
      ]
     },
     "execution_count": 59,
     "metadata": {},
     "output_type": "execute_result"
    }
   ],
   "source": [
    "default_output_scale = np.nanmedian(np.nanstd(X_output_raw_log, axis=-1))  # Do not include nan\n",
    "default_output_scale"
   ]
  },
  {
   "cell_type": "code",
   "execution_count": 60,
   "metadata": {},
   "outputs": [
    {
     "data": {
      "text/plain": [
       "0.17214672"
      ]
     },
     "execution_count": 60,
     "metadata": {},
     "output_type": "execute_result"
    }
   ],
   "source": [
    "default_scale = np.mean([default_input_scale, default_output_scale]); default_scale"
   ]
  },
  {
   "cell_type": "markdown",
   "metadata": {},
   "source": [
    "#### Scale"
   ]
  },
  {
   "cell_type": "code",
   "execution_count": 61,
   "metadata": {
    "collapsed": true,
    "scrolled": true
   },
   "outputs": [],
   "source": [
    "#Choice 1: Treat nan as 0\n",
    "input_scale = np.std(X_input_log, axis=-1).reshape(-1,1)\n",
    "output_scale = np.std(X_output_log, axis=-1).reshape(-1,1)\n",
    "\n",
    "#Choice 2: Not including nan\n",
    "#input_scale = np.nan_to_num(np.nanstd(X_input_raw_log, axis=-1)).reshape(-1,1)\n",
    "#output_scale = np.nan_to_num(np.nanstd(X_output_raw_log, axis=-1)).reshape(-1,1)\n",
    "\n",
    "input_scale[input_scale == 0.0] = default_scale  # Prevent divid by zero \n",
    "output_scale[output_scale == 0.0] = default_scale  # Prevent divid by zero "
   ]
  },
  {
   "cell_type": "code",
   "execution_count": 62,
   "metadata": {
    "collapsed": true
   },
   "outputs": [],
   "source": [
    "X_input_scale = input_scale\n",
    "Y_input_scale = input_scale\n",
    "X_output_scale = output_scale\n",
    "Y_output_scale = output_scale"
   ]
  },
  {
   "cell_type": "code",
   "execution_count": 63,
   "metadata": {
    "scrolled": true
   },
   "outputs": [
    {
     "data": {
      "text/plain": [
       "array([[ 0.21786821],\n",
       "       [ 0.20833643],\n",
       "       [ 0.23403274],\n",
       "       ..., \n",
       "       [ 0.17214672],\n",
       "       [ 0.17214672],\n",
       "       [ 0.17214672]], dtype=float32)"
      ]
     },
     "execution_count": 63,
     "metadata": {},
     "output_type": "execute_result"
    }
   ],
   "source": [
    "input_scale"
   ]
  },
  {
   "cell_type": "code",
   "execution_count": 64,
   "metadata": {
    "scrolled": true
   },
   "outputs": [
    {
     "data": {
      "text/plain": [
       "array([[ 0.1649273 ],\n",
       "       [ 0.23007886],\n",
       "       [ 0.28803271],\n",
       "       ..., \n",
       "       [ 0.30650106],\n",
       "       [ 0.30719179],\n",
       "       [ 0.41562825]], dtype=float32)"
      ]
     },
     "execution_count": 64,
     "metadata": {},
     "output_type": "execute_result"
    }
   ],
   "source": [
    "output_scale"
   ]
  },
  {
   "cell_type": "markdown",
   "metadata": {},
   "source": [
    "Z_input_scale = np.std(Z_input_data_log, axis=-1).reshape(-1,1)\n",
    "Z_input_scale[Z_input_scale == 0.0] = default_input_scale  # Prevent divid by zero\n",
    "Z_input_scale  # remember sample-wised scale"
   ]
  },
  {
   "cell_type": "markdown",
   "metadata": {},
   "source": [
    "##### Check zero in scale"
   ]
  },
  {
   "cell_type": "markdown",
   "metadata": {},
   "source": [
    "#Check if there is any 0. in input_scale\n",
    "input_scale[input_scale == 0.]"
   ]
  },
  {
   "cell_type": "markdown",
   "metadata": {},
   "source": [
    "#Check if there is any 0. in output_scale\n",
    "output_scale[output_scale == 0.]"
   ]
  },
  {
   "cell_type": "markdown",
   "metadata": {},
   "source": [
    "#### Shift by Center and Scale by Scale"
   ]
  },
  {
   "cell_type": "code",
   "execution_count": 65,
   "metadata": {
    "collapsed": true
   },
   "outputs": [],
   "source": [
    "def transform(data_ori, center, scale):\n",
    "    return (data_ori - center) / scale\n",
    "def untransform(data, center, scale):\n",
    "    return data * scale + center"
   ]
  },
  {
   "cell_type": "code",
   "execution_count": 66,
   "metadata": {
    "collapsed": true
   },
   "outputs": [],
   "source": [
    "# Normalize after nan->0\n",
    "X_input = transform(X_input_log, X_input_center, X_input_scale)\n",
    "X_output = transform(X_output_log, X_output_center, X_output_scale)\n",
    "Y_input = transform(Y_input_log, Y_input_center, Y_input_scale)\n",
    "if test_length:\n",
    "    Y_output = transform(Y_output_log, Y_output_center, Y_output_scale)    \n",
    "\n",
    "# Another choice: Normalize before nan->0\n",
    "#X_input = np.nan_to_num(transform(X_input_raw_log, X_input_center, input_scale))\n",
    "#X_output = np.nan_to_num(transform(X_output_raw_log, X_output_center, output_scale))\n",
    "#Y_input = np.nan_to_num(transform(Y_input_raw_log, Y_input_center, input_scale))\n",
    "#if test_length:\n",
    "#    Y_output = np.nan_to_num(transform(Y_output_raw_log, Y_output_center, output_scale))"
   ]
  },
  {
   "cell_type": "markdown",
   "metadata": {},
   "source": [
    "Note:\n",
    "\n",
    "* If we take nan_to_num before transform, we make sure the nan got transformed into 0 but not the center.\n",
    "* If we take nan_to_num after transform, nan trun into the center but not 0 of the original data."
   ]
  },
  {
   "cell_type": "markdown",
   "metadata": {},
   "source": [
    "examine(Y_input)"
   ]
  },
  {
   "cell_type": "markdown",
   "metadata": {
    "collapsed": true
   },
   "source": [
    "input_data_norm = transform(input_data_log, Y_input_center, input_scale)\n",
    "output_data_norm = transform(output_data_log, Y_output_center, output_scale)"
   ]
  },
  {
   "cell_type": "markdown",
   "metadata": {},
   "source": [
    "Z_input = transform(Z_input_data_log, Z_input_center, Z_input_scale)"
   ]
  },
  {
   "cell_type": "markdown",
   "metadata": {},
   "source": [
    "##### Check median and stdev transformations"
   ]
  },
  {
   "cell_type": "code",
   "execution_count": 67,
   "metadata": {
    "collapsed": true
   },
   "outputs": [],
   "source": [
    "def check_nan(X):\n",
    "    return [x for x in X if np.isnan(x).any()]"
   ]
  },
  {
   "cell_type": "markdown",
   "metadata": {},
   "source": [
    "check_nan(X_input)  # Check if there is any nan in the input_data"
   ]
  },
  {
   "cell_type": "markdown",
   "metadata": {},
   "source": [
    "#Check inverse scale transformation\n",
    "X_input_unnorm = untransform(X_input, X_input_center, X_input_scale)\n",
    "X_input_unnorm_dif = X_input_unnorm - X_input_log\n",
    "X_input_unnorm_dif.min(), X_input_unnorm_dif.max()"
   ]
  },
  {
   "cell_type": "markdown",
   "metadata": {},
   "source": [
    "#Check inverse scale transformation\n",
    "Y_input_unnorm = untransform(Y_input, Y_input_center, Y_input_scale)\n",
    "Y_input_unnorm_dif = Y_input_unnorm - Y_input_log\n",
    "Y_input_unnorm_dif.min(), Y_input_unnorm_dif.max()"
   ]
  },
  {
   "cell_type": "markdown",
   "metadata": {},
   "source": [
    "#Check inverse scale transformation\n",
    "X_output_unnorm = untransform(X_output, X_output_center, X_output_scale)\n",
    "X_output_unnorm_dif = X_output_unnorm - X_output_log\n",
    "X_output_unnorm_dif.min(), X_output_unnorm_dif.max()"
   ]
  },
  {
   "cell_type": "markdown",
   "metadata": {},
   "source": [
    "#Check inverse scale transformation\n",
    "Y_output_unnorm = untransform(Y_output, Y_output_center, Y_output_scale)\n",
    "Y_output_unnorm_dif = Y_output_unnorm - Y_output_log\n",
    "Y_output_unnorm_dif.min(), Y_output_unnorm_dif.max()"
   ]
  },
  {
   "cell_type": "markdown",
   "metadata": {
    "scrolled": true
   },
   "source": [
    "del X_input_unnorm; del X_input_unnorm_dif\n",
    "del Y_input_unnorm; del Y_input_unnorm_dif\n",
    "del X_output_unnorm; del X_output_unnorm_dif\n",
    "del Y_output_unnorm; del Y_output_unnorm_dif\n",
    "gc.collect()"
   ]
  },
  {
   "cell_type": "markdown",
   "metadata": {},
   "source": [
    "## Center (Median) and Scale (Stdev) Investigation"
   ]
  },
  {
   "cell_type": "markdown",
   "metadata": {},
   "source": [
    "### Center"
   ]
  },
  {
   "cell_type": "markdown",
   "metadata": {},
   "source": [
    "plt.hist(Y_input_center, bins=40, alpha=0.5, label='input')\n",
    "plt.hist(Y_output_center, bins=40, alpha=0.5, label='output')\n",
    "plt.hist(X_input_center, bins=40, alpha=0.5, label='input')\n",
    "plt.hist(X_output_center, bins=40, alpha=0.5, label='output')\n",
    "#plt.hist(Z_input_center, bins=40, alpha=0.5, label='Z_input')\n",
    "plt.legend()\n",
    "plt.show()"
   ]
  },
  {
   "cell_type": "markdown",
   "metadata": {},
   "source": [
    "plt.hist(Y_input_center, bins=40, alpha=0.7, label='input')\n",
    "plt.hist(Y_output_center, bins=40, alpha=0.7, label='output')\n",
    "plt.legend()\n",
    "plt.yscale('log')\n",
    "plt.show()"
   ]
  },
  {
   "cell_type": "markdown",
   "metadata": {},
   "source": [
    "### Scale"
   ]
  },
  {
   "cell_type": "markdown",
   "metadata": {},
   "source": [
    "plt.hist(input_scale, bins=40, alpha=0.7, label='input')\n",
    "plt.hist(output_scale, bins=40, alpha=0.7, label='output')\n",
    "#plt.hist(Z_input_scale, bins=40, alpha=0.7, label='Z_input')\n",
    "plt.legend()\n",
    "plt.show()"
   ]
  },
  {
   "cell_type": "markdown",
   "metadata": {},
   "source": [
    "plt.hist(input_scale, bins=40, alpha=0.7, label='input')\n",
    "plt.hist(output_scale, bins=40, alpha=0.7, label='output')\n",
    "plt.legend()\n",
    "plt.yscale('log')\n",
    "plt.show()"
   ]
  },
  {
   "cell_type": "markdown",
   "metadata": {},
   "source": [
    "### Group index based on scale of median (center)"
   ]
  },
  {
   "cell_type": "code",
   "execution_count": 68,
   "metadata": {},
   "outputs": [
    {
     "data": {
      "text/plain": [
       "[0, 1, 2, 3]"
      ]
     },
     "execution_count": 68,
     "metadata": {},
     "output_type": "execute_result"
    }
   ],
   "source": [
    "def group_index(logx):\n",
    "    if logx < 1.0: return 0\n",
    "    elif logx < 2.0: return 1\n",
    "    elif logx < 4.0: return 2\n",
    "    else: return 3\n",
    "group_index_v = np.vectorize(group_index)\n",
    "gp_list = list(range(4)); gp_list"
   ]
  },
  {
   "cell_type": "markdown",
   "metadata": {},
   "source": [
    "def group_index(median, stdev):\n",
    "    if median < 1.0: return 0\n",
    "    elif median < 2.0: \n",
    "        if stdev < 1.7: return 1\n",
    "        else: return 2\n",
    "    elif median < 4.0: \n",
    "        if stdev < 1.7: return 3\n",
    "        else: return 4\n",
    "    else: return 5\n",
    "#group_index_v = np.vectorize(group_index)\n",
    "gp_list = list(range(6)); gp_list"
   ]
  },
  {
   "cell_type": "markdown",
   "metadata": {},
   "source": [
    "def group_index(logx):\n",
    "    if logx == 0.: return 0\n",
    "    elif logx < 1.0: return 1\n",
    "    elif logx < 2.0: return 2\n",
    "    elif logx < 4.0: return 3\n",
    "    elif logx < 5.0: return 4\n",
    "    else: return 5\n",
    "group_index_v = np.vectorize(group_index)\n",
    "gp_list = list(range(6)); gp_list"
   ]
  },
  {
   "cell_type": "markdown",
   "metadata": {},
   "source": [
    "input_gp = np.array([group_index(center, scale) for center, scale in zip(Y_input_center, input_scale)]).reshape(-1)\n",
    "output_gp = np.array([group_index(center, scale) for center, scale in zip(Y_output_center, output_scale)]).reshape(-1)"
   ]
  },
  {
   "cell_type": "code",
   "execution_count": 69,
   "metadata": {
    "collapsed": true
   },
   "outputs": [],
   "source": [
    "# Choice 1: Group using X center\n",
    "input_gp = group_index_v(X_input_center).reshape(-1)\n",
    "output_gp = group_index_v(X_output_center).reshape(-1)\n",
    "\n",
    "# Choice 2: Group using Y center (Fib Median)\n",
    "#input_gp = group_index_v(Y_input_center).reshape(-1)\n",
    "#output_gp = group_index_v(Y_output_center).reshape(-1)"
   ]
  },
  {
   "cell_type": "code",
   "execution_count": 70,
   "metadata": {},
   "outputs": [
    {
     "data": {
      "text/plain": [
       "(array([1, 1, 0, ..., 1, 0, 1]), array([1, 1, 0, ..., 1, 0, 1]))"
      ]
     },
     "execution_count": 70,
     "metadata": {},
     "output_type": "execute_result"
    }
   ],
   "source": [
    "input_gp, output_gp"
   ]
  },
  {
   "cell_type": "code",
   "execution_count": 71,
   "metadata": {},
   "outputs": [
    {
     "data": {
      "text/plain": [
       "[24929, 43689, 75648, 797]"
      ]
     },
     "execution_count": 71,
     "metadata": {},
     "output_type": "execute_result"
    }
   ],
   "source": [
    "# group counts\n",
    "gp_input_counts = [0] * len(gp_list)\n",
    "for x in input_gp: gp_input_counts[x] += 1\n",
    "gp_input_counts"
   ]
  },
  {
   "cell_type": "code",
   "execution_count": 72,
   "metadata": {},
   "outputs": [
    {
     "data": {
      "text/plain": [
       "[24929, 43689, 75648, 797]"
      ]
     },
     "execution_count": 72,
     "metadata": {},
     "output_type": "execute_result"
    }
   ],
   "source": [
    "# group counts\n",
    "gp_output_counts = [0] * len(gp_list)\n",
    "for x in output_gp: gp_output_counts[x] += 1\n",
    "gp_output_counts"
   ]
  },
  {
   "cell_type": "markdown",
   "metadata": {},
   "source": [
    "plt.hist(input_gp, alpha=0.8, label='input')\n",
    "plt.hist(output_gp, alpha=0.3, label='output')\n",
    "plt.yscale('linear')\n",
    "plt.legend()\n",
    "plt.show()"
   ]
  },
  {
   "cell_type": "markdown",
   "metadata": {},
   "source": [
    "plt.hist(input_gp, alpha=0.8, label='input')\n",
    "plt.hist(output_gp, alpha=0.3, label='output')\n",
    "plt.yscale('log')\n",
    "plt.legend()\n",
    "plt.show()"
   ]
  },
  {
   "cell_type": "markdown",
   "metadata": {},
   "source": [
    "#### Original data"
   ]
  },
  {
   "cell_type": "code",
   "execution_count": 74,
   "metadata": {
    "collapsed": true
   },
   "outputs": [],
   "source": [
    "X_input_ori = X_input_num  # Do not contain nan\n",
    "Y_input_ori = Y_input_num\n",
    "X_output_ori = X_output_num\n",
    "if test_length:\n",
    "    Y_output_ori = Y_output_num"
   ]
  },
  {
   "cell_type": "code",
   "execution_count": 75,
   "metadata": {},
   "outputs": [
    {
     "name": "stdout",
     "output_type": "stream",
     "text": [
      "shape, min, max, median, stdev\n",
      "(145063, 64) -105.753 177.383 0.0236336 3.38855\n",
      "(145063, 64) -105.753 176.716 -0.0245218 3.45802\n",
      "(145063, 64) -57.8532 8.06325 0.0 1.25732\n",
      "(145063, 64) -1643.71 49.7987 -0.222567 6.03466\n",
      "(145063, 64) 0.0 2.29855e+07 126.0 63438.6\n",
      "(145063, 64) 0.0 6.72643e+07 128.0 154566.0\n",
      "(145063, 64) 0.0 2.46307e+07 123.0 66228.7\n",
      "(145063, 64) 0.0 1.86702e+07 113.0 57395.4\n"
     ]
    }
   ],
   "source": [
    "if test_length:\n",
    "    arr_info((X_input, Y_input, X_output, Y_output, \n",
    "              X_input_ori, Y_input_ori, X_output_ori, Y_output_ori))\n",
    "else:\n",
    "    arr_info((X_input, Y_input, X_output, \n",
    "              X_input_ori, Y_input_ori, X_output_ori))"
   ]
  },
  {
   "cell_type": "markdown",
   "metadata": {},
   "source": [
    "arr_info((Z_input,))"
   ]
  },
  {
   "cell_type": "markdown",
   "metadata": {},
   "source": [
    "#### Min and max cases examination"
   ]
  },
  {
   "cell_type": "markdown",
   "metadata": {},
   "source": [
    "np.argmin(Y_output, axis=0)"
   ]
  },
  {
   "cell_type": "markdown",
   "metadata": {},
   "source": [
    "Y_output[8604]"
   ]
  },
  {
   "cell_type": "markdown",
   "metadata": {},
   "source": [
    "Y_output_ori[8604]"
   ]
  },
  {
   "cell_type": "markdown",
   "metadata": {},
   "source": [
    "fib_output_median[8604]"
   ]
  },
  {
   "cell_type": "markdown",
   "metadata": {},
   "source": [
    "log(Y_output_ori[8604])"
   ]
  },
  {
   "cell_type": "markdown",
   "metadata": {},
   "source": [
    "log(fib_output_median[8604])"
   ]
  },
  {
   "cell_type": "markdown",
   "metadata": {},
   "source": [
    "np.std(log(Y_output_ori[8604]))"
   ]
  },
  {
   "cell_type": "markdown",
   "metadata": {},
   "source": [
    "np.std(log(X_output_ori[8604]))"
   ]
  },
  {
   "cell_type": "markdown",
   "metadata": {},
   "source": [
    "output_scale[8604]"
   ]
  },
  {
   "cell_type": "markdown",
   "metadata": {},
   "source": [
    "#### Check if the inverse transformation is correct"
   ]
  },
  {
   "cell_type": "markdown",
   "metadata": {
    "collapsed": true
   },
   "source": [
    "#Undo transformation\n",
    "X_input_tt = unlog(untransform(X_input, X_input_center, X_input_scale))"
   ]
  },
  {
   "cell_type": "markdown",
   "metadata": {},
   "source": [
    "X_input_tt_diff = X_input_tt - X_input_ori\n",
    "X_input_tt_diff.min(), X_input_tt_diff.max()"
   ]
  },
  {
   "cell_type": "markdown",
   "metadata": {},
   "source": [
    "del X_input_tt_diff; del X_input_tt"
   ]
  },
  {
   "cell_type": "markdown",
   "metadata": {},
   "source": [
    "## Split X,Y data into groups"
   ]
  },
  {
   "cell_type": "markdown",
   "metadata": {},
   "source": [
    "X_input[input_gp == 1].shape"
   ]
  },
  {
   "cell_type": "code",
   "execution_count": 76,
   "metadata": {
    "collapsed": true
   },
   "outputs": [],
   "source": [
    "X_input_list = [X_input[input_gp == gp] for gp in gp_list]\n",
    "Y_input_list = [Y_input[input_gp == gp] for gp in gp_list]\n",
    "X_output_list = [X_output[output_gp == gp] for gp in gp_list]\n",
    "if test_length:\n",
    "    Y_output_list = [Y_output[output_gp == gp] for gp in gp_list]"
   ]
  },
  {
   "cell_type": "markdown",
   "metadata": {
    "collapsed": true
   },
   "source": [
    "Z_input_list = [Z_input[input_gp == gp] for gp in gp_list]\n",
    "Z_output_list = [Z_output[output_gp == gp] for gp in gp_list]"
   ]
  },
  {
   "cell_type": "markdown",
   "metadata": {},
   "source": [
    "## Additional input for the neural network"
   ]
  },
  {
   "cell_type": "markdown",
   "metadata": {},
   "source": [
    "#Split center into group\n",
    "Y_input_center_list = [Y_input_center[input_gp == gp] for gp in gp_list]\n",
    "Y_output_center_list = [Y_output_center[output_gp == gp] for gp in gp_list]\n",
    "\n",
    "#Split scale into group\n",
    "input_scale_list = [input_scale[input_gp == gp] for gp in gp_list]\n",
    "output_scale_list = [output_scale[output_gp == gp] for gp in gp_list]"
   ]
  },
  {
   "cell_type": "markdown",
   "metadata": {},
   "source": [
    "input_scale_list[0].shape"
   ]
  },
  {
   "cell_type": "code",
   "execution_count": 77,
   "metadata": {},
   "outputs": [
    {
     "data": {
      "text/plain": [
       "((145063, 2), (145063, 2))"
      ]
     },
     "execution_count": 77,
     "metadata": {},
     "output_type": "execute_result"
    }
   ],
   "source": [
    "A_input = np.concatenate((Y_input_center, input_scale), axis=1)\n",
    "A_output = np.concatenate((Y_output_center, output_scale), axis=1); A_input.shape, A_output.shape"
   ]
  },
  {
   "cell_type": "code",
   "execution_count": 78,
   "metadata": {
    "collapsed": true
   },
   "outputs": [],
   "source": [
    "A_input_list = [A_input[input_gp == gp] for gp in gp_list]\n",
    "A_output_list = [A_output[output_gp == gp] for gp in gp_list]"
   ]
  },
  {
   "cell_type": "code",
   "execution_count": 79,
   "metadata": {},
   "outputs": [
    {
     "data": {
      "text/plain": [
       "2"
      ]
     },
     "execution_count": 79,
     "metadata": {},
     "output_type": "execute_result"
    }
   ],
   "source": [
    "a_length = len(A_input[0]); a_length"
   ]
  },
  {
   "cell_type": "markdown",
   "metadata": {},
   "source": [
    "## Dates that We don't evaluate their scores !!!!\n",
    "We modify Y_output_raw so that some of the dates won't be evaluated."
   ]
  },
  {
   "cell_type": "code",
   "execution_count": 80,
   "metadata": {},
   "outputs": [
    {
     "data": {
      "text/plain": [
       "1"
      ]
     },
     "execution_count": 80,
     "metadata": {},
     "output_type": "execute_result"
    }
   ],
   "source": [
    "y_eval_length = 63\n",
    "y_not_eval = y_length - y_eval_length  # number of days we don't evaluate their scores\n",
    "y_not_eval"
   ]
  },
  {
   "cell_type": "code",
   "execution_count": 81,
   "metadata": {
    "collapsed": true
   },
   "outputs": [],
   "source": [
    "if test_length and y_not_eval > 0:\n",
    "    Y_output_raw[:,:y_not_eval] = np.nan"
   ]
  },
  {
   "cell_type": "code",
   "execution_count": 82,
   "metadata": {},
   "outputs": [
    {
     "name": "stdout",
     "output_type": "stream",
     "text": [
      "63 63 64\n"
     ]
    }
   ],
   "source": [
    "if test_length and y_not_eval > 0:\n",
    "    print(np.sum(~np.isnan(Y_output_raw[0])), y_eval_length, y_length)"
   ]
  },
  {
   "cell_type": "code",
   "execution_count": 83,
   "metadata": {},
   "outputs": [
    {
     "name": "stdout",
     "output_type": "stream",
     "text": [
      "[[ nan  24.]\n",
      " [ nan  29.]]\n"
     ]
    }
   ],
   "source": [
    "if test_length and y_not_eval > 0:\n",
    "    print(Y_output_raw[0:2,y_not_eval-1:y_not_eval+1])"
   ]
  },
  {
   "cell_type": "markdown",
   "metadata": {},
   "source": [
    "## Neural Network?"
   ]
  },
  {
   "cell_type": "code",
   "execution_count": 84,
   "metadata": {},
   "outputs": [
    {
     "name": "stderr",
     "output_type": "stream",
     "text": [
      "Using TensorFlow backend.\n"
     ]
    }
   ],
   "source": [
    "import keras"
   ]
  },
  {
   "cell_type": "markdown",
   "metadata": {},
   "source": [
    "### SMAPE\n",
    "Symmetric mean absolute percentage error\n",
    "\n",
    "https://en.wikipedia.org/wiki/Symmetric_mean_absolute_percentage_error"
   ]
  },
  {
   "cell_type": "code",
   "execution_count": 85,
   "metadata": {
    "collapsed": true
   },
   "outputs": [],
   "source": [
    "import keras.backend as K\n",
    "\n",
    "def k_smape(y_true, y_pred):\n",
    "    '''Symmetric mean absolute percentage error for keras metric'''\n",
    "    diff = K.abs((y_true - y_pred) / K.clip(K.abs(y_true) + K.abs(y_pred),\n",
    "                                            K.epsilon(), None))\n",
    "    return 200. * K.mean(diff, axis=-1)"
   ]
  },
  {
   "cell_type": "code",
   "execution_count": 86,
   "metadata": {
    "collapsed": true
   },
   "outputs": [],
   "source": [
    "def smape(y_true, y_pred, axis=None):\n",
    "    '''Symmetric mean absolute percentage error'''\n",
    "    diff = np.abs((y_true - y_pred) / \n",
    "                  np.clip(np.abs(y_true) + np.abs(y_pred), np.float32(1e-07), None))\n",
    "    return np.float32(200.) * np.nanmean(diff, axis=axis)"
   ]
  },
  {
   "cell_type": "markdown",
   "metadata": {},
   "source": [
    "smape(np.array([0,1]),np.array([np.nan, 0])), smape(np.array([0]),np.array([0]))"
   ]
  },
  {
   "cell_type": "code",
   "execution_count": 87,
   "metadata": {},
   "outputs": [
    {
     "data": {
      "text/plain": [
       "(119.99631, 149.78027, 0.0)"
      ]
     },
     "execution_count": 87,
     "metadata": {},
     "output_type": "execute_result"
    }
   ],
   "source": [
    "# Benchmark SMAPE on the transformed data\n",
    "smape(Y_input[:,-x_length:],X_input), smape(Y_input[:,-x_length:], X_output), smape(Y_input,Y_input)"
   ]
  },
  {
   "cell_type": "code",
   "execution_count": 88,
   "metadata": {
    "scrolled": true
   },
   "outputs": [
    {
     "data": {
      "text/plain": [
       "(61.305542, 59.68058)"
      ]
     },
     "execution_count": 88,
     "metadata": {},
     "output_type": "execute_result"
    }
   ],
   "source": [
    "# Benchmark SMAPE on the original data\n",
    "smape(Y_input_raw[:,-x_length:],X_input_ori), smape(Y_input_ori[:,-x_length:],X_input_ori)"
   ]
  },
  {
   "cell_type": "code",
   "execution_count": 89,
   "metadata": {},
   "outputs": [
    {
     "name": "stdout",
     "output_type": "stream",
     "text": [
      "51.9105 144.274\n"
     ]
    }
   ],
   "source": [
    "if test_length: print(smape(Y_output_raw[:,-x_length:], X_output_ori), smape(Y_output[:,-x_length:], X_output))"
   ]
  },
  {
   "cell_type": "code",
   "execution_count": 90,
   "metadata": {},
   "outputs": [
    {
     "name": "stdout",
     "output_type": "stream",
     "text": [
      "48.403\n",
      "40.5522\n"
     ]
    }
   ],
   "source": [
    "print(smape(Y_input_raw, Y_input_fib))\n",
    "if test_length: print(smape(Y_output_raw, Y_output_fib))"
   ]
  },
  {
   "cell_type": "markdown",
   "metadata": {},
   "source": [
    "Doing better than the first two scores are better than simply copy and past the previous result."
   ]
  },
  {
   "cell_type": "markdown",
   "metadata": {},
   "source": [
    "### Neural Network Model\n",
    "With the flavor of convolutional neural network"
   ]
  },
  {
   "cell_type": "code",
   "execution_count": 91,
   "metadata": {
    "collapsed": true
   },
   "outputs": [],
   "source": [
    "from keras.models import Model\n",
    "from keras.layers import Dense, Dropout, Flatten\n",
    "from keras.layers import Input\n",
    "from keras.layers import Conv1D\n",
    "from keras.layers import Reshape\n",
    "from keras.layers import MaxPooling1D\n",
    "from keras.layers import AveragePooling1D\n",
    "from keras.layers import concatenate\n",
    "from keras.optimizers import Adam"
   ]
  },
  {
   "cell_type": "code",
   "execution_count": 92,
   "metadata": {
    "collapsed": true
   },
   "outputs": [],
   "source": [
    "n_ens = 3\n",
    "ens_list = list(range(n_ens))"
   ]
  },
  {
   "cell_type": "code",
   "execution_count": 93,
   "metadata": {
    "scrolled": true
   },
   "outputs": [
    {
     "name": "stdout",
     "output_type": "stream",
     "text": [
      "Run 0: Group-0 Group-1 Group-2 Group-3 \n",
      "Run 1: Group-0 Group-1 Group-2 Group-3 \n",
      "Run 2: Group-0 Group-1 Group-2 Group-3 \n"
     ]
    }
   ],
   "source": [
    "#runbelow\n",
    "models_ens = []\n",
    "for run in ens_list:\n",
    "    print('Run', run, end=': ')\n",
    "    models = []\n",
    "    for gp in gp_list:\n",
    "        print('Group-', gp, sep='', end=' ')\n",
    "        layer_0 = Input(shape=(x_length,), name='x_input')\n",
    "        layer_t = Reshape((-1, 1))(layer_0)\n",
    "        layer_t = Conv1D(120, kernel_size=3, activation='relu')(layer_t)\n",
    "        layer_t = AveragePooling1D(pool_size=2)(layer_t)\n",
    "        layer_cnn_x = Flatten()(layer_t)\n",
    "        \n",
    "        layer_a = Input(shape=(a_length,), name='a_input')\n",
    "        \n",
    "        #layer_z = Input(shape=(y_length,), name='z_input')\n",
    "        #layer_t = Reshape((-1, 1))(layer_0)\n",
    "        #layer_t = Conv1D(20, kernel_size=3, activation='relu')(layer_t)\n",
    "        #layer_t = AveragePooling1D(pool_size=2)(layer_t)\n",
    "        #layer_cnn_z = Flatten()(layer_t)\n",
    "                \n",
    "        layer_t = concatenate([layer_cnn_x, layer_a])#, layer_cnn_z])\n",
    "        \n",
    "        layer_t = Dense(120, activation='relu')(layer_t)\n",
    "        layer_t = Dropout(0.25)(layer_t)\n",
    "        layer_t = Dense(120, activation='relu')(layer_t)\n",
    "        layer_t = Dropout(0.5)(layer_t)\n",
    "        layer_f = Dense(y_length)(layer_t)\n",
    "        \n",
    "        model = Model(inputs=[layer_0, layer_a], outputs=layer_f)\n",
    "        #model = Model(inputs=[layer_0, layer_a, layer_z], outputs=layer_f)\n",
    "        model.compile(optimizer='adam',\n",
    "                      loss='mean_absolute_error', metrics=[k_smape])\n",
    "        #model.summary()\n",
    "        models.append(model)\n",
    "    models_ens.append(models)\n",
    "    print('')"
   ]
  },
  {
   "cell_type": "code",
   "execution_count": 94,
   "metadata": {},
   "outputs": [
    {
     "name": "stdout",
     "output_type": "stream",
     "text": [
      "____________________________________________________________________________________________________\n",
      "Layer (type)                     Output Shape          Param #     Connected to                     \n",
      "====================================================================================================\n",
      "x_input (InputLayer)             (None, 64)            0                                            \n",
      "____________________________________________________________________________________________________\n",
      "reshape_12 (Reshape)             (None, 64, 1)         0           x_input[0][0]                    \n",
      "____________________________________________________________________________________________________\n",
      "conv1d_12 (Conv1D)               (None, 62, 120)       480         reshape_12[0][0]                 \n",
      "____________________________________________________________________________________________________\n",
      "average_pooling1d_12 (AveragePoo (None, 31, 120)       0           conv1d_12[0][0]                  \n",
      "____________________________________________________________________________________________________\n",
      "flatten_12 (Flatten)             (None, 3720)          0           average_pooling1d_12[0][0]       \n",
      "____________________________________________________________________________________________________\n",
      "a_input (InputLayer)             (None, 2)             0                                            \n",
      "____________________________________________________________________________________________________\n",
      "concatenate_12 (Concatenate)     (None, 3722)          0           flatten_12[0][0]                 \n",
      "                                                                   a_input[0][0]                    \n",
      "____________________________________________________________________________________________________\n",
      "dense_34 (Dense)                 (None, 120)           446760      concatenate_12[0][0]             \n",
      "____________________________________________________________________________________________________\n",
      "dropout_23 (Dropout)             (None, 120)           0           dense_34[0][0]                   \n",
      "____________________________________________________________________________________________________\n",
      "dense_35 (Dense)                 (None, 120)           14520       dropout_23[0][0]                 \n",
      "____________________________________________________________________________________________________\n",
      "dropout_24 (Dropout)             (None, 120)           0           dense_35[0][0]                   \n",
      "____________________________________________________________________________________________________\n",
      "dense_36 (Dense)                 (None, 64)            7744        dropout_24[0][0]                 \n",
      "====================================================================================================\n",
      "Total params: 469,504\n",
      "Trainable params: 469,504\n",
      "Non-trainable params: 0\n",
      "____________________________________________________________________________________________________\n"
     ]
    }
   ],
   "source": [
    "models_ens[-1][-1].summary()"
   ]
  },
  {
   "cell_type": "code",
   "execution_count": 95,
   "metadata": {},
   "outputs": [
    {
     "data": {
      "text/plain": [
       "(3, 4)"
      ]
     },
     "execution_count": 95,
     "metadata": {},
     "output_type": "execute_result"
    }
   ],
   "source": [
    "np.array(models_ens).shape"
   ]
  },
  {
   "cell_type": "code",
   "execution_count": 96,
   "metadata": {},
   "outputs": [
    {
     "data": {
      "text/plain": [
       "4"
      ]
     },
     "execution_count": 96,
     "metadata": {},
     "output_type": "execute_result"
    }
   ],
   "source": [
    "len(gp_list)"
   ]
  },
  {
   "cell_type": "code",
   "execution_count": 97,
   "metadata": {
    "collapsed": true
   },
   "outputs": [],
   "source": [
    "epochs_list = [0,40,40,60]  # change to smaller epochs later (1,1,20,40,60,80)"
   ]
  },
  {
   "cell_type": "code",
   "execution_count": 98,
   "metadata": {
    "scrolled": true
   },
   "outputs": [
    {
     "name": "stdout",
     "output_type": "stream",
     "text": [
      "=== Run: 1 / 3 ===\n",
      "--- Group: 1 / 4 ---\n",
      "Train on 22436 samples, validate on 2493 samples\n",
      "--- Group: 2 / 4 ---\n",
      "Train on 39320 samples, validate on 4369 samples\n",
      "Epoch 1/40\n",
      "11s - loss: 1.3249 - k_smape: 126.5847 - val_loss: 1.0377 - val_k_smape: 118.1493\n",
      "Epoch 2/40\n",
      "9s - loss: 1.2425 - k_smape: 117.9026 - val_loss: 1.0431 - val_k_smape: 113.6591\n",
      "Epoch 3/40\n",
      "8s - loss: 1.2270 - k_smape: 115.8084 - val_loss: 1.0460 - val_k_smape: 119.6479\n",
      "Epoch 4/40\n",
      "8s - loss: 1.2178 - k_smape: 115.0307 - val_loss: 1.0259 - val_k_smape: 118.2935\n",
      "Epoch 5/40\n",
      "8s - loss: 1.2096 - k_smape: 114.4208 - val_loss: 1.0700 - val_k_smape: 120.0960\n",
      "Epoch 6/40\n",
      "8s - loss: 1.2116 - k_smape: 114.1946 - val_loss: 1.0390 - val_k_smape: 117.9802\n",
      "Epoch 7/40\n",
      "8s - loss: 1.2000 - k_smape: 113.6253 - val_loss: 1.0485 - val_k_smape: 119.3630\n",
      "Epoch 8/40\n",
      "8s - loss: 1.1961 - k_smape: 113.3618 - val_loss: 1.0288 - val_k_smape: 116.6877\n",
      "Epoch 9/40\n",
      "9s - loss: 1.1898 - k_smape: 112.9583 - val_loss: 1.0242 - val_k_smape: 116.3612\n",
      "Epoch 10/40\n",
      "8s - loss: 1.1881 - k_smape: 113.0185 - val_loss: 1.0206 - val_k_smape: 119.7899\n",
      "Epoch 11/40\n",
      "9s - loss: 1.1886 - k_smape: 112.8754 - val_loss: 1.0610 - val_k_smape: 120.1614\n",
      "Epoch 12/40\n",
      "9s - loss: 1.1877 - k_smape: 112.6156 - val_loss: 1.0236 - val_k_smape: 116.6843\n",
      "Epoch 13/40\n",
      "8s - loss: 1.1876 - k_smape: 112.4814 - val_loss: 1.0534 - val_k_smape: 120.4613\n",
      "Epoch 14/40\n",
      "8s - loss: 1.1866 - k_smape: 112.3818 - val_loss: 1.0488 - val_k_smape: 119.0948\n",
      "Epoch 15/40\n",
      "8s - loss: 1.1837 - k_smape: 112.4500 - val_loss: 1.0284 - val_k_smape: 116.6655\n",
      "Epoch 16/40\n",
      "8s - loss: 1.1798 - k_smape: 111.9926 - val_loss: 1.0261 - val_k_smape: 114.6553\n",
      "Epoch 17/40\n",
      "8s - loss: 1.1834 - k_smape: 112.0558 - val_loss: 1.0202 - val_k_smape: 115.9046\n",
      "Epoch 18/40\n",
      "8s - loss: 1.1838 - k_smape: 112.1340 - val_loss: 1.0373 - val_k_smape: 117.1516\n",
      "Epoch 19/40\n",
      "8s - loss: 1.1780 - k_smape: 111.8028 - val_loss: 1.0608 - val_k_smape: 118.4013\n",
      "Epoch 20/40\n",
      "8s - loss: 1.1726 - k_smape: 111.8670 - val_loss: 1.0353 - val_k_smape: 115.7507\n",
      "Epoch 21/40\n",
      "8s - loss: 1.1711 - k_smape: 111.8371 - val_loss: 1.0555 - val_k_smape: 119.9546\n",
      "Epoch 22/40\n",
      "8s - loss: 1.1727 - k_smape: 111.6041 - val_loss: 1.0494 - val_k_smape: 119.2528\n",
      "Epoch 23/40\n",
      "8s - loss: 1.1727 - k_smape: 111.4833 - val_loss: 1.0384 - val_k_smape: 117.4898\n",
      "Epoch 24/40\n",
      "8s - loss: 1.1687 - k_smape: 111.4919 - val_loss: 1.0422 - val_k_smape: 117.6555\n",
      "Epoch 25/40\n",
      "8s - loss: 1.1692 - k_smape: 111.3523 - val_loss: 1.0246 - val_k_smape: 114.7533\n",
      "Epoch 26/40\n",
      "8s - loss: 1.1697 - k_smape: 111.5395 - val_loss: 1.0325 - val_k_smape: 114.7688\n",
      "Epoch 27/40\n",
      "8s - loss: 1.1670 - k_smape: 111.2092 - val_loss: 1.0386 - val_k_smape: 116.8115\n",
      "Epoch 28/40\n",
      "8s - loss: 1.1660 - k_smape: 111.3034 - val_loss: 1.0541 - val_k_smape: 117.8271\n",
      "Epoch 29/40\n",
      "8s - loss: 1.1640 - k_smape: 111.0235 - val_loss: 1.0349 - val_k_smape: 118.8244\n",
      "Epoch 30/40\n",
      "8s - loss: 1.1665 - k_smape: 111.1267 - val_loss: 1.0296 - val_k_smape: 115.7921\n",
      "Epoch 31/40\n",
      "8s - loss: 1.1645 - k_smape: 110.8681 - val_loss: 1.0287 - val_k_smape: 118.1160\n",
      "Epoch 32/40\n",
      "8s - loss: 1.1634 - k_smape: 110.7868 - val_loss: 1.0335 - val_k_smape: 117.1695\n",
      "Epoch 33/40\n",
      "8s - loss: 1.1568 - k_smape: 110.7925 - val_loss: 1.0445 - val_k_smape: 117.0344\n",
      "Epoch 34/40\n",
      "8s - loss: 1.1528 - k_smape: 110.5169 - val_loss: 1.0270 - val_k_smape: 115.5471\n",
      "Epoch 35/40\n",
      "9s - loss: 1.1502 - k_smape: 110.6357 - val_loss: 1.0457 - val_k_smape: 116.0966\n",
      "Epoch 36/40\n",
      "9s - loss: 1.1551 - k_smape: 110.4165 - val_loss: 1.0131 - val_k_smape: 113.8965\n",
      "Epoch 37/40\n",
      "9s - loss: 1.1557 - k_smape: 110.5230 - val_loss: 1.0430 - val_k_smape: 117.0662\n",
      "Epoch 38/40\n",
      "8s - loss: 1.1554 - k_smape: 110.7007 - val_loss: 1.0363 - val_k_smape: 116.4207\n",
      "Epoch 39/40\n",
      "8s - loss: 1.1502 - k_smape: 110.2581 - val_loss: 1.0472 - val_k_smape: 120.4061\n",
      "Epoch 40/40\n",
      "8s - loss: 1.1566 - k_smape: 110.4396 - val_loss: 1.0438 - val_k_smape: 119.5385\n",
      "--- Group: 3 / 4 ---\n",
      "Train on 68083 samples, validate on 7565 samples\n",
      "Epoch 1/40\n",
      "15s - loss: 1.3496 - k_smape: 108.5298 - val_loss: 1.1366 - val_k_smape: 111.4506\n",
      "Epoch 2/40\n",
      "15s - loss: 1.2426 - k_smape: 100.3733 - val_loss: 1.0889 - val_k_smape: 106.0797\n",
      "Epoch 3/40\n",
      "15s - loss: 1.2251 - k_smape: 98.6353 - val_loss: 1.1295 - val_k_smape: 107.3835\n",
      "Epoch 4/40\n",
      "15s - loss: 1.2150 - k_smape: 97.9728 - val_loss: 1.0800 - val_k_smape: 103.5754\n",
      "Epoch 5/40\n",
      "15s - loss: 1.2063 - k_smape: 97.4229 - val_loss: 1.1116 - val_k_smape: 107.2005\n",
      "Epoch 6/40\n",
      "15s - loss: 1.2014 - k_smape: 97.0409 - val_loss: 1.1202 - val_k_smape: 105.2807\n",
      "Epoch 7/40\n",
      "15s - loss: 1.1987 - k_smape: 96.8023 - val_loss: 1.0721 - val_k_smape: 105.2416\n",
      "Epoch 8/40\n",
      "15s - loss: 1.1959 - k_smape: 96.6491 - val_loss: 1.0748 - val_k_smape: 103.4481\n",
      "Epoch 9/40\n",
      "15s - loss: 1.1879 - k_smape: 96.2610 - val_loss: 1.0803 - val_k_smape: 104.4143\n",
      "Epoch 10/40\n",
      "15s - loss: 1.1848 - k_smape: 96.1468 - val_loss: 1.0841 - val_k_smape: 103.4258\n",
      "Epoch 11/40\n",
      "15s - loss: 1.1826 - k_smape: 95.8950 - val_loss: 1.1037 - val_k_smape: 104.4932\n",
      "Epoch 12/40\n",
      "15s - loss: 1.1848 - k_smape: 95.9111 - val_loss: 1.0858 - val_k_smape: 103.5714\n",
      "Epoch 13/40\n",
      "15s - loss: 1.1777 - k_smape: 95.5938 - val_loss: 1.1264 - val_k_smape: 106.0244\n",
      "Epoch 14/40\n",
      "15s - loss: 1.1820 - k_smape: 95.5713 - val_loss: 1.1151 - val_k_smape: 105.3126\n",
      "Epoch 15/40\n",
      "15s - loss: 1.1757 - k_smape: 95.3930 - val_loss: 1.1539 - val_k_smape: 105.1794\n",
      "Epoch 16/40\n",
      "15s - loss: 1.1708 - k_smape: 95.2866 - val_loss: 1.1067 - val_k_smape: 103.7674\n",
      "Epoch 17/40\n",
      "15s - loss: 1.1687 - k_smape: 95.2622 - val_loss: 1.0891 - val_k_smape: 104.0966\n",
      "Epoch 18/40\n",
      "15s - loss: 1.1652 - k_smape: 95.1899 - val_loss: 1.0644 - val_k_smape: 103.8939\n",
      "Epoch 19/40\n",
      "15s - loss: 1.1672 - k_smape: 95.0129 - val_loss: 1.0812 - val_k_smape: 103.4843\n",
      "Epoch 20/40\n",
      "15s - loss: 1.1634 - k_smape: 94.9389 - val_loss: 1.0604 - val_k_smape: 103.0709\n",
      "Epoch 21/40\n",
      "15s - loss: 1.1628 - k_smape: 94.8667 - val_loss: 1.0991 - val_k_smape: 105.9265\n",
      "Epoch 22/40\n",
      "15s - loss: 1.1617 - k_smape: 94.6978 - val_loss: 1.0965 - val_k_smape: 104.9379\n",
      "Epoch 23/40\n",
      "15s - loss: 1.1571 - k_smape: 94.6984 - val_loss: 1.0625 - val_k_smape: 103.2482\n",
      "Epoch 24/40\n",
      "15s - loss: 1.1579 - k_smape: 94.7043 - val_loss: 1.0711 - val_k_smape: 103.9928\n",
      "Epoch 25/40\n",
      "15s - loss: 1.1577 - k_smape: 94.5558 - val_loss: 1.0548 - val_k_smape: 102.9654\n",
      "Epoch 26/40\n",
      "15s - loss: 1.1506 - k_smape: 94.5233 - val_loss: 1.1062 - val_k_smape: 104.5666\n",
      "Epoch 27/40\n",
      "15s - loss: 1.1520 - k_smape: 94.3746 - val_loss: 1.1039 - val_k_smape: 104.5843\n",
      "Epoch 28/40\n",
      "15s - loss: 1.1496 - k_smape: 94.2666 - val_loss: 1.0827 - val_k_smape: 103.8295\n",
      "Epoch 29/40\n",
      "15s - loss: 1.1486 - k_smape: 94.2151 - val_loss: 1.0867 - val_k_smape: 103.9590\n",
      "Epoch 30/40\n",
      "15s - loss: 1.1483 - k_smape: 94.2376 - val_loss: 1.1118 - val_k_smape: 105.1592\n",
      "Epoch 31/40\n",
      "15s - loss: 1.1498 - k_smape: 94.1591 - val_loss: 1.0846 - val_k_smape: 103.8705\n",
      "Epoch 32/40\n",
      "15s - loss: 1.1471 - k_smape: 94.0956 - val_loss: 1.1066 - val_k_smape: 103.9713\n",
      "Epoch 33/40\n",
      "15s - loss: 1.1462 - k_smape: 94.1759 - val_loss: 1.0897 - val_k_smape: 104.5630\n",
      "Epoch 34/40\n",
      "15s - loss: 1.1407 - k_smape: 94.0176 - val_loss: 1.0999 - val_k_smape: 104.8153\n",
      "Epoch 35/40\n",
      "15s - loss: 1.1384 - k_smape: 93.9251 - val_loss: 1.0792 - val_k_smape: 104.0434\n",
      "Epoch 36/40\n",
      "15s - loss: 1.1405 - k_smape: 93.9113 - val_loss: 1.1031 - val_k_smape: 104.1477\n",
      "Epoch 37/40\n",
      "15s - loss: 1.1384 - k_smape: 93.7959 - val_loss: 1.0643 - val_k_smape: 103.6770\n",
      "Epoch 38/40\n",
      "15s - loss: 1.1358 - k_smape: 93.8734 - val_loss: 1.1419 - val_k_smape: 106.3445\n",
      "Epoch 39/40\n",
      "16s - loss: 1.1370 - k_smape: 93.8095 - val_loss: 1.0779 - val_k_smape: 103.5885\n",
      "Epoch 40/40\n",
      "15s - loss: 1.1334 - k_smape: 93.6109 - val_loss: 1.0830 - val_k_smape: 103.8855\n",
      "--- Group: 4 / 4 ---\n",
      "Train on 717 samples, validate on 80 samples\n",
      "Epoch 1/60\n",
      "0s - loss: 3.0583 - k_smape: 154.9150 - val_loss: 3.8265 - val_k_smape: 138.7746\n",
      "Epoch 2/60\n",
      "0s - loss: 2.6798 - k_smape: 135.3769 - val_loss: 3.6174 - val_k_smape: 133.0651\n",
      "Epoch 3/60\n",
      "0s - loss: 2.4579 - k_smape: 129.4676 - val_loss: 3.2312 - val_k_smape: 123.3659\n",
      "Epoch 4/60\n",
      "0s - loss: 2.2794 - k_smape: 121.8319 - val_loss: 2.9103 - val_k_smape: 113.4666\n",
      "Epoch 5/60\n",
      "0s - loss: 2.1397 - k_smape: 116.0845 - val_loss: 2.5090 - val_k_smape: 103.4348\n",
      "Epoch 6/60\n",
      "0s - loss: 2.0275 - k_smape: 111.0197 - val_loss: 2.1864 - val_k_smape: 98.0327\n",
      "Epoch 7/60\n"
     ]
    },
    {
     "name": "stdout",
     "output_type": "stream",
     "text": [
      "0s - loss: 2.0133 - k_smape: 106.9460 - val_loss: 2.5871 - val_k_smape: 102.8153\n",
      "Epoch 8/60\n",
      "0s - loss: 1.8826 - k_smape: 105.2117 - val_loss: 1.9477 - val_k_smape: 93.7295\n",
      "Epoch 9/60\n",
      "0s - loss: 1.8409 - k_smape: 101.9665 - val_loss: 1.8829 - val_k_smape: 93.3576\n",
      "Epoch 10/60\n",
      "0s - loss: 1.7763 - k_smape: 100.2001 - val_loss: 1.9752 - val_k_smape: 91.0647\n",
      "Epoch 11/60\n",
      "0s - loss: 1.7948 - k_smape: 97.3096 - val_loss: 2.1388 - val_k_smape: 92.8983\n",
      "Epoch 12/60\n",
      "0s - loss: 1.7199 - k_smape: 97.4495 - val_loss: 1.7488 - val_k_smape: 91.8852\n",
      "Epoch 13/60\n",
      "0s - loss: 1.6987 - k_smape: 99.0803 - val_loss: 1.6548 - val_k_smape: 86.1680\n",
      "Epoch 14/60\n",
      "0s - loss: 1.6818 - k_smape: 94.6529 - val_loss: 1.5035 - val_k_smape: 83.7634\n",
      "Epoch 15/60\n",
      "0s - loss: 1.6833 - k_smape: 94.5250 - val_loss: 1.8505 - val_k_smape: 88.5088\n",
      "Epoch 16/60\n",
      "0s - loss: 1.6771 - k_smape: 91.9172 - val_loss: 1.9854 - val_k_smape: 87.9554\n",
      "Epoch 17/60\n",
      "0s - loss: 1.6232 - k_smape: 91.1953 - val_loss: 1.9931 - val_k_smape: 87.4360\n",
      "Epoch 18/60\n",
      "0s - loss: 1.6112 - k_smape: 93.0814 - val_loss: 1.6752 - val_k_smape: 84.6560\n",
      "Epoch 19/60\n",
      "0s - loss: 1.6072 - k_smape: 88.9857 - val_loss: 1.4813 - val_k_smape: 82.8180\n",
      "Epoch 20/60\n",
      "0s - loss: 1.6040 - k_smape: 89.6868 - val_loss: 1.6257 - val_k_smape: 83.3501\n",
      "Epoch 21/60\n",
      "0s - loss: 1.5669 - k_smape: 89.2030 - val_loss: 1.6458 - val_k_smape: 83.4104\n",
      "Epoch 22/60\n",
      "0s - loss: 1.5661 - k_smape: 87.3125 - val_loss: 1.8916 - val_k_smape: 82.7081\n",
      "Epoch 23/60\n",
      "0s - loss: 1.5902 - k_smape: 87.0702 - val_loss: 1.9315 - val_k_smape: 84.6445\n",
      "Epoch 24/60\n",
      "0s - loss: 1.6238 - k_smape: 88.9371 - val_loss: 1.5985 - val_k_smape: 81.2303\n",
      "Epoch 25/60\n",
      "0s - loss: 1.5493 - k_smape: 89.8195 - val_loss: 1.7094 - val_k_smape: 81.5985\n",
      "Epoch 26/60\n",
      "0s - loss: 1.4942 - k_smape: 84.2184 - val_loss: 1.7308 - val_k_smape: 81.0265\n",
      "Epoch 27/60\n",
      "0s - loss: 1.4932 - k_smape: 85.9664 - val_loss: 1.5025 - val_k_smape: 80.1200\n",
      "Epoch 28/60\n",
      "0s - loss: 1.4762 - k_smape: 86.3771 - val_loss: 1.5020 - val_k_smape: 79.3284\n",
      "Epoch 29/60\n",
      "0s - loss: 1.4663 - k_smape: 83.7141 - val_loss: 1.5927 - val_k_smape: 80.2133\n",
      "Epoch 30/60\n",
      "0s - loss: 1.4291 - k_smape: 85.8439 - val_loss: 1.4220 - val_k_smape: 78.8247\n",
      "Epoch 31/60\n",
      "0s - loss: 1.4597 - k_smape: 83.8906 - val_loss: 1.5016 - val_k_smape: 76.7198\n",
      "Epoch 32/60\n",
      "0s - loss: 1.4484 - k_smape: 81.7325 - val_loss: 1.7025 - val_k_smape: 80.9615\n",
      "Epoch 33/60\n",
      "0s - loss: 1.4902 - k_smape: 84.5244 - val_loss: 1.5382 - val_k_smape: 79.2089\n",
      "Epoch 34/60\n",
      "0s - loss: 1.4159 - k_smape: 84.7729 - val_loss: 1.7938 - val_k_smape: 80.0913\n",
      "Epoch 35/60\n",
      "0s - loss: 1.4154 - k_smape: 81.5235 - val_loss: 1.6342 - val_k_smape: 79.0939\n",
      "Epoch 36/60\n",
      "0s - loss: 1.3923 - k_smape: 82.7080 - val_loss: 1.3802 - val_k_smape: 76.5151\n",
      "Epoch 37/60\n",
      "0s - loss: 1.3762 - k_smape: 81.4601 - val_loss: 1.4463 - val_k_smape: 76.9502\n",
      "Epoch 38/60\n",
      "0s - loss: 1.4228 - k_smape: 81.3283 - val_loss: 1.6917 - val_k_smape: 81.1967\n",
      "Epoch 39/60\n",
      "0s - loss: 1.4411 - k_smape: 83.9302 - val_loss: 1.5733 - val_k_smape: 78.3699\n",
      "Epoch 40/60\n",
      "0s - loss: 1.5071 - k_smape: 84.5804 - val_loss: 1.7682 - val_k_smape: 78.2402\n",
      "Epoch 41/60\n",
      "0s - loss: 1.4566 - k_smape: 79.7032 - val_loss: 1.6745 - val_k_smape: 80.9227\n",
      "Epoch 42/60\n",
      "0s - loss: 1.4593 - k_smape: 85.5180 - val_loss: 1.6728 - val_k_smape: 82.9255\n",
      "Epoch 43/60\n",
      "0s - loss: 1.4705 - k_smape: 81.6322 - val_loss: 1.5068 - val_k_smape: 76.7412\n",
      "Epoch 44/60\n",
      "0s - loss: 1.3801 - k_smape: 78.8527 - val_loss: 1.5305 - val_k_smape: 76.8260\n",
      "Epoch 45/60\n",
      "0s - loss: 1.3998 - k_smape: 79.8281 - val_loss: 1.4173 - val_k_smape: 76.8700\n",
      "Epoch 46/60\n",
      "0s - loss: 1.3456 - k_smape: 80.2168 - val_loss: 1.5923 - val_k_smape: 78.9544\n",
      "Epoch 47/60\n",
      "0s - loss: 1.3892 - k_smape: 80.6642 - val_loss: 1.3776 - val_k_smape: 75.2323\n",
      "Epoch 48/60\n",
      "0s - loss: 1.3488 - k_smape: 78.5976 - val_loss: 1.5481 - val_k_smape: 76.6621\n",
      "Epoch 49/60\n",
      "0s - loss: 1.3543 - k_smape: 78.7681 - val_loss: 1.5842 - val_k_smape: 77.4974\n",
      "Epoch 50/60\n",
      "0s - loss: 1.3888 - k_smape: 79.3959 - val_loss: 1.3876 - val_k_smape: 76.7481\n",
      "Epoch 51/60\n",
      "0s - loss: 1.3237 - k_smape: 78.5405 - val_loss: 1.5241 - val_k_smape: 79.7905\n",
      "Epoch 52/60\n",
      "0s - loss: 1.3343 - k_smape: 79.6380 - val_loss: 1.3702 - val_k_smape: 75.2436\n",
      "Epoch 53/60\n",
      "0s - loss: 1.3446 - k_smape: 78.3623 - val_loss: 1.6325 - val_k_smape: 78.2329\n",
      "Epoch 54/60\n",
      "0s - loss: 1.3023 - k_smape: 78.3855 - val_loss: 1.3267 - val_k_smape: 73.5989\n",
      "Epoch 55/60\n",
      "0s - loss: 1.3472 - k_smape: 78.0420 - val_loss: 1.7837 - val_k_smape: 80.1660\n",
      "Epoch 56/60\n",
      "0s - loss: 1.3605 - k_smape: 78.7863 - val_loss: 1.4086 - val_k_smape: 75.0178\n",
      "Epoch 57/60\n",
      "0s - loss: 1.3765 - k_smape: 78.0807 - val_loss: 1.6105 - val_k_smape: 77.1615\n",
      "Epoch 58/60\n",
      "0s - loss: 1.3260 - k_smape: 76.8026 - val_loss: 1.2966 - val_k_smape: 75.3468\n",
      "Epoch 59/60\n",
      "0s - loss: 1.2956 - k_smape: 78.6004 - val_loss: 1.5537 - val_k_smape: 78.9734\n",
      "Epoch 60/60\n",
      "0s - loss: 1.2889 - k_smape: 76.9881 - val_loss: 1.3181 - val_k_smape: 75.7551\n",
      "=== Run: 2 / 3 ===\n",
      "--- Group: 1 / 4 ---\n",
      "Train on 22436 samples, validate on 2493 samples\n",
      "--- Group: 2 / 4 ---\n",
      "Train on 39320 samples, validate on 4369 samples\n",
      "Epoch 1/40\n",
      "9s - loss: 1.3199 - k_smape: 126.0696 - val_loss: 1.0264 - val_k_smape: 117.5404\n",
      "Epoch 2/40\n",
      "8s - loss: 1.2329 - k_smape: 117.1348 - val_loss: 1.0254 - val_k_smape: 114.0794\n",
      "Epoch 3/40\n",
      "8s - loss: 1.2237 - k_smape: 115.6906 - val_loss: 1.0526 - val_k_smape: 113.1316\n",
      "Epoch 4/40\n",
      "8s - loss: 1.2127 - k_smape: 114.7805 - val_loss: 1.0483 - val_k_smape: 119.2506\n",
      "Epoch 5/40\n",
      "8s - loss: 1.2057 - k_smape: 114.2133 - val_loss: 1.0559 - val_k_smape: 116.0248\n",
      "Epoch 6/40\n",
      "8s - loss: 1.2121 - k_smape: 114.2924 - val_loss: 1.0060 - val_k_smape: 116.2461\n",
      "Epoch 7/40\n",
      "8s - loss: 1.2051 - k_smape: 113.9331 - val_loss: 1.0055 - val_k_smape: 117.4295\n",
      "Epoch 8/40\n",
      "8s - loss: 1.1979 - k_smape: 113.5188 - val_loss: 1.0054 - val_k_smape: 116.6387\n",
      "Epoch 9/40\n",
      "8s - loss: 1.1872 - k_smape: 112.8856 - val_loss: 1.0300 - val_k_smape: 118.7962\n",
      "Epoch 10/40\n",
      "8s - loss: 1.1918 - k_smape: 112.8614 - val_loss: 1.0149 - val_k_smape: 118.7754\n",
      "Epoch 11/40\n",
      "8s - loss: 1.1953 - k_smape: 112.7062 - val_loss: 1.0056 - val_k_smape: 118.0728\n",
      "Epoch 12/40\n",
      "8s - loss: 1.1897 - k_smape: 112.6358 - val_loss: 1.0257 - val_k_smape: 116.8885\n",
      "Epoch 13/40\n",
      "8s - loss: 1.1882 - k_smape: 112.3637 - val_loss: 1.0360 - val_k_smape: 120.5570\n",
      "Epoch 14/40\n",
      "8s - loss: 1.1897 - k_smape: 112.5813 - val_loss: 1.0075 - val_k_smape: 115.6710\n",
      "Epoch 15/40\n",
      "8s - loss: 1.1808 - k_smape: 112.3112 - val_loss: 1.0056 - val_k_smape: 113.7929\n",
      "Epoch 16/40\n",
      "8s - loss: 1.1795 - k_smape: 112.1154 - val_loss: 1.0375 - val_k_smape: 121.1826\n",
      "Epoch 17/40\n",
      "8s - loss: 1.1739 - k_smape: 111.8544 - val_loss: 1.0005 - val_k_smape: 113.6350\n",
      "Epoch 18/40\n",
      "8s - loss: 1.1747 - k_smape: 111.8231 - val_loss: 1.0230 - val_k_smape: 117.6307\n",
      "Epoch 19/40\n",
      "8s - loss: 1.1757 - k_smape: 111.5724 - val_loss: 1.0341 - val_k_smape: 119.7025\n",
      "Epoch 20/40\n",
      "8s - loss: 1.1707 - k_smape: 111.1878 - val_loss: 1.0022 - val_k_smape: 114.3095\n",
      "Epoch 21/40\n",
      "8s - loss: 1.1690 - k_smape: 111.1961 - val_loss: 1.0250 - val_k_smape: 121.4263\n",
      "Epoch 22/40\n",
      "8s - loss: 1.1659 - k_smape: 110.9675 - val_loss: 1.0190 - val_k_smape: 116.4360\n",
      "Epoch 23/40\n",
      "8s - loss: 1.1646 - k_smape: 110.9372 - val_loss: 1.0332 - val_k_smape: 118.2092\n",
      "Epoch 24/40\n",
      "8s - loss: 1.1627 - k_smape: 110.8933 - val_loss: 1.0012 - val_k_smape: 115.4032\n",
      "Epoch 25/40\n",
      "8s - loss: 1.1640 - k_smape: 110.7261 - val_loss: 0.9988 - val_k_smape: 115.6052\n",
      "Epoch 26/40\n",
      "8s - loss: 1.1617 - k_smape: 110.8512 - val_loss: 1.0384 - val_k_smape: 121.6865\n",
      "Epoch 27/40\n",
      "9s - loss: 1.1554 - k_smape: 110.6722 - val_loss: 1.0028 - val_k_smape: 115.2401\n",
      "Epoch 28/40\n",
      "9s - loss: 1.1501 - k_smape: 110.2040 - val_loss: 1.0177 - val_k_smape: 114.6527\n",
      "Epoch 29/40\n",
      "9s - loss: 1.1558 - k_smape: 110.4227 - val_loss: 1.0024 - val_k_smape: 116.5042\n",
      "Epoch 30/40\n",
      "9s - loss: 1.1528 - k_smape: 110.3097 - val_loss: 1.0139 - val_k_smape: 116.7212\n",
      "Epoch 31/40\n",
      "9s - loss: 1.1495 - k_smape: 110.3366 - val_loss: 1.0365 - val_k_smape: 119.3553\n",
      "Epoch 32/40\n",
      "9s - loss: 1.1524 - k_smape: 109.9489 - val_loss: 1.0046 - val_k_smape: 115.3386\n",
      "Epoch 33/40\n",
      "9s - loss: 1.1481 - k_smape: 110.0640 - val_loss: 1.0220 - val_k_smape: 119.1155\n",
      "Epoch 34/40\n",
      "9s - loss: 1.1486 - k_smape: 109.8972 - val_loss: 0.9999 - val_k_smape: 116.6695\n",
      "Epoch 35/40\n"
     ]
    },
    {
     "name": "stdout",
     "output_type": "stream",
     "text": [
      "9s - loss: 1.1379 - k_smape: 109.8991 - val_loss: 0.9991 - val_k_smape: 116.3883\n",
      "Epoch 36/40\n",
      "9s - loss: 1.1404 - k_smape: 109.6516 - val_loss: 1.0330 - val_k_smape: 119.3264\n",
      "Epoch 37/40\n",
      "9s - loss: 1.1412 - k_smape: 109.7124 - val_loss: 1.0106 - val_k_smape: 116.3212\n",
      "Epoch 38/40\n",
      "9s - loss: 1.1431 - k_smape: 109.6656 - val_loss: 1.0237 - val_k_smape: 117.8725\n",
      "Epoch 39/40\n",
      "9s - loss: 1.1387 - k_smape: 109.5304 - val_loss: 1.0019 - val_k_smape: 115.4640\n",
      "Epoch 40/40\n",
      "9s - loss: 1.1393 - k_smape: 109.4653 - val_loss: 1.0369 - val_k_smape: 118.7067\n",
      "--- Group: 3 / 4 ---\n",
      "Train on 68083 samples, validate on 7565 samples\n",
      "Epoch 1/40\n",
      "16s - loss: 1.3475 - k_smape: 108.6216 - val_loss: 1.1036 - val_k_smape: 106.3059\n",
      "Epoch 2/40\n",
      "16s - loss: 1.2446 - k_smape: 100.1494 - val_loss: 1.1500 - val_k_smape: 107.1113\n",
      "Epoch 3/40\n",
      "15s - loss: 1.2240 - k_smape: 98.9883 - val_loss: 1.1227 - val_k_smape: 105.6931\n",
      "Epoch 4/40\n",
      "15s - loss: 1.2132 - k_smape: 98.2101 - val_loss: 1.1090 - val_k_smape: 106.2189\n",
      "Epoch 5/40\n",
      "15s - loss: 1.2099 - k_smape: 98.0153 - val_loss: 1.1317 - val_k_smape: 105.0942\n",
      "Epoch 6/40\n",
      "15s - loss: 1.2009 - k_smape: 97.3054 - val_loss: 1.1254 - val_k_smape: 107.2091\n",
      "Epoch 7/40\n",
      "15s - loss: 1.1965 - k_smape: 97.2286 - val_loss: 1.1670 - val_k_smape: 108.4180\n",
      "Epoch 8/40\n",
      "15s - loss: 1.1975 - k_smape: 96.9342 - val_loss: 1.1491 - val_k_smape: 106.8736\n",
      "Epoch 9/40\n",
      "15s - loss: 1.1900 - k_smape: 96.5583 - val_loss: 1.1295 - val_k_smape: 106.3973\n",
      "Epoch 10/40\n",
      "15s - loss: 1.1863 - k_smape: 96.2980 - val_loss: 1.1292 - val_k_smape: 104.9098\n",
      "Epoch 11/40\n",
      "15s - loss: 1.1827 - k_smape: 96.2809 - val_loss: 1.0858 - val_k_smape: 104.0670\n",
      "Epoch 12/40\n",
      "15s - loss: 1.1836 - k_smape: 96.2336 - val_loss: 1.1015 - val_k_smape: 104.1621\n",
      "Epoch 13/40\n",
      "15s - loss: 1.1779 - k_smape: 95.9594 - val_loss: 1.0980 - val_k_smape: 105.3976\n",
      "Epoch 14/40\n",
      "15s - loss: 1.1780 - k_smape: 95.8914 - val_loss: 1.1236 - val_k_smape: 105.0093\n",
      "Epoch 15/40\n",
      "15s - loss: 1.1726 - k_smape: 95.6661 - val_loss: 1.1131 - val_k_smape: 106.1209\n",
      "Epoch 16/40\n",
      "15s - loss: 1.1745 - k_smape: 95.5863 - val_loss: 1.1101 - val_k_smape: 106.0405\n",
      "Epoch 17/40\n",
      "15s - loss: 1.1708 - k_smape: 95.5287 - val_loss: 1.1091 - val_k_smape: 105.7704\n",
      "Epoch 18/40\n",
      "15s - loss: 1.1711 - k_smape: 95.4291 - val_loss: 1.0849 - val_k_smape: 104.2532\n",
      "Epoch 19/40\n",
      "15s - loss: 1.1703 - k_smape: 95.3494 - val_loss: 1.1037 - val_k_smape: 105.8967\n",
      "Epoch 20/40\n",
      "15s - loss: 1.1695 - k_smape: 95.3655 - val_loss: 1.0916 - val_k_smape: 104.7921\n",
      "Epoch 21/40\n",
      "15s - loss: 1.1636 - k_smape: 94.9900 - val_loss: 1.1121 - val_k_smape: 105.7525\n",
      "Epoch 22/40\n",
      "15s - loss: 1.1629 - k_smape: 95.1091 - val_loss: 1.1230 - val_k_smape: 106.3938\n",
      "Epoch 23/40\n",
      "15s - loss: 1.1601 - k_smape: 95.0053 - val_loss: 1.0946 - val_k_smape: 105.7475\n",
      "Epoch 24/40\n",
      "15s - loss: 1.1589 - k_smape: 94.7961 - val_loss: 1.1351 - val_k_smape: 105.9646\n",
      "Epoch 25/40\n",
      "15s - loss: 1.1590 - k_smape: 94.8189 - val_loss: 1.1277 - val_k_smape: 106.3465\n",
      "Epoch 26/40\n",
      "15s - loss: 1.1558 - k_smape: 94.6490 - val_loss: 1.1016 - val_k_smape: 104.0543\n",
      "Epoch 27/40\n",
      "15s - loss: 1.1523 - k_smape: 94.5152 - val_loss: 1.1138 - val_k_smape: 104.6963\n",
      "Epoch 28/40\n",
      "15s - loss: 1.1528 - k_smape: 94.5953 - val_loss: 1.1274 - val_k_smape: 107.5449\n",
      "Epoch 29/40\n",
      "15s - loss: 1.1506 - k_smape: 94.5323 - val_loss: 1.1494 - val_k_smape: 105.8776\n",
      "Epoch 30/40\n",
      "15s - loss: 1.1491 - k_smape: 94.3498 - val_loss: 1.0942 - val_k_smape: 104.7482\n",
      "Epoch 31/40\n",
      "15s - loss: 1.1486 - k_smape: 94.4134 - val_loss: 1.0922 - val_k_smape: 104.9668\n",
      "Epoch 32/40\n",
      "15s - loss: 1.1469 - k_smape: 94.1835 - val_loss: 1.0927 - val_k_smape: 103.2589\n",
      "Epoch 33/40\n",
      "15s - loss: 1.1459 - k_smape: 94.2993 - val_loss: 1.0977 - val_k_smape: 104.6069\n",
      "Epoch 34/40\n",
      "15s - loss: 1.1452 - k_smape: 94.1128 - val_loss: 1.1035 - val_k_smape: 104.7718\n",
      "Epoch 35/40\n",
      "15s - loss: 1.1413 - k_smape: 93.9494 - val_loss: 1.0811 - val_k_smape: 103.1412\n",
      "Epoch 36/40\n",
      "15s - loss: 1.1398 - k_smape: 93.7774 - val_loss: 1.1042 - val_k_smape: 104.4681\n",
      "Epoch 37/40\n",
      "15s - loss: 1.1427 - k_smape: 93.8210 - val_loss: 1.0918 - val_k_smape: 104.1529\n",
      "Epoch 38/40\n",
      "15s - loss: 1.1427 - k_smape: 93.9302 - val_loss: 1.1163 - val_k_smape: 105.0957\n",
      "Epoch 39/40\n",
      "15s - loss: 1.1383 - k_smape: 93.6179 - val_loss: 1.1163 - val_k_smape: 105.6542\n",
      "Epoch 40/40\n",
      "15s - loss: 1.1396 - k_smape: 93.8388 - val_loss: 1.0836 - val_k_smape: 103.8039\n",
      "--- Group: 4 / 4 ---\n",
      "Train on 717 samples, validate on 80 samples\n",
      "Epoch 1/60\n",
      "0s - loss: 3.0612 - k_smape: 156.1727 - val_loss: 3.9375 - val_k_smape: 143.6564\n",
      "Epoch 2/60\n",
      "0s - loss: 2.6762 - k_smape: 139.9801 - val_loss: 3.7388 - val_k_smape: 139.0063\n",
      "Epoch 3/60\n",
      "0s - loss: 2.4294 - k_smape: 132.0837 - val_loss: 3.1138 - val_k_smape: 123.8698\n",
      "Epoch 4/60\n",
      "0s - loss: 2.2873 - k_smape: 125.5392 - val_loss: 3.0468 - val_k_smape: 121.3868\n",
      "Epoch 5/60\n",
      "0s - loss: 2.1826 - k_smape: 119.8541 - val_loss: 2.9214 - val_k_smape: 115.7560\n",
      "Epoch 6/60\n",
      "0s - loss: 2.0433 - k_smape: 114.6071 - val_loss: 2.6782 - val_k_smape: 107.1951\n",
      "Epoch 7/60\n",
      "0s - loss: 1.9758 - k_smape: 109.3992 - val_loss: 2.4379 - val_k_smape: 103.9262\n",
      "Epoch 8/60\n",
      "0s - loss: 1.9159 - k_smape: 107.1386 - val_loss: 2.4642 - val_k_smape: 101.2000\n",
      "Epoch 9/60\n",
      "0s - loss: 1.8246 - k_smape: 105.0056 - val_loss: 2.0962 - val_k_smape: 95.5330\n",
      "Epoch 10/60\n",
      "0s - loss: 1.7952 - k_smape: 101.2704 - val_loss: 2.1795 - val_k_smape: 94.9230\n",
      "Epoch 11/60\n",
      "0s - loss: 1.7984 - k_smape: 98.9198 - val_loss: 2.0741 - val_k_smape: 96.1571\n",
      "Epoch 12/60\n",
      "0s - loss: 1.7418 - k_smape: 99.0444 - val_loss: 1.7169 - val_k_smape: 89.9577\n",
      "Epoch 13/60\n",
      "0s - loss: 1.7389 - k_smape: 100.0056 - val_loss: 1.7951 - val_k_smape: 90.9562\n",
      "Epoch 14/60\n",
      "0s - loss: 1.6757 - k_smape: 95.9129 - val_loss: 2.0527 - val_k_smape: 89.5946\n",
      "Epoch 15/60\n",
      "0s - loss: 1.6961 - k_smape: 94.6979 - val_loss: 2.0390 - val_k_smape: 93.5130\n",
      "Epoch 16/60\n",
      "0s - loss: 1.6691 - k_smape: 94.8687 - val_loss: 1.6053 - val_k_smape: 83.9493\n",
      "Epoch 17/60\n",
      "0s - loss: 1.6359 - k_smape: 92.7391 - val_loss: 1.7982 - val_k_smape: 87.6391\n",
      "Epoch 18/60\n",
      "0s - loss: 1.6142 - k_smape: 91.4954 - val_loss: 1.7592 - val_k_smape: 87.6476\n",
      "Epoch 19/60\n",
      "0s - loss: 1.5253 - k_smape: 91.0287 - val_loss: 1.6349 - val_k_smape: 84.6242\n",
      "Epoch 20/60\n",
      "0s - loss: 1.5587 - k_smape: 89.8807 - val_loss: 1.5477 - val_k_smape: 84.6952\n",
      "Epoch 21/60\n",
      "0s - loss: 1.5927 - k_smape: 91.9314 - val_loss: 1.7791 - val_k_smape: 87.2050\n",
      "Epoch 22/60\n",
      "0s - loss: 1.5289 - k_smape: 88.5862 - val_loss: 1.6680 - val_k_smape: 82.7216\n",
      "Epoch 23/60\n",
      "0s - loss: 1.5436 - k_smape: 87.3824 - val_loss: 1.6154 - val_k_smape: 85.9798\n",
      "Epoch 24/60\n",
      "0s - loss: 1.5265 - k_smape: 89.3149 - val_loss: 1.7015 - val_k_smape: 84.3989\n",
      "Epoch 25/60\n",
      "0s - loss: 1.5194 - k_smape: 86.3160 - val_loss: 1.6523 - val_k_smape: 83.5564\n",
      "Epoch 26/60\n",
      "0s - loss: 1.4689 - k_smape: 87.3658 - val_loss: 1.5234 - val_k_smape: 83.1299\n",
      "Epoch 27/60\n",
      "0s - loss: 1.5173 - k_smape: 87.5147 - val_loss: 1.5385 - val_k_smape: 80.4687\n",
      "Epoch 28/60\n",
      "0s - loss: 1.4871 - k_smape: 85.1540 - val_loss: 1.8971 - val_k_smape: 84.1253\n",
      "Epoch 29/60\n",
      "0s - loss: 1.4611 - k_smape: 85.1352 - val_loss: 1.5966 - val_k_smape: 82.1857\n",
      "Epoch 30/60\n",
      "0s - loss: 1.4554 - k_smape: 84.1764 - val_loss: 1.6577 - val_k_smape: 80.8114\n",
      "Epoch 31/60\n",
      "0s - loss: 1.4653 - k_smape: 83.7841 - val_loss: 1.6690 - val_k_smape: 84.3675\n",
      "Epoch 32/60\n",
      "0s - loss: 1.4523 - k_smape: 87.4472 - val_loss: 1.5891 - val_k_smape: 82.8927\n",
      "Epoch 33/60\n",
      "0s - loss: 1.4673 - k_smape: 84.8408 - val_loss: 1.3620 - val_k_smape: 75.9514\n",
      "Epoch 34/60\n",
      "0s - loss: 1.4989 - k_smape: 83.6563 - val_loss: 1.7378 - val_k_smape: 82.6527\n",
      "Epoch 35/60\n",
      "0s - loss: 1.4557 - k_smape: 82.3648 - val_loss: 1.5532 - val_k_smape: 84.0278\n",
      "Epoch 36/60\n",
      "0s - loss: 1.4190 - k_smape: 85.1201 - val_loss: 1.4067 - val_k_smape: 78.6626\n",
      "Epoch 37/60\n",
      "0s - loss: 1.4019 - k_smape: 81.0547 - val_loss: 1.5842 - val_k_smape: 79.8525\n",
      "Epoch 38/60\n",
      "0s - loss: 1.4543 - k_smape: 83.8380 - val_loss: 1.5133 - val_k_smape: 82.2253\n",
      "Epoch 39/60\n",
      "0s - loss: 1.4258 - k_smape: 83.3329 - val_loss: 1.4562 - val_k_smape: 78.7186\n",
      "Epoch 40/60\n",
      "0s - loss: 1.3841 - k_smape: 81.3054 - val_loss: 1.5727 - val_k_smape: 84.8025\n",
      "Epoch 41/60\n",
      "0s - loss: 1.3750 - k_smape: 84.7754 - val_loss: 1.4209 - val_k_smape: 79.1178\n",
      "Epoch 42/60\n",
      "0s - loss: 1.3717 - k_smape: 79.9436 - val_loss: 1.5957 - val_k_smape: 79.7399\n",
      "Epoch 43/60\n"
     ]
    },
    {
     "name": "stdout",
     "output_type": "stream",
     "text": [
      "0s - loss: 1.3814 - k_smape: 81.2677 - val_loss: 1.6438 - val_k_smape: 82.2129\n",
      "Epoch 44/60\n",
      "0s - loss: 1.3845 - k_smape: 81.9235 - val_loss: 1.3965 - val_k_smape: 78.5073\n",
      "Epoch 45/60\n",
      "0s - loss: 1.3536 - k_smape: 80.7165 - val_loss: 1.3959 - val_k_smape: 78.6167\n",
      "Epoch 46/60\n",
      "0s - loss: 1.3959 - k_smape: 81.2685 - val_loss: 1.9682 - val_k_smape: 83.8575\n",
      "Epoch 47/60\n",
      "0s - loss: 1.4333 - k_smape: 82.2642 - val_loss: 1.4281 - val_k_smape: 77.2786\n",
      "Epoch 48/60\n",
      "0s - loss: 1.4202 - k_smape: 81.5491 - val_loss: 1.8843 - val_k_smape: 84.8791\n",
      "Epoch 49/60\n",
      "0s - loss: 1.3657 - k_smape: 81.6886 - val_loss: 1.5061 - val_k_smape: 79.6593\n",
      "Epoch 50/60\n",
      "0s - loss: 1.3080 - k_smape: 79.8654 - val_loss: 1.3352 - val_k_smape: 77.4229\n",
      "Epoch 51/60\n",
      "0s - loss: 1.3375 - k_smape: 79.6333 - val_loss: 1.5345 - val_k_smape: 80.9649\n",
      "Epoch 52/60\n",
      "0s - loss: 1.3383 - k_smape: 81.2679 - val_loss: 1.3528 - val_k_smape: 76.9393\n",
      "Epoch 53/60\n",
      "0s - loss: 1.3402 - k_smape: 78.4431 - val_loss: 1.3558 - val_k_smape: 76.5854\n",
      "Epoch 54/60\n",
      "0s - loss: 1.3706 - k_smape: 79.7622 - val_loss: 1.7317 - val_k_smape: 81.2396\n",
      "Epoch 55/60\n",
      "0s - loss: 1.3154 - k_smape: 79.3471 - val_loss: 1.3336 - val_k_smape: 76.5015\n",
      "Epoch 56/60\n",
      "0s - loss: 1.3310 - k_smape: 79.1110 - val_loss: 1.5544 - val_k_smape: 77.8945\n",
      "Epoch 57/60\n",
      "0s - loss: 1.3593 - k_smape: 78.2944 - val_loss: 1.3259 - val_k_smape: 78.8189\n",
      "Epoch 58/60\n",
      "0s - loss: 1.3294 - k_smape: 80.4398 - val_loss: 1.5093 - val_k_smape: 79.9684\n",
      "Epoch 59/60\n",
      "0s - loss: 1.3040 - k_smape: 78.8109 - val_loss: 1.5358 - val_k_smape: 79.3413\n",
      "Epoch 60/60\n",
      "0s - loss: 1.3341 - k_smape: 78.2350 - val_loss: 1.3789 - val_k_smape: 77.5129\n",
      "=== Run: 3 / 3 ===\n",
      "--- Group: 1 / 4 ---\n",
      "Train on 22436 samples, validate on 2493 samples\n",
      "--- Group: 2 / 4 ---\n",
      "Train on 39320 samples, validate on 4369 samples\n",
      "Epoch 1/40\n",
      "9s - loss: 1.3186 - k_smape: 126.4319 - val_loss: 1.0285 - val_k_smape: 117.5313\n",
      "Epoch 2/40\n",
      "8s - loss: 1.2377 - k_smape: 117.5660 - val_loss: 1.0251 - val_k_smape: 118.3895\n",
      "Epoch 3/40\n",
      "8s - loss: 1.2202 - k_smape: 115.7419 - val_loss: 1.0165 - val_k_smape: 116.0739\n",
      "Epoch 4/40\n",
      "8s - loss: 1.2088 - k_smape: 114.8961 - val_loss: 1.0161 - val_k_smape: 118.6094\n",
      "Epoch 5/40\n",
      "8s - loss: 1.2097 - k_smape: 114.5822 - val_loss: 1.0482 - val_k_smape: 123.5102\n",
      "Epoch 6/40\n",
      "8s - loss: 1.2035 - k_smape: 114.2754 - val_loss: 1.0318 - val_k_smape: 120.6361\n",
      "Epoch 7/40\n",
      "8s - loss: 1.1959 - k_smape: 113.5821 - val_loss: 1.0021 - val_k_smape: 115.1550\n",
      "Epoch 8/40\n",
      "8s - loss: 1.1969 - k_smape: 113.2482 - val_loss: 1.0150 - val_k_smape: 116.3638\n",
      "Epoch 9/40\n",
      "8s - loss: 1.1925 - k_smape: 113.0098 - val_loss: 1.0808 - val_k_smape: 123.9358\n",
      "Epoch 10/40\n",
      "8s - loss: 1.1961 - k_smape: 113.0656 - val_loss: 1.0244 - val_k_smape: 115.3254\n",
      "Epoch 11/40\n",
      "8s - loss: 1.1816 - k_smape: 112.5104 - val_loss: 1.0485 - val_k_smape: 119.1943\n",
      "Epoch 12/40\n",
      "8s - loss: 1.1835 - k_smape: 112.4664 - val_loss: 1.0194 - val_k_smape: 114.8763\n",
      "Epoch 13/40\n",
      "8s - loss: 1.1872 - k_smape: 112.8193 - val_loss: 1.0163 - val_k_smape: 112.9998\n",
      "Epoch 14/40\n",
      "8s - loss: 1.1826 - k_smape: 112.1329 - val_loss: 1.0455 - val_k_smape: 122.3215\n",
      "Epoch 15/40\n",
      "8s - loss: 1.1838 - k_smape: 112.2125 - val_loss: 1.0567 - val_k_smape: 120.8069\n",
      "Epoch 16/40\n",
      "8s - loss: 1.1782 - k_smape: 112.0238 - val_loss: 1.0513 - val_k_smape: 120.7180\n",
      "Epoch 17/40\n",
      "8s - loss: 1.1762 - k_smape: 111.9694 - val_loss: 1.0320 - val_k_smape: 117.0084\n",
      "Epoch 18/40\n",
      "8s - loss: 1.1721 - k_smape: 111.5856 - val_loss: 1.0358 - val_k_smape: 116.6910\n",
      "Epoch 19/40\n",
      "8s - loss: 1.1710 - k_smape: 111.7059 - val_loss: 1.0501 - val_k_smape: 118.9659\n",
      "Epoch 20/40\n",
      "8s - loss: 1.1690 - k_smape: 111.5602 - val_loss: 1.0578 - val_k_smape: 122.5484\n",
      "Epoch 21/40\n",
      "8s - loss: 1.1720 - k_smape: 111.4891 - val_loss: 1.0534 - val_k_smape: 118.6613\n",
      "Epoch 22/40\n",
      "8s - loss: 1.1700 - k_smape: 111.5303 - val_loss: 1.0266 - val_k_smape: 116.4740\n",
      "Epoch 23/40\n",
      "8s - loss: 1.1657 - k_smape: 111.2958 - val_loss: 1.0415 - val_k_smape: 118.3473\n",
      "Epoch 24/40\n",
      "8s - loss: 1.1609 - k_smape: 111.1216 - val_loss: 1.0371 - val_k_smape: 116.1552\n",
      "Epoch 25/40\n",
      "9s - loss: 1.1570 - k_smape: 110.7959 - val_loss: 1.0472 - val_k_smape: 115.2553\n",
      "Epoch 26/40\n",
      "9s - loss: 1.1672 - k_smape: 111.4211 - val_loss: 1.0742 - val_k_smape: 122.5640\n",
      "Epoch 27/40\n",
      "8s - loss: 1.1577 - k_smape: 111.0741 - val_loss: 1.0384 - val_k_smape: 118.2426\n",
      "Epoch 28/40\n",
      "8s - loss: 1.1507 - k_smape: 110.8072 - val_loss: 1.0300 - val_k_smape: 117.8442\n",
      "Epoch 29/40\n",
      "8s - loss: 1.1525 - k_smape: 110.7098 - val_loss: 1.0369 - val_k_smape: 117.8945\n",
      "Epoch 30/40\n",
      "8s - loss: 1.1518 - k_smape: 110.6825 - val_loss: 1.0185 - val_k_smape: 115.5408\n",
      "Epoch 31/40\n",
      "8s - loss: 1.1509 - k_smape: 110.5645 - val_loss: 1.0261 - val_k_smape: 116.5946\n",
      "Epoch 32/40\n",
      "8s - loss: 1.1667 - k_smape: 111.4227 - val_loss: 1.0274 - val_k_smape: 119.5991\n",
      "Epoch 33/40\n",
      "8s - loss: 1.1473 - k_smape: 110.4377 - val_loss: 1.0502 - val_k_smape: 120.4209\n",
      "Epoch 34/40\n",
      "8s - loss: 1.1428 - k_smape: 110.1933 - val_loss: 1.0174 - val_k_smape: 116.3755\n",
      "Epoch 35/40\n",
      "8s - loss: 1.1415 - k_smape: 110.3049 - val_loss: 1.0674 - val_k_smape: 121.1995\n",
      "Epoch 36/40\n",
      "8s - loss: 1.1438 - k_smape: 110.1447 - val_loss: 1.0349 - val_k_smape: 118.1986\n",
      "Epoch 37/40\n",
      "8s - loss: 1.1419 - k_smape: 110.0509 - val_loss: 1.0443 - val_k_smape: 119.3048\n",
      "Epoch 38/40\n",
      "8s - loss: 1.1397 - k_smape: 109.9618 - val_loss: 1.0555 - val_k_smape: 120.3386\n",
      "Epoch 39/40\n",
      "8s - loss: 1.1410 - k_smape: 109.9712 - val_loss: 1.0271 - val_k_smape: 116.6028\n",
      "Epoch 40/40\n",
      "8s - loss: 1.1370 - k_smape: 109.8652 - val_loss: 1.0108 - val_k_smape: 113.7423\n",
      "--- Group: 3 / 4 ---\n",
      "Train on 68083 samples, validate on 7565 samples\n",
      "Epoch 1/40\n",
      "15s - loss: 1.3449 - k_smape: 108.3824 - val_loss: 1.1053 - val_k_smape: 105.9899\n",
      "Epoch 2/40\n",
      "15s - loss: 1.2370 - k_smape: 100.0297 - val_loss: 1.1086 - val_k_smape: 106.8017\n",
      "Epoch 3/40\n",
      "15s - loss: 1.2197 - k_smape: 98.6410 - val_loss: 1.0757 - val_k_smape: 106.6080\n",
      "Epoch 4/40\n",
      "15s - loss: 1.2138 - k_smape: 98.1701 - val_loss: 1.0730 - val_k_smape: 103.6012\n",
      "Epoch 5/40\n",
      "15s - loss: 1.2081 - k_smape: 97.4111 - val_loss: 1.0669 - val_k_smape: 104.4769\n",
      "Epoch 6/40\n",
      "15s - loss: 1.1998 - k_smape: 97.2098 - val_loss: 1.0802 - val_k_smape: 104.6116\n",
      "Epoch 7/40\n",
      "15s - loss: 1.1962 - k_smape: 96.7374 - val_loss: 1.0876 - val_k_smape: 105.3085\n",
      "Epoch 8/40\n",
      "15s - loss: 1.1963 - k_smape: 96.6385 - val_loss: 1.0643 - val_k_smape: 103.6334\n",
      "Epoch 9/40\n",
      "15s - loss: 1.1846 - k_smape: 96.3582 - val_loss: 1.0656 - val_k_smape: 103.2921\n",
      "Epoch 10/40\n",
      "15s - loss: 1.1855 - k_smape: 96.1757 - val_loss: 1.0887 - val_k_smape: 105.3186\n",
      "Epoch 11/40\n",
      "15s - loss: 1.1818 - k_smape: 95.9878 - val_loss: 1.0976 - val_k_smape: 105.6091\n",
      "Epoch 12/40\n",
      "15s - loss: 1.1784 - k_smape: 95.9101 - val_loss: 1.0964 - val_k_smape: 104.9572\n",
      "Epoch 13/40\n",
      "15s - loss: 1.1756 - k_smape: 95.6260 - val_loss: 1.0732 - val_k_smape: 104.9992\n",
      "Epoch 14/40\n",
      "15s - loss: 1.1743 - k_smape: 95.6728 - val_loss: 1.0622 - val_k_smape: 104.2170\n",
      "Epoch 15/40\n",
      "15s - loss: 1.1739 - k_smape: 95.3973 - val_loss: 1.0523 - val_k_smape: 101.9409\n",
      "Epoch 16/40\n",
      "15s - loss: 1.1682 - k_smape: 95.0536 - val_loss: 1.0657 - val_k_smape: 103.8416\n",
      "Epoch 17/40\n",
      "15s - loss: 1.1703 - k_smape: 95.1910 - val_loss: 1.0591 - val_k_smape: 102.8335\n",
      "Epoch 18/40\n",
      "15s - loss: 1.1659 - k_smape: 94.9017 - val_loss: 1.0495 - val_k_smape: 102.9965\n",
      "Epoch 19/40\n",
      "15s - loss: 1.1639 - k_smape: 94.8888 - val_loss: 1.0694 - val_k_smape: 105.2314\n",
      "Epoch 20/40\n",
      "15s - loss: 1.1616 - k_smape: 94.8972 - val_loss: 1.0484 - val_k_smape: 102.1715\n",
      "Epoch 21/40\n",
      "15s - loss: 1.1613 - k_smape: 94.8051 - val_loss: 1.0562 - val_k_smape: 104.3291\n",
      "Epoch 22/40\n",
      "15s - loss: 1.1565 - k_smape: 94.6149 - val_loss: 1.0753 - val_k_smape: 103.8946\n",
      "Epoch 23/40\n",
      "15s - loss: 1.1575 - k_smape: 94.4987 - val_loss: 1.0624 - val_k_smape: 103.8506\n",
      "Epoch 24/40\n",
      "15s - loss: 1.1553 - k_smape: 94.5623 - val_loss: 1.0601 - val_k_smape: 104.4993\n",
      "Epoch 25/40\n",
      "15s - loss: 1.1528 - k_smape: 94.1809 - val_loss: 1.0552 - val_k_smape: 102.1974\n",
      "Epoch 26/40\n",
      "15s - loss: 1.1484 - k_smape: 94.3558 - val_loss: 1.0597 - val_k_smape: 103.3704\n",
      "Epoch 27/40\n",
      "15s - loss: 1.1482 - k_smape: 94.0570 - val_loss: 1.0745 - val_k_smape: 104.4315\n",
      "Epoch 28/40\n",
      "15s - loss: 1.1470 - k_smape: 94.0248 - val_loss: 1.0456 - val_k_smape: 104.5945\n",
      "Epoch 29/40\n",
      "15s - loss: 1.1476 - k_smape: 94.0405 - val_loss: 1.0738 - val_k_smape: 103.6122\n",
      "Epoch 30/40\n"
     ]
    },
    {
     "name": "stdout",
     "output_type": "stream",
     "text": [
      "15s - loss: 1.1439 - k_smape: 93.9534 - val_loss: 1.0705 - val_k_smape: 102.2902\n",
      "Epoch 31/40\n",
      "15s - loss: 1.1488 - k_smape: 94.1064 - val_loss: 1.0652 - val_k_smape: 104.2424\n",
      "Epoch 32/40\n",
      "15s - loss: 1.1389 - k_smape: 93.8614 - val_loss: 1.1058 - val_k_smape: 105.6681\n",
      "Epoch 33/40\n",
      "15s - loss: 1.1431 - k_smape: 93.7275 - val_loss: 1.0422 - val_k_smape: 101.9959\n",
      "Epoch 34/40\n",
      "15s - loss: 1.1421 - k_smape: 93.8368 - val_loss: 1.0686 - val_k_smape: 104.0703\n",
      "Epoch 35/40\n",
      "15s - loss: 1.1360 - k_smape: 93.4830 - val_loss: 1.0495 - val_k_smape: 103.1012\n",
      "Epoch 36/40\n",
      "15s - loss: 1.1379 - k_smape: 93.6589 - val_loss: 1.0716 - val_k_smape: 104.1005\n",
      "Epoch 37/40\n",
      "15s - loss: 1.1370 - k_smape: 93.5510 - val_loss: 1.0487 - val_k_smape: 101.6727\n",
      "Epoch 38/40\n",
      "15s - loss: 1.1351 - k_smape: 93.4594 - val_loss: 1.0709 - val_k_smape: 105.0876\n",
      "Epoch 39/40\n",
      "15s - loss: 1.1347 - k_smape: 93.4672 - val_loss: 1.0387 - val_k_smape: 102.4108\n",
      "Epoch 40/40\n",
      "16s - loss: 1.1324 - k_smape: 93.3869 - val_loss: 1.0546 - val_k_smape: 102.1063\n",
      "--- Group: 4 / 4 ---\n",
      "Train on 717 samples, validate on 80 samples\n",
      "Epoch 1/60\n",
      "0s - loss: 3.0654 - k_smape: 157.1297 - val_loss: 3.6923 - val_k_smape: 138.8807\n",
      "Epoch 2/60\n",
      "0s - loss: 2.6504 - k_smape: 136.7049 - val_loss: 3.6825 - val_k_smape: 139.0353\n",
      "Epoch 3/60\n",
      "0s - loss: 2.3983 - k_smape: 132.8698 - val_loss: 2.9452 - val_k_smape: 122.7550\n",
      "Epoch 4/60\n",
      "0s - loss: 2.2694 - k_smape: 123.4417 - val_loss: 3.1162 - val_k_smape: 122.3226\n",
      "Epoch 5/60\n",
      "0s - loss: 2.1321 - k_smape: 119.7982 - val_loss: 2.7337 - val_k_smape: 113.0210\n",
      "Epoch 6/60\n",
      "0s - loss: 2.0520 - k_smape: 115.3055 - val_loss: 2.6076 - val_k_smape: 110.5533\n",
      "Epoch 7/60\n",
      "0s - loss: 2.0029 - k_smape: 111.3172 - val_loss: 2.4249 - val_k_smape: 105.2222\n",
      "Epoch 8/60\n",
      "0s - loss: 1.9232 - k_smape: 107.3766 - val_loss: 2.7196 - val_k_smape: 108.0363\n",
      "Epoch 9/60\n",
      "0s - loss: 1.8765 - k_smape: 106.3065 - val_loss: 2.0561 - val_k_smape: 99.1628\n",
      "Epoch 10/60\n",
      "0s - loss: 1.8418 - k_smape: 104.2693 - val_loss: 1.9332 - val_k_smape: 95.2523\n",
      "Epoch 11/60\n",
      "0s - loss: 1.7919 - k_smape: 99.4867 - val_loss: 2.1067 - val_k_smape: 94.9379\n",
      "Epoch 12/60\n",
      "0s - loss: 1.7276 - k_smape: 98.8712 - val_loss: 2.0777 - val_k_smape: 96.1586\n",
      "Epoch 13/60\n",
      "0s - loss: 1.7197 - k_smape: 99.7872 - val_loss: 1.7145 - val_k_smape: 91.2009\n",
      "Epoch 14/60\n",
      "0s - loss: 1.6840 - k_smape: 97.5062 - val_loss: 1.7049 - val_k_smape: 87.8991\n",
      "Epoch 15/60\n",
      "0s - loss: 1.6925 - k_smape: 94.7492 - val_loss: 1.9259 - val_k_smape: 88.8711\n",
      "Epoch 16/60\n",
      "0s - loss: 1.6389 - k_smape: 94.5039 - val_loss: 1.6738 - val_k_smape: 87.8620\n",
      "Epoch 17/60\n",
      "0s - loss: 1.6315 - k_smape: 94.0111 - val_loss: 1.7736 - val_k_smape: 87.3079\n",
      "Epoch 18/60\n",
      "0s - loss: 1.6055 - k_smape: 92.6763 - val_loss: 1.5085 - val_k_smape: 83.9413\n",
      "Epoch 19/60\n",
      "0s - loss: 1.6715 - k_smape: 93.2360 - val_loss: 1.7550 - val_k_smape: 87.8035\n",
      "Epoch 20/60\n",
      "0s - loss: 1.6093 - k_smape: 90.4574 - val_loss: 1.8792 - val_k_smape: 88.0781\n",
      "Epoch 21/60\n",
      "0s - loss: 1.5660 - k_smape: 90.6144 - val_loss: 1.4507 - val_k_smape: 82.9436\n",
      "Epoch 22/60\n",
      "0s - loss: 1.5766 - k_smape: 90.1848 - val_loss: 1.8577 - val_k_smape: 87.6120\n",
      "Epoch 23/60\n",
      "0s - loss: 1.5170 - k_smape: 88.5011 - val_loss: 2.1150 - val_k_smape: 90.2543\n",
      "Epoch 24/60\n",
      "0s - loss: 1.5954 - k_smape: 89.1550 - val_loss: 1.5464 - val_k_smape: 83.2559\n",
      "Epoch 25/60\n",
      "0s - loss: 1.5375 - k_smape: 91.0209 - val_loss: 1.5181 - val_k_smape: 81.7692\n",
      "Epoch 26/60\n",
      "0s - loss: 1.5699 - k_smape: 86.5960 - val_loss: 2.0291 - val_k_smape: 88.4603\n",
      "Epoch 27/60\n",
      "0s - loss: 1.5847 - k_smape: 89.1219 - val_loss: 1.4573 - val_k_smape: 79.8383\n",
      "Epoch 28/60\n",
      "0s - loss: 1.5333 - k_smape: 85.7626 - val_loss: 1.5744 - val_k_smape: 82.6045\n",
      "Epoch 29/60\n",
      "0s - loss: 1.5106 - k_smape: 86.2489 - val_loss: 1.7961 - val_k_smape: 86.7243\n",
      "Epoch 30/60\n",
      "0s - loss: 1.5226 - k_smape: 87.3735 - val_loss: 1.4902 - val_k_smape: 78.6263\n",
      "Epoch 31/60\n",
      "0s - loss: 1.4886 - k_smape: 84.6404 - val_loss: 1.6441 - val_k_smape: 82.1054\n",
      "Epoch 32/60\n",
      "0s - loss: 1.4795 - k_smape: 85.6152 - val_loss: 1.4818 - val_k_smape: 79.3376\n",
      "Epoch 33/60\n",
      "0s - loss: 1.4469 - k_smape: 83.6437 - val_loss: 1.5727 - val_k_smape: 79.1414\n",
      "Epoch 34/60\n",
      "0s - loss: 1.4680 - k_smape: 83.2136 - val_loss: 1.4307 - val_k_smape: 81.6417\n",
      "Epoch 35/60\n",
      "0s - loss: 1.4278 - k_smape: 84.9227 - val_loss: 1.4203 - val_k_smape: 79.1729\n",
      "Epoch 36/60\n",
      "0s - loss: 1.4420 - k_smape: 83.2367 - val_loss: 1.6753 - val_k_smape: 81.6421\n",
      "Epoch 37/60\n",
      "0s - loss: 1.4250 - k_smape: 82.7166 - val_loss: 1.4682 - val_k_smape: 79.4971\n",
      "Epoch 38/60\n",
      "0s - loss: 1.3984 - k_smape: 82.9970 - val_loss: 1.4307 - val_k_smape: 77.9626\n",
      "Epoch 39/60\n",
      "0s - loss: 1.4071 - k_smape: 80.7199 - val_loss: 1.7835 - val_k_smape: 82.5357\n",
      "Epoch 40/60\n",
      "0s - loss: 1.4278 - k_smape: 82.9408 - val_loss: 1.4670 - val_k_smape: 79.4987\n",
      "Epoch 41/60\n",
      "0s - loss: 1.4421 - k_smape: 83.4528 - val_loss: 1.4225 - val_k_smape: 78.6624\n",
      "Epoch 42/60\n",
      "0s - loss: 1.4064 - k_smape: 81.6158 - val_loss: 1.5716 - val_k_smape: 78.7074\n",
      "Epoch 43/60\n",
      "0s - loss: 1.3557 - k_smape: 79.6578 - val_loss: 1.3497 - val_k_smape: 77.9671\n",
      "Epoch 44/60\n",
      "0s - loss: 1.4239 - k_smape: 83.2770 - val_loss: 1.4902 - val_k_smape: 78.9565\n",
      "Epoch 45/60\n",
      "0s - loss: 1.4003 - k_smape: 80.2012 - val_loss: 1.5483 - val_k_smape: 79.1648\n",
      "Epoch 46/60\n",
      "0s - loss: 1.3689 - k_smape: 81.2565 - val_loss: 1.4608 - val_k_smape: 79.0495\n",
      "Epoch 47/60\n",
      "0s - loss: 1.4198 - k_smape: 82.1682 - val_loss: 1.4606 - val_k_smape: 79.1698\n",
      "Epoch 48/60\n",
      "0s - loss: 1.3999 - k_smape: 79.8284 - val_loss: 1.7168 - val_k_smape: 78.6193\n",
      "Epoch 49/60\n",
      "0s - loss: 1.4368 - k_smape: 80.3500 - val_loss: 1.3772 - val_k_smape: 75.3787\n",
      "Epoch 50/60\n",
      "0s - loss: 1.3606 - k_smape: 79.5841 - val_loss: 1.6853 - val_k_smape: 79.6622\n",
      "Epoch 51/60\n",
      "0s - loss: 1.4056 - k_smape: 80.2689 - val_loss: 1.4595 - val_k_smape: 78.7055\n",
      "Epoch 52/60\n",
      "0s - loss: 1.4148 - k_smape: 82.0306 - val_loss: 1.4220 - val_k_smape: 77.9766\n",
      "Epoch 53/60\n",
      "0s - loss: 1.3744 - k_smape: 81.4597 - val_loss: 1.5039 - val_k_smape: 78.5018\n",
      "Epoch 54/60\n",
      "0s - loss: 1.3092 - k_smape: 79.2133 - val_loss: 1.4285 - val_k_smape: 75.7230\n",
      "Epoch 55/60\n",
      "0s - loss: 1.3243 - k_smape: 78.9424 - val_loss: 1.3857 - val_k_smape: 75.9538\n",
      "Epoch 56/60\n",
      "0s - loss: 1.3183 - k_smape: 78.5373 - val_loss: 1.4892 - val_k_smape: 77.2484\n",
      "Epoch 57/60\n",
      "0s - loss: 1.3196 - k_smape: 79.5722 - val_loss: 1.3373 - val_k_smape: 76.4770\n",
      "Epoch 58/60\n",
      "0s - loss: 1.3865 - k_smape: 79.3377 - val_loss: 1.9229 - val_k_smape: 82.2185\n",
      "Epoch 59/60\n",
      "0s - loss: 1.3668 - k_smape: 79.3980 - val_loss: 1.4775 - val_k_smape: 77.4343\n",
      "Epoch 60/60\n",
      "0s - loss: 1.3233 - k_smape: 78.8572 - val_loss: 1.3692 - val_k_smape: 73.7302\n",
      "Wall time: 49min 2s\n"
     ]
    }
   ],
   "source": [
    "%%time\n",
    "hists_ens = []\n",
    "for run, models in zip(ens_list, models_ens):\n",
    "    print('=== Run:', run+1, '/', len(ens_list), '===')\n",
    "    hists = []\n",
    "    for (gp, model, X_in, Y_in, epochs, A_in) in zip(gp_list, models,\n",
    "                                       X_input_list, Y_input_list, \n",
    "                                       epochs_list, A_input_list):\n",
    "        print('--- Group:', gp+1, '/', len(gp_list), '---')\n",
    "        hist = model.fit([X_in, A_in], Y_in, batch_size=128, \n",
    "                         epochs=epochs, \n",
    "                         validation_split=0.1, verbose=2)\n",
    "        #validation_data=(X_val, Y_val))\n",
    "        hists.append(hist)\n",
    "    hists_ens.append(hists)"
   ]
  },
  {
   "cell_type": "markdown",
   "metadata": {
    "collapsed": true,
    "scrolled": true
   },
   "source": [
    "%%time\n",
    "hists_ens = []\n",
    "for run, models in zip(ens_list, models_ens):\n",
    "    print('=== Run:', run+1, '/', len(ens_list), '===')\n",
    "    hists = []\n",
    "    for (gp, model, X_in, Y_in, epochs, A_in, Z_in) in zip(gp_list, models,\n",
    "                                       X_input_list, Y_input_list, \n",
    "                                       epochs_list, A_input_list, Z_input_list):\n",
    "        print('--- Group:', gp+1, '/', len(gp_list), '---')\n",
    "        hist = model.fit([X_in, A_in, Z_in], Y_in, batch_size=128, \n",
    "                         epochs=epochs, \n",
    "                         validation_split=0.1, verbose=2)\n",
    "        #validation_data=(X_val, Y_val))\n",
    "        hists.append(hist)\n",
    "    hists_ens.append(hists)"
   ]
  },
  {
   "cell_type": "markdown",
   "metadata": {},
   "source": [
    "### Training History"
   ]
  },
  {
   "cell_type": "code",
   "execution_count": 99,
   "metadata": {
    "scrolled": true
   },
   "outputs": [
    {
     "data": {
      "image/png": "[encoded data removed]",
      "text/plain": [
       "<matplotlib.figure.Figure at 0x894bac18>"
      ]
     },
     "metadata": {},
     "output_type": "display_data"
    },
    {
     "data": {
      "image/png": "[encoded data removed]",
      "text/plain": [
       "<matplotlib.figure.Figure at 0x197b4208>"
      ]
     },
     "metadata": {},
     "output_type": "display_data"
    },
    {
     "data": {
      "image/png": "[encoded data removed]",
      "text/plain": [
       "<matplotlib.figure.Figure at 0x9533f128>"
      ]
     },
     "metadata": {},
     "output_type": "display_data"
    }
   ],
   "source": [
    "for gp, ep in zip(gp_list, epochs_list):\n",
    "    if ep:\n",
    "        for run in ens_list:\n",
    "            hist = hists_ens[run][gp]\n",
    "            plt.plot(hist.history['loss'], label=str(run))\n",
    "        plt.title('Mean Squared Error (Train) - Group ' + str(gp))\n",
    "        plt.legend(); plt.show()        "
   ]
  },
  {
   "cell_type": "code",
   "execution_count": 100,
   "metadata": {
    "scrolled": true
   },
   "outputs": [
    {
     "data": {
      "image/png": "[encoded data removed]",
      "text/plain": [
       "<matplotlib.figure.Figure at 0x18613c50>"
      ]
     },
     "metadata": {},
     "output_type": "display_data"
    },
    {
     "data": {
      "image/png": "[encoded data removed]",
      "text/plain": [
       "<matplotlib.figure.Figure at 0x95331b00>"
      ]
     },
     "metadata": {},
     "output_type": "display_data"
    },
    {
     "data": {
      "image/png": "[encoded data removed]",
      "text/plain": [
       "<matplotlib.figure.Figure at 0x953e5080>"
      ]
     },
     "metadata": {},
     "output_type": "display_data"
    }
   ],
   "source": [
    "for gp, ep in zip(gp_list, epochs_list):\n",
    "    if ep:\n",
    "        for run in ens_list:\n",
    "            hist = hists_ens[run][gp]\n",
    "            plt.plot(hist.history['val_loss'], label=str(run))\n",
    "        plt.title('Mean Squared Error (Validation) - Group ' + str(gp))\n",
    "        plt.legend(); plt.show()        "
   ]
  },
  {
   "cell_type": "code",
   "execution_count": 101,
   "metadata": {
    "scrolled": true
   },
   "outputs": [
    {
     "data": {
      "image/png": "[encoded data removed]",
      "text/plain": [
       "<matplotlib.figure.Figure at 0x95c27b38>"
      ]
     },
     "metadata": {},
     "output_type": "display_data"
    },
    {
     "data": {
      "image/png": "[encoded data removed]",
      "text/plain": [
       "<matplotlib.figure.Figure at 0x95caca90>"
      ]
     },
     "metadata": {},
     "output_type": "display_data"
    },
    {
     "data": {
      "image/png": "[encoded data removed]",
      "text/plain": [
       "<matplotlib.figure.Figure at 0x95c45908>"
      ]
     },
     "metadata": {},
     "output_type": "display_data"
    }
   ],
   "source": [
    "for gp, ep in zip(gp_list, epochs_list):\n",
    "    if ep:\n",
    "        for run in ens_list:\n",
    "            hist = hists_ens[run][gp]\n",
    "            plt.plot(hist.history['k_smape'], label=str(run))\n",
    "        plt.title('SMAPE (Train) - Group ' + str(gp))\n",
    "        plt.legend(); plt.show()        "
   ]
  },
  {
   "cell_type": "code",
   "execution_count": 102,
   "metadata": {
    "scrolled": true
   },
   "outputs": [
    {
     "data": {
      "image/png": "[encoded data removed]",
      "text/plain": [
       "<matplotlib.figure.Figure at 0x967409b0>"
      ]
     },
     "metadata": {},
     "output_type": "display_data"
    },
    {
     "data": {
      "image/png": "[encoded data removed]",
      "text/plain": [
       "<matplotlib.figure.Figure at 0x9674c780>"
      ]
     },
     "metadata": {},
     "output_type": "display_data"
    },
    {
     "data": {
      "image/png": "[encoded data removed]",
      "text/plain": [
       "<matplotlib.figure.Figure at 0x967fff60>"
      ]
     },
     "metadata": {},
     "output_type": "display_data"
    }
   ],
   "source": [
    "for gp, ep in zip(gp_list, epochs_list):\n",
    "    if ep:\n",
    "        for run in ens_list:\n",
    "            hist = hists_ens[run][gp]\n",
    "            plt.plot(hist.history['val_k_smape'], label=str(run))\n",
    "        plt.title('SMAPE (Validation) - Group ' + str(gp))\n",
    "        plt.legend(); plt.show()        "
   ]
  },
  {
   "cell_type": "code",
   "execution_count": 103,
   "metadata": {
    "scrolled": true
   },
   "outputs": [
    {
     "data": {
      "image/png": "[encoded data removed]",
      "text/plain": [
       "<matplotlib.figure.Figure at 0x969879b0>"
      ]
     },
     "metadata": {},
     "output_type": "display_data"
    },
    {
     "data": {
      "image/png": "[encoded data removed]",
      "text/plain": [
       "<matplotlib.figure.Figure at 0x969a96d8>"
      ]
     },
     "metadata": {},
     "output_type": "display_data"
    },
    {
     "data": {
      "image/png": "[encoded data removed]",
      "text/plain": [
       "<matplotlib.figure.Figure at 0x96a43470>"
      ]
     },
     "metadata": {},
     "output_type": "display_data"
    }
   ],
   "source": [
    "for (hist, gp, ep) in zip(hists, gp_list, epochs_list):\n",
    "    if ep:\n",
    "        plt.plot(hist.history['loss'], label='train')\n",
    "        plt.plot(hist.history['val_loss'], label='validation')\n",
    "        plt.title('Mean Squared Error - ' + str(gp))\n",
    "        plt.legend(); plt.show()"
   ]
  },
  {
   "cell_type": "code",
   "execution_count": 104,
   "metadata": {
    "scrolled": true
   },
   "outputs": [
    {
     "data": {
      "image/png": "[encoded data removed]",
      "text/plain": [
       "<matplotlib.figure.Figure at 0x96b9bda0>"
      ]
     },
     "metadata": {},
     "output_type": "display_data"
    },
    {
     "data": {
      "image/png": "[encoded data removed]",
      "text/plain": [
       "<matplotlib.figure.Figure at 0x96bc3f28>"
      ]
     },
     "metadata": {},
     "output_type": "display_data"
    },
    {
     "data": {
      "image/png": "[encoded data removed]",
      "text/plain": [
       "<matplotlib.figure.Figure at 0x96d0ce80>"
      ]
     },
     "metadata": {},
     "output_type": "display_data"
    }
   ],
   "source": [
    "for (hist, gp, ep) in zip(hists, gp_list, epochs_list):\n",
    "    if ep:\n",
    "        plt.plot(hist.history['k_smape'], label='train')\n",
    "        plt.plot(hist.history['val_k_smape'], label='validation')\n",
    "        plt.title('SMAPE - ' + str(gp))\n",
    "        plt.legend(); plt.show()"
   ]
  },
  {
   "cell_type": "code",
   "execution_count": 105,
   "metadata": {},
   "outputs": [
    {
     "data": {
      "image/png": "[encoded data removed]",
      "text/plain": [
       "<matplotlib.figure.Figure at 0x894ba080>"
      ]
     },
     "metadata": {},
     "output_type": "display_data"
    }
   ],
   "source": [
    "for (hist, gp, ep) in zip(hists, gp_list, epochs_list):\n",
    "    if ep: plt.plot(hist.history['loss'], label=gp)\n",
    "plt.title('Mean Squared Error - train')\n",
    "plt.legend(); plt.show()"
   ]
  },
  {
   "cell_type": "code",
   "execution_count": 106,
   "metadata": {},
   "outputs": [
    {
     "data": {
      "image/png": "[encoded data removed]",
      "text/plain": [
       "<matplotlib.figure.Figure at 0x894ba6d8>"
      ]
     },
     "metadata": {},
     "output_type": "display_data"
    }
   ],
   "source": [
    "for (hist, gp, ep) in zip(hists, gp_list, epochs_list):\n",
    "    if ep: plt.plot(hist.history['val_loss'], label=gp)\n",
    "plt.title('Mean Squared Error - validation')\n",
    "plt.legend(); plt.show()"
   ]
  },
  {
   "cell_type": "code",
   "execution_count": 107,
   "metadata": {},
   "outputs": [
    {
     "data": {
      "image/png": "[encoded data removed]",
      "text/plain": [
       "<matplotlib.figure.Figure at 0x96cfed68>"
      ]
     },
     "metadata": {},
     "output_type": "display_data"
    }
   ],
   "source": [
    "for (hist, gp, ep) in zip(hists, gp_list, epochs_list):\n",
    "    if ep: plt.plot(hist.history['k_smape'], label=gp)\n",
    "plt.title('SMAPE - train')\n",
    "plt.legend(); plt.show()"
   ]
  },
  {
   "cell_type": "code",
   "execution_count": 108,
   "metadata": {},
   "outputs": [
    {
     "data": {
      "image/png": "[encoded data removed]",
      "text/plain": [
       "<matplotlib.figure.Figure at 0x96f67da0>"
      ]
     },
     "metadata": {},
     "output_type": "display_data"
    }
   ],
   "source": [
    "for (hist, gp, ep) in zip(hists, gp_list, epochs_list):\n",
    "    if ep: plt.plot(hist.history['val_k_smape'], label=gp)\n",
    "plt.title('SMAPE - validation')\n",
    "plt.legend(); plt.show()"
   ]
  },
  {
   "cell_type": "markdown",
   "metadata": {},
   "source": [
    "### More Training"
   ]
  },
  {
   "cell_type": "markdown",
   "metadata": {},
   "source": [
    "epochs_list2 = [0,10,0,0,10]"
   ]
  },
  {
   "cell_type": "markdown",
   "metadata": {},
   "source": [
    "hists2 = []\n",
    "for (gp, model, X_in, Y_in, epochs) in zip(gp_list, models,\n",
    "                                   X_input_list, Y_input_list, \n",
    "                                   epochs_list2):\n",
    "    hist = model.fit(X_in, Y_in, batch_size=128, \n",
    "                     epochs=epochs, \n",
    "                     validation_split=0.05)\n",
    "    #validation_data=(X_val, Y_val))\n",
    "    hists2.append(hist)"
   ]
  },
  {
   "cell_type": "markdown",
   "metadata": {},
   "source": [
    "for (hist, gp, epochs) in zip(hists2, gp_list, epochs_list2):\n",
    "    if epochs:\n",
    "        plt.plot(hist.history['loss'], label='train')\n",
    "        plt.plot(hist.history['val_loss'], label='validation')\n",
    "        plt.title('Mean Squared Error - ' + str(gp))\n",
    "        plt.legend(); plt.show()"
   ]
  },
  {
   "cell_type": "markdown",
   "metadata": {
    "scrolled": false
   },
   "source": [
    "for (hist, gp, epochs) in zip(hists2, gp_list, epochs_list2):\n",
    "    if epochs:\n",
    "        plt.plot(hist.history['k_smape'], label='train')\n",
    "        plt.plot(hist.history['val_k_smape'], label='validation')\n",
    "        plt.title('SMAPE - ' + str(gp))\n",
    "        plt.legend(); plt.show()"
   ]
  },
  {
   "cell_type": "markdown",
   "metadata": {},
   "source": [
    "for (hist, gp, epochs) in zip(hists2, gp_list, epochs_list2):\n",
    "    if epochs:\n",
    "        plt.plot(hist.history['loss'], label=gp)\n",
    "plt.title('Mean Squared Error - train')\n",
    "plt.legend(); plt.show()"
   ]
  },
  {
   "cell_type": "markdown",
   "metadata": {},
   "source": [
    "for (hist, gp, epochs) in zip(hists2, gp_list, epochs_list2):\n",
    "    if epochs: plt.plot(hist.history['val_loss'], label=gp)\n",
    "plt.title('Mean Squared Error - validation')\n",
    "plt.legend(); plt.show()"
   ]
  },
  {
   "cell_type": "markdown",
   "metadata": {},
   "source": [
    "for (hist, gp, epochs) in zip(hists2, gp_list, epochs_list2):\n",
    "    if epochs: plt.plot(hist.history['k_smape'], label=gp)\n",
    "plt.title('SMAPE - train')\n",
    "plt.legend(); plt.show()"
   ]
  },
  {
   "cell_type": "markdown",
   "metadata": {},
   "source": [
    "for (hist, gp, epochs) in zip(hists2, gp_list, epochs_list2):\n",
    "    if epochs: plt.plot(hist.history['val_k_smape'], label=gp)\n",
    "plt.title('SMAPE - validation')\n",
    "plt.legend(); plt.show()"
   ]
  },
  {
   "cell_type": "markdown",
   "metadata": {},
   "source": [
    "## Predict for Input Set (Training Set)"
   ]
  },
  {
   "cell_type": "code",
   "execution_count": 109,
   "metadata": {},
   "outputs": [
    {
     "name": "stdout",
     "output_type": "stream",
     "text": [
      "Run 0: 0 1 2 3 \n",
      "Run 1: 0 1 2 3 \n",
      "Run 2: 0 1 2 3 \n",
      "Wall time: 37.2 s\n"
     ]
    }
   ],
   "source": [
    "%%time\n",
    "Y_input_pred_list_ens = []\n",
    "for models, run in zip(models_ens, ens_list):\n",
    "    print('Run', run, end=': ')\n",
    "    Y_input_pred_list = []\n",
    "    for (gp, model, X, A) in zip(gp_list, models, X_input_list, A_input_list):\n",
    "        print(gp, end=' ')\n",
    "        Y_input_pred_list.append(model.predict([X, A]))\n",
    "    Y_input_pred_list_ens.append(Y_input_pred_list)\n",
    "    print('')"
   ]
  },
  {
   "cell_type": "markdown",
   "metadata": {
    "collapsed": true
   },
   "source": [
    "%%time\n",
    "Y_input_pred_list_ens = []\n",
    "for models, run in zip(models_ens, ens_list):\n",
    "    print('Run', run, end=': ')\n",
    "    Y_input_pred_list = []\n",
    "    for (gp, model, X, A, Z) in zip(gp_list, models, X_input_list, A_input_list, Z_input_list):\n",
    "        print(gp, end=' ')\n",
    "        Y_input_pred_list.append(model.predict([X, A, Z]))\n",
    "    Y_input_pred_list_ens.append(Y_input_pred_list)\n",
    "    print('')"
   ]
  },
  {
   "cell_type": "markdown",
   "metadata": {},
   "source": [
    "Find the original index"
   ]
  },
  {
   "cell_type": "code",
   "execution_count": 110,
   "metadata": {
    "collapsed": true
   },
   "outputs": [],
   "source": [
    "input_index_range = np.arange(len(input_gp)); #input_index_range"
   ]
  },
  {
   "cell_type": "code",
   "execution_count": 111,
   "metadata": {
    "collapsed": true
   },
   "outputs": [],
   "source": [
    "# list for original index\n",
    "input_index_list = [input_index_range[input_gp == gp] \n",
    "                     for gp in gp_list]"
   ]
  },
  {
   "cell_type": "code",
   "execution_count": 112,
   "metadata": {
    "scrolled": false
   },
   "outputs": [
    {
     "name": "stdout",
     "output_type": "stream",
     "text": [
      "(24929,) (43689,) (75648,) (797,) "
     ]
    }
   ],
   "source": [
    "for o in input_index_list:\n",
    "    print(o.shape, end=' ')"
   ]
  },
  {
   "cell_type": "code",
   "execution_count": 113,
   "metadata": {
    "collapsed": true
   },
   "outputs": [],
   "source": [
    "input_index_list_comb = np.concatenate(input_index_list); #input_index_list_comb"
   ]
  },
  {
   "cell_type": "code",
   "execution_count": 114,
   "metadata": {
    "collapsed": true
   },
   "outputs": [],
   "source": [
    "Y_input_pred_ens = []\n",
    "for Y_input_pred_list in Y_input_pred_list_ens:\n",
    "    Y_input_pred_comb = np.concatenate(Y_input_pred_list)\n",
    "    Y_input_pred = [0]*len(input_index_list_comb)\n",
    "\n",
    "    for index, y in zip(input_index_list_comb, Y_input_pred_comb):\n",
    "        Y_input_pred[index] = y\n",
    "\n",
    "    Y_input_pred = np.array(Y_input_pred)  # make it an numpy array (which will also make a copy)\n",
    "    Y_input_pred_ens.append(Y_input_pred)\n",
    "\n",
    "del Y_input_pred_comb"
   ]
  },
  {
   "cell_type": "code",
   "execution_count": 115,
   "metadata": {
    "collapsed": true
   },
   "outputs": [],
   "source": [
    "# Inverse transform Y_input_pred to original Y\n",
    "Y_input_pred_ori_ens = []\n",
    "for Y_input_pred in Y_input_pred_ens:\n",
    "    Y_input_pred_ori = unlog(untransform(Y_input_pred, \n",
    "                                          Y_input_center, Y_input_scale))\n",
    "    Y_input_pred_ori_ens.append(Y_input_pred_ori)"
   ]
  },
  {
   "cell_type": "code",
   "execution_count": 116,
   "metadata": {
    "collapsed": true
   },
   "outputs": [],
   "source": [
    "Y_input_pred_ori_ens = np.array(Y_input_pred_ori_ens)"
   ]
  },
  {
   "cell_type": "markdown",
   "metadata": {},
   "source": [
    "## Predict for Output Set"
   ]
  },
  {
   "cell_type": "code",
   "execution_count": 117,
   "metadata": {},
   "outputs": [
    {
     "name": "stdout",
     "output_type": "stream",
     "text": [
      "Run 0: 0 1 2 3 \n",
      "Run 1: 0 1 2 3 \n",
      "Run 2: 0 1 2 3 \n",
      "Wall time: 33.3 s\n"
     ]
    }
   ],
   "source": [
    "%%time\n",
    "Y_output_pred_list_ens = []\n",
    "for models, run in zip(models_ens, ens_list):\n",
    "    print('Run', run, end=': ')\n",
    "    Y_output_pred_list = []\n",
    "    for (gp, model, X, A) in zip(gp_list, models, X_output_list, A_output_list):\n",
    "        print(gp, end=' ')\n",
    "        Y_output_pred_list.append(model.predict([X, A]))\n",
    "    Y_output_pred_list_ens.append(Y_output_pred_list)\n",
    "    print('')"
   ]
  },
  {
   "cell_type": "markdown",
   "metadata": {
    "collapsed": true
   },
   "source": [
    "%%time\n",
    "Y_output_pred_list_ens = []\n",
    "for models, run in zip(models_ens, ens_list):\n",
    "    print('Run', run, end=': ')\n",
    "    Y_output_pred_list = []\n",
    "    for (gp, model, X, A, Z) in zip(gp_list, models, X_output_list, A_output_list, Z_output_list):\n",
    "        print(gp, end=' ')\n",
    "        Y_output_pred_list.append(model.predict([X, A, Z]))\n",
    "    Y_output_pred_list_ens.append(Y_output_pred_list)\n",
    "    print('')"
   ]
  },
  {
   "cell_type": "markdown",
   "metadata": {},
   "source": [
    "Find the original index"
   ]
  },
  {
   "cell_type": "code",
   "execution_count": 118,
   "metadata": {
    "collapsed": true
   },
   "outputs": [],
   "source": [
    "output_index_range = np.arange(len(output_gp)); #output_index_range"
   ]
  },
  {
   "cell_type": "code",
   "execution_count": 119,
   "metadata": {
    "collapsed": true
   },
   "outputs": [],
   "source": [
    "# list for original index\n",
    "output_index_list = [output_index_range[output_gp == gp] \n",
    "                     for gp in gp_list]"
   ]
  },
  {
   "cell_type": "code",
   "execution_count": 120,
   "metadata": {
    "scrolled": false
   },
   "outputs": [
    {
     "name": "stdout",
     "output_type": "stream",
     "text": [
      "(24929,) (43689,) (75648,) (797,) "
     ]
    }
   ],
   "source": [
    "for o in output_index_list:\n",
    "    print(o.shape, end=' ')"
   ]
  },
  {
   "cell_type": "code",
   "execution_count": 121,
   "metadata": {
    "collapsed": true
   },
   "outputs": [],
   "source": [
    "output_index_list_comb = np.concatenate(output_index_list); #output_index_list_comb"
   ]
  },
  {
   "cell_type": "code",
   "execution_count": 122,
   "metadata": {
    "collapsed": true
   },
   "outputs": [],
   "source": [
    "Y_output_pred_ens = []\n",
    "for Y_output_pred_list in Y_output_pred_list_ens:\n",
    "    Y_output_pred_comb = np.concatenate(Y_output_pred_list)\n",
    "    Y_output_pred = [0]*len(output_index_list_comb)\n",
    "\n",
    "    for index, y in zip(output_index_list_comb, Y_output_pred_comb):\n",
    "        Y_output_pred[index] = y\n",
    "\n",
    "    Y_output_pred = np.array(Y_output_pred)  # make it an numpy array (which will also make a copy)\n",
    "    Y_output_pred_ens.append(Y_output_pred)\n",
    "\n",
    "del Y_output_pred_comb"
   ]
  },
  {
   "cell_type": "code",
   "execution_count": 123,
   "metadata": {
    "collapsed": true
   },
   "outputs": [],
   "source": [
    "# Inverse transform Y_output_pred to original Y\n",
    "Y_output_pred_ori_ens = []\n",
    "for Y_output_pred in Y_output_pred_ens:\n",
    "    Y_output_pred_ori = unlog(untransform(Y_output_pred, \n",
    "                                          Y_output_center, Y_output_scale))\n",
    "    Y_output_pred_ori_ens.append(Y_output_pred_ori)"
   ]
  },
  {
   "cell_type": "code",
   "execution_count": 124,
   "metadata": {
    "collapsed": true
   },
   "outputs": [],
   "source": [
    "Y_output_pred_ori_ens = np.array(Y_output_pred_ori_ens)"
   ]
  },
  {
   "cell_type": "markdown",
   "metadata": {},
   "source": [
    "#### Check predict output"
   ]
  },
  {
   "cell_type": "markdown",
   "metadata": {},
   "source": [
    "Y_output_pred"
   ]
  },
  {
   "cell_type": "markdown",
   "metadata": {},
   "source": [
    "Y_output_pred_ori"
   ]
  },
  {
   "cell_type": "markdown",
   "metadata": {
    "scrolled": true
   },
   "source": [
    "examine(Y_output_pred)"
   ]
  },
  {
   "cell_type": "markdown",
   "metadata": {
    "scrolled": true
   },
   "source": [
    "examine(Y_output_pred_ori)"
   ]
  },
  {
   "cell_type": "markdown",
   "metadata": {},
   "source": [
    "view(X_output_ori[126420])"
   ]
  },
  {
   "cell_type": "markdown",
   "metadata": {},
   "source": [
    "## SMAPE Scores"
   ]
  },
  {
   "cell_type": "markdown",
   "metadata": {},
   "source": [
    "### Model Score"
   ]
  },
  {
   "cell_type": "code",
   "execution_count": 125,
   "metadata": {
    "collapsed": true,
    "scrolled": true
   },
   "outputs": [],
   "source": [
    "# SMAPE scores for the model\n",
    "if test_length:\n",
    "    model_smape_ens = []\n",
    "    model_smape_0_ens = []\n",
    "    for Y_output_pred_ori in Y_output_pred_ori_ens:\n",
    "        model_smape = smape(Y_output_raw, Y_output_pred_ori) # SMAPE score excluding nan (Correct one)\n",
    "        model_smape_0 = smape(Y_output_ori, Y_output_pred_ori) # SMAPE assuming nan == 0\n",
    "        \n",
    "        model_smape_ens.append(model_smape)\n",
    "        model_smape_0_ens.append(model_smape_0)\n",
    "    model_smape_ens_mean = np.mean(model_smape_ens)\n",
    "    model_smape_0_ens_mean = np.mean(model_smape_0_ens)\n",
    "    \n",
    "    model_smape_stdev = np.std(model_smape_ens)  # standard deviation of the smape score\n",
    "    model_smape_0_stdev = np.std(model_smape_0_ens)  # standard deviation of the smape score\n",
    "    \n",
    "    model_smape_ens_mean_std = model_smape_stdev / np.sqrt(len(model_smape_ens))"
   ]
  },
  {
   "cell_type": "code",
   "execution_count": 126,
   "metadata": {},
   "outputs": [
    {
     "name": "stdout",
     "output_type": "stream",
     "text": [
      "38.296         41.661\n",
      "38.399         41.843\n",
      "38.229         41.687\n",
      "-----------------------------\n",
      "38.308 +-0.070 41.730 +-0.080\n",
      "+-0.040\n"
     ]
    }
   ],
   "source": [
    "if test_length:\n",
    "    for model_smape, model_smape_0 in zip(model_smape_ens, model_smape_0_ens):\n",
    "        print('%6.3f' % model_smape, '       ', '%6.3f' % model_smape_0)\n",
    "    print('-----------------------------')\n",
    "    print('%6.3f' % model_smape_ens_mean, '+-%5.3f' % model_smape_stdev, \n",
    "          '%6.3f' % model_smape_0_ens_mean, '+-%5.3f' % model_smape_0_stdev)\n",
    "    print('+-%5.3f' % model_smape_ens_mean_std)"
   ]
  },
  {
   "cell_type": "code",
   "execution_count": 127,
   "metadata": {},
   "outputs": [
    {
     "name": "stdout",
     "output_type": "stream",
     "text": [
      "40.5522\n"
     ]
    }
   ],
   "source": [
    "# SMAPE score for Fibonacci median\n",
    "if test_length:\n",
    "    fib_smape = smape(Y_output_raw, Y_output_fib)\n",
    "    print(fib_smape)"
   ]
  },
  {
   "cell_type": "code",
   "execution_count": 128,
   "metadata": {
    "collapsed": true
   },
   "outputs": [],
   "source": [
    "esmape = smape"
   ]
  },
  {
   "cell_type": "code",
   "execution_count": 129,
   "metadata": {
    "collapsed": true,
    "scrolled": true
   },
   "outputs": [],
   "source": [
    "# Estimated SMAPE scores for the model using training set\n",
    "model_esmape_ens = []\n",
    "model_esmape_0_ens = []\n",
    "for Y_input_pred_ori in Y_input_pred_ori_ens:\n",
    "    model_esmape = esmape(Y_input_raw, Y_input_pred_ori) # SMAPE score excluding nan (Correct one)\n",
    "    model_esmape_0 = esmape(Y_input_ori, Y_input_pred_ori) # SMAPE assuming nan == 0\n",
    "    \n",
    "    model_esmape_ens.append(model_esmape)\n",
    "    model_esmape_0_ens.append(model_esmape_0)\n",
    "model_esmape_ens_mean = np.mean(model_esmape_ens)\n",
    "model_esmape_0_ens_mean = np.mean(model_esmape_0_ens)\n",
    "\n",
    "model_esmape_stdev = np.std(model_esmape_ens)  # standard deviation of the esmape score\n",
    "model_esmape_0_stdev = np.std(model_esmape_0_ens)  # standard deviation of the esmape score\n",
    "\n",
    "model_esmape_ens_mean_std = model_esmape_stdev / np.sqrt(len(model_esmape_ens))"
   ]
  },
  {
   "cell_type": "code",
   "execution_count": 130,
   "metadata": {},
   "outputs": [
    {
     "name": "stdout",
     "output_type": "stream",
     "text": [
      "41.619         48.619\n",
      "41.588         48.633\n",
      "41.137         48.197\n",
      "-----------------------------\n",
      "41.448 +-0.220 48.483 +-0.202\n",
      "+-0.127\n"
     ]
    }
   ],
   "source": [
    "for model_esmape, model_esmape_0 in zip(model_esmape_ens, model_esmape_0_ens):\n",
    "    print('%6.3f' % model_esmape, '       ', '%6.3f' % model_esmape_0)\n",
    "print('-----------------------------')\n",
    "print('%6.3f' % model_esmape_ens_mean, '+-%5.3f' % model_esmape_stdev, \n",
    "      '%6.3f' % model_esmape_0_ens_mean, '+-%5.3f' % model_esmape_0_stdev)\n",
    "print('+-%5.3f' % model_esmape_ens_mean_std)"
   ]
  },
  {
   "cell_type": "code",
   "execution_count": 131,
   "metadata": {},
   "outputs": [
    {
     "name": "stdout",
     "output_type": "stream",
     "text": [
      "48.403\n"
     ]
    }
   ],
   "source": [
    "# SMAPE Est score for Fibonacci median\n",
    "fib_esmape = esmape(Y_input_raw, Y_input_fib)\n",
    "print(fib_esmape)"
   ]
  },
  {
   "cell_type": "markdown",
   "metadata": {},
   "source": [
    "### Group Scores"
   ]
  },
  {
   "cell_type": "code",
   "execution_count": 132,
   "metadata": {
    "collapsed": true
   },
   "outputs": [],
   "source": [
    "# Prediction Y_output in group\n",
    "Y_output_pred_ori_list_ens = [[Y_output_pred_ori[output_gp == gp] for gp in gp_list]\n",
    "                              for Y_output_pred_ori in Y_output_pred_ori_ens]\n",
    "#Y_output_pred_ori_list = [Y_output_pred_ori[output_gp == gp] for gp in gp_list]\n",
    "Y_output_pred_ori_list = Y_output_pred_ori_list_ens[-1]  # in case you want to see one of them"
   ]
  },
  {
   "cell_type": "code",
   "execution_count": 133,
   "metadata": {
    "collapsed": true
   },
   "outputs": [],
   "source": [
    "# Prediction Y_input in group\n",
    "Y_input_pred_ori_list_ens = [[Y_input_pred_ori[input_gp == gp] for gp in gp_list]\n",
    "                              for Y_input_pred_ori in Y_input_pred_ori_ens]\n",
    "#Y_input_pred_ori_list = [Y_input_pred_ori[input_gp == gp] for gp in gp_list]\n",
    "Y_input_pred_ori_list = Y_input_pred_ori_list_ens[-1]  # in case you want to see one of them"
   ]
  },
  {
   "cell_type": "code",
   "execution_count": 134,
   "metadata": {
    "collapsed": true
   },
   "outputs": [],
   "source": [
    "# Fibonacci median in group\n",
    "Y_output_fib_list = [Y_output_fib[output_gp == gp] for gp in gp_list]"
   ]
  },
  {
   "cell_type": "code",
   "execution_count": 135,
   "metadata": {
    "collapsed": true
   },
   "outputs": [],
   "source": [
    "# Fibonacci median in group\n",
    "Y_input_fib_list = [Y_input_fib[input_gp == gp] for gp in gp_list]"
   ]
  },
  {
   "cell_type": "code",
   "execution_count": 136,
   "metadata": {
    "collapsed": true
   },
   "outputs": [],
   "source": [
    "# True Y_output in group\n",
    "if test_length:\n",
    "    # untransformed Y_output with nan replaced by 0\n",
    "    Y_output_ori_list = [Y_output_ori[output_gp == gp] for gp in gp_list]\n",
    "    \n",
    "    # untransformed Y_output_ori with nan (for SMAPE estimation)\n",
    "    Y_output_raw_list = [Y_output_raw[output_gp == gp] for gp in gp_list]"
   ]
  },
  {
   "cell_type": "code",
   "execution_count": 137,
   "metadata": {
    "collapsed": true
   },
   "outputs": [],
   "source": [
    "# True Y_input in group\n",
    "# untransformed Y_input with nan replaced by 0\n",
    "Y_input_ori_list = [Y_input_ori[input_gp == gp] for gp in gp_list]\n",
    "\n",
    "# untransformed Y_input_ori with nan (for SMAPE estimation)\n",
    "Y_input_raw_list = [Y_input_raw[input_gp == gp] for gp in gp_list]"
   ]
  },
  {
   "cell_type": "code",
   "execution_count": 138,
   "metadata": {},
   "outputs": [
    {
     "data": {
      "text/plain": [
       "145063"
      ]
     },
     "execution_count": 138,
     "metadata": {},
     "output_type": "execute_result"
    }
   ],
   "source": [
    "tot_n = len(output_gp); tot_n  # total number of pages in output set"
   ]
  },
  {
   "cell_type": "code",
   "execution_count": 139,
   "metadata": {
    "collapsed": true
   },
   "outputs": [],
   "source": [
    "def count_not_nan(data):\n",
    "    return np.count_nonzero(~np.isnan(data))"
   ]
  },
  {
   "cell_type": "code",
   "execution_count": 140,
   "metadata": {},
   "outputs": [
    {
     "name": "stdout",
     "output_type": "stream",
     "text": [
      "[ 64.93305969  39.96040344  29.65030479  33.29110718]\n"
     ]
    }
   ],
   "source": [
    "# Group scores for the model\n",
    "if test_length:\n",
    "    gp_n = [len(Y) for Y in Y_output_raw_list]\n",
    "    # SMAPE with nan values ignored (used by Kaggle)\n",
    "    gp_smape_ens = [[smape(Y, Y_p) for Y, Y_p in zip(Y_output_raw_list, Y_output_pred_ori_list)]\n",
    "                    for Y_output_pred_ori_list in Y_output_pred_ori_list_ens]\n",
    "    gp_smape = gp_smape_ens[-1]    \n",
    "    gp_smape_mean = np.mean(gp_smape_ens, axis=0)\n",
    "    print(gp_smape_mean)"
   ]
  },
  {
   "cell_type": "code",
   "execution_count": 141,
   "metadata": {},
   "outputs": [
    {
     "name": "stdout",
     "output_type": "stream",
     "text": [
      "[ 71.20479584  43.97552109  31.68201447  25.32891083]\n"
     ]
    }
   ],
   "source": [
    "# Group estimated scores for the model\n",
    "gp_n = [len(Y) for Y in Y_input_raw_list]\n",
    "# SMAPE with nan values ignored (used by Kaggle)\n",
    "gp_esmape_ens = [[esmape(Y, Y_p) for Y, Y_p in zip(Y_input_raw_list, Y_input_pred_ori_list)]\n",
    "                for Y_input_pred_ori_list in Y_input_pred_ori_list_ens]\n",
    "gp_esmape = gp_esmape_ens[-1]    \n",
    "gp_esmape_mean = np.mean(gp_esmape_ens, axis=0)\n",
    "print(gp_esmape_mean)"
   ]
  },
  {
   "cell_type": "markdown",
   "metadata": {
    "collapsed": true
   },
   "source": [
    "if test_length:\n",
    "    #gp_smape = [smape(Y, Y_p) for Y, Y_p \n",
    "    #            in zip(Y_output_raw_list, Y_output_pred_ori_list)]\n",
    "    \n",
    "    #n_not_nan = count_not_nan(Y_output_raw)\n",
    "    #n_not_nan_gp = [count_not_nan(Y) for Y in Y_output_raw_list]\n",
    "    #n_not_nan_ratio_gp = [n / (len(Y) * len(Y[0])) for Y,n \n",
    "    #                      in zip(Y_output_raw_list, n_not_nan_gp)]\n",
    "    \n",
    "    # SMAPE contribution\n",
    "    #gp_smape_sum = [s * n for n, s in zip(gp_smape, n_not_nan_gp)]\n",
    "    #gp_smape_cont = [s / n_not_nan for s in gp_smape_sum]"
   ]
  },
  {
   "cell_type": "code",
   "execution_count": 142,
   "metadata": {
    "collapsed": true
   },
   "outputs": [],
   "source": [
    "# Group score for Fibonacci median\n",
    "if test_length:\n",
    "    gp_smape_fib = [smape(Y, Y_p) for Y, Y_p in zip(Y_output_raw_list, Y_output_fib_list)]"
   ]
  },
  {
   "cell_type": "code",
   "execution_count": 143,
   "metadata": {
    "collapsed": true
   },
   "outputs": [],
   "source": [
    "# Group Estimated score for Fibonacci median\n",
    "gp_esmape_fib = [esmape(Y, Y_p) for Y, Y_p in zip(Y_input_raw_list, Y_input_fib_list)]"
   ]
  },
  {
   "cell_type": "code",
   "execution_count": 144,
   "metadata": {},
   "outputs": [
    {
     "name": "stdout",
     "output_type": "stream",
     "text": [
      "#### model_10_Modified_CNN_4_The_Model_2_Longer_Prediction_3_64_64\n",
      "|N_pages |Fibonacci| Average | Model 0 | Model 1 | Model 2 |\n",
      "|--------|---------|---------|---------|---------|---------|\n",
      "|  24929 |  61.209 |  64.933 |  64.937 |  64.940 |  64.922 |\n",
      "|  43689 |  40.710 |  39.960 |  39.903 |  39.966 |  40.012 |\n",
      "|  75648 |  34.504 |  29.650 |  29.647 |  29.820 |  29.485 |\n",
      "|    797 |  34.828 |  33.291 |  34.568 |  32.904 |  32.401 |\n",
      "|  Total |  40.552 |  38.308 |  38.296 |  38.399 |  38.229 |"
     ]
    }
   ],
   "source": [
    "if test_length:  # gp_score compare\n",
    "    print('#### ' + model_name)\n",
    "    print('', end='|')\n",
    "    print('N_pages ', 'Fibonacci', ' Average ', sep='|', end='|')\n",
    "    for run in ens_list: print(' Model', run, end=' |')\n",
    "    print('')\n",
    "    print('', end='|')\n",
    "    print('--------', '---------', '---------', sep='|', end='|')\n",
    "    for run in ens_list: print('---------', end='|')\n",
    "    print('')\n",
    "    for gp in gp_list:\n",
    "        print('', end='|')\n",
    "        print(' %6d ' % gp_n[gp], end='|')\n",
    "        print(' %7.3f ' % gp_smape_fib[gp], end='|')\n",
    "        print(' %7.3f ' % gp_smape_mean[gp], end='|')\n",
    "        for run in ens_list:\n",
    "            print(' %7.3f ' % gp_smape_ens[run][gp], end='|')\n",
    "        print('')\n",
    "    print('|  Total ', ' %7.3f ' % fib_smape, ' %7.3f ' % model_smape_ens_mean, sep='|', end='|')\n",
    "    for run in ens_list:\n",
    "            print(' %7.3f ' % model_smape_ens[run], end='|')"
   ]
  },
  {
   "cell_type": "code",
   "execution_count": 202,
   "metadata": {},
   "outputs": [
    {
     "name": "stdout",
     "output_type": "stream",
     "text": [
      "#### model_10_Modified_CNN_4_The_Model_2_Longer_Prediction_3_64_64 Est\n",
      "|N_pages |Fibonacci| Average | Model 0 | Model 1 | Model 2 |\n",
      "|--------|---------|---------|---------|---------|---------|\n",
      "|  24929 |  64.766 |  71.205 |  71.115 |  71.221 |  71.278 |\n",
      "|  43689 |  50.505 |  43.976 |  44.489 |  43.890 |  43.547 |\n",
      "|  75648 |  42.678 |  31.682 |  31.732 |  31.987 |  31.327 |\n",
      "|    797 |  34.208 |  25.329 |  25.365 |  25.413 |  25.208 |\n",
      "|  Total |  48.403 |  41.448 |  41.619 |  41.588 |  41.137 |"
     ]
    }
   ],
   "source": [
    "#Estimated gp_score compare\n",
    "print('#### ' + model_name, 'Est')\n",
    "print('', end='|')\n",
    "print('N_pages ', 'Fibonacci', ' Average ', sep='|', end='|')\n",
    "for run in ens_list: print(' Model', run, end=' |')\n",
    "print('')\n",
    "print('', end='|')\n",
    "print('--------', '---------', '---------', sep='|', end='|')\n",
    "for run in ens_list: print('---------', end='|')\n",
    "print('')\n",
    "for gp in gp_list:\n",
    "    print('', end='|')\n",
    "    print(' %6d ' % gp_n[gp], end='|')\n",
    "    print(' %7.3f ' % gp_esmape_fib[gp], end='|')\n",
    "    print(' %7.3f ' % gp_esmape_mean[gp], end='|')\n",
    "    for run in ens_list:\n",
    "        print(' %7.3f ' % gp_esmape_ens[run][gp], end='|')\n",
    "    print('')\n",
    "print('|  Total ', ' %7.3f ' % fib_esmape, ' %7.3f ' % model_esmape_ens_mean, sep='|', end='|')\n",
    "for run in ens_list:\n",
    "        print(' %7.3f ' % model_esmape_ens[run], end='|')"
   ]
  },
  {
   "cell_type": "markdown",
   "metadata": {},
   "source": [
    "#### model_10_Modified_CNN_4_The_Model\n",
    "|N_pages |Fibonacci| Average | Model 0 | Model 1 | Model 2 | Model 3 | Model 4 |\n",
    "|--------|---------|---------|---------|---------|---------|---------|---------|\n",
    "|  24964 |  61.170 |  68.291 |  68.432 |  67.965 |  68.039 |  68.527 |  68.492 |\n",
    "|  43691 |  40.612 |  39.986 |  39.863 |  39.935 |  40.101 |  39.696 |  40.336 |\n",
    "|  75617 |  34.284 |  29.633 |  29.641 |  29.453 |  29.630 |  29.832 |  29.606 |\n",
    "|    791 |  34.653 |  33.308 |  33.714 |  33.951 |  32.934 |  33.296 |  32.647 |\n",
    "|  Total |  40.404 |  38.836 |  38.826 |  38.677 |  38.829 |  38.889 |  38.957 |\n",
    "#### model_10_Modified_CNN_1_Z\n",
    "|N_pages |Fibonacci| Average | Model 0 | Model 1 | Model 2 | Model 3 | Model 4 |\n",
    "|--------|---------|---------|---------|---------|---------|---------|---------|\n",
    "|   1879 |  57.385 | 158.876 | 166.920 | 167.117 | 154.478 | 165.189 | 140.678 |\n",
    "|  23085 |  61.354 |  64.057 |  63.166 |  63.533 |  63.921 |  64.384 |  65.282 |\n",
    "|  43691 |  40.612 |  40.025 |  40.088 |  39.890 |  40.224 |  40.132 |  39.794 |\n",
    "|  75617 |  34.284 |  29.755 |  29.759 |  29.741 |  29.658 |  29.865 |  29.752 |\n",
    "|    740 |  35.621 |  33.983 |  33.411 |  33.945 |  34.447 |  34.013 |  34.100 |\n",
    "|     51 |  20.224 |  17.259 |  17.687 |  17.204 |  17.227 |  17.300 |  16.878 |\n",
    "|  Total |  40.404 |  38.937 |  38.881 |  38.869 |  38.897 |  39.122 |  38.914 |\n",
    "#### model_10_Modified_CNN_0_median_stdev\n",
    "|N_pages |Fibonacci| Model 0 | Model 1 | Model 2 | Model 3 | Model 4 |\n",
    "|--------|---------|---------|---------|---------|---------|---------|\n",
    "|   1879 |  57.385 | 161.576 | 156.487 | 166.024 | 139.355 | 159.019 |\n",
    "|  23085 |  61.354 |  64.389 |  64.273 |  64.008 |  63.988 |  64.148 |\n",
    "|  43691 |  40.612 |  39.684 |  39.842 |  39.969 |  39.808 |  40.173 |\n",
    "|  75617 |  34.284 |  29.538 |  29.575 |  29.454 |  29.907 |  29.573 |\n",
    "|    740 |  35.621 |  33.564 |  33.710 |  33.397 |  33.666 |  33.965 |\n",
    "|     51 |  20.224 |  16.406 |  16.451 |  17.309 |  16.628 |  16.331 |\n",
    "#### model_9_CNN_with_Fibonacci_4_Ensemble_3_filter_3\n",
    "|N_pages |Fibonacci| Model 0 | Model 1 | Model 2 | Model 3 | Model 4 |\n",
    "|--------|---------|---------|---------|---------|---------|---------|\n",
    "|   1879 |  57.385 | 161.230 | 166.806 | 139.008 | 152.935 | 170.833 |\n",
    "|  23085 |  61.354 |  64.048 |  63.281 |  63.966 |  63.664 |  63.569 |\n",
    "|  43691 |  40.612 |  40.004 |  39.860 |  40.201 |  39.817 |  40.143 |\n",
    "|  75617 |  34.284 |  30.201 |  29.582 |  29.611 |  29.744 |  29.618 |\n",
    "|    740 |  35.621 |  33.801 |  34.143 |  34.101 |  34.290 |  34.145 |\n",
    "|     51 |  20.224 |  16.933 |  17.094 |  16.930 |  17.424 |  16.985 |\n",
    "\n",
    "#### model_9_CNN_with_Fibonacci_4_Ensemble\n",
    "|N_pages |Fibonacci| Model 0 |\n",
    "|--------|---------|---------|\n",
    "|   1879 |  57.385 | 146.145 |\n",
    "|  23085 |  61.354 |  64.128 |\n",
    "|  43691 |  40.612 |  40.052 |\n",
    "|  75617 |  34.284 |  29.862 |\n",
    "|    740 |  35.621 |  34.607 |\n",
    "|     51 |  20.224 |  16.023 |"
   ]
  },
  {
   "cell_type": "markdown",
   "metadata": {},
   "source": [
    "### Page Scores"
   ]
  },
  {
   "cell_type": "code",
   "execution_count": 146,
   "metadata": {
    "scrolled": true
   },
   "outputs": [
    {
     "name": "stderr",
     "output_type": "stream",
     "text": [
      "c:\\python3\\lib\\site-packages\\ipykernel_launcher.py:5: RuntimeWarning: Mean of empty slice\n",
      "  \"\"\"\n"
     ]
    }
   ],
   "source": [
    "if test_length:  # Page scores for the model\n",
    "    smape_Y_pred_ens = []\n",
    "    for Y_output_pred_ori in Y_output_pred_ori_ens:\n",
    "        smape_Y_pred = np.nan_to_num(np.array([smape(yp, y) for yp, y \n",
    "                                               in zip(Y_output_pred_ori, Y_output_raw)]))\n",
    "        smape_Y_pred_ens.append(smape_Y_pred)"
   ]
  },
  {
   "cell_type": "code",
   "execution_count": 147,
   "metadata": {
    "scrolled": true
   },
   "outputs": [
    {
     "name": "stderr",
     "output_type": "stream",
     "text": [
      "c:\\python3\\lib\\site-packages\\ipykernel_launcher.py:5: RuntimeWarning: Mean of empty slice\n",
      "  \"\"\"\n"
     ]
    }
   ],
   "source": [
    "if test_length:  # Page score for Fib.\n",
    "    smape_Y_fib = np.nan_to_num(np.array([smape(yp, y) for yp, y \n",
    "                                          in zip(Y_output_fib, Y_output_raw)]))"
   ]
  },
  {
   "cell_type": "markdown",
   "metadata": {},
   "source": [
    "if test_length:\n",
    "    for smape_Y_pred in smape_Y_pred_ens:\n",
    "        plt.hist(smape_Y_pred, bins=40, alpha=0.4)\n",
    "        #plt.yscale('log')\n",
    "    plt.title('Ensemble Page SMAPE'); plt.show()"
   ]
  },
  {
   "cell_type": "code",
   "execution_count": 148,
   "metadata": {},
   "outputs": [
    {
     "data": {
      "image/png": "[encoded data removed]",
      "text/plain": [
       "<matplotlib.figure.Figure at 0x960cc2e8>"
      ]
     },
     "metadata": {},
     "output_type": "display_data"
    }
   ],
   "source": [
    "if test_length:\n",
    "    plt.hist(smape_Y_fib, bins=40, alpha=0.6, label='Fib.')\n",
    "    plt.hist(smape_Y_pred, bins=40, alpha=0.6, label='Model')\n",
    "    #plt.yscale('log')\n",
    "    plt.legend(); plt.show()"
   ]
  },
  {
   "cell_type": "markdown",
   "metadata": {},
   "source": [
    "### Page Scores in Each Group"
   ]
  },
  {
   "cell_type": "code",
   "execution_count": 149,
   "metadata": {
    "collapsed": true
   },
   "outputs": [],
   "source": [
    "if test_length:  # The model\n",
    "    smape_Y_pred_list_ens = []\n",
    "    for smape_Y_pred in smape_Y_pred_ens:\n",
    "        smape_Y_pred_list = [smape_Y_pred[output_gp == gp] for gp in gp_list]\n",
    "        smape_Y_pred_list_ens.append(smape_Y_pred_list)"
   ]
  },
  {
   "cell_type": "code",
   "execution_count": 150,
   "metadata": {
    "collapsed": true
   },
   "outputs": [],
   "source": [
    "if test_length:  # Fib.\n",
    "    smape_Y_fib_list = [smape_Y_fib[output_gp == gp] for gp in gp_list]"
   ]
  },
  {
   "cell_type": "markdown",
   "metadata": {},
   "source": [
    "#### Plots"
   ]
  },
  {
   "cell_type": "code",
   "execution_count": 151,
   "metadata": {},
   "outputs": [
    {
     "data": {
      "image/png": "[encoded data removed]",
      "text/plain": [
       "<matplotlib.figure.Figure at 0x9e6d4ac8>"
      ]
     },
     "metadata": {},
     "output_type": "display_data"
    }
   ],
   "source": [
    "if test_length:\n",
    "    for gp,s in zip(gp_list,smape_Y_pred_list):\n",
    "        plt.hist(s, bins=40, normed=True, alpha=0.6, label='gp = ' + str(gp))\n",
    "    #plt.yscale('log')\n",
    "    plt.legend(); plt.show()"
   ]
  },
  {
   "cell_type": "code",
   "execution_count": 152,
   "metadata": {},
   "outputs": [
    {
     "data": {
      "image/png": "[encoded data removed]",
      "text/plain": [
       "<matplotlib.figure.Figure at 0x9e734f60>"
      ]
     },
     "metadata": {},
     "output_type": "display_data"
    }
   ],
   "source": [
    "if test_length:\n",
    "    for gp,s in zip(gp_list,smape_Y_pred_list):\n",
    "        plt.hist(s, bins=40, alpha=0.6, label='gp = ' + str(gp))\n",
    "    #plt.yscale('log')\n",
    "    plt.legend(); plt.show()"
   ]
  },
  {
   "cell_type": "code",
   "execution_count": 153,
   "metadata": {
    "scrolled": true
   },
   "outputs": [
    {
     "data": {
      "image/png": "[encoded data removed]",
      "text/plain": [
       "<matplotlib.figure.Figure at 0x9741df60>"
      ]
     },
     "metadata": {},
     "output_type": "display_data"
    },
    {
     "data": {
      "image/png": "[encoded data removed]",
      "text/plain": [
       "<matplotlib.figure.Figure at 0x97191320>"
      ]
     },
     "metadata": {},
     "output_type": "display_data"
    },
    {
     "data": {
      "image/png": "[encoded data removed]",
      "text/plain": [
       "<matplotlib.figure.Figure at 0x97187898>"
      ]
     },
     "metadata": {},
     "output_type": "display_data"
    },
    {
     "data": {
      "image/png": "[encoded data removed]",
      "text/plain": [
       "<matplotlib.figure.Figure at 0x96f8b3c8>"
      ]
     },
     "metadata": {},
     "output_type": "display_data"
    }
   ],
   "source": [
    "if test_length:\n",
    "    for gp in gp_list:\n",
    "        plt.hist(smape_Y_fib_list[gp], bins=40, alpha=0.6, label='Fib.')\n",
    "        plt.hist(smape_Y_pred_list[gp], bins=40, alpha=0.6, label='Model')\n",
    "        plt.title('gp = '+str(gp)); plt.legend()\n",
    "        plt.show()\n",
    "    #plt.yscale('log')\n",
    "    #plt.ylim([0,0.05])"
   ]
  },
  {
   "cell_type": "markdown",
   "metadata": {},
   "source": [
    "## Prediction Pre Combine\n",
    "Combine group 0, 1 from Fib and rest from the model"
   ]
  },
  {
   "cell_type": "markdown",
   "metadata": {},
   "source": [
    "Y_output_fib.shape"
   ]
  },
  {
   "cell_type": "code",
   "execution_count": 154,
   "metadata": {},
   "outputs": [
    {
     "data": {
      "text/plain": [
       "(145063, 64)"
      ]
     },
     "execution_count": 154,
     "metadata": {},
     "output_type": "execute_result"
    }
   ],
   "source": [
    "Y_output_fib_ori = np.repeat(Y_output_fib, y_length, axis=1); Y_output_fib_ori.shape"
   ]
  },
  {
   "cell_type": "code",
   "execution_count": 155,
   "metadata": {},
   "outputs": [
    {
     "data": {
      "text/plain": [
       "(145063, 1)"
      ]
     },
     "execution_count": 155,
     "metadata": {},
     "output_type": "execute_result"
    }
   ],
   "source": [
    "# Select group 0 from Fib.\n",
    "fib_mask = (output_gp == 0).reshape(-1,1); fib_mask.shape\n",
    "#fib_mask = ((output_gp == 0)|(output_gp == 1)).reshape(-1,1); fib_mask.shape"
   ]
  },
  {
   "cell_type": "code",
   "execution_count": 156,
   "metadata": {
    "collapsed": true
   },
   "outputs": [],
   "source": [
    "# The combined result\n",
    "Y_output_fmc_ori_ens = []\n",
    "for Y_output_pred_ori in Y_output_pred_ori_ens:\n",
    "    \n",
    "    Y_output_fmc_ori = fib_mask * Y_output_fib_ori + (~fib_mask) * Y_output_pred_ori\n",
    "    \n",
    "    Y_output_fmc_ori_ens.append(Y_output_fmc_ori)"
   ]
  },
  {
   "cell_type": "markdown",
   "metadata": {},
   "source": [
    "Y_output_fmc_ori"
   ]
  },
  {
   "cell_type": "markdown",
   "metadata": {},
   "source": [
    "#### Pre Combined Score"
   ]
  },
  {
   "cell_type": "code",
   "execution_count": 157,
   "metadata": {
    "collapsed": true
   },
   "outputs": [],
   "source": [
    "if test_length: \n",
    "    fmc_smape_ens = []\n",
    "    for Y_output_fmc_ori in Y_output_fmc_ori_ens:\n",
    "        fmc_smape = smape(Y_output_fmc_ori, Y_output_raw)\n",
    "        fmc_smape_ens.append(fmc_smape)        \n",
    "    fmc_smape_ens_mean = np.mean(fmc_smape_ens)"
   ]
  },
  {
   "cell_type": "code",
   "execution_count": 158,
   "metadata": {},
   "outputs": [
    {
     "name": "stdout",
     "output_type": "stream",
     "text": [
      "37.719 (38.296) - model_10_Modified_CNN_4_The_Model_2_Longer_Prediction_3_64_64 0\n",
      "37.821 (38.399) - model_10_Modified_CNN_4_The_Model_2_Longer_Prediction_3_64_64 1\n",
      "37.654 (38.229) - model_10_Modified_CNN_4_The_Model_2_Longer_Prediction_3_64_64 2\n",
      "37.731 (38.308) - model_10_Modified_CNN_4_The_Model_2_Longer_Prediction_3_64_64 Average\n"
     ]
    }
   ],
   "source": [
    "if test_length: \n",
    "    for run, fmc_smape, model_smape in zip(ens_list, fmc_smape_ens, model_smape_ens):\n",
    "        print('%6.3f' % fmc_smape, '(%6.3f)' % model_smape, '-', model_name, run)\n",
    "    print('%6.3f' % fmc_smape_ens_mean, '(%6.3f)' % model_smape_ens_mean, '-', model_name, 'Average')"
   ]
  },
  {
   "cell_type": "markdown",
   "metadata": {},
   "source": [
    "## Ensemble Learning"
   ]
  },
  {
   "cell_type": "markdown",
   "metadata": {},
   "source": [
    "### Ensemble Median"
   ]
  },
  {
   "cell_type": "code",
   "execution_count": 159,
   "metadata": {},
   "outputs": [
    {
     "data": {
      "text/plain": [
       "(145063, 64)"
      ]
     },
     "execution_count": 159,
     "metadata": {},
     "output_type": "execute_result"
    }
   ],
   "source": [
    "Y_output_pred_ori_ens_med = np.median(Y_output_pred_ori_ens, axis=0)\n",
    "Y_output_pred_ori_ens_med.shape"
   ]
  },
  {
   "cell_type": "markdown",
   "metadata": {},
   "source": [
    "Y_output_pred_ori_ens_med"
   ]
  },
  {
   "cell_type": "code",
   "execution_count": 160,
   "metadata": {},
   "outputs": [
    {
     "data": {
      "text/plain": [
       "38.029472"
      ]
     },
     "execution_count": 160,
     "metadata": {},
     "output_type": "execute_result"
    }
   ],
   "source": [
    "ens_med_smape = smape(Y_output_pred_ori_ens_med, Y_output_raw); ens_med_smape"
   ]
  },
  {
   "cell_type": "markdown",
   "metadata": {},
   "source": [
    "Best ways seem to be taking median either before or after transformation."
   ]
  },
  {
   "cell_type": "markdown",
   "metadata": {},
   "source": [
    "### Ensemble Combine with Fibonacci Median"
   ]
  },
  {
   "cell_type": "code",
   "execution_count": 161,
   "metadata": {},
   "outputs": [
    {
     "data": {
      "text/plain": [
       "(145063, 1)"
      ]
     },
     "execution_count": 161,
     "metadata": {},
     "output_type": "execute_result"
    }
   ],
   "source": [
    "#Replace group 0 by Fib. Median\n",
    "fib_mask = ((output_gp == 0)).reshape(-1,1); fib_mask.shape\n",
    "#fib_mask = ((output_gp == 0)|(output_gp == 1)).reshape(-1,1); fib_mask.shape"
   ]
  },
  {
   "cell_type": "code",
   "execution_count": 162,
   "metadata": {
    "collapsed": true
   },
   "outputs": [],
   "source": [
    "#Y_output_f_omean = fib_mask * Y_output_fib_ori + (~fib_mask) * Y_output_pred_ori_ens_mean\n",
    "Y_output_f_omed  = fib_mask * Y_output_fib_ori + (~fib_mask) * Y_output_pred_ori_ens_med  # Our final output\n",
    "#Y_output_f_meano = fib_mask * Y_output_fib_ori + (~fib_mask) * Y_output_pred_ens_mean_ori\n",
    "#Y_output_f_medo  = fib_mask * Y_output_fib_ori + (~fib_mask) * Y_output_pred_ens_med_ori"
   ]
  },
  {
   "cell_type": "markdown",
   "metadata": {},
   "source": [
    "## All Model Scores"
   ]
  },
  {
   "cell_type": "code",
   "execution_count": 163,
   "metadata": {
    "collapsed": true,
    "scrolled": true
   },
   "outputs": [],
   "source": [
    "if test_length:  # Ensemble learning model score\n",
    "    #f_omean_smape = smape(Y_output_raw, Y_output_f_omean)\n",
    "    f_omed_smape = smape(Y_output_raw, Y_output_f_omed)\n",
    "    #f_meano_smape = smape(Y_output_raw, Y_output_f_meano)\n",
    "    #f_medo_smape = smape(Y_output_raw, Y_output_f_medo)"
   ]
  },
  {
   "cell_type": "code",
   "execution_count": 164,
   "metadata": {
    "scrolled": true
   },
   "outputs": [
    {
     "name": "stdout",
     "output_type": "stream",
     "text": [
      "37.469 (38.029) - model_10_Modified_CNN_4_The_Model_2_Longer_Prediction_3_64_64 ori_ensemble_median\n",
      "37.731 (38.308) - model_10_Modified_CNN_4_The_Model_2_Longer_Prediction_3_64_64 Average\n",
      "37.719 (38.296) - model_10_Modified_CNN_4_The_Model_2_Longer_Prediction_3_64_64 0\n",
      "37.821 (38.399) - model_10_Modified_CNN_4_The_Model_2_Longer_Prediction_3_64_64 1\n",
      "37.654 (38.229) - model_10_Modified_CNN_4_The_Model_2_Longer_Prediction_3_64_64 2\n"
     ]
    }
   ],
   "source": [
    "if test_length: # The_score with (without) combining Fibonacci median model\n",
    "    #print('%6.3f         ' % f_omean_smape, '-', model_name, 'ori_ens_mean')\n",
    "    print('%6.3f' % f_omed_smape, '(%6.3f)' % ens_med_smape,'-', model_name, 'ori_ensemble_median')\n",
    "    #print('%6.3f         ' % f_meano_smape, '-', model_name, 'ens_mean_ori')\n",
    "    #print('%6.3f         ' % f_medo_smape, '-', model_name, 'ens_med_ori')\n",
    "    print('%6.3f' % fmc_smape_ens_mean, '(%6.3f)' % model_smape_ens_mean, '-', model_name, 'Average')\n",
    "    for run, fmc_smape, model_smape in zip(ens_list, fmc_smape_ens, model_smape_ens):\n",
    "        print('%6.3f' % fmc_smape, '(%6.3f)' % model_smape, '-', model_name, run)"
   ]
  },
  {
   "cell_type": "markdown",
   "metadata": {},
   "source": [
    "37.429 (38.536) - model_10_Modified_CNN_4_The_Model ori_ensemble_median\n",
    "37.731 (38.836) - model_10_Modified_CNN_4_The_Model Average\n",
    "37.699 (38.826) - model_10_Modified_CNN_4_The_Model 0\n",
    "37.623 (38.677) - model_10_Modified_CNN_4_The_Model 1\n",
    "37.763 (38.829) - model_10_Modified_CNN_4_The_Model 2\n",
    "37.748 (38.889) - model_10_Modified_CNN_4_The_Model 3\n",
    "37.821 (38.957) - model_10_Modified_CNN_4_The_Model 4\n",
    "\n",
    "37.436          - model_10_Modified_CNN_0_median_stdev ori_ens_mean\n",
    "37.382          - model_10_Modified_CNN_0_median_stdev ori_ens_med\n",
    "37.394          - model_10_Modified_CNN_0_median_stdev ens_mean_ori\n",
    "37.382          - model_10_Modified_CNN_0_median_stdev ens_med_ori\n",
    "37.687 (38.816) - model_10_Modified_CNN_0_median_stdev Average"
   ]
  },
  {
   "cell_type": "markdown",
   "metadata": {},
   "source": [
    "Ensemble of model are all better than the individual model."
   ]
  },
  {
   "cell_type": "markdown",
   "metadata": {},
   "source": [
    "fmc_smape_ens"
   ]
  },
  {
   "cell_type": "markdown",
   "metadata": {},
   "source": [
    "fmc_smape_ens_mean"
   ]
  },
  {
   "cell_type": "markdown",
   "metadata": {
    "collapsed": true
   },
   "source": [
    "#### Combined Scores:\n",
    "37.473          - model_10_Modified_CNN_1_Z ori_ensemble_median\n",
    "\n",
    "37.535          - model_10_Modified_CNN_0_median_stdev_2_3_groups ori_ensemble_median\n",
    "\n",
    "37.382          - model_10_Modified_CNN_0_median_stdev ori_ens_med\n",
    "\n",
    "37.687 (38.816) - model_10_Modified_CNN_0_median_stdev Average\n",
    "\n",
    "38.734 (39.415) - Model 9.1.0 - model_9_CNN_with_Fibonacci_1_no_group 1\n",
    "\n",
    "38.227 (39.321) - Model 9.0.0 - model_9_CNN_with_Fibonacci_0_separate_Fib_median 1\n",
    "\n",
    "43.009 (44.180) - Model 7.8.0 - model_7_CNN_with_Fibonacci_8_mean_absolute_error 2\n",
    "\n",
    "44.070 (45.335) - Model 7.6.3 - model_7_CNN_with_Fibonacci_6_Wider_3_conv_120_Averagepool 1\n",
    "\n",
    "44.473 (45.652) - Model 7.6.1 - model_7_CNN_with_Fibonacci_6_Wider_1_conv_120_Maxpool 1\n",
    "\n",
    "44.433 - Model 7.5.0 - model_7_CNN_with_Fibonacci_5_Deeper_0_Initial\n",
    "\n",
    "44.168 - Model 7.2.0"
   ]
  },
  {
   "cell_type": "markdown",
   "metadata": {},
   "source": [
    "## All Group Scores"
   ]
  },
  {
   "cell_type": "code",
   "execution_count": 165,
   "metadata": {
    "collapsed": true
   },
   "outputs": [],
   "source": [
    "# ensemble result Y_output in each group\n",
    "#Y_output_pred_ori_ens_mean_list = [Y_output_pred_ori_ens_mean[output_gp == gp] for gp in gp_list]\n",
    "Y_output_pred_ori_ens_med_list = [Y_output_pred_ori_ens_med[output_gp == gp] for gp in gp_list]\n",
    "#Y_output_pred_ens_mean_ori_list = [Y_output_pred_ens_mean_ori[output_gp == gp] for gp in gp_list]\n",
    "#Y_output_pred_ens_med_ori_list = [Y_output_pred_ens_med_ori[output_gp == gp] for gp in gp_list]"
   ]
  },
  {
   "cell_type": "code",
   "execution_count": 166,
   "metadata": {
    "collapsed": true
   },
   "outputs": [],
   "source": [
    "# Group SMAPE scores\n",
    "if test_length:\n",
    "    # SMAPE with nan values ignored (used by Kaggle)\n",
    "    #gp_omean_smape = [smape(Y, Y_p) for Y, Y_p in zip(Y_output_raw_list, Y_output_pred_ori_ens_mean_list)]\n",
    "    gp_omed_smape = [smape(Y, Y_p) for Y, Y_p in zip(Y_output_raw_list, Y_output_pred_ori_ens_med_list)]\n",
    "    #gp_meano_smape = [smape(Y, Y_p) for Y, Y_p in zip(Y_output_raw_list, Y_output_pred_ens_mean_ori_list)]\n"
   ]
  },
  {
   "cell_type": "code",
   "execution_count": 167,
   "metadata": {
    "scrolled": true
   },
   "outputs": [
    {
     "name": "stdout",
     "output_type": "stream",
     "text": [
      "#### model_10_Modified_CNN_4_The_Model_2_Longer_Prediction_3_64_64\n",
      "| N_pages|Fibonacci|Ens Media| Average | Model 0 | Model 1 | Model 2 |\n",
      "|--------|---------|---------|---------|---------|---------|---------|\n",
      "|  24929 |  61.209 |  64.827 |  64.933 |  64.937 |  64.940 |  64.922 |\n",
      "|  43689 |  40.710 |  39.664 |  39.960 |  39.903 |  39.966 |  40.012 |\n",
      "|  75648 |  34.504 |  29.336 |  29.650 |  29.647 |  29.820 |  29.485 |\n",
      "|    797 |  34.828 |  32.550 |  33.291 |  34.568 |  32.904 |  32.401 |\n",
      "|Over All|  40.552 |  37.469 |  38.308 |  38.296 |  38.399 |  38.229 |"
     ]
    }
   ],
   "source": [
    "if test_length:  # The_gp_score\n",
    "    print('#### ' + model_name)\n",
    "    print('', end='|')\n",
    "    print(' N_pages', 'Fibonacci', 'Ens Media', ' Average ', sep='|', end='|')\n",
    "    for run in ens_list: print(' Model', run, end=' |')\n",
    "    print('')\n",
    "    print('', end='|')\n",
    "    print('--------', '---------', '---------', '---------', sep='|', end='|')\n",
    "    for run in ens_list: print('---------', end='|')\n",
    "    print('')\n",
    "    for gp in gp_list:\n",
    "        print('', end='|')\n",
    "        print(' %6d ' % gp_n[gp], end='|')\n",
    "        print(' %7.3f ' % gp_smape_fib[gp], end='|')\n",
    "        #print(' %7.3f ' % gp_omean_smape[gp], end='|')\n",
    "        print(' %7.3f ' % gp_omed_smape[gp], end='|')\n",
    "        #print(' %7.3f ' % gp_meano_smape[gp], end='|')\n",
    "        #print(' %7.3f ' % gp_medo_smape[gp], end='|')\n",
    "        print(' %7.3f ' % gp_smape_mean[gp], end='|')\n",
    "        for run in ens_list:\n",
    "            print(' %7.3f ' % gp_smape_ens[run][gp], end='|')\n",
    "        print('')\n",
    "    print('|Over All', ' %7.3f ' % fib_smape, ' %7.3f ' % f_omed_smape,\n",
    "          ' %7.3f ' % model_smape_ens_mean, sep='|', end='|')\n",
    "    for run in ens_list:\n",
    "            print(' %7.3f ' % model_smape_ens[run], end='|')\n",
    "\n",
    "# Note The over all score for ensemble median (Ens Media) is the one after combining with \n",
    "# Fibonacci median model not the total score"
   ]
  },
  {
   "cell_type": "markdown",
   "metadata": {},
   "source": [
    "#### model_10_Modified_CNN_4_The_Model\n",
    "| N_pages|Fibonacci|Ens Media| Average | Model 0 | Model 1 | Model 2 | Model 3 | Model 4 |\n",
    "|--------|---------|---------|---------|---------|---------|---------|---------|---------|\n",
    "|  24964 |  61.170 |  68.304 |  68.291 |  68.432 |  67.965 |  68.039 |  68.527 |  68.492 |\n",
    "|  43691 |  40.612 |  39.627 |  39.986 |  39.863 |  39.935 |  40.101 |  39.696 |  40.336 |\n",
    "|  75617 |  34.284 |  29.275 |  29.633 |  29.641 |  29.453 |  29.630 |  29.832 |  29.606 |\n",
    "|    791 |  34.653 |  33.112 |  33.308 |  33.714 |  33.951 |  32.934 |  33.296 |  32.647 |\n",
    "|Over All|  40.404 |  37.429 |  38.836 |  38.826 |  38.677 |  38.829 |  38.889 |  38.957 |\n",
    "#### model_10_Modified_CNN_0_median_stdev_2_3_groups\n",
    "| N_pages|Fibonacci|Ens Media| Average | Model 0 | Model 1 | Model 2 | Model 3 | Model 4 |\n",
    "|--------|---------|---------|---------|---------|---------|---------|---------|---------|\n",
    "|  24964 |  61.170 |  68.909 |  68.900 |  69.367 |  69.103 |  69.194 |  69.001 |  67.833 |\n",
    "|  43691 |  40.612 |  39.821 |  40.247 |  39.939 |  40.098 |  40.056 |  40.701 |  40.443 |\n",
    "|  76408 |  34.288 |  29.400 |  29.910 |  29.979 |  30.039 |  29.790 |  29.676 |  30.068 |\n",
    "|Over All|  40.404 |  37.535 |  39.140 |  39.154 |  39.194 |  39.062 |  39.169 |  39.119 |\n",
    "#### model_10_Modified_CNN_0_median_stdev\n",
    "| N_pages|Fibonacci| ori mean|ori media| mean ori|media ori| Model 0 | Model 1 | Model 2 | Model 3 | Model 4 |\n",
    "|--------|---------|---------|---------|---------|---------|---------|---------|---------|---------|---------|\n",
    "|   1879 |  57.385 | 199.741 | 172.496 | 191.624 | 172.496 | 161.576 | 156.487 | 166.024 | 139.355 | 159.019 |\n",
    "|  23085 |  61.354 |  64.110 |  64.122 |  64.116 |  64.122 |  64.389 |  64.273 |  64.008 |  63.988 |  64.148 |\n",
    "|  43691 |  40.612 |  39.620 |  39.564 |  39.574 |  39.564 |  39.684 |  39.842 |  39.969 |  39.808 |  40.173 |\n",
    "|  75617 |  34.284 |  29.300 |  29.231 |  29.248 |  29.231 |  29.538 |  29.575 |  29.454 |  29.907 |  29.573 |\n",
    "|    740 |  35.621 |  33.403 |  33.482 |  33.373 |  33.482 |  33.564 |  33.710 |  33.397 |  33.666 |  33.965 |\n",
    "|     51 |  20.224 |  16.360 |  16.338 |  16.361 |  16.338 |  16.406 |  16.451 |  17.309 |  16.628 |  16.331 |\n",
    "#### model_9_CNN_with_Fibonacci_4_Ensemble_3_filter_3\n",
    "| N_pages|Fibonacci| ori mean|ori media| mean ori|media ori| Model 0 | Model 1 | Model 2 | Model 3 | Model 4 |\n",
    "|--------|---------|---------|---------|---------|---------|---------|---------|---------|---------|---------|\n",
    "|   1879 |  57.385 | 199.921 | 173.799 | 189.346 | 173.799 | 161.230 | 166.806 | 139.008 | 152.935 | 170.833 |\n",
    "|  23085 |  61.354 |  63.635 |  63.651 |  63.644 |  63.651 |  64.048 |  63.281 |  63.966 |  63.664 |  63.569 |\n",
    "|  43691 |  40.612 |  39.693 |  39.628 |  39.637 |  39.628 |  40.004 |  39.860 |  40.201 |  39.817 |  40.143 |\n",
    "|  75617 |  34.284 |  29.444 |  29.368 |  29.381 |  29.368 |  30.201 |  29.582 |  29.611 |  29.744 |  29.618 |\n",
    "|    740 |  35.621 |  33.858 |  33.893 |  33.837 |  33.893 |  33.801 |  34.143 |  34.101 |  34.290 |  34.145 |\n",
    "|     51 |  20.224 |  16.861 |  16.948 |  16.856 |  16.948 |  16.933 |  17.094 |  16.930 |  17.424 |  16.985 |"
   ]
  },
  {
   "cell_type": "markdown",
   "metadata": {},
   "source": [
    "## More Explore"
   ]
  },
  {
   "cell_type": "markdown",
   "metadata": {},
   "source": [
    "### Group Models in other Groups"
   ]
  },
  {
   "cell_type": "code",
   "execution_count": 168,
   "metadata": {},
   "outputs": [
    {
     "name": "stdout",
     "output_type": "stream",
     "text": [
      "Run 0\n",
      "Run 1\n",
      "Run 2\n",
      "Wall time: 2min 20s\n"
     ]
    }
   ],
   "source": [
    "%%time\n",
    "smape_gpm_gp_ens = []\n",
    "for run in ens_list:\n",
    "    print('Run', run)\n",
    "    models = models_ens[run]\n",
    "    Y_output_all_ori_list = unlog(np.array([untransform(model.predict([X_output, A_output]), \n",
    "                                                        Y_output_center, output_scale) \n",
    "                                            for model in models]))\n",
    "    # row: model of the group; column: group of Y\n",
    "    smape_gpm_gp = [[smape(Y, Y_p[output_gp == gp]) for gp, Y in zip(gp_list, Y_output_raw_list)] \n",
    "                    for Y_p in Y_output_all_ori_list]\n",
    "    smape_gpm_gp_ens.append(smape_gpm_gp)\n",
    "smape_gpm_gp_ens = np.array(smape_gpm_gp_ens)"
   ]
  },
  {
   "cell_type": "code",
   "execution_count": 169,
   "metadata": {
    "collapsed": true
   },
   "outputs": [],
   "source": [
    "smape_gpm_gp_mean = np.mean(smape_gpm_gp_ens, axis=0)"
   ]
  },
  {
   "cell_type": "code",
   "execution_count": 170,
   "metadata": {
    "scrolled": true
   },
   "outputs": [
    {
     "name": "stdout",
     "output_type": "stream",
     "text": [
      "Ensemble avg  | group 0| group 1| group 2| group 3|\n",
      "--------------|--------|--------|--------|--------|\n",
      "group model 0 |  64.93 |  40.82 |  34.63 |  35.01 |\n",
      "group model 1 |  68.55 |  39.96 |  30.86 |  32.07 |\n",
      "group model 2 |  70.61 |  40.63 |  29.65 |  29.45 |\n",
      "group model 3 |  74.33 |  43.98 |  33.57 |  33.29 |\n"
     ]
    }
   ],
   "source": [
    "print('Ensemble avg  ', end='|')\n",
    "for j in range(len(smape_gpm_gp_mean[0])): print(' group', j, end='|')\n",
    "print('')\n",
    "print('--------------', end='|')\n",
    "for j in range(len(smape_gpm_gp_mean[0])): print('--------', end='|')\n",
    "print('')\n",
    "for i in range(len(smape_gpm_gp_mean)):\n",
    "    print('group model', i, end=' |')\n",
    "    for j in range(len(smape_gpm_gp_mean[0])):\n",
    "        print(' %6.2f ' % smape_gpm_gp_mean[i][j], end='|')\n",
    "    print('')"
   ]
  },
  {
   "cell_type": "markdown",
   "metadata": {},
   "source": [
    "Only group model 2 and 3 are useful"
   ]
  },
  {
   "cell_type": "code",
   "execution_count": 171,
   "metadata": {},
   "outputs": [
    {
     "name": "stdout",
     "output_type": "stream",
     "text": [
      "  64.83 |  39.66 |  29.34 |  32.55 |"
     ]
    }
   ],
   "source": [
    "for x in gp_omed_smape: print(' %6.2f ' % x, end='|')"
   ]
  },
  {
   "cell_type": "code",
   "execution_count": 172,
   "metadata": {},
   "outputs": [
    {
     "name": "stdout",
     "output_type": "stream",
     "text": [
      "  61.21 |  40.71 |  34.50 |  34.83 |"
     ]
    }
   ],
   "source": [
    "for x in gp_smape_fib: print(' %6.2f ' % x, end='|')"
   ]
  },
  {
   "cell_type": "markdown",
   "metadata": {},
   "source": [
    "Group 4 is better at group 3 model. Group 5 is better at group 2 or 3 model"
   ]
  },
  {
   "cell_type": "markdown",
   "metadata": {},
   "source": [
    "## Optimize Group Models"
   ]
  },
  {
   "cell_type": "markdown",
   "metadata": {},
   "source": [
    "### Group Models in other Groups"
   ]
  },
  {
   "cell_type": "code",
   "execution_count": 173,
   "metadata": {},
   "outputs": [
    {
     "name": "stdout",
     "output_type": "stream",
     "text": [
      "Wall time: 2min 18s\n"
     ]
    }
   ],
   "source": [
    "%%time\n",
    "Y_output_all_ori_list_ens = unlog(np.array([[untransform(model.predict([X_output, A_output]), \n",
    "                                                         Y_output_center, output_scale) \n",
    "                                            for model in models] for models in models_ens]))\n",
    "#Take 4 min on PC and NB"
   ]
  },
  {
   "cell_type": "code",
   "execution_count": 174,
   "metadata": {},
   "outputs": [
    {
     "data": {
      "text/plain": [
       "(3, 4, 145063, 64)"
      ]
     },
     "execution_count": 174,
     "metadata": {},
     "output_type": "execute_result"
    }
   ],
   "source": [
    "Y_output_all_ori_list_ens.shape  # (Ensemble, Group model, Y, y)"
   ]
  },
  {
   "cell_type": "code",
   "execution_count": 175,
   "metadata": {},
   "outputs": [
    {
     "data": {
      "text/plain": [
       "(4, 145063, 64)"
      ]
     },
     "execution_count": 175,
     "metadata": {},
     "output_type": "execute_result"
    }
   ],
   "source": [
    "#Take Ensemble median\n",
    "Y_output_all_ori_list_ens_med = np.median(Y_output_all_ori_list_ens, axis=0); Y_output_all_ori_list_ens_med.shape"
   ]
  },
  {
   "cell_type": "code",
   "execution_count": 176,
   "metadata": {
    "collapsed": true
   },
   "outputs": [],
   "source": [
    "#Group scores for each group models\n",
    "#row index: group model; column index: group of Y\n",
    "smape_gpm_gp_ens_med = [[smape(Y, Y_p[output_gp == gp]) for gp, Y in zip(gp_list, Y_output_raw_list)] \n",
    "                        for Y_p in Y_output_all_ori_list_ens_med]"
   ]
  },
  {
   "cell_type": "code",
   "execution_count": 177,
   "metadata": {},
   "outputs": [
    {
     "name": "stdout",
     "output_type": "stream",
     "text": [
      "Ens. Median   | group 0| group 1| group 2| group 3|\n",
      "--------------|--------|--------|--------|--------|\n",
      "group model 0 |  64.83 |  40.77 |  34.57 |  34.93 |\n",
      "group model 1 |  68.32 |  39.66 |  30.57 |  31.86 |\n",
      "group model 2 |  70.03 |  40.12 |  29.34 |  29.10 |\n",
      "group model 3 |  73.02 |  43.00 |  32.83 |  32.55 |\n"
     ]
    }
   ],
   "source": [
    "print('Ens. Median   ', end='|')\n",
    "for j in range(len(smape_gpm_gp_ens_med[0])): print(' group', j, end='|')\n",
    "print('')\n",
    "print('--------------', end='|')\n",
    "for j in range(len(smape_gpm_gp_ens_med[0])): print('--------', end='|')\n",
    "print('')\n",
    "for i in range(len(smape_gpm_gp_ens_med)):\n",
    "    print('group model', i, end=' |')\n",
    "    for j in range(len(smape_gpm_gp_ens_med[0])):\n",
    "        print(' %6.2f ' % smape_gpm_gp_ens_med[i][j], end='|')\n",
    "    print('')"
   ]
  },
  {
   "cell_type": "code",
   "execution_count": 178,
   "metadata": {},
   "outputs": [
    {
     "name": "stdout",
     "output_type": "stream",
     "text": [
      "  64.83 |  39.66 |  29.34 |  32.55 |"
     ]
    }
   ],
   "source": [
    "for x in gp_omed_smape: print(' %6.2f ' % x, end='|')"
   ]
  },
  {
   "cell_type": "code",
   "execution_count": 179,
   "metadata": {},
   "outputs": [
    {
     "name": "stdout",
     "output_type": "stream",
     "text": [
      "  61.21 |  40.71 |  34.50 |  34.83 |"
     ]
    }
   ],
   "source": [
    "for x in gp_smape_fib: print(' %6.2f ' % x, end='|')"
   ]
  },
  {
   "cell_type": "markdown",
   "metadata": {},
   "source": [
    "### Optimized Group Models"
   ]
  },
  {
   "cell_type": "code",
   "execution_count": 180,
   "metadata": {},
   "outputs": [
    {
     "name": "stdout",
     "output_type": "stream",
     "text": [
      "model_10_Modified_CNN_4_The_Model_2_Longer_Prediction_3_64_64 gpm_list = [0,1,2,2,]\n"
     ]
    }
   ],
   "source": [
    "gpm_list = np.argmin(smape_gpm_gp_mean,axis=0)\n",
    "\n",
    "print(model_name,'gpm_list = [', end='')\n",
    "for x in gpm_list: print(x, end=',')\n",
    "print(']')"
   ]
  },
  {
   "cell_type": "code",
   "execution_count": 181,
   "metadata": {},
   "outputs": [
    {
     "data": {
      "text/plain": [
       "array([[ True, False, False, False],\n",
       "       [False,  True, False, False],\n",
       "       [False, False,  True, False],\n",
       "       [False, False,  True, False]], dtype=bool)"
      ]
     },
     "execution_count": 181,
     "metadata": {},
     "output_type": "execute_result"
    }
   ],
   "source": [
    "gpm_mask = np.array([gpm_list == gp for gp in gp_list]).T; gpm_mask"
   ]
  },
  {
   "cell_type": "code",
   "execution_count": 182,
   "metadata": {
    "collapsed": true
   },
   "outputs": [],
   "source": [
    "Y_output_ori_list_ens_med_temp = np.tensordot(gpm_mask, Y_output_all_ori_list_ens_med, axes=([1],[0]))"
   ]
  },
  {
   "cell_type": "code",
   "execution_count": 183,
   "metadata": {},
   "outputs": [
    {
     "data": {
      "text/plain": [
       "array([[False, False,  True, ..., False,  True, False],\n",
       "       [ True,  True, False, ...,  True, False,  True],\n",
       "       [False, False, False, ..., False, False, False],\n",
       "       [False, False, False, ..., False, False, False]], dtype=bool)"
      ]
     },
     "execution_count": 183,
     "metadata": {},
     "output_type": "execute_result"
    }
   ],
   "source": [
    "gp_mask = np.array([output_gp == gp for gp in gp_list]); gp_mask"
   ]
  },
  {
   "cell_type": "code",
   "execution_count": 184,
   "metadata": {},
   "outputs": [
    {
     "data": {
      "text/plain": [
       "(4, 145063, 1)"
      ]
     },
     "execution_count": 184,
     "metadata": {},
     "output_type": "execute_result"
    }
   ],
   "source": [
    "gp_mask_reshape = gp_mask.reshape(len(gp_mask),len(gp_mask[0]),1); gp_mask_reshape.shape"
   ]
  },
  {
   "cell_type": "code",
   "execution_count": 185,
   "metadata": {
    "collapsed": true
   },
   "outputs": [],
   "source": [
    "Y_output_ori_list_ens_med_temp_mask = gp_mask_reshape * Y_output_ori_list_ens_med_temp"
   ]
  },
  {
   "cell_type": "code",
   "execution_count": 186,
   "metadata": {},
   "outputs": [
    {
     "data": {
      "text/plain": [
       "(4, 145063, 64)"
      ]
     },
     "execution_count": 186,
     "metadata": {},
     "output_type": "execute_result"
    }
   ],
   "source": [
    "Y_output_ori_list_ens_med_temp_mask.shape"
   ]
  },
  {
   "cell_type": "code",
   "execution_count": 187,
   "metadata": {
    "collapsed": true
   },
   "outputs": [],
   "source": [
    "Y_output_gpm_ens_med = np.sum(Y_output_ori_list_ens_med_temp_mask, axis=0)"
   ]
  },
  {
   "cell_type": "code",
   "execution_count": 188,
   "metadata": {},
   "outputs": [
    {
     "data": {
      "text/plain": [
       "(145063, 64)"
      ]
     },
     "execution_count": 188,
     "metadata": {},
     "output_type": "execute_result"
    }
   ],
   "source": [
    "Y_output_gpm_ens_med.shape"
   ]
  },
  {
   "cell_type": "code",
   "execution_count": 189,
   "metadata": {
    "collapsed": true
   },
   "outputs": [],
   "source": [
    "gpm_ens_smape = smape(Y_output_raw, Y_output_gpm_ens_med)"
   ]
  },
  {
   "cell_type": "code",
   "execution_count": 190,
   "metadata": {},
   "outputs": [
    {
     "data": {
      "text/plain": [
       "(38.010773, 38.029472)"
      ]
     },
     "execution_count": 190,
     "metadata": {},
     "output_type": "execute_result"
    }
   ],
   "source": [
    "gpm_ens_smape, ens_med_smape"
   ]
  },
  {
   "cell_type": "markdown",
   "metadata": {},
   "source": [
    "#### Group scores"
   ]
  },
  {
   "cell_type": "code",
   "execution_count": 191,
   "metadata": {
    "collapsed": true
   },
   "outputs": [],
   "source": [
    "Y_output_gpm_ens_med_list = [Y_output_gpm_ens_med[output_gp == gp] for gp in gp_list]"
   ]
  },
  {
   "cell_type": "code",
   "execution_count": 192,
   "metadata": {
    "collapsed": true
   },
   "outputs": [],
   "source": [
    "# Group SMAPE scores\n",
    "if test_length:\n",
    "    gp_gpm_ens_med_smape = [smape(Y, Y_p) for Y, Y_p in zip(Y_output_raw_list, Y_output_gpm_ens_med_list)]"
   ]
  },
  {
   "cell_type": "code",
   "execution_count": 193,
   "metadata": {},
   "outputs": [
    {
     "name": "stdout",
     "output_type": "stream",
     "text": [
      " N_pages|Fibonacci|GPM Optim|Ens Media| Average |\n",
      "|--------|---------|---------|---------|---------|\n",
      "|  24929 |  61.209 |  64.827 |  64.827 |  64.933 |\n",
      "|  43689 |  40.710 |  39.664 |  39.664 |  39.960 |\n",
      "|  75648 |  34.504 |  29.336 |  29.336 |  29.650 |\n",
      "|    797 |  34.828 |  29.097 |  32.550 |  33.291 |\n"
     ]
    }
   ],
   "source": [
    "if test_length:\n",
    "    #print('#### ' + model_name + 'group model optimized')\n",
    "    #print('', end='|')\n",
    "    print(' N_pages', 'Fibonacci', 'GPM Optim', 'Ens Media', ' Average ', sep='|', end='|')\n",
    "    #or run in ens_list: print(' Model', run, end=' |')\n",
    "    print('')\n",
    "    print('', end='|')\n",
    "    print('--------', '---------', '---------', '---------', '---------', sep='|', end='|')\n",
    "    #for run in ens_list: print('---------', end='|')\n",
    "    print('')\n",
    "    for gp in gp_list:\n",
    "        print('', end='|')\n",
    "        print(' %6d ' % gp_n[gp], end='|')\n",
    "        print(' %7.3f ' % gp_smape_fib[gp], end='|')\n",
    "        print(' %7.3f ' % gp_gpm_ens_med_smape[gp], end='|')\n",
    "        print(' %7.3f ' % gp_omed_smape[gp], end='|')\n",
    "        print(' %7.3f ' % gp_smape_mean[gp], end='|')\n",
    "        print('')\n",
    "    #print('|Over All', ' %7.3f ' % fib_smape, ' %7.3f ' % f_omed_smape,\n",
    "    #      ' %7.3f ' % model_smape_ens_mean, sep='|', end='|')    \n",
    "# Note The over all score for ensemble median (Ens Media) is the one after combining with \n",
    "# Fibonacci median model not the total score"
   ]
  },
  {
   "cell_type": "markdown",
   "metadata": {},
   "source": [
    "#### Combined with Fib."
   ]
  },
  {
   "cell_type": "code",
   "execution_count": 194,
   "metadata": {},
   "outputs": [
    {
     "data": {
      "text/plain": [
       "(145063, 1)"
      ]
     },
     "execution_count": 194,
     "metadata": {},
     "output_type": "execute_result"
    }
   ],
   "source": [
    "#Select group 0\n",
    "#fib_mask = ((output_gp == 0)|(output_gp == 1)).reshape(-1,1); fib_mask.shape\n",
    "fib_mask = (output_gp == 0).reshape(-1,1); fib_mask.shape"
   ]
  },
  {
   "cell_type": "code",
   "execution_count": 195,
   "metadata": {
    "collapsed": true
   },
   "outputs": [],
   "source": [
    "Y_output_f_gpm = fib_mask * Y_output_fib_ori + (~fib_mask) * Y_output_gpm_ens_med  # Our final output"
   ]
  },
  {
   "cell_type": "code",
   "execution_count": 196,
   "metadata": {
    "collapsed": true
   },
   "outputs": [],
   "source": [
    "f_gpm_ens_smape = smape(Y_output_raw, Y_output_f_gpm)"
   ]
  },
  {
   "cell_type": "code",
   "execution_count": 197,
   "metadata": {},
   "outputs": [
    {
     "name": "stdout",
     "output_type": "stream",
     "text": [
      "37.450 (38.011) - model_10_Modified_CNN_4_The_Model_2_Longer_Prediction_3_64_64 GPM Optim Ens\n"
     ]
    }
   ],
   "source": [
    "print('%6.3f' % f_gpm_ens_smape, '(%6.3f)' % gpm_ens_smape, '-', model_name, 'GPM Optim Ens')"
   ]
  },
  {
   "cell_type": "markdown",
   "metadata": {},
   "source": [
    "## Plots"
   ]
  },
  {
   "cell_type": "markdown",
   "metadata": {
    "collapsed": true
   },
   "source": [
    "### Group model examination"
   ]
  },
  {
   "cell_type": "code",
   "execution_count": 198,
   "metadata": {},
   "outputs": [
    {
     "data": {
      "text/plain": [
       "(4, 145063, 64)"
      ]
     },
     "execution_count": 198,
     "metadata": {},
     "output_type": "execute_result"
    }
   ],
   "source": [
    "Y_output_all_ori_list_ens_med.shape"
   ]
  },
  {
   "cell_type": "markdown",
   "metadata": {},
   "source": [
    "#### Group = 5"
   ]
  },
  {
   "cell_type": "code",
   "execution_count": 199,
   "metadata": {
    "collapsed": true
   },
   "outputs": [],
   "source": [
    "gp = 5\n",
    "Y_list = Y_output_all_ori_list_ens_med[:, output_gp == gp]"
   ]
  },
  {
   "cell_type": "code",
   "execution_count": 200,
   "metadata": {},
   "outputs": [
    {
     "data": {
      "text/plain": [
       "(4, 0, 64)"
      ]
     },
     "execution_count": 200,
     "metadata": {},
     "output_type": "execute_result"
    }
   ],
   "source": [
    "Y_list.shape"
   ]
  },
  {
   "cell_type": "code",
   "execution_count": 201,
   "metadata": {},
   "outputs": [
    {
     "ename": "ValueError",
     "evalue": "a must be greater than 0",
     "output_type": "error",
     "traceback": [
      "\u001b[1;31m---------------------------------------------------------------------------\u001b[0m",
      "\u001b[1;31mValueError\u001b[0m                                Traceback (most recent call last)",
      "\u001b[1;32m<ipython-input-201-863832cbd7b4>\u001b[0m in \u001b[0;36m<module>\u001b[1;34m()\u001b[0m\n\u001b[1;32m----> 1\u001b[1;33m \u001b[0mview_list\u001b[0m \u001b[1;33m=\u001b[0m \u001b[0mnp\u001b[0m\u001b[1;33m.\u001b[0m\u001b[0msort\u001b[0m\u001b[1;33m(\u001b[0m\u001b[0mnp\u001b[0m\u001b[1;33m.\u001b[0m\u001b[0mrandom\u001b[0m\u001b[1;33m.\u001b[0m\u001b[0mchoice\u001b[0m\u001b[1;33m(\u001b[0m\u001b[0mlen\u001b[0m\u001b[1;33m(\u001b[0m\u001b[0mY_list\u001b[0m\u001b[1;33m[\u001b[0m\u001b[1;36m0\u001b[0m\u001b[1;33m]\u001b[0m\u001b[1;33m)\u001b[0m\u001b[1;33m,\u001b[0m \u001b[1;36m5\u001b[0m\u001b[1;33m,\u001b[0m \u001b[0mreplace\u001b[0m\u001b[1;33m=\u001b[0m\u001b[1;32mFalse\u001b[0m\u001b[1;33m)\u001b[0m\u001b[1;33m)\u001b[0m\u001b[1;33m;\u001b[0m \u001b[0mview_list\u001b[0m\u001b[1;33m\u001b[0m\u001b[0m\n\u001b[0m",
      "\u001b[1;32mmtrand.pyx\u001b[0m in \u001b[0;36mmtrand.RandomState.choice (numpy\\random\\mtrand\\mtrand.c:17104)\u001b[1;34m()\u001b[0m\n",
      "\u001b[1;31mValueError\u001b[0m: a must be greater than 0"
     ]
    }
   ],
   "source": [
    "view_list = np.sort(np.random.choice(len(Y_list[0]), 5, replace=False)); view_list"
   ]
  },
  {
   "cell_type": "code",
   "execution_count": null,
   "metadata": {
    "collapsed": true,
    "scrolled": true
   },
   "outputs": [],
   "source": [
    "print('Group ' + str(gp))\n",
    "for i in view_list:\n",
    "    print('i = ', i)\n",
    "    plt.plot(Y_output_ori_list[gp][i], label='true')\n",
    "    for gpm in gp_list:\n",
    "        plt.plot(Y_list[gpm, i], label='gpm '+ str(gpm))\n",
    "    plt.legend()\n",
    "    plt.show()    "
   ]
  },
  {
   "cell_type": "code",
   "execution_count": null,
   "metadata": {
    "collapsed": true
   },
   "outputs": [],
   "source": [
    "orinal_view_list = np.arange(len(output_gp))[output_gp == gp][view_list];\n",
    "np.array([view_list, orinal_view_list])"
   ]
  },
  {
   "cell_type": "code",
   "execution_count": null,
   "metadata": {
    "collapsed": true
   },
   "outputs": [],
   "source": [
    "np.array([fib_input_median[orinal_view_list], fib_output_median[orinal_view_list]])"
   ]
  },
  {
   "cell_type": "markdown",
   "metadata": {},
   "source": [
    "#### Group = 4"
   ]
  },
  {
   "cell_type": "code",
   "execution_count": null,
   "metadata": {
    "collapsed": true
   },
   "outputs": [],
   "source": [
    "gp = 4\n",
    "Y_list = Y_output_all_ori_list_ens_med[:, output_gp == gp]"
   ]
  },
  {
   "cell_type": "code",
   "execution_count": null,
   "metadata": {
    "collapsed": true
   },
   "outputs": [],
   "source": [
    "Y_list.shape"
   ]
  },
  {
   "cell_type": "code",
   "execution_count": null,
   "metadata": {
    "collapsed": true
   },
   "outputs": [],
   "source": [
    "view_list = np.sort(np.random.choice(len(Y_list[0]), 5, replace=False)); view_list"
   ]
  },
  {
   "cell_type": "code",
   "execution_count": null,
   "metadata": {
    "collapsed": true
   },
   "outputs": [],
   "source": [
    "output_log_std_p = [1.]"
   ]
  },
  {
   "cell_type": "code",
   "execution_count": null,
   "metadata": {
    "collapsed": true,
    "scrolled": false
   },
   "outputs": [],
   "source": [
    "print('Group ' + str(gp))\n",
    "for i in view_list:\n",
    "    print('i = ', i)\n",
    "    plt.plot(Y_output_ori_list[gp][i], label='true')\n",
    "    for gpm in gp_list:\n",
    "        plt.plot(Y_list[gpm, i], label='gpm '+ str(gpm))\n",
    "    plt.legend()\n",
    "    plt.show()    "
   ]
  },
  {
   "cell_type": "code",
   "execution_count": null,
   "metadata": {
    "collapsed": true,
    "scrolled": false
   },
   "outputs": [],
   "source": [
    "print('Group ' + str(gp))\n",
    "for i in view_list:\n",
    "    print('i = ', i)\n",
    "    plt.plot(Y_output_ori_list[gp][i], label='true')\n",
    "    for gpm in gp_list:\n",
    "        plt.plot(Y_list[gpm, i], label='gpm '+ str(gpm))\n",
    "    plt.yscale('log')\n",
    "    plt.legend(); plt.show()    "
   ]
  },
  {
   "cell_type": "code",
   "execution_count": null,
   "metadata": {
    "collapsed": true
   },
   "outputs": [],
   "source": [
    "orinal_view_list = np.arange(len(output_gp))[output_gp == gp][view_list];\n",
    "np.array([view_list, orinal_view_list])"
   ]
  },
  {
   "cell_type": "code",
   "execution_count": null,
   "metadata": {
    "collapsed": true
   },
   "outputs": [],
   "source": [
    "np.array([fib_input_median[orinal_view_list], fib_output_median[orinal_view_list]])"
   ]
  },
  {
   "cell_type": "markdown",
   "metadata": {},
   "source": [
    "#### Case 131296"
   ]
  },
  {
   "cell_type": "code",
   "execution_count": null,
   "metadata": {
    "collapsed": true
   },
   "outputs": [],
   "source": [
    "i = 131296"
   ]
  },
  {
   "cell_type": "code",
   "execution_count": null,
   "metadata": {
    "collapsed": true
   },
   "outputs": [],
   "source": [
    "multi_view((Y_output_ori[i],Y_output_pred_ori[i]))"
   ]
  },
  {
   "cell_type": "markdown",
   "metadata": {},
   "source": [
    "### Cases study"
   ]
  },
  {
   "cell_type": "code",
   "execution_count": null,
   "metadata": {
    "collapsed": true
   },
   "outputs": [],
   "source": [
    "view_list=[93175, 13986, 5464, 89589, 119659, 64392, 73856, 140331, 19234, 25591]"
   ]
  },
  {
   "cell_type": "markdown",
   "metadata": {
    "scrolled": true
   },
   "source": [
    "view_list = examine_list_gp((Y_output_ori,\n",
    "                             Y_output_pred_ori_ens_mean, \n",
    "                             Y_output_pred_ori_ens_med,\n",
    "                             Y_output_pred_ori_ens[-1], \n",
    "                             ), output_gp, view_list=view_list)"
   ]
  },
  {
   "cell_type": "markdown",
   "metadata": {},
   "source": [
    "i = 93175\n",
    "plt.plot(Y_output_ori[i], label='true')\n",
    "plt.plot(Y_output_pred_ori_ens_mean[i], label='ens mean')\n",
    "plt.plot(Y_output_pred_ori_ens_med[i], label='ens median')\n",
    "plt.plot(Y_output_pred_ens_mean_ori[i], label='ens mean before transf')\n",
    "plt.plot(Y_output_pred_ens_med_ori[i], label='ens median before transf')\n",
    "plt.plot(Y_output_pred_ori_ens[-1][i], label='run: 4')\n",
    "plt.title('i = ' + str(i) + ' gp = ' + str(output_gp[i]))\n",
    "plt.legend()\n",
    "plt.show()"
   ]
  },
  {
   "cell_type": "markdown",
   "metadata": {},
   "source": [
    "i = 93175\n",
    "plt.plot(Y_output_ori[i], label='true')\n",
    "for run in ens_list:\n",
    "    plt.plot(Y_output_pred_ori_ens[run][i], label='run' + str(run))\n",
    "plt.plot(Y_output_pred_ens_mean_ori[i], label='ens mean before transf')\n",
    "plt.title('i = ' + str(i) + ' gp = ' + str(output_gp[i]))\n",
    "plt.legend()\n",
    "plt.show()"
   ]
  },
  {
   "cell_type": "code",
   "execution_count": null,
   "metadata": {
    "collapsed": true,
    "scrolled": true
   },
   "outputs": [],
   "source": [
    "view_list = examine_list_gp((Y_output_pred_ori_ens[-1], \n",
    "                             Y_output_pred_ori_ens_med,\n",
    "                             Y_output_f_gpm, \n",
    "                             Y_output_ori), output_gp, view_list=view_list)"
   ]
  },
  {
   "cell_type": "markdown",
   "metadata": {},
   "source": [
    "view_list = comp_examine(X_output, Y_output_pred, view_list=view_list)"
   ]
  },
  {
   "cell_type": "markdown",
   "metadata": {},
   "source": [
    "view_list = comp_examine(X_output_ori, Y_output_pred_ori, view_list=view_list)"
   ]
  },
  {
   "cell_type": "code",
   "execution_count": null,
   "metadata": {
    "collapsed": true
   },
   "outputs": [],
   "source": [
    "view_list = examine_list_gp((Y_output_pred_ori, X_output_ori, Y_input_ori), output_gp, view_list=view_list)"
   ]
  },
  {
   "cell_type": "code",
   "execution_count": null,
   "metadata": {
    "collapsed": true,
    "scrolled": true
   },
   "outputs": [],
   "source": [
    "view_list = examine_list_gp((Y_output_pred_ori, X_output_ori, Y_input_ori), output_gp, view_list=view_list)"
   ]
  },
  {
   "cell_type": "markdown",
   "metadata": {},
   "source": [
    "view_list = examine_list_gp((Y_output_pred, X_output, Y_input), output_gp, view_list=view_list)"
   ]
  },
  {
   "cell_type": "markdown",
   "metadata": {},
   "source": [
    "if test_length:\n",
    "    view_list = examine_list((Y_output_pred, Y_output, X_output), view_list=view_list)"
   ]
  },
  {
   "cell_type": "markdown",
   "metadata": {},
   "source": [
    "if test_length:\n",
    "    view_list = examine_list((Y_output_pred_ori, Y_output_ori, X_output_ori), view_list=view_list)"
   ]
  },
  {
   "cell_type": "markdown",
   "metadata": {
    "scrolled": true
   },
   "source": [
    "if test_length:\n",
    "    view_list = examine_list_gp((Y_output_pred, Y_output, X_output), output_gp,\n",
    "                             view_list=view_list)"
   ]
  },
  {
   "cell_type": "markdown",
   "metadata": {
    "scrolled": true
   },
   "source": [
    "if test_length:\n",
    "    view_list = examine_list_gp((Y_output_pred_ori, Y_output_ori, X_output_ori), output_gp,\n",
    "                             view_list=view_list)"
   ]
  },
  {
   "cell_type": "markdown",
   "metadata": {},
   "source": [
    "view_list_smape = [smape(Y_output_pred_ori[i], Y_output_raw[i]) for i in view_list]; view_list_smape"
   ]
  },
  {
   "cell_type": "markdown",
   "metadata": {
    "scrolled": true
   },
   "source": [
    "view_list_review = [score < model_smape for score in view_list_smape]; view_list_review"
   ]
  },
  {
   "cell_type": "markdown",
   "metadata": {},
   "source": [
    "view_list_good = list(np.array(view_list)[view_list_review]); view_list_good"
   ]
  },
  {
   "cell_type": "markdown",
   "metadata": {},
   "source": [
    "view_list_bad = list(np.array(view_list)[~np.array(view_list_review)]); view_list_bad"
   ]
  },
  {
   "cell_type": "markdown",
   "metadata": {},
   "source": [
    "#### Good cases"
   ]
  },
  {
   "cell_type": "markdown",
   "metadata": {
    "scrolled": true
   },
   "source": [
    "examine_list_gp((Y_output_pred_ori, Y_output_ori, X_output_ori), output_gp,\n",
    "             view_list=view_list_good)"
   ]
  },
  {
   "cell_type": "markdown",
   "metadata": {},
   "source": [
    "#### Bad cases"
   ]
  },
  {
   "cell_type": "markdown",
   "metadata": {
    "scrolled": true
   },
   "source": [
    "examine_list_gp((Y_output_pred_ori, Y_output_ori, X_output_ori),output_gp,\n",
    "             view_list=view_list_bad)"
   ]
  },
  {
   "cell_type": "markdown",
   "metadata": {},
   "source": [
    "print(Y_output_center[view_list_good].reshape(-1))\n",
    "print(Y_output_center[view_list_bad].reshape(-1))"
   ]
  },
  {
   "cell_type": "markdown",
   "metadata": {},
   "source": [
    "print(output_scale[view_list_good].reshape(-1))\n",
    "print(output_scale[view_list_bad].reshape(-1))"
   ]
  },
  {
   "cell_type": "markdown",
   "metadata": {},
   "source": [
    "output_gp[view_list_good]"
   ]
  },
  {
   "cell_type": "markdown",
   "metadata": {},
   "source": [
    "output_gp[view_list_bad]"
   ]
  },
  {
   "cell_type": "markdown",
   "metadata": {},
   "source": [
    "#### Case 93175"
   ]
  },
  {
   "cell_type": "markdown",
   "metadata": {
    "collapsed": true
   },
   "source": [
    "i = 93175"
   ]
  },
  {
   "cell_type": "markdown",
   "metadata": {},
   "source": [
    "multi_view((Y_output_pred_ori[i], Y_output_ori[i], X_output_ori[i]), yscale='log')\n",
    "multi_view((Y_output_pred_ori[i], Y_output_ori[i], X_output_ori[i]))"
   ]
  },
  {
   "cell_type": "markdown",
   "metadata": {},
   "source": [
    "smape(Y_output_pred_ori[i], Y_output_raw[i])"
   ]
  },
  {
   "cell_type": "markdown",
   "metadata": {
    "scrolled": false
   },
   "source": [
    "Y_input_center[i], Y_output_center[i], input_scale[i], output_scale[i]"
   ]
  },
  {
   "cell_type": "markdown",
   "metadata": {},
   "source": [
    "#### Case 41896"
   ]
  },
  {
   "cell_type": "markdown",
   "metadata": {
    "collapsed": true
   },
   "source": [
    "i = 41896"
   ]
  },
  {
   "cell_type": "markdown",
   "metadata": {
    "collapsed": true
   },
   "source": [
    "multi_view((X_input[i], Y_input[i]))"
   ]
  },
  {
   "cell_type": "markdown",
   "metadata": {
    "collapsed": true
   },
   "source": [
    "comp_view(X_input_ori[i], Y_input_ori[i])"
   ]
  },
  {
   "cell_type": "markdown",
   "metadata": {
    "collapsed": true
   },
   "source": [
    "comp_view(X_output_ori[i], Y_output_pred_ori[i])"
   ]
  },
  {
   "cell_type": "markdown",
   "metadata": {
    "collapsed": true
   },
   "source": [
    "comp_view(X_input_ori[i], Y_input_ori[i])"
   ]
  },
  {
   "cell_type": "markdown",
   "metadata": {},
   "source": [
    "### Good and bad cases"
   ]
  },
  {
   "cell_type": "markdown",
   "metadata": {
    "collapsed": true
   },
   "source": [
    "review_Y = np.array([score < model_smape for score in smape_Y_pred])\n",
    "good_Y_index = np.arange(len(Y_output_pred))[review_Y]; #good_Y_index\n",
    "bad_Y_index = np.arange(len(Y_output_pred))[~review_Y]; #bad_Y_index"
   ]
  },
  {
   "cell_type": "markdown",
   "metadata": {
    "collapsed": true
   },
   "source": [
    "good_input_scale = input_scale[good_Y_index]\n",
    "good_output_scale = output_scale[good_Y_index]\n",
    "bad_input_scale = input_scale[bad_Y_index]\n",
    "bad_output_scale = output_scale[bad_Y_index]"
   ]
  },
  {
   "cell_type": "markdown",
   "metadata": {
    "collapsed": true
   },
   "source": [
    "good_Y_input_center = Y_input_center[good_Y_index]\n",
    "good_Y_output_center = Y_output_center[good_Y_index]\n",
    "bad_Y_input_center = Y_input_center[bad_Y_index]\n",
    "bad_Y_output_center = Y_output_center[bad_Y_index]"
   ]
  },
  {
   "cell_type": "markdown",
   "metadata": {
    "scrolled": true
   },
   "source": [
    "examine_list_gp((Y_output_pred_ori[good_Y_index], Y_output_ori[good_Y_index], X_output_ori[good_Y_index]), output_gp[good_Y_index])"
   ]
  },
  {
   "cell_type": "markdown",
   "metadata": {
    "scrolled": true
   },
   "source": [
    "examine_list_gp((Y_output_pred_ori[bad_Y_index], Y_output_ori[bad_Y_index], X_output_ori[bad_Y_index]), output_gp[bad_Y_index])"
   ]
  },
  {
   "cell_type": "markdown",
   "metadata": {},
   "source": [
    "good_output_scale.min(), good_output_scale.max()"
   ]
  },
  {
   "cell_type": "markdown",
   "metadata": {},
   "source": [
    "bad_output_scale.min(), bad_output_scale.max()"
   ]
  },
  {
   "cell_type": "markdown",
   "metadata": {},
   "source": [
    "plt.hist(good_input_scale, bins=40, alpha=0.6, label='good input')\n",
    "plt.hist(bad_input_scale, bins=40, alpha=0.6, label='bad input')\n",
    "plt.yscale('linear')\n",
    "plt.legend()\n",
    "plt.show()"
   ]
  },
  {
   "cell_type": "markdown",
   "metadata": {},
   "source": [
    "plt.hist(good_output_scale, bins=40, alpha=0.6, label='good output')\n",
    "plt.hist(bad_output_scale, bins=40, alpha=0.6, label='bad output')\n",
    "plt.yscale('linear')\n",
    "plt.legend()\n",
    "plt.show()"
   ]
  },
  {
   "cell_type": "markdown",
   "metadata": {},
   "source": [
    "plt.hist(good_input_scale, bins=40, alpha=0.6, label='good input')\n",
    "plt.hist(bad_input_scale, bins=40, alpha=0.6, label='bad input')\n",
    "plt.yscale('log')\n",
    "plt.legend()\n",
    "plt.show()"
   ]
  },
  {
   "cell_type": "markdown",
   "metadata": {
    "scrolled": false
   },
   "source": [
    "plt.hist(good_output_scale, bins=40, alpha=0.6, label='good output')\n",
    "plt.hist(bad_output_scale, bins=40, alpha=0.6, label='bad output')\n",
    "plt.yscale('log')\n",
    "plt.legend()\n",
    "plt.show()"
   ]
  },
  {
   "cell_type": "markdown",
   "metadata": {},
   "source": [
    "plt.figure(figsize=(12,4))\n",
    "plt.hist(good_input_scale, bins=100, range=(0,0.8), alpha=0.6, label='good input')\n",
    "plt.hist(good_output_scale, bins=100, range=(0,0.8), alpha=0.6, label='good output')\n",
    "plt.hist(bad_input_scale, bins=100, range=(0,0.8), alpha=0.6, label='bad input')\n",
    "plt.hist(bad_output_scale, bins=100, range=(0,0.8), alpha=0.6, label='bad output')\n",
    "plt.yscale('linear')\n",
    "plt.legend()\n",
    "plt.show()"
   ]
  },
  {
   "cell_type": "markdown",
   "metadata": {},
   "source": [
    "Should we split the data into std > and < 1.7 ?"
   ]
  },
  {
   "cell_type": "markdown",
   "metadata": {},
   "source": [
    "np.mean(good_output_scale), np.mean(good_input_scale)"
   ]
  },
  {
   "cell_type": "markdown",
   "metadata": {},
   "source": [
    "np.mean(bad_output_scale), np.mean(bad_input_scale)"
   ]
  },
  {
   "cell_type": "markdown",
   "metadata": {},
   "source": [
    "plt.figure(figsize=(12,4))\n",
    "plt.hist(bad_input_scale, bins=60, range=(0,0.8), alpha=0.6, label='bad input')\n",
    "plt.hist(bad_output_scale, bins=60, range=(0,0.8), alpha=0.6, label='bad output')\n",
    "plt.yscale('linear')\n",
    "plt.legend()\n",
    "plt.show()"
   ]
  },
  {
   "cell_type": "markdown",
   "metadata": {
    "scrolled": true
   },
   "source": [
    "plt.figure(figsize=(12,4))\n",
    "plt.hist(output_scale, bins=40, alpha=0.6, label='output')\n",
    "plt.hist(input_scale, bins=40, alpha=0.6, label='input')\n",
    "plt.legend()\n",
    "plt.show()"
   ]
  },
  {
   "cell_type": "markdown",
   "metadata": {},
   "source": [
    "np.histogram(output_scale, bins=np.arange(0,1,0.05))"
   ]
  },
  {
   "cell_type": "markdown",
   "metadata": {},
   "source": [
    "#### Median"
   ]
  },
  {
   "cell_type": "markdown",
   "metadata": {},
   "source": [
    "plt.figure(figsize=(12,4))\n",
    "plt.hist(good_Y_input_center, bins=100, range=(0,5), alpha=0.6, label='good input')\n",
    "plt.hist(good_Y_output_center, bins=100, range=(0,5), alpha=0.6, label='good output')\n",
    "plt.hist(bad_Y_input_center, bins=100, range=(0,5), alpha=0.6, label='bad input')\n",
    "plt.hist(bad_Y_output_center, bins=100, range=(0,5), alpha=0.6, label='bad output')\n",
    "plt.yscale('linear')\n",
    "plt.legend()\n",
    "plt.show()"
   ]
  },
  {
   "cell_type": "markdown",
   "metadata": {},
   "source": [
    "### stdev/median"
   ]
  },
  {
   "cell_type": "markdown",
   "metadata": {},
   "source": [
    "output_factor_1 = (Y_output_center / output_scale).reshape(-1); output_factor_1"
   ]
  },
  {
   "cell_type": "markdown",
   "metadata": {},
   "source": [
    "output_factor_1.min(), output_factor_1.max()"
   ]
  },
  {
   "cell_type": "markdown",
   "metadata": {},
   "source": [
    "plt.hist(output_factor_1, bins=40, range=[0,50], alpha=0.6)\n",
    "plt.show()"
   ]
  },
  {
   "cell_type": "markdown",
   "metadata": {},
   "source": [
    "plt.scatter(smape_Y_pred, output_scale, alpha=0.1, marker='.')\n",
    "plt.show()"
   ]
  },
  {
   "cell_type": "markdown",
   "metadata": {},
   "source": [
    "plt.figure(figsize=(12,9))\n",
    "plt.scatter(smape_Y_pred, Y_output_center, alpha=0.1, marker='.')\n",
    "plt.ylim([-0.1,5])\n",
    "plt.show()"
   ]
  },
  {
   "cell_type": "markdown",
   "metadata": {},
   "source": [
    "plt.figure(figsize=(12,9))\n",
    "plt.scatter(smape_Y_pred, output_scale, alpha=0.1, marker='.')\n",
    "plt.ylim([0,0.5])\n",
    "plt.show()"
   ]
  },
  {
   "cell_type": "markdown",
   "metadata": {},
   "source": [
    "plt.figure(figsize=(12,9))\n",
    "plt.scatter(output_scale, Y_output_center, alpha=0.1, marker='.')\n",
    "plt.ylim([0,4.5])\n",
    "plt.xlim([0,0.6])\n",
    "plt.show()"
   ]
  },
  {
   "cell_type": "markdown",
   "metadata": {},
   "source": [
    "output_factor_2 = (output_scale / Y_output_center).reshape(-1); output_factor_2"
   ]
  },
  {
   "cell_type": "markdown",
   "metadata": {},
   "source": [
    "plt.figure(figsize=(12,9))\n",
    "plt.scatter(smape_Y_pred, output_factor_2, alpha=0.1, marker='.')\n",
    "plt.ylim([0,0.8])\n",
    "#plt.xlim([0,0.6])\n",
    "plt.show()"
   ]
  },
  {
   "cell_type": "markdown",
   "metadata": {},
   "source": [
    "output_factor_3 = (output_scale / (Y_output_center + 0.01)).reshape(-1); output_factor_3"
   ]
  },
  {
   "cell_type": "markdown",
   "metadata": {},
   "source": [
    "plt.figure(figsize=(12,9))\n",
    "plt.scatter(smape_Y_pred, output_factor_3, alpha=0.1, marker='.')\n",
    "plt.ylim([0,4])\n",
    "#plt.xlim([0,0.6])\n",
    "plt.show()"
   ]
  },
  {
   "cell_type": "markdown",
   "metadata": {},
   "source": [
    "output_factor_4 = output_scale - input_scale"
   ]
  },
  {
   "cell_type": "markdown",
   "metadata": {},
   "source": [
    "plt.figure(figsize=(12,9))\n",
    "plt.scatter(smape_Y_pred, output_factor_4, alpha=0.1, marker='.')\n",
    "plt.ylim([-1.5,0.5])\n",
    "#plt.xlim([0,0.6])\n",
    "plt.show()"
   ]
  },
  {
   "cell_type": "markdown",
   "metadata": {},
   "source": [
    "## Output Prediction\n",
    "For predicting stage only"
   ]
  },
  {
   "cell_type": "markdown",
   "metadata": {},
   "source": [
    "### Result DataFrame"
   ]
  },
  {
   "cell_type": "markdown",
   "metadata": {
    "collapsed": true
   },
   "source": [
    "predict_dates_index=pd.date_range(Y_output_first_day, \n",
    "                                  periods=np.timedelta64(y_length,'D'), \n",
    "                                  freq = 'D', unit = 'D')\n",
    "predict_dates_index"
   ]
  },
  {
   "cell_type": "code",
   "execution_count": null,
   "metadata": {
    "collapsed": true
   },
   "outputs": [],
   "source": [
    "Y_output_dates"
   ]
  },
  {
   "cell_type": "code",
   "execution_count": null,
   "metadata": {
    "collapsed": true,
    "scrolled": true
   },
   "outputs": [],
   "source": [
    "if test_length == 0:\n",
    "    result_df = pd.DataFrame(Y_output_f_omed, columns = Y_output_dates)  # using ensemble median combined result\n",
    "result_df"
   ]
  },
  {
   "cell_type": "code",
   "execution_count": null,
   "metadata": {
    "collapsed": true,
    "scrolled": true
   },
   "outputs": [],
   "source": [
    "result_df['Page'] = input_df['Page']  # Append 'Page' column from input_df\n",
    "result_df"
   ]
  },
  {
   "cell_type": "code",
   "execution_count": null,
   "metadata": {
    "collapsed": true,
    "scrolled": true
   },
   "outputs": [],
   "source": [
    "result_flat_df = pd.melt(result_df, id_vars='Page', var_name='date',\n",
    "                         value_name='Visits')\n",
    "result_flat_df"
   ]
  },
  {
   "cell_type": "markdown",
   "metadata": {},
   "source": [
    "### Output DataFrame"
   ]
  },
  {
   "cell_type": "code",
   "execution_count": null,
   "metadata": {
    "collapsed": true
   },
   "outputs": [],
   "source": [
    "if test_length == 0:\n",
    "    print('%%% Reading data key_2.csv ...', end = '', flush = True)\n",
    "    output_df = pd.read_csv(\"../data/key_2.csv\")\n",
    "    print('done!')"
   ]
  },
  {
   "cell_type": "code",
   "execution_count": null,
   "metadata": {
    "collapsed": true,
    "scrolled": true
   },
   "outputs": [],
   "source": [
    "output_df['date'] = output_df.Page.apply(lambda a: a[-10:])  # take the last 10 characters from 'Page' as date\n",
    "output_df['Page'] = output_df.Page.apply(lambda a: a[:-11])  # remove the last 10 caharacters from 'Page'\n",
    "#output_df['date'] = output_df['date'].astype('datetime64[ns]')  # convert 'date' string to numpy datetime format\n",
    "#test['weekday'] = test.date.dt.dayofweek  # find the day of week using the 'date' column\n",
    "output_df.head()"
   ]
  },
  {
   "cell_type": "code",
   "execution_count": null,
   "metadata": {
    "collapsed": true
   },
   "outputs": [],
   "source": [
    "output_df.info()"
   ]
  },
  {
   "cell_type": "code",
   "execution_count": null,
   "metadata": {
    "collapsed": true,
    "scrolled": true
   },
   "outputs": [],
   "source": [
    "output_df['date'].values[0:62]  # Make sure the range is 60 days (see if the dates resume after 60)"
   ]
  },
  {
   "cell_type": "code",
   "execution_count": null,
   "metadata": {
    "collapsed": true
   },
   "outputs": [],
   "source": [
    "Y_output_dates"
   ]
  },
  {
   "cell_type": "code",
   "execution_count": null,
   "metadata": {
    "collapsed": true,
    "scrolled": true
   },
   "outputs": [],
   "source": [
    "output_df = output_df.merge(result_flat_df, how='left')  # fill the 'Visits\" from result\n",
    "output_df"
   ]
  },
  {
   "cell_type": "code",
   "execution_count": null,
   "metadata": {
    "collapsed": true
   },
   "outputs": [],
   "source": [
    "del result_flat_df"
   ]
  },
  {
   "cell_type": "code",
   "execution_count": null,
   "metadata": {
    "collapsed": true
   },
   "outputs": [],
   "source": [
    "gc.collect()"
   ]
  },
  {
   "cell_type": "code",
   "execution_count": null,
   "metadata": {
    "collapsed": true
   },
   "outputs": [],
   "source": [
    "#Check if there is null value\n",
    "output_df.loc[output_df.Visits.isnull(), 'Visits']"
   ]
  },
  {
   "cell_type": "code",
   "execution_count": null,
   "metadata": {
    "collapsed": true
   },
   "outputs": [],
   "source": [
    "#output_df.loc[output_df.Visits.isnull(), 'Visits'] = 0.0  # Uncommend this line to Replace NaN with 0.0"
   ]
  },
  {
   "cell_type": "code",
   "execution_count": null,
   "metadata": {
    "collapsed": true
   },
   "outputs": [],
   "source": [
    "print('%%% Writing result for ' + model_name + ' ...', \n",
    "      end = '', flush = True)\n",
    "#Write only the 'Id' and 'Visits' to the result file\n",
    "output_df[['Id','Visits']].to_csv('../results/submit_1_' + model_name\n",
    "                                  + '.csv', index = False, \n",
    "                                  float_format='%.3f')\n",
    "print('done!')"
   ]
  },
  {
   "cell_type": "markdown",
   "metadata": {},
   "source": [
    "Kaggle LB Score: \n",
    "\n",
    "[6.0.0] 46.3 [Model 6.0.0 CNN - Conv(60, 7)-FC(120)-Drop(0.25)-FC(120)-Drop(0.5)-Linear, 20 epoches]\n",
    "\n",
    "[6.1.0] 46.7 [Model 6.1.0 CNN - Conv(30, 7)-Conv(60, 7)-FC(120)-Drop(0.25)-FC(120)-Drop(0.5)-Linear, 20 epoches]\n",
    "\n",
    "[7.1.2] 47.3 [Model 7.1.2 CNN Fibonacci - range corrected :-y_length - score corrected]\n",
    "\n",
    "[7.2.0] 46.5 [Model 7.2.0 CNN Fibonacci and original combined]"
   ]
  }
 ],
 "metadata": {
  "kernelspec": {
   "display_name": "Python 3",
   "language": "python",
   "name": "python3"
  },
  "language_info": {
   "codemirror_mode": {
    "name": "ipython",
    "version": 3
   },
   "file_extension": ".py",
   "mimetype": "text/x-python",
   "name": "python",
   "nbconvert_exporter": "python",
   "pygments_lexer": "ipython3",
   "version": "3.6.1"
  }
 },
 "nbformat": 4,
 "nbformat_minor": 2
}
