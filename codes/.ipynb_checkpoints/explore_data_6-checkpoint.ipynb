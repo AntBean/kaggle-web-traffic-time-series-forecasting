{
 "cells": [
  {
   "cell_type": "markdown",
   "metadata": {},
   "source": [
    "# Kaggle - Web Traffic Time Series Forecasting\n",
    "Explore Data 6 - 1000 Sample\n",
    "\n",
    "Author: Louis Yang\n",
    "\n",
    "Date: 2017/08/25"
   ]
  },
  {
   "cell_type": "code",
   "execution_count": 1,
   "metadata": {
    "collapsed": true
   },
   "outputs": [],
   "source": [
    "import numpy as np # linear algebra\n",
    "import pandas as pd # data processing, CSV file I/O (e.g. pd.read_csv)\n",
    "import matplotlib.pyplot as plt"
   ]
  },
  {
   "cell_type": "markdown",
   "metadata": {},
   "source": [
    "## Kaggle Data Processing"
   ]
  },
  {
   "cell_type": "code",
   "execution_count": 2,
   "metadata": {
    "collapsed": true
   },
   "outputs": [],
   "source": [
    "#input_df = pd.read_csv(\"../data/train_1_sample.csv\")\n",
    "input_df = pd.read_csv(\"../data/train_1_sample_2.csv\")"
   ]
  },
  {
   "cell_type": "code",
   "execution_count": 3,
   "metadata": {},
   "outputs": [
    {
     "data": {
      "text/html": [
       "<div>\n",
       "<style>\n",
       "    .dataframe thead tr:only-child th {\n",
       "        text-align: right;\n",
       "    }\n",
       "\n",
       "    .dataframe thead th {\n",
       "        text-align: left;\n",
       "    }\n",
       "\n",
       "    .dataframe tbody tr th {\n",
       "        vertical-align: top;\n",
       "    }\n",
       "</style>\n",
       "<table border=\"1\" class=\"dataframe\">\n",
       "  <thead>\n",
       "    <tr style=\"text-align: right;\">\n",
       "      <th></th>\n",
       "      <th>Unnamed: 0</th>\n",
       "      <th>Page</th>\n",
       "      <th>2015-07-01</th>\n",
       "      <th>2015-07-02</th>\n",
       "      <th>2015-07-03</th>\n",
       "      <th>2015-07-04</th>\n",
       "      <th>2015-07-05</th>\n",
       "      <th>2015-07-06</th>\n",
       "      <th>2015-07-07</th>\n",
       "      <th>2015-07-08</th>\n",
       "      <th>...</th>\n",
       "      <th>2016-12-22</th>\n",
       "      <th>2016-12-23</th>\n",
       "      <th>2016-12-24</th>\n",
       "      <th>2016-12-25</th>\n",
       "      <th>2016-12-26</th>\n",
       "      <th>2016-12-27</th>\n",
       "      <th>2016-12-28</th>\n",
       "      <th>2016-12-29</th>\n",
       "      <th>2016-12-30</th>\n",
       "      <th>2016-12-31</th>\n",
       "    </tr>\n",
       "  </thead>\n",
       "  <tbody>\n",
       "    <tr>\n",
       "      <th>0</th>\n",
       "      <td>141459</td>\n",
       "      <td>Creed_–_Rocky’s_Legacy_de.wikipedia.org_all-ac...</td>\n",
       "      <td>NaN</td>\n",
       "      <td>NaN</td>\n",
       "      <td>NaN</td>\n",
       "      <td>NaN</td>\n",
       "      <td>NaN</td>\n",
       "      <td>NaN</td>\n",
       "      <td>NaN</td>\n",
       "      <td>NaN</td>\n",
       "      <td>...</td>\n",
       "      <td>297.0</td>\n",
       "      <td>335.0</td>\n",
       "      <td>296.0</td>\n",
       "      <td>842.0</td>\n",
       "      <td>774.0</td>\n",
       "      <td>435.0</td>\n",
       "      <td>390.0</td>\n",
       "      <td>383.0</td>\n",
       "      <td>468.0</td>\n",
       "      <td>514.0</td>\n",
       "    </tr>\n",
       "    <tr>\n",
       "      <th>1</th>\n",
       "      <td>139626</td>\n",
       "      <td>Henry_Maske_de.wikipedia.org_all-access_all-ag...</td>\n",
       "      <td>154.0</td>\n",
       "      <td>98.0</td>\n",
       "      <td>117.0</td>\n",
       "      <td>107.0</td>\n",
       "      <td>116.0</td>\n",
       "      <td>138.0</td>\n",
       "      <td>167.0</td>\n",
       "      <td>184.0</td>\n",
       "      <td>...</td>\n",
       "      <td>187.0</td>\n",
       "      <td>152.0</td>\n",
       "      <td>175.0</td>\n",
       "      <td>215.0</td>\n",
       "      <td>174.0</td>\n",
       "      <td>404.0</td>\n",
       "      <td>330.0</td>\n",
       "      <td>539.0</td>\n",
       "      <td>14769.0</td>\n",
       "      <td>1269.0</td>\n",
       "    </tr>\n",
       "    <tr>\n",
       "      <th>2</th>\n",
       "      <td>50423</td>\n",
       "      <td>Menderes_Bağcı_de.wikipedia.org_all-access_spider</td>\n",
       "      <td>2.0</td>\n",
       "      <td>0.0</td>\n",
       "      <td>1.0</td>\n",
       "      <td>1.0</td>\n",
       "      <td>1.0</td>\n",
       "      <td>1.0</td>\n",
       "      <td>1.0</td>\n",
       "      <td>1.0</td>\n",
       "      <td>...</td>\n",
       "      <td>6.0</td>\n",
       "      <td>11.0</td>\n",
       "      <td>10.0</td>\n",
       "      <td>11.0</td>\n",
       "      <td>5.0</td>\n",
       "      <td>6.0</td>\n",
       "      <td>9.0</td>\n",
       "      <td>7.0</td>\n",
       "      <td>7.0</td>\n",
       "      <td>6.0</td>\n",
       "    </tr>\n",
       "    <tr>\n",
       "      <th>3</th>\n",
       "      <td>7743</td>\n",
       "      <td>François_de_Rugy_fr.wikipedia.org_desktop_all-...</td>\n",
       "      <td>45.0</td>\n",
       "      <td>32.0</td>\n",
       "      <td>25.0</td>\n",
       "      <td>12.0</td>\n",
       "      <td>9.0</td>\n",
       "      <td>20.0</td>\n",
       "      <td>57.0</td>\n",
       "      <td>58.0</td>\n",
       "      <td>...</td>\n",
       "      <td>233.0</td>\n",
       "      <td>178.0</td>\n",
       "      <td>79.0</td>\n",
       "      <td>61.0</td>\n",
       "      <td>109.0</td>\n",
       "      <td>218.0</td>\n",
       "      <td>255.0</td>\n",
       "      <td>138.0</td>\n",
       "      <td>110.0</td>\n",
       "      <td>60.0</td>\n",
       "    </tr>\n",
       "    <tr>\n",
       "      <th>4</th>\n",
       "      <td>106075</td>\n",
       "      <td>李晨_(演员)_zh.wikipedia.org_mobile-web_all-agents</td>\n",
       "      <td>950.0</td>\n",
       "      <td>944.0</td>\n",
       "      <td>950.0</td>\n",
       "      <td>1062.0</td>\n",
       "      <td>1044.0</td>\n",
       "      <td>1000.0</td>\n",
       "      <td>939.0</td>\n",
       "      <td>868.0</td>\n",
       "      <td>...</td>\n",
       "      <td>200.0</td>\n",
       "      <td>220.0</td>\n",
       "      <td>278.0</td>\n",
       "      <td>558.0</td>\n",
       "      <td>512.0</td>\n",
       "      <td>343.0</td>\n",
       "      <td>204.0</td>\n",
       "      <td>506.0</td>\n",
       "      <td>235.0</td>\n",
       "      <td>309.0</td>\n",
       "    </tr>\n",
       "    <tr>\n",
       "      <th>5</th>\n",
       "      <td>132398</td>\n",
       "      <td>サンシャイン池崎_ja.wikipedia.org_all-access_spider</td>\n",
       "      <td>1.0</td>\n",
       "      <td>2.0</td>\n",
       "      <td>5.0</td>\n",
       "      <td>4.0</td>\n",
       "      <td>0.0</td>\n",
       "      <td>3.0</td>\n",
       "      <td>0.0</td>\n",
       "      <td>7.0</td>\n",
       "      <td>...</td>\n",
       "      <td>77.0</td>\n",
       "      <td>94.0</td>\n",
       "      <td>79.0</td>\n",
       "      <td>59.0</td>\n",
       "      <td>47.0</td>\n",
       "      <td>45.0</td>\n",
       "      <td>825.0</td>\n",
       "      <td>163.0</td>\n",
       "      <td>81.0</td>\n",
       "      <td>1067.0</td>\n",
       "    </tr>\n",
       "    <tr>\n",
       "      <th>6</th>\n",
       "      <td>83564</td>\n",
       "      <td>Release_notes/1.27_www.mediawiki.org_all-acces...</td>\n",
       "      <td>NaN</td>\n",
       "      <td>NaN</td>\n",
       "      <td>NaN</td>\n",
       "      <td>NaN</td>\n",
       "      <td>NaN</td>\n",
       "      <td>NaN</td>\n",
       "      <td>NaN</td>\n",
       "      <td>NaN</td>\n",
       "      <td>...</td>\n",
       "      <td>4.0</td>\n",
       "      <td>2.0</td>\n",
       "      <td>15.0</td>\n",
       "      <td>4.0</td>\n",
       "      <td>8.0</td>\n",
       "      <td>2.0</td>\n",
       "      <td>3.0</td>\n",
       "      <td>4.0</td>\n",
       "      <td>4.0</td>\n",
       "      <td>14.0</td>\n",
       "    </tr>\n",
       "    <tr>\n",
       "      <th>7</th>\n",
       "      <td>141112</td>\n",
       "      <td>Cruising_(Homosexualität)_de.wikipedia.org_all...</td>\n",
       "      <td>183.0</td>\n",
       "      <td>226.0</td>\n",
       "      <td>181.0</td>\n",
       "      <td>174.0</td>\n",
       "      <td>239.0</td>\n",
       "      <td>214.0</td>\n",
       "      <td>227.0</td>\n",
       "      <td>268.0</td>\n",
       "      <td>...</td>\n",
       "      <td>264.0</td>\n",
       "      <td>249.0</td>\n",
       "      <td>297.0</td>\n",
       "      <td>6975.0</td>\n",
       "      <td>36258.0</td>\n",
       "      <td>8519.0</td>\n",
       "      <td>2300.0</td>\n",
       "      <td>999.0</td>\n",
       "      <td>701.0</td>\n",
       "      <td>749.0</td>\n",
       "    </tr>\n",
       "    <tr>\n",
       "      <th>8</th>\n",
       "      <td>69146</td>\n",
       "      <td>Eine_Reihe_betrüblicher_Ereignisse_de.wikipedi...</td>\n",
       "      <td>27.0</td>\n",
       "      <td>34.0</td>\n",
       "      <td>18.0</td>\n",
       "      <td>18.0</td>\n",
       "      <td>33.0</td>\n",
       "      <td>354.0</td>\n",
       "      <td>102.0</td>\n",
       "      <td>39.0</td>\n",
       "      <td>...</td>\n",
       "      <td>91.0</td>\n",
       "      <td>55.0</td>\n",
       "      <td>44.0</td>\n",
       "      <td>57.0</td>\n",
       "      <td>92.0</td>\n",
       "      <td>853.0</td>\n",
       "      <td>271.0</td>\n",
       "      <td>145.0</td>\n",
       "      <td>84.0</td>\n",
       "      <td>47.0</td>\n",
       "    </tr>\n",
       "    <tr>\n",
       "      <th>9</th>\n",
       "      <td>98631</td>\n",
       "      <td>Ковалёв,_Сергей_Александрович_(боксёр)_ru.wiki...</td>\n",
       "      <td>737.0</td>\n",
       "      <td>1029.0</td>\n",
       "      <td>402.0</td>\n",
       "      <td>386.0</td>\n",
       "      <td>481.0</td>\n",
       "      <td>322.0</td>\n",
       "      <td>377.0</td>\n",
       "      <td>365.0</td>\n",
       "      <td>...</td>\n",
       "      <td>680.0</td>\n",
       "      <td>708.0</td>\n",
       "      <td>1008.0</td>\n",
       "      <td>784.0</td>\n",
       "      <td>725.0</td>\n",
       "      <td>578.0</td>\n",
       "      <td>563.0</td>\n",
       "      <td>617.0</td>\n",
       "      <td>891.0</td>\n",
       "      <td>536.0</td>\n",
       "    </tr>\n",
       "    <tr>\n",
       "      <th>10</th>\n",
       "      <td>40665</td>\n",
       "      <td>Shimon_Peres_en.wikipedia.org_all-access_all-a...</td>\n",
       "      <td>675.0</td>\n",
       "      <td>604.0</td>\n",
       "      <td>596.0</td>\n",
       "      <td>570.0</td>\n",
       "      <td>595.0</td>\n",
       "      <td>610.0</td>\n",
       "      <td>706.0</td>\n",
       "      <td>1239.0</td>\n",
       "      <td>...</td>\n",
       "      <td>1072.0</td>\n",
       "      <td>1153.0</td>\n",
       "      <td>1669.0</td>\n",
       "      <td>1723.0</td>\n",
       "      <td>1963.0</td>\n",
       "      <td>2169.0</td>\n",
       "      <td>3734.0</td>\n",
       "      <td>3446.0</td>\n",
       "      <td>2227.0</td>\n",
       "      <td>2266.0</td>\n",
       "    </tr>\n",
       "    <tr>\n",
       "      <th>11</th>\n",
       "      <td>135152</td>\n",
       "      <td>弾丸ジャッキー_ja.wikipedia.org_all-access_spider</td>\n",
       "      <td>3.0</td>\n",
       "      <td>3.0</td>\n",
       "      <td>3.0</td>\n",
       "      <td>1.0</td>\n",
       "      <td>4.0</td>\n",
       "      <td>3.0</td>\n",
       "      <td>5.0</td>\n",
       "      <td>1.0</td>\n",
       "      <td>...</td>\n",
       "      <td>652.0</td>\n",
       "      <td>141.0</td>\n",
       "      <td>69.0</td>\n",
       "      <td>91.0</td>\n",
       "      <td>46.0</td>\n",
       "      <td>33.0</td>\n",
       "      <td>24.0</td>\n",
       "      <td>33.0</td>\n",
       "      <td>37.0</td>\n",
       "      <td>25.0</td>\n",
       "    </tr>\n",
       "    <tr>\n",
       "      <th>12</th>\n",
       "      <td>15186</td>\n",
       "      <td>File:Theresa_May.jpg_commons.wikimedia.org_all...</td>\n",
       "      <td>NaN</td>\n",
       "      <td>NaN</td>\n",
       "      <td>1.0</td>\n",
       "      <td>NaN</td>\n",
       "      <td>NaN</td>\n",
       "      <td>NaN</td>\n",
       "      <td>NaN</td>\n",
       "      <td>NaN</td>\n",
       "      <td>...</td>\n",
       "      <td>7.0</td>\n",
       "      <td>2.0</td>\n",
       "      <td>8.0</td>\n",
       "      <td>2.0</td>\n",
       "      <td>NaN</td>\n",
       "      <td>1.0</td>\n",
       "      <td>NaN</td>\n",
       "      <td>2.0</td>\n",
       "      <td>1.0</td>\n",
       "      <td>1.0</td>\n",
       "    </tr>\n",
       "    <tr>\n",
       "      <th>13</th>\n",
       "      <td>7742</td>\n",
       "      <td>Léa_Salamé_fr.wikipedia.org_desktop_all-agents</td>\n",
       "      <td>665.0</td>\n",
       "      <td>650.0</td>\n",
       "      <td>463.0</td>\n",
       "      <td>1026.0</td>\n",
       "      <td>659.0</td>\n",
       "      <td>487.0</td>\n",
       "      <td>428.0</td>\n",
       "      <td>603.0</td>\n",
       "      <td>...</td>\n",
       "      <td>1615.0</td>\n",
       "      <td>637.0</td>\n",
       "      <td>557.0</td>\n",
       "      <td>459.0</td>\n",
       "      <td>503.0</td>\n",
       "      <td>510.0</td>\n",
       "      <td>385.0</td>\n",
       "      <td>375.0</td>\n",
       "      <td>370.0</td>\n",
       "      <td>320.0</td>\n",
       "    </tr>\n",
       "    <tr>\n",
       "      <th>14</th>\n",
       "      <td>55684</td>\n",
       "      <td>Saison_14_de_NCIS_:_Enquêtes_spéciales_fr.wiki...</td>\n",
       "      <td>NaN</td>\n",
       "      <td>NaN</td>\n",
       "      <td>NaN</td>\n",
       "      <td>NaN</td>\n",
       "      <td>NaN</td>\n",
       "      <td>NaN</td>\n",
       "      <td>NaN</td>\n",
       "      <td>NaN</td>\n",
       "      <td>...</td>\n",
       "      <td>81.0</td>\n",
       "      <td>374.0</td>\n",
       "      <td>101.0</td>\n",
       "      <td>91.0</td>\n",
       "      <td>123.0</td>\n",
       "      <td>99.0</td>\n",
       "      <td>99.0</td>\n",
       "      <td>104.0</td>\n",
       "      <td>484.0</td>\n",
       "      <td>137.0</td>\n",
       "    </tr>\n",
       "    <tr>\n",
       "      <th>15</th>\n",
       "      <td>37452</td>\n",
       "      <td>Balika_Vadhu_en.wikipedia.org_all-access_all-a...</td>\n",
       "      <td>3039.0</td>\n",
       "      <td>2835.0</td>\n",
       "      <td>2738.0</td>\n",
       "      <td>2768.0</td>\n",
       "      <td>2387.0</td>\n",
       "      <td>2643.0</td>\n",
       "      <td>2869.0</td>\n",
       "      <td>3205.0</td>\n",
       "      <td>...</td>\n",
       "      <td>2047.0</td>\n",
       "      <td>1929.0</td>\n",
       "      <td>1784.0</td>\n",
       "      <td>1816.0</td>\n",
       "      <td>2254.0</td>\n",
       "      <td>2663.0</td>\n",
       "      <td>2772.0</td>\n",
       "      <td>2686.0</td>\n",
       "      <td>2536.0</td>\n",
       "      <td>1961.0</td>\n",
       "    </tr>\n",
       "    <tr>\n",
       "      <th>16</th>\n",
       "      <td>122280</td>\n",
       "      <td>電通_ja.wikipedia.org_all-access_all-agents</td>\n",
       "      <td>1030.0</td>\n",
       "      <td>996.0</td>\n",
       "      <td>855.0</td>\n",
       "      <td>790.0</td>\n",
       "      <td>834.0</td>\n",
       "      <td>1019.0</td>\n",
       "      <td>1486.0</td>\n",
       "      <td>1181.0</td>\n",
       "      <td>...</td>\n",
       "      <td>897.0</td>\n",
       "      <td>3687.0</td>\n",
       "      <td>3203.0</td>\n",
       "      <td>7613.0</td>\n",
       "      <td>3449.0</td>\n",
       "      <td>3881.0</td>\n",
       "      <td>53631.0</td>\n",
       "      <td>19898.0</td>\n",
       "      <td>4971.0</td>\n",
       "      <td>3781.0</td>\n",
       "    </tr>\n",
       "    <tr>\n",
       "      <th>17</th>\n",
       "      <td>22208</td>\n",
       "      <td>Special:MyLanguage/Mobile_design_www.mediawiki...</td>\n",
       "      <td>NaN</td>\n",
       "      <td>NaN</td>\n",
       "      <td>NaN</td>\n",
       "      <td>NaN</td>\n",
       "      <td>NaN</td>\n",
       "      <td>NaN</td>\n",
       "      <td>NaN</td>\n",
       "      <td>NaN</td>\n",
       "      <td>...</td>\n",
       "      <td>1.0</td>\n",
       "      <td>1.0</td>\n",
       "      <td>4.0</td>\n",
       "      <td>2.0</td>\n",
       "      <td>6.0</td>\n",
       "      <td>1.0</td>\n",
       "      <td>3.0</td>\n",
       "      <td>5.0</td>\n",
       "      <td>5.0</td>\n",
       "      <td>2.0</td>\n",
       "    </tr>\n",
       "    <tr>\n",
       "      <th>18</th>\n",
       "      <td>69426</td>\n",
       "      <td>Philippinenwürger_de.wikipedia.org_desktop_all...</td>\n",
       "      <td>NaN</td>\n",
       "      <td>NaN</td>\n",
       "      <td>NaN</td>\n",
       "      <td>NaN</td>\n",
       "      <td>NaN</td>\n",
       "      <td>NaN</td>\n",
       "      <td>NaN</td>\n",
       "      <td>NaN</td>\n",
       "      <td>...</td>\n",
       "      <td>2.0</td>\n",
       "      <td>1.0</td>\n",
       "      <td>4.0</td>\n",
       "      <td>2.0</td>\n",
       "      <td>4.0</td>\n",
       "      <td>2.0</td>\n",
       "      <td>2.0</td>\n",
       "      <td>1.0</td>\n",
       "      <td>2.0</td>\n",
       "      <td>5.0</td>\n",
       "    </tr>\n",
       "    <tr>\n",
       "      <th>19</th>\n",
       "      <td>71141</td>\n",
       "      <td>Rogue_One:_Una_historia_de_Star_Wars_es.wikipe...</td>\n",
       "      <td>NaN</td>\n",
       "      <td>NaN</td>\n",
       "      <td>NaN</td>\n",
       "      <td>NaN</td>\n",
       "      <td>NaN</td>\n",
       "      <td>NaN</td>\n",
       "      <td>NaN</td>\n",
       "      <td>NaN</td>\n",
       "      <td>...</td>\n",
       "      <td>4248.0</td>\n",
       "      <td>5356.0</td>\n",
       "      <td>4226.0</td>\n",
       "      <td>3599.0</td>\n",
       "      <td>6775.0</td>\n",
       "      <td>8628.0</td>\n",
       "      <td>7985.0</td>\n",
       "      <td>6675.0</td>\n",
       "      <td>4841.0</td>\n",
       "      <td>3590.0</td>\n",
       "    </tr>\n",
       "    <tr>\n",
       "      <th>20</th>\n",
       "      <td>136835</td>\n",
       "      <td>ON_異常犯罪捜査官・藤堂比奈子_ja.wikipedia.org_all-access_s...</td>\n",
       "      <td>NaN</td>\n",
       "      <td>NaN</td>\n",
       "      <td>NaN</td>\n",
       "      <td>NaN</td>\n",
       "      <td>NaN</td>\n",
       "      <td>NaN</td>\n",
       "      <td>NaN</td>\n",
       "      <td>NaN</td>\n",
       "      <td>...</td>\n",
       "      <td>13.0</td>\n",
       "      <td>68.0</td>\n",
       "      <td>50.0</td>\n",
       "      <td>44.0</td>\n",
       "      <td>16.0</td>\n",
       "      <td>23.0</td>\n",
       "      <td>16.0</td>\n",
       "      <td>25.0</td>\n",
       "      <td>31.0</td>\n",
       "      <td>33.0</td>\n",
       "    </tr>\n",
       "    <tr>\n",
       "      <th>21</th>\n",
       "      <td>144262</td>\n",
       "      <td>Táchira_es.wikipedia.org_all-access_spider</td>\n",
       "      <td>22.0</td>\n",
       "      <td>7.0</td>\n",
       "      <td>3.0</td>\n",
       "      <td>2.0</td>\n",
       "      <td>8.0</td>\n",
       "      <td>4.0</td>\n",
       "      <td>7.0</td>\n",
       "      <td>8.0</td>\n",
       "      <td>...</td>\n",
       "      <td>9.0</td>\n",
       "      <td>18.0</td>\n",
       "      <td>21.0</td>\n",
       "      <td>17.0</td>\n",
       "      <td>14.0</td>\n",
       "      <td>17.0</td>\n",
       "      <td>11.0</td>\n",
       "      <td>9.0</td>\n",
       "      <td>9.0</td>\n",
       "      <td>29.0</td>\n",
       "    </tr>\n",
       "    <tr>\n",
       "      <th>22</th>\n",
       "      <td>56031</td>\n",
       "      <td>大平透_ja.wikipedia.org_mobile-web_all-agents</td>\n",
       "      <td>102.0</td>\n",
       "      <td>106.0</td>\n",
       "      <td>128.0</td>\n",
       "      <td>153.0</td>\n",
       "      <td>164.0</td>\n",
       "      <td>145.0</td>\n",
       "      <td>158.0</td>\n",
       "      <td>148.0</td>\n",
       "      <td>...</td>\n",
       "      <td>284.0</td>\n",
       "      <td>624.0</td>\n",
       "      <td>700.0</td>\n",
       "      <td>406.0</td>\n",
       "      <td>254.0</td>\n",
       "      <td>199.0</td>\n",
       "      <td>229.0</td>\n",
       "      <td>301.0</td>\n",
       "      <td>390.0</td>\n",
       "      <td>282.0</td>\n",
       "    </tr>\n",
       "    <tr>\n",
       "      <th>23</th>\n",
       "      <td>7644</td>\n",
       "      <td>Le_Septième_Juré_fr.wikipedia.org_desktop_all-...</td>\n",
       "      <td>10.0</td>\n",
       "      <td>6.0</td>\n",
       "      <td>8.0</td>\n",
       "      <td>7.0</td>\n",
       "      <td>6.0</td>\n",
       "      <td>9.0</td>\n",
       "      <td>6.0</td>\n",
       "      <td>9.0</td>\n",
       "      <td>...</td>\n",
       "      <td>23.0</td>\n",
       "      <td>22.0</td>\n",
       "      <td>28.0</td>\n",
       "      <td>14.0</td>\n",
       "      <td>33.0</td>\n",
       "      <td>21.0</td>\n",
       "      <td>34.0</td>\n",
       "      <td>37.0</td>\n",
       "      <td>25.0</td>\n",
       "      <td>19.0</td>\n",
       "    </tr>\n",
       "    <tr>\n",
       "      <th>24</th>\n",
       "      <td>67657</td>\n",
       "      <td>Internet_Movie_Database_de.wikipedia.org_deskt...</td>\n",
       "      <td>1638.0</td>\n",
       "      <td>1644.0</td>\n",
       "      <td>1604.0</td>\n",
       "      <td>1422.0</td>\n",
       "      <td>1761.0</td>\n",
       "      <td>1787.0</td>\n",
       "      <td>1981.0</td>\n",
       "      <td>1996.0</td>\n",
       "      <td>...</td>\n",
       "      <td>1288.0</td>\n",
       "      <td>1369.0</td>\n",
       "      <td>1049.0</td>\n",
       "      <td>1467.0</td>\n",
       "      <td>1752.0</td>\n",
       "      <td>1919.0</td>\n",
       "      <td>1955.0</td>\n",
       "      <td>1920.0</td>\n",
       "      <td>1680.0</td>\n",
       "      <td>1329.0</td>\n",
       "    </tr>\n",
       "    <tr>\n",
       "      <th>25</th>\n",
       "      <td>134701</td>\n",
       "      <td>希良梨_ja.wikipedia.org_all-access_spider</td>\n",
       "      <td>1.0</td>\n",
       "      <td>1.0</td>\n",
       "      <td>2.0</td>\n",
       "      <td>4.0</td>\n",
       "      <td>3.0</td>\n",
       "      <td>1.0</td>\n",
       "      <td>1.0</td>\n",
       "      <td>3.0</td>\n",
       "      <td>...</td>\n",
       "      <td>16.0</td>\n",
       "      <td>5.0</td>\n",
       "      <td>5.0</td>\n",
       "      <td>8.0</td>\n",
       "      <td>27.0</td>\n",
       "      <td>14.0</td>\n",
       "      <td>7.0</td>\n",
       "      <td>7.0</td>\n",
       "      <td>9.0</td>\n",
       "      <td>13.0</td>\n",
       "    </tr>\n",
       "    <tr>\n",
       "      <th>26</th>\n",
       "      <td>74106</td>\n",
       "      <td>Maggie_Smith_en.wikipedia.org_mobile-web_all-a...</td>\n",
       "      <td>1448.0</td>\n",
       "      <td>1820.0</td>\n",
       "      <td>2354.0</td>\n",
       "      <td>3565.0</td>\n",
       "      <td>3342.0</td>\n",
       "      <td>2053.0</td>\n",
       "      <td>1593.0</td>\n",
       "      <td>1751.0</td>\n",
       "      <td>...</td>\n",
       "      <td>2775.0</td>\n",
       "      <td>3422.0</td>\n",
       "      <td>16453.0</td>\n",
       "      <td>10328.0</td>\n",
       "      <td>8749.0</td>\n",
       "      <td>13428.0</td>\n",
       "      <td>13780.0</td>\n",
       "      <td>15141.0</td>\n",
       "      <td>10788.0</td>\n",
       "      <td>12467.0</td>\n",
       "    </tr>\n",
       "    <tr>\n",
       "      <th>27</th>\n",
       "      <td>35722</td>\n",
       "      <td>Shahid_Afridi_en.wikipedia.org_all-access_spider</td>\n",
       "      <td>33.0</td>\n",
       "      <td>36.0</td>\n",
       "      <td>45.0</td>\n",
       "      <td>39.0</td>\n",
       "      <td>25.0</td>\n",
       "      <td>40.0</td>\n",
       "      <td>19.0</td>\n",
       "      <td>13.0</td>\n",
       "      <td>...</td>\n",
       "      <td>23.0</td>\n",
       "      <td>27.0</td>\n",
       "      <td>31.0</td>\n",
       "      <td>25.0</td>\n",
       "      <td>24.0</td>\n",
       "      <td>87.0</td>\n",
       "      <td>25.0</td>\n",
       "      <td>24.0</td>\n",
       "      <td>18.0</td>\n",
       "      <td>24.0</td>\n",
       "    </tr>\n",
       "    <tr>\n",
       "      <th>28</th>\n",
       "      <td>97153</td>\n",
       "      <td>Pablo_Iglesias_Turrión_es.wikipedia.org_mobile...</td>\n",
       "      <td>582.0</td>\n",
       "      <td>474.0</td>\n",
       "      <td>506.0</td>\n",
       "      <td>773.0</td>\n",
       "      <td>903.0</td>\n",
       "      <td>998.0</td>\n",
       "      <td>591.0</td>\n",
       "      <td>795.0</td>\n",
       "      <td>...</td>\n",
       "      <td>841.0</td>\n",
       "      <td>709.0</td>\n",
       "      <td>690.0</td>\n",
       "      <td>793.0</td>\n",
       "      <td>1003.0</td>\n",
       "      <td>957.0</td>\n",
       "      <td>840.0</td>\n",
       "      <td>587.0</td>\n",
       "      <td>477.0</td>\n",
       "      <td>563.0</td>\n",
       "    </tr>\n",
       "    <tr>\n",
       "      <th>29</th>\n",
       "      <td>61873</td>\n",
       "      <td>华为_zh.wikipedia.org_desktop_all-agents</td>\n",
       "      <td>167.0</td>\n",
       "      <td>168.0</td>\n",
       "      <td>233.0</td>\n",
       "      <td>136.0</td>\n",
       "      <td>106.0</td>\n",
       "      <td>176.0</td>\n",
       "      <td>185.0</td>\n",
       "      <td>205.0</td>\n",
       "      <td>...</td>\n",
       "      <td>603.0</td>\n",
       "      <td>453.0</td>\n",
       "      <td>290.0</td>\n",
       "      <td>306.0</td>\n",
       "      <td>479.0</td>\n",
       "      <td>460.0</td>\n",
       "      <td>465.0</td>\n",
       "      <td>387.0</td>\n",
       "      <td>345.0</td>\n",
       "      <td>260.0</td>\n",
       "    </tr>\n",
       "    <tr>\n",
       "      <th>...</th>\n",
       "      <td>...</td>\n",
       "      <td>...</td>\n",
       "      <td>...</td>\n",
       "      <td>...</td>\n",
       "      <td>...</td>\n",
       "      <td>...</td>\n",
       "      <td>...</td>\n",
       "      <td>...</td>\n",
       "      <td>...</td>\n",
       "      <td>...</td>\n",
       "      <td>...</td>\n",
       "      <td>...</td>\n",
       "      <td>...</td>\n",
       "      <td>...</td>\n",
       "      <td>...</td>\n",
       "      <td>...</td>\n",
       "      <td>...</td>\n",
       "      <td>...</td>\n",
       "      <td>...</td>\n",
       "      <td>...</td>\n",
       "      <td>...</td>\n",
       "    </tr>\n",
       "    <tr>\n",
       "      <th>19970</th>\n",
       "      <td>89887</td>\n",
       "      <td>時をかける少女_(テレビドラマ)_ja.wikipedia.org_desktop_all-...</td>\n",
       "      <td>NaN</td>\n",
       "      <td>NaN</td>\n",
       "      <td>NaN</td>\n",
       "      <td>NaN</td>\n",
       "      <td>NaN</td>\n",
       "      <td>NaN</td>\n",
       "      <td>NaN</td>\n",
       "      <td>NaN</td>\n",
       "      <td>...</td>\n",
       "      <td>73.0</td>\n",
       "      <td>177.0</td>\n",
       "      <td>87.0</td>\n",
       "      <td>98.0</td>\n",
       "      <td>104.0</td>\n",
       "      <td>84.0</td>\n",
       "      <td>128.0</td>\n",
       "      <td>98.0</td>\n",
       "      <td>99.0</td>\n",
       "      <td>83.0</td>\n",
       "    </tr>\n",
       "    <tr>\n",
       "      <th>19971</th>\n",
       "      <td>122515</td>\n",
       "      <td>家庭教師のトライ_ja.wikipedia.org_all-access_all-agents</td>\n",
       "      <td>242.0</td>\n",
       "      <td>210.0</td>\n",
       "      <td>231.0</td>\n",
       "      <td>330.0</td>\n",
       "      <td>276.0</td>\n",
       "      <td>236.0</td>\n",
       "      <td>266.0</td>\n",
       "      <td>277.0</td>\n",
       "      <td>...</td>\n",
       "      <td>101.0</td>\n",
       "      <td>120.0</td>\n",
       "      <td>98.0</td>\n",
       "      <td>105.0</td>\n",
       "      <td>117.0</td>\n",
       "      <td>107.0</td>\n",
       "      <td>124.0</td>\n",
       "      <td>152.0</td>\n",
       "      <td>89.0</td>\n",
       "      <td>170.0</td>\n",
       "    </tr>\n",
       "    <tr>\n",
       "      <th>19972</th>\n",
       "      <td>82237</td>\n",
       "      <td>File:Resume.pdf_commons.wikimedia.org_desktop_...</td>\n",
       "      <td>214.0</td>\n",
       "      <td>162.0</td>\n",
       "      <td>150.0</td>\n",
       "      <td>113.0</td>\n",
       "      <td>93.0</td>\n",
       "      <td>203.0</td>\n",
       "      <td>247.0</td>\n",
       "      <td>220.0</td>\n",
       "      <td>...</td>\n",
       "      <td>95.0</td>\n",
       "      <td>55.0</td>\n",
       "      <td>27.0</td>\n",
       "      <td>29.0</td>\n",
       "      <td>101.0</td>\n",
       "      <td>101.0</td>\n",
       "      <td>114.0</td>\n",
       "      <td>108.0</td>\n",
       "      <td>74.0</td>\n",
       "      <td>48.0</td>\n",
       "    </tr>\n",
       "    <tr>\n",
       "      <th>19973</th>\n",
       "      <td>109704</td>\n",
       "      <td>Alberto_Arai_en.wikipedia.org_all-access_all-a...</td>\n",
       "      <td>6.0</td>\n",
       "      <td>7.0</td>\n",
       "      <td>2.0</td>\n",
       "      <td>2.0</td>\n",
       "      <td>1.0</td>\n",
       "      <td>9.0</td>\n",
       "      <td>2.0</td>\n",
       "      <td>4.0</td>\n",
       "      <td>...</td>\n",
       "      <td>6.0</td>\n",
       "      <td>7.0</td>\n",
       "      <td>6.0</td>\n",
       "      <td>1.0</td>\n",
       "      <td>3.0</td>\n",
       "      <td>8.0</td>\n",
       "      <td>5.0</td>\n",
       "      <td>3.0</td>\n",
       "      <td>4.0</td>\n",
       "      <td>9.0</td>\n",
       "    </tr>\n",
       "    <tr>\n",
       "      <th>19974</th>\n",
       "      <td>87361</td>\n",
       "      <td>響け!_ユーフォニアム_ja.wikipedia.org_desktop_all-agents</td>\n",
       "      <td>10103.0</td>\n",
       "      <td>5895.0</td>\n",
       "      <td>4285.0</td>\n",
       "      <td>4687.0</td>\n",
       "      <td>5033.0</td>\n",
       "      <td>3449.0</td>\n",
       "      <td>2974.0</td>\n",
       "      <td>2935.0</td>\n",
       "      <td>...</td>\n",
       "      <td>3215.0</td>\n",
       "      <td>2456.0</td>\n",
       "      <td>2305.0</td>\n",
       "      <td>2208.0</td>\n",
       "      <td>1833.0</td>\n",
       "      <td>1606.0</td>\n",
       "      <td>3391.0</td>\n",
       "      <td>5251.0</td>\n",
       "      <td>3578.0</td>\n",
       "      <td>2521.0</td>\n",
       "    </tr>\n",
       "    <tr>\n",
       "      <th>19975</th>\n",
       "      <td>95229</td>\n",
       "      <td>Sexo_oral_es.wikipedia.org_mobile-web_all-agents</td>\n",
       "      <td>946.0</td>\n",
       "      <td>939.0</td>\n",
       "      <td>939.0</td>\n",
       "      <td>825.0</td>\n",
       "      <td>854.0</td>\n",
       "      <td>929.0</td>\n",
       "      <td>921.0</td>\n",
       "      <td>789.0</td>\n",
       "      <td>...</td>\n",
       "      <td>1524.0</td>\n",
       "      <td>1761.0</td>\n",
       "      <td>1628.0</td>\n",
       "      <td>1179.0</td>\n",
       "      <td>1775.0</td>\n",
       "      <td>1834.0</td>\n",
       "      <td>1809.0</td>\n",
       "      <td>1784.0</td>\n",
       "      <td>1628.0</td>\n",
       "      <td>1439.0</td>\n",
       "    </tr>\n",
       "    <tr>\n",
       "      <th>19976</th>\n",
       "      <td>86796</td>\n",
       "      <td>少年アシベ_ja.wikipedia.org_desktop_all-agents</td>\n",
       "      <td>124.0</td>\n",
       "      <td>140.0</td>\n",
       "      <td>131.0</td>\n",
       "      <td>131.0</td>\n",
       "      <td>113.0</td>\n",
       "      <td>155.0</td>\n",
       "      <td>108.0</td>\n",
       "      <td>100.0</td>\n",
       "      <td>...</td>\n",
       "      <td>185.0</td>\n",
       "      <td>173.0</td>\n",
       "      <td>200.0</td>\n",
       "      <td>208.0</td>\n",
       "      <td>171.0</td>\n",
       "      <td>358.0</td>\n",
       "      <td>200.0</td>\n",
       "      <td>194.0</td>\n",
       "      <td>179.0</td>\n",
       "      <td>232.0</td>\n",
       "    </tr>\n",
       "    <tr>\n",
       "      <th>19977</th>\n",
       "      <td>54484</td>\n",
       "      <td>Jules_César_fr.wikipedia.org_mobile-web_all-ag...</td>\n",
       "      <td>465.0</td>\n",
       "      <td>442.0</td>\n",
       "      <td>386.0</td>\n",
       "      <td>447.0</td>\n",
       "      <td>529.0</td>\n",
       "      <td>617.0</td>\n",
       "      <td>468.0</td>\n",
       "      <td>496.0</td>\n",
       "      <td>...</td>\n",
       "      <td>1365.0</td>\n",
       "      <td>856.0</td>\n",
       "      <td>905.0</td>\n",
       "      <td>2410.0</td>\n",
       "      <td>3589.0</td>\n",
       "      <td>1849.0</td>\n",
       "      <td>1225.0</td>\n",
       "      <td>1165.0</td>\n",
       "      <td>1714.0</td>\n",
       "      <td>1144.0</td>\n",
       "    </tr>\n",
       "    <tr>\n",
       "      <th>19978</th>\n",
       "      <td>60226</td>\n",
       "      <td>北九州監禁殺人事件_ja.wikipedia.org_mobile-web_all-agents</td>\n",
       "      <td>24221.0</td>\n",
       "      <td>6544.0</td>\n",
       "      <td>3206.0</td>\n",
       "      <td>2868.0</td>\n",
       "      <td>2186.0</td>\n",
       "      <td>1500.0</td>\n",
       "      <td>1217.0</td>\n",
       "      <td>1279.0</td>\n",
       "      <td>...</td>\n",
       "      <td>757.0</td>\n",
       "      <td>814.0</td>\n",
       "      <td>885.0</td>\n",
       "      <td>900.0</td>\n",
       "      <td>1026.0</td>\n",
       "      <td>928.0</td>\n",
       "      <td>915.0</td>\n",
       "      <td>839.0</td>\n",
       "      <td>1026.0</td>\n",
       "      <td>864.0</td>\n",
       "    </tr>\n",
       "    <tr>\n",
       "      <th>19979</th>\n",
       "      <td>30051</td>\n",
       "      <td>张继科_zh.wikipedia.org_all-access_all-agents</td>\n",
       "      <td>62.0</td>\n",
       "      <td>32.0</td>\n",
       "      <td>77.0</td>\n",
       "      <td>64.0</td>\n",
       "      <td>67.0</td>\n",
       "      <td>47.0</td>\n",
       "      <td>41.0</td>\n",
       "      <td>30.0</td>\n",
       "      <td>...</td>\n",
       "      <td>160.0</td>\n",
       "      <td>135.0</td>\n",
       "      <td>166.0</td>\n",
       "      <td>118.0</td>\n",
       "      <td>143.0</td>\n",
       "      <td>158.0</td>\n",
       "      <td>188.0</td>\n",
       "      <td>174.0</td>\n",
       "      <td>149.0</td>\n",
       "      <td>557.0</td>\n",
       "    </tr>\n",
       "    <tr>\n",
       "      <th>19980</th>\n",
       "      <td>65760</td>\n",
       "      <td>Heiko_Maas_de.wikipedia.org_desktop_all-agents</td>\n",
       "      <td>151.0</td>\n",
       "      <td>128.0</td>\n",
       "      <td>112.0</td>\n",
       "      <td>71.0</td>\n",
       "      <td>86.0</td>\n",
       "      <td>176.0</td>\n",
       "      <td>170.0</td>\n",
       "      <td>152.0</td>\n",
       "      <td>...</td>\n",
       "      <td>626.0</td>\n",
       "      <td>851.0</td>\n",
       "      <td>289.0</td>\n",
       "      <td>237.0</td>\n",
       "      <td>474.0</td>\n",
       "      <td>354.0</td>\n",
       "      <td>314.0</td>\n",
       "      <td>317.0</td>\n",
       "      <td>244.0</td>\n",
       "      <td>164.0</td>\n",
       "    </tr>\n",
       "    <tr>\n",
       "      <th>19981</th>\n",
       "      <td>117854</td>\n",
       "      <td>Jhon_Jairo_Velásquez_de.wikipedia.org_mobile-w...</td>\n",
       "      <td>24.0</td>\n",
       "      <td>31.0</td>\n",
       "      <td>14.0</td>\n",
       "      <td>25.0</td>\n",
       "      <td>24.0</td>\n",
       "      <td>24.0</td>\n",
       "      <td>33.0</td>\n",
       "      <td>59.0</td>\n",
       "      <td>...</td>\n",
       "      <td>142.0</td>\n",
       "      <td>91.0</td>\n",
       "      <td>96.0</td>\n",
       "      <td>141.0</td>\n",
       "      <td>228.0</td>\n",
       "      <td>137.0</td>\n",
       "      <td>199.0</td>\n",
       "      <td>156.0</td>\n",
       "      <td>158.0</td>\n",
       "      <td>137.0</td>\n",
       "    </tr>\n",
       "    <tr>\n",
       "      <th>19982</th>\n",
       "      <td>23126</td>\n",
       "      <td>Special:MobileMenu_www.mediawiki.org_mobile-we...</td>\n",
       "      <td>333.0</td>\n",
       "      <td>367.0</td>\n",
       "      <td>314.0</td>\n",
       "      <td>353.0</td>\n",
       "      <td>397.0</td>\n",
       "      <td>339.0</td>\n",
       "      <td>367.0</td>\n",
       "      <td>320.0</td>\n",
       "      <td>...</td>\n",
       "      <td>442.0</td>\n",
       "      <td>513.0</td>\n",
       "      <td>451.0</td>\n",
       "      <td>462.0</td>\n",
       "      <td>469.0</td>\n",
       "      <td>483.0</td>\n",
       "      <td>435.0</td>\n",
       "      <td>409.0</td>\n",
       "      <td>437.0</td>\n",
       "      <td>466.0</td>\n",
       "    </tr>\n",
       "    <tr>\n",
       "      <th>19983</th>\n",
       "      <td>59577</td>\n",
       "      <td>小田原城_ja.wikipedia.org_mobile-web_all-agents</td>\n",
       "      <td>232.0</td>\n",
       "      <td>208.0</td>\n",
       "      <td>232.0</td>\n",
       "      <td>287.0</td>\n",
       "      <td>344.0</td>\n",
       "      <td>186.0</td>\n",
       "      <td>201.0</td>\n",
       "      <td>209.0</td>\n",
       "      <td>...</td>\n",
       "      <td>270.0</td>\n",
       "      <td>434.0</td>\n",
       "      <td>471.0</td>\n",
       "      <td>374.0</td>\n",
       "      <td>273.0</td>\n",
       "      <td>309.0</td>\n",
       "      <td>359.0</td>\n",
       "      <td>487.0</td>\n",
       "      <td>626.0</td>\n",
       "      <td>574.0</td>\n",
       "    </tr>\n",
       "    <tr>\n",
       "      <th>19984</th>\n",
       "      <td>100373</td>\n",
       "      <td>Варнава,_Екатерина_Владимировна_ru.wikipedia.o...</td>\n",
       "      <td>1778.0</td>\n",
       "      <td>1752.0</td>\n",
       "      <td>2205.0</td>\n",
       "      <td>1926.0</td>\n",
       "      <td>2845.0</td>\n",
       "      <td>1542.0</td>\n",
       "      <td>1527.0</td>\n",
       "      <td>1559.0</td>\n",
       "      <td>...</td>\n",
       "      <td>1721.0</td>\n",
       "      <td>2561.0</td>\n",
       "      <td>6079.0</td>\n",
       "      <td>2083.0</td>\n",
       "      <td>1227.0</td>\n",
       "      <td>1426.0</td>\n",
       "      <td>1476.0</td>\n",
       "      <td>3224.0</td>\n",
       "      <td>1870.0</td>\n",
       "      <td>3173.0</td>\n",
       "    </tr>\n",
       "    <tr>\n",
       "      <th>19985</th>\n",
       "      <td>48067</td>\n",
       "      <td>Riverdale_(Fernsehserie)_de.wikipedia.org_all-...</td>\n",
       "      <td>NaN</td>\n",
       "      <td>NaN</td>\n",
       "      <td>NaN</td>\n",
       "      <td>NaN</td>\n",
       "      <td>NaN</td>\n",
       "      <td>NaN</td>\n",
       "      <td>NaN</td>\n",
       "      <td>NaN</td>\n",
       "      <td>...</td>\n",
       "      <td>NaN</td>\n",
       "      <td>NaN</td>\n",
       "      <td>NaN</td>\n",
       "      <td>NaN</td>\n",
       "      <td>NaN</td>\n",
       "      <td>NaN</td>\n",
       "      <td>NaN</td>\n",
       "      <td>NaN</td>\n",
       "      <td>NaN</td>\n",
       "      <td>NaN</td>\n",
       "    </tr>\n",
       "    <tr>\n",
       "      <th>19986</th>\n",
       "      <td>89308</td>\n",
       "      <td>音泉_ja.wikipedia.org_desktop_all-agents</td>\n",
       "      <td>37.0</td>\n",
       "      <td>69.0</td>\n",
       "      <td>43.0</td>\n",
       "      <td>49.0</td>\n",
       "      <td>62.0</td>\n",
       "      <td>63.0</td>\n",
       "      <td>67.0</td>\n",
       "      <td>49.0</td>\n",
       "      <td>...</td>\n",
       "      <td>45.0</td>\n",
       "      <td>35.0</td>\n",
       "      <td>42.0</td>\n",
       "      <td>44.0</td>\n",
       "      <td>45.0</td>\n",
       "      <td>48.0</td>\n",
       "      <td>107.0</td>\n",
       "      <td>36.0</td>\n",
       "      <td>43.0</td>\n",
       "      <td>31.0</td>\n",
       "    </tr>\n",
       "    <tr>\n",
       "      <th>19987</th>\n",
       "      <td>74494</td>\n",
       "      <td>Richard_B._Spencer_en.wikipedia.org_mobile-web...</td>\n",
       "      <td>15.0</td>\n",
       "      <td>13.0</td>\n",
       "      <td>8.0</td>\n",
       "      <td>12.0</td>\n",
       "      <td>11.0</td>\n",
       "      <td>176.0</td>\n",
       "      <td>37.0</td>\n",
       "      <td>13.0</td>\n",
       "      <td>...</td>\n",
       "      <td>1003.0</td>\n",
       "      <td>949.0</td>\n",
       "      <td>896.0</td>\n",
       "      <td>844.0</td>\n",
       "      <td>1175.0</td>\n",
       "      <td>1937.0</td>\n",
       "      <td>2703.0</td>\n",
       "      <td>1546.0</td>\n",
       "      <td>1170.0</td>\n",
       "      <td>1037.0</td>\n",
       "    </tr>\n",
       "    <tr>\n",
       "      <th>19988</th>\n",
       "      <td>138970</td>\n",
       "      <td>Toskana_de.wikipedia.org_all-access_all-agents</td>\n",
       "      <td>968.0</td>\n",
       "      <td>930.0</td>\n",
       "      <td>867.0</td>\n",
       "      <td>902.0</td>\n",
       "      <td>1226.0</td>\n",
       "      <td>1024.0</td>\n",
       "      <td>1143.0</td>\n",
       "      <td>1031.0</td>\n",
       "      <td>...</td>\n",
       "      <td>524.0</td>\n",
       "      <td>557.0</td>\n",
       "      <td>468.0</td>\n",
       "      <td>686.0</td>\n",
       "      <td>972.0</td>\n",
       "      <td>780.0</td>\n",
       "      <td>738.0</td>\n",
       "      <td>821.0</td>\n",
       "      <td>808.0</td>\n",
       "      <td>625.0</td>\n",
       "    </tr>\n",
       "    <tr>\n",
       "      <th>19989</th>\n",
       "      <td>7348</td>\n",
       "      <td>Touche_pas_à_mon_poste_!_fr.wikipedia.org_desk...</td>\n",
       "      <td>792.0</td>\n",
       "      <td>1642.0</td>\n",
       "      <td>1868.0</td>\n",
       "      <td>728.0</td>\n",
       "      <td>558.0</td>\n",
       "      <td>913.0</td>\n",
       "      <td>724.0</td>\n",
       "      <td>698.0</td>\n",
       "      <td>...</td>\n",
       "      <td>738.0</td>\n",
       "      <td>737.0</td>\n",
       "      <td>439.0</td>\n",
       "      <td>484.0</td>\n",
       "      <td>643.0</td>\n",
       "      <td>713.0</td>\n",
       "      <td>602.0</td>\n",
       "      <td>630.0</td>\n",
       "      <td>743.0</td>\n",
       "      <td>406.0</td>\n",
       "    </tr>\n",
       "    <tr>\n",
       "      <th>19990</th>\n",
       "      <td>57710</td>\n",
       "      <td>民王_ja.wikipedia.org_mobile-web_all-agents</td>\n",
       "      <td>206.0</td>\n",
       "      <td>307.0</td>\n",
       "      <td>371.0</td>\n",
       "      <td>416.0</td>\n",
       "      <td>397.0</td>\n",
       "      <td>566.0</td>\n",
       "      <td>337.0</td>\n",
       "      <td>1659.0</td>\n",
       "      <td>...</td>\n",
       "      <td>633.0</td>\n",
       "      <td>697.0</td>\n",
       "      <td>562.0</td>\n",
       "      <td>527.0</td>\n",
       "      <td>442.0</td>\n",
       "      <td>476.0</td>\n",
       "      <td>750.0</td>\n",
       "      <td>934.0</td>\n",
       "      <td>767.0</td>\n",
       "      <td>561.0</td>\n",
       "    </tr>\n",
       "    <tr>\n",
       "      <th>19991</th>\n",
       "      <td>127543</td>\n",
       "      <td>Anne_Boleyn_fr.wikipedia.org_all-access_spider</td>\n",
       "      <td>8.0</td>\n",
       "      <td>5.0</td>\n",
       "      <td>5.0</td>\n",
       "      <td>4.0</td>\n",
       "      <td>6.0</td>\n",
       "      <td>4.0</td>\n",
       "      <td>4.0</td>\n",
       "      <td>4.0</td>\n",
       "      <td>...</td>\n",
       "      <td>12.0</td>\n",
       "      <td>10.0</td>\n",
       "      <td>12.0</td>\n",
       "      <td>9.0</td>\n",
       "      <td>19.0</td>\n",
       "      <td>10.0</td>\n",
       "      <td>18.0</td>\n",
       "      <td>17.0</td>\n",
       "      <td>24.0</td>\n",
       "      <td>12.0</td>\n",
       "    </tr>\n",
       "    <tr>\n",
       "      <th>19992</th>\n",
       "      <td>64487</td>\n",
       "      <td>2016年夏季奧林匹克運動會中國香港代表團_zh.wikipedia.org_desktop...</td>\n",
       "      <td>NaN</td>\n",
       "      <td>NaN</td>\n",
       "      <td>NaN</td>\n",
       "      <td>NaN</td>\n",
       "      <td>NaN</td>\n",
       "      <td>NaN</td>\n",
       "      <td>NaN</td>\n",
       "      <td>NaN</td>\n",
       "      <td>...</td>\n",
       "      <td>14.0</td>\n",
       "      <td>11.0</td>\n",
       "      <td>9.0</td>\n",
       "      <td>3.0</td>\n",
       "      <td>13.0</td>\n",
       "      <td>16.0</td>\n",
       "      <td>14.0</td>\n",
       "      <td>24.0</td>\n",
       "      <td>19.0</td>\n",
       "      <td>14.0</td>\n",
       "    </tr>\n",
       "    <tr>\n",
       "      <th>19993</th>\n",
       "      <td>68616</td>\n",
       "      <td>Weites_Land_de.wikipedia.org_desktop_all-agents</td>\n",
       "      <td>40.0</td>\n",
       "      <td>78.0</td>\n",
       "      <td>33.0</td>\n",
       "      <td>18.0</td>\n",
       "      <td>46.0</td>\n",
       "      <td>40.0</td>\n",
       "      <td>43.0</td>\n",
       "      <td>45.0</td>\n",
       "      <td>...</td>\n",
       "      <td>44.0</td>\n",
       "      <td>28.0</td>\n",
       "      <td>26.0</td>\n",
       "      <td>48.0</td>\n",
       "      <td>19.0</td>\n",
       "      <td>40.0</td>\n",
       "      <td>58.0</td>\n",
       "      <td>40.0</td>\n",
       "      <td>38.0</td>\n",
       "      <td>31.0</td>\n",
       "    </tr>\n",
       "    <tr>\n",
       "      <th>19994</th>\n",
       "      <td>44972</td>\n",
       "      <td>File:Vulva_with_tiny_labia_minora.jpg_commons....</td>\n",
       "      <td>78.0</td>\n",
       "      <td>67.0</td>\n",
       "      <td>77.0</td>\n",
       "      <td>90.0</td>\n",
       "      <td>74.0</td>\n",
       "      <td>68.0</td>\n",
       "      <td>77.0</td>\n",
       "      <td>77.0</td>\n",
       "      <td>...</td>\n",
       "      <td>84.0</td>\n",
       "      <td>94.0</td>\n",
       "      <td>63.0</td>\n",
       "      <td>65.0</td>\n",
       "      <td>123.0</td>\n",
       "      <td>104.0</td>\n",
       "      <td>100.0</td>\n",
       "      <td>96.0</td>\n",
       "      <td>98.0</td>\n",
       "      <td>81.0</td>\n",
       "    </tr>\n",
       "    <tr>\n",
       "      <th>19995</th>\n",
       "      <td>121474</td>\n",
       "      <td>C・W・ニコル_ja.wikipedia.org_all-access_all-agents</td>\n",
       "      <td>237.0</td>\n",
       "      <td>202.0</td>\n",
       "      <td>290.0</td>\n",
       "      <td>193.0</td>\n",
       "      <td>248.0</td>\n",
       "      <td>200.0</td>\n",
       "      <td>616.0</td>\n",
       "      <td>431.0</td>\n",
       "      <td>...</td>\n",
       "      <td>162.0</td>\n",
       "      <td>150.0</td>\n",
       "      <td>145.0</td>\n",
       "      <td>121.0</td>\n",
       "      <td>151.0</td>\n",
       "      <td>179.0</td>\n",
       "      <td>145.0</td>\n",
       "      <td>134.0</td>\n",
       "      <td>461.0</td>\n",
       "      <td>233.0</td>\n",
       "    </tr>\n",
       "    <tr>\n",
       "      <th>19996</th>\n",
       "      <td>30283</td>\n",
       "      <td>克里斯·埃文斯_zh.wikipedia.org_all-access_all-agents</td>\n",
       "      <td>186.0</td>\n",
       "      <td>205.0</td>\n",
       "      <td>237.0</td>\n",
       "      <td>230.0</td>\n",
       "      <td>299.0</td>\n",
       "      <td>308.0</td>\n",
       "      <td>515.0</td>\n",
       "      <td>340.0</td>\n",
       "      <td>...</td>\n",
       "      <td>231.0</td>\n",
       "      <td>180.0</td>\n",
       "      <td>177.0</td>\n",
       "      <td>290.0</td>\n",
       "      <td>226.0</td>\n",
       "      <td>159.0</td>\n",
       "      <td>179.0</td>\n",
       "      <td>151.0</td>\n",
       "      <td>131.0</td>\n",
       "      <td>169.0</td>\n",
       "    </tr>\n",
       "    <tr>\n",
       "      <th>19997</th>\n",
       "      <td>42317</td>\n",
       "      <td>Gerrit/TortoiseGit_tutorial_www.mediawiki.org_...</td>\n",
       "      <td>41.0</td>\n",
       "      <td>41.0</td>\n",
       "      <td>46.0</td>\n",
       "      <td>5.0</td>\n",
       "      <td>9.0</td>\n",
       "      <td>47.0</td>\n",
       "      <td>58.0</td>\n",
       "      <td>50.0</td>\n",
       "      <td>...</td>\n",
       "      <td>39.0</td>\n",
       "      <td>25.0</td>\n",
       "      <td>6.0</td>\n",
       "      <td>14.0</td>\n",
       "      <td>16.0</td>\n",
       "      <td>19.0</td>\n",
       "      <td>17.0</td>\n",
       "      <td>29.0</td>\n",
       "      <td>11.0</td>\n",
       "      <td>10.0</td>\n",
       "    </tr>\n",
       "    <tr>\n",
       "      <th>19998</th>\n",
       "      <td>6839</td>\n",
       "      <td>Paul_Bourget_fr.wikipedia.org_desktop_all-agents</td>\n",
       "      <td>42.0</td>\n",
       "      <td>64.0</td>\n",
       "      <td>51.0</td>\n",
       "      <td>39.0</td>\n",
       "      <td>45.0</td>\n",
       "      <td>58.0</td>\n",
       "      <td>71.0</td>\n",
       "      <td>67.0</td>\n",
       "      <td>...</td>\n",
       "      <td>440.0</td>\n",
       "      <td>926.0</td>\n",
       "      <td>596.0</td>\n",
       "      <td>782.0</td>\n",
       "      <td>1241.0</td>\n",
       "      <td>900.0</td>\n",
       "      <td>720.0</td>\n",
       "      <td>622.0</td>\n",
       "      <td>520.0</td>\n",
       "      <td>573.0</td>\n",
       "    </tr>\n",
       "    <tr>\n",
       "      <th>19999</th>\n",
       "      <td>141784</td>\n",
       "      <td>Cartel_de_Cali_es.wikipedia.org_all-access_spider</td>\n",
       "      <td>14.0</td>\n",
       "      <td>7.0</td>\n",
       "      <td>3.0</td>\n",
       "      <td>22.0</td>\n",
       "      <td>31.0</td>\n",
       "      <td>6.0</td>\n",
       "      <td>11.0</td>\n",
       "      <td>56.0</td>\n",
       "      <td>...</td>\n",
       "      <td>8.0</td>\n",
       "      <td>13.0</td>\n",
       "      <td>13.0</td>\n",
       "      <td>6.0</td>\n",
       "      <td>4.0</td>\n",
       "      <td>8.0</td>\n",
       "      <td>13.0</td>\n",
       "      <td>8.0</td>\n",
       "      <td>6.0</td>\n",
       "      <td>7.0</td>\n",
       "    </tr>\n",
       "  </tbody>\n",
       "</table>\n",
       "<p>20000 rows × 552 columns</p>\n",
       "</div>"
      ],
      "text/plain": [
       "       Unnamed: 0                                               Page  \\\n",
       "0          141459  Creed_–_Rocky’s_Legacy_de.wikipedia.org_all-ac...   \n",
       "1          139626  Henry_Maske_de.wikipedia.org_all-access_all-ag...   \n",
       "2           50423  Menderes_Bağcı_de.wikipedia.org_all-access_spider   \n",
       "3            7743  François_de_Rugy_fr.wikipedia.org_desktop_all-...   \n",
       "4          106075     李晨_(演员)_zh.wikipedia.org_mobile-web_all-agents   \n",
       "5          132398        サンシャイン池崎_ja.wikipedia.org_all-access_spider   \n",
       "6           83564  Release_notes/1.27_www.mediawiki.org_all-acces...   \n",
       "7          141112  Cruising_(Homosexualität)_de.wikipedia.org_all...   \n",
       "8           69146  Eine_Reihe_betrüblicher_Ereignisse_de.wikipedi...   \n",
       "9           98631  Ковалёв,_Сергей_Александрович_(боксёр)_ru.wiki...   \n",
       "10          40665  Shimon_Peres_en.wikipedia.org_all-access_all-a...   \n",
       "11         135152         弾丸ジャッキー_ja.wikipedia.org_all-access_spider   \n",
       "12          15186  File:Theresa_May.jpg_commons.wikimedia.org_all...   \n",
       "13           7742     Léa_Salamé_fr.wikipedia.org_desktop_all-agents   \n",
       "14          55684  Saison_14_de_NCIS_:_Enquêtes_spéciales_fr.wiki...   \n",
       "15          37452  Balika_Vadhu_en.wikipedia.org_all-access_all-a...   \n",
       "16         122280          電通_ja.wikipedia.org_all-access_all-agents   \n",
       "17          22208  Special:MyLanguage/Mobile_design_www.mediawiki...   \n",
       "18          69426  Philippinenwürger_de.wikipedia.org_desktop_all...   \n",
       "19          71141  Rogue_One:_Una_historia_de_Star_Wars_es.wikipe...   \n",
       "20         136835  ON_異常犯罪捜査官・藤堂比奈子_ja.wikipedia.org_all-access_s...   \n",
       "21         144262         Táchira_es.wikipedia.org_all-access_spider   \n",
       "22          56031         大平透_ja.wikipedia.org_mobile-web_all-agents   \n",
       "23           7644  Le_Septième_Juré_fr.wikipedia.org_desktop_all-...   \n",
       "24          67657  Internet_Movie_Database_de.wikipedia.org_deskt...   \n",
       "25         134701             希良梨_ja.wikipedia.org_all-access_spider   \n",
       "26          74106  Maggie_Smith_en.wikipedia.org_mobile-web_all-a...   \n",
       "27          35722   Shahid_Afridi_en.wikipedia.org_all-access_spider   \n",
       "28          97153  Pablo_Iglesias_Turrión_es.wikipedia.org_mobile...   \n",
       "29          61873             华为_zh.wikipedia.org_desktop_all-agents   \n",
       "...           ...                                                ...   \n",
       "19970       89887  時をかける少女_(テレビドラマ)_ja.wikipedia.org_desktop_all-...   \n",
       "19971      122515    家庭教師のトライ_ja.wikipedia.org_all-access_all-agents   \n",
       "19972       82237  File:Resume.pdf_commons.wikimedia.org_desktop_...   \n",
       "19973      109704  Alberto_Arai_en.wikipedia.org_all-access_all-a...   \n",
       "19974       87361    響け!_ユーフォニアム_ja.wikipedia.org_desktop_all-agents   \n",
       "19975       95229   Sexo_oral_es.wikipedia.org_mobile-web_all-agents   \n",
       "19976       86796          少年アシベ_ja.wikipedia.org_desktop_all-agents   \n",
       "19977       54484  Jules_César_fr.wikipedia.org_mobile-web_all-ag...   \n",
       "19978       60226   北九州監禁殺人事件_ja.wikipedia.org_mobile-web_all-agents   \n",
       "19979       30051         张继科_zh.wikipedia.org_all-access_all-agents   \n",
       "19980       65760     Heiko_Maas_de.wikipedia.org_desktop_all-agents   \n",
       "19981      117854  Jhon_Jairo_Velásquez_de.wikipedia.org_mobile-w...   \n",
       "19982       23126  Special:MobileMenu_www.mediawiki.org_mobile-we...   \n",
       "19983       59577        小田原城_ja.wikipedia.org_mobile-web_all-agents   \n",
       "19984      100373  Варнава,_Екатерина_Владимировна_ru.wikipedia.o...   \n",
       "19985       48067  Riverdale_(Fernsehserie)_de.wikipedia.org_all-...   \n",
       "19986       89308             音泉_ja.wikipedia.org_desktop_all-agents   \n",
       "19987       74494  Richard_B._Spencer_en.wikipedia.org_mobile-web...   \n",
       "19988      138970     Toskana_de.wikipedia.org_all-access_all-agents   \n",
       "19989        7348  Touche_pas_à_mon_poste_!_fr.wikipedia.org_desk...   \n",
       "19990       57710          民王_ja.wikipedia.org_mobile-web_all-agents   \n",
       "19991      127543     Anne_Boleyn_fr.wikipedia.org_all-access_spider   \n",
       "19992       64487  2016年夏季奧林匹克運動會中國香港代表團_zh.wikipedia.org_desktop...   \n",
       "19993       68616    Weites_Land_de.wikipedia.org_desktop_all-agents   \n",
       "19994       44972  File:Vulva_with_tiny_labia_minora.jpg_commons....   \n",
       "19995      121474     C・W・ニコル_ja.wikipedia.org_all-access_all-agents   \n",
       "19996       30283     克里斯·埃文斯_zh.wikipedia.org_all-access_all-agents   \n",
       "19997       42317  Gerrit/TortoiseGit_tutorial_www.mediawiki.org_...   \n",
       "19998        6839   Paul_Bourget_fr.wikipedia.org_desktop_all-agents   \n",
       "19999      141784  Cartel_de_Cali_es.wikipedia.org_all-access_spider   \n",
       "\n",
       "       2015-07-01  2015-07-02  2015-07-03  2015-07-04  2015-07-05  2015-07-06  \\\n",
       "0             NaN         NaN         NaN         NaN         NaN         NaN   \n",
       "1           154.0        98.0       117.0       107.0       116.0       138.0   \n",
       "2             2.0         0.0         1.0         1.0         1.0         1.0   \n",
       "3            45.0        32.0        25.0        12.0         9.0        20.0   \n",
       "4           950.0       944.0       950.0      1062.0      1044.0      1000.0   \n",
       "5             1.0         2.0         5.0         4.0         0.0         3.0   \n",
       "6             NaN         NaN         NaN         NaN         NaN         NaN   \n",
       "7           183.0       226.0       181.0       174.0       239.0       214.0   \n",
       "8            27.0        34.0        18.0        18.0        33.0       354.0   \n",
       "9           737.0      1029.0       402.0       386.0       481.0       322.0   \n",
       "10          675.0       604.0       596.0       570.0       595.0       610.0   \n",
       "11            3.0         3.0         3.0         1.0         4.0         3.0   \n",
       "12            NaN         NaN         1.0         NaN         NaN         NaN   \n",
       "13          665.0       650.0       463.0      1026.0       659.0       487.0   \n",
       "14            NaN         NaN         NaN         NaN         NaN         NaN   \n",
       "15         3039.0      2835.0      2738.0      2768.0      2387.0      2643.0   \n",
       "16         1030.0       996.0       855.0       790.0       834.0      1019.0   \n",
       "17            NaN         NaN         NaN         NaN         NaN         NaN   \n",
       "18            NaN         NaN         NaN         NaN         NaN         NaN   \n",
       "19            NaN         NaN         NaN         NaN         NaN         NaN   \n",
       "20            NaN         NaN         NaN         NaN         NaN         NaN   \n",
       "21           22.0         7.0         3.0         2.0         8.0         4.0   \n",
       "22          102.0       106.0       128.0       153.0       164.0       145.0   \n",
       "23           10.0         6.0         8.0         7.0         6.0         9.0   \n",
       "24         1638.0      1644.0      1604.0      1422.0      1761.0      1787.0   \n",
       "25            1.0         1.0         2.0         4.0         3.0         1.0   \n",
       "26         1448.0      1820.0      2354.0      3565.0      3342.0      2053.0   \n",
       "27           33.0        36.0        45.0        39.0        25.0        40.0   \n",
       "28          582.0       474.0       506.0       773.0       903.0       998.0   \n",
       "29          167.0       168.0       233.0       136.0       106.0       176.0   \n",
       "...           ...         ...         ...         ...         ...         ...   \n",
       "19970         NaN         NaN         NaN         NaN         NaN         NaN   \n",
       "19971       242.0       210.0       231.0       330.0       276.0       236.0   \n",
       "19972       214.0       162.0       150.0       113.0        93.0       203.0   \n",
       "19973         6.0         7.0         2.0         2.0         1.0         9.0   \n",
       "19974     10103.0      5895.0      4285.0      4687.0      5033.0      3449.0   \n",
       "19975       946.0       939.0       939.0       825.0       854.0       929.0   \n",
       "19976       124.0       140.0       131.0       131.0       113.0       155.0   \n",
       "19977       465.0       442.0       386.0       447.0       529.0       617.0   \n",
       "19978     24221.0      6544.0      3206.0      2868.0      2186.0      1500.0   \n",
       "19979        62.0        32.0        77.0        64.0        67.0        47.0   \n",
       "19980       151.0       128.0       112.0        71.0        86.0       176.0   \n",
       "19981        24.0        31.0        14.0        25.0        24.0        24.0   \n",
       "19982       333.0       367.0       314.0       353.0       397.0       339.0   \n",
       "19983       232.0       208.0       232.0       287.0       344.0       186.0   \n",
       "19984      1778.0      1752.0      2205.0      1926.0      2845.0      1542.0   \n",
       "19985         NaN         NaN         NaN         NaN         NaN         NaN   \n",
       "19986        37.0        69.0        43.0        49.0        62.0        63.0   \n",
       "19987        15.0        13.0         8.0        12.0        11.0       176.0   \n",
       "19988       968.0       930.0       867.0       902.0      1226.0      1024.0   \n",
       "19989       792.0      1642.0      1868.0       728.0       558.0       913.0   \n",
       "19990       206.0       307.0       371.0       416.0       397.0       566.0   \n",
       "19991         8.0         5.0         5.0         4.0         6.0         4.0   \n",
       "19992         NaN         NaN         NaN         NaN         NaN         NaN   \n",
       "19993        40.0        78.0        33.0        18.0        46.0        40.0   \n",
       "19994        78.0        67.0        77.0        90.0        74.0        68.0   \n",
       "19995       237.0       202.0       290.0       193.0       248.0       200.0   \n",
       "19996       186.0       205.0       237.0       230.0       299.0       308.0   \n",
       "19997        41.0        41.0        46.0         5.0         9.0        47.0   \n",
       "19998        42.0        64.0        51.0        39.0        45.0        58.0   \n",
       "19999        14.0         7.0         3.0        22.0        31.0         6.0   \n",
       "\n",
       "       2015-07-07  2015-07-08     ...      2016-12-22  2016-12-23  2016-12-24  \\\n",
       "0             NaN         NaN     ...           297.0       335.0       296.0   \n",
       "1           167.0       184.0     ...           187.0       152.0       175.0   \n",
       "2             1.0         1.0     ...             6.0        11.0        10.0   \n",
       "3            57.0        58.0     ...           233.0       178.0        79.0   \n",
       "4           939.0       868.0     ...           200.0       220.0       278.0   \n",
       "5             0.0         7.0     ...            77.0        94.0        79.0   \n",
       "6             NaN         NaN     ...             4.0         2.0        15.0   \n",
       "7           227.0       268.0     ...           264.0       249.0       297.0   \n",
       "8           102.0        39.0     ...            91.0        55.0        44.0   \n",
       "9           377.0       365.0     ...           680.0       708.0      1008.0   \n",
       "10          706.0      1239.0     ...          1072.0      1153.0      1669.0   \n",
       "11            5.0         1.0     ...           652.0       141.0        69.0   \n",
       "12            NaN         NaN     ...             7.0         2.0         8.0   \n",
       "13          428.0       603.0     ...          1615.0       637.0       557.0   \n",
       "14            NaN         NaN     ...            81.0       374.0       101.0   \n",
       "15         2869.0      3205.0     ...          2047.0      1929.0      1784.0   \n",
       "16         1486.0      1181.0     ...           897.0      3687.0      3203.0   \n",
       "17            NaN         NaN     ...             1.0         1.0         4.0   \n",
       "18            NaN         NaN     ...             2.0         1.0         4.0   \n",
       "19            NaN         NaN     ...          4248.0      5356.0      4226.0   \n",
       "20            NaN         NaN     ...            13.0        68.0        50.0   \n",
       "21            7.0         8.0     ...             9.0        18.0        21.0   \n",
       "22          158.0       148.0     ...           284.0       624.0       700.0   \n",
       "23            6.0         9.0     ...            23.0        22.0        28.0   \n",
       "24         1981.0      1996.0     ...          1288.0      1369.0      1049.0   \n",
       "25            1.0         3.0     ...            16.0         5.0         5.0   \n",
       "26         1593.0      1751.0     ...          2775.0      3422.0     16453.0   \n",
       "27           19.0        13.0     ...            23.0        27.0        31.0   \n",
       "28          591.0       795.0     ...           841.0       709.0       690.0   \n",
       "29          185.0       205.0     ...           603.0       453.0       290.0   \n",
       "...           ...         ...     ...             ...         ...         ...   \n",
       "19970         NaN         NaN     ...            73.0       177.0        87.0   \n",
       "19971       266.0       277.0     ...           101.0       120.0        98.0   \n",
       "19972       247.0       220.0     ...            95.0        55.0        27.0   \n",
       "19973         2.0         4.0     ...             6.0         7.0         6.0   \n",
       "19974      2974.0      2935.0     ...          3215.0      2456.0      2305.0   \n",
       "19975       921.0       789.0     ...          1524.0      1761.0      1628.0   \n",
       "19976       108.0       100.0     ...           185.0       173.0       200.0   \n",
       "19977       468.0       496.0     ...          1365.0       856.0       905.0   \n",
       "19978      1217.0      1279.0     ...           757.0       814.0       885.0   \n",
       "19979        41.0        30.0     ...           160.0       135.0       166.0   \n",
       "19980       170.0       152.0     ...           626.0       851.0       289.0   \n",
       "19981        33.0        59.0     ...           142.0        91.0        96.0   \n",
       "19982       367.0       320.0     ...           442.0       513.0       451.0   \n",
       "19983       201.0       209.0     ...           270.0       434.0       471.0   \n",
       "19984      1527.0      1559.0     ...          1721.0      2561.0      6079.0   \n",
       "19985         NaN         NaN     ...             NaN         NaN         NaN   \n",
       "19986        67.0        49.0     ...            45.0        35.0        42.0   \n",
       "19987        37.0        13.0     ...          1003.0       949.0       896.0   \n",
       "19988      1143.0      1031.0     ...           524.0       557.0       468.0   \n",
       "19989       724.0       698.0     ...           738.0       737.0       439.0   \n",
       "19990       337.0      1659.0     ...           633.0       697.0       562.0   \n",
       "19991         4.0         4.0     ...            12.0        10.0        12.0   \n",
       "19992         NaN         NaN     ...            14.0        11.0         9.0   \n",
       "19993        43.0        45.0     ...            44.0        28.0        26.0   \n",
       "19994        77.0        77.0     ...            84.0        94.0        63.0   \n",
       "19995       616.0       431.0     ...           162.0       150.0       145.0   \n",
       "19996       515.0       340.0     ...           231.0       180.0       177.0   \n",
       "19997        58.0        50.0     ...            39.0        25.0         6.0   \n",
       "19998        71.0        67.0     ...           440.0       926.0       596.0   \n",
       "19999        11.0        56.0     ...             8.0        13.0        13.0   \n",
       "\n",
       "       2016-12-25  2016-12-26  2016-12-27  2016-12-28  2016-12-29  2016-12-30  \\\n",
       "0           842.0       774.0       435.0       390.0       383.0       468.0   \n",
       "1           215.0       174.0       404.0       330.0       539.0     14769.0   \n",
       "2            11.0         5.0         6.0         9.0         7.0         7.0   \n",
       "3            61.0       109.0       218.0       255.0       138.0       110.0   \n",
       "4           558.0       512.0       343.0       204.0       506.0       235.0   \n",
       "5            59.0        47.0        45.0       825.0       163.0        81.0   \n",
       "6             4.0         8.0         2.0         3.0         4.0         4.0   \n",
       "7          6975.0     36258.0      8519.0      2300.0       999.0       701.0   \n",
       "8            57.0        92.0       853.0       271.0       145.0        84.0   \n",
       "9           784.0       725.0       578.0       563.0       617.0       891.0   \n",
       "10         1723.0      1963.0      2169.0      3734.0      3446.0      2227.0   \n",
       "11           91.0        46.0        33.0        24.0        33.0        37.0   \n",
       "12            2.0         NaN         1.0         NaN         2.0         1.0   \n",
       "13          459.0       503.0       510.0       385.0       375.0       370.0   \n",
       "14           91.0       123.0        99.0        99.0       104.0       484.0   \n",
       "15         1816.0      2254.0      2663.0      2772.0      2686.0      2536.0   \n",
       "16         7613.0      3449.0      3881.0     53631.0     19898.0      4971.0   \n",
       "17            2.0         6.0         1.0         3.0         5.0         5.0   \n",
       "18            2.0         4.0         2.0         2.0         1.0         2.0   \n",
       "19         3599.0      6775.0      8628.0      7985.0      6675.0      4841.0   \n",
       "20           44.0        16.0        23.0        16.0        25.0        31.0   \n",
       "21           17.0        14.0        17.0        11.0         9.0         9.0   \n",
       "22          406.0       254.0       199.0       229.0       301.0       390.0   \n",
       "23           14.0        33.0        21.0        34.0        37.0        25.0   \n",
       "24         1467.0      1752.0      1919.0      1955.0      1920.0      1680.0   \n",
       "25            8.0        27.0        14.0         7.0         7.0         9.0   \n",
       "26        10328.0      8749.0     13428.0     13780.0     15141.0     10788.0   \n",
       "27           25.0        24.0        87.0        25.0        24.0        18.0   \n",
       "28          793.0      1003.0       957.0       840.0       587.0       477.0   \n",
       "29          306.0       479.0       460.0       465.0       387.0       345.0   \n",
       "...           ...         ...         ...         ...         ...         ...   \n",
       "19970        98.0       104.0        84.0       128.0        98.0        99.0   \n",
       "19971       105.0       117.0       107.0       124.0       152.0        89.0   \n",
       "19972        29.0       101.0       101.0       114.0       108.0        74.0   \n",
       "19973         1.0         3.0         8.0         5.0         3.0         4.0   \n",
       "19974      2208.0      1833.0      1606.0      3391.0      5251.0      3578.0   \n",
       "19975      1179.0      1775.0      1834.0      1809.0      1784.0      1628.0   \n",
       "19976       208.0       171.0       358.0       200.0       194.0       179.0   \n",
       "19977      2410.0      3589.0      1849.0      1225.0      1165.0      1714.0   \n",
       "19978       900.0      1026.0       928.0       915.0       839.0      1026.0   \n",
       "19979       118.0       143.0       158.0       188.0       174.0       149.0   \n",
       "19980       237.0       474.0       354.0       314.0       317.0       244.0   \n",
       "19981       141.0       228.0       137.0       199.0       156.0       158.0   \n",
       "19982       462.0       469.0       483.0       435.0       409.0       437.0   \n",
       "19983       374.0       273.0       309.0       359.0       487.0       626.0   \n",
       "19984      2083.0      1227.0      1426.0      1476.0      3224.0      1870.0   \n",
       "19985         NaN         NaN         NaN         NaN         NaN         NaN   \n",
       "19986        44.0        45.0        48.0       107.0        36.0        43.0   \n",
       "19987       844.0      1175.0      1937.0      2703.0      1546.0      1170.0   \n",
       "19988       686.0       972.0       780.0       738.0       821.0       808.0   \n",
       "19989       484.0       643.0       713.0       602.0       630.0       743.0   \n",
       "19990       527.0       442.0       476.0       750.0       934.0       767.0   \n",
       "19991         9.0        19.0        10.0        18.0        17.0        24.0   \n",
       "19992         3.0        13.0        16.0        14.0        24.0        19.0   \n",
       "19993        48.0        19.0        40.0        58.0        40.0        38.0   \n",
       "19994        65.0       123.0       104.0       100.0        96.0        98.0   \n",
       "19995       121.0       151.0       179.0       145.0       134.0       461.0   \n",
       "19996       290.0       226.0       159.0       179.0       151.0       131.0   \n",
       "19997        14.0        16.0        19.0        17.0        29.0        11.0   \n",
       "19998       782.0      1241.0       900.0       720.0       622.0       520.0   \n",
       "19999         6.0         4.0         8.0        13.0         8.0         6.0   \n",
       "\n",
       "       2016-12-31  \n",
       "0           514.0  \n",
       "1          1269.0  \n",
       "2             6.0  \n",
       "3            60.0  \n",
       "4           309.0  \n",
       "5          1067.0  \n",
       "6            14.0  \n",
       "7           749.0  \n",
       "8            47.0  \n",
       "9           536.0  \n",
       "10         2266.0  \n",
       "11           25.0  \n",
       "12            1.0  \n",
       "13          320.0  \n",
       "14          137.0  \n",
       "15         1961.0  \n",
       "16         3781.0  \n",
       "17            2.0  \n",
       "18            5.0  \n",
       "19         3590.0  \n",
       "20           33.0  \n",
       "21           29.0  \n",
       "22          282.0  \n",
       "23           19.0  \n",
       "24         1329.0  \n",
       "25           13.0  \n",
       "26        12467.0  \n",
       "27           24.0  \n",
       "28          563.0  \n",
       "29          260.0  \n",
       "...           ...  \n",
       "19970        83.0  \n",
       "19971       170.0  \n",
       "19972        48.0  \n",
       "19973         9.0  \n",
       "19974      2521.0  \n",
       "19975      1439.0  \n",
       "19976       232.0  \n",
       "19977      1144.0  \n",
       "19978       864.0  \n",
       "19979       557.0  \n",
       "19980       164.0  \n",
       "19981       137.0  \n",
       "19982       466.0  \n",
       "19983       574.0  \n",
       "19984      3173.0  \n",
       "19985         NaN  \n",
       "19986        31.0  \n",
       "19987      1037.0  \n",
       "19988       625.0  \n",
       "19989       406.0  \n",
       "19990       561.0  \n",
       "19991        12.0  \n",
       "19992        14.0  \n",
       "19993        31.0  \n",
       "19994        81.0  \n",
       "19995       233.0  \n",
       "19996       169.0  \n",
       "19997        10.0  \n",
       "19998       573.0  \n",
       "19999         7.0  \n",
       "\n",
       "[20000 rows x 552 columns]"
      ]
     },
     "execution_count": 3,
     "metadata": {},
     "output_type": "execute_result"
    }
   ],
   "source": [
    "input_df"
   ]
  },
  {
   "cell_type": "code",
   "execution_count": 4,
   "metadata": {},
   "outputs": [
    {
     "data": {
      "text/plain": [
       "array([[             nan,              nan,              nan, ...,\n",
       "          3.83000000e+02,   4.68000000e+02,   5.14000000e+02],\n",
       "       [  1.54000000e+02,   9.80000000e+01,   1.17000000e+02, ...,\n",
       "          5.39000000e+02,   1.47690000e+04,   1.26900000e+03],\n",
       "       [  2.00000000e+00,   0.00000000e+00,   1.00000000e+00, ...,\n",
       "          7.00000000e+00,   7.00000000e+00,   6.00000000e+00],\n",
       "       ..., \n",
       "       [  4.10000000e+01,   4.10000000e+01,   4.60000000e+01, ...,\n",
       "          2.90000000e+01,   1.10000000e+01,   1.00000000e+01],\n",
       "       [  4.20000000e+01,   6.40000000e+01,   5.10000000e+01, ...,\n",
       "          6.22000000e+02,   5.20000000e+02,   5.73000000e+02],\n",
       "       [  1.40000000e+01,   7.00000000e+00,   3.00000000e+00, ...,\n",
       "          8.00000000e+00,   6.00000000e+00,   7.00000000e+00]])"
      ]
     },
     "execution_count": 4,
     "metadata": {},
     "output_type": "execute_result"
    }
   ],
   "source": [
    "input_data = input_df.iloc[:,2:].values\n",
    "input_data"
   ]
  },
  {
   "cell_type": "code",
   "execution_count": 5,
   "metadata": {},
   "outputs": [
    {
     "data": {
      "text/plain": [
       "array([[             nan,              nan,              nan, ...,\n",
       "          3.83000000e+02,   4.68000000e+02,   5.14000000e+02],\n",
       "       [  1.54000000e+02,   9.80000000e+01,   1.17000000e+02, ...,\n",
       "          5.39000000e+02,   1.47690000e+04,   1.26900000e+03],\n",
       "       [  2.00000000e+00,   0.00000000e+00,   1.00000000e+00, ...,\n",
       "          7.00000000e+00,   7.00000000e+00,   6.00000000e+00],\n",
       "       ..., \n",
       "       [  4.10000000e+01,   4.10000000e+01,   4.60000000e+01, ...,\n",
       "          2.90000000e+01,   1.10000000e+01,   1.00000000e+01],\n",
       "       [  4.20000000e+01,   6.40000000e+01,   5.10000000e+01, ...,\n",
       "          6.22000000e+02,   5.20000000e+02,   5.73000000e+02],\n",
       "       [  1.40000000e+01,   7.00000000e+00,   3.00000000e+00, ...,\n",
       "          8.00000000e+00,   6.00000000e+00,   7.00000000e+00]])"
      ]
     },
     "execution_count": 5,
     "metadata": {},
     "output_type": "execute_result"
    }
   ],
   "source": [
    "# Remove the all nan data row\n",
    "input_data = input_data[~np.isnan(input_data).all(axis=-1)]\n",
    "input_data"
   ]
  },
  {
   "cell_type": "code",
   "execution_count": 6,
   "metadata": {},
   "outputs": [
    {
     "data": {
      "text/plain": [
       "array([[  0.00000000e+00,   0.00000000e+00,   0.00000000e+00, ...,\n",
       "          3.83000000e+02,   4.68000000e+02,   5.14000000e+02],\n",
       "       [  1.54000000e+02,   9.80000000e+01,   1.17000000e+02, ...,\n",
       "          5.39000000e+02,   1.47690000e+04,   1.26900000e+03],\n",
       "       [  2.00000000e+00,   0.00000000e+00,   1.00000000e+00, ...,\n",
       "          7.00000000e+00,   7.00000000e+00,   6.00000000e+00],\n",
       "       ..., \n",
       "       [  4.10000000e+01,   4.10000000e+01,   4.60000000e+01, ...,\n",
       "          2.90000000e+01,   1.10000000e+01,   1.00000000e+01],\n",
       "       [  4.20000000e+01,   6.40000000e+01,   5.10000000e+01, ...,\n",
       "          6.22000000e+02,   5.20000000e+02,   5.73000000e+02],\n",
       "       [  1.40000000e+01,   7.00000000e+00,   3.00000000e+00, ...,\n",
       "          8.00000000e+00,   6.00000000e+00,   7.00000000e+00]])"
      ]
     },
     "execution_count": 6,
     "metadata": {},
     "output_type": "execute_result"
    }
   ],
   "source": [
    "# Replace nan with zero\n",
    "input_data_num = np.nan_to_num(input_data)\n",
    "input_data_num"
   ]
  },
  {
   "cell_type": "markdown",
   "metadata": {},
   "source": [
    "### View"
   ]
  },
  {
   "cell_type": "code",
   "execution_count": 63,
   "metadata": {
    "collapsed": true
   },
   "outputs": [],
   "source": [
    "def view(x, xlim=None, ylim=None, yscale='linear'):\n",
    "    plt.yscale(yscale)\n",
    "    plt.plot(x)\n",
    "    plt.ylim(ylim)\n",
    "    plt.xlim(xlim)\n",
    "    plt.show()\n",
    "def examine(X, view_n=5):\n",
    "    '''randomly show some example in feature and label'''\n",
    "    n_X = len(X)\n",
    "    view_list = np.random.choice(n_X, min(view_n, n_X), replace=False)\n",
    "    for i in view_list:\n",
    "        view(X[i])\n",
    "        print('i = ',i)"
   ]
  },
  {
   "cell_type": "code",
   "execution_count": 50,
   "metadata": {},
   "outputs": [
    {
     "data": {
      "image/png": "[encoded data removed]",
      "text/plain": [
       "<matplotlib.figure.Figure at 0x72c7588>"
      ]
     },
     "metadata": {},
     "output_type": "display_data"
    }
   ],
   "source": [
    "view(input_data[20],ylim=[0,1000])"
   ]
  },
  {
   "cell_type": "code",
   "execution_count": 9,
   "metadata": {},
   "outputs": [
    {
     "data": {
      "image/png": "[encoded data removed]",
      "text/plain": [
       "<matplotlib.figure.Figure at 0x921c0b8>"
      ]
     },
     "metadata": {},
     "output_type": "display_data"
    },
    {
     "name": "stdout",
     "output_type": "stream",
     "text": [
      "i =  16700\n"
     ]
    },
    {
     "data": {
      "image/png": "[encoded data removed]",
      "text/plain": [
       "<matplotlib.figure.Figure at 0x95f4128>"
      ]
     },
     "metadata": {},
     "output_type": "display_data"
    },
    {
     "name": "stdout",
     "output_type": "stream",
     "text": [
      "i =  15131\n"
     ]
    },
    {
     "data": {
      "image/png": "[encoded data removed]",
      "text/plain": [
       "<matplotlib.figure.Figure at 0x98117b8>"
      ]
     },
     "metadata": {},
     "output_type": "display_data"
    },
    {
     "name": "stdout",
     "output_type": "stream",
     "text": [
      "i =  3890\n"
     ]
    },
    {
     "data": {
      "image/png": "[encoded data removed]",
      "text/plain": [
       "<matplotlib.figure.Figure at 0x98adbe0>"
      ]
     },
     "metadata": {},
     "output_type": "display_data"
    },
    {
     "name": "stdout",
     "output_type": "stream",
     "text": [
      "i =  1721\n"
     ]
    },
    {
     "data": {
      "image/png": "[encoded data removed]",
      "text/plain": [
       "<matplotlib.figure.Figure at 0x9a947b8>"
      ]
     },
     "metadata": {},
     "output_type": "display_data"
    },
    {
     "name": "stdout",
     "output_type": "stream",
     "text": [
      "i =  16827\n"
     ]
    }
   ],
   "source": [
    "examine(input_data)"
   ]
  },
  {
   "cell_type": "code",
   "execution_count": 46,
   "metadata": {},
   "outputs": [
    {
     "data": {
      "image/png": "[encoded data removed]",
      "text/plain": [
       "<matplotlib.figure.Figure at 0x9810a58>"
      ]
     },
     "metadata": {},
     "output_type": "display_data"
    }
   ],
   "source": [
    "view(input_data[16700])"
   ]
  },
  {
   "cell_type": "code",
   "execution_count": 56,
   "metadata": {},
   "outputs": [
    {
     "data": {
      "image/png": "[encoded data removed]",
      "text/plain": [
       "<matplotlib.figure.Figure at 0x91ad4a8>"
      ]
     },
     "metadata": {},
     "output_type": "display_data"
    }
   ],
   "source": [
    "view(input_data[16700], yscale='log')"
   ]
  },
  {
   "cell_type": "code",
   "execution_count": 57,
   "metadata": {},
   "outputs": [
    {
     "data": {
      "image/png": "[encoded data removed]",
      "text/plain": [
       "<matplotlib.figure.Figure at 0x9810e10>"
      ]
     },
     "metadata": {},
     "output_type": "display_data"
    }
   ],
   "source": [
    "view(input_data[16827], yscale='log')"
   ]
  },
  {
   "cell_type": "code",
   "execution_count": 64,
   "metadata": {},
   "outputs": [
    {
     "data": {
      "image/png": "[encoded data removed]",
      "text/plain": [
       "<matplotlib.figure.Figure at 0x98526d8>"
      ]
     },
     "metadata": {},
     "output_type": "display_data"
    }
   ],
   "source": [
    "view(input_data_num[3890]+0.1, xlim=[501,550])"
   ]
  },
  {
   "cell_type": "code",
   "execution_count": 65,
   "metadata": {},
   "outputs": [
    {
     "data": {
      "image/png": "[encoded data removed]",
      "text/plain": [
       "<matplotlib.figure.Figure at 0x9a831d0>"
      ]
     },
     "metadata": {},
     "output_type": "display_data"
    }
   ],
   "source": [
    "view(input_data_num[3890]+0.1, xlim=[501,550], yscale='log')"
   ]
  },
  {
   "cell_type": "markdown",
   "metadata": {
    "collapsed": true
   },
   "source": [
    "validation_split = y_length  # take the last 60 days as validation set"
   ]
  },
  {
   "cell_type": "markdown",
   "metadata": {},
   "source": [
    "### Log"
   ]
  },
  {
   "cell_type": "code",
   "execution_count": 86,
   "metadata": {
    "collapsed": true
   },
   "outputs": [],
   "source": [
    "def log(X):\n",
    "    return np.log10(X + 0.1)\n",
    "def unlog(X):\n",
    "    return np.clip(np.power(10., X) - 0.1, 0.0, None)"
   ]
  },
  {
   "cell_type": "code",
   "execution_count": 87,
   "metadata": {
    "collapsed": true
   },
   "outputs": [],
   "source": [
    "input_data_log = log(input_data_num)"
   ]
  },
  {
   "cell_type": "code",
   "execution_count": 88,
   "metadata": {},
   "outputs": [
    {
     "data": {
      "text/plain": [
       "array([[-1.        , -1.        , -1.        , ...,  2.58331215,\n",
       "         2.67033864,  2.7110476 ],\n",
       "       [ 2.18780264,  1.99166901,  2.0685569 , ...,  2.73166933,\n",
       "         4.16935403,  3.10349584],\n",
       "       [ 0.32221929, -1.        ,  0.04139269, ...,  0.85125835,\n",
       "         0.85125835,  0.78532984],\n",
       "       ..., \n",
       "       [ 1.61384182,  1.61384182,  1.66370093, ...,  1.46389299,\n",
       "         1.04532298,  1.00432137],\n",
       "       [ 1.6242821 ,  1.80685803,  1.7084209 , ...,  2.7938602 ,\n",
       "         2.71608685,  2.75823041],\n",
       "       [ 1.14921911,  0.85125835,  0.49136169, ...,  0.90848502,\n",
       "         0.78532984,  0.85125835]])"
      ]
     },
     "execution_count": 88,
     "metadata": {},
     "output_type": "execute_result"
    }
   ],
   "source": [
    "input_data_log"
   ]
  },
  {
   "cell_type": "code",
   "execution_count": 76,
   "metadata": {},
   "outputs": [
    {
     "data": {
      "text/plain": [
       "((19908, 550), (19908, 550))"
      ]
     },
     "execution_count": 76,
     "metadata": {},
     "output_type": "execute_result"
    }
   ],
   "source": [
    "input_data_log.shape, input_data.shape"
   ]
  },
  {
   "cell_type": "code",
   "execution_count": 77,
   "metadata": {
    "collapsed": true
   },
   "outputs": [],
   "source": [
    "input_data_log_tt = unlog(input_data_log)"
   ]
  },
  {
   "cell_type": "code",
   "execution_count": 78,
   "metadata": {},
   "outputs": [
    {
     "data": {
      "text/plain": [
       "(19908, 550)"
      ]
     },
     "execution_count": 78,
     "metadata": {},
     "output_type": "execute_result"
    }
   ],
   "source": [
    "input_data_log_tt.shape"
   ]
  },
  {
   "cell_type": "code",
   "execution_count": 80,
   "metadata": {},
   "outputs": [],
   "source": [
    "input_data_log_tt_dif = input_data_log_tt - input_data_num"
   ]
  },
  {
   "cell_type": "code",
   "execution_count": 82,
   "metadata": {},
   "outputs": [
    {
     "data": {
      "text/plain": [
       "-7.4505805969238281e-09"
      ]
     },
     "execution_count": 82,
     "metadata": {},
     "output_type": "execute_result"
    }
   ],
   "source": [
    "input_data_log_tt_dif.min()"
   ]
  },
  {
   "cell_type": "code",
   "execution_count": 83,
   "metadata": {},
   "outputs": [
    {
     "data": {
      "text/plain": [
       "3.7252902984619141e-09"
      ]
     },
     "execution_count": 83,
     "metadata": {},
     "output_type": "execute_result"
    }
   ],
   "source": [
    "input_data_log_tt_dif.max()"
   ]
  },
  {
   "cell_type": "code",
   "execution_count": 89,
   "metadata": {},
   "outputs": [
    {
     "data": {
      "image/png": "[encoded data removed]",
      "text/plain": [
       "<matplotlib.figure.Figure at 0x9ac44a8>"
      ]
     },
     "metadata": {},
     "output_type": "display_data"
    }
   ],
   "source": [
    "view(input_data_log[9])"
   ]
  },
  {
   "cell_type": "markdown",
   "metadata": {},
   "source": [
    "### Normalization (Shift and Scale)"
   ]
  },
  {
   "cell_type": "code",
   "execution_count": 104,
   "metadata": {
    "collapsed": true
   },
   "outputs": [],
   "source": [
    "# We take the last x_length + y_length days of data only\n",
    "# This part then split into x_length as input X and y_length as output Y\n",
    "x_length = 60  # input period\n",
    "y_length = 60  # predict period"
   ]
  },
  {
   "cell_type": "code",
   "execution_count": 106,
   "metadata": {},
   "outputs": [
    {
     "data": {
      "text/plain": [
       "array([[ 2.55156512],\n",
       "       [ 2.26268834],\n",
       "       [ 0.90848502],\n",
       "       ..., \n",
       "       [ 1.46389299],\n",
       "       [ 2.39798868],\n",
       "       [ 0.95904139]])"
      ]
     },
     "execution_count": 106,
     "metadata": {},
     "output_type": "execute_result"
    }
   ],
   "source": [
    "input_center = np.nanmedian(input_data_log[:,-x_length-y_length:], axis=-1).reshape(-1,1)\n",
    "input_center  # remember sample-wised center"
   ]
  },
  {
   "cell_type": "code",
   "execution_count": 107,
   "metadata": {},
   "outputs": [
    {
     "data": {
      "text/plain": [
       "array([[ 0.2606815 ],\n",
       "       [ 0.31563302],\n",
       "       [ 0.25694015],\n",
       "       ..., \n",
       "       [ 0.2714779 ],\n",
       "       [ 0.31444977],\n",
       "       [ 0.33315154]])"
      ]
     },
     "execution_count": 107,
     "metadata": {},
     "output_type": "execute_result"
    }
   ],
   "source": [
    "input_scale = np.nanstd(input_data_log[:,-x_length-y_length:], axis=-1).reshape(-1,1)\n",
    "input_scale[input_scale == 0.0] = 1.0  # Prevent divid by zero\n",
    "input_scale  # remember sample-wised scale"
   ]
  },
  {
   "cell_type": "code",
   "execution_count": 108,
   "metadata": {},
   "outputs": [
    {
     "data": {
      "text/plain": [
       "[]"
      ]
     },
     "execution_count": 108,
     "metadata": {},
     "output_type": "execute_result"
    }
   ],
   "source": [
    "[i for i in range(len(input_scale)) if input_scale[i] == 0.]"
   ]
  },
  {
   "cell_type": "code",
   "execution_count": 109,
   "metadata": {
    "collapsed": true
   },
   "outputs": [],
   "source": [
    "def transform(data_ori, center, scale):\n",
    "    return (data_ori - center) / scale\n",
    "def untransform(data, center, scale):\n",
    "    return data * scale + center"
   ]
  },
  {
   "cell_type": "code",
   "execution_count": 110,
   "metadata": {
    "collapsed": true,
    "scrolled": true
   },
   "outputs": [],
   "source": [
    "input_data_norm = transform(input_data_log, input_center, input_scale)"
   ]
  },
  {
   "cell_type": "code",
   "execution_count": 111,
   "metadata": {
    "collapsed": true
   },
   "outputs": [],
   "source": [
    "def check_nan(X):\n",
    "    return [x for x in X if np.isnan(x).any()]"
   ]
  },
  {
   "cell_type": "code",
   "execution_count": 112,
   "metadata": {},
   "outputs": [
    {
     "data": {
      "text/plain": [
       "[]"
      ]
     },
     "execution_count": 112,
     "metadata": {},
     "output_type": "execute_result"
    }
   ],
   "source": [
    "check_nan(input_data_norm)"
   ]
  },
  {
   "cell_type": "markdown",
   "metadata": {},
   "source": [
    "No nan in the data"
   ]
  },
  {
   "cell_type": "markdown",
   "metadata": {},
   "source": [
    "### Remove front zeros (Not using this)"
   ]
  },
  {
   "cell_type": "markdown",
   "metadata": {
    "collapsed": true
   },
   "source": [
    "#Remove front zeros\n",
    "input_data_list = [np.trim_zeros(x, trim='f') for x in input_data_num]"
   ]
  },
  {
   "cell_type": "markdown",
   "metadata": {
    "collapsed": true
   },
   "source": [
    "input_data_list_len = np.array([len(x) for x in input_data_list])\n",
    "input_data_list_len"
   ]
  },
  {
   "cell_type": "markdown",
   "metadata": {},
   "source": [
    "## Make (X,Y) pairs data from data set"
   ]
  },
  {
   "cell_type": "code",
   "execution_count": 98,
   "metadata": {},
   "outputs": [],
   "source": [
    "#tot_length = x_length + y_length\n",
    "def make_XY(data, x_length=x_length, y_length=y_length):\n",
    "    return data[:, -x_length -y_length: -y_length], data[:, -y_length:]"
   ]
  },
  {
   "cell_type": "code",
   "execution_count": 113,
   "metadata": {},
   "outputs": [
    {
     "data": {
      "text/plain": [
       "((19908, 60), (19908, 60))"
      ]
     },
     "execution_count": 113,
     "metadata": {},
     "output_type": "execute_result"
    }
   ],
   "source": [
    "X_input, Y_input = make_XY(input_data_norm)\n",
    "X_input.shape, Y_input.shape"
   ]
  },
  {
   "cell_type": "code",
   "execution_count": 114,
   "metadata": {},
   "outputs": [
    {
     "data": {
      "text/plain": [
       "array([-0.25749014,  0.12612779, -0.87900011, -0.59532952, -0.33003326,\n",
       "       -0.77152872, -0.79398184, -0.70592983,  0.27934516,  2.96429896,\n",
       "        0.87225829, -0.009357  , -0.37044403, -0.61551551, -0.01879343,\n",
       "        2.0365737 ,  1.64544928,  1.59772492,  1.65587156,  1.25666039,\n",
       "        1.39590831,  2.1106841 ,  4.90426905,  3.90625514,  2.03381566,\n",
       "        1.17318521,  1.0358    ,  1.80009611,  2.2460512 ,  1.66966729,\n",
       "        1.36320459,  0.51848902,  0.59223254,  2.31624136,  2.05439055,\n",
       "        0.86113492,  0.91602365,  0.34528007, -0.21969858, -0.10621639,\n",
       "        0.67537378,  0.29901013,  0.16894682,  0.12178474, -0.3646107 ,\n",
       "        1.47689373,  0.89154725, -0.19322001, -0.14149289, -0.03782816,\n",
       "       -0.06679434,  0.97177443,  0.1982785 , -0.56878979, -0.62911001,\n",
       "       -0.35300497, -0.23040897,  0.96916151,  0.56245818, -0.21969858])"
      ]
     },
     "execution_count": 114,
     "metadata": {},
     "output_type": "execute_result"
    }
   ],
   "source": [
    "X_input[0]"
   ]
  },
  {
   "cell_type": "code",
   "execution_count": 115,
   "metadata": {
    "scrolled": true
   },
   "outputs": [
    {
     "data": {
      "text/plain": [
       "array([-0.69879798, -0.5622204 , -0.6566364 , -0.06193154,  0.009357  ,\n",
       "        0.07324856,  0.29509566, -0.71309234, -0.71309234, -0.53619884,\n",
       "       -0.08146851, -0.13640743, -0.13133744,  0.21481048, -0.21969858,\n",
       "       -0.5622204 , -0.64971204, -0.13133744,  0.08217915,  0.29509566,\n",
       "       -0.07167138, -0.49161676, -0.41786086, -0.38217232,  2.05575322,\n",
       "        1.52628272,  0.28329677,  0.009357  , -0.38217232, -0.64281635,\n",
       "       -0.49791305, -0.17233604, -0.2961589 , -0.26844708, -0.34147952,\n",
       "       -0.75672634, -0.64281635, -0.31300999, -0.42992898,  0.11743032,\n",
       "       -0.5556768 , -0.68462524,  0.94545898,  1.0607368 ,  0.18158083,\n",
       "        0.27141372,  0.2594453 , -0.26844708, -0.44208516, -0.45433068,\n",
       "       -0.30175701, -0.10123732, -0.307374  ,  1.43392813,  1.29365504,\n",
       "        0.3338325 ,  0.15195104,  0.12178474,  0.45562694,  0.61179055])"
      ]
     },
     "execution_count": 115,
     "metadata": {},
     "output_type": "execute_result"
    }
   ],
   "source": [
    "Y_input[0]"
   ]
  },
  {
   "cell_type": "code",
   "execution_count": 118,
   "metadata": {},
   "outputs": [
    {
     "data": {
      "image/png": "[encoded data removed]",
      "text/plain": [
       "<matplotlib.figure.Figure at 0x91ad390>"
      ]
     },
     "metadata": {},
     "output_type": "display_data"
    },
    {
     "name": "stdout",
     "output_type": "stream",
     "text": [
      "i =  8122\n"
     ]
    },
    {
     "data": {
      "image/png": "[encoded data removed]",
      "text/plain": [
       "<matplotlib.figure.Figure at 0x7035d30>"
      ]
     },
     "metadata": {},
     "output_type": "display_data"
    },
    {
     "name": "stdout",
     "output_type": "stream",
     "text": [
      "i =  16152\n"
     ]
    },
    {
     "data": {
      "image/png": "[encoded data removed]",
      "text/plain": [
       "<matplotlib.figure.Figure at 0x73a1b38>"
      ]
     },
     "metadata": {},
     "output_type": "display_data"
    },
    {
     "name": "stdout",
     "output_type": "stream",
     "text": [
      "i =  7278\n"
     ]
    },
    {
     "data": {
      "image/png": "[encoded data removed]",
      "text/plain": [
       "<matplotlib.figure.Figure at 0x9dd43c8>"
      ]
     },
     "metadata": {},
     "output_type": "display_data"
    },
    {
     "name": "stdout",
     "output_type": "stream",
     "text": [
      "i =  9871\n"
     ]
    },
    {
     "data": {
      "image/png": "[encoded data removed]",
      "text/plain": [
       "<matplotlib.figure.Figure at 0x987d828>"
      ]
     },
     "metadata": {},
     "output_type": "display_data"
    },
    {
     "name": "stdout",
     "output_type": "stream",
     "text": [
      "i =  18337\n"
     ]
    }
   ],
   "source": [
    "examine(Y_input)"
   ]
  },
  {
   "cell_type": "markdown",
   "metadata": {},
   "source": [
    "### Split Data into Training and Cross Validation Sets"
   ]
  },
  {
   "cell_type": "code",
   "execution_count": 119,
   "metadata": {
    "collapsed": true
   },
   "outputs": [],
   "source": [
    "def make_shuffle_index(n, seed=None):\n",
    "    shuffle_index = np.array(list(range(n)))\n",
    "    np.random.seed(seed)  # you can fix the initial seed for comparison purpose\n",
    "    np.random.shuffle(shuffle_index)\n",
    "    return shuffle_index"
   ]
  },
  {
   "cell_type": "code",
   "execution_count": 120,
   "metadata": {
    "collapsed": true
   },
   "outputs": [],
   "source": [
    "def using(array_ori, index_list):\n",
    "    #return np.array([array_ori[i] for i in index_list])\n",
    "    return np.take(array_ori, index_list, axis=0)"
   ]
  },
  {
   "cell_type": "markdown",
   "metadata": {},
   "source": [
    "def split_data(features, labels, n_second, seed=None):\n",
    "    '''\n",
    "    Shuffle and slpit the data into two sets (eg. training set and evaluation \n",
    "    set).\n",
    "    n_second: number of the second set\n",
    "    Return: 1st set of features, 1st set of labels, 2nd set of features, and\n",
    "            2nd set of labels\n",
    "    '''\n",
    "    n_data = len(labels)\n",
    "    shuffle_index = make_shuffle_index(n_data, seed=seed)\n",
    "    features_shuff = using(features, shuffle_index)\n",
    "    labels_shuff = using(labels, shuffle_index)\n",
    "    return (features_shuff[n_second:], labels_shuff[n_second:], \n",
    "            features_shuff[:n_second], labels_shuff[:n_second], \n",
    "            shuffle_index[n_second:], shuffle_index[:n_second])"
   ]
  },
  {
   "cell_type": "code",
   "execution_count": 121,
   "metadata": {
    "collapsed": true
   },
   "outputs": [],
   "source": [
    "# Generate a shuffle list\n",
    "shuffle_index = make_shuffle_index(len(X_input), seed=123)"
   ]
  },
  {
   "cell_type": "code",
   "execution_count": 122,
   "metadata": {
    "collapsed": true
   },
   "outputs": [],
   "source": [
    "# Split the list into training and validation sets\n",
    "n_val = int(len(X_input) * 0.1)\n",
    "val_index = shuffle_index[:n_val]\n",
    "train_index = shuffle_index[n_val:]"
   ]
  },
  {
   "cell_type": "code",
   "execution_count": 123,
   "metadata": {
    "collapsed": true
   },
   "outputs": [],
   "source": [
    "# Split the data sets according to the index list\n",
    "X_train = using(X_input, train_index)\n",
    "Y_train = using(Y_input, train_index)\n",
    "X_val = using(X_input, val_index)\n",
    "Y_val = using(Y_input, val_index)"
   ]
  },
  {
   "cell_type": "code",
   "execution_count": 124,
   "metadata": {},
   "outputs": [
    {
     "data": {
      "text/plain": [
       "array([[ 0.77409216,  1.26839455,  0.40698611, ...,  2.10980346,\n",
       "         1.36468813,  0.91136938],\n",
       "       [-1.64648869, -1.75413248, -1.70671888, ...,  0.65534664,\n",
       "         1.14029597,  0.21326119],\n",
       "       [ 0.61502301,  0.44141037, -0.01036387, ...,  0.69892937,\n",
       "         0.01036387,  0.14418585],\n",
       "       ..., \n",
       "       [ 0.96638725,  1.62099361,  0.88863991, ...,  0.77751788,\n",
       "        -0.76928044,  4.18042702],\n",
       "       [-0.05878992, -0.0190265 ,  0.        , ...,  0.        ,\n",
       "        -0.26060206, -0.09025018],\n",
       "       [-0.45294734,  0.45423916, -0.38259645, ...,  0.56114591,\n",
       "         0.34474373,  0.36965999]])"
      ]
     },
     "execution_count": 124,
     "metadata": {},
     "output_type": "execute_result"
    }
   ],
   "source": [
    "X_train"
   ]
  },
  {
   "cell_type": "code",
   "execution_count": 125,
   "metadata": {},
   "outputs": [
    {
     "data": {
      "text/plain": [
       "((17918, 60), (17918, 60), (1990, 60), (1990, 60))"
      ]
     },
     "execution_count": 125,
     "metadata": {},
     "output_type": "execute_result"
    }
   ],
   "source": [
    "X_train.shape, Y_train.shape, X_val.shape, Y_val.shape"
   ]
  },
  {
   "cell_type": "markdown",
   "metadata": {
    "collapsed": true
   },
   "source": [
    "X_train, Y_train, X_val, Y_val, index_train, index_val = split_data(X_input, Y_input, int(len(X_input) * 0.1))"
   ]
  },
  {
   "cell_type": "code",
   "execution_count": 126,
   "metadata": {},
   "outputs": [
    {
     "data": {
      "text/plain": [
       "array([ 0.77409216,  1.26839455,  0.40698611,  0.28810093,  0.01993369,\n",
       "       -0.30100832,  0.00285918,  0.76993443,  0.94256987, -0.1201561 ,\n",
       "       -0.49646064, -0.75549938, -0.77904747,  0.01993369,  0.06488594,\n",
       "        0.4690262 , -0.34676268, -0.78694798, -0.62621883, -0.9933308 ,\n",
       "       -0.82684175, -0.28809283, -0.10816749, -0.87559807, -0.6114532 ,\n",
       "       -0.89207072, -1.35512379, -0.58947215, -0.13825102, -0.10219536,\n",
       "       -0.42726728,  1.8604591 ,  1.61498179,  1.87895806,  1.9566771 ,\n",
       "        2.56452802,  2.46118596,  1.7657839 ,  1.42576302,  1.99712967,\n",
       "        1.85248752,  2.03691777,  2.79880332,  2.69579752,  1.74082873,\n",
       "        1.29199071,  1.10008763,  1.17868246,  1.68158027,  2.19215435,\n",
       "        2.04676351,  1.3253057 ,  1.01509908,  0.57954731,  0.26770683,\n",
       "        0.82750313,  1.65573762,  2.10980346,  1.36468813,  0.91136938])"
      ]
     },
     "execution_count": 126,
     "metadata": {},
     "output_type": "execute_result"
    }
   ],
   "source": [
    "X_train[0]"
   ]
  },
  {
   "cell_type": "code",
   "execution_count": 127,
   "metadata": {},
   "outputs": [
    {
     "data": {
      "text/plain": [
       "array([ 0.77409216,  1.00756589,  1.6237731 ,  1.32199474,  1.4478817 ,\n",
       "        0.35815771, -0.20578007, -0.32704775,  0.21072122,  0.04812645,\n",
       "        0.88770242,  0.9503076 , -0.23710869, -0.00285918, -0.50348994,\n",
       "       -0.27524584,  0.0368887 ,  0.94256987,  0.88770242, -0.03165522,\n",
       "       -0.17485148, -0.30749198, -0.78694798, -0.57492816,  0.48780013,\n",
       "        0.6108551 , -0.31399305, -0.56768878, -0.4547079 , -0.64107502,\n",
       "       -0.49646064,  0.76993443,  0.098061  , -0.72445385, -0.61882476,\n",
       "       -0.70142806, -0.51053969, -0.3205116 ,  0.22639618,  0.73641313,\n",
       "       -0.64853743, -0.65602289, -0.93374922, -0.81080531, -0.31399305,\n",
       "        0.0368887 , -0.00285918, -0.41366267, -0.59677703, -0.84298506,\n",
       "       -0.63363554, -0.70142806, -0.24975447, -0.31399305, -0.77117264,\n",
       "       -0.85109724, -0.26246662, -0.54609956, -0.90034925, -1.06326838])"
      ]
     },
     "execution_count": 127,
     "metadata": {},
     "output_type": "execute_result"
    }
   ],
   "source": [
    "Y_train[0]"
   ]
  },
  {
   "cell_type": "markdown",
   "metadata": {},
   "source": [
    "### "
   ]
  },
  {
   "cell_type": "code",
   "execution_count": 128,
   "metadata": {
    "collapsed": true
   },
   "outputs": [],
   "source": [
    "train_data_num = using(input_data_num, train_index)\n",
    "val_data_num = using(input_data_num, val_index)"
   ]
  },
  {
   "cell_type": "code",
   "execution_count": 129,
   "metadata": {},
   "outputs": [
    {
     "data": {
      "text/plain": [
       "((17918, 60), (17918, 60), (1990, 60), (1990, 60))"
      ]
     },
     "execution_count": 129,
     "metadata": {},
     "output_type": "execute_result"
    }
   ],
   "source": [
    "X_train_ori, Y_train_ori = make_XY(train_data_num)\n",
    "X_val_ori, Y_val_ori = make_XY(val_data_num)\n",
    "X_train_ori.shape, Y_train_ori.shape, X_val_ori.shape, Y_val_ori.shape"
   ]
  },
  {
   "cell_type": "code",
   "execution_count": 130,
   "metadata": {},
   "outputs": [
    {
     "data": {
      "text/plain": [
       "((17918, 1), (1990, 1), (17918, 1), (1990, 1))"
      ]
     },
     "execution_count": 130,
     "metadata": {},
     "output_type": "execute_result"
    }
   ],
   "source": [
    "train_center = using(input_center, train_index)\n",
    "val_center = using(input_center, val_index)\n",
    "train_scale = using(input_scale, train_index)\n",
    "val_scale = using(input_scale, val_index)\n",
    "train_center.shape, val_center.shape, train_scale.shape, val_scale.shape"
   ]
  },
  {
   "cell_type": "markdown",
   "metadata": {},
   "source": [
    "#### Check if the inverse transformation is correct"
   ]
  },
  {
   "cell_type": "code",
   "execution_count": 131,
   "metadata": {
    "collapsed": true
   },
   "outputs": [],
   "source": [
    "# Undo transformation\n",
    "X_train_tt = unlog(untransform(X_train, train_center, train_scale))"
   ]
  },
  {
   "cell_type": "code",
   "execution_count": 134,
   "metadata": {},
   "outputs": [
    {
     "data": {
      "text/plain": [
       "array([[  0.00000000e+00,   1.13686838e-13,   2.27373675e-13, ...,\n",
       "          4.54747351e-13,   1.13686838e-13,   1.13686838e-13],\n",
       "       [  1.13686838e-13,   0.00000000e+00,   2.27373675e-13, ...,\n",
       "         -4.54747351e-13,   4.54747351e-13,  -5.68434189e-13],\n",
       "       [  5.68434189e-14,   5.68434189e-14,   0.00000000e+00, ...,\n",
       "          0.00000000e+00,   1.42108547e-14,  -4.26325641e-14],\n",
       "       ..., \n",
       "       [  1.36424205e-12,  -1.36424205e-12,  -9.09494702e-13, ...,\n",
       "         -9.09494702e-13,   0.00000000e+00,  -9.09494702e-13],\n",
       "       [  0.00000000e+00,  -1.42108547e-14,   1.42108547e-14, ...,\n",
       "          1.42108547e-14,  -7.10542736e-15,   0.00000000e+00],\n",
       "       [  0.00000000e+00,   0.00000000e+00,   0.00000000e+00, ...,\n",
       "         -1.70530257e-13,   1.13686838e-13,  -1.70530257e-13]])"
      ]
     },
     "execution_count": 134,
     "metadata": {},
     "output_type": "execute_result"
    }
   ],
   "source": [
    "X_train_tt_diff = X_train_tt - X_train_ori\n",
    "X_train_tt_diff"
   ]
  },
  {
   "cell_type": "code",
   "execution_count": 135,
   "metadata": {},
   "outputs": [
    {
     "data": {
      "text/plain": [
       "(-6.5192580223083496e-09, 2.7939677238464355e-09)"
      ]
     },
     "execution_count": 135,
     "metadata": {},
     "output_type": "execute_result"
    }
   ],
   "source": [
    "X_train_tt_diff.min(), X_train_tt_diff.max()"
   ]
  },
  {
   "cell_type": "markdown",
   "metadata": {},
   "source": [
    "## Neural Network?"
   ]
  },
  {
   "cell_type": "code",
   "execution_count": 136,
   "metadata": {},
   "outputs": [
    {
     "name": "stderr",
     "output_type": "stream",
     "text": [
      "Using TensorFlow backend.\n"
     ]
    }
   ],
   "source": [
    "from keras.models import Sequential\n",
    "from keras.layers import Conv1D\n",
    "from keras.layers import Dense, Dropout, Flatten\n",
    "from keras.losses import mean_squared_error\n",
    "from keras.optimizers import Adam"
   ]
  },
  {
   "cell_type": "markdown",
   "metadata": {},
   "source": [
    "### SMAPE"
   ]
  },
  {
   "cell_type": "code",
   "execution_count": 137,
   "metadata": {
    "collapsed": true
   },
   "outputs": [],
   "source": [
    "import keras.backend as K\n",
    "\n",
    "def k_smape(y_true, y_pred):\n",
    "    '''Symmetric mean absolute percentage error for keras metric'''\n",
    "    diff = K.abs((y_true - y_pred) / K.clip(K.abs(y_true) + K.abs(y_pred),\n",
    "                                            K.epsilon(),\n",
    "                                            None))\n",
    "    return 200. * K.mean(diff, axis=-1)"
   ]
  },
  {
   "cell_type": "code",
   "execution_count": 138,
   "metadata": {
    "collapsed": true
   },
   "outputs": [],
   "source": [
    "def smape(y_true, y_pred, axis=None):\n",
    "    '''Symmetric mean absolute percentage error'''\n",
    "    diff = np.abs((y_true - y_pred) / \n",
    "                  np.clip(np.abs(y_true) + np.abs(y_pred), K.epsilon(),\n",
    "                          None))\n",
    "    return 200. * np.mean(diff, axis=axis)"
   ]
  },
  {
   "cell_type": "code",
   "execution_count": 148,
   "metadata": {},
   "outputs": [
    {
     "data": {
      "text/plain": [
       "(155.36518065567802, 154.25030933474616, 0.0)"
      ]
     },
     "execution_count": 148,
     "metadata": {},
     "output_type": "execute_result"
    }
   ],
   "source": [
    "smape(Y_train,X_train), smape(Y_val,X_val), smape(Y_train,Y_train)"
   ]
  },
  {
   "cell_type": "code",
   "execution_count": 149,
   "metadata": {},
   "outputs": [
    {
     "data": {
      "text/plain": [
       "(60.038277932961783, 61.280398518597799, 0.0)"
      ]
     },
     "execution_count": 149,
     "metadata": {},
     "output_type": "execute_result"
    }
   ],
   "source": [
    "smape(Y_train_ori,X_train_ori), smape(Y_val_ori,X_val_ori), smape(Y_train_ori,Y_train_ori)"
   ]
  },
  {
   "cell_type": "markdown",
   "metadata": {},
   "source": [
    "### Neural Network Model"
   ]
  },
  {
   "cell_type": "code",
   "execution_count": 141,
   "metadata": {
    "collapsed": true
   },
   "outputs": [],
   "source": [
    "from keras.models import Model\n",
    "from keras.layers import Input"
   ]
  },
  {
   "cell_type": "code",
   "execution_count": 224,
   "metadata": {
    "collapsed": true
   },
   "outputs": [],
   "source": [
    "layer_0 = Input(shape=(x_length,))\n",
    "x = Dense(120, activation='relu')(layer_0)\n",
    "x = Dense(120, activation='relu')(x)\n",
    "x = Dropout(0.25)(x)\n",
    "x = Dense(120, activation='relu')(x)\n",
    "x = Dropout(0.5)(x)\n",
    "layer_f = Dense(y_length)(x)"
   ]
  },
  {
   "cell_type": "code",
   "execution_count": 225,
   "metadata": {
    "collapsed": true
   },
   "outputs": [],
   "source": [
    "model = Model(inputs=layer_0, outputs=layer_f)"
   ]
  },
  {
   "cell_type": "code",
   "execution_count": 226,
   "metadata": {
    "collapsed": true
   },
   "outputs": [],
   "source": [
    "model.compile(optimizer='adam',\n",
    "              loss='mean_squared_error', metrics=[k_smape])"
   ]
  },
  {
   "cell_type": "code",
   "execution_count": 227,
   "metadata": {},
   "outputs": [
    {
     "name": "stdout",
     "output_type": "stream",
     "text": [
      "_________________________________________________________________\n",
      "Layer (type)                 Output Shape              Param #   \n",
      "=================================================================\n",
      "input_4 (InputLayer)         (None, 60)                0         \n",
      "_________________________________________________________________\n",
      "dense_10 (Dense)             (None, 120)               7320      \n",
      "_________________________________________________________________\n",
      "dense_11 (Dense)             (None, 120)               14520     \n",
      "_________________________________________________________________\n",
      "dropout_7 (Dropout)          (None, 120)               0         \n",
      "_________________________________________________________________\n",
      "dense_12 (Dense)             (None, 120)               14520     \n",
      "_________________________________________________________________\n",
      "dropout_8 (Dropout)          (None, 120)               0         \n",
      "_________________________________________________________________\n",
      "dense_13 (Dense)             (None, 60)                7260      \n",
      "=================================================================\n",
      "Total params: 43,620\n",
      "Trainable params: 43,620\n",
      "Non-trainable params: 0\n",
      "_________________________________________________________________\n"
     ]
    }
   ],
   "source": [
    "model.summary()"
   ]
  },
  {
   "cell_type": "code",
   "execution_count": 228,
   "metadata": {},
   "outputs": [
    {
     "name": "stdout",
     "output_type": "stream",
     "text": [
      "Train on 17918 samples, validate on 1990 samples\n",
      "Epoch 1/100\n",
      "17918/17918 [==============================] - 1s - loss: 1.0062 - k_smape: 153.9373 - val_loss: 0.9233 - val_k_smape: 144.9050\n",
      "Epoch 2/100\n",
      "17918/17918 [==============================] - 0s - loss: 0.9085 - k_smape: 142.3166 - val_loss: 0.8756 - val_k_smape: 140.6872\n",
      "Epoch 3/100\n",
      "17918/17918 [==============================] - 0s - loss: 0.8691 - k_smape: 138.3641 - val_loss: 0.8478 - val_k_smape: 136.4513\n",
      "Epoch 4/100\n",
      "17918/17918 [==============================] - 0s - loss: 0.8500 - k_smape: 136.4368 - val_loss: 0.8362 - val_k_smape: 135.1935\n",
      "Epoch 5/100\n",
      "17918/17918 [==============================] - 0s - loss: 0.8360 - k_smape: 134.8024 - val_loss: 0.8292 - val_k_smape: 134.5110\n",
      "Epoch 6/100\n",
      "17918/17918 [==============================] - 0s - loss: 0.8276 - k_smape: 134.1017 - val_loss: 0.8227 - val_k_smape: 132.4062\n",
      "Epoch 7/100\n",
      "17918/17918 [==============================] - 0s - loss: 0.8203 - k_smape: 133.1070 - val_loss: 0.8203 - val_k_smape: 133.2591\n",
      "Epoch 8/100\n",
      "17918/17918 [==============================] - 0s - loss: 0.8147 - k_smape: 132.6244 - val_loss: 0.8169 - val_k_smape: 132.3791\n",
      "Epoch 9/100\n",
      "17918/17918 [==============================] - 0s - loss: 0.8094 - k_smape: 132.1183 - val_loss: 0.8143 - val_k_smape: 131.6138\n",
      "Epoch 10/100\n",
      "17918/17918 [==============================] - 0s - loss: 0.8053 - k_smape: 131.6214 - val_loss: 0.8166 - val_k_smape: 133.2086\n",
      "Epoch 11/100\n",
      "17918/17918 [==============================] - 0s - loss: 0.8020 - k_smape: 131.3938 - val_loss: 0.8121 - val_k_smape: 132.1368\n",
      "Epoch 12/100\n",
      "17918/17918 [==============================] - 0s - loss: 0.7996 - k_smape: 131.0370 - val_loss: 0.8120 - val_k_smape: 132.5969\n",
      "Epoch 13/100\n",
      "17918/17918 [==============================] - 0s - loss: 0.7951 - k_smape: 130.6039 - val_loss: 0.8105 - val_k_smape: 131.6063\n",
      "Epoch 14/100\n",
      "17918/17918 [==============================] - 0s - loss: 0.7940 - k_smape: 130.4177 - val_loss: 0.8074 - val_k_smape: 130.8051\n",
      "Epoch 15/100\n",
      "17918/17918 [==============================] - 0s - loss: 0.7905 - k_smape: 130.0337 - val_loss: 0.8069 - val_k_smape: 130.7259\n",
      "Epoch 16/100\n",
      "17918/17918 [==============================] - 0s - loss: 0.7867 - k_smape: 129.6960 - val_loss: 0.8068 - val_k_smape: 131.9191\n",
      "Epoch 17/100\n",
      "17918/17918 [==============================] - 0s - loss: 0.7851 - k_smape: 129.6225 - val_loss: 0.8037 - val_k_smape: 129.3270\n",
      "Epoch 18/100\n",
      "17918/17918 [==============================] - 0s - loss: 0.7821 - k_smape: 129.3605 - val_loss: 0.8037 - val_k_smape: 130.8087\n",
      "Epoch 19/100\n",
      "17918/17918 [==============================] - 0s - loss: 0.7798 - k_smape: 129.0161 - val_loss: 0.8028 - val_k_smape: 130.0607\n",
      "Epoch 20/100\n",
      "17918/17918 [==============================] - 0s - loss: 0.7782 - k_smape: 128.9087 - val_loss: 0.8038 - val_k_smape: 130.9257\n",
      "Epoch 21/100\n",
      "17918/17918 [==============================] - 0s - loss: 0.7767 - k_smape: 128.7352 - val_loss: 0.8030 - val_k_smape: 130.1351\n",
      "Epoch 22/100\n",
      "17918/17918 [==============================] - 0s - loss: 0.7740 - k_smape: 128.6932 - val_loss: 0.8037 - val_k_smape: 130.9698\n",
      "Epoch 23/100\n",
      "17918/17918 [==============================] - 0s - loss: 0.7724 - k_smape: 128.3993 - val_loss: 0.8030 - val_k_smape: 129.9575\n",
      "Epoch 24/100\n",
      "17918/17918 [==============================] - 0s - loss: 0.7710 - k_smape: 128.2597 - val_loss: 0.8032 - val_k_smape: 130.4084\n",
      "Epoch 25/100\n",
      "17918/17918 [==============================] - 0s - loss: 0.7701 - k_smape: 128.0835 - val_loss: 0.8021 - val_k_smape: 129.5414\n",
      "Epoch 26/100\n",
      "17918/17918 [==============================] - 0s - loss: 0.7672 - k_smape: 127.8901 - val_loss: 0.8021 - val_k_smape: 130.5856\n",
      "Epoch 27/100\n",
      "17918/17918 [==============================] - 0s - loss: 0.7655 - k_smape: 127.7722 - val_loss: 0.8019 - val_k_smape: 129.2959\n",
      "Epoch 28/100\n",
      "17918/17918 [==============================] - 0s - loss: 0.7654 - k_smape: 127.5842 - val_loss: 0.8021 - val_k_smape: 129.7815\n",
      "Epoch 29/100\n",
      "17918/17918 [==============================] - 0s - loss: 0.7640 - k_smape: 127.6601 - val_loss: 0.8017 - val_k_smape: 130.2056\n",
      "Epoch 30/100\n",
      "17918/17918 [==============================] - 0s - loss: 0.7621 - k_smape: 127.3347 - val_loss: 0.8020 - val_k_smape: 130.0890\n",
      "Epoch 31/100\n",
      "17918/17918 [==============================] - 0s - loss: 0.7597 - k_smape: 127.2585 - val_loss: 0.8022 - val_k_smape: 129.5835\n",
      "Epoch 32/100\n",
      "17918/17918 [==============================] - 0s - loss: 0.7597 - k_smape: 127.3447 - val_loss: 0.8006 - val_k_smape: 129.1869\n",
      "Epoch 33/100\n",
      "17918/17918 [==============================] - 0s - loss: 0.7575 - k_smape: 127.1288 - val_loss: 0.7998 - val_k_smape: 129.3545\n",
      "Epoch 34/100\n",
      "17918/17918 [==============================] - 0s - loss: 0.7560 - k_smape: 126.9374 - val_loss: 0.8012 - val_k_smape: 128.6694\n",
      "Epoch 35/100\n",
      "17918/17918 [==============================] - 0s - loss: 0.7571 - k_smape: 127.0729 - val_loss: 0.7992 - val_k_smape: 128.7285\n",
      "Epoch 36/100\n",
      "17918/17918 [==============================] - 0s - loss: 0.7558 - k_smape: 126.8832 - val_loss: 0.8006 - val_k_smape: 130.0031\n",
      "Epoch 37/100\n",
      "17918/17918 [==============================] - 0s - loss: 0.7543 - k_smape: 126.8834 - val_loss: 0.8018 - val_k_smape: 129.2342\n",
      "Epoch 38/100\n",
      "17918/17918 [==============================] - 0s - loss: 0.7537 - k_smape: 126.8005 - val_loss: 0.8007 - val_k_smape: 129.6145\n",
      "Epoch 39/100\n",
      "17918/17918 [==============================] - 0s - loss: 0.7546 - k_smape: 126.8676 - val_loss: 0.7981 - val_k_smape: 129.1385\n",
      "Epoch 40/100\n",
      "17918/17918 [==============================] - 0s - loss: 0.7507 - k_smape: 126.6705 - val_loss: 0.7997 - val_k_smape: 129.8881\n",
      "Epoch 41/100\n",
      "17918/17918 [==============================] - 0s - loss: 0.7517 - k_smape: 126.7492 - val_loss: 0.8013 - val_k_smape: 129.7207\n",
      "Epoch 42/100\n",
      "17918/17918 [==============================] - 0s - loss: 0.7506 - k_smape: 126.6908 - val_loss: 0.8001 - val_k_smape: 129.5621\n",
      "Epoch 43/100\n",
      "17918/17918 [==============================] - 0s - loss: 0.7497 - k_smape: 126.3784 - val_loss: 0.8033 - val_k_smape: 129.0116\n",
      "Epoch 44/100\n",
      "17918/17918 [==============================] - 0s - loss: 0.7477 - k_smape: 126.2840 - val_loss: 0.7998 - val_k_smape: 129.2383\n",
      "Epoch 45/100\n",
      "17918/17918 [==============================] - 0s - loss: 0.7473 - k_smape: 126.3331 - val_loss: 0.8034 - val_k_smape: 129.8057\n",
      "Epoch 46/100\n",
      "17918/17918 [==============================] - 0s - loss: 0.7482 - k_smape: 126.4701 - val_loss: 0.8009 - val_k_smape: 128.6512\n",
      "Epoch 47/100\n",
      "17918/17918 [==============================] - 0s - loss: 0.7465 - k_smape: 126.2300 - val_loss: 0.8020 - val_k_smape: 128.2527\n",
      "Epoch 48/100\n",
      "17918/17918 [==============================] - 0s - loss: 0.7459 - k_smape: 126.1993 - val_loss: 0.8021 - val_k_smape: 128.6593\n",
      "Epoch 49/100\n",
      "17918/17918 [==============================] - 0s - loss: 0.7454 - k_smape: 126.0884 - val_loss: 0.7995 - val_k_smape: 130.0757\n",
      "Epoch 50/100\n",
      "17918/17918 [==============================] - 0s - loss: 0.7453 - k_smape: 126.1553 - val_loss: 0.8008 - val_k_smape: 129.5082\n",
      "Epoch 51/100\n",
      "17918/17918 [==============================] - 0s - loss: 0.7430 - k_smape: 125.9301 - val_loss: 0.8010 - val_k_smape: 129.2222\n",
      "Epoch 52/100\n",
      "17918/17918 [==============================] - 0s - loss: 0.7438 - k_smape: 125.9652 - val_loss: 0.8012 - val_k_smape: 129.1477\n",
      "Epoch 53/100\n",
      "17918/17918 [==============================] - 0s - loss: 0.7413 - k_smape: 125.8704 - val_loss: 0.8047 - val_k_smape: 129.9296\n",
      "Epoch 54/100\n",
      "17918/17918 [==============================] - 0s - loss: 0.7424 - k_smape: 126.1279 - val_loss: 0.7996 - val_k_smape: 129.4902\n",
      "Epoch 55/100\n",
      "17918/17918 [==============================] - 0s - loss: 0.7428 - k_smape: 126.1130 - val_loss: 0.7997 - val_k_smape: 128.3696\n",
      "Epoch 56/100\n",
      "17918/17918 [==============================] - 0s - loss: 0.7424 - k_smape: 125.8742 - val_loss: 0.8014 - val_k_smape: 129.2962\n",
      "Epoch 57/100\n",
      "17918/17918 [==============================] - 0s - loss: 0.7413 - k_smape: 125.7254 - val_loss: 0.8032 - val_k_smape: 129.8544\n",
      "Epoch 58/100\n"
     ]
    },
    {
     "name": "stdout",
     "output_type": "stream",
     "text": [
      "17918/17918 [==============================] - 0s - loss: 0.7411 - k_smape: 125.8467 - val_loss: 0.8011 - val_k_smape: 129.5396\n",
      "Epoch 59/100\n",
      "17918/17918 [==============================] - 0s - loss: 0.7394 - k_smape: 125.8202 - val_loss: 0.8029 - val_k_smape: 129.3975\n",
      "Epoch 60/100\n",
      "17918/17918 [==============================] - 0s - loss: 0.7406 - k_smape: 125.8745 - val_loss: 0.8045 - val_k_smape: 129.3476\n",
      "Epoch 61/100\n",
      "17918/17918 [==============================] - 0s - loss: 0.7381 - k_smape: 125.6982 - val_loss: 0.8029 - val_k_smape: 128.3305\n",
      "Epoch 62/100\n",
      "17918/17918 [==============================] - 0s - loss: 0.7395 - k_smape: 125.7036 - val_loss: 0.8012 - val_k_smape: 129.6019\n",
      "Epoch 63/100\n",
      "17918/17918 [==============================] - 0s - loss: 0.7385 - k_smape: 125.6860 - val_loss: 0.8009 - val_k_smape: 129.3967\n",
      "Epoch 64/100\n",
      "17918/17918 [==============================] - 0s - loss: 0.7376 - k_smape: 125.6557 - val_loss: 0.8016 - val_k_smape: 128.5296\n",
      "Epoch 65/100\n",
      "17918/17918 [==============================] - 0s - loss: 0.7371 - k_smape: 125.6202 - val_loss: 0.8045 - val_k_smape: 130.1747\n",
      "Epoch 66/100\n",
      "17918/17918 [==============================] - 0s - loss: 0.7379 - k_smape: 125.7202 - val_loss: 0.8034 - val_k_smape: 129.2017\n",
      "Epoch 67/100\n",
      "17918/17918 [==============================] - 0s - loss: 0.7380 - k_smape: 125.6727 - val_loss: 0.8003 - val_k_smape: 128.9660\n",
      "Epoch 68/100\n",
      "17918/17918 [==============================] - 0s - loss: 0.7365 - k_smape: 125.5986 - val_loss: 0.8059 - val_k_smape: 129.0731\n",
      "Epoch 69/100\n",
      "17918/17918 [==============================] - 0s - loss: 0.7370 - k_smape: 125.3988 - val_loss: 0.8025 - val_k_smape: 128.7311\n",
      "Epoch 70/100\n",
      "17918/17918 [==============================] - 0s - loss: 0.7361 - k_smape: 125.5614 - val_loss: 0.8014 - val_k_smape: 129.0971\n",
      "Epoch 71/100\n",
      "17918/17918 [==============================] - 0s - loss: 0.7352 - k_smape: 125.3539 - val_loss: 0.8001 - val_k_smape: 129.3676\n",
      "Epoch 72/100\n",
      "17918/17918 [==============================] - 0s - loss: 0.7361 - k_smape: 125.5425 - val_loss: 0.8028 - val_k_smape: 130.1326\n",
      "Epoch 73/100\n",
      "17918/17918 [==============================] - 0s - loss: 0.7344 - k_smape: 125.4200 - val_loss: 0.8040 - val_k_smape: 129.3892\n",
      "Epoch 74/100\n",
      "17918/17918 [==============================] - 0s - loss: 0.7341 - k_smape: 125.3630 - val_loss: 0.8028 - val_k_smape: 129.6500\n",
      "Epoch 75/100\n",
      "17918/17918 [==============================] - 0s - loss: 0.7344 - k_smape: 125.5370 - val_loss: 0.8043 - val_k_smape: 129.7371\n",
      "Epoch 76/100\n",
      "17918/17918 [==============================] - 0s - loss: 0.7352 - k_smape: 125.5287 - val_loss: 0.8030 - val_k_smape: 129.2277\n",
      "Epoch 77/100\n",
      "17918/17918 [==============================] - 0s - loss: 0.7329 - k_smape: 125.2638 - val_loss: 0.8041 - val_k_smape: 129.3222\n",
      "Epoch 78/100\n",
      "17918/17918 [==============================] - 0s - loss: 0.7333 - k_smape: 125.1988 - val_loss: 0.8017 - val_k_smape: 129.0318\n",
      "Epoch 79/100\n",
      "17918/17918 [==============================] - 0s - loss: 0.7326 - k_smape: 125.2552 - val_loss: 0.8045 - val_k_smape: 130.0596\n",
      "Epoch 80/100\n",
      "17918/17918 [==============================] - 0s - loss: 0.7325 - k_smape: 125.3447 - val_loss: 0.8034 - val_k_smape: 129.7665\n",
      "Epoch 81/100\n",
      "17918/17918 [==============================] - 0s - loss: 0.7320 - k_smape: 125.3318 - val_loss: 0.8024 - val_k_smape: 128.5071\n",
      "Epoch 82/100\n",
      "17918/17918 [==============================] - 0s - loss: 0.7316 - k_smape: 125.2765 - val_loss: 0.8021 - val_k_smape: 128.47035\n",
      "Epoch 83/100\n",
      "17918/17918 [==============================] - 0s - loss: 0.7324 - k_smape: 125.1731 - val_loss: 0.8044 - val_k_smape: 128.7134\n",
      "Epoch 84/100\n",
      "17918/17918 [==============================] - 0s - loss: 0.7306 - k_smape: 125.1055 - val_loss: 0.8026 - val_k_smape: 129.3040\n",
      "Epoch 85/100\n",
      "17918/17918 [==============================] - 0s - loss: 0.7315 - k_smape: 125.2542 - val_loss: 0.8052 - val_k_smape: 128.7717\n",
      "Epoch 86/100\n",
      "17918/17918 [==============================] - 0s - loss: 0.7316 - k_smape: 125.2420 - val_loss: 0.8055 - val_k_smape: 129.0910\n",
      "Epoch 87/100\n",
      "17918/17918 [==============================] - 0s - loss: 0.7312 - k_smape: 125.1281 - val_loss: 0.8070 - val_k_smape: 129.0467\n",
      "Epoch 88/100\n",
      "17918/17918 [==============================] - 0s - loss: 0.7310 - k_smape: 125.1583 - val_loss: 0.8033 - val_k_smape: 129.5795\n",
      "Epoch 89/100\n",
      "17918/17918 [==============================] - 0s - loss: 0.7290 - k_smape: 125.0783 - val_loss: 0.8028 - val_k_smape: 129.5807\n",
      "Epoch 90/100\n",
      "17918/17918 [==============================] - 0s - loss: 0.7307 - k_smape: 125.1716 - val_loss: 0.8033 - val_k_smape: 128.5762\n",
      "Epoch 91/100\n",
      "17918/17918 [==============================] - 0s - loss: 0.7289 - k_smape: 124.9158 - val_loss: 0.8038 - val_k_smape: 129.1446\n",
      "Epoch 92/100\n",
      "17918/17918 [==============================] - 0s - loss: 0.7293 - k_smape: 124.8461 - val_loss: 0.8034 - val_k_smape: 129.5995\n",
      "Epoch 93/100\n",
      "17918/17918 [==============================] - 0s - loss: 0.7289 - k_smape: 125.0867 - val_loss: 0.8037 - val_k_smape: 128.3444\n",
      "Epoch 94/100\n",
      "17918/17918 [==============================] - 0s - loss: 0.7291 - k_smape: 125.1010 - val_loss: 0.8053 - val_k_smape: 128.2420\n",
      "Epoch 95/100\n",
      "17918/17918 [==============================] - 0s - loss: 0.7285 - k_smape: 125.0065 - val_loss: 0.8045 - val_k_smape: 129.1272\n",
      "Epoch 96/100\n",
      "17918/17918 [==============================] - 0s - loss: 0.7300 - k_smape: 125.0346 - val_loss: 0.8040 - val_k_smape: 129.3891\n",
      "Epoch 97/100\n",
      "17918/17918 [==============================] - 0s - loss: 0.7284 - k_smape: 124.9657 - val_loss: 0.8053 - val_k_smape: 128.2447\n",
      "Epoch 98/100\n",
      "17918/17918 [==============================] - 0s - loss: 0.7283 - k_smape: 124.7204 - val_loss: 0.8057 - val_k_smape: 129.2228\n",
      "Epoch 99/100\n",
      "17918/17918 [==============================] - 0s - loss: 0.7279 - k_smape: 125.1148 - val_loss: 0.8056 - val_k_smape: 128.5656\n",
      "Epoch 100/100\n",
      "17918/17918 [==============================] - 0s - loss: 0.7266 - k_smape: 124.8804 - val_loss: 0.8070 - val_k_smape: 129.4764\n"
     ]
    }
   ],
   "source": [
    "hist = model.fit(X_train, Y_train, batch_size=128, epochs=100, \n",
    "                 validation_data=(X_val, Y_val))"
   ]
  },
  {
   "cell_type": "code",
   "execution_count": 229,
   "metadata": {},
   "outputs": [
    {
     "name": "stdout",
     "output_type": "stream",
     "text": [
      "1664/1990 [========================>.....] - ETA: 0s"
     ]
    },
    {
     "data": {
      "text/plain": [
       "[0.80700780129312866, 129.4763770942113]"
      ]
     },
     "execution_count": 229,
     "metadata": {},
     "output_type": "execute_result"
    }
   ],
   "source": [
    "model.evaluate(X_val,Y_val)"
   ]
  },
  {
   "cell_type": "code",
   "execution_count": 230,
   "metadata": {
    "collapsed": true
   },
   "outputs": [],
   "source": [
    "Y_val_pred = model.predict(X_val)"
   ]
  },
  {
   "cell_type": "code",
   "execution_count": 231,
   "metadata": {},
   "outputs": [
    {
     "data": {
      "image/png": "[encoded data removed]",
      "text/plain": [
       "<matplotlib.figure.Figure at 0x5813e080>"
      ]
     },
     "metadata": {},
     "output_type": "display_data"
    }
   ],
   "source": [
    "plt.plot(hist.history['loss'], label='train')\n",
    "plt.plot(hist.history['val_loss'], label='validation')\n",
    "plt.title('Mean Squared Error')\n",
    "plt.legend(); plt.show()"
   ]
  },
  {
   "cell_type": "code",
   "execution_count": 232,
   "metadata": {},
   "outputs": [
    {
     "data": {
      "image/png": "[encoded data removed]",
      "text/plain": [
       "<matplotlib.figure.Figure at 0x5813ed30>"
      ]
     },
     "metadata": {},
     "output_type": "display_data"
    }
   ],
   "source": [
    "plt.plot(hist.history['k_smape'], label='train')\n",
    "plt.plot(hist.history['val_k_smape'], label='validation')\n",
    "plt.title('SMAPE')\n",
    "plt.legend(); plt.show()"
   ]
  },
  {
   "cell_type": "code",
   "execution_count": 233,
   "metadata": {},
   "outputs": [
    {
     "data": {
      "image/png": "[encoded data removed]",
      "text/plain": [
       "<matplotlib.figure.Figure at 0x5918fef0>"
      ]
     },
     "metadata": {},
     "output_type": "display_data"
    },
    {
     "name": "stdout",
     "output_type": "stream",
     "text": [
      "i =  767\n"
     ]
    },
    {
     "data": {
      "image/png": "[encoded data removed]",
      "text/plain": [
       "<matplotlib.figure.Figure at 0x570ecba8>"
      ]
     },
     "metadata": {},
     "output_type": "display_data"
    },
    {
     "name": "stdout",
     "output_type": "stream",
     "text": [
      "i =  1096\n"
     ]
    },
    {
     "data": {
      "image/png": "[encoded data removed]",
      "text/plain": [
       "<matplotlib.figure.Figure at 0x57cff860>"
      ]
     },
     "metadata": {},
     "output_type": "display_data"
    },
    {
     "name": "stdout",
     "output_type": "stream",
     "text": [
      "i =  1885\n"
     ]
    },
    {
     "data": {
      "image/png": "[encoded data removed]",
      "text/plain": [
       "<matplotlib.figure.Figure at 0x57d1be80>"
      ]
     },
     "metadata": {},
     "output_type": "display_data"
    },
    {
     "name": "stdout",
     "output_type": "stream",
     "text": [
      "i =  1293\n"
     ]
    },
    {
     "data": {
      "image/png": "[encoded data removed]",
      "text/plain": [
       "<matplotlib.figure.Figure at 0x565bac18>"
      ]
     },
     "metadata": {},
     "output_type": "display_data"
    },
    {
     "name": "stdout",
     "output_type": "stream",
     "text": [
      "i =  1228\n"
     ]
    }
   ],
   "source": [
    "examine(Y_val_pred)"
   ]
  },
  {
   "cell_type": "code",
   "execution_count": 234,
   "metadata": {},
   "outputs": [
    {
     "data": {
      "text/plain": [
       "107.72498884532892"
      ]
     },
     "execution_count": 234,
     "metadata": {},
     "output_type": "execute_result"
    }
   ],
   "source": [
    "smape(Y_val[55],Y_val_pred[55])"
   ]
  },
  {
   "cell_type": "code",
   "execution_count": 235,
   "metadata": {
    "collapsed": true
   },
   "outputs": [],
   "source": [
    "Y_val_pred_ori = unlog(untransform(Y_val_pred, val_center, val_scale))"
   ]
  },
  {
   "cell_type": "code",
   "execution_count": 236,
   "metadata": {},
   "outputs": [
    {
     "data": {
      "text/plain": [
       "41.069642962014171"
      ]
     },
     "execution_count": 236,
     "metadata": {},
     "output_type": "execute_result"
    }
   ],
   "source": [
    "# Final SMAPE\n",
    "smape(Y_val_ori, Y_val_pred_ori)"
   ]
  },
  {
   "cell_type": "code",
   "execution_count": 237,
   "metadata": {},
   "outputs": [
    {
     "data": {
      "image/png": "[encoded data removed]",
      "text/plain": [
       "<matplotlib.figure.Figure at 0x57d7f828>"
      ]
     },
     "metadata": {},
     "output_type": "display_data"
    }
   ],
   "source": [
    "i = 26\n",
    "plt.plot(Y_val_pred_ori[i])\n",
    "plt.plot(Y_val_ori[i])\n",
    "plt.plot(X_val_ori[i])\n",
    "plt.show()"
   ]
  },
  {
   "cell_type": "code",
   "execution_count": 238,
   "metadata": {},
   "outputs": [
    {
     "data": {
      "image/png": "[encoded data removed]",
      "text/plain": [
       "<matplotlib.figure.Figure at 0x56142e80>"
      ]
     },
     "metadata": {},
     "output_type": "display_data"
    }
   ],
   "source": [
    "i = 79\n",
    "plt.plot(Y_val_pred_ori[i])\n",
    "plt.plot(Y_val_ori[i])\n",
    "plt.plot(X_val_ori[i])\n",
    "plt.show()"
   ]
  },
  {
   "cell_type": "code",
   "execution_count": 239,
   "metadata": {},
   "outputs": [
    {
     "data": {
      "image/png": "[encoded data removed]",
      "text/plain": [
       "<matplotlib.figure.Figure at 0x58ae09e8>"
      ]
     },
     "metadata": {},
     "output_type": "display_data"
    }
   ],
   "source": [
    "i = 79\n",
    "plt.plot(Y_val_pred[i])\n",
    "plt.plot(Y_val[i])\n",
    "plt.plot(X_val[i])\n",
    "plt.show()"
   ]
  },
  {
   "cell_type": "code",
   "execution_count": 240,
   "metadata": {},
   "outputs": [
    {
     "data": {
      "image/png": "[encoded data removed]",
      "text/plain": [
       "<matplotlib.figure.Figure at 0x59349400>"
      ]
     },
     "metadata": {},
     "output_type": "display_data"
    }
   ],
   "source": [
    "i = 388\n",
    "plt.plot(Y_val_pred_ori[i])\n",
    "plt.plot(Y_val_ori[i])\n",
    "plt.plot(X_val_ori[i])\n",
    "plt.show()"
   ]
  },
  {
   "cell_type": "code",
   "execution_count": null,
   "metadata": {
    "collapsed": true
   },
   "outputs": [],
   "source": []
  }
 ],
 "metadata": {
  "kernelspec": {
   "display_name": "Python 3",
   "language": "python",
   "name": "python3"
  },
  "language_info": {
   "codemirror_mode": {
    "name": "ipython",
    "version": 3
   },
   "file_extension": ".py",
   "mimetype": "text/x-python",
   "name": "python",
   "nbconvert_exporter": "python",
   "pygments_lexer": "ipython3",
   "version": "3.6.1"
  }
 },
 "nbformat": 4,
 "nbformat_minor": 2
}
