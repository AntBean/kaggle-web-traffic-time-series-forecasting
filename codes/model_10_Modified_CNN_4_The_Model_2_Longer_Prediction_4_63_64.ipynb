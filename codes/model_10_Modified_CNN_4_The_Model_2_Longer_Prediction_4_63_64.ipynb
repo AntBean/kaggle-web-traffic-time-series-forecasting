{
 "cells": [
  {
   "cell_type": "code",
   "execution_count": 1,
   "metadata": {},
   "outputs": [
    {
     "data": {
      "application/javascript": [
       "IPython.notebook.set_autosave_interval(0)"
      ]
     },
     "metadata": {},
     "output_type": "display_data"
    },
    {
     "name": "stdout",
     "output_type": "stream",
     "text": [
      "Autosave disabled\n"
     ]
    }
   ],
   "source": [
    "%autosave 0"
   ]
  },
  {
   "cell_type": "markdown",
   "metadata": {},
   "source": [
    "### Kaggle - Web Traffic Time Series Forecasting\n",
    "\n",
    "## Model 10 - Modified CNN with Fibonacci\n",
    "\n",
    "### v4 The Model - Longer prediction\n",
    "\n",
    "by Louis Yang\n",
    "\n",
    "Use Fibonacci series median as the center of each data.\n",
    "\n",
    "According to the center, split data into groups and train individual neural network (model) in each group.\n",
    "\n",
    "The grouping split are log10(fib_med + 1) < (1.0 , 2.0, 4.0, rest) There are total 4 groups.\n",
    "\n",
    "The first 1 groups use original Fibonacci median as prediction since it is difficult to learn. The rest groups use the trained CNN as prediction.\n",
    "\n",
    "The neural network structure is: \n",
    "\n",
    "    1 Conv1D(120) with filter size 3 > Average pooling(2) > FC(120) > FC(120) > FC(63, linear).\n",
    "\n",
    "Then do ensemble learning: Evaluate the same model 5 times and take the ensemble median.\n",
    "\n",
    "v0 Feed second input (median and stdev) to the neural network after the CNN part.\n",
    "\n",
    "v4.2 Extend the prediction to longer time since there is larger gap between train and test dates.\n",
    "\n",
    "Test on stage 2 data.\n",
    "\n",
    "Original model: 'model_10_Modified_CNN_4_The_Model'"
   ]
  },
  {
   "cell_type": "code",
   "execution_count": 2,
   "metadata": {
    "collapsed": true
   },
   "outputs": [],
   "source": [
    "model_name = 'model_10_Modified_CNN_4_The_Model_2_Longer_Prediction_4_63_64'"
   ]
  },
  {
   "cell_type": "code",
   "execution_count": 3,
   "metadata": {
    "collapsed": true
   },
   "outputs": [],
   "source": [
    "import numpy as np # linear algebra\n",
    "import pandas as pd # data processing, CSV file I/O (e.g. pd.read_csv)\n",
    "import matplotlib.pyplot as plt\n",
    "import gc  # Python garbage collect\n",
    "from tools import *"
   ]
  },
  {
   "cell_type": "markdown",
   "metadata": {},
   "source": [
    "## Input"
   ]
  },
  {
   "cell_type": "code",
   "execution_count": 4,
   "metadata": {
    "collapsed": true
   },
   "outputs": [],
   "source": [
    "train_file = 'train_2.csv'"
   ]
  },
  {
   "cell_type": "code",
   "execution_count": 5,
   "metadata": {
    "collapsed": true
   },
   "outputs": [],
   "source": [
    "key_file = 'key_2.csv'"
   ]
  },
  {
   "cell_type": "code",
   "execution_count": 6,
   "metadata": {
    "collapsed": true
   },
   "outputs": [],
   "source": [
    "input_df = pd.read_csv('../data/' + train_file, nrows=1)"
   ]
  },
  {
   "cell_type": "code",
   "execution_count": 7,
   "metadata": {},
   "outputs": [
    {
     "data": {
      "text/html": [
       "<div>\n",
       "<style>\n",
       "    .dataframe thead tr:only-child th {\n",
       "        text-align: right;\n",
       "    }\n",
       "\n",
       "    .dataframe thead th {\n",
       "        text-align: left;\n",
       "    }\n",
       "\n",
       "    .dataframe tbody tr th {\n",
       "        vertical-align: top;\n",
       "    }\n",
       "</style>\n",
       "<table border=\"1\" class=\"dataframe\">\n",
       "  <thead>\n",
       "    <tr style=\"text-align: right;\">\n",
       "      <th></th>\n",
       "      <th>Page</th>\n",
       "      <th>2015-07-01</th>\n",
       "      <th>2015-07-02</th>\n",
       "      <th>2015-07-03</th>\n",
       "      <th>2015-07-04</th>\n",
       "      <th>2015-07-05</th>\n",
       "      <th>2015-07-06</th>\n",
       "      <th>2015-07-07</th>\n",
       "      <th>2015-07-08</th>\n",
       "      <th>2015-07-09</th>\n",
       "      <th>...</th>\n",
       "      <th>2017-08-22</th>\n",
       "      <th>2017-08-23</th>\n",
       "      <th>2017-08-24</th>\n",
       "      <th>2017-08-25</th>\n",
       "      <th>2017-08-26</th>\n",
       "      <th>2017-08-27</th>\n",
       "      <th>2017-08-28</th>\n",
       "      <th>2017-08-29</th>\n",
       "      <th>2017-08-30</th>\n",
       "      <th>2017-08-31</th>\n",
       "    </tr>\n",
       "  </thead>\n",
       "  <tbody>\n",
       "    <tr>\n",
       "      <th>0</th>\n",
       "      <td>2NE1_zh.wikipedia.org_all-access_spider</td>\n",
       "      <td>18</td>\n",
       "      <td>11</td>\n",
       "      <td>5</td>\n",
       "      <td>13</td>\n",
       "      <td>14</td>\n",
       "      <td>9</td>\n",
       "      <td>9</td>\n",
       "      <td>22</td>\n",
       "      <td>26</td>\n",
       "      <td>...</td>\n",
       "      <td>37</td>\n",
       "      <td>58</td>\n",
       "      <td>25</td>\n",
       "      <td>23</td>\n",
       "      <td>25</td>\n",
       "      <td>47</td>\n",
       "      <td>44</td>\n",
       "      <td>26</td>\n",
       "      <td>24</td>\n",
       "      <td>21</td>\n",
       "    </tr>\n",
       "  </tbody>\n",
       "</table>\n",
       "<p>1 rows × 794 columns</p>\n",
       "</div>"
      ],
      "text/plain": [
       "                                      Page  2015-07-01  2015-07-02  \\\n",
       "0  2NE1_zh.wikipedia.org_all-access_spider          18          11   \n",
       "\n",
       "   2015-07-03  2015-07-04  2015-07-05  2015-07-06  2015-07-07  2015-07-08  \\\n",
       "0           5          13          14           9           9          22   \n",
       "\n",
       "   2015-07-09     ...      2017-08-22  2017-08-23  2017-08-24  2017-08-25  \\\n",
       "0          26     ...              37          58          25          23   \n",
       "\n",
       "   2017-08-26  2017-08-27  2017-08-28  2017-08-29  2017-08-30  2017-08-31  \n",
       "0          25          47          44          26          24          21  \n",
       "\n",
       "[1 rows x 794 columns]"
      ]
     },
     "execution_count": 7,
     "metadata": {},
     "output_type": "execute_result"
    }
   ],
   "source": [
    "input_df"
   ]
  },
  {
   "cell_type": "code",
   "execution_count": 8,
   "metadata": {},
   "outputs": [
    {
     "data": {
      "text/plain": [
       "Index(['2015-07-01', '2015-07-02', '2015-07-03', '2015-07-04', '2015-07-05',\n",
       "       '2015-07-06', '2015-07-07', '2015-07-08', '2015-07-09', '2015-07-10',\n",
       "       ...\n",
       "       '2017-08-22', '2017-08-23', '2017-08-24', '2017-08-25', '2017-08-26',\n",
       "       '2017-08-27', '2017-08-28', '2017-08-29', '2017-08-30', '2017-08-31'],\n",
       "      dtype='object', length=793)"
      ]
     },
     "execution_count": 8,
     "metadata": {},
     "output_type": "execute_result"
    }
   ],
   "source": [
    "input_df_dates = input_df.columns[1:]; input_df_dates"
   ]
  },
  {
   "cell_type": "code",
   "execution_count": 9,
   "metadata": {
    "collapsed": true
   },
   "outputs": [],
   "source": [
    "visits_dtype = {d: np.float32 for d in input_df_dates}"
   ]
  },
  {
   "cell_type": "code",
   "execution_count": 10,
   "metadata": {},
   "outputs": [
    {
     "name": "stdout",
     "output_type": "stream",
     "text": [
      "%%% Reading data train_2.csv ... done!\n"
     ]
    }
   ],
   "source": [
    "print('%%% Reading data '+ train_file + ' ... ', end = '', flush = True)\n",
    "input_df = pd.read_csv('../data/' + train_file, engine='c', dtype=visits_dtype)\n",
    "print('done!')"
   ]
  },
  {
   "cell_type": "code",
   "execution_count": 11,
   "metadata": {},
   "outputs": [
    {
     "data": {
      "text/html": [
       "<div>\n",
       "<style>\n",
       "    .dataframe thead tr:only-child th {\n",
       "        text-align: right;\n",
       "    }\n",
       "\n",
       "    .dataframe thead th {\n",
       "        text-align: left;\n",
       "    }\n",
       "\n",
       "    .dataframe tbody tr th {\n",
       "        vertical-align: top;\n",
       "    }\n",
       "</style>\n",
       "<table border=\"1\" class=\"dataframe\">\n",
       "  <thead>\n",
       "    <tr style=\"text-align: right;\">\n",
       "      <th></th>\n",
       "      <th>Page</th>\n",
       "      <th>2015-07-01</th>\n",
       "      <th>2015-07-02</th>\n",
       "      <th>2015-07-03</th>\n",
       "      <th>2015-07-04</th>\n",
       "      <th>2015-07-05</th>\n",
       "      <th>2015-07-06</th>\n",
       "      <th>2015-07-07</th>\n",
       "      <th>2015-07-08</th>\n",
       "      <th>2015-07-09</th>\n",
       "      <th>...</th>\n",
       "      <th>2017-08-22</th>\n",
       "      <th>2017-08-23</th>\n",
       "      <th>2017-08-24</th>\n",
       "      <th>2017-08-25</th>\n",
       "      <th>2017-08-26</th>\n",
       "      <th>2017-08-27</th>\n",
       "      <th>2017-08-28</th>\n",
       "      <th>2017-08-29</th>\n",
       "      <th>2017-08-30</th>\n",
       "      <th>2017-08-31</th>\n",
       "    </tr>\n",
       "  </thead>\n",
       "  <tbody>\n",
       "    <tr>\n",
       "      <th>0</th>\n",
       "      <td>2NE1_zh.wikipedia.org_all-access_spider</td>\n",
       "      <td>18.0</td>\n",
       "      <td>11.0</td>\n",
       "      <td>5.0</td>\n",
       "      <td>13.0</td>\n",
       "      <td>14.0</td>\n",
       "      <td>9.0</td>\n",
       "      <td>9.0</td>\n",
       "      <td>22.0</td>\n",
       "      <td>26.0</td>\n",
       "      <td>...</td>\n",
       "      <td>37.0</td>\n",
       "      <td>58.0</td>\n",
       "      <td>25.0</td>\n",
       "      <td>23.0</td>\n",
       "      <td>25.0</td>\n",
       "      <td>47.0</td>\n",
       "      <td>44.0</td>\n",
       "      <td>26.0</td>\n",
       "      <td>24.0</td>\n",
       "      <td>21.0</td>\n",
       "    </tr>\n",
       "    <tr>\n",
       "      <th>1</th>\n",
       "      <td>2PM_zh.wikipedia.org_all-access_spider</td>\n",
       "      <td>11.0</td>\n",
       "      <td>14.0</td>\n",
       "      <td>15.0</td>\n",
       "      <td>18.0</td>\n",
       "      <td>11.0</td>\n",
       "      <td>13.0</td>\n",
       "      <td>22.0</td>\n",
       "      <td>11.0</td>\n",
       "      <td>10.0</td>\n",
       "      <td>...</td>\n",
       "      <td>14.0</td>\n",
       "      <td>34.0</td>\n",
       "      <td>16.0</td>\n",
       "      <td>31.0</td>\n",
       "      <td>34.0</td>\n",
       "      <td>33.0</td>\n",
       "      <td>32.0</td>\n",
       "      <td>29.0</td>\n",
       "      <td>34.0</td>\n",
       "      <td>25.0</td>\n",
       "    </tr>\n",
       "    <tr>\n",
       "      <th>2</th>\n",
       "      <td>3C_zh.wikipedia.org_all-access_spider</td>\n",
       "      <td>1.0</td>\n",
       "      <td>0.0</td>\n",
       "      <td>1.0</td>\n",
       "      <td>1.0</td>\n",
       "      <td>0.0</td>\n",
       "      <td>4.0</td>\n",
       "      <td>0.0</td>\n",
       "      <td>3.0</td>\n",
       "      <td>4.0</td>\n",
       "      <td>...</td>\n",
       "      <td>6.0</td>\n",
       "      <td>23.0</td>\n",
       "      <td>11.0</td>\n",
       "      <td>8.0</td>\n",
       "      <td>6.0</td>\n",
       "      <td>13.0</td>\n",
       "      <td>12.0</td>\n",
       "      <td>8.0</td>\n",
       "      <td>12.0</td>\n",
       "      <td>9.0</td>\n",
       "    </tr>\n",
       "    <tr>\n",
       "      <th>3</th>\n",
       "      <td>4minute_zh.wikipedia.org_all-access_spider</td>\n",
       "      <td>35.0</td>\n",
       "      <td>13.0</td>\n",
       "      <td>10.0</td>\n",
       "      <td>94.0</td>\n",
       "      <td>4.0</td>\n",
       "      <td>26.0</td>\n",
       "      <td>14.0</td>\n",
       "      <td>9.0</td>\n",
       "      <td>11.0</td>\n",
       "      <td>...</td>\n",
       "      <td>21.0</td>\n",
       "      <td>42.0</td>\n",
       "      <td>23.0</td>\n",
       "      <td>17.0</td>\n",
       "      <td>11.0</td>\n",
       "      <td>21.0</td>\n",
       "      <td>20.0</td>\n",
       "      <td>20.0</td>\n",
       "      <td>110.0</td>\n",
       "      <td>15.0</td>\n",
       "    </tr>\n",
       "    <tr>\n",
       "      <th>4</th>\n",
       "      <td>52_Hz_I_Love_You_zh.wikipedia.org_all-access_s...</td>\n",
       "      <td>NaN</td>\n",
       "      <td>NaN</td>\n",
       "      <td>NaN</td>\n",
       "      <td>NaN</td>\n",
       "      <td>NaN</td>\n",
       "      <td>NaN</td>\n",
       "      <td>NaN</td>\n",
       "      <td>NaN</td>\n",
       "      <td>NaN</td>\n",
       "      <td>...</td>\n",
       "      <td>23.0</td>\n",
       "      <td>41.0</td>\n",
       "      <td>25.0</td>\n",
       "      <td>22.0</td>\n",
       "      <td>20.0</td>\n",
       "      <td>24.0</td>\n",
       "      <td>29.0</td>\n",
       "      <td>20.0</td>\n",
       "      <td>17.0</td>\n",
       "      <td>24.0</td>\n",
       "    </tr>\n",
       "  </tbody>\n",
       "</table>\n",
       "<p>5 rows × 794 columns</p>\n",
       "</div>"
      ],
      "text/plain": [
       "                                                Page  2015-07-01  2015-07-02  \\\n",
       "0            2NE1_zh.wikipedia.org_all-access_spider        18.0        11.0   \n",
       "1             2PM_zh.wikipedia.org_all-access_spider        11.0        14.0   \n",
       "2              3C_zh.wikipedia.org_all-access_spider         1.0         0.0   \n",
       "3         4minute_zh.wikipedia.org_all-access_spider        35.0        13.0   \n",
       "4  52_Hz_I_Love_You_zh.wikipedia.org_all-access_s...         NaN         NaN   \n",
       "\n",
       "   2015-07-03  2015-07-04  2015-07-05  2015-07-06  2015-07-07  2015-07-08  \\\n",
       "0         5.0        13.0        14.0         9.0         9.0        22.0   \n",
       "1        15.0        18.0        11.0        13.0        22.0        11.0   \n",
       "2         1.0         1.0         0.0         4.0         0.0         3.0   \n",
       "3        10.0        94.0         4.0        26.0        14.0         9.0   \n",
       "4         NaN         NaN         NaN         NaN         NaN         NaN   \n",
       "\n",
       "   2015-07-09     ...      2017-08-22  2017-08-23  2017-08-24  2017-08-25  \\\n",
       "0        26.0     ...            37.0        58.0        25.0        23.0   \n",
       "1        10.0     ...            14.0        34.0        16.0        31.0   \n",
       "2         4.0     ...             6.0        23.0        11.0         8.0   \n",
       "3        11.0     ...            21.0        42.0        23.0        17.0   \n",
       "4         NaN     ...            23.0        41.0        25.0        22.0   \n",
       "\n",
       "   2017-08-26  2017-08-27  2017-08-28  2017-08-29  2017-08-30  2017-08-31  \n",
       "0        25.0        47.0        44.0        26.0        24.0        21.0  \n",
       "1        34.0        33.0        32.0        29.0        34.0        25.0  \n",
       "2         6.0        13.0        12.0         8.0        12.0         9.0  \n",
       "3        11.0        21.0        20.0        20.0       110.0        15.0  \n",
       "4        20.0        24.0        29.0        20.0        17.0        24.0  \n",
       "\n",
       "[5 rows x 794 columns]"
      ]
     },
     "execution_count": 11,
     "metadata": {},
     "output_type": "execute_result"
    }
   ],
   "source": [
    "input_df.head()"
   ]
  },
  {
   "cell_type": "code",
   "execution_count": 12,
   "metadata": {},
   "outputs": [
    {
     "name": "stdout",
     "output_type": "stream",
     "text": [
      "<class 'pandas.core.frame.DataFrame'>\n",
      "RangeIndex: 145063 entries, 0 to 145062\n",
      "Columns: 794 entries, Page to 2017-08-31\n",
      "dtypes: float32(793), object(1)\n",
      "memory usage: 439.9+ MB\n"
     ]
    }
   ],
   "source": [
    "input_df.info()"
   ]
  },
  {
   "cell_type": "markdown",
   "metadata": {},
   "source": [
    "## Processing Data\n",
    "Generate training set and test (predict) set"
   ]
  },
  {
   "cell_type": "markdown",
   "metadata": {},
   "source": [
    "### Day of week alignment"
   ]
  },
  {
   "cell_type": "code",
   "execution_count": 13,
   "metadata": {
    "collapsed": true
   },
   "outputs": [],
   "source": [
    "from datetime import datetime\n",
    "def weekday(datestr):\n",
    "    return datetime.strptime(datestr,'%Y-%m-%d').weekday()\n",
    "def daydiff(dstr1,dstr2):\n",
    "    return datetime.strptime(dstr1,'%Y-%m-%d') - datetime.strptime(dstr2,'%Y-%m-%d') "
   ]
  },
  {
   "cell_type": "markdown",
   "metadata": {},
   "source": [
    "We need to predict output (Y_output_pred) start from Sunday (6) for data set 1. (0: Monday, 6: Sunday)"
   ]
  },
  {
   "cell_type": "code",
   "execution_count": 14,
   "metadata": {
    "collapsed": true
   },
   "outputs": [],
   "source": [
    "# We take the x_length + y_length days of data only\n",
    "# This part then split into x_length as input X and y_length as output Y\n",
    "x_length = 63  # input period\n",
    "y_length = 64  # predict period"
   ]
  },
  {
   "cell_type": "code",
   "execution_count": 15,
   "metadata": {
    "collapsed": true
   },
   "outputs": [],
   "source": [
    "#test_length = 0  # for predicting\n",
    "test_length = y_length  # for self testing"
   ]
  },
  {
   "cell_type": "markdown",
   "metadata": {},
   "source": [
    "Shift everything forward by y_length = 63 days to allows self testing without Kaggle"
   ]
  },
  {
   "cell_type": "markdown",
   "metadata": {},
   "source": [
    "#### X"
   ]
  },
  {
   "cell_type": "code",
   "execution_count": 16,
   "metadata": {
    "collapsed": true
   },
   "outputs": [],
   "source": [
    "X_input_dates = input_df_dates[-x_length-test_length-364:-test_length-364]; #X_input_dates"
   ]
  },
  {
   "cell_type": "code",
   "execution_count": 17,
   "metadata": {},
   "outputs": [
    {
     "data": {
      "text/plain": [
       "('2016-04-28', '2016-06-29')"
      ]
     },
     "execution_count": 17,
     "metadata": {},
     "output_type": "execute_result"
    }
   ],
   "source": [
    "X_input_first_day = X_input_dates[0]\n",
    "X_input_final_day = X_input_dates[-1]\n",
    "X_input_first_day, X_input_final_day"
   ]
  },
  {
   "cell_type": "code",
   "execution_count": 18,
   "metadata": {},
   "outputs": [
    {
     "data": {
      "text/plain": [
       "datetime.timedelta(-62)"
      ]
     },
     "execution_count": 18,
     "metadata": {},
     "output_type": "execute_result"
    }
   ],
   "source": [
    "daydiff(X_input_first_day, X_input_final_day)  # should be 1 - y_length"
   ]
  },
  {
   "cell_type": "code",
   "execution_count": 19,
   "metadata": {
    "collapsed": true
   },
   "outputs": [],
   "source": [
    "# X for output set\n",
    "if test_length:\n",
    "    X_output_dates = input_df_dates[-x_length-test_length:-test_length]\n",
    "else:\n",
    "    X_output_dates = input_df_dates[-x_length:]\n",
    "#X_output_dates"
   ]
  },
  {
   "cell_type": "code",
   "execution_count": 20,
   "metadata": {},
   "outputs": [
    {
     "data": {
      "text/plain": [
       "('2017-04-27', '2017-06-28')"
      ]
     },
     "execution_count": 20,
     "metadata": {},
     "output_type": "execute_result"
    }
   ],
   "source": [
    "X_output_first_day = X_output_dates[0]\n",
    "X_output_final_day = X_output_dates[-1]\n",
    "X_output_first_day, X_output_final_day"
   ]
  },
  {
   "cell_type": "code",
   "execution_count": 21,
   "metadata": {},
   "outputs": [
    {
     "data": {
      "text/plain": [
       "datetime.timedelta(-62)"
      ]
     },
     "execution_count": 21,
     "metadata": {},
     "output_type": "execute_result"
    }
   ],
   "source": [
    "daydiff(X_output_first_day, X_output_final_day)  # should be 1 - y_length"
   ]
  },
  {
   "cell_type": "code",
   "execution_count": 22,
   "metadata": {},
   "outputs": [
    {
     "data": {
      "text/plain": [
       "(3, 3)"
      ]
     },
     "execution_count": 22,
     "metadata": {},
     "output_type": "execute_result"
    }
   ],
   "source": [
    "weekday(X_input_first_day), weekday(X_output_first_day)"
   ]
  },
  {
   "cell_type": "markdown",
   "metadata": {},
   "source": [
    "Should be the same"
   ]
  },
  {
   "cell_type": "markdown",
   "metadata": {},
   "source": [
    "#### Y"
   ]
  },
  {
   "cell_type": "code",
   "execution_count": 23,
   "metadata": {
    "collapsed": true
   },
   "outputs": [],
   "source": [
    "Y_input_dates = input_df_dates[-test_length-364:-test_length-364+y_length]; #Y_input_dates"
   ]
  },
  {
   "cell_type": "code",
   "execution_count": 24,
   "metadata": {},
   "outputs": [
    {
     "data": {
      "text/plain": [
       "('2016-06-30', '2016-09-01')"
      ]
     },
     "execution_count": 24,
     "metadata": {},
     "output_type": "execute_result"
    }
   ],
   "source": [
    "Y_input_first_day = Y_input_dates[0]\n",
    "Y_input_final_day = Y_input_dates[-1]\n",
    "Y_input_first_day, Y_input_final_day"
   ]
  },
  {
   "cell_type": "code",
   "execution_count": 25,
   "metadata": {},
   "outputs": [
    {
     "data": {
      "text/plain": [
       "datetime.timedelta(-63)"
      ]
     },
     "execution_count": 25,
     "metadata": {},
     "output_type": "execute_result"
    }
   ],
   "source": [
    "daydiff(Y_input_first_day, Y_input_final_day)"
   ]
  },
  {
   "cell_type": "code",
   "execution_count": 26,
   "metadata": {
    "collapsed": true
   },
   "outputs": [],
   "source": [
    "# Y for output set\n",
    "if test_length:\n",
    "    Y_output_dates = input_df_dates[-test_length:]\n",
    "else:\n",
    "    Y_output_first_day = '2017-09-12'  ## Make sure it is correct when predicting !!!!!!!\n",
    "    Y_output_dates = pd.Index(np.arange(np.datetime64(Y_output_first_day), \n",
    "                                        np.datetime64(Y_output_first_day)\n",
    "                                        + np.timedelta64(y_length, 'D')).astype('str'))\n",
    "#Y_output_dates"
   ]
  },
  {
   "cell_type": "code",
   "execution_count": 27,
   "metadata": {
    "scrolled": true
   },
   "outputs": [
    {
     "data": {
      "text/plain": [
       "('2017-06-29', '2017-08-31')"
      ]
     },
     "execution_count": 27,
     "metadata": {},
     "output_type": "execute_result"
    }
   ],
   "source": [
    "Y_output_first_day = Y_output_dates[0]\n",
    "Y_output_final_day = Y_output_dates[-1]\n",
    "Y_output_first_day, Y_output_final_day"
   ]
  },
  {
   "cell_type": "code",
   "execution_count": 28,
   "metadata": {},
   "outputs": [
    {
     "data": {
      "text/plain": [
       "datetime.timedelta(-63)"
      ]
     },
     "execution_count": 28,
     "metadata": {},
     "output_type": "execute_result"
    }
   ],
   "source": [
    "daydiff(Y_output_first_day, Y_output_final_day)  # should be 1 - y_length"
   ]
  },
  {
   "cell_type": "code",
   "execution_count": 29,
   "metadata": {},
   "outputs": [
    {
     "data": {
      "text/plain": [
       "(3, 3)"
      ]
     },
     "execution_count": 29,
     "metadata": {},
     "output_type": "execute_result"
    }
   ],
   "source": [
    "weekday(Y_input_first_day), weekday(Y_output_first_day)"
   ]
  },
  {
   "cell_type": "markdown",
   "metadata": {},
   "source": [
    "Should be the same"
   ]
  },
  {
   "cell_type": "markdown",
   "metadata": {},
   "source": [
    "## Fibonacci"
   ]
  },
  {
   "cell_type": "markdown",
   "metadata": {},
   "source": [
    "#### Window Sizes"
   ]
  },
  {
   "cell_type": "markdown",
   "metadata": {},
   "source": [
    "The window sizes are given by Ehsan https://www.kaggle.com/safavieh"
   ]
  },
  {
   "cell_type": "code",
   "execution_count": 30,
   "metadata": {
    "collapsed": true
   },
   "outputs": [],
   "source": [
    "windows = [11, 18, 30, 48, 78, 126, 203, 329]\n",
    "fib_length = max(windows)#; fib_length"
   ]
  },
  {
   "cell_type": "markdown",
   "metadata": {},
   "source": [
    "#### Data selection"
   ]
  },
  {
   "cell_type": "markdown",
   "metadata": {},
   "source": [
    "In this testing code, we did not include the last y_length days since in the real predicting stage, we don't know their visits."
   ]
  },
  {
   "cell_type": "code",
   "execution_count": 31,
   "metadata": {},
   "outputs": [
    {
     "data": {
      "text/plain": [
       "(Index(['2015-08-06', '2015-08-07', '2015-08-08', '2015-08-09', '2015-08-10',\n",
       "        '2015-08-11', '2015-08-12', '2015-08-13', '2015-08-14', '2015-08-15',\n",
       "        ...\n",
       "        '2016-06-20', '2016-06-21', '2016-06-22', '2016-06-23', '2016-06-24',\n",
       "        '2016-06-25', '2016-06-26', '2016-06-27', '2016-06-28', '2016-06-29'],\n",
       "       dtype='object', length=329),\n",
       " Index(['2016-08-04', '2016-08-05', '2016-08-06', '2016-08-07', '2016-08-08',\n",
       "        '2016-08-09', '2016-08-10', '2016-08-11', '2016-08-12', '2016-08-13',\n",
       "        ...\n",
       "        '2017-06-19', '2017-06-20', '2017-06-21', '2017-06-22', '2017-06-23',\n",
       "        '2017-06-24', '2017-06-25', '2017-06-26', '2017-06-27', '2017-06-28'],\n",
       "       dtype='object', length=329))"
      ]
     },
     "execution_count": 31,
     "metadata": {},
     "output_type": "execute_result"
    }
   ],
   "source": [
    "if test_length:\n",
    "    fib_output_dates = input_df_dates[-fib_length-test_length:-test_length]\n",
    "else:\n",
    "    fib_output_dates = input_df_dates[-fib_length:]\n",
    "fib_input_dates = input_df_dates[-fib_length-test_length-364:-test_length-364]\n",
    "fib_input_dates, fib_output_dates"
   ]
  },
  {
   "cell_type": "code",
   "execution_count": 32,
   "metadata": {},
   "outputs": [
    {
     "data": {
      "text/plain": [
       "(3, 3)"
      ]
     },
     "execution_count": 32,
     "metadata": {},
     "output_type": "execute_result"
    }
   ],
   "source": [
    "weekday(fib_input_dates[0]), weekday(fib_output_dates[0])"
   ]
  },
  {
   "cell_type": "code",
   "execution_count": 33,
   "metadata": {
    "collapsed": true
   },
   "outputs": [],
   "source": [
    "fib_output_data = input_df[fib_output_dates].values; #fib_output_data"
   ]
  },
  {
   "cell_type": "code",
   "execution_count": 34,
   "metadata": {
    "collapsed": true
   },
   "outputs": [],
   "source": [
    "fib_input_data = input_df[fib_input_dates].values; #fib_input_data"
   ]
  },
  {
   "cell_type": "markdown",
   "metadata": {},
   "source": [
    "#### Fibonacci median in each window"
   ]
  },
  {
   "cell_type": "code",
   "execution_count": 35,
   "metadata": {},
   "outputs": [
    {
     "name": "stderr",
     "output_type": "stream",
     "text": [
      "c:\\python36\\lib\\site-packages\\numpy\\lib\\function_base.py:4011: RuntimeWarning: All-NaN slice encountered\n",
      "  r = func(a, **kwargs)\n"
     ]
    }
   ],
   "source": [
    "fib_input_median_list = np.array([np.nanmedian(fib_input_data[:, -w:] , axis=-1) \n",
    "                            for w in windows])"
   ]
  },
  {
   "cell_type": "code",
   "execution_count": 36,
   "metadata": {},
   "outputs": [
    {
     "name": "stderr",
     "output_type": "stream",
     "text": [
      "c:\\python36\\lib\\site-packages\\numpy\\lib\\function_base.py:4011: RuntimeWarning: All-NaN slice encountered\n",
      "  r = func(a, **kwargs)\n"
     ]
    }
   ],
   "source": [
    "fib_output_median_list = np.array([np.nanmedian(fib_output_data[:, -w:] , axis=-1) \n",
    "                            for w in windows])"
   ]
  },
  {
   "cell_type": "markdown",
   "metadata": {},
   "source": [
    "fib_input_median_list.T.shape"
   ]
  },
  {
   "cell_type": "markdown",
   "metadata": {},
   "source": [
    "fib_output_median_na = np.nanmedian(fib_output_median_list.T, axis=-1)"
   ]
  },
  {
   "cell_type": "markdown",
   "metadata": {},
   "source": [
    "fib_output_median_na"
   ]
  },
  {
   "cell_type": "code",
   "execution_count": 37,
   "metadata": {},
   "outputs": [
    {
     "name": "stderr",
     "output_type": "stream",
     "text": [
      "c:\\python36\\lib\\site-packages\\numpy\\lib\\function_base.py:4011: RuntimeWarning: All-NaN slice encountered\n",
      "  r = func(a, **kwargs)\n"
     ]
    },
    {
     "data": {
      "text/plain": [
       "(145063,)"
      ]
     },
     "execution_count": 37,
     "metadata": {},
     "output_type": "execute_result"
    }
   ],
   "source": [
    "fib_input_median = np.nan_to_num(np.nanmedian(fib_input_median_list.T, axis=-1)); fib_input_median.shape"
   ]
  },
  {
   "cell_type": "code",
   "execution_count": 38,
   "metadata": {
    "scrolled": true
   },
   "outputs": [
    {
     "name": "stderr",
     "output_type": "stream",
     "text": [
      "c:\\python36\\lib\\site-packages\\numpy\\lib\\function_base.py:4011: RuntimeWarning: All-NaN slice encountered\n",
      "  r = func(a, **kwargs)\n"
     ]
    },
    {
     "data": {
      "text/plain": [
       "(145063,)"
      ]
     },
     "execution_count": 38,
     "metadata": {},
     "output_type": "execute_result"
    }
   ],
   "source": [
    "fib_output_median = np.nan_to_num(np.nanmedian(fib_output_median_list.T, axis=-1)); fib_output_median.shape"
   ]
  },
  {
   "cell_type": "markdown",
   "metadata": {},
   "source": [
    "fib_input_median"
   ]
  },
  {
   "cell_type": "markdown",
   "metadata": {
    "scrolled": true
   },
   "source": [
    "fib_output_median"
   ]
  },
  {
   "cell_type": "code",
   "execution_count": 39,
   "metadata": {},
   "outputs": [
    {
     "data": {
      "text/plain": [
       "37"
      ]
     },
     "execution_count": 39,
     "metadata": {},
     "output_type": "execute_result"
    }
   ],
   "source": [
    "del fib_output_data\n",
    "del fib_input_data\n",
    "del fib_output_median_list\n",
    "del fib_input_median_list\n",
    "gc.collect()"
   ]
  },
  {
   "cell_type": "markdown",
   "metadata": {},
   "source": [
    "We will use this as the center and part of the result"
   ]
  },
  {
   "cell_type": "code",
   "execution_count": 40,
   "metadata": {
    "collapsed": true
   },
   "outputs": [],
   "source": [
    "Y_input_fib = fib_input_median.reshape(-1,1)\n",
    "Y_output_fib = fib_output_median.reshape(-1,1)"
   ]
  },
  {
   "cell_type": "markdown",
   "metadata": {},
   "source": [
    "## Data Selection\n",
    "Select x_length + y_length days of data as input or ouput set."
   ]
  },
  {
   "cell_type": "markdown",
   "metadata": {},
   "source": [
    "### Input and Output data"
   ]
  },
  {
   "cell_type": "code",
   "execution_count": 41,
   "metadata": {
    "collapsed": true
   },
   "outputs": [],
   "source": [
    "X_input_raw = input_df[X_input_dates].values\n",
    "Y_input_raw = input_df[Y_input_dates].values\n",
    "X_output_raw = input_df[X_output_dates].values\n",
    "if test_length:\n",
    "    Y_output_raw = input_df[Y_output_dates].values"
   ]
  },
  {
   "cell_type": "markdown",
   "metadata": {},
   "source": [
    "##### Convert nan to number 0."
   ]
  },
  {
   "cell_type": "code",
   "execution_count": 42,
   "metadata": {
    "collapsed": true
   },
   "outputs": [],
   "source": [
    "X_input_num = np.nan_to_num(X_input_raw)\n",
    "Y_input_num = np.nan_to_num(Y_input_raw)\n",
    "X_output_num = np.nan_to_num(X_output_raw)\n",
    "if test_length:\n",
    "    Y_output_num = np.nan_to_num(Y_output_raw)"
   ]
  },
  {
   "cell_type": "markdown",
   "metadata": {},
   "source": [
    "## Transform Data"
   ]
  },
  {
   "cell_type": "markdown",
   "metadata": {},
   "source": [
    "### Log"
   ]
  },
  {
   "cell_type": "code",
   "execution_count": 43,
   "metadata": {
    "collapsed": true
   },
   "outputs": [],
   "source": [
    "def log(X):\n",
    "    return np.log10(X + 1.0)\n",
    "def unlog(X):\n",
    "    return np.clip(np.power(10., X) - 1.0, 0.0, None)"
   ]
  },
  {
   "cell_type": "code",
   "execution_count": 44,
   "metadata": {
    "collapsed": true
   },
   "outputs": [],
   "source": [
    "X_input_raw_log = log(X_input_raw)  # Contain nan\n",
    "Y_input_raw_log = log(Y_input_raw)\n",
    "X_output_raw_log = log(X_output_raw)\n",
    "if test_length:\n",
    "    Y_output_raw_log = log(Y_output_raw)"
   ]
  },
  {
   "cell_type": "code",
   "execution_count": 45,
   "metadata": {
    "collapsed": true
   },
   "outputs": [],
   "source": [
    "X_input_log = log(X_input_num)  # Do not contain nan\n",
    "Y_input_log = log(Y_input_num)\n",
    "X_output_log = log(X_output_num)\n",
    "if test_length:\n",
    "    Y_output_log = log(Y_output_num)"
   ]
  },
  {
   "cell_type": "code",
   "execution_count": 46,
   "metadata": {},
   "outputs": [
    {
     "data": {
      "text/plain": [
       "array([[ 1.20412004,  1.20412004,  1.47712123, ...,  1.07918119,\n",
       "         1.27875364,  1.38021123],\n",
       "       [ 1.8129133 ,  1.36172783,  1.36172783, ...,  1.17609131,\n",
       "         1.39794004,  1.23044896],\n",
       "       [ 0.90309   ,  0.84509802,  0.60206002, ...,  0.84509802,\n",
       "         0.77815127,  0.30103001],\n",
       "       ..., \n",
       "       [ 0.        ,  0.        ,  0.        , ...,  0.        ,\n",
       "         0.        ,  0.        ],\n",
       "       [ 0.        ,  0.        ,  0.        , ...,  0.        ,\n",
       "         0.        ,  0.        ],\n",
       "       [ 0.        ,  0.        ,  0.        , ...,  0.        ,\n",
       "         0.        ,  0.        ]], dtype=float32)"
      ]
     },
     "execution_count": 46,
     "metadata": {},
     "output_type": "execute_result"
    }
   ],
   "source": [
    "X_input_log"
   ]
  },
  {
   "cell_type": "markdown",
   "metadata": {
    "collapsed": true
   },
   "source": [
    "input_data_log = log(input_data_num)\n",
    "output_data_log = log(output_data_num)"
   ]
  },
  {
   "cell_type": "markdown",
   "metadata": {
    "collapsed": true
   },
   "source": [
    "Z_input_data_log = log(Z_input_data_num)"
   ]
  },
  {
   "cell_type": "markdown",
   "metadata": {},
   "source": [
    "##### Check Log transformation"
   ]
  },
  {
   "cell_type": "code",
   "execution_count": 47,
   "metadata": {},
   "outputs": [
    {
     "name": "stdout",
     "output_type": "stream",
     "text": [
      "(145063, 63) (145063, 64) (145063, 63)\n",
      "(145063, 64)\n"
     ]
    }
   ],
   "source": [
    "print(X_input_log.shape, Y_input_log.shape, X_output_log.shape)\n",
    "if test_length: print(Y_output_log.shape)"
   ]
  },
  {
   "cell_type": "code",
   "execution_count": 48,
   "metadata": {},
   "outputs": [
    {
     "name": "stdout",
     "output_type": "stream",
     "text": [
      "shape, min, max, median, stdev\n",
      "(145063, 63) 0.0 7.36145 2.1038 1.05682\n",
      "(145063, 64) 0.0 7.82778 2.11059 1.02642\n",
      "(145063, 63) 0.0 7.39148 2.09342 0.96463\n",
      "shape, min, max, median, stdev\n",
      "(145063, 64) 0.0 7.27115 2.0569 0.962366\n"
     ]
    }
   ],
   "source": [
    "arr_info((X_input_log, Y_input_log, X_output_log))\n",
    "if test_length: arr_info([Y_output_log])"
   ]
  },
  {
   "cell_type": "code",
   "execution_count": 49,
   "metadata": {},
   "outputs": [
    {
     "data": {
      "text/plain": [
       "(-12.0, 10.0, 0.0, 0.020984454)"
      ]
     },
     "execution_count": 49,
     "metadata": {},
     "output_type": "execute_result"
    }
   ],
   "source": [
    "#Check inverse log transformation\n",
    "X_input_log_tt = unlog(X_input_log)\n",
    "X_input_log_tt_dif = X_input_log_tt - X_input_num\n",
    "X_input_log_tt_dif.min(), X_input_log_tt_dif.max(), np.median(X_input_log_tt_dif), np.std(X_input_log_tt_dif)"
   ]
  },
  {
   "cell_type": "code",
   "execution_count": 50,
   "metadata": {},
   "outputs": [
    {
     "data": {
      "text/plain": [
       "(-12.0, 14.0, 0.0, 0.020598985)"
      ]
     },
     "execution_count": 50,
     "metadata": {},
     "output_type": "execute_result"
    }
   ],
   "source": [
    "X_output_log_tt = unlog(X_output_log)\n",
    "X_output_log_tt_dif = X_output_log_tt - X_output_num\n",
    "X_output_log_tt_dif.min(), X_output_log_tt_dif.max(), np.median(X_output_log_tt_dif), np.std(X_output_log_tt_dif)"
   ]
  },
  {
   "cell_type": "code",
   "execution_count": 51,
   "metadata": {},
   "outputs": [
    {
     "data": {
      "text/plain": [
       "(-28.0, 32.0, 0.0, 0.045897424)"
      ]
     },
     "execution_count": 51,
     "metadata": {},
     "output_type": "execute_result"
    }
   ],
   "source": [
    "Y_input_log_tt = unlog(Y_input_log)\n",
    "Y_input_log_tt_dif = Y_input_log_tt - Y_input_num\n",
    "Y_input_log_tt_dif.min(), Y_input_log_tt_dif.max(), np.median(Y_input_log_tt_dif), np.std(Y_input_log_tt_dif)"
   ]
  },
  {
   "cell_type": "code",
   "execution_count": 52,
   "metadata": {},
   "outputs": [
    {
     "data": {
      "text/plain": [
       "(-12.0, 9.0, 0.0, 0.017678957)"
      ]
     },
     "execution_count": 52,
     "metadata": {},
     "output_type": "execute_result"
    }
   ],
   "source": [
    "Y_output_log_tt = unlog(Y_output_log)\n",
    "Y_output_log_tt_dif = Y_output_log_tt - Y_output_num\n",
    "Y_output_log_tt_dif.min(), Y_output_log_tt_dif.max(), np.median(Y_output_log_tt_dif), np.std(Y_output_log_tt_dif)"
   ]
  },
  {
   "cell_type": "code",
   "execution_count": 53,
   "metadata": {},
   "outputs": [
    {
     "data": {
      "text/plain": [
       "119"
      ]
     },
     "execution_count": 53,
     "metadata": {},
     "output_type": "execute_result"
    }
   ],
   "source": [
    "del X_input_log_tt; del X_input_log_tt_dif\n",
    "del X_output_log_tt; del X_output_log_tt_dif\n",
    "del Y_input_log_tt; del Y_input_log_tt_dif\n",
    "del Y_output_log_tt; del Y_output_log_tt_dif\n",
    "gc.collect()"
   ]
  },
  {
   "cell_type": "markdown",
   "metadata": {},
   "source": [
    "There is some error (~10) due to float32 when unlog (exp) it. However, for those cases, the original number is about 10^7 so the relative error is still very small."
   ]
  },
  {
   "cell_type": "markdown",
   "metadata": {},
   "source": [
    "### Normalization (Center and Scale)"
   ]
  },
  {
   "cell_type": "markdown",
   "metadata": {},
   "source": [
    "#### Center"
   ]
  },
  {
   "cell_type": "code",
   "execution_count": 54,
   "metadata": {
    "collapsed": true
   },
   "outputs": [],
   "source": [
    "output_center = log(fib_output_median).reshape(-1,1) # Fib. median as the center\n",
    "#input_center = log(fib_input_median).reshape(-1,1)\n",
    "input_center = output_center  # using output_center instead"
   ]
  },
  {
   "cell_type": "code",
   "execution_count": 55,
   "metadata": {
    "collapsed": true
   },
   "outputs": [],
   "source": [
    "X_input_center = input_center\n",
    "Y_input_center = input_center\n",
    "X_output_center = output_center\n",
    "Y_output_center = output_center"
   ]
  },
  {
   "cell_type": "code",
   "execution_count": 56,
   "metadata": {},
   "outputs": [
    {
     "data": {
      "text/plain": [
       "(145063, 1)"
      ]
     },
     "execution_count": 56,
     "metadata": {},
     "output_type": "execute_result"
    }
   ],
   "source": [
    "output_center.shape"
   ]
  },
  {
   "cell_type": "code",
   "execution_count": 57,
   "metadata": {},
   "outputs": [
    {
     "data": {
      "text/plain": [
       "(array([[ 1.39794004],\n",
       "        [ 1.38021123],\n",
       "        [ 0.69897002],\n",
       "        ..., \n",
       "        [ 1.51851392],\n",
       "        [ 0.95424253],\n",
       "        [ 1.07918119]], dtype=float32), array([[ 1.39794004],\n",
       "        [ 1.38021123],\n",
       "        [ 0.69897002],\n",
       "        ..., \n",
       "        [ 1.51851392],\n",
       "        [ 0.95424253],\n",
       "        [ 1.07918119]], dtype=float32))"
      ]
     },
     "execution_count": 57,
     "metadata": {},
     "output_type": "execute_result"
    }
   ],
   "source": [
    "input_center, output_center"
   ]
  },
  {
   "cell_type": "markdown",
   "metadata": {},
   "source": [
    "plt.scatter(X_input_center.reshape(-1),Y_input_center.reshape(-1))\n",
    "plt.show()"
   ]
  },
  {
   "cell_type": "markdown",
   "metadata": {
    "collapsed": true
   },
   "source": [
    "Z_input_center = np.median(Z_input_data_log, axis=-1).reshape(-1,1)"
   ]
  },
  {
   "cell_type": "markdown",
   "metadata": {},
   "source": [
    "Z_input_center.shape"
   ]
  },
  {
   "cell_type": "markdown",
   "metadata": {},
   "source": [
    "#Use Regular Median as the Center for X\n",
    "#Choice 1: Not including nan\n",
    "X_input_center = np.nan_to_num(np.nanmedian(X_input_log, axis=-1)).reshape(-1,1)\n",
    "X_output_center = np.nan_to_num(np.nanmedian(X_output_log, axis=-1)).reshape(-1,1)\n",
    "\n",
    "#Choice 2: Including nan\n",
    "#X_input_center = np.median(np.nan_to_num(X_input_log), axis=-1).reshape(-1,1)\n",
    "#X_output_center = np.median(np.nan_to_num(X_output_log), axis=-1).reshape(-1,1)"
   ]
  },
  {
   "cell_type": "markdown",
   "metadata": {},
   "source": [
    "Y_input_center = np.nanmedian(input_data_log[:,:x_length], axis=-1).reshape(-1,1)\n",
    "Y_input_center  # remember sample-wised center\n",
    "\n",
    "Y_output_center = np.nanmedian(output_data_log[:,:x_length], axis=-1).reshape(-1,1)\n",
    "Y_output_center  # remember sample-wised center"
   ]
  },
  {
   "cell_type": "markdown",
   "metadata": {},
   "source": [
    "#### Choice of default scale"
   ]
  },
  {
   "cell_type": "code",
   "execution_count": 58,
   "metadata": {
    "scrolled": true
   },
   "outputs": [
    {
     "name": "stderr",
     "output_type": "stream",
     "text": [
      "c:\\python36\\lib\\site-packages\\numpy\\lib\\nanfunctions.py:1427: RuntimeWarning: Degrees of freedom <= 0 for slice.\n",
      "  keepdims=keepdims)\n"
     ]
    },
    {
     "data": {
      "text/plain": [
       "0.17963429"
      ]
     },
     "execution_count": 58,
     "metadata": {},
     "output_type": "execute_result"
    }
   ],
   "source": [
    "default_input_scale = np.nanmedian(np.nanstd(X_input_raw_log, axis=-1))  # Do not include nan\n",
    "default_input_scale"
   ]
  },
  {
   "cell_type": "code",
   "execution_count": 59,
   "metadata": {
    "scrolled": true
   },
   "outputs": [
    {
     "name": "stderr",
     "output_type": "stream",
     "text": [
      "c:\\python36\\lib\\site-packages\\numpy\\lib\\nanfunctions.py:1427: RuntimeWarning: Degrees of freedom <= 0 for slice.\n",
      "  keepdims=keepdims)\n"
     ]
    },
    {
     "data": {
      "text/plain": [
       "0.16411102"
      ]
     },
     "execution_count": 59,
     "metadata": {},
     "output_type": "execute_result"
    }
   ],
   "source": [
    "default_output_scale = np.nanmedian(np.nanstd(X_output_raw_log, axis=-1))  # Do not include nan\n",
    "default_output_scale"
   ]
  },
  {
   "cell_type": "code",
   "execution_count": 60,
   "metadata": {},
   "outputs": [
    {
     "data": {
      "text/plain": [
       "0.17187265"
      ]
     },
     "execution_count": 60,
     "metadata": {},
     "output_type": "execute_result"
    }
   ],
   "source": [
    "default_scale = np.mean([default_input_scale, default_output_scale]); default_scale"
   ]
  },
  {
   "cell_type": "markdown",
   "metadata": {},
   "source": [
    "#### Scale"
   ]
  },
  {
   "cell_type": "code",
   "execution_count": 61,
   "metadata": {
    "collapsed": true,
    "scrolled": true
   },
   "outputs": [],
   "source": [
    "#Choice 1: Treat nan as 0\n",
    "input_scale = np.std(X_input_log, axis=-1).reshape(-1,1)\n",
    "output_scale = np.std(X_output_log, axis=-1).reshape(-1,1)\n",
    "\n",
    "#Choice 2: Not including nan\n",
    "#input_scale = np.nan_to_num(np.nanstd(X_input_raw_log, axis=-1)).reshape(-1,1)\n",
    "#output_scale = np.nan_to_num(np.nanstd(X_output_raw_log, axis=-1)).reshape(-1,1)\n",
    "\n",
    "input_scale[input_scale == 0.0] = default_scale  # Prevent divid by zero \n",
    "output_scale[output_scale == 0.0] = default_scale  # Prevent divid by zero "
   ]
  },
  {
   "cell_type": "code",
   "execution_count": 62,
   "metadata": {
    "collapsed": true
   },
   "outputs": [],
   "source": [
    "X_input_scale = input_scale\n",
    "Y_input_scale = input_scale\n",
    "X_output_scale = output_scale\n",
    "Y_output_scale = output_scale"
   ]
  },
  {
   "cell_type": "code",
   "execution_count": 63,
   "metadata": {
    "scrolled": true
   },
   "outputs": [
    {
     "data": {
      "text/plain": [
       "array([[ 0.21958517],\n",
       "       [ 0.20798752],\n",
       "       [ 0.23572779],\n",
       "       ..., \n",
       "       [ 0.17187265],\n",
       "       [ 0.17187265],\n",
       "       [ 0.17187265]], dtype=float32)"
      ]
     },
     "execution_count": 63,
     "metadata": {},
     "output_type": "execute_result"
    }
   ],
   "source": [
    "input_scale"
   ]
  },
  {
   "cell_type": "code",
   "execution_count": 64,
   "metadata": {
    "scrolled": true
   },
   "outputs": [
    {
     "data": {
      "text/plain": [
       "array([[ 0.1656101 ],\n",
       "       [ 0.23135552],\n",
       "       [ 0.2901195 ],\n",
       "       ..., \n",
       "       [ 0.3070074 ],\n",
       "       [ 0.30927968],\n",
       "       [ 0.41520965]], dtype=float32)"
      ]
     },
     "execution_count": 64,
     "metadata": {},
     "output_type": "execute_result"
    }
   ],
   "source": [
    "output_scale"
   ]
  },
  {
   "cell_type": "markdown",
   "metadata": {},
   "source": [
    "Z_input_scale = np.std(Z_input_data_log, axis=-1).reshape(-1,1)\n",
    "Z_input_scale[Z_input_scale == 0.0] = default_input_scale  # Prevent divid by zero\n",
    "Z_input_scale  # remember sample-wised scale"
   ]
  },
  {
   "cell_type": "markdown",
   "metadata": {},
   "source": [
    "##### Check zero in scale"
   ]
  },
  {
   "cell_type": "markdown",
   "metadata": {},
   "source": [
    "#Check if there is any 0. in input_scale\n",
    "input_scale[input_scale == 0.]"
   ]
  },
  {
   "cell_type": "markdown",
   "metadata": {},
   "source": [
    "#Check if there is any 0. in output_scale\n",
    "output_scale[output_scale == 0.]"
   ]
  },
  {
   "cell_type": "markdown",
   "metadata": {},
   "source": [
    "#### Shift by Center and Scale by Scale"
   ]
  },
  {
   "cell_type": "code",
   "execution_count": 65,
   "metadata": {
    "collapsed": true
   },
   "outputs": [],
   "source": [
    "def transform(data_ori, center, scale):\n",
    "    return (data_ori - center) / scale\n",
    "def untransform(data, center, scale):\n",
    "    return data * scale + center"
   ]
  },
  {
   "cell_type": "code",
   "execution_count": 66,
   "metadata": {
    "collapsed": true
   },
   "outputs": [],
   "source": [
    "# Normalize after nan->0\n",
    "X_input = transform(X_input_log, X_input_center, X_input_scale)\n",
    "X_output = transform(X_output_log, X_output_center, X_output_scale)\n",
    "Y_input = transform(Y_input_log, Y_input_center, Y_input_scale)\n",
    "if test_length:\n",
    "    Y_output = transform(Y_output_log, Y_output_center, Y_output_scale)    \n",
    "\n",
    "# Another choice: Normalize before nan->0\n",
    "#X_input = np.nan_to_num(transform(X_input_raw_log, X_input_center, input_scale))\n",
    "#X_output = np.nan_to_num(transform(X_output_raw_log, X_output_center, output_scale))\n",
    "#Y_input = np.nan_to_num(transform(Y_input_raw_log, Y_input_center, input_scale))\n",
    "#if test_length:\n",
    "#    Y_output = np.nan_to_num(transform(Y_output_raw_log, Y_output_center, output_scale))"
   ]
  },
  {
   "cell_type": "markdown",
   "metadata": {},
   "source": [
    "Note:\n",
    "\n",
    "* If we take nan_to_num before transform, we make sure the nan got transformed into 0 but not the center.\n",
    "* If we take nan_to_num after transform, nan trun into the center but not 0 of the original data."
   ]
  },
  {
   "cell_type": "markdown",
   "metadata": {},
   "source": [
    "examine(Y_input)"
   ]
  },
  {
   "cell_type": "markdown",
   "metadata": {
    "collapsed": true
   },
   "source": [
    "input_data_norm = transform(input_data_log, Y_input_center, input_scale)\n",
    "output_data_norm = transform(output_data_log, Y_output_center, output_scale)"
   ]
  },
  {
   "cell_type": "markdown",
   "metadata": {},
   "source": [
    "Z_input = transform(Z_input_data_log, Z_input_center, Z_input_scale)"
   ]
  },
  {
   "cell_type": "markdown",
   "metadata": {},
   "source": [
    "##### Check median and stdev transformations"
   ]
  },
  {
   "cell_type": "code",
   "execution_count": 67,
   "metadata": {
    "collapsed": true
   },
   "outputs": [],
   "source": [
    "def check_nan(X):\n",
    "    return [x for x in X if np.isnan(x).any()]"
   ]
  },
  {
   "cell_type": "markdown",
   "metadata": {},
   "source": [
    "check_nan(X_input)  # Check if there is any nan in the input_data"
   ]
  },
  {
   "cell_type": "markdown",
   "metadata": {},
   "source": [
    "#Check inverse scale transformation\n",
    "X_input_unnorm = untransform(X_input, X_input_center, X_input_scale)\n",
    "X_input_unnorm_dif = X_input_unnorm - X_input_log\n",
    "X_input_unnorm_dif.min(), X_input_unnorm_dif.max()"
   ]
  },
  {
   "cell_type": "markdown",
   "metadata": {},
   "source": [
    "#Check inverse scale transformation\n",
    "Y_input_unnorm = untransform(Y_input, Y_input_center, Y_input_scale)\n",
    "Y_input_unnorm_dif = Y_input_unnorm - Y_input_log\n",
    "Y_input_unnorm_dif.min(), Y_input_unnorm_dif.max()"
   ]
  },
  {
   "cell_type": "markdown",
   "metadata": {},
   "source": [
    "#Check inverse scale transformation\n",
    "X_output_unnorm = untransform(X_output, X_output_center, X_output_scale)\n",
    "X_output_unnorm_dif = X_output_unnorm - X_output_log\n",
    "X_output_unnorm_dif.min(), X_output_unnorm_dif.max()"
   ]
  },
  {
   "cell_type": "markdown",
   "metadata": {},
   "source": [
    "#Check inverse scale transformation\n",
    "Y_output_unnorm = untransform(Y_output, Y_output_center, Y_output_scale)\n",
    "Y_output_unnorm_dif = Y_output_unnorm - Y_output_log\n",
    "Y_output_unnorm_dif.min(), Y_output_unnorm_dif.max()"
   ]
  },
  {
   "cell_type": "markdown",
   "metadata": {
    "scrolled": true
   },
   "source": [
    "del X_input_unnorm; del X_input_unnorm_dif\n",
    "del Y_input_unnorm; del Y_input_unnorm_dif\n",
    "del X_output_unnorm; del X_output_unnorm_dif\n",
    "del Y_output_unnorm; del Y_output_unnorm_dif\n",
    "gc.collect()"
   ]
  },
  {
   "cell_type": "markdown",
   "metadata": {},
   "source": [
    "## Center (Median) and Scale (Stdev) Investigation"
   ]
  },
  {
   "cell_type": "markdown",
   "metadata": {},
   "source": [
    "### Center"
   ]
  },
  {
   "cell_type": "markdown",
   "metadata": {},
   "source": [
    "plt.hist(Y_input_center, bins=40, alpha=0.5, label='input')\n",
    "plt.hist(Y_output_center, bins=40, alpha=0.5, label='output')\n",
    "plt.hist(X_input_center, bins=40, alpha=0.5, label='input')\n",
    "plt.hist(X_output_center, bins=40, alpha=0.5, label='output')\n",
    "#plt.hist(Z_input_center, bins=40, alpha=0.5, label='Z_input')\n",
    "plt.legend()\n",
    "plt.show()"
   ]
  },
  {
   "cell_type": "markdown",
   "metadata": {},
   "source": [
    "plt.hist(Y_input_center, bins=40, alpha=0.7, label='input')\n",
    "plt.hist(Y_output_center, bins=40, alpha=0.7, label='output')\n",
    "plt.legend()\n",
    "plt.yscale('log')\n",
    "plt.show()"
   ]
  },
  {
   "cell_type": "markdown",
   "metadata": {},
   "source": [
    "### Scale"
   ]
  },
  {
   "cell_type": "markdown",
   "metadata": {},
   "source": [
    "plt.hist(input_scale, bins=40, alpha=0.7, label='input')\n",
    "plt.hist(output_scale, bins=40, alpha=0.7, label='output')\n",
    "#plt.hist(Z_input_scale, bins=40, alpha=0.7, label='Z_input')\n",
    "plt.legend()\n",
    "plt.show()"
   ]
  },
  {
   "cell_type": "markdown",
   "metadata": {},
   "source": [
    "plt.hist(input_scale, bins=40, alpha=0.7, label='input')\n",
    "plt.hist(output_scale, bins=40, alpha=0.7, label='output')\n",
    "plt.legend()\n",
    "plt.yscale('log')\n",
    "plt.show()"
   ]
  },
  {
   "cell_type": "markdown",
   "metadata": {},
   "source": [
    "### Group index based on scale of median (center)"
   ]
  },
  {
   "cell_type": "code",
   "execution_count": 68,
   "metadata": {},
   "outputs": [
    {
     "data": {
      "text/plain": [
       "[0, 1, 2, 3]"
      ]
     },
     "execution_count": 68,
     "metadata": {},
     "output_type": "execute_result"
    }
   ],
   "source": [
    "def group_index(logx):\n",
    "    if logx < 1.0: return 0\n",
    "    elif logx < 2.0: return 1\n",
    "    elif logx < 4.0: return 2\n",
    "    else: return 3\n",
    "group_index_v = np.vectorize(group_index)\n",
    "gp_list = list(range(4)); gp_list"
   ]
  },
  {
   "cell_type": "markdown",
   "metadata": {},
   "source": [
    "def group_index(median, stdev):\n",
    "    if median < 1.0: return 0\n",
    "    elif median < 2.0: \n",
    "        if stdev < 1.7: return 1\n",
    "        else: return 2\n",
    "    elif median < 4.0: \n",
    "        if stdev < 1.7: return 3\n",
    "        else: return 4\n",
    "    else: return 5\n",
    "#group_index_v = np.vectorize(group_index)\n",
    "gp_list = list(range(6)); gp_list"
   ]
  },
  {
   "cell_type": "markdown",
   "metadata": {},
   "source": [
    "def group_index(logx):\n",
    "    if logx == 0.: return 0\n",
    "    elif logx < 1.0: return 1\n",
    "    elif logx < 2.0: return 2\n",
    "    elif logx < 4.0: return 3\n",
    "    elif logx < 5.0: return 4\n",
    "    else: return 5\n",
    "group_index_v = np.vectorize(group_index)\n",
    "gp_list = list(range(6)); gp_list"
   ]
  },
  {
   "cell_type": "markdown",
   "metadata": {},
   "source": [
    "input_gp = np.array([group_index(center, scale) for center, scale in zip(Y_input_center, input_scale)]).reshape(-1)\n",
    "output_gp = np.array([group_index(center, scale) for center, scale in zip(Y_output_center, output_scale)]).reshape(-1)"
   ]
  },
  {
   "cell_type": "code",
   "execution_count": 69,
   "metadata": {
    "collapsed": true
   },
   "outputs": [],
   "source": [
    "# Choice 1: Group using X center\n",
    "input_gp = group_index_v(X_input_center).reshape(-1)\n",
    "output_gp = group_index_v(X_output_center).reshape(-1)\n",
    "\n",
    "# Choice 2: Group using Y center (Fib Median)\n",
    "#input_gp = group_index_v(Y_input_center).reshape(-1)\n",
    "#output_gp = group_index_v(Y_output_center).reshape(-1)"
   ]
  },
  {
   "cell_type": "code",
   "execution_count": 70,
   "metadata": {},
   "outputs": [
    {
     "data": {
      "text/plain": [
       "(array([1, 1, 0, ..., 1, 0, 1]), array([1, 1, 0, ..., 1, 0, 1]))"
      ]
     },
     "execution_count": 70,
     "metadata": {},
     "output_type": "execute_result"
    }
   ],
   "source": [
    "input_gp, output_gp"
   ]
  },
  {
   "cell_type": "code",
   "execution_count": 71,
   "metadata": {},
   "outputs": [
    {
     "data": {
      "text/plain": [
       "[24929, 43689, 75648, 797]"
      ]
     },
     "execution_count": 71,
     "metadata": {},
     "output_type": "execute_result"
    }
   ],
   "source": [
    "# group counts\n",
    "gp_input_counts = [0] * len(gp_list)\n",
    "for x in input_gp: gp_input_counts[x] += 1\n",
    "gp_input_counts"
   ]
  },
  {
   "cell_type": "code",
   "execution_count": 72,
   "metadata": {},
   "outputs": [
    {
     "data": {
      "text/plain": [
       "[24929, 43689, 75648, 797]"
      ]
     },
     "execution_count": 72,
     "metadata": {},
     "output_type": "execute_result"
    }
   ],
   "source": [
    "# group counts\n",
    "gp_output_counts = [0] * len(gp_list)\n",
    "for x in output_gp: gp_output_counts[x] += 1\n",
    "gp_output_counts"
   ]
  },
  {
   "cell_type": "markdown",
   "metadata": {},
   "source": [
    "plt.hist(input_gp, alpha=0.8, label='input')\n",
    "plt.hist(output_gp, alpha=0.3, label='output')\n",
    "plt.yscale('linear')\n",
    "plt.legend()\n",
    "plt.show()"
   ]
  },
  {
   "cell_type": "markdown",
   "metadata": {},
   "source": [
    "plt.hist(input_gp, alpha=0.8, label='input')\n",
    "plt.hist(output_gp, alpha=0.3, label='output')\n",
    "plt.yscale('log')\n",
    "plt.legend()\n",
    "plt.show()"
   ]
  },
  {
   "cell_type": "markdown",
   "metadata": {},
   "source": [
    "#### Original data"
   ]
  },
  {
   "cell_type": "code",
   "execution_count": 73,
   "metadata": {
    "collapsed": true
   },
   "outputs": [],
   "source": [
    "X_input_ori = X_input_num  # Do not contain nan\n",
    "Y_input_ori = Y_input_num\n",
    "X_output_ori = X_output_num\n",
    "if test_length:\n",
    "    Y_output_ori = Y_output_num"
   ]
  },
  {
   "cell_type": "code",
   "execution_count": 74,
   "metadata": {},
   "outputs": [
    {
     "name": "stdout",
     "output_type": "stream",
     "text": [
      "shape, min, max, median, stdev\n",
      "(145063, 63) -104.937 178.874 0.0217198 3.39562\n",
      "(145063, 64) -104.937 178.201 -0.0245781 3.46664\n",
      "(145063, 63) -57.4067 8.00102 0.0 1.25678\n",
      "(145063, 64) -1631.69 49.7964 -0.222988 6.0073\n",
      "(145063, 63) 0.0 2.29855e+07 126.0 63490.5\n",
      "(145063, 64) 0.0 6.72643e+07 128.0 154566.0\n",
      "(145063, 63) 0.0 2.46307e+07 123.0 66070.5\n",
      "(145063, 64) 0.0 1.86702e+07 113.0 57395.4\n"
     ]
    }
   ],
   "source": [
    "if test_length:\n",
    "    arr_info((X_input, Y_input, X_output, Y_output, \n",
    "              X_input_ori, Y_input_ori, X_output_ori, Y_output_ori))\n",
    "else:\n",
    "    arr_info((X_input, Y_input, X_output, \n",
    "              X_input_ori, Y_input_ori, X_output_ori))"
   ]
  },
  {
   "cell_type": "markdown",
   "metadata": {},
   "source": [
    "arr_info((Z_input,))"
   ]
  },
  {
   "cell_type": "markdown",
   "metadata": {},
   "source": [
    "#### Min and max cases examination"
   ]
  },
  {
   "cell_type": "markdown",
   "metadata": {},
   "source": [
    "np.argmin(Y_output, axis=0)"
   ]
  },
  {
   "cell_type": "markdown",
   "metadata": {},
   "source": [
    "Y_output[8604]"
   ]
  },
  {
   "cell_type": "markdown",
   "metadata": {},
   "source": [
    "Y_output_ori[8604]"
   ]
  },
  {
   "cell_type": "markdown",
   "metadata": {},
   "source": [
    "fib_output_median[8604]"
   ]
  },
  {
   "cell_type": "markdown",
   "metadata": {},
   "source": [
    "log(Y_output_ori[8604])"
   ]
  },
  {
   "cell_type": "markdown",
   "metadata": {},
   "source": [
    "log(fib_output_median[8604])"
   ]
  },
  {
   "cell_type": "markdown",
   "metadata": {},
   "source": [
    "np.std(log(Y_output_ori[8604]))"
   ]
  },
  {
   "cell_type": "markdown",
   "metadata": {},
   "source": [
    "np.std(log(X_output_ori[8604]))"
   ]
  },
  {
   "cell_type": "markdown",
   "metadata": {},
   "source": [
    "output_scale[8604]"
   ]
  },
  {
   "cell_type": "markdown",
   "metadata": {},
   "source": [
    "#### Check if the inverse transformation is correct"
   ]
  },
  {
   "cell_type": "markdown",
   "metadata": {
    "collapsed": true
   },
   "source": [
    "#Undo transformation\n",
    "X_input_tt = unlog(untransform(X_input, X_input_center, X_input_scale))"
   ]
  },
  {
   "cell_type": "markdown",
   "metadata": {},
   "source": [
    "X_input_tt_diff = X_input_tt - X_input_ori\n",
    "X_input_tt_diff.min(), X_input_tt_diff.max()"
   ]
  },
  {
   "cell_type": "markdown",
   "metadata": {},
   "source": [
    "del X_input_tt_diff; del X_input_tt"
   ]
  },
  {
   "cell_type": "markdown",
   "metadata": {},
   "source": [
    "## Split X,Y data into groups"
   ]
  },
  {
   "cell_type": "markdown",
   "metadata": {},
   "source": [
    "X_input[input_gp == 1].shape"
   ]
  },
  {
   "cell_type": "code",
   "execution_count": 75,
   "metadata": {
    "collapsed": true
   },
   "outputs": [],
   "source": [
    "X_input_list = [X_input[input_gp == gp] for gp in gp_list]\n",
    "Y_input_list = [Y_input[input_gp == gp] for gp in gp_list]\n",
    "X_output_list = [X_output[output_gp == gp] for gp in gp_list]\n",
    "if test_length:\n",
    "    Y_output_list = [Y_output[output_gp == gp] for gp in gp_list]"
   ]
  },
  {
   "cell_type": "markdown",
   "metadata": {
    "collapsed": true
   },
   "source": [
    "Z_input_list = [Z_input[input_gp == gp] for gp in gp_list]\n",
    "Z_output_list = [Z_output[output_gp == gp] for gp in gp_list]"
   ]
  },
  {
   "cell_type": "markdown",
   "metadata": {},
   "source": [
    "## Additional input for the neural network"
   ]
  },
  {
   "cell_type": "markdown",
   "metadata": {},
   "source": [
    "#Split center into group\n",
    "Y_input_center_list = [Y_input_center[input_gp == gp] for gp in gp_list]\n",
    "Y_output_center_list = [Y_output_center[output_gp == gp] for gp in gp_list]\n",
    "\n",
    "#Split scale into group\n",
    "input_scale_list = [input_scale[input_gp == gp] for gp in gp_list]\n",
    "output_scale_list = [output_scale[output_gp == gp] for gp in gp_list]"
   ]
  },
  {
   "cell_type": "markdown",
   "metadata": {},
   "source": [
    "input_scale_list[0].shape"
   ]
  },
  {
   "cell_type": "code",
   "execution_count": 76,
   "metadata": {},
   "outputs": [
    {
     "data": {
      "text/plain": [
       "((145063, 2), (145063, 2))"
      ]
     },
     "execution_count": 76,
     "metadata": {},
     "output_type": "execute_result"
    }
   ],
   "source": [
    "A_input = np.concatenate((Y_input_center, input_scale), axis=1)\n",
    "A_output = np.concatenate((Y_output_center, output_scale), axis=1); A_input.shape, A_output.shape"
   ]
  },
  {
   "cell_type": "code",
   "execution_count": 77,
   "metadata": {
    "collapsed": true
   },
   "outputs": [],
   "source": [
    "A_input_list = [A_input[input_gp == gp] for gp in gp_list]\n",
    "A_output_list = [A_output[output_gp == gp] for gp in gp_list]"
   ]
  },
  {
   "cell_type": "code",
   "execution_count": 78,
   "metadata": {},
   "outputs": [
    {
     "data": {
      "text/plain": [
       "2"
      ]
     },
     "execution_count": 78,
     "metadata": {},
     "output_type": "execute_result"
    }
   ],
   "source": [
    "a_length = len(A_input[0]); a_length"
   ]
  },
  {
   "cell_type": "markdown",
   "metadata": {},
   "source": [
    "## Dates that We don't evaluate their scores !!!!\n",
    "We modify Y_output_raw so that some of the dates won't be evaluated."
   ]
  },
  {
   "cell_type": "code",
   "execution_count": 79,
   "metadata": {},
   "outputs": [
    {
     "data": {
      "text/plain": [
       "1"
      ]
     },
     "execution_count": 79,
     "metadata": {},
     "output_type": "execute_result"
    }
   ],
   "source": [
    "y_eval_length = 63\n",
    "y_not_eval = y_length - y_eval_length  # number of days we don't evaluate their scores\n",
    "y_not_eval"
   ]
  },
  {
   "cell_type": "code",
   "execution_count": 80,
   "metadata": {
    "collapsed": true
   },
   "outputs": [],
   "source": [
    "if test_length and y_not_eval > 0:\n",
    "    Y_output_raw[:,:y_not_eval] = np.nan"
   ]
  },
  {
   "cell_type": "code",
   "execution_count": 81,
   "metadata": {},
   "outputs": [
    {
     "name": "stdout",
     "output_type": "stream",
     "text": [
      "63 63 64\n"
     ]
    }
   ],
   "source": [
    "if test_length and y_not_eval > 0:\n",
    "    print(np.sum(~np.isnan(Y_output_raw[0])), y_eval_length, y_length)"
   ]
  },
  {
   "cell_type": "code",
   "execution_count": 82,
   "metadata": {},
   "outputs": [
    {
     "name": "stdout",
     "output_type": "stream",
     "text": [
      "[[ nan  24.]\n",
      " [ nan  29.]]\n"
     ]
    }
   ],
   "source": [
    "if test_length and y_not_eval > 0:\n",
    "    print(Y_output_raw[0:2,y_not_eval-1:y_not_eval+1])"
   ]
  },
  {
   "cell_type": "markdown",
   "metadata": {},
   "source": [
    "## Neural Network?"
   ]
  },
  {
   "cell_type": "code",
   "execution_count": 83,
   "metadata": {},
   "outputs": [
    {
     "name": "stderr",
     "output_type": "stream",
     "text": [
      "Using TensorFlow backend.\n"
     ]
    }
   ],
   "source": [
    "import keras"
   ]
  },
  {
   "cell_type": "markdown",
   "metadata": {},
   "source": [
    "### SMAPE\n",
    "Symmetric mean absolute percentage error\n",
    "\n",
    "https://en.wikipedia.org/wiki/Symmetric_mean_absolute_percentage_error"
   ]
  },
  {
   "cell_type": "code",
   "execution_count": 84,
   "metadata": {
    "collapsed": true
   },
   "outputs": [],
   "source": [
    "import keras.backend as K\n",
    "\n",
    "def k_smape(y_true, y_pred):\n",
    "    '''Symmetric mean absolute percentage error for keras metric'''\n",
    "    diff = K.abs((y_true - y_pred) / K.clip(K.abs(y_true) + K.abs(y_pred),\n",
    "                                            K.epsilon(), None))\n",
    "    return 200. * K.mean(diff, axis=-1)"
   ]
  },
  {
   "cell_type": "code",
   "execution_count": 85,
   "metadata": {
    "collapsed": true
   },
   "outputs": [],
   "source": [
    "def smape(y_true, y_pred, axis=None):\n",
    "    '''Symmetric mean absolute percentage error'''\n",
    "    diff = np.abs((y_true - y_pred) / \n",
    "                  np.clip(np.abs(y_true) + np.abs(y_pred), np.float32(1e-07), None))\n",
    "    return np.float32(200.) * np.nanmean(diff, axis=axis)"
   ]
  },
  {
   "cell_type": "markdown",
   "metadata": {},
   "source": [
    "smape(np.array([0,1]),np.array([np.nan, 0])), smape(np.array([0]),np.array([0]))"
   ]
  },
  {
   "cell_type": "code",
   "execution_count": 86,
   "metadata": {},
   "outputs": [
    {
     "data": {
      "text/plain": [
       "(120.0162, 149.77086, 0.0)"
      ]
     },
     "execution_count": 86,
     "metadata": {},
     "output_type": "execute_result"
    }
   ],
   "source": [
    "# Benchmark SMAPE on the transformed data\n",
    "smape(Y_input[:,-x_length:],X_input), smape(Y_input[:,-x_length:], X_output), smape(Y_input,Y_input)"
   ]
  },
  {
   "cell_type": "code",
   "execution_count": 87,
   "metadata": {
    "scrolled": true
   },
   "outputs": [
    {
     "data": {
      "text/plain": [
       "(61.335037, 59.711819)"
      ]
     },
     "execution_count": 87,
     "metadata": {},
     "output_type": "execute_result"
    }
   ],
   "source": [
    "# Benchmark SMAPE on the original data\n",
    "smape(Y_input_raw[:,-x_length:],X_input_ori), smape(Y_input_ori[:,-x_length:],X_input_ori)"
   ]
  },
  {
   "cell_type": "code",
   "execution_count": 88,
   "metadata": {},
   "outputs": [
    {
     "name": "stdout",
     "output_type": "stream",
     "text": [
      "51.9105 144.198\n"
     ]
    }
   ],
   "source": [
    "if test_length: print(smape(Y_output_raw[:,-x_length:], X_output_ori), smape(Y_output[:,-x_length:], X_output))"
   ]
  },
  {
   "cell_type": "code",
   "execution_count": 89,
   "metadata": {},
   "outputs": [
    {
     "name": "stdout",
     "output_type": "stream",
     "text": [
      "48.403\n",
      "40.5522\n"
     ]
    }
   ],
   "source": [
    "print(smape(Y_input_raw, Y_input_fib))\n",
    "if test_length: print(smape(Y_output_raw, Y_output_fib))"
   ]
  },
  {
   "cell_type": "markdown",
   "metadata": {},
   "source": [
    "Doing better than the first two scores are better than simply copy and past the previous result."
   ]
  },
  {
   "cell_type": "markdown",
   "metadata": {},
   "source": [
    "### Neural Network Model\n",
    "With the flavor of convolutional neural network"
   ]
  },
  {
   "cell_type": "code",
   "execution_count": 90,
   "metadata": {
    "collapsed": true
   },
   "outputs": [],
   "source": [
    "from keras.models import Model\n",
    "from keras.layers import Dense, Dropout, Flatten\n",
    "from keras.layers import Input\n",
    "from keras.layers import Conv1D\n",
    "from keras.layers import Reshape\n",
    "from keras.layers import MaxPooling1D\n",
    "from keras.layers import AveragePooling1D\n",
    "from keras.layers import concatenate\n",
    "from keras.optimizers import Adam"
   ]
  },
  {
   "cell_type": "code",
   "execution_count": 200,
   "metadata": {
    "collapsed": true
   },
   "outputs": [],
   "source": [
    "from keras.models import load_model"
   ]
  },
  {
   "cell_type": "code",
   "execution_count": 91,
   "metadata": {
    "collapsed": true
   },
   "outputs": [],
   "source": [
    "n_ens = 3\n",
    "ens_list = list(range(n_ens))"
   ]
  },
  {
   "cell_type": "code",
   "execution_count": 205,
   "metadata": {
    "collapsed": true,
    "scrolled": true
   },
   "outputs": [],
   "source": [
    "#load model\n",
    "load_previous_models = False\n",
    "if load_previous_models:\n",
    "    models_ens = [[load_model('../models/' + model_name + '-' + str(run) + '-' + str(gp) +'.h5',\n",
    "                                custom_objects={'k_smape': k_smape})\n",
    "                   for gp in gp_list]\n",
    "                  for run in ens_list]"
   ]
  },
  {
   "cell_type": "markdown",
   "metadata": {},
   "source": [
    "Y_temp2 = models_ens_2[0][2].predict([X_output,A_output])\n",
    "Y_temp1 = models_ens[0][2].predict([X_output,A_output])\n",
    "(Y_temp1 == Y_temp2).all()"
   ]
  },
  {
   "cell_type": "code",
   "execution_count": 92,
   "metadata": {
    "scrolled": true
   },
   "outputs": [
    {
     "name": "stdout",
     "output_type": "stream",
     "text": [
      "Run 0: Group-0 Group-1 Group-2 Group-3 \n",
      "Run 1: Group-0 Group-1 Group-2 Group-3 \n",
      "Run 2: Group-0 Group-1 Group-2 Group-3 \n"
     ]
    }
   ],
   "source": [
    "#runbelow\n",
    "if not load_previous_models:\n",
    "    models_ens = []\n",
    "    for run in ens_list:\n",
    "        print('Run', run, end=': ')\n",
    "        models = []\n",
    "        for gp in gp_list:\n",
    "            print('Group-', gp, sep='', end=' ')\n",
    "            layer_0 = Input(shape=(x_length,), name='x_input')\n",
    "            layer_t = Reshape((-1, 1))(layer_0)\n",
    "            layer_t = Conv1D(120, kernel_size=3, activation='relu')(layer_t)\n",
    "            layer_t = AveragePooling1D(pool_size=2)(layer_t)\n",
    "            layer_cnn_x = Flatten()(layer_t)\n",
    "\n",
    "            layer_a = Input(shape=(a_length,), name='a_input')\n",
    "\n",
    "            #layer_z = Input(shape=(y_length,), name='z_input')\n",
    "            #layer_t = Reshape((-1, 1))(layer_0)\n",
    "            #layer_t = Conv1D(20, kernel_size=3, activation='relu')(layer_t)\n",
    "            #layer_t = AveragePooling1D(pool_size=2)(layer_t)\n",
    "            #layer_cnn_z = Flatten()(layer_t)\n",
    "\n",
    "            layer_t = concatenate([layer_cnn_x, layer_a])#, layer_cnn_z])\n",
    "\n",
    "            layer_t = Dense(120, activation='relu')(layer_t)\n",
    "            layer_t = Dropout(0.25)(layer_t)\n",
    "            layer_t = Dense(120, activation='relu')(layer_t)\n",
    "            layer_t = Dropout(0.5)(layer_t)\n",
    "            layer_f = Dense(y_length)(layer_t)\n",
    "\n",
    "            model = Model(inputs=[layer_0, layer_a], outputs=layer_f)\n",
    "            #model = Model(inputs=[layer_0, layer_a, layer_z], outputs=layer_f)\n",
    "            model.compile(optimizer='adam',\n",
    "                          loss='mean_absolute_error', metrics=[k_smape])\n",
    "            #model.summary()\n",
    "            models.append(model)\n",
    "        models_ens.append(models)\n",
    "        print('')"
   ]
  },
  {
   "cell_type": "code",
   "execution_count": 94,
   "metadata": {},
   "outputs": [
    {
     "name": "stdout",
     "output_type": "stream",
     "text": [
      "____________________________________________________________________________________________________\n",
      "Layer (type)                     Output Shape          Param #     Connected to                     \n",
      "====================================================================================================\n",
      "x_input (InputLayer)             (None, 64)            0                                            \n",
      "____________________________________________________________________________________________________\n",
      "reshape_12 (Reshape)             (None, 64, 1)         0           x_input[0][0]                    \n",
      "____________________________________________________________________________________________________\n",
      "conv1d_12 (Conv1D)               (None, 62, 120)       480         reshape_12[0][0]                 \n",
      "____________________________________________________________________________________________________\n",
      "average_pooling1d_12 (AveragePoo (None, 31, 120)       0           conv1d_12[0][0]                  \n",
      "____________________________________________________________________________________________________\n",
      "flatten_12 (Flatten)             (None, 3720)          0           average_pooling1d_12[0][0]       \n",
      "____________________________________________________________________________________________________\n",
      "a_input (InputLayer)             (None, 2)             0                                            \n",
      "____________________________________________________________________________________________________\n",
      "concatenate_12 (Concatenate)     (None, 3722)          0           flatten_12[0][0]                 \n",
      "                                                                   a_input[0][0]                    \n",
      "____________________________________________________________________________________________________\n",
      "dense_34 (Dense)                 (None, 120)           446760      concatenate_12[0][0]             \n",
      "____________________________________________________________________________________________________\n",
      "dropout_23 (Dropout)             (None, 120)           0           dense_34[0][0]                   \n",
      "____________________________________________________________________________________________________\n",
      "dense_35 (Dense)                 (None, 120)           14520       dropout_23[0][0]                 \n",
      "____________________________________________________________________________________________________\n",
      "dropout_24 (Dropout)             (None, 120)           0           dense_35[0][0]                   \n",
      "____________________________________________________________________________________________________\n",
      "dense_36 (Dense)                 (None, 64)            7744        dropout_24[0][0]                 \n",
      "====================================================================================================\n",
      "Total params: 469,504\n",
      "Trainable params: 469,504\n",
      "Non-trainable params: 0\n",
      "____________________________________________________________________________________________________\n"
     ]
    }
   ],
   "source": [
    "models_ens[-1][-1].summary()"
   ]
  },
  {
   "cell_type": "code",
   "execution_count": 93,
   "metadata": {},
   "outputs": [
    {
     "data": {
      "text/plain": [
       "(3, 4)"
      ]
     },
     "execution_count": 93,
     "metadata": {},
     "output_type": "execute_result"
    }
   ],
   "source": [
    "np.array(models_ens).shape"
   ]
  },
  {
   "cell_type": "code",
   "execution_count": 94,
   "metadata": {},
   "outputs": [
    {
     "data": {
      "text/plain": [
       "4"
      ]
     },
     "execution_count": 94,
     "metadata": {},
     "output_type": "execute_result"
    }
   ],
   "source": [
    "len(gp_list)"
   ]
  },
  {
   "cell_type": "code",
   "execution_count": 95,
   "metadata": {
    "collapsed": true
   },
   "outputs": [],
   "source": [
    "epochs_list = [0,40,40,60]  # change to smaller epochs later (1,1,20,40,60,80)"
   ]
  },
  {
   "cell_type": "code",
   "execution_count": 96,
   "metadata": {
    "scrolled": true
   },
   "outputs": [
    {
     "name": "stdout",
     "output_type": "stream",
     "text": [
      "=== Run: 1 / 3 ===\n",
      "--- Group: 1 / 4 ---\n",
      "Train on 22436 samples, validate on 2493 samples\n",
      "--- Group: 2 / 4 ---\n",
      "Train on 39320 samples, validate on 4369 samples\n",
      "Epoch 1/40\n",
      "8s - loss: 1.3351 - k_smape: 127.9537 - val_loss: 1.0943 - val_k_smape: 125.5449\n",
      "Epoch 2/40\n",
      "7s - loss: 1.2581 - k_smape: 118.6644 - val_loss: 1.0240 - val_k_smape: 115.5590\n",
      "Epoch 3/40\n",
      "7s - loss: 1.2347 - k_smape: 116.4182 - val_loss: 1.0383 - val_k_smape: 118.5696\n",
      "Epoch 4/40\n",
      "7s - loss: 1.2235 - k_smape: 116.0889 - val_loss: 1.0410 - val_k_smape: 119.0545\n",
      "Epoch 5/40\n",
      "7s - loss: 1.2140 - k_smape: 115.1639 - val_loss: 1.0417 - val_k_smape: 120.0879\n",
      "Epoch 6/40\n",
      "7s - loss: 1.2155 - k_smape: 114.9698 - val_loss: 1.0209 - val_k_smape: 116.4366\n",
      "Epoch 7/40\n",
      "7s - loss: 1.2133 - k_smape: 114.6788 - val_loss: 1.0198 - val_k_smape: 119.2684\n",
      "Epoch 8/40\n",
      "7s - loss: 1.2098 - k_smape: 114.6375 - val_loss: 1.0504 - val_k_smape: 115.8165\n",
      "Epoch 9/40\n",
      "7s - loss: 1.2071 - k_smape: 114.1941 - val_loss: 1.0501 - val_k_smape: 120.6517\n",
      "Epoch 10/40\n",
      "7s - loss: 1.2019 - k_smape: 114.1043 - val_loss: 1.0161 - val_k_smape: 116.3939\n",
      "Epoch 11/40\n",
      "7s - loss: 1.2016 - k_smape: 113.8722 - val_loss: 1.0469 - val_k_smape: 119.8018\n",
      "Epoch 12/40\n",
      "7s - loss: 1.1981 - k_smape: 113.5623 - val_loss: 1.0392 - val_k_smape: 118.1760\n",
      "Epoch 13/40\n",
      "7s - loss: 1.1885 - k_smape: 113.1572 - val_loss: 1.0232 - val_k_smape: 119.2051\n",
      "Epoch 14/40\n",
      "7s - loss: 1.1981 - k_smape: 113.3294 - val_loss: 1.0483 - val_k_smape: 117.7660\n",
      "Epoch 15/40\n",
      "7s - loss: 1.1905 - k_smape: 112.9886 - val_loss: 1.0371 - val_k_smape: 118.2014\n",
      "Epoch 16/40\n",
      "7s - loss: 1.1888 - k_smape: 112.9239 - val_loss: 1.0608 - val_k_smape: 118.7636\n",
      "Epoch 17/40\n",
      "7s - loss: 1.1879 - k_smape: 112.9257 - val_loss: 1.0438 - val_k_smape: 117.6765\n",
      "Epoch 18/40\n",
      "7s - loss: 1.1870 - k_smape: 112.7660 - val_loss: 1.0094 - val_k_smape: 116.0798\n",
      "Epoch 19/40\n",
      "7s - loss: 1.1851 - k_smape: 112.5859 - val_loss: 1.0428 - val_k_smape: 121.3085\n",
      "Epoch 20/40\n",
      "7s - loss: 1.1838 - k_smape: 112.3482 - val_loss: 1.0591 - val_k_smape: 119.3136\n",
      "Epoch 21/40\n",
      "7s - loss: 1.1840 - k_smape: 112.4674 - val_loss: 1.0526 - val_k_smape: 119.2716\n",
      "Epoch 22/40\n",
      "7s - loss: 1.1748 - k_smape: 112.0628 - val_loss: 1.0339 - val_k_smape: 117.2928\n",
      "Epoch 23/40\n",
      "7s - loss: 1.1769 - k_smape: 112.2325 - val_loss: 1.0533 - val_k_smape: 121.2703\n",
      "Epoch 24/40\n",
      "7s - loss: 1.1758 - k_smape: 112.0764 - val_loss: 1.0256 - val_k_smape: 117.7211\n",
      "Epoch 25/40\n",
      "7s - loss: 1.1765 - k_smape: 111.9518 - val_loss: 1.0357 - val_k_smape: 118.0290\n",
      "Epoch 26/40\n",
      "7s - loss: 1.1773 - k_smape: 111.9952 - val_loss: 1.0582 - val_k_smape: 122.5713\n",
      "Epoch 27/40\n",
      "7s - loss: 1.1695 - k_smape: 111.7687 - val_loss: 1.0635 - val_k_smape: 119.4230\n",
      "Epoch 28/40\n",
      "7s - loss: 1.1742 - k_smape: 111.7546 - val_loss: 1.0351 - val_k_smape: 117.7506\n",
      "Epoch 29/40\n",
      "7s - loss: 1.1680 - k_smape: 111.6800 - val_loss: 1.0336 - val_k_smape: 116.4661\n",
      "Epoch 30/40\n",
      "7s - loss: 1.1657 - k_smape: 111.5909 - val_loss: 1.0467 - val_k_smape: 117.0473\n",
      "Epoch 31/40\n",
      "7s - loss: 1.1638 - k_smape: 111.3523 - val_loss: 1.0316 - val_k_smape: 118.1643\n",
      "Epoch 32/40\n",
      "7s - loss: 1.1610 - k_smape: 111.3453 - val_loss: 1.0102 - val_k_smape: 116.5573\n",
      "Epoch 33/40\n",
      "7s - loss: 1.1703 - k_smape: 111.3413 - val_loss: 1.0215 - val_k_smape: 118.7425\n",
      "Epoch 34/40\n",
      "7s - loss: 1.1584 - k_smape: 111.2803 - val_loss: 1.0477 - val_k_smape: 119.0940\n",
      "Epoch 35/40\n",
      "7s - loss: 1.1626 - k_smape: 111.2759 - val_loss: 1.0405 - val_k_smape: 118.7451\n",
      "Epoch 36/40\n",
      "7s - loss: 1.1548 - k_smape: 110.8975 - val_loss: 1.0279 - val_k_smape: 116.9230\n",
      "Epoch 37/40\n",
      "7s - loss: 1.1501 - k_smape: 111.0187 - val_loss: 1.0542 - val_k_smape: 118.3242\n",
      "Epoch 38/40\n",
      "7s - loss: 1.1515 - k_smape: 110.7851 - val_loss: 1.0510 - val_k_smape: 119.5555\n",
      "Epoch 39/40\n",
      "7s - loss: 1.1519 - k_smape: 110.9215 - val_loss: 1.0522 - val_k_smape: 120.1775\n",
      "Epoch 40/40\n",
      "7s - loss: 1.1505 - k_smape: 110.9371 - val_loss: 1.0609 - val_k_smape: 119.8460\n",
      "--- Group: 3 / 4 ---\n",
      "Train on 68083 samples, validate on 7565 samples\n",
      "Epoch 1/40\n",
      "12s - loss: 1.3612 - k_smape: 109.4913 - val_loss: 1.1255 - val_k_smape: 106.4290\n",
      "Epoch 2/40\n",
      "12s - loss: 1.2651 - k_smape: 101.4898 - val_loss: 1.1169 - val_k_smape: 108.1749\n",
      "Epoch 3/40\n",
      "12s - loss: 1.2424 - k_smape: 100.0518 - val_loss: 1.1100 - val_k_smape: 108.4284\n",
      "Epoch 4/40\n",
      "12s - loss: 1.2257 - k_smape: 99.0578 - val_loss: 1.1116 - val_k_smape: 106.8567\n",
      "Epoch 5/40\n",
      "12s - loss: 1.2174 - k_smape: 98.3332 - val_loss: 1.0964 - val_k_smape: 105.7707\n",
      "Epoch 6/40\n",
      "12s - loss: 1.2168 - k_smape: 97.9833 - val_loss: 1.1331 - val_k_smape: 106.7109\n",
      "Epoch 7/40\n",
      "12s - loss: 1.2094 - k_smape: 97.7151 - val_loss: 1.0831 - val_k_smape: 104.8891\n",
      "Epoch 8/40\n",
      "12s - loss: 1.2067 - k_smape: 97.5205 - val_loss: 1.0903 - val_k_smape: 106.1642\n",
      "Epoch 9/40\n",
      "12s - loss: 1.2037 - k_smape: 97.3545 - val_loss: 1.0884 - val_k_smape: 105.0128\n",
      "Epoch 10/40\n",
      "12s - loss: 1.1989 - k_smape: 96.8740 - val_loss: 1.1189 - val_k_smape: 107.2366\n",
      "Epoch 11/40\n",
      "12s - loss: 1.1952 - k_smape: 97.0496 - val_loss: 1.0955 - val_k_smape: 105.1419\n",
      "Epoch 12/40\n",
      "12s - loss: 1.1948 - k_smape: 96.7543 - val_loss: 1.0881 - val_k_smape: 104.8544\n",
      "Epoch 13/40\n",
      "12s - loss: 1.1903 - k_smape: 96.6622 - val_loss: 1.0875 - val_k_smape: 106.3097\n",
      "Epoch 14/40\n",
      "12s - loss: 1.1913 - k_smape: 96.5609 - val_loss: 1.1347 - val_k_smape: 109.5874\n",
      "Epoch 15/40\n",
      "12s - loss: 1.1929 - k_smape: 96.5153 - val_loss: 1.1389 - val_k_smape: 107.4273\n",
      "Epoch 16/40\n",
      "12s - loss: 1.1884 - k_smape: 96.4012 - val_loss: 1.1002 - val_k_smape: 105.1361\n",
      "Epoch 17/40\n",
      "12s - loss: 1.1815 - k_smape: 96.1207 - val_loss: 1.1426 - val_k_smape: 106.4935\n",
      "Epoch 18/40\n",
      "12s - loss: 1.1831 - k_smape: 96.0230 - val_loss: 1.0910 - val_k_smape: 105.0340\n",
      "Epoch 19/40\n",
      "12s - loss: 1.1779 - k_smape: 95.8146 - val_loss: 1.0846 - val_k_smape: 104.5065\n",
      "Epoch 20/40\n",
      "12s - loss: 1.1767 - k_smape: 95.7791 - val_loss: 1.0747 - val_k_smape: 104.3755\n",
      "Epoch 21/40\n",
      "12s - loss: 1.1743 - k_smape: 95.7625 - val_loss: 1.1148 - val_k_smape: 105.0198\n",
      "Epoch 22/40\n",
      "12s - loss: 1.1726 - k_smape: 95.7291 - val_loss: 1.1128 - val_k_smape: 105.3181\n",
      "Epoch 23/40\n",
      "12s - loss: 1.1719 - k_smape: 95.5844 - val_loss: 1.0835 - val_k_smape: 105.5448\n",
      "Epoch 24/40\n",
      "12s - loss: 1.1703 - k_smape: 95.4920 - val_loss: 1.0775 - val_k_smape: 105.1739\n",
      "Epoch 25/40\n",
      "12s - loss: 1.1675 - k_smape: 95.4935 - val_loss: 1.0817 - val_k_smape: 104.7284\n",
      "Epoch 26/40\n",
      "12s - loss: 1.1656 - k_smape: 95.4943 - val_loss: 1.0901 - val_k_smape: 104.6182\n",
      "Epoch 27/40\n",
      "12s - loss: 1.1650 - k_smape: 95.2646 - val_loss: 1.1076 - val_k_smape: 105.6697\n",
      "Epoch 28/40\n",
      "12s - loss: 1.1630 - k_smape: 95.2807 - val_loss: 1.0809 - val_k_smape: 104.6479\n",
      "Epoch 29/40\n",
      "12s - loss: 1.1618 - k_smape: 95.1728 - val_loss: 1.0917 - val_k_smape: 105.4377\n",
      "Epoch 30/40\n",
      "12s - loss: 1.1603 - k_smape: 95.0796 - val_loss: 1.0757 - val_k_smape: 104.1995\n",
      "Epoch 31/40\n",
      "12s - loss: 1.1594 - k_smape: 95.0330 - val_loss: 1.0890 - val_k_smape: 104.5824\n",
      "Epoch 32/40\n",
      "12s - loss: 1.1575 - k_smape: 94.9942 - val_loss: 1.0849 - val_k_smape: 105.3471\n",
      "Epoch 33/40\n",
      "12s - loss: 1.1558 - k_smape: 94.7759 - val_loss: 1.0862 - val_k_smape: 104.5638\n",
      "Epoch 34/40\n",
      "12s - loss: 1.1535 - k_smape: 94.7412 - val_loss: 1.0778 - val_k_smape: 104.1775\n",
      "Epoch 35/40\n",
      "12s - loss: 1.1594 - k_smape: 94.8397 - val_loss: 1.0886 - val_k_smape: 105.0632\n",
      "Epoch 36/40\n",
      "12s - loss: 1.1527 - k_smape: 94.6599 - val_loss: 1.0585 - val_k_smape: 104.3923\n",
      "Epoch 37/40\n",
      "12s - loss: 1.1522 - k_smape: 94.6217 - val_loss: 1.0637 - val_k_smape: 104.2405\n",
      "Epoch 38/40\n",
      "12s - loss: 1.1467 - k_smape: 94.5584 - val_loss: 1.0848 - val_k_smape: 104.8478\n",
      "Epoch 39/40\n",
      "12s - loss: 1.1465 - k_smape: 94.4910 - val_loss: 1.1176 - val_k_smape: 106.7324\n",
      "Epoch 40/40\n",
      "12s - loss: 1.1487 - k_smape: 94.6111 - val_loss: 1.1037 - val_k_smape: 104.9738\n",
      "--- Group: 4 / 4 ---\n",
      "Train on 717 samples, validate on 80 samples\n",
      "Epoch 1/60\n",
      "0s - loss: 3.0226 - k_smape: 155.7926 - val_loss: 3.7604 - val_k_smape: 140.8324\n",
      "Epoch 2/60\n",
      "0s - loss: 2.6631 - k_smape: 136.8590 - val_loss: 3.7354 - val_k_smape: 136.8705\n",
      "Epoch 3/60\n",
      "0s - loss: 2.4577 - k_smape: 129.4549 - val_loss: 3.0206 - val_k_smape: 121.3597\n",
      "Epoch 4/60\n",
      "0s - loss: 2.2891 - k_smape: 123.5363 - val_loss: 3.2258 - val_k_smape: 121.5355\n",
      "Epoch 5/60\n",
      "0s - loss: 2.1624 - k_smape: 119.9526 - val_loss: 2.5134 - val_k_smape: 108.5705\n",
      "Epoch 6/60\n",
      "0s - loss: 2.0830 - k_smape: 111.7545 - val_loss: 2.8914 - val_k_smape: 111.9097\n",
      "Epoch 7/60\n"
     ]
    },
    {
     "name": "stdout",
     "output_type": "stream",
     "text": [
      "0s - loss: 2.0450 - k_smape: 112.3425 - val_loss: 2.0537 - val_k_smape: 98.4641\n",
      "Epoch 8/60\n",
      "0s - loss: 1.9586 - k_smape: 105.2385 - val_loss: 2.7092 - val_k_smape: 105.3918\n",
      "Epoch 9/60\n",
      "0s - loss: 1.8682 - k_smape: 106.5319 - val_loss: 1.8784 - val_k_smape: 93.3113\n",
      "Epoch 10/60\n",
      "0s - loss: 1.8844 - k_smape: 101.8462 - val_loss: 2.4585 - val_k_smape: 103.9788\n",
      "Epoch 11/60\n",
      "0s - loss: 1.8474 - k_smape: 104.6307 - val_loss: 1.7081 - val_k_smape: 87.9588\n",
      "Epoch 12/60\n",
      "0s - loss: 1.7694 - k_smape: 98.4376 - val_loss: 2.5401 - val_k_smape: 99.9367\n",
      "Epoch 13/60\n",
      "0s - loss: 1.7844 - k_smape: 100.3210 - val_loss: 1.8062 - val_k_smape: 90.1333\n",
      "Epoch 14/60\n",
      "0s - loss: 1.7751 - k_smape: 97.0731 - val_loss: 1.7060 - val_k_smape: 86.4509\n",
      "Epoch 15/60\n",
      "0s - loss: 1.7609 - k_smape: 94.1185 - val_loss: 2.2629 - val_k_smape: 96.9770\n",
      "Epoch 16/60\n",
      "0s - loss: 1.7310 - k_smape: 98.9773 - val_loss: 1.5865 - val_k_smape: 86.4147\n",
      "Epoch 17/60\n",
      "0s - loss: 1.7410 - k_smape: 95.1510 - val_loss: 2.1837 - val_k_smape: 90.0297\n",
      "Epoch 18/60\n",
      "0s - loss: 1.7198 - k_smape: 93.1121 - val_loss: 1.4955 - val_k_smape: 84.0895\n",
      "Epoch 19/60\n",
      "0s - loss: 1.6384 - k_smape: 93.1329 - val_loss: 2.0164 - val_k_smape: 90.8688\n",
      "Epoch 20/60\n",
      "0s - loss: 1.6141 - k_smape: 91.5641 - val_loss: 1.4981 - val_k_smape: 84.3539\n",
      "Epoch 21/60\n",
      "0s - loss: 1.6203 - k_smape: 92.4042 - val_loss: 1.8439 - val_k_smape: 87.8333\n",
      "Epoch 22/60\n",
      "0s - loss: 1.6406 - k_smape: 90.3922 - val_loss: 1.6385 - val_k_smape: 86.7104\n",
      "Epoch 23/60\n",
      "0s - loss: 1.5620 - k_smape: 90.9292 - val_loss: 1.5491 - val_k_smape: 81.7770\n",
      "Epoch 24/60\n",
      "0s - loss: 1.5703 - k_smape: 86.5383 - val_loss: 1.8515 - val_k_smape: 87.6379\n",
      "Epoch 25/60\n",
      "0s - loss: 1.5600 - k_smape: 90.3678 - val_loss: 1.5384 - val_k_smape: 82.1105\n",
      "Epoch 26/60\n",
      "0s - loss: 1.5480 - k_smape: 87.0229 - val_loss: 1.7918 - val_k_smape: 85.4755\n",
      "Epoch 27/60\n",
      "0s - loss: 1.5344 - k_smape: 88.2019 - val_loss: 1.4976 - val_k_smape: 83.3180\n",
      "Epoch 28/60\n",
      "0s - loss: 1.5552 - k_smape: 87.1588 - val_loss: 1.4114 - val_k_smape: 80.5339\n",
      "Epoch 29/60\n",
      "0s - loss: 1.5693 - k_smape: 87.2343 - val_loss: 1.7653 - val_k_smape: 84.8871\n",
      "Epoch 30/60\n",
      "0s - loss: 1.5381 - k_smape: 86.3087 - val_loss: 1.4035 - val_k_smape: 80.7801\n",
      "Epoch 31/60\n",
      "0s - loss: 1.5025 - k_smape: 87.5380 - val_loss: 1.6598 - val_k_smape: 84.3232\n",
      "Epoch 32/60\n",
      "0s - loss: 1.4899 - k_smape: 86.0486 - val_loss: 1.6597 - val_k_smape: 82.0414\n",
      "Epoch 33/60\n",
      "0s - loss: 1.4780 - k_smape: 85.4648 - val_loss: 1.5709 - val_k_smape: 82.9530\n",
      "Epoch 34/60\n",
      "0s - loss: 1.4966 - k_smape: 84.8039 - val_loss: 1.6290 - val_k_smape: 84.5864\n",
      "Epoch 35/60\n",
      "0s - loss: 1.4680 - k_smape: 85.6725 - val_loss: 1.7580 - val_k_smape: 86.0510\n",
      "Epoch 36/60\n",
      "0s - loss: 1.4018 - k_smape: 83.7464 - val_loss: 1.6623 - val_k_smape: 81.9175\n",
      "Epoch 37/60\n",
      "0s - loss: 1.4334 - k_smape: 82.1609 - val_loss: 1.4147 - val_k_smape: 80.4702\n",
      "Epoch 38/60\n",
      "0s - loss: 1.4615 - k_smape: 83.0687 - val_loss: 1.5031 - val_k_smape: 83.2257\n",
      "Epoch 39/60\n",
      "0s - loss: 1.4468 - k_smape: 83.6530 - val_loss: 1.4741 - val_k_smape: 83.8503\n",
      "Epoch 40/60\n",
      "0s - loss: 1.4806 - k_smape: 83.6180 - val_loss: 1.4156 - val_k_smape: 78.5185\n",
      "Epoch 41/60\n",
      "0s - loss: 1.4210 - k_smape: 83.8267 - val_loss: 1.4565 - val_k_smape: 82.9910\n",
      "Epoch 42/60\n",
      "0s - loss: 1.4502 - k_smape: 84.0454 - val_loss: 1.6890 - val_k_smape: 84.6724\n",
      "Epoch 43/60\n",
      "0s - loss: 1.4498 - k_smape: 83.4434 - val_loss: 1.6795 - val_k_smape: 86.2845\n",
      "Epoch 44/60\n",
      "0s - loss: 1.4081 - k_smape: 83.5042 - val_loss: 1.6716 - val_k_smape: 83.3552\n",
      "Epoch 45/60\n",
      "0s - loss: 1.4140 - k_smape: 80.8753 - val_loss: 1.3447 - val_k_smape: 80.3741\n",
      "Epoch 46/60\n",
      "0s - loss: 1.4089 - k_smape: 81.9794 - val_loss: 1.6581 - val_k_smape: 81.8399\n",
      "Epoch 47/60\n",
      "0s - loss: 1.3655 - k_smape: 79.7499 - val_loss: 1.4401 - val_k_smape: 80.0023\n",
      "Epoch 48/60\n",
      "0s - loss: 1.3806 - k_smape: 82.5546 - val_loss: 1.3734 - val_k_smape: 80.2390\n",
      "Epoch 49/60\n",
      "0s - loss: 1.3914 - k_smape: 80.2883 - val_loss: 1.3627 - val_k_smape: 78.0672\n",
      "Epoch 50/60\n",
      "0s - loss: 1.4082 - k_smape: 79.3701 - val_loss: 1.8968 - val_k_smape: 84.4663\n",
      "Epoch 51/60\n",
      "0s - loss: 1.4835 - k_smape: 81.0873 - val_loss: 1.4717 - val_k_smape: 83.7383\n",
      "Epoch 52/60\n",
      "0s - loss: 1.4278 - k_smape: 84.4294 - val_loss: 1.6464 - val_k_smape: 85.7611\n",
      "Epoch 53/60\n",
      "0s - loss: 1.3735 - k_smape: 81.4832 - val_loss: 1.4475 - val_k_smape: 80.3638\n",
      "Epoch 54/60\n",
      "0s - loss: 1.4110 - k_smape: 80.4498 - val_loss: 1.3428 - val_k_smape: 80.8954\n",
      "Epoch 55/60\n",
      "0s - loss: 1.3949 - k_smape: 80.9357 - val_loss: 1.3844 - val_k_smape: 79.9539\n",
      "Epoch 56/60\n",
      "0s - loss: 1.3392 - k_smape: 79.7970 - val_loss: 1.3616 - val_k_smape: 79.5472\n",
      "Epoch 57/60\n",
      "0s - loss: 1.3546 - k_smape: 79.0952 - val_loss: 1.5328 - val_k_smape: 81.5037\n",
      "Epoch 58/60\n",
      "0s - loss: 1.4319 - k_smape: 79.4674 - val_loss: 1.5413 - val_k_smape: 81.0133\n",
      "Epoch 59/60\n",
      "0s - loss: 1.3274 - k_smape: 78.2171 - val_loss: 1.7327 - val_k_smape: 80.8300\n",
      "Epoch 60/60\n",
      "0s - loss: 1.3754 - k_smape: 78.8098 - val_loss: 1.3427 - val_k_smape: 79.3646\n",
      "=== Run: 2 / 3 ===\n",
      "--- Group: 1 / 4 ---\n",
      "Train on 22436 samples, validate on 2493 samples\n",
      "--- Group: 2 / 4 ---\n",
      "Train on 39320 samples, validate on 4369 samples\n",
      "Epoch 1/40\n",
      "7s - loss: 1.3335 - k_smape: 127.9123 - val_loss: 1.0727 - val_k_smape: 123.8548\n",
      "Epoch 2/40\n",
      "7s - loss: 1.2512 - k_smape: 118.7905 - val_loss: 1.0535 - val_k_smape: 120.0261\n",
      "Epoch 3/40\n",
      "7s - loss: 1.2339 - k_smape: 116.6535 - val_loss: 1.0207 - val_k_smape: 118.8326\n",
      "Epoch 4/40\n",
      "7s - loss: 1.2232 - k_smape: 115.8350 - val_loss: 1.0174 - val_k_smape: 117.7559\n",
      "Epoch 5/40\n",
      "7s - loss: 1.2205 - k_smape: 115.1995 - val_loss: 1.0522 - val_k_smape: 124.3405\n",
      "Epoch 6/40\n",
      "7s - loss: 1.2178 - k_smape: 114.7813 - val_loss: 1.0184 - val_k_smape: 115.9267\n",
      "Epoch 7/40\n",
      "7s - loss: 1.2089 - k_smape: 114.1879 - val_loss: 1.0229 - val_k_smape: 117.5351\n",
      "Epoch 8/40\n",
      "7s - loss: 1.2203 - k_smape: 114.6845 - val_loss: 1.0125 - val_k_smape: 117.1700\n",
      "Epoch 9/40\n",
      "7s - loss: 1.2005 - k_smape: 113.9937 - val_loss: 1.0435 - val_k_smape: 118.7474\n",
      "Epoch 10/40\n",
      "7s - loss: 1.2015 - k_smape: 113.4654 - val_loss: 1.0182 - val_k_smape: 117.5690\n",
      "Epoch 11/40\n",
      "7s - loss: 1.1962 - k_smape: 113.4519 - val_loss: 1.0084 - val_k_smape: 116.9696\n",
      "Epoch 12/40\n",
      "7s - loss: 1.1946 - k_smape: 113.1896 - val_loss: 1.0470 - val_k_smape: 122.0401\n",
      "Epoch 13/40\n",
      "7s - loss: 1.1945 - k_smape: 112.9637 - val_loss: 1.0282 - val_k_smape: 117.6256\n",
      "Epoch 14/40\n",
      "7s - loss: 1.1950 - k_smape: 112.9378 - val_loss: 1.0198 - val_k_smape: 115.5083\n",
      "Epoch 15/40\n",
      "7s - loss: 1.1908 - k_smape: 112.5470 - val_loss: 1.0730 - val_k_smape: 122.1572\n",
      "Epoch 16/40\n",
      "7s - loss: 1.1868 - k_smape: 112.6767 - val_loss: 1.0295 - val_k_smape: 117.1439\n",
      "Epoch 17/40\n",
      "7s - loss: 1.1885 - k_smape: 112.2822 - val_loss: 1.0402 - val_k_smape: 119.6833\n",
      "Epoch 18/40\n",
      "7s - loss: 1.1849 - k_smape: 112.3813 - val_loss: 1.0739 - val_k_smape: 123.9346\n",
      "Epoch 19/40\n",
      "7s - loss: 1.1877 - k_smape: 112.4080 - val_loss: 1.0492 - val_k_smape: 119.8582\n",
      "Epoch 20/40\n",
      "7s - loss: 1.1804 - k_smape: 112.0514 - val_loss: 1.0342 - val_k_smape: 118.2467\n",
      "Epoch 21/40\n",
      "7s - loss: 1.1790 - k_smape: 112.1471 - val_loss: 1.0387 - val_k_smape: 118.0639\n",
      "Epoch 22/40\n",
      "7s - loss: 1.1779 - k_smape: 111.9467 - val_loss: 1.0239 - val_k_smape: 117.6589\n",
      "Epoch 23/40\n",
      "7s - loss: 1.1782 - k_smape: 111.8325 - val_loss: 1.0343 - val_k_smape: 116.3637\n",
      "Epoch 24/40\n",
      "7s - loss: 1.1772 - k_smape: 111.7863 - val_loss: 1.0342 - val_k_smape: 115.8706\n",
      "Epoch 25/40\n",
      "7s - loss: 1.1718 - k_smape: 111.5895 - val_loss: 1.0173 - val_k_smape: 115.6114\n",
      "Epoch 26/40\n",
      "7s - loss: 1.1693 - k_smape: 111.6295 - val_loss: 1.0165 - val_k_smape: 116.4579\n",
      "Epoch 27/40\n",
      "7s - loss: 1.1732 - k_smape: 111.2437 - val_loss: 1.0599 - val_k_smape: 120.8689\n",
      "Epoch 28/40\n",
      "7s - loss: 1.1676 - k_smape: 111.4787 - val_loss: 1.0161 - val_k_smape: 114.1649\n",
      "Epoch 29/40\n",
      "7s - loss: 1.1703 - k_smape: 111.3692 - val_loss: 1.0589 - val_k_smape: 120.7493\n",
      "Epoch 30/40\n",
      "7s - loss: 1.1617 - k_smape: 111.1332 - val_loss: 1.0557 - val_k_smape: 121.0796\n",
      "Epoch 31/40\n",
      "7s - loss: 1.1648 - k_smape: 111.3251 - val_loss: 1.0239 - val_k_smape: 116.8633\n",
      "Epoch 32/40\n",
      "7s - loss: 1.1598 - k_smape: 111.2546 - val_loss: 1.0097 - val_k_smape: 116.5984\n",
      "Epoch 33/40\n",
      "7s - loss: 1.1566 - k_smape: 110.9472 - val_loss: 1.0313 - val_k_smape: 117.2413\n",
      "Epoch 34/40\n",
      "7s - loss: 1.1569 - k_smape: 110.9988 - val_loss: 1.0226 - val_k_smape: 117.3540\n",
      "Epoch 35/40\n"
     ]
    },
    {
     "name": "stdout",
     "output_type": "stream",
     "text": [
      "7s - loss: 1.1556 - k_smape: 110.8687 - val_loss: 1.0316 - val_k_smape: 119.3247\n",
      "Epoch 36/40\n",
      "7s - loss: 1.1528 - k_smape: 110.8083 - val_loss: 1.0169 - val_k_smape: 116.8329\n",
      "Epoch 37/40\n",
      "7s - loss: 1.1522 - k_smape: 111.0098 - val_loss: 1.0409 - val_k_smape: 117.6131\n",
      "Epoch 38/40\n",
      "7s - loss: 1.1491 - k_smape: 110.5271 - val_loss: 1.0264 - val_k_smape: 116.6346\n",
      "Epoch 39/40\n",
      "7s - loss: 1.1498 - k_smape: 110.7018 - val_loss: 1.0603 - val_k_smape: 119.3436\n",
      "Epoch 40/40\n",
      "7s - loss: 1.1477 - k_smape: 110.6213 - val_loss: 1.0344 - val_k_smape: 117.8628\n",
      "--- Group: 3 / 4 ---\n",
      "Train on 68083 samples, validate on 7565 samples\n",
      "Epoch 1/40\n",
      "12s - loss: 1.3649 - k_smape: 109.6230 - val_loss: 1.1469 - val_k_smape: 108.4233\n",
      "Epoch 2/40\n",
      "12s - loss: 1.2612 - k_smape: 101.1288 - val_loss: 1.1155 - val_k_smape: 107.3473\n",
      "Epoch 3/40\n",
      "12s - loss: 1.2397 - k_smape: 99.7505 - val_loss: 1.1456 - val_k_smape: 108.3172\n",
      "Epoch 4/40\n",
      "12s - loss: 1.2307 - k_smape: 98.9593 - val_loss: 1.1431 - val_k_smape: 107.1740\n",
      "Epoch 5/40\n",
      "12s - loss: 1.2223 - k_smape: 98.2206 - val_loss: 1.0912 - val_k_smape: 105.1797\n",
      "Epoch 6/40\n",
      "12s - loss: 1.2156 - k_smape: 97.9071 - val_loss: 1.0818 - val_k_smape: 103.7116\n",
      "Epoch 7/40\n",
      "12s - loss: 1.2123 - k_smape: 97.4735 - val_loss: 1.1071 - val_k_smape: 107.2639\n",
      "Epoch 8/40\n",
      "12s - loss: 1.2098 - k_smape: 97.3793 - val_loss: 1.0853 - val_k_smape: 103.7894\n",
      "Epoch 9/40\n",
      "12s - loss: 1.2054 - k_smape: 96.9522 - val_loss: 1.1180 - val_k_smape: 106.2145\n",
      "Epoch 10/40\n",
      "12s - loss: 1.2030 - k_smape: 96.7475 - val_loss: 1.0935 - val_k_smape: 105.1604\n",
      "Epoch 11/40\n",
      "12s - loss: 1.2016 - k_smape: 96.7692 - val_loss: 1.1282 - val_k_smape: 104.7837\n",
      "Epoch 12/40\n",
      "12s - loss: 1.1958 - k_smape: 96.5430 - val_loss: 1.0964 - val_k_smape: 104.8014\n",
      "Epoch 13/40\n",
      "12s - loss: 1.1967 - k_smape: 96.5020 - val_loss: 1.1351 - val_k_smape: 106.3996\n",
      "Epoch 14/40\n",
      "12s - loss: 1.1915 - k_smape: 96.2722 - val_loss: 1.1116 - val_k_smape: 105.9607\n",
      "Epoch 15/40\n",
      "12s - loss: 1.1888 - k_smape: 96.1738 - val_loss: 1.1073 - val_k_smape: 104.4912\n",
      "Epoch 16/40\n",
      "12s - loss: 1.1854 - k_smape: 96.1492 - val_loss: 1.0860 - val_k_smape: 104.9056\n",
      "Epoch 17/40\n",
      "12s - loss: 1.1857 - k_smape: 96.0153 - val_loss: 1.1109 - val_k_smape: 105.0863\n",
      "Epoch 18/40\n",
      "12s - loss: 1.1806 - k_smape: 95.7649 - val_loss: 1.0968 - val_k_smape: 104.1033\n",
      "Epoch 19/40\n",
      "12s - loss: 1.1783 - k_smape: 95.7539 - val_loss: 1.0935 - val_k_smape: 105.6093\n",
      "Epoch 20/40\n",
      "12s - loss: 1.1776 - k_smape: 95.6359 - val_loss: 1.1084 - val_k_smape: 105.5001\n",
      "Epoch 21/40\n",
      "12s - loss: 1.1793 - k_smape: 95.5965 - val_loss: 1.0849 - val_k_smape: 105.0345\n",
      "Epoch 22/40\n",
      "12s - loss: 1.1723 - k_smape: 95.5996 - val_loss: 1.0928 - val_k_smape: 104.9586\n",
      "Epoch 23/40\n",
      "12s - loss: 1.1730 - k_smape: 95.3593 - val_loss: 1.0944 - val_k_smape: 104.0347\n",
      "Epoch 24/40\n",
      "12s - loss: 1.1661 - k_smape: 95.1901 - val_loss: 1.1084 - val_k_smape: 106.2084\n",
      "Epoch 25/40\n",
      "12s - loss: 1.1670 - k_smape: 95.2873 - val_loss: 1.1209 - val_k_smape: 105.6135\n",
      "Epoch 26/40\n",
      "12s - loss: 1.1656 - k_smape: 95.0799 - val_loss: 1.1059 - val_k_smape: 105.1954\n",
      "Epoch 27/40\n",
      "12s - loss: 1.1659 - k_smape: 95.1138 - val_loss: 1.1007 - val_k_smape: 105.1445\n",
      "Epoch 28/40\n",
      "12s - loss: 1.1642 - k_smape: 95.0890 - val_loss: 1.1046 - val_k_smape: 103.5544\n",
      "Epoch 29/40\n",
      "12s - loss: 1.1573 - k_smape: 94.8231 - val_loss: 1.0940 - val_k_smape: 105.1620\n",
      "Epoch 30/40\n",
      "12s - loss: 1.1596 - k_smape: 94.8539 - val_loss: 1.1047 - val_k_smape: 104.1662\n",
      "Epoch 31/40\n",
      "12s - loss: 1.1555 - k_smape: 94.7171 - val_loss: 1.1007 - val_k_smape: 104.5939\n",
      "Epoch 32/40\n",
      "12s - loss: 1.1548 - k_smape: 94.6543 - val_loss: 1.1017 - val_k_smape: 105.2171\n",
      "Epoch 33/40\n",
      "12s - loss: 1.1564 - k_smape: 94.7781 - val_loss: 1.0862 - val_k_smape: 103.6790\n",
      "Epoch 34/40\n",
      "12s - loss: 1.1506 - k_smape: 94.5370 - val_loss: 1.0876 - val_k_smape: 104.3467\n",
      "Epoch 35/40\n",
      "12s - loss: 1.1509 - k_smape: 94.5364 - val_loss: 1.0928 - val_k_smape: 105.1942\n",
      "Epoch 36/40\n",
      "12s - loss: 1.1503 - k_smape: 94.5247 - val_loss: 1.1025 - val_k_smape: 103.9104\n",
      "Epoch 37/40\n",
      "12s - loss: 1.1465 - k_smape: 94.4364 - val_loss: 1.0743 - val_k_smape: 104.9153\n",
      "Epoch 38/40\n",
      "12s - loss: 1.1510 - k_smape: 94.3574 - val_loss: 1.1398 - val_k_smape: 107.9782\n",
      "Epoch 39/40\n",
      "12s - loss: 1.1469 - k_smape: 94.4253 - val_loss: 1.1112 - val_k_smape: 105.5887\n",
      "Epoch 40/40\n",
      "12s - loss: 1.1439 - k_smape: 94.1262 - val_loss: 1.0798 - val_k_smape: 103.2247\n",
      "--- Group: 4 / 4 ---\n",
      "Train on 717 samples, validate on 80 samples\n",
      "Epoch 1/60\n",
      "0s - loss: 3.0739 - k_smape: 153.1203 - val_loss: 3.7659 - val_k_smape: 138.7168\n",
      "Epoch 2/60\n",
      "0s - loss: 2.6483 - k_smape: 136.7382 - val_loss: 3.6480 - val_k_smape: 135.0913\n",
      "Epoch 3/60\n",
      "0s - loss: 2.4438 - k_smape: 128.6963 - val_loss: 3.1134 - val_k_smape: 121.7010\n",
      "Epoch 4/60\n",
      "0s - loss: 2.2571 - k_smape: 122.9552 - val_loss: 2.9152 - val_k_smape: 115.8702\n",
      "Epoch 5/60\n",
      "0s - loss: 2.1547 - k_smape: 117.1397 - val_loss: 2.7416 - val_k_smape: 113.2899\n",
      "Epoch 6/60\n",
      "0s - loss: 2.0247 - k_smape: 113.0022 - val_loss: 2.5904 - val_k_smape: 108.4610\n",
      "Epoch 7/60\n",
      "0s - loss: 1.9590 - k_smape: 108.6356 - val_loss: 2.4417 - val_k_smape: 105.0223\n",
      "Epoch 8/60\n",
      "0s - loss: 1.8971 - k_smape: 105.9429 - val_loss: 2.0618 - val_k_smape: 98.6355\n",
      "Epoch 9/60\n",
      "0s - loss: 1.8542 - k_smape: 104.8745 - val_loss: 1.9199 - val_k_smape: 97.7087\n",
      "Epoch 10/60\n",
      "0s - loss: 1.8278 - k_smape: 103.0279 - val_loss: 2.2227 - val_k_smape: 97.9398\n",
      "Epoch 11/60\n",
      "0s - loss: 1.8497 - k_smape: 99.7057 - val_loss: 2.3013 - val_k_smape: 99.8675\n",
      "Epoch 12/60\n",
      "0s - loss: 1.8180 - k_smape: 102.9048 - val_loss: 1.7539 - val_k_smape: 89.3800\n",
      "Epoch 13/60\n",
      "0s - loss: 1.7946 - k_smape: 98.2366 - val_loss: 2.2362 - val_k_smape: 98.6920\n",
      "Epoch 14/60\n",
      "0s - loss: 1.7353 - k_smape: 98.5701 - val_loss: 1.6531 - val_k_smape: 88.2614\n",
      "Epoch 15/60\n",
      "0s - loss: 1.7123 - k_smape: 96.9943 - val_loss: 2.2329 - val_k_smape: 94.4950\n",
      "Epoch 16/60\n",
      "0s - loss: 1.6921 - k_smape: 94.8391 - val_loss: 1.7444 - val_k_smape: 87.3512\n",
      "Epoch 17/60\n",
      "0s - loss: 1.6572 - k_smape: 94.5609 - val_loss: 2.0445 - val_k_smape: 91.0588\n",
      "Epoch 18/60\n",
      "0s - loss: 1.6448 - k_smape: 92.8062 - val_loss: 1.6719 - val_k_smape: 86.4637\n",
      "Epoch 19/60\n",
      "0s - loss: 1.6700 - k_smape: 94.4371 - val_loss: 1.6437 - val_k_smape: 85.5747\n",
      "Epoch 20/60\n",
      "0s - loss: 1.6159 - k_smape: 90.0908 - val_loss: 1.6200 - val_k_smape: 86.1080\n",
      "Epoch 21/60\n",
      "0s - loss: 1.5909 - k_smape: 91.4899 - val_loss: 1.6072 - val_k_smape: 83.4295\n",
      "Epoch 22/60\n",
      "0s - loss: 1.5932 - k_smape: 89.7311 - val_loss: 1.7911 - val_k_smape: 86.7906\n",
      "Epoch 23/60\n",
      "0s - loss: 1.5438 - k_smape: 89.0851 - val_loss: 1.5780 - val_k_smape: 85.5016\n",
      "Epoch 24/60\n",
      "0s - loss: 1.5510 - k_smape: 89.8908 - val_loss: 1.6787 - val_k_smape: 83.1796\n",
      "Epoch 25/60\n",
      "0s - loss: 1.5341 - k_smape: 87.3006 - val_loss: 1.4178 - val_k_smape: 82.7371\n",
      "Epoch 26/60\n",
      "0s - loss: 1.5140 - k_smape: 87.1872 - val_loss: 1.6654 - val_k_smape: 84.3290\n",
      "Epoch 27/60\n",
      "0s - loss: 1.4755 - k_smape: 86.4396 - val_loss: 1.7693 - val_k_smape: 87.0955\n",
      "Epoch 28/60\n",
      "0s - loss: 1.5038 - k_smape: 87.1018 - val_loss: 1.5722 - val_k_smape: 83.0734\n",
      "Epoch 29/60\n",
      "0s - loss: 1.4888 - k_smape: 85.0888 - val_loss: 1.7502 - val_k_smape: 81.4040\n",
      "Epoch 30/60\n",
      "0s - loss: 1.5565 - k_smape: 84.9931 - val_loss: 1.7814 - val_k_smape: 88.4542\n",
      "Epoch 31/60\n",
      "0s - loss: 1.5181 - k_smape: 90.4726 - val_loss: 1.3725 - val_k_smape: 80.0626\n",
      "Epoch 32/60\n",
      "0s - loss: 1.4901 - k_smape: 83.8094 - val_loss: 1.3561 - val_k_smape: 80.5847\n",
      "Epoch 33/60\n",
      "0s - loss: 1.5188 - k_smape: 85.0805 - val_loss: 1.7938 - val_k_smape: 87.8235\n",
      "Epoch 34/60\n",
      "0s - loss: 1.4538 - k_smape: 85.5869 - val_loss: 1.7483 - val_k_smape: 82.8751\n",
      "Epoch 35/60\n",
      "0s - loss: 1.4727 - k_smape: 83.2797 - val_loss: 1.4298 - val_k_smape: 81.2902\n",
      "Epoch 36/60\n",
      "0s - loss: 1.4212 - k_smape: 84.9888 - val_loss: 1.3695 - val_k_smape: 79.9925\n",
      "Epoch 37/60\n",
      "0s - loss: 1.4465 - k_smape: 82.4078 - val_loss: 1.6184 - val_k_smape: 81.3927\n",
      "Epoch 38/60\n",
      "0s - loss: 1.4477 - k_smape: 84.6415 - val_loss: 1.4112 - val_k_smape: 79.4648\n",
      "Epoch 39/60\n",
      "0s - loss: 1.4148 - k_smape: 83.9444 - val_loss: 1.4258 - val_k_smape: 79.2384\n",
      "Epoch 40/60\n",
      "0s - loss: 1.4161 - k_smape: 81.8440 - val_loss: 1.5016 - val_k_smape: 80.5734\n",
      "Epoch 41/60\n",
      "0s - loss: 1.3944 - k_smape: 82.8443 - val_loss: 1.4320 - val_k_smape: 80.2339\n",
      "Epoch 42/60\n",
      "0s - loss: 1.3926 - k_smape: 82.2482 - val_loss: 1.3978 - val_k_smape: 80.2016\n",
      "Epoch 43/60\n"
     ]
    },
    {
     "name": "stdout",
     "output_type": "stream",
     "text": [
      "0s - loss: 1.4046 - k_smape: 82.5599 - val_loss: 1.3383 - val_k_smape: 80.1839\n",
      "Epoch 44/60\n",
      "0s - loss: 1.4294 - k_smape: 82.3344 - val_loss: 1.8152 - val_k_smape: 83.0775\n",
      "Epoch 45/60\n",
      "0s - loss: 1.3863 - k_smape: 80.0527 - val_loss: 1.3483 - val_k_smape: 79.3028\n",
      "Epoch 46/60\n",
      "0s - loss: 1.4107 - k_smape: 82.8430 - val_loss: 1.4523 - val_k_smape: 81.1464\n",
      "Epoch 47/60\n",
      "0s - loss: 1.3689 - k_smape: 80.8915 - val_loss: 1.4380 - val_k_smape: 79.7129\n",
      "Epoch 48/60\n",
      "0s - loss: 1.3278 - k_smape: 79.4295 - val_loss: 1.5225 - val_k_smape: 78.9430\n",
      "Epoch 49/60\n",
      "0s - loss: 1.3842 - k_smape: 81.1673 - val_loss: 1.6045 - val_k_smape: 79.8079\n",
      "Epoch 50/60\n",
      "0s - loss: 1.3411 - k_smape: 78.2799 - val_loss: 1.3253 - val_k_smape: 77.6173\n",
      "Epoch 51/60\n",
      "0s - loss: 1.3607 - k_smape: 80.9962 - val_loss: 1.3285 - val_k_smape: 77.9267\n",
      "Epoch 52/60\n",
      "0s - loss: 1.4472 - k_smape: 80.8624 - val_loss: 1.5915 - val_k_smape: 81.8535\n",
      "Epoch 53/60\n",
      "0s - loss: 1.3570 - k_smape: 79.7129 - val_loss: 1.6588 - val_k_smape: 80.4005\n",
      "Epoch 54/60\n",
      "0s - loss: 1.3563 - k_smape: 80.0207 - val_loss: 1.6219 - val_k_smape: 83.4321\n",
      "Epoch 55/60\n",
      "0s - loss: 1.3391 - k_smape: 83.1860 - val_loss: 1.3944 - val_k_smape: 77.4051\n",
      "Epoch 56/60\n",
      "0s - loss: 1.3351 - k_smape: 78.5158 - val_loss: 1.5075 - val_k_smape: 78.7903\n",
      "Epoch 57/60\n",
      "0s - loss: 1.3401 - k_smape: 79.6932 - val_loss: 1.5550 - val_k_smape: 81.4176\n",
      "Epoch 58/60\n",
      "0s - loss: 1.3093 - k_smape: 80.1905 - val_loss: 1.5762 - val_k_smape: 77.9277\n",
      "Epoch 59/60\n",
      "0s - loss: 1.3281 - k_smape: 77.9293 - val_loss: 1.3779 - val_k_smape: 77.9389\n",
      "Epoch 60/60\n",
      "0s - loss: 1.3509 - k_smape: 79.0535 - val_loss: 1.6232 - val_k_smape: 79.1196\n",
      "=== Run: 3 / 3 ===\n",
      "--- Group: 1 / 4 ---\n",
      "Train on 22436 samples, validate on 2493 samples\n",
      "--- Group: 2 / 4 ---\n",
      "Train on 39320 samples, validate on 4369 samples\n",
      "Epoch 1/40\n",
      "7s - loss: 1.3275 - k_smape: 127.1347 - val_loss: 1.0347 - val_k_smape: 118.8754\n",
      "Epoch 2/40\n",
      "7s - loss: 1.2489 - k_smape: 117.9285 - val_loss: 1.0372 - val_k_smape: 114.7419\n",
      "Epoch 3/40\n",
      "7s - loss: 1.2288 - k_smape: 116.3550 - val_loss: 1.0493 - val_k_smape: 118.7281\n",
      "Epoch 4/40\n",
      "7s - loss: 1.2242 - k_smape: 115.5873 - val_loss: 1.0653 - val_k_smape: 119.0048\n",
      "Epoch 5/40\n",
      "7s - loss: 1.2189 - k_smape: 114.9338 - val_loss: 1.0508 - val_k_smape: 121.6583\n",
      "Epoch 6/40\n",
      "7s - loss: 1.2105 - k_smape: 114.3718 - val_loss: 1.0131 - val_k_smape: 114.6836\n",
      "Epoch 7/40\n",
      "7s - loss: 1.2062 - k_smape: 113.9566 - val_loss: 1.0160 - val_k_smape: 117.1322\n",
      "Epoch 8/40\n",
      "7s - loss: 1.2055 - k_smape: 113.7658 - val_loss: 1.0179 - val_k_smape: 117.2987\n",
      "Epoch 9/40\n",
      "7s - loss: 1.2011 - k_smape: 113.9150 - val_loss: 1.0411 - val_k_smape: 120.1078\n",
      "Epoch 10/40\n",
      "7s - loss: 1.1972 - k_smape: 113.5712 - val_loss: 1.0128 - val_k_smape: 114.4402\n",
      "Epoch 11/40\n",
      "7s - loss: 1.1973 - k_smape: 113.2084 - val_loss: 1.0138 - val_k_smape: 113.2291\n",
      "Epoch 12/40\n",
      "7s - loss: 1.1929 - k_smape: 113.0853 - val_loss: 1.0104 - val_k_smape: 115.3130\n",
      "Epoch 13/40\n",
      "7s - loss: 1.1930 - k_smape: 112.8394 - val_loss: 1.0253 - val_k_smape: 117.1435\n",
      "Epoch 14/40\n",
      "7s - loss: 1.1961 - k_smape: 113.1249 - val_loss: 1.0384 - val_k_smape: 117.9112\n",
      "Epoch 15/40\n",
      "7s - loss: 1.1943 - k_smape: 112.5808 - val_loss: 1.0547 - val_k_smape: 120.6526\n",
      "Epoch 16/40\n",
      "7s - loss: 1.1861 - k_smape: 112.4152 - val_loss: 1.0601 - val_k_smape: 122.3141\n",
      "Epoch 17/40\n",
      "7s - loss: 1.1852 - k_smape: 112.5508 - val_loss: 1.0439 - val_k_smape: 121.2628\n",
      "Epoch 18/40\n",
      "7s - loss: 1.1820 - k_smape: 112.3274 - val_loss: 1.0277 - val_k_smape: 118.9072\n",
      "Epoch 19/40\n",
      "7s - loss: 1.1826 - k_smape: 112.2140 - val_loss: 1.0471 - val_k_smape: 119.2965\n",
      "Epoch 20/40\n",
      "7s - loss: 1.1828 - k_smape: 112.3032 - val_loss: 1.0355 - val_k_smape: 117.4952\n",
      "Epoch 21/40\n",
      "7s - loss: 1.1774 - k_smape: 112.0663 - val_loss: 1.0333 - val_k_smape: 120.2473\n",
      "Epoch 22/40\n",
      "7s - loss: 1.1775 - k_smape: 112.0830 - val_loss: 1.0229 - val_k_smape: 117.8981\n",
      "Epoch 23/40\n",
      "7s - loss: 1.1750 - k_smape: 112.1720 - val_loss: 1.0484 - val_k_smape: 121.0891\n",
      "Epoch 24/40\n",
      "7s - loss: 1.1746 - k_smape: 111.9271 - val_loss: 1.0553 - val_k_smape: 121.8531\n",
      "Epoch 25/40\n",
      "7s - loss: 1.1693 - k_smape: 111.8240 - val_loss: 1.0512 - val_k_smape: 120.8623\n",
      "Epoch 26/40\n",
      "7s - loss: 1.1614 - k_smape: 111.5408 - val_loss: 1.0204 - val_k_smape: 117.6668\n",
      "Epoch 27/40\n",
      "7s - loss: 1.1728 - k_smape: 111.5648 - val_loss: 1.0609 - val_k_smape: 120.2093\n",
      "Epoch 28/40\n",
      "7s - loss: 1.1716 - k_smape: 111.5716 - val_loss: 1.0219 - val_k_smape: 118.0835\n",
      "Epoch 29/40\n",
      "7s - loss: 1.1665 - k_smape: 111.4472 - val_loss: 1.0253 - val_k_smape: 117.9733\n",
      "Epoch 30/40\n",
      "7s - loss: 1.1598 - k_smape: 111.1075 - val_loss: 1.0720 - val_k_smape: 121.2215\n",
      "Epoch 31/40\n",
      "7s - loss: 1.1586 - k_smape: 111.1520 - val_loss: 1.0217 - val_k_smape: 116.0870\n",
      "Epoch 32/40\n",
      "7s - loss: 1.1675 - k_smape: 111.4756 - val_loss: 1.0401 - val_k_smape: 118.1768\n",
      "Epoch 33/40\n",
      "7s - loss: 1.1604 - k_smape: 110.9832 - val_loss: 1.0145 - val_k_smape: 115.5414\n",
      "Epoch 34/40\n",
      "7s - loss: 1.1559 - k_smape: 110.7528 - val_loss: 1.0551 - val_k_smape: 119.4953\n",
      "Epoch 35/40\n",
      "7s - loss: 1.1653 - k_smape: 111.1546 - val_loss: 1.0473 - val_k_smape: 118.3911\n",
      "Epoch 36/40\n",
      "7s - loss: 1.1545 - k_smape: 110.7858 - val_loss: 1.0360 - val_k_smape: 118.3880\n",
      "Epoch 37/40\n",
      "7s - loss: 1.1623 - k_smape: 111.0397 - val_loss: 1.0355 - val_k_smape: 117.9240\n",
      "Epoch 38/40\n",
      "7s - loss: 1.1552 - k_smape: 110.6520 - val_loss: 1.0332 - val_k_smape: 117.9270\n",
      "Epoch 39/40\n",
      "7s - loss: 1.1498 - k_smape: 110.5489 - val_loss: 1.0192 - val_k_smape: 117.6605\n",
      "Epoch 40/40\n",
      "7s - loss: 1.1520 - k_smape: 110.7655 - val_loss: 1.0450 - val_k_smape: 119.9523\n",
      "--- Group: 3 / 4 ---\n",
      "Train on 68083 samples, validate on 7565 samples\n",
      "Epoch 1/40\n",
      "12s - loss: 1.3658 - k_smape: 109.6330 - val_loss: 1.1546 - val_k_smape: 110.9300\n",
      "Epoch 2/40\n",
      "12s - loss: 1.2567 - k_smape: 101.4047 - val_loss: 1.0928 - val_k_smape: 105.3930\n",
      "Epoch 3/40\n",
      "12s - loss: 1.2389 - k_smape: 99.7118 - val_loss: 1.0932 - val_k_smape: 103.4656\n",
      "Epoch 4/40\n",
      "12s - loss: 1.2272 - k_smape: 98.9247 - val_loss: 1.1048 - val_k_smape: 106.3203\n",
      "Epoch 5/40\n",
      "12s - loss: 1.2203 - k_smape: 98.2775 - val_loss: 1.1032 - val_k_smape: 105.3123\n",
      "Epoch 6/40\n",
      "12s - loss: 1.2157 - k_smape: 97.8717 - val_loss: 1.0921 - val_k_smape: 105.8645\n",
      "Epoch 7/40\n",
      "12s - loss: 1.2107 - k_smape: 97.5058 - val_loss: 1.1122 - val_k_smape: 104.9057\n",
      "Epoch 8/40\n",
      "12s - loss: 1.2080 - k_smape: 97.3721 - val_loss: 1.1017 - val_k_smape: 105.3810\n",
      "Epoch 9/40\n",
      "12s - loss: 1.2029 - k_smape: 97.0945 - val_loss: 1.0967 - val_k_smape: 104.9312\n",
      "Epoch 10/40\n",
      "12s - loss: 1.2009 - k_smape: 97.0547 - val_loss: 1.0876 - val_k_smape: 104.6164\n",
      "Epoch 11/40\n",
      "12s - loss: 1.1984 - k_smape: 96.9526 - val_loss: 1.1083 - val_k_smape: 106.2003\n",
      "Epoch 12/40\n",
      "12s - loss: 1.1918 - k_smape: 96.6571 - val_loss: 1.1279 - val_k_smape: 107.3653\n",
      "Epoch 13/40\n",
      "12s - loss: 1.1927 - k_smape: 96.5383 - val_loss: 1.0855 - val_k_smape: 105.0612\n",
      "Epoch 14/40\n",
      "12s - loss: 1.1853 - k_smape: 96.3612 - val_loss: 1.1084 - val_k_smape: 106.2832\n",
      "Epoch 15/40\n",
      "12s - loss: 1.1868 - k_smape: 96.2756 - val_loss: 1.1155 - val_k_smape: 106.2146\n",
      "Epoch 16/40\n",
      "12s - loss: 1.1842 - k_smape: 96.2426 - val_loss: 1.0769 - val_k_smape: 104.6925\n",
      "Epoch 17/40\n",
      "12s - loss: 1.1823 - k_smape: 95.9341 - val_loss: 1.0716 - val_k_smape: 103.9185\n",
      "Epoch 18/40\n",
      "12s - loss: 1.1794 - k_smape: 95.9035 - val_loss: 1.0791 - val_k_smape: 105.3841\n",
      "Epoch 19/40\n",
      "12s - loss: 1.1763 - k_smape: 95.7734 - val_loss: 1.0956 - val_k_smape: 105.7698\n",
      "Epoch 20/40\n",
      "12s - loss: 1.1756 - k_smape: 95.5831 - val_loss: 1.1104 - val_k_smape: 105.1053\n",
      "Epoch 21/40\n",
      "12s - loss: 1.1696 - k_smape: 95.4087 - val_loss: 1.1043 - val_k_smape: 105.5649\n",
      "Epoch 22/40\n",
      "12s - loss: 1.1687 - k_smape: 95.5364 - val_loss: 1.1148 - val_k_smape: 104.9734\n",
      "Epoch 23/40\n",
      "12s - loss: 1.1695 - k_smape: 95.3621 - val_loss: 1.0948 - val_k_smape: 107.0662\n",
      "Epoch 24/40\n",
      "12s - loss: 1.1697 - k_smape: 95.3568 - val_loss: 1.0820 - val_k_smape: 105.0210\n",
      "Epoch 25/40\n",
      "12s - loss: 1.1634 - k_smape: 95.1526 - val_loss: 1.1022 - val_k_smape: 105.3420\n",
      "Epoch 26/40\n",
      "12s - loss: 1.1640 - k_smape: 95.1408 - val_loss: 1.1048 - val_k_smape: 106.6322\n",
      "Epoch 27/40\n",
      "12s - loss: 1.1649 - k_smape: 95.1999 - val_loss: 1.0878 - val_k_smape: 106.9602\n",
      "Epoch 28/40\n",
      "12s - loss: 1.1569 - k_smape: 94.8143 - val_loss: 1.0980 - val_k_smape: 105.7903\n",
      "Epoch 29/40\n",
      "12s - loss: 1.1615 - k_smape: 94.9007 - val_loss: 1.1230 - val_k_smape: 105.5264\n",
      "Epoch 30/40\n"
     ]
    },
    {
     "name": "stdout",
     "output_type": "stream",
     "text": [
      "12s - loss: 1.1571 - k_smape: 94.7676 - val_loss: 1.0888 - val_k_smape: 105.1530\n",
      "Epoch 31/40\n",
      "12s - loss: 1.1580 - k_smape: 94.8391 - val_loss: 1.0815 - val_k_smape: 106.0883\n",
      "Epoch 32/40\n",
      "12s - loss: 1.1525 - k_smape: 94.6817 - val_loss: 1.1262 - val_k_smape: 108.0393\n",
      "Epoch 33/40\n",
      "12s - loss: 1.1547 - k_smape: 94.6842 - val_loss: 1.1039 - val_k_smape: 105.8376\n",
      "Epoch 34/40\n",
      "12s - loss: 1.1506 - k_smape: 94.4770 - val_loss: 1.0889 - val_k_smape: 107.7217\n",
      "Epoch 35/40\n",
      "12s - loss: 1.1510 - k_smape: 94.6701 - val_loss: 1.1113 - val_k_smape: 105.9735\n",
      "Epoch 36/40\n",
      "12s - loss: 1.1481 - k_smape: 94.2488 - val_loss: 1.0808 - val_k_smape: 104.2366\n",
      "Epoch 37/40\n",
      "12s - loss: 1.1493 - k_smape: 94.2624 - val_loss: 1.0750 - val_k_smape: 103.7658\n",
      "Epoch 38/40\n",
      "12s - loss: 1.1457 - k_smape: 94.3735 - val_loss: 1.0875 - val_k_smape: 104.8141\n",
      "Epoch 39/40\n",
      "12s - loss: 1.1441 - k_smape: 94.1567 - val_loss: 1.1076 - val_k_smape: 105.4857\n",
      "Epoch 40/40\n",
      "12s - loss: 1.1435 - k_smape: 94.2772 - val_loss: 1.1041 - val_k_smape: 106.5243\n",
      "--- Group: 4 / 4 ---\n",
      "Train on 717 samples, validate on 80 samples\n",
      "Epoch 1/60\n",
      "0s - loss: 3.0782 - k_smape: 156.8725 - val_loss: 3.7638 - val_k_smape: 141.2009\n",
      "Epoch 2/60\n",
      "0s - loss: 2.6735 - k_smape: 136.6688 - val_loss: 3.5747 - val_k_smape: 135.6804\n",
      "Epoch 3/60\n",
      "0s - loss: 2.4773 - k_smape: 132.8039 - val_loss: 2.9917 - val_k_smape: 119.6570\n",
      "Epoch 4/60\n",
      "0s - loss: 2.2904 - k_smape: 121.8342 - val_loss: 2.9401 - val_k_smape: 116.1970\n",
      "Epoch 5/60\n",
      "0s - loss: 2.1517 - k_smape: 119.5503 - val_loss: 2.4532 - val_k_smape: 105.3600\n",
      "Epoch 6/60\n",
      "0s - loss: 2.0755 - k_smape: 111.5409 - val_loss: 2.5961 - val_k_smape: 104.7230\n",
      "Epoch 7/60\n",
      "0s - loss: 1.9813 - k_smape: 110.2748 - val_loss: 2.0150 - val_k_smape: 95.6708\n",
      "Epoch 8/60\n",
      "0s - loss: 1.8917 - k_smape: 106.0998 - val_loss: 2.2746 - val_k_smape: 99.9421\n",
      "Epoch 9/60\n",
      "0s - loss: 1.8707 - k_smape: 103.7725 - val_loss: 2.2276 - val_k_smape: 99.0748\n",
      "Epoch 10/60\n",
      "0s - loss: 1.8169 - k_smape: 103.5551 - val_loss: 1.6750 - val_k_smape: 88.7718\n",
      "Epoch 11/60\n",
      "0s - loss: 1.9048 - k_smape: 101.0499 - val_loss: 2.2511 - val_k_smape: 102.3901\n",
      "Epoch 12/60\n",
      "0s - loss: 1.8037 - k_smape: 102.4707 - val_loss: 1.7202 - val_k_smape: 89.3963\n",
      "Epoch 13/60\n",
      "0s - loss: 1.7334 - k_smape: 97.7062 - val_loss: 1.9023 - val_k_smape: 89.7873\n",
      "Epoch 14/60\n",
      "0s - loss: 1.7218 - k_smape: 95.8996 - val_loss: 1.7590 - val_k_smape: 89.3432\n",
      "Epoch 15/60\n",
      "0s - loss: 1.7077 - k_smape: 97.0986 - val_loss: 1.8315 - val_k_smape: 88.3531\n",
      "Epoch 16/60\n",
      "0s - loss: 1.6645 - k_smape: 92.8848 - val_loss: 1.9886 - val_k_smape: 89.8492\n",
      "Epoch 17/60\n",
      "0s - loss: 1.7098 - k_smape: 94.8374 - val_loss: 1.5885 - val_k_smape: 84.4003\n",
      "Epoch 18/60\n",
      "0s - loss: 1.6938 - k_smape: 94.8667 - val_loss: 2.1412 - val_k_smape: 94.9917\n",
      "Epoch 19/60\n",
      "0s - loss: 1.6270 - k_smape: 92.3569 - val_loss: 1.5427 - val_k_smape: 86.1537\n",
      "Epoch 20/60\n",
      "0s - loss: 1.5693 - k_smape: 90.8249 - val_loss: 1.8387 - val_k_smape: 85.3088\n",
      "Epoch 21/60\n",
      "0s - loss: 1.5838 - k_smape: 88.8456 - val_loss: 1.6351 - val_k_smape: 84.8987\n",
      "Epoch 22/60\n",
      "0s - loss: 1.5622 - k_smape: 90.6347 - val_loss: 1.5316 - val_k_smape: 83.5384\n",
      "Epoch 23/60\n",
      "0s - loss: 1.5473 - k_smape: 88.0146 - val_loss: 1.8682 - val_k_smape: 85.3633\n",
      "Epoch 24/60\n",
      "0s - loss: 1.5318 - k_smape: 88.3181 - val_loss: 1.3625 - val_k_smape: 79.9734\n",
      "Epoch 25/60\n",
      "0s - loss: 1.5245 - k_smape: 85.8272 - val_loss: 1.6690 - val_k_smape: 84.0791\n",
      "Epoch 26/60\n",
      "0s - loss: 1.5024 - k_smape: 86.1441 - val_loss: 1.4130 - val_k_smape: 81.7815\n",
      "Epoch 27/60\n",
      "0s - loss: 1.5660 - k_smape: 87.5808 - val_loss: 1.4194 - val_k_smape: 78.3215\n",
      "Epoch 28/60\n",
      "0s - loss: 1.4874 - k_smape: 86.4486 - val_loss: 1.5982 - val_k_smape: 81.9453\n",
      "Epoch 29/60\n",
      "0s - loss: 1.4795 - k_smape: 84.7886 - val_loss: 1.8178 - val_k_smape: 82.6181\n",
      "Epoch 30/60\n",
      "0s - loss: 1.4808 - k_smape: 84.3090 - val_loss: 1.5051 - val_k_smape: 82.0271\n",
      "Epoch 31/60\n",
      "0s - loss: 1.5132 - k_smape: 89.3580 - val_loss: 1.5547 - val_k_smape: 80.3392\n",
      "Epoch 32/60\n",
      "0s - loss: 1.4939 - k_smape: 83.3155 - val_loss: 1.6479 - val_k_smape: 82.2949\n",
      "Epoch 33/60\n",
      "0s - loss: 1.4692 - k_smape: 86.0321 - val_loss: 1.4231 - val_k_smape: 80.2899\n",
      "Epoch 34/60\n",
      "0s - loss: 1.4376 - k_smape: 83.8518 - val_loss: 1.6129 - val_k_smape: 80.7477\n",
      "Epoch 35/60\n",
      "0s - loss: 1.4314 - k_smape: 82.6994 - val_loss: 1.4169 - val_k_smape: 79.3028\n",
      "Epoch 36/60\n",
      "0s - loss: 1.4459 - k_smape: 82.6072 - val_loss: 1.3395 - val_k_smape: 78.2818\n",
      "Epoch 37/60\n",
      "0s - loss: 1.3932 - k_smape: 82.6903 - val_loss: 1.4747 - val_k_smape: 79.7287\n",
      "Epoch 38/60\n",
      "0s - loss: 1.4673 - k_smape: 80.7775 - val_loss: 1.9119 - val_k_smape: 84.5051\n",
      "Epoch 39/60\n",
      "0s - loss: 1.4250 - k_smape: 83.4085 - val_loss: 1.3518 - val_k_smape: 78.5812\n",
      "Epoch 40/60\n",
      "0s - loss: 1.4442 - k_smape: 83.2047 - val_loss: 1.4792 - val_k_smape: 78.3482\n",
      "Epoch 41/60\n",
      "0s - loss: 1.4179 - k_smape: 81.5030 - val_loss: 1.4611 - val_k_smape: 79.9026\n",
      "Epoch 42/60\n",
      "0s - loss: 1.4655 - k_smape: 81.3050 - val_loss: 1.8292 - val_k_smape: 81.8086\n",
      "Epoch 43/60\n",
      "0s - loss: 1.4727 - k_smape: 82.2846 - val_loss: 1.3951 - val_k_smape: 78.1857\n",
      "Epoch 44/60\n",
      "0s - loss: 1.4480 - k_smape: 84.4088 - val_loss: 1.4919 - val_k_smape: 80.0281\n",
      "Epoch 45/60\n",
      "0s - loss: 1.4127 - k_smape: 80.3375 - val_loss: 1.5323 - val_k_smape: 78.1376\n",
      "Epoch 46/60\n",
      "0s - loss: 1.3683 - k_smape: 79.7170 - val_loss: 1.3815 - val_k_smape: 78.6582\n",
      "Epoch 47/60\n",
      "0s - loss: 1.3755 - k_smape: 80.0951 - val_loss: 1.7201 - val_k_smape: 79.8474\n",
      "Epoch 48/60\n",
      "0s - loss: 1.3675 - k_smape: 78.2521 - val_loss: 1.3560 - val_k_smape: 77.4143\n",
      "Epoch 49/60\n",
      "0s - loss: 1.3465 - k_smape: 81.5030 - val_loss: 1.3762 - val_k_smape: 77.5278\n",
      "Epoch 50/60\n",
      "0s - loss: 1.3756 - k_smape: 79.3047 - val_loss: 1.4541 - val_k_smape: 76.6228\n",
      "Epoch 51/60\n",
      "0s - loss: 1.3172 - k_smape: 79.1794 - val_loss: 1.5024 - val_k_smape: 77.9459\n",
      "Epoch 52/60\n",
      "0s - loss: 1.3121 - k_smape: 78.2512 - val_loss: 1.4548 - val_k_smape: 80.2477\n",
      "Epoch 53/60\n",
      "0s - loss: 1.3378 - k_smape: 78.6019 - val_loss: 1.4127 - val_k_smape: 77.5602\n",
      "Epoch 54/60\n",
      "0s - loss: 1.3329 - k_smape: 79.8013 - val_loss: 1.3663 - val_k_smape: 77.5116\n",
      "Epoch 55/60\n",
      "0s - loss: 1.3569 - k_smape: 77.7010 - val_loss: 1.4081 - val_k_smape: 76.1713\n",
      "Epoch 56/60\n",
      "0s - loss: 1.3185 - k_smape: 78.0658 - val_loss: 1.8393 - val_k_smape: 80.1991\n",
      "Epoch 57/60\n",
      "0s - loss: 1.3277 - k_smape: 78.2134 - val_loss: 1.4710 - val_k_smape: 79.8214\n",
      "Epoch 58/60\n",
      "0s - loss: 1.3112 - k_smape: 78.9859 - val_loss: 1.5804 - val_k_smape: 77.8342\n",
      "Epoch 59/60\n",
      "0s - loss: 1.3522 - k_smape: 77.5447 - val_loss: 1.3807 - val_k_smape: 78.6005\n",
      "Epoch 60/60\n",
      "0s - loss: 1.3307 - k_smape: 79.3895 - val_loss: 1.4009 - val_k_smape: 77.9695\n",
      "Wall time: 39min 13s\n"
     ]
    }
   ],
   "source": [
    "%%time\n",
    "if not load_previous_models:\n",
    "    hists_ens = []\n",
    "    for run, models in zip(ens_list, models_ens):\n",
    "        print('=== Run:', run+1, '/', len(ens_list), '===')\n",
    "        hists = []\n",
    "        for (gp, model, X_in, Y_in, epochs, A_in) in zip(gp_list, models,\n",
    "                                           X_input_list, Y_input_list, \n",
    "                                           epochs_list, A_input_list):\n",
    "            print('--- Group:', gp+1, '/', len(gp_list), '---')\n",
    "            hist = model.fit([X_in, A_in], Y_in, batch_size=128, \n",
    "                             epochs=epochs, \n",
    "                             validation_split=0.1, verbose=2)\n",
    "            #validation_data=(X_val, Y_val))\n",
    "            hists.append(hist)\n",
    "        hists_ens.append(hists)"
   ]
  },
  {
   "cell_type": "markdown",
   "metadata": {
    "collapsed": true,
    "scrolled": true
   },
   "source": [
    "%%time\n",
    "hists_ens = []\n",
    "for run, models in zip(ens_list, models_ens):\n",
    "    print('=== Run:', run+1, '/', len(ens_list), '===')\n",
    "    hists = []\n",
    "    for (gp, model, X_in, Y_in, epochs, A_in, Z_in) in zip(gp_list, models,\n",
    "                                       X_input_list, Y_input_list, \n",
    "                                       epochs_list, A_input_list, Z_input_list):\n",
    "        print('--- Group:', gp+1, '/', len(gp_list), '---')\n",
    "        hist = model.fit([X_in, A_in, Z_in], Y_in, batch_size=128, \n",
    "                         epochs=epochs, \n",
    "                         validation_split=0.1, verbose=2)\n",
    "        #validation_data=(X_val, Y_val))\n",
    "        hists.append(hist)\n",
    "    hists_ens.append(hists)"
   ]
  },
  {
   "cell_type": "markdown",
   "metadata": {},
   "source": [
    "### Save the model"
   ]
  },
  {
   "cell_type": "code",
   "execution_count": 203,
   "metadata": {
    "collapsed": true
   },
   "outputs": [],
   "source": [
    "if not load_previous_models:\n",
    "    for run in ens_list:\n",
    "        for gp in gp_list:\n",
    "            models_ens[run][gp].save('../models/' + model_name + '-' + str(run) + '-' + str(gp) +'.h5')"
   ]
  },
  {
   "cell_type": "markdown",
   "metadata": {},
   "source": [
    "### Training History"
   ]
  },
  {
   "cell_type": "code",
   "execution_count": 97,
   "metadata": {
    "scrolled": true
   },
   "outputs": [
    {
     "data": {
      "image/png": "[encoded data removed]",
      "text/plain": [
       "<matplotlib.figure.Figure at 0x840307b8>"
      ]
     },
     "metadata": {},
     "output_type": "display_data"
    },
    {
     "data": {
      "image/png": "[encoded data removed]",
      "text/plain": [
       "<matplotlib.figure.Figure at 0x9537be48>"
      ]
     },
     "metadata": {},
     "output_type": "display_data"
    },
    {
     "data": {
      "image/png": "[encoded data removed]",
      "text/plain": [
       "<matplotlib.figure.Figure at 0x95336cf8>"
      ]
     },
     "metadata": {},
     "output_type": "display_data"
    }
   ],
   "source": [
    "for gp, ep in zip(gp_list, epochs_list):\n",
    "    if ep:\n",
    "        for run in ens_list:\n",
    "            hist = hists_ens[run][gp]\n",
    "            plt.plot(hist.history['loss'], label=str(run))\n",
    "        plt.title('Mean Squared Error (Train) - Group ' + str(gp))\n",
    "        plt.legend(); plt.show()        "
   ]
  },
  {
   "cell_type": "code",
   "execution_count": 98,
   "metadata": {
    "scrolled": true
   },
   "outputs": [
    {
     "data": {
      "image/png": "[encoded data removed]",
      "text/plain": [
       "<matplotlib.figure.Figure at 0x954e22b0>"
      ]
     },
     "metadata": {},
     "output_type": "display_data"
    },
    {
     "data": {
      "image/png": "[encoded data removed]",
      "text/plain": [
       "<matplotlib.figure.Figure at 0x956eab70>"
      ]
     },
     "metadata": {},
     "output_type": "display_data"
    },
    {
     "data": {
      "image/png": "[encoded data removed]",
      "text/plain": [
       "<matplotlib.figure.Figure at 0x95798898>"
      ]
     },
     "metadata": {},
     "output_type": "display_data"
    }
   ],
   "source": [
    "for gp, ep in zip(gp_list, epochs_list):\n",
    "    if ep:\n",
    "        for run in ens_list:\n",
    "            hist = hists_ens[run][gp]\n",
    "            plt.plot(hist.history['val_loss'], label=str(run))\n",
    "        plt.title('Mean Squared Error (Validation) - Group ' + str(gp))\n",
    "        plt.legend(); plt.show()        "
   ]
  },
  {
   "cell_type": "code",
   "execution_count": 99,
   "metadata": {
    "scrolled": true
   },
   "outputs": [
    {
     "data": {
      "image/png": "[encoded data removed]",
      "text/plain": [
       "<matplotlib.figure.Figure at 0x96460a90>"
      ]
     },
     "metadata": {},
     "output_type": "display_data"
    },
    {
     "data": {
      "image/png": "[encoded data removed]",
      "text/plain": [
       "<matplotlib.figure.Figure at 0x9646acf8>"
      ]
     },
     "metadata": {},
     "output_type": "display_data"
    },
    {
     "data": {
      "image/png": "[encoded data removed]",
      "text/plain": [
       "<matplotlib.figure.Figure at 0x95ecd5c0>"
      ]
     },
     "metadata": {},
     "output_type": "display_data"
    }
   ],
   "source": [
    "for gp, ep in zip(gp_list, epochs_list):\n",
    "    if ep:\n",
    "        for run in ens_list:\n",
    "            hist = hists_ens[run][gp]\n",
    "            plt.plot(hist.history['k_smape'], label=str(run))\n",
    "        plt.title('SMAPE (Train) - Group ' + str(gp))\n",
    "        plt.legend(); plt.show()        "
   ]
  },
  {
   "cell_type": "code",
   "execution_count": 100,
   "metadata": {
    "scrolled": true
   },
   "outputs": [
    {
     "data": {
      "image/png": "[encoded data removed]",
      "text/plain": [
       "<matplotlib.figure.Figure at 0x966b6e10>"
      ]
     },
     "metadata": {},
     "output_type": "display_data"
    },
    {
     "data": {
      "image/png": "[encoded data removed]",
      "text/plain": [
       "<matplotlib.figure.Figure at 0x9647ecc0>"
      ]
     },
     "metadata": {},
     "output_type": "display_data"
    },
    {
     "data": {
      "image/png": "[encoded data removed]",
      "text/plain": [
       "<matplotlib.figure.Figure at 0x96717860>"
      ]
     },
     "metadata": {},
     "output_type": "display_data"
    }
   ],
   "source": [
    "for gp, ep in zip(gp_list, epochs_list):\n",
    "    if ep:\n",
    "        for run in ens_list:\n",
    "            hist = hists_ens[run][gp]\n",
    "            plt.plot(hist.history['val_k_smape'], label=str(run))\n",
    "        plt.title('SMAPE (Validation) - Group ' + str(gp))\n",
    "        plt.legend(); plt.show()        "
   ]
  },
  {
   "cell_type": "code",
   "execution_count": 101,
   "metadata": {
    "scrolled": true
   },
   "outputs": [
    {
     "data": {
      "image/png": "[encoded data removed]",
      "text/plain": [
       "<matplotlib.figure.Figure at 0x96857ac8>"
      ]
     },
     "metadata": {},
     "output_type": "display_data"
    },
    {
     "data": {
      "image/png": "[encoded data removed]",
      "text/plain": [
       "<matplotlib.figure.Figure at 0x96934ac8>"
      ]
     },
     "metadata": {},
     "output_type": "display_data"
    },
    {
     "data": {
      "image/png": "[encoded data removed]",
      "text/plain": [
       "<matplotlib.figure.Figure at 0x968ed780>"
      ]
     },
     "metadata": {},
     "output_type": "display_data"
    }
   ],
   "source": [
    "for (hist, gp, ep) in zip(hists, gp_list, epochs_list):\n",
    "    if ep:\n",
    "        plt.plot(hist.history['loss'], label='train')\n",
    "        plt.plot(hist.history['val_loss'], label='validation')\n",
    "        plt.title('Mean Squared Error - ' + str(gp))\n",
    "        plt.legend(); plt.show()"
   ]
  },
  {
   "cell_type": "code",
   "execution_count": 102,
   "metadata": {
    "scrolled": true
   },
   "outputs": [
    {
     "data": {
      "image/png": "[encoded data removed]",
      "text/plain": [
       "<matplotlib.figure.Figure at 0x96845080>"
      ]
     },
     "metadata": {},
     "output_type": "display_data"
    },
    {
     "data": {
      "image/png": "[encoded data removed]",
      "text/plain": [
       "<matplotlib.figure.Figure at 0x969d8128>"
      ]
     },
     "metadata": {},
     "output_type": "display_data"
    },
    {
     "data": {
      "image/png": "[encoded data removed]",
      "text/plain": [
       "<matplotlib.figure.Figure at 0x9686b898>"
      ]
     },
     "metadata": {},
     "output_type": "display_data"
    }
   ],
   "source": [
    "for (hist, gp, ep) in zip(hists, gp_list, epochs_list):\n",
    "    if ep:\n",
    "        plt.plot(hist.history['k_smape'], label='train')\n",
    "        plt.plot(hist.history['val_k_smape'], label='validation')\n",
    "        plt.title('SMAPE - ' + str(gp))\n",
    "        plt.legend(); plt.show()"
   ]
  },
  {
   "cell_type": "code",
   "execution_count": 103,
   "metadata": {},
   "outputs": [
    {
     "data": {
      "image/png": "[encoded data removed]",
      "text/plain": [
       "<matplotlib.figure.Figure at 0x952fa780>"
      ]
     },
     "metadata": {},
     "output_type": "display_data"
    }
   ],
   "source": [
    "for (hist, gp, ep) in zip(hists, gp_list, epochs_list):\n",
    "    if ep: plt.plot(hist.history['loss'], label=gp)\n",
    "plt.title('Mean Squared Error - train')\n",
    "plt.legend(); plt.show()"
   ]
  },
  {
   "cell_type": "code",
   "execution_count": 104,
   "metadata": {},
   "outputs": [
    {
     "data": {
      "image/png": "[encoded data removed]",
      "text/plain": [
       "<matplotlib.figure.Figure at 0x96845ba8>"
      ]
     },
     "metadata": {},
     "output_type": "display_data"
    }
   ],
   "source": [
    "for (hist, gp, ep) in zip(hists, gp_list, epochs_list):\n",
    "    if ep: plt.plot(hist.history['val_loss'], label=gp)\n",
    "plt.title('Mean Squared Error - validation')\n",
    "plt.legend(); plt.show()"
   ]
  },
  {
   "cell_type": "code",
   "execution_count": 105,
   "metadata": {},
   "outputs": [
    {
     "data": {
      "image/png": "[encoded data removed]",
      "text/plain": [
       "<matplotlib.figure.Figure at 0x9552e748>"
      ]
     },
     "metadata": {},
     "output_type": "display_data"
    }
   ],
   "source": [
    "for (hist, gp, ep) in zip(hists, gp_list, epochs_list):\n",
    "    if ep: plt.plot(hist.history['k_smape'], label=gp)\n",
    "plt.title('SMAPE - train')\n",
    "plt.legend(); plt.show()"
   ]
  },
  {
   "cell_type": "code",
   "execution_count": 106,
   "metadata": {
    "scrolled": true
   },
   "outputs": [
    {
     "data": {
      "image/png": "[encoded data removed]",
      "text/plain": [
       "<matplotlib.figure.Figure at 0x96730908>"
      ]
     },
     "metadata": {},
     "output_type": "display_data"
    }
   ],
   "source": [
    "for (hist, gp, ep) in zip(hists, gp_list, epochs_list):\n",
    "    if ep: plt.plot(hist.history['val_k_smape'], label=gp)\n",
    "plt.title('SMAPE - validation')\n",
    "plt.legend(); plt.show()"
   ]
  },
  {
   "cell_type": "markdown",
   "metadata": {},
   "source": [
    "### More Training"
   ]
  },
  {
   "cell_type": "markdown",
   "metadata": {},
   "source": [
    "epochs_list2 = [0,10,0,0,10]"
   ]
  },
  {
   "cell_type": "markdown",
   "metadata": {},
   "source": [
    "hists2 = []\n",
    "for (gp, model, X_in, Y_in, epochs) in zip(gp_list, models,\n",
    "                                   X_input_list, Y_input_list, \n",
    "                                   epochs_list2):\n",
    "    hist = model.fit(X_in, Y_in, batch_size=128, \n",
    "                     epochs=epochs, \n",
    "                     validation_split=0.05)\n",
    "    #validation_data=(X_val, Y_val))\n",
    "    hists2.append(hist)"
   ]
  },
  {
   "cell_type": "markdown",
   "metadata": {},
   "source": [
    "for (hist, gp, epochs) in zip(hists2, gp_list, epochs_list2):\n",
    "    if epochs:\n",
    "        plt.plot(hist.history['loss'], label='train')\n",
    "        plt.plot(hist.history['val_loss'], label='validation')\n",
    "        plt.title('Mean Squared Error - ' + str(gp))\n",
    "        plt.legend(); plt.show()"
   ]
  },
  {
   "cell_type": "markdown",
   "metadata": {
    "scrolled": false
   },
   "source": [
    "for (hist, gp, epochs) in zip(hists2, gp_list, epochs_list2):\n",
    "    if epochs:\n",
    "        plt.plot(hist.history['k_smape'], label='train')\n",
    "        plt.plot(hist.history['val_k_smape'], label='validation')\n",
    "        plt.title('SMAPE - ' + str(gp))\n",
    "        plt.legend(); plt.show()"
   ]
  },
  {
   "cell_type": "markdown",
   "metadata": {},
   "source": [
    "for (hist, gp, epochs) in zip(hists2, gp_list, epochs_list2):\n",
    "    if epochs:\n",
    "        plt.plot(hist.history['loss'], label=gp)\n",
    "plt.title('Mean Squared Error - train')\n",
    "plt.legend(); plt.show()"
   ]
  },
  {
   "cell_type": "markdown",
   "metadata": {},
   "source": [
    "for (hist, gp, epochs) in zip(hists2, gp_list, epochs_list2):\n",
    "    if epochs: plt.plot(hist.history['val_loss'], label=gp)\n",
    "plt.title('Mean Squared Error - validation')\n",
    "plt.legend(); plt.show()"
   ]
  },
  {
   "cell_type": "markdown",
   "metadata": {},
   "source": [
    "for (hist, gp, epochs) in zip(hists2, gp_list, epochs_list2):\n",
    "    if epochs: plt.plot(hist.history['k_smape'], label=gp)\n",
    "plt.title('SMAPE - train')\n",
    "plt.legend(); plt.show()"
   ]
  },
  {
   "cell_type": "markdown",
   "metadata": {},
   "source": [
    "for (hist, gp, epochs) in zip(hists2, gp_list, epochs_list2):\n",
    "    if epochs: plt.plot(hist.history['val_k_smape'], label=gp)\n",
    "plt.title('SMAPE - validation')\n",
    "plt.legend(); plt.show()"
   ]
  },
  {
   "cell_type": "markdown",
   "metadata": {},
   "source": [
    "## Predict for Input Set (Training Set)"
   ]
  },
  {
   "cell_type": "code",
   "execution_count": 107,
   "metadata": {},
   "outputs": [
    {
     "name": "stdout",
     "output_type": "stream",
     "text": [
      "Run 0: 0 1 2 3 \n",
      "Run 1: 0 1 2 3 \n",
      "Run 2: 0 1 2 3 \n",
      "Wall time: 30 s\n"
     ]
    }
   ],
   "source": [
    "%%time\n",
    "Y_input_pred_list_ens = []\n",
    "for models, run in zip(models_ens, ens_list):\n",
    "    print('Run', run, end=': ')\n",
    "    Y_input_pred_list = []\n",
    "    for (gp, model, X, A) in zip(gp_list, models, X_input_list, A_input_list):\n",
    "        print(gp, end=' ')\n",
    "        Y_input_pred_list.append(model.predict([X, A]))\n",
    "    Y_input_pred_list_ens.append(Y_input_pred_list)\n",
    "    print('')"
   ]
  },
  {
   "cell_type": "markdown",
   "metadata": {
    "collapsed": true
   },
   "source": [
    "%%time\n",
    "Y_input_pred_list_ens = []\n",
    "for models, run in zip(models_ens, ens_list):\n",
    "    print('Run', run, end=': ')\n",
    "    Y_input_pred_list = []\n",
    "    for (gp, model, X, A, Z) in zip(gp_list, models, X_input_list, A_input_list, Z_input_list):\n",
    "        print(gp, end=' ')\n",
    "        Y_input_pred_list.append(model.predict([X, A, Z]))\n",
    "    Y_input_pred_list_ens.append(Y_input_pred_list)\n",
    "    print('')"
   ]
  },
  {
   "cell_type": "markdown",
   "metadata": {},
   "source": [
    "Find the original index"
   ]
  },
  {
   "cell_type": "code",
   "execution_count": 108,
   "metadata": {
    "collapsed": true
   },
   "outputs": [],
   "source": [
    "input_index_range = np.arange(len(input_gp)); #input_index_range"
   ]
  },
  {
   "cell_type": "code",
   "execution_count": 109,
   "metadata": {
    "collapsed": true
   },
   "outputs": [],
   "source": [
    "# list for original index\n",
    "input_index_list = [input_index_range[input_gp == gp] \n",
    "                     for gp in gp_list]"
   ]
  },
  {
   "cell_type": "code",
   "execution_count": 110,
   "metadata": {
    "scrolled": false
   },
   "outputs": [
    {
     "name": "stdout",
     "output_type": "stream",
     "text": [
      "(24929,) (43689,) (75648,) (797,) "
     ]
    }
   ],
   "source": [
    "for o in input_index_list:\n",
    "    print(o.shape, end=' ')"
   ]
  },
  {
   "cell_type": "code",
   "execution_count": 111,
   "metadata": {
    "collapsed": true
   },
   "outputs": [],
   "source": [
    "input_index_list_comb = np.concatenate(input_index_list); #input_index_list_comb"
   ]
  },
  {
   "cell_type": "code",
   "execution_count": 112,
   "metadata": {
    "collapsed": true
   },
   "outputs": [],
   "source": [
    "Y_input_pred_ens = []\n",
    "for Y_input_pred_list in Y_input_pred_list_ens:\n",
    "    Y_input_pred_comb = np.concatenate(Y_input_pred_list)\n",
    "    Y_input_pred = [0]*len(input_index_list_comb)\n",
    "\n",
    "    for index, y in zip(input_index_list_comb, Y_input_pred_comb):\n",
    "        Y_input_pred[index] = y\n",
    "\n",
    "    Y_input_pred = np.array(Y_input_pred)  # make it an numpy array (which will also make a copy)\n",
    "    Y_input_pred_ens.append(Y_input_pred)\n",
    "\n",
    "del Y_input_pred_comb"
   ]
  },
  {
   "cell_type": "code",
   "execution_count": 113,
   "metadata": {
    "collapsed": true
   },
   "outputs": [],
   "source": [
    "# Inverse transform Y_input_pred to original Y\n",
    "Y_input_pred_ori_ens = []\n",
    "for Y_input_pred in Y_input_pred_ens:\n",
    "    Y_input_pred_ori = unlog(untransform(Y_input_pred, \n",
    "                                          Y_input_center, Y_input_scale))\n",
    "    Y_input_pred_ori_ens.append(Y_input_pred_ori)"
   ]
  },
  {
   "cell_type": "code",
   "execution_count": 114,
   "metadata": {
    "collapsed": true
   },
   "outputs": [],
   "source": [
    "Y_input_pred_ori_ens = np.array(Y_input_pred_ori_ens)"
   ]
  },
  {
   "cell_type": "markdown",
   "metadata": {},
   "source": [
    "## Predict for Output Set"
   ]
  },
  {
   "cell_type": "code",
   "execution_count": 115,
   "metadata": {},
   "outputs": [
    {
     "name": "stdout",
     "output_type": "stream",
     "text": [
      "Run 0: 0 1 2 3 \n",
      "Run 1: 0 1 2 3 \n",
      "Run 2: 0 1 2 3 \n",
      "Wall time: 26.7 s\n"
     ]
    }
   ],
   "source": [
    "%%time\n",
    "Y_output_pred_list_ens = []\n",
    "for models, run in zip(models_ens, ens_list):\n",
    "    print('Run', run, end=': ')\n",
    "    Y_output_pred_list = []\n",
    "    for (gp, model, X, A) in zip(gp_list, models, X_output_list, A_output_list):\n",
    "        print(gp, end=' ')\n",
    "        Y_output_pred_list.append(model.predict([X, A]))\n",
    "    Y_output_pred_list_ens.append(Y_output_pred_list)\n",
    "    print('')"
   ]
  },
  {
   "cell_type": "markdown",
   "metadata": {
    "collapsed": true
   },
   "source": [
    "%%time\n",
    "Y_output_pred_list_ens = []\n",
    "for models, run in zip(models_ens, ens_list):\n",
    "    print('Run', run, end=': ')\n",
    "    Y_output_pred_list = []\n",
    "    for (gp, model, X, A, Z) in zip(gp_list, models, X_output_list, A_output_list, Z_output_list):\n",
    "        print(gp, end=' ')\n",
    "        Y_output_pred_list.append(model.predict([X, A, Z]))\n",
    "    Y_output_pred_list_ens.append(Y_output_pred_list)\n",
    "    print('')"
   ]
  },
  {
   "cell_type": "markdown",
   "metadata": {},
   "source": [
    "Find the original index"
   ]
  },
  {
   "cell_type": "code",
   "execution_count": 116,
   "metadata": {
    "collapsed": true
   },
   "outputs": [],
   "source": [
    "output_index_range = np.arange(len(output_gp)); #output_index_range"
   ]
  },
  {
   "cell_type": "code",
   "execution_count": 117,
   "metadata": {
    "collapsed": true
   },
   "outputs": [],
   "source": [
    "# list for original index\n",
    "output_index_list = [output_index_range[output_gp == gp] \n",
    "                     for gp in gp_list]"
   ]
  },
  {
   "cell_type": "code",
   "execution_count": 118,
   "metadata": {
    "scrolled": false
   },
   "outputs": [
    {
     "name": "stdout",
     "output_type": "stream",
     "text": [
      "(24929,) (43689,) (75648,) (797,) "
     ]
    }
   ],
   "source": [
    "for o in output_index_list:\n",
    "    print(o.shape, end=' ')"
   ]
  },
  {
   "cell_type": "code",
   "execution_count": 119,
   "metadata": {
    "collapsed": true
   },
   "outputs": [],
   "source": [
    "output_index_list_comb = np.concatenate(output_index_list); #output_index_list_comb"
   ]
  },
  {
   "cell_type": "code",
   "execution_count": 120,
   "metadata": {
    "collapsed": true
   },
   "outputs": [],
   "source": [
    "Y_output_pred_ens = []\n",
    "for Y_output_pred_list in Y_output_pred_list_ens:\n",
    "    Y_output_pred_comb = np.concatenate(Y_output_pred_list)\n",
    "    Y_output_pred = [0]*len(output_index_list_comb)\n",
    "\n",
    "    for index, y in zip(output_index_list_comb, Y_output_pred_comb):\n",
    "        Y_output_pred[index] = y\n",
    "\n",
    "    Y_output_pred = np.array(Y_output_pred)  # make it an numpy array (which will also make a copy)\n",
    "    Y_output_pred_ens.append(Y_output_pred)\n",
    "\n",
    "del Y_output_pred_comb"
   ]
  },
  {
   "cell_type": "code",
   "execution_count": 121,
   "metadata": {
    "collapsed": true
   },
   "outputs": [],
   "source": [
    "# Inverse transform Y_output_pred to original Y\n",
    "Y_output_pred_ori_ens = []\n",
    "for Y_output_pred in Y_output_pred_ens:\n",
    "    Y_output_pred_ori = unlog(untransform(Y_output_pred, \n",
    "                                          Y_output_center, Y_output_scale))\n",
    "    Y_output_pred_ori_ens.append(Y_output_pred_ori)"
   ]
  },
  {
   "cell_type": "code",
   "execution_count": 122,
   "metadata": {
    "collapsed": true
   },
   "outputs": [],
   "source": [
    "Y_output_pred_ori_ens = np.array(Y_output_pred_ori_ens)"
   ]
  },
  {
   "cell_type": "markdown",
   "metadata": {},
   "source": [
    "#### Check predict output"
   ]
  },
  {
   "cell_type": "markdown",
   "metadata": {},
   "source": [
    "Y_output_pred"
   ]
  },
  {
   "cell_type": "markdown",
   "metadata": {},
   "source": [
    "Y_output_pred_ori"
   ]
  },
  {
   "cell_type": "markdown",
   "metadata": {
    "scrolled": true
   },
   "source": [
    "examine(Y_output_pred)"
   ]
  },
  {
   "cell_type": "markdown",
   "metadata": {
    "scrolled": true
   },
   "source": [
    "examine(Y_output_pred_ori)"
   ]
  },
  {
   "cell_type": "markdown",
   "metadata": {},
   "source": [
    "view(X_output_ori[126420])"
   ]
  },
  {
   "cell_type": "markdown",
   "metadata": {},
   "source": [
    "## SMAPE Scores"
   ]
  },
  {
   "cell_type": "markdown",
   "metadata": {},
   "source": [
    "### Model Score"
   ]
  },
  {
   "cell_type": "code",
   "execution_count": 123,
   "metadata": {
    "collapsed": true,
    "scrolled": true
   },
   "outputs": [],
   "source": [
    "# SMAPE scores for the model\n",
    "if test_length:\n",
    "    model_smape_ens = []\n",
    "    model_smape_0_ens = []\n",
    "    for Y_output_pred_ori in Y_output_pred_ori_ens:\n",
    "        model_smape = smape(Y_output_raw, Y_output_pred_ori) # SMAPE score excluding nan (Correct one)\n",
    "        model_smape_0 = smape(Y_output_ori, Y_output_pred_ori) # SMAPE assuming nan == 0\n",
    "        \n",
    "        model_smape_ens.append(model_smape)\n",
    "        model_smape_0_ens.append(model_smape_0)\n",
    "    model_smape_ens_mean = np.mean(model_smape_ens)\n",
    "    model_smape_0_ens_mean = np.mean(model_smape_0_ens)\n",
    "    \n",
    "    model_smape_stdev = np.std(model_smape_ens)  # standard deviation of the smape score\n",
    "    model_smape_0_stdev = np.std(model_smape_0_ens)  # standard deviation of the smape score\n",
    "    \n",
    "    model_smape_ens_mean_std = model_smape_stdev / np.sqrt(len(model_smape_ens))"
   ]
  },
  {
   "cell_type": "code",
   "execution_count": 124,
   "metadata": {},
   "outputs": [
    {
     "name": "stdout",
     "output_type": "stream",
     "text": [
      "38.630         42.020\n",
      "38.421         41.872\n",
      "38.481         41.956\n",
      "-----------------------------\n",
      "38.511 +-0.088 41.949 +-0.060\n",
      "+-0.051\n"
     ]
    }
   ],
   "source": [
    "if test_length:\n",
    "    for model_smape, model_smape_0 in zip(model_smape_ens, model_smape_0_ens):\n",
    "        print('%6.3f' % model_smape, '       ', '%6.3f' % model_smape_0)\n",
    "    print('-----------------------------')\n",
    "    print('%6.3f' % model_smape_ens_mean, '+-%5.3f' % model_smape_stdev, \n",
    "          '%6.3f' % model_smape_0_ens_mean, '+-%5.3f' % model_smape_0_stdev)\n",
    "    print('+-%5.3f' % model_smape_ens_mean_std)"
   ]
  },
  {
   "cell_type": "code",
   "execution_count": 125,
   "metadata": {},
   "outputs": [
    {
     "name": "stdout",
     "output_type": "stream",
     "text": [
      "40.5522\n"
     ]
    }
   ],
   "source": [
    "# SMAPE score for Fibonacci median\n",
    "if test_length:\n",
    "    fib_smape = smape(Y_output_raw, Y_output_fib)\n",
    "    print(fib_smape)"
   ]
  },
  {
   "cell_type": "code",
   "execution_count": 126,
   "metadata": {
    "collapsed": true
   },
   "outputs": [],
   "source": [
    "esmape = smape"
   ]
  },
  {
   "cell_type": "code",
   "execution_count": 127,
   "metadata": {
    "collapsed": true,
    "scrolled": true
   },
   "outputs": [],
   "source": [
    "# Estimated SMAPE scores for the model using training set\n",
    "model_esmape_ens = []\n",
    "model_esmape_0_ens = []\n",
    "for Y_input_pred_ori in Y_input_pred_ori_ens:\n",
    "    model_esmape = esmape(Y_input_raw, Y_input_pred_ori) # SMAPE score excluding nan (Correct one)\n",
    "    model_esmape_0 = esmape(Y_input_ori, Y_input_pred_ori) # SMAPE assuming nan == 0\n",
    "    \n",
    "    model_esmape_ens.append(model_esmape)\n",
    "    model_esmape_0_ens.append(model_esmape_0)\n",
    "model_esmape_ens_mean = np.mean(model_esmape_ens)\n",
    "model_esmape_0_ens_mean = np.mean(model_esmape_0_ens)\n",
    "\n",
    "model_esmape_stdev = np.std(model_esmape_ens)  # standard deviation of the esmape score\n",
    "model_esmape_0_stdev = np.std(model_esmape_0_ens)  # standard deviation of the esmape score\n",
    "\n",
    "model_esmape_ens_mean_std = model_esmape_stdev / np.sqrt(len(model_esmape_ens))"
   ]
  },
  {
   "cell_type": "code",
   "execution_count": 128,
   "metadata": {},
   "outputs": [
    {
     "name": "stdout",
     "output_type": "stream",
     "text": [
      "41.899         48.893\n",
      "41.540         48.569\n",
      "41.866         48.897\n",
      "-----------------------------\n",
      "41.768 +-0.162 48.787 +-0.154\n",
      "+-0.093\n"
     ]
    }
   ],
   "source": [
    "for model_esmape, model_esmape_0 in zip(model_esmape_ens, model_esmape_0_ens):\n",
    "    print('%6.3f' % model_esmape, '       ', '%6.3f' % model_esmape_0)\n",
    "print('-----------------------------')\n",
    "print('%6.3f' % model_esmape_ens_mean, '+-%5.3f' % model_esmape_stdev, \n",
    "      '%6.3f' % model_esmape_0_ens_mean, '+-%5.3f' % model_esmape_0_stdev)\n",
    "print('+-%5.3f' % model_esmape_ens_mean_std)"
   ]
  },
  {
   "cell_type": "code",
   "execution_count": 129,
   "metadata": {},
   "outputs": [
    {
     "name": "stdout",
     "output_type": "stream",
     "text": [
      "48.403\n"
     ]
    }
   ],
   "source": [
    "# SMAPE Est score for Fibonacci median\n",
    "fib_esmape = esmape(Y_input_raw, Y_input_fib)\n",
    "print(fib_esmape)"
   ]
  },
  {
   "cell_type": "markdown",
   "metadata": {},
   "source": [
    "### Group Scores"
   ]
  },
  {
   "cell_type": "code",
   "execution_count": 130,
   "metadata": {
    "collapsed": true
   },
   "outputs": [],
   "source": [
    "# Prediction Y_output in group\n",
    "Y_output_pred_ori_list_ens = [[Y_output_pred_ori[output_gp == gp] for gp in gp_list]\n",
    "                              for Y_output_pred_ori in Y_output_pred_ori_ens]\n",
    "#Y_output_pred_ori_list = [Y_output_pred_ori[output_gp == gp] for gp in gp_list]\n",
    "Y_output_pred_ori_list = Y_output_pred_ori_list_ens[-1]  # in case you want to see one of them"
   ]
  },
  {
   "cell_type": "code",
   "execution_count": 131,
   "metadata": {
    "collapsed": true
   },
   "outputs": [],
   "source": [
    "# Prediction Y_input in group\n",
    "Y_input_pred_ori_list_ens = [[Y_input_pred_ori[input_gp == gp] for gp in gp_list]\n",
    "                              for Y_input_pred_ori in Y_input_pred_ori_ens]\n",
    "#Y_input_pred_ori_list = [Y_input_pred_ori[input_gp == gp] for gp in gp_list]\n",
    "Y_input_pred_ori_list = Y_input_pred_ori_list_ens[-1]  # in case you want to see one of them"
   ]
  },
  {
   "cell_type": "code",
   "execution_count": 132,
   "metadata": {
    "collapsed": true
   },
   "outputs": [],
   "source": [
    "# Fibonacci median in group\n",
    "Y_output_fib_list = [Y_output_fib[output_gp == gp] for gp in gp_list]"
   ]
  },
  {
   "cell_type": "code",
   "execution_count": 133,
   "metadata": {
    "collapsed": true
   },
   "outputs": [],
   "source": [
    "# Fibonacci median in group\n",
    "Y_input_fib_list = [Y_input_fib[input_gp == gp] for gp in gp_list]"
   ]
  },
  {
   "cell_type": "code",
   "execution_count": 134,
   "metadata": {
    "collapsed": true
   },
   "outputs": [],
   "source": [
    "# True Y_output in group\n",
    "if test_length:\n",
    "    # untransformed Y_output with nan replaced by 0\n",
    "    Y_output_ori_list = [Y_output_ori[output_gp == gp] for gp in gp_list]\n",
    "    \n",
    "    # untransformed Y_output_ori with nan (for SMAPE estimation)\n",
    "    Y_output_raw_list = [Y_output_raw[output_gp == gp] for gp in gp_list]"
   ]
  },
  {
   "cell_type": "code",
   "execution_count": 135,
   "metadata": {
    "collapsed": true
   },
   "outputs": [],
   "source": [
    "# True Y_input in group\n",
    "# untransformed Y_input with nan replaced by 0\n",
    "Y_input_ori_list = [Y_input_ori[input_gp == gp] for gp in gp_list]\n",
    "\n",
    "# untransformed Y_input_ori with nan (for SMAPE estimation)\n",
    "Y_input_raw_list = [Y_input_raw[input_gp == gp] for gp in gp_list]"
   ]
  },
  {
   "cell_type": "code",
   "execution_count": 136,
   "metadata": {},
   "outputs": [
    {
     "data": {
      "text/plain": [
       "145063"
      ]
     },
     "execution_count": 136,
     "metadata": {},
     "output_type": "execute_result"
    }
   ],
   "source": [
    "tot_n = len(output_gp); tot_n  # total number of pages in output set"
   ]
  },
  {
   "cell_type": "code",
   "execution_count": 137,
   "metadata": {
    "collapsed": true
   },
   "outputs": [],
   "source": [
    "def count_not_nan(data):\n",
    "    return np.count_nonzero(~np.isnan(data))"
   ]
  },
  {
   "cell_type": "code",
   "execution_count": 138,
   "metadata": {},
   "outputs": [
    {
     "name": "stdout",
     "output_type": "stream",
     "text": [
      "[ 64.93619537  40.07850647  29.9738903   32.09417343]\n"
     ]
    }
   ],
   "source": [
    "# Group scores for the model\n",
    "if test_length:\n",
    "    gp_n = [len(Y) for Y in Y_output_raw_list]\n",
    "    # SMAPE with nan values ignored (used by Kaggle)\n",
    "    gp_smape_ens = [[smape(Y, Y_p) for Y, Y_p in zip(Y_output_raw_list, Y_output_pred_ori_list)]\n",
    "                    for Y_output_pred_ori_list in Y_output_pred_ori_list_ens]\n",
    "    gp_smape = gp_smape_ens[-1]    \n",
    "    gp_smape_mean = np.mean(gp_smape_ens, axis=0)\n",
    "    print(gp_smape_mean)"
   ]
  },
  {
   "cell_type": "code",
   "execution_count": 139,
   "metadata": {},
   "outputs": [
    {
     "name": "stdout",
     "output_type": "stream",
     "text": [
      "[ 71.18457031  44.19030762  32.15574265  26.0291748 ]\n"
     ]
    }
   ],
   "source": [
    "# Group estimated scores for the model\n",
    "gp_n = [len(Y) for Y in Y_input_raw_list]\n",
    "# SMAPE with nan values ignored (used by Kaggle)\n",
    "gp_esmape_ens = [[esmape(Y, Y_p) for Y, Y_p in zip(Y_input_raw_list, Y_input_pred_ori_list)]\n",
    "                for Y_input_pred_ori_list in Y_input_pred_ori_list_ens]\n",
    "gp_esmape = gp_esmape_ens[-1]    \n",
    "gp_esmape_mean = np.mean(gp_esmape_ens, axis=0)\n",
    "print(gp_esmape_mean)"
   ]
  },
  {
   "cell_type": "markdown",
   "metadata": {
    "collapsed": true
   },
   "source": [
    "if test_length:\n",
    "    #gp_smape = [smape(Y, Y_p) for Y, Y_p \n",
    "    #            in zip(Y_output_raw_list, Y_output_pred_ori_list)]\n",
    "    \n",
    "    #n_not_nan = count_not_nan(Y_output_raw)\n",
    "    #n_not_nan_gp = [count_not_nan(Y) for Y in Y_output_raw_list]\n",
    "    #n_not_nan_ratio_gp = [n / (len(Y) * len(Y[0])) for Y,n \n",
    "    #                      in zip(Y_output_raw_list, n_not_nan_gp)]\n",
    "    \n",
    "    # SMAPE contribution\n",
    "    #gp_smape_sum = [s * n for n, s in zip(gp_smape, n_not_nan_gp)]\n",
    "    #gp_smape_cont = [s / n_not_nan for s in gp_smape_sum]"
   ]
  },
  {
   "cell_type": "code",
   "execution_count": 140,
   "metadata": {
    "collapsed": true
   },
   "outputs": [],
   "source": [
    "# Group score for Fibonacci median\n",
    "if test_length:\n",
    "    gp_smape_fib = [smape(Y, Y_p) for Y, Y_p in zip(Y_output_raw_list, Y_output_fib_list)]"
   ]
  },
  {
   "cell_type": "code",
   "execution_count": 141,
   "metadata": {
    "collapsed": true
   },
   "outputs": [],
   "source": [
    "# Group Estimated score for Fibonacci median\n",
    "gp_esmape_fib = [esmape(Y, Y_p) for Y, Y_p in zip(Y_input_raw_list, Y_input_fib_list)]"
   ]
  },
  {
   "cell_type": "code",
   "execution_count": 142,
   "metadata": {},
   "outputs": [
    {
     "name": "stdout",
     "output_type": "stream",
     "text": [
      "#### model_10_Modified_CNN_4_The_Model_2_Longer_Prediction_4_63_64\n",
      "|N_pages |Fibonacci| Average | Model 0 | Model 1 | Model 2 |\n",
      "|--------|---------|---------|---------|---------|---------|\n",
      "|  24929 |  61.209 |  64.936 |  64.946 |  64.781 |  65.082 |\n",
      "|  43689 |  40.710 |  40.079 |  40.336 |  39.896 |  40.003 |\n",
      "|  75648 |  34.504 |  29.974 |  30.048 |  29.953 |  29.920 |\n",
      "|    797 |  34.828 |  32.094 |  31.922 |  32.368 |  31.993 |\n",
      "|  Total |  40.552 |  38.511 |  38.630 |  38.421 |  38.481 |"
     ]
    }
   ],
   "source": [
    "if test_length:  # gp_score compare\n",
    "    print('#### ' + model_name)\n",
    "    print('', end='|')\n",
    "    print('N_pages ', 'Fibonacci', ' Average ', sep='|', end='|')\n",
    "    for run in ens_list: print(' Model', run, end=' |')\n",
    "    print('')\n",
    "    print('', end='|')\n",
    "    print('--------', '---------', '---------', sep='|', end='|')\n",
    "    for run in ens_list: print('---------', end='|')\n",
    "    print('')\n",
    "    for gp in gp_list:\n",
    "        print('', end='|')\n",
    "        print(' %6d ' % gp_n[gp], end='|')\n",
    "        print(' %7.3f ' % gp_smape_fib[gp], end='|')\n",
    "        print(' %7.3f ' % gp_smape_mean[gp], end='|')\n",
    "        for run in ens_list:\n",
    "            print(' %7.3f ' % gp_smape_ens[run][gp], end='|')\n",
    "        print('')\n",
    "    print('|  Total ', ' %7.3f ' % fib_smape, ' %7.3f ' % model_smape_ens_mean, sep='|', end='|')\n",
    "    for run in ens_list:\n",
    "            print(' %7.3f ' % model_smape_ens[run], end='|')"
   ]
  },
  {
   "cell_type": "code",
   "execution_count": 143,
   "metadata": {},
   "outputs": [
    {
     "name": "stdout",
     "output_type": "stream",
     "text": [
      "#### model_10_Modified_CNN_4_The_Model_2_Longer_Prediction_4_63_64 Est\n",
      "|N_pages |Fibonacci| Average | Model 0 | Model 1 | Model 2 |\n",
      "|--------|---------|---------|---------|---------|---------|\n",
      "|  24929 |  64.766 |  71.185 |  71.171 |  71.052 |  71.331 |\n",
      "|  43689 |  50.505 |  44.190 |  44.227 |  44.039 |  44.305 |\n",
      "|  75648 |  42.678 |  32.156 |  32.385 |  31.848 |  32.234 |\n",
      "|    797 |  34.208 |  26.029 |  25.821 |  26.516 |  25.750 |\n",
      "|  Total |  48.403 |  41.768 |  41.899 |  41.540 |  41.866 |"
     ]
    }
   ],
   "source": [
    "#Estimated gp_score compare\n",
    "print('#### ' + model_name, 'Est')\n",
    "print('', end='|')\n",
    "print('N_pages ', 'Fibonacci', ' Average ', sep='|', end='|')\n",
    "for run in ens_list: print(' Model', run, end=' |')\n",
    "print('')\n",
    "print('', end='|')\n",
    "print('--------', '---------', '---------', sep='|', end='|')\n",
    "for run in ens_list: print('---------', end='|')\n",
    "print('')\n",
    "for gp in gp_list:\n",
    "    print('', end='|')\n",
    "    print(' %6d ' % gp_n[gp], end='|')\n",
    "    print(' %7.3f ' % gp_esmape_fib[gp], end='|')\n",
    "    print(' %7.3f ' % gp_esmape_mean[gp], end='|')\n",
    "    for run in ens_list:\n",
    "        print(' %7.3f ' % gp_esmape_ens[run][gp], end='|')\n",
    "    print('')\n",
    "print('|  Total ', ' %7.3f ' % fib_esmape, ' %7.3f ' % model_esmape_ens_mean, sep='|', end='|')\n",
    "for run in ens_list:\n",
    "        print(' %7.3f ' % model_esmape_ens[run], end='|')"
   ]
  },
  {
   "cell_type": "markdown",
   "metadata": {},
   "source": [
    "#### model_10_Modified_CNN_4_The_Model\n",
    "|N_pages |Fibonacci| Average | Model 0 | Model 1 | Model 2 | Model 3 | Model 4 |\n",
    "|--------|---------|---------|---------|---------|---------|---------|---------|\n",
    "|  24964 |  61.170 |  68.291 |  68.432 |  67.965 |  68.039 |  68.527 |  68.492 |\n",
    "|  43691 |  40.612 |  39.986 |  39.863 |  39.935 |  40.101 |  39.696 |  40.336 |\n",
    "|  75617 |  34.284 |  29.633 |  29.641 |  29.453 |  29.630 |  29.832 |  29.606 |\n",
    "|    791 |  34.653 |  33.308 |  33.714 |  33.951 |  32.934 |  33.296 |  32.647 |\n",
    "|  Total |  40.404 |  38.836 |  38.826 |  38.677 |  38.829 |  38.889 |  38.957 |\n",
    "#### model_10_Modified_CNN_1_Z\n",
    "|N_pages |Fibonacci| Average | Model 0 | Model 1 | Model 2 | Model 3 | Model 4 |\n",
    "|--------|---------|---------|---------|---------|---------|---------|---------|\n",
    "|   1879 |  57.385 | 158.876 | 166.920 | 167.117 | 154.478 | 165.189 | 140.678 |\n",
    "|  23085 |  61.354 |  64.057 |  63.166 |  63.533 |  63.921 |  64.384 |  65.282 |\n",
    "|  43691 |  40.612 |  40.025 |  40.088 |  39.890 |  40.224 |  40.132 |  39.794 |\n",
    "|  75617 |  34.284 |  29.755 |  29.759 |  29.741 |  29.658 |  29.865 |  29.752 |\n",
    "|    740 |  35.621 |  33.983 |  33.411 |  33.945 |  34.447 |  34.013 |  34.100 |\n",
    "|     51 |  20.224 |  17.259 |  17.687 |  17.204 |  17.227 |  17.300 |  16.878 |\n",
    "|  Total |  40.404 |  38.937 |  38.881 |  38.869 |  38.897 |  39.122 |  38.914 |\n",
    "#### model_10_Modified_CNN_0_median_stdev\n",
    "|N_pages |Fibonacci| Model 0 | Model 1 | Model 2 | Model 3 | Model 4 |\n",
    "|--------|---------|---------|---------|---------|---------|---------|\n",
    "|   1879 |  57.385 | 161.576 | 156.487 | 166.024 | 139.355 | 159.019 |\n",
    "|  23085 |  61.354 |  64.389 |  64.273 |  64.008 |  63.988 |  64.148 |\n",
    "|  43691 |  40.612 |  39.684 |  39.842 |  39.969 |  39.808 |  40.173 |\n",
    "|  75617 |  34.284 |  29.538 |  29.575 |  29.454 |  29.907 |  29.573 |\n",
    "|    740 |  35.621 |  33.564 |  33.710 |  33.397 |  33.666 |  33.965 |\n",
    "|     51 |  20.224 |  16.406 |  16.451 |  17.309 |  16.628 |  16.331 |\n",
    "#### model_9_CNN_with_Fibonacci_4_Ensemble_3_filter_3\n",
    "|N_pages |Fibonacci| Model 0 | Model 1 | Model 2 | Model 3 | Model 4 |\n",
    "|--------|---------|---------|---------|---------|---------|---------|\n",
    "|   1879 |  57.385 | 161.230 | 166.806 | 139.008 | 152.935 | 170.833 |\n",
    "|  23085 |  61.354 |  64.048 |  63.281 |  63.966 |  63.664 |  63.569 |\n",
    "|  43691 |  40.612 |  40.004 |  39.860 |  40.201 |  39.817 |  40.143 |\n",
    "|  75617 |  34.284 |  30.201 |  29.582 |  29.611 |  29.744 |  29.618 |\n",
    "|    740 |  35.621 |  33.801 |  34.143 |  34.101 |  34.290 |  34.145 |\n",
    "|     51 |  20.224 |  16.933 |  17.094 |  16.930 |  17.424 |  16.985 |\n",
    "\n",
    "#### model_9_CNN_with_Fibonacci_4_Ensemble\n",
    "|N_pages |Fibonacci| Model 0 |\n",
    "|--------|---------|---------|\n",
    "|   1879 |  57.385 | 146.145 |\n",
    "|  23085 |  61.354 |  64.128 |\n",
    "|  43691 |  40.612 |  40.052 |\n",
    "|  75617 |  34.284 |  29.862 |\n",
    "|    740 |  35.621 |  34.607 |\n",
    "|     51 |  20.224 |  16.023 |"
   ]
  },
  {
   "cell_type": "markdown",
   "metadata": {},
   "source": [
    "### Page Scores"
   ]
  },
  {
   "cell_type": "code",
   "execution_count": 144,
   "metadata": {
    "scrolled": true
   },
   "outputs": [
    {
     "name": "stderr",
     "output_type": "stream",
     "text": [
      "c:\\python36\\lib\\site-packages\\ipykernel_launcher.py:5: RuntimeWarning: Mean of empty slice\n",
      "  \"\"\"\n"
     ]
    }
   ],
   "source": [
    "if test_length:  # Page scores for the model\n",
    "    smape_Y_pred_ens = []\n",
    "    for Y_output_pred_ori in Y_output_pred_ori_ens:\n",
    "        smape_Y_pred = np.nan_to_num(np.array([smape(yp, y) for yp, y \n",
    "                                               in zip(Y_output_pred_ori, Y_output_raw)]))\n",
    "        smape_Y_pred_ens.append(smape_Y_pred)"
   ]
  },
  {
   "cell_type": "code",
   "execution_count": 145,
   "metadata": {
    "scrolled": true
   },
   "outputs": [
    {
     "name": "stderr",
     "output_type": "stream",
     "text": [
      "c:\\python36\\lib\\site-packages\\ipykernel_launcher.py:5: RuntimeWarning: Mean of empty slice\n",
      "  \"\"\"\n"
     ]
    }
   ],
   "source": [
    "if test_length:  # Page score for Fib.\n",
    "    smape_Y_fib = np.nan_to_num(np.array([smape(yp, y) for yp, y \n",
    "                                          in zip(Y_output_fib, Y_output_raw)]))"
   ]
  },
  {
   "cell_type": "markdown",
   "metadata": {},
   "source": [
    "if test_length:\n",
    "    for smape_Y_pred in smape_Y_pred_ens:\n",
    "        plt.hist(smape_Y_pred, bins=40, alpha=0.4)\n",
    "        #plt.yscale('log')\n",
    "    plt.title('Ensemble Page SMAPE'); plt.show()"
   ]
  },
  {
   "cell_type": "code",
   "execution_count": 146,
   "metadata": {},
   "outputs": [
    {
     "data": {
      "image/png": "[encoded data removed]",
      "text/plain": [
       "<matplotlib.figure.Figure at 0x96459748>"
      ]
     },
     "metadata": {},
     "output_type": "display_data"
    }
   ],
   "source": [
    "if test_length:\n",
    "    plt.hist(smape_Y_fib, bins=40, alpha=0.6, label='Fib.')\n",
    "    plt.hist(smape_Y_pred, bins=40, alpha=0.6, label='Model')\n",
    "    #plt.yscale('log')\n",
    "    plt.legend(); plt.show()"
   ]
  },
  {
   "cell_type": "markdown",
   "metadata": {},
   "source": [
    "### Page Scores in Each Group"
   ]
  },
  {
   "cell_type": "code",
   "execution_count": 147,
   "metadata": {
    "collapsed": true
   },
   "outputs": [],
   "source": [
    "if test_length:  # The model\n",
    "    smape_Y_pred_list_ens = []\n",
    "    for smape_Y_pred in smape_Y_pred_ens:\n",
    "        smape_Y_pred_list = [smape_Y_pred[output_gp == gp] for gp in gp_list]\n",
    "        smape_Y_pred_list_ens.append(smape_Y_pred_list)"
   ]
  },
  {
   "cell_type": "code",
   "execution_count": 148,
   "metadata": {
    "collapsed": true
   },
   "outputs": [],
   "source": [
    "if test_length:  # Fib.\n",
    "    smape_Y_fib_list = [smape_Y_fib[output_gp == gp] for gp in gp_list]"
   ]
  },
  {
   "cell_type": "markdown",
   "metadata": {},
   "source": [
    "#### Plots"
   ]
  },
  {
   "cell_type": "code",
   "execution_count": 149,
   "metadata": {},
   "outputs": [
    {
     "data": {
      "image/png": "[encoded data removed]",
      "text/plain": [
       "<matplotlib.figure.Figure at 0x95359a58>"
      ]
     },
     "metadata": {},
     "output_type": "display_data"
    }
   ],
   "source": [
    "if test_length:\n",
    "    for gp,s in zip(gp_list,smape_Y_pred_list):\n",
    "        plt.hist(s, bins=40, normed=True, alpha=0.6, label='gp = ' + str(gp))\n",
    "    #plt.yscale('log')\n",
    "    plt.legend(); plt.show()"
   ]
  },
  {
   "cell_type": "code",
   "execution_count": 150,
   "metadata": {},
   "outputs": [
    {
     "data": {
      "image/png": "[encoded data removed]",
      "text/plain": [
       "<matplotlib.figure.Figure at 0x95435a90>"
      ]
     },
     "metadata": {},
     "output_type": "display_data"
    }
   ],
   "source": [
    "if test_length:\n",
    "    for gp,s in zip(gp_list,smape_Y_pred_list):\n",
    "        plt.hist(s, bins=40, alpha=0.6, label='gp = ' + str(gp))\n",
    "    #plt.yscale('log')\n",
    "    plt.legend(); plt.show()"
   ]
  },
  {
   "cell_type": "code",
   "execution_count": 151,
   "metadata": {
    "scrolled": true
   },
   "outputs": [
    {
     "data": {
      "image/png": "[encoded data removed]",
      "text/plain": [
       "<matplotlib.figure.Figure at 0x96be89b0>"
      ]
     },
     "metadata": {},
     "output_type": "display_data"
    },
    {
     "data": {
      "image/png": "[encoded data removed]",
      "text/plain": [
       "<matplotlib.figure.Figure at 0x9db28c88>"
      ]
     },
     "metadata": {},
     "output_type": "display_data"
    },
    {
     "data": {
      "image/png": "[encoded data removed]",
      "text/plain": [
       "<matplotlib.figure.Figure at 0x9dba19b0>"
      ]
     },
     "metadata": {},
     "output_type": "display_data"
    },
    {
     "data": {
      "image/png": "[encoded data removed]",
      "text/plain": [
       "<matplotlib.figure.Figure at 0x9db973c8>"
      ]
     },
     "metadata": {},
     "output_type": "display_data"
    }
   ],
   "source": [
    "if test_length:\n",
    "    for gp in gp_list:\n",
    "        plt.hist(smape_Y_fib_list[gp], bins=40, alpha=0.6, label='Fib.')\n",
    "        plt.hist(smape_Y_pred_list[gp], bins=40, alpha=0.6, label='Model')\n",
    "        plt.title('gp = '+str(gp)); plt.legend()\n",
    "        plt.show()\n",
    "    #plt.yscale('log')\n",
    "    #plt.ylim([0,0.05])"
   ]
  },
  {
   "cell_type": "markdown",
   "metadata": {},
   "source": [
    "## Prediction Pre Combine\n",
    "Combine group 0, 1 from Fib and rest from the model"
   ]
  },
  {
   "cell_type": "markdown",
   "metadata": {},
   "source": [
    "Y_output_fib.shape"
   ]
  },
  {
   "cell_type": "code",
   "execution_count": 152,
   "metadata": {},
   "outputs": [
    {
     "data": {
      "text/plain": [
       "(145063, 64)"
      ]
     },
     "execution_count": 152,
     "metadata": {},
     "output_type": "execute_result"
    }
   ],
   "source": [
    "Y_output_fib_ori = np.repeat(Y_output_fib, y_length, axis=1); Y_output_fib_ori.shape"
   ]
  },
  {
   "cell_type": "code",
   "execution_count": 153,
   "metadata": {},
   "outputs": [
    {
     "data": {
      "text/plain": [
       "(145063, 1)"
      ]
     },
     "execution_count": 153,
     "metadata": {},
     "output_type": "execute_result"
    }
   ],
   "source": [
    "# Select group 0 from Fib.\n",
    "fib_mask = (output_gp == 0).reshape(-1,1); fib_mask.shape\n",
    "#fib_mask = ((output_gp == 0)|(output_gp == 1)).reshape(-1,1); fib_mask.shape"
   ]
  },
  {
   "cell_type": "code",
   "execution_count": 154,
   "metadata": {
    "collapsed": true
   },
   "outputs": [],
   "source": [
    "# The combined result\n",
    "Y_output_fmc_ori_ens = []\n",
    "for Y_output_pred_ori in Y_output_pred_ori_ens:\n",
    "    \n",
    "    Y_output_fmc_ori = fib_mask * Y_output_fib_ori + (~fib_mask) * Y_output_pred_ori\n",
    "    \n",
    "    Y_output_fmc_ori_ens.append(Y_output_fmc_ori)"
   ]
  },
  {
   "cell_type": "markdown",
   "metadata": {},
   "source": [
    "Y_output_fmc_ori"
   ]
  },
  {
   "cell_type": "markdown",
   "metadata": {},
   "source": [
    "#### Pre Combined Score"
   ]
  },
  {
   "cell_type": "code",
   "execution_count": 155,
   "metadata": {
    "collapsed": true
   },
   "outputs": [],
   "source": [
    "if test_length: \n",
    "    fmc_smape_ens = []\n",
    "    for Y_output_fmc_ori in Y_output_fmc_ori_ens:\n",
    "        fmc_smape = smape(Y_output_fmc_ori, Y_output_raw)\n",
    "        fmc_smape_ens.append(fmc_smape)        \n",
    "    fmc_smape_ens_mean = np.mean(fmc_smape_ens)"
   ]
  },
  {
   "cell_type": "code",
   "execution_count": 156,
   "metadata": {},
   "outputs": [
    {
     "name": "stdout",
     "output_type": "stream",
     "text": [
      "38.051 (38.630) - model_10_Modified_CNN_4_The_Model_2_Longer_Prediction_4_63_64 0\n",
      "37.868 (38.421) - model_10_Modified_CNN_4_The_Model_2_Longer_Prediction_4_63_64 1\n",
      "37.881 (38.481) - model_10_Modified_CNN_4_The_Model_2_Longer_Prediction_4_63_64 2\n",
      "37.933 (38.511) - model_10_Modified_CNN_4_The_Model_2_Longer_Prediction_4_63_64 Average\n"
     ]
    }
   ],
   "source": [
    "if test_length: \n",
    "    for run, fmc_smape, model_smape in zip(ens_list, fmc_smape_ens, model_smape_ens):\n",
    "        print('%6.3f' % fmc_smape, '(%6.3f)' % model_smape, '-', model_name, run)\n",
    "    print('%6.3f' % fmc_smape_ens_mean, '(%6.3f)' % model_smape_ens_mean, '-', model_name, 'Average')"
   ]
  },
  {
   "cell_type": "markdown",
   "metadata": {},
   "source": [
    "## Ensemble Learning"
   ]
  },
  {
   "cell_type": "markdown",
   "metadata": {},
   "source": [
    "### Ensemble Median"
   ]
  },
  {
   "cell_type": "code",
   "execution_count": 157,
   "metadata": {},
   "outputs": [
    {
     "data": {
      "text/plain": [
       "(145063, 64)"
      ]
     },
     "execution_count": 157,
     "metadata": {},
     "output_type": "execute_result"
    }
   ],
   "source": [
    "Y_output_pred_ori_ens_med = np.median(Y_output_pred_ori_ens, axis=0)\n",
    "Y_output_pred_ori_ens_med.shape"
   ]
  },
  {
   "cell_type": "markdown",
   "metadata": {},
   "source": [
    "Y_output_pred_ori_ens_med"
   ]
  },
  {
   "cell_type": "code",
   "execution_count": 158,
   "metadata": {},
   "outputs": [
    {
     "data": {
      "text/plain": [
       "38.221931"
      ]
     },
     "execution_count": 158,
     "metadata": {},
     "output_type": "execute_result"
    }
   ],
   "source": [
    "ens_med_smape = smape(Y_output_pred_ori_ens_med, Y_output_raw); ens_med_smape"
   ]
  },
  {
   "cell_type": "markdown",
   "metadata": {},
   "source": [
    "Best ways seem to be taking median either before or after transformation."
   ]
  },
  {
   "cell_type": "markdown",
   "metadata": {},
   "source": [
    "### Ensemble Combine with Fibonacci Median"
   ]
  },
  {
   "cell_type": "code",
   "execution_count": 159,
   "metadata": {},
   "outputs": [
    {
     "data": {
      "text/plain": [
       "(145063, 1)"
      ]
     },
     "execution_count": 159,
     "metadata": {},
     "output_type": "execute_result"
    }
   ],
   "source": [
    "#Replace group 0 by Fib. Median\n",
    "fib_mask = ((output_gp == 0)).reshape(-1,1); fib_mask.shape\n",
    "#fib_mask = ((output_gp == 0)|(output_gp == 1)).reshape(-1,1); fib_mask.shape"
   ]
  },
  {
   "cell_type": "code",
   "execution_count": 160,
   "metadata": {
    "collapsed": true
   },
   "outputs": [],
   "source": [
    "#Y_output_f_omean = fib_mask * Y_output_fib_ori + (~fib_mask) * Y_output_pred_ori_ens_mean\n",
    "Y_output_f_omed  = fib_mask * Y_output_fib_ori + (~fib_mask) * Y_output_pred_ori_ens_med  # Our final output\n",
    "#Y_output_f_meano = fib_mask * Y_output_fib_ori + (~fib_mask) * Y_output_pred_ens_mean_ori\n",
    "#Y_output_f_medo  = fib_mask * Y_output_fib_ori + (~fib_mask) * Y_output_pred_ens_med_ori"
   ]
  },
  {
   "cell_type": "markdown",
   "metadata": {},
   "source": [
    "## All Model Scores"
   ]
  },
  {
   "cell_type": "code",
   "execution_count": 161,
   "metadata": {
    "collapsed": true,
    "scrolled": true
   },
   "outputs": [],
   "source": [
    "if test_length:  # Ensemble learning model score\n",
    "    #f_omean_smape = smape(Y_output_raw, Y_output_f_omean)\n",
    "    f_omed_smape = smape(Y_output_raw, Y_output_f_omed)\n",
    "    #f_meano_smape = smape(Y_output_raw, Y_output_f_meano)\n",
    "    #f_medo_smape = smape(Y_output_raw, Y_output_f_medo)"
   ]
  },
  {
   "cell_type": "code",
   "execution_count": 162,
   "metadata": {
    "scrolled": true
   },
   "outputs": [
    {
     "name": "stdout",
     "output_type": "stream",
     "text": [
      "37.686 (38.222) - model_10_Modified_CNN_4_The_Model_2_Longer_Prediction_4_63_64 ori_ensemble_median\n",
      "37.933 (38.511) - model_10_Modified_CNN_4_The_Model_2_Longer_Prediction_4_63_64 Average\n",
      "38.051 (38.630) - model_10_Modified_CNN_4_The_Model_2_Longer_Prediction_4_63_64 0\n",
      "37.868 (38.421) - model_10_Modified_CNN_4_The_Model_2_Longer_Prediction_4_63_64 1\n",
      "37.881 (38.481) - model_10_Modified_CNN_4_The_Model_2_Longer_Prediction_4_63_64 2\n"
     ]
    }
   ],
   "source": [
    "if test_length: # The_score with (without) combining Fibonacci median model\n",
    "    #print('%6.3f         ' % f_omean_smape, '-', model_name, 'ori_ens_mean')\n",
    "    print('%6.3f' % f_omed_smape, '(%6.3f)' % ens_med_smape,'-', model_name, 'ori_ensemble_median')\n",
    "    #print('%6.3f         ' % f_meano_smape, '-', model_name, 'ens_mean_ori')\n",
    "    #print('%6.3f         ' % f_medo_smape, '-', model_name, 'ens_med_ori')\n",
    "    print('%6.3f' % fmc_smape_ens_mean, '(%6.3f)' % model_smape_ens_mean, '-', model_name, 'Average')\n",
    "    for run, fmc_smape, model_smape in zip(ens_list, fmc_smape_ens, model_smape_ens):\n",
    "        print('%6.3f' % fmc_smape, '(%6.3f)' % model_smape, '-', model_name, run)"
   ]
  },
  {
   "cell_type": "markdown",
   "metadata": {},
   "source": [
    "37.429 (38.536) - model_10_Modified_CNN_4_The_Model ori_ensemble_median\n",
    "37.731 (38.836) - model_10_Modified_CNN_4_The_Model Average\n",
    "37.699 (38.826) - model_10_Modified_CNN_4_The_Model 0\n",
    "37.623 (38.677) - model_10_Modified_CNN_4_The_Model 1\n",
    "37.763 (38.829) - model_10_Modified_CNN_4_The_Model 2\n",
    "37.748 (38.889) - model_10_Modified_CNN_4_The_Model 3\n",
    "37.821 (38.957) - model_10_Modified_CNN_4_The_Model 4\n",
    "\n",
    "37.436          - model_10_Modified_CNN_0_median_stdev ori_ens_mean\n",
    "37.382          - model_10_Modified_CNN_0_median_stdev ori_ens_med\n",
    "37.394          - model_10_Modified_CNN_0_median_stdev ens_mean_ori\n",
    "37.382          - model_10_Modified_CNN_0_median_stdev ens_med_ori\n",
    "37.687 (38.816) - model_10_Modified_CNN_0_median_stdev Average"
   ]
  },
  {
   "cell_type": "markdown",
   "metadata": {},
   "source": [
    "Ensemble of model are all better than the individual model."
   ]
  },
  {
   "cell_type": "markdown",
   "metadata": {},
   "source": [
    "fmc_smape_ens"
   ]
  },
  {
   "cell_type": "markdown",
   "metadata": {},
   "source": [
    "fmc_smape_ens_mean"
   ]
  },
  {
   "cell_type": "markdown",
   "metadata": {
    "collapsed": true
   },
   "source": [
    "#### Combined Scores:\n",
    "37.473          - model_10_Modified_CNN_1_Z ori_ensemble_median\n",
    "\n",
    "37.535          - model_10_Modified_CNN_0_median_stdev_2_3_groups ori_ensemble_median\n",
    "\n",
    "37.382          - model_10_Modified_CNN_0_median_stdev ori_ens_med\n",
    "\n",
    "37.687 (38.816) - model_10_Modified_CNN_0_median_stdev Average\n",
    "\n",
    "38.734 (39.415) - Model 9.1.0 - model_9_CNN_with_Fibonacci_1_no_group 1\n",
    "\n",
    "38.227 (39.321) - Model 9.0.0 - model_9_CNN_with_Fibonacci_0_separate_Fib_median 1\n",
    "\n",
    "43.009 (44.180) - Model 7.8.0 - model_7_CNN_with_Fibonacci_8_mean_absolute_error 2\n",
    "\n",
    "44.070 (45.335) - Model 7.6.3 - model_7_CNN_with_Fibonacci_6_Wider_3_conv_120_Averagepool 1\n",
    "\n",
    "44.473 (45.652) - Model 7.6.1 - model_7_CNN_with_Fibonacci_6_Wider_1_conv_120_Maxpool 1\n",
    "\n",
    "44.433 - Model 7.5.0 - model_7_CNN_with_Fibonacci_5_Deeper_0_Initial\n",
    "\n",
    "44.168 - Model 7.2.0"
   ]
  },
  {
   "cell_type": "markdown",
   "metadata": {},
   "source": [
    "## All Group Scores"
   ]
  },
  {
   "cell_type": "code",
   "execution_count": 163,
   "metadata": {
    "collapsed": true
   },
   "outputs": [],
   "source": [
    "# ensemble result Y_output in each group\n",
    "#Y_output_pred_ori_ens_mean_list = [Y_output_pred_ori_ens_mean[output_gp == gp] for gp in gp_list]\n",
    "Y_output_pred_ori_ens_med_list = [Y_output_pred_ori_ens_med[output_gp == gp] for gp in gp_list]\n",
    "#Y_output_pred_ens_mean_ori_list = [Y_output_pred_ens_mean_ori[output_gp == gp] for gp in gp_list]\n",
    "#Y_output_pred_ens_med_ori_list = [Y_output_pred_ens_med_ori[output_gp == gp] for gp in gp_list]"
   ]
  },
  {
   "cell_type": "code",
   "execution_count": 164,
   "metadata": {
    "collapsed": true
   },
   "outputs": [],
   "source": [
    "# Group SMAPE scores\n",
    "if test_length:\n",
    "    # SMAPE with nan values ignored (used by Kaggle)\n",
    "    #gp_omean_smape = [smape(Y, Y_p) for Y, Y_p in zip(Y_output_raw_list, Y_output_pred_ori_ens_mean_list)]\n",
    "    gp_omed_smape = [smape(Y, Y_p) for Y, Y_p in zip(Y_output_raw_list, Y_output_pred_ori_ens_med_list)]\n",
    "    #gp_meano_smape = [smape(Y, Y_p) for Y, Y_p in zip(Y_output_raw_list, Y_output_pred_ens_mean_ori_list)]\n"
   ]
  },
  {
   "cell_type": "code",
   "execution_count": 165,
   "metadata": {
    "scrolled": true
   },
   "outputs": [
    {
     "name": "stdout",
     "output_type": "stream",
     "text": [
      "#### model_10_Modified_CNN_4_The_Model_2_Longer_Prediction_4_63_64\n",
      "| N_pages|Fibonacci|Ens Media| Average | Model 0 | Model 1 | Model 2 |\n",
      "|--------|---------|---------|---------|---------|---------|---------|\n",
      "|  24929 |  61.209 |  64.668 |  64.936 |  64.946 |  64.781 |  65.082 |\n",
      "|  43689 |  40.710 |  39.789 |  40.079 |  40.336 |  39.896 |  40.003 |\n",
      "|  75648 |  34.504 |  29.679 |  29.974 |  30.048 |  29.953 |  29.920 |\n",
      "|    797 |  34.828 |  31.896 |  32.094 |  31.922 |  32.368 |  31.993 |\n",
      "|Over All|  40.552 |  37.686 |  38.511 |  38.630 |  38.421 |  38.481 |"
     ]
    }
   ],
   "source": [
    "if test_length:  # The_gp_score\n",
    "    print('#### ' + model_name)\n",
    "    print('', end='|')\n",
    "    print(' N_pages', 'Fibonacci', 'Ens Media', ' Average ', sep='|', end='|')\n",
    "    for run in ens_list: print(' Model', run, end=' |')\n",
    "    print('')\n",
    "    print('', end='|')\n",
    "    print('--------', '---------', '---------', '---------', sep='|', end='|')\n",
    "    for run in ens_list: print('---------', end='|')\n",
    "    print('')\n",
    "    for gp in gp_list:\n",
    "        print('', end='|')\n",
    "        print(' %6d ' % gp_n[gp], end='|')\n",
    "        print(' %7.3f ' % gp_smape_fib[gp], end='|')\n",
    "        #print(' %7.3f ' % gp_omean_smape[gp], end='|')\n",
    "        print(' %7.3f ' % gp_omed_smape[gp], end='|')\n",
    "        #print(' %7.3f ' % gp_meano_smape[gp], end='|')\n",
    "        #print(' %7.3f ' % gp_medo_smape[gp], end='|')\n",
    "        print(' %7.3f ' % gp_smape_mean[gp], end='|')\n",
    "        for run in ens_list:\n",
    "            print(' %7.3f ' % gp_smape_ens[run][gp], end='|')\n",
    "        print('')\n",
    "    print('|Over All', ' %7.3f ' % fib_smape, ' %7.3f ' % f_omed_smape,\n",
    "          ' %7.3f ' % model_smape_ens_mean, sep='|', end='|')\n",
    "    for run in ens_list:\n",
    "            print(' %7.3f ' % model_smape_ens[run], end='|')\n",
    "\n",
    "# Note The over all score for ensemble median (Ens Media) is the one after combining with \n",
    "# Fibonacci median model not the total score"
   ]
  },
  {
   "cell_type": "markdown",
   "metadata": {},
   "source": [
    "#### model_10_Modified_CNN_4_The_Model\n",
    "| N_pages|Fibonacci|Ens Media| Average | Model 0 | Model 1 | Model 2 | Model 3 | Model 4 |\n",
    "|--------|---------|---------|---------|---------|---------|---------|---------|---------|\n",
    "|  24964 |  61.170 |  68.304 |  68.291 |  68.432 |  67.965 |  68.039 |  68.527 |  68.492 |\n",
    "|  43691 |  40.612 |  39.627 |  39.986 |  39.863 |  39.935 |  40.101 |  39.696 |  40.336 |\n",
    "|  75617 |  34.284 |  29.275 |  29.633 |  29.641 |  29.453 |  29.630 |  29.832 |  29.606 |\n",
    "|    791 |  34.653 |  33.112 |  33.308 |  33.714 |  33.951 |  32.934 |  33.296 |  32.647 |\n",
    "|Over All|  40.404 |  37.429 |  38.836 |  38.826 |  38.677 |  38.829 |  38.889 |  38.957 |\n",
    "#### model_10_Modified_CNN_0_median_stdev_2_3_groups\n",
    "| N_pages|Fibonacci|Ens Media| Average | Model 0 | Model 1 | Model 2 | Model 3 | Model 4 |\n",
    "|--------|---------|---------|---------|---------|---------|---------|---------|---------|\n",
    "|  24964 |  61.170 |  68.909 |  68.900 |  69.367 |  69.103 |  69.194 |  69.001 |  67.833 |\n",
    "|  43691 |  40.612 |  39.821 |  40.247 |  39.939 |  40.098 |  40.056 |  40.701 |  40.443 |\n",
    "|  76408 |  34.288 |  29.400 |  29.910 |  29.979 |  30.039 |  29.790 |  29.676 |  30.068 |\n",
    "|Over All|  40.404 |  37.535 |  39.140 |  39.154 |  39.194 |  39.062 |  39.169 |  39.119 |\n",
    "#### model_10_Modified_CNN_0_median_stdev\n",
    "| N_pages|Fibonacci| ori mean|ori media| mean ori|media ori| Model 0 | Model 1 | Model 2 | Model 3 | Model 4 |\n",
    "|--------|---------|---------|---------|---------|---------|---------|---------|---------|---------|---------|\n",
    "|   1879 |  57.385 | 199.741 | 172.496 | 191.624 | 172.496 | 161.576 | 156.487 | 166.024 | 139.355 | 159.019 |\n",
    "|  23085 |  61.354 |  64.110 |  64.122 |  64.116 |  64.122 |  64.389 |  64.273 |  64.008 |  63.988 |  64.148 |\n",
    "|  43691 |  40.612 |  39.620 |  39.564 |  39.574 |  39.564 |  39.684 |  39.842 |  39.969 |  39.808 |  40.173 |\n",
    "|  75617 |  34.284 |  29.300 |  29.231 |  29.248 |  29.231 |  29.538 |  29.575 |  29.454 |  29.907 |  29.573 |\n",
    "|    740 |  35.621 |  33.403 |  33.482 |  33.373 |  33.482 |  33.564 |  33.710 |  33.397 |  33.666 |  33.965 |\n",
    "|     51 |  20.224 |  16.360 |  16.338 |  16.361 |  16.338 |  16.406 |  16.451 |  17.309 |  16.628 |  16.331 |\n",
    "#### model_9_CNN_with_Fibonacci_4_Ensemble_3_filter_3\n",
    "| N_pages|Fibonacci| ori mean|ori media| mean ori|media ori| Model 0 | Model 1 | Model 2 | Model 3 | Model 4 |\n",
    "|--------|---------|---------|---------|---------|---------|---------|---------|---------|---------|---------|\n",
    "|   1879 |  57.385 | 199.921 | 173.799 | 189.346 | 173.799 | 161.230 | 166.806 | 139.008 | 152.935 | 170.833 |\n",
    "|  23085 |  61.354 |  63.635 |  63.651 |  63.644 |  63.651 |  64.048 |  63.281 |  63.966 |  63.664 |  63.569 |\n",
    "|  43691 |  40.612 |  39.693 |  39.628 |  39.637 |  39.628 |  40.004 |  39.860 |  40.201 |  39.817 |  40.143 |\n",
    "|  75617 |  34.284 |  29.444 |  29.368 |  29.381 |  29.368 |  30.201 |  29.582 |  29.611 |  29.744 |  29.618 |\n",
    "|    740 |  35.621 |  33.858 |  33.893 |  33.837 |  33.893 |  33.801 |  34.143 |  34.101 |  34.290 |  34.145 |\n",
    "|     51 |  20.224 |  16.861 |  16.948 |  16.856 |  16.948 |  16.933 |  17.094 |  16.930 |  17.424 |  16.985 |"
   ]
  },
  {
   "cell_type": "markdown",
   "metadata": {},
   "source": [
    "## More Explore"
   ]
  },
  {
   "cell_type": "markdown",
   "metadata": {},
   "source": [
    "### Group Models in other Groups"
   ]
  },
  {
   "cell_type": "code",
   "execution_count": 166,
   "metadata": {},
   "outputs": [
    {
     "name": "stdout",
     "output_type": "stream",
     "text": [
      "Run 0\n",
      "Run 1\n",
      "Run 2\n",
      "Wall time: 1min 57s\n"
     ]
    }
   ],
   "source": [
    "%%time\n",
    "smape_gpm_gp_ens = []\n",
    "for run in ens_list:\n",
    "    print('Run', run)\n",
    "    models = models_ens[run]\n",
    "    Y_output_all_ori_list = unlog(np.array([untransform(model.predict([X_output, A_output]), \n",
    "                                                        Y_output_center, output_scale) \n",
    "                                            for model in models]))\n",
    "    # row: model of the group; column: group of Y\n",
    "    smape_gpm_gp = [[smape(Y, Y_p[output_gp == gp]) for gp, Y in zip(gp_list, Y_output_raw_list)] \n",
    "                    for Y_p in Y_output_all_ori_list]\n",
    "    smape_gpm_gp_ens.append(smape_gpm_gp)\n",
    "smape_gpm_gp_ens = np.array(smape_gpm_gp_ens)"
   ]
  },
  {
   "cell_type": "code",
   "execution_count": 167,
   "metadata": {
    "collapsed": true
   },
   "outputs": [],
   "source": [
    "smape_gpm_gp_mean = np.mean(smape_gpm_gp_ens, axis=0)"
   ]
  },
  {
   "cell_type": "code",
   "execution_count": 168,
   "metadata": {
    "scrolled": true
   },
   "outputs": [
    {
     "name": "stdout",
     "output_type": "stream",
     "text": [
      "Ensemble avg  | group 0| group 1| group 2| group 3|\n",
      "--------------|--------|--------|--------|--------|\n",
      "group model 0 |  64.94 |  40.82 |  34.63 |  35.07 |\n",
      "group model 1 |  68.91 |  40.08 |  31.47 |  33.40 |\n",
      "group model 2 |  69.27 |  40.19 |  29.97 |  30.16 |\n",
      "group model 3 |  73.76 |  43.02 |  32.81 |  32.09 |\n"
     ]
    }
   ],
   "source": [
    "print('Ensemble avg  ', end='|')\n",
    "for j in range(len(smape_gpm_gp_mean[0])): print(' group', j, end='|')\n",
    "print('')\n",
    "print('--------------', end='|')\n",
    "for j in range(len(smape_gpm_gp_mean[0])): print('--------', end='|')\n",
    "print('')\n",
    "for i in range(len(smape_gpm_gp_mean)):\n",
    "    print('group model', i, end=' |')\n",
    "    for j in range(len(smape_gpm_gp_mean[0])):\n",
    "        print(' %6.2f ' % smape_gpm_gp_mean[i][j], end='|')\n",
    "    print('')"
   ]
  },
  {
   "cell_type": "markdown",
   "metadata": {},
   "source": [
    "Only group model 2 and 3 are useful"
   ]
  },
  {
   "cell_type": "code",
   "execution_count": 169,
   "metadata": {},
   "outputs": [
    {
     "name": "stdout",
     "output_type": "stream",
     "text": [
      "  64.67 |  39.79 |  29.68 |  31.90 |"
     ]
    }
   ],
   "source": [
    "for x in gp_omed_smape: print(' %6.2f ' % x, end='|')"
   ]
  },
  {
   "cell_type": "code",
   "execution_count": 170,
   "metadata": {},
   "outputs": [
    {
     "name": "stdout",
     "output_type": "stream",
     "text": [
      "  61.21 |  40.71 |  34.50 |  34.83 |"
     ]
    }
   ],
   "source": [
    "for x in gp_smape_fib: print(' %6.2f ' % x, end='|')"
   ]
  },
  {
   "cell_type": "markdown",
   "metadata": {},
   "source": [
    "Group 4 is better at group 3 model. Group 5 is better at group 2 or 3 model"
   ]
  },
  {
   "cell_type": "markdown",
   "metadata": {},
   "source": [
    "## Optimize Group Models"
   ]
  },
  {
   "cell_type": "markdown",
   "metadata": {},
   "source": [
    "### Group Models in other Groups"
   ]
  },
  {
   "cell_type": "code",
   "execution_count": 171,
   "metadata": {},
   "outputs": [
    {
     "name": "stdout",
     "output_type": "stream",
     "text": [
      "Wall time: 1min 55s\n"
     ]
    }
   ],
   "source": [
    "%%time\n",
    "Y_output_all_ori_list_ens = unlog(np.array([[untransform(model.predict([X_output, A_output]), \n",
    "                                                         Y_output_center, output_scale) \n",
    "                                            for model in models] for models in models_ens]))\n",
    "#Take 4 min on PC and NB"
   ]
  },
  {
   "cell_type": "code",
   "execution_count": 172,
   "metadata": {},
   "outputs": [
    {
     "data": {
      "text/plain": [
       "(3, 4, 145063, 64)"
      ]
     },
     "execution_count": 172,
     "metadata": {},
     "output_type": "execute_result"
    }
   ],
   "source": [
    "Y_output_all_ori_list_ens.shape  # (Ensemble, Group model, Y, y)"
   ]
  },
  {
   "cell_type": "code",
   "execution_count": 173,
   "metadata": {},
   "outputs": [
    {
     "data": {
      "text/plain": [
       "(4, 145063, 64)"
      ]
     },
     "execution_count": 173,
     "metadata": {},
     "output_type": "execute_result"
    }
   ],
   "source": [
    "#Take Ensemble median\n",
    "Y_output_all_ori_list_ens_med = np.median(Y_output_all_ori_list_ens, axis=0); Y_output_all_ori_list_ens_med.shape"
   ]
  },
  {
   "cell_type": "code",
   "execution_count": 174,
   "metadata": {
    "collapsed": true
   },
   "outputs": [],
   "source": [
    "#Group scores for each group models\n",
    "#row index: group model; column index: group of Y\n",
    "smape_gpm_gp_ens_med = [[smape(Y, Y_p[output_gp == gp]) for gp, Y in zip(gp_list, Y_output_raw_list)] \n",
    "                        for Y_p in Y_output_all_ori_list_ens_med]"
   ]
  },
  {
   "cell_type": "code",
   "execution_count": 175,
   "metadata": {},
   "outputs": [
    {
     "name": "stdout",
     "output_type": "stream",
     "text": [
      "Ens. Median   | group 0| group 1| group 2| group 3|\n",
      "--------------|--------|--------|--------|--------|\n",
      "group model 0 |  64.67 |  40.77 |  34.60 |  35.02 |\n",
      "group model 1 |  68.82 |  39.79 |  31.18 |  33.07 |\n",
      "group model 2 |  68.88 |  39.79 |  29.68 |  29.85 |\n",
      "group model 3 |  73.61 |  42.79 |  32.63 |  31.90 |\n"
     ]
    }
   ],
   "source": [
    "print('Ens. Median   ', end='|')\n",
    "for j in range(len(smape_gpm_gp_ens_med[0])): print(' group', j, end='|')\n",
    "print('')\n",
    "print('--------------', end='|')\n",
    "for j in range(len(smape_gpm_gp_ens_med[0])): print('--------', end='|')\n",
    "print('')\n",
    "for i in range(len(smape_gpm_gp_ens_med)):\n",
    "    print('group model', i, end=' |')\n",
    "    for j in range(len(smape_gpm_gp_ens_med[0])):\n",
    "        print(' %6.2f ' % smape_gpm_gp_ens_med[i][j], end='|')\n",
    "    print('')"
   ]
  },
  {
   "cell_type": "code",
   "execution_count": 176,
   "metadata": {},
   "outputs": [
    {
     "name": "stdout",
     "output_type": "stream",
     "text": [
      "  64.67 |  39.79 |  29.68 |  31.90 |"
     ]
    }
   ],
   "source": [
    "for x in gp_omed_smape: print(' %6.2f ' % x, end='|')"
   ]
  },
  {
   "cell_type": "code",
   "execution_count": 177,
   "metadata": {},
   "outputs": [
    {
     "name": "stdout",
     "output_type": "stream",
     "text": [
      "  61.21 |  40.71 |  34.50 |  34.83 |"
     ]
    }
   ],
   "source": [
    "for x in gp_smape_fib: print(' %6.2f ' % x, end='|')"
   ]
  },
  {
   "cell_type": "markdown",
   "metadata": {},
   "source": [
    "### Optimized Group Models"
   ]
  },
  {
   "cell_type": "code",
   "execution_count": 178,
   "metadata": {},
   "outputs": [
    {
     "name": "stdout",
     "output_type": "stream",
     "text": [
      "model_10_Modified_CNN_4_The_Model_2_Longer_Prediction_4_63_64 gpm_list = [0,1,2,2,]\n"
     ]
    }
   ],
   "source": [
    "gpm_list = np.argmin(smape_gpm_gp_mean,axis=0)\n",
    "\n",
    "print(model_name,'gpm_list = [', end='')\n",
    "for x in gpm_list: print(x, end=',')\n",
    "print(']')"
   ]
  },
  {
   "cell_type": "code",
   "execution_count": 179,
   "metadata": {},
   "outputs": [
    {
     "data": {
      "text/plain": [
       "array([[ True, False, False, False],\n",
       "       [False,  True, False, False],\n",
       "       [False, False,  True, False],\n",
       "       [False, False,  True, False]], dtype=bool)"
      ]
     },
     "execution_count": 179,
     "metadata": {},
     "output_type": "execute_result"
    }
   ],
   "source": [
    "gpm_mask = np.array([gpm_list == gp for gp in gp_list]).T; gpm_mask"
   ]
  },
  {
   "cell_type": "code",
   "execution_count": 180,
   "metadata": {
    "collapsed": true
   },
   "outputs": [],
   "source": [
    "Y_output_ori_list_ens_med_temp = np.tensordot(gpm_mask, Y_output_all_ori_list_ens_med, axes=([1],[0]))"
   ]
  },
  {
   "cell_type": "code",
   "execution_count": 181,
   "metadata": {},
   "outputs": [
    {
     "data": {
      "text/plain": [
       "array([[False, False,  True, ..., False,  True, False],\n",
       "       [ True,  True, False, ...,  True, False,  True],\n",
       "       [False, False, False, ..., False, False, False],\n",
       "       [False, False, False, ..., False, False, False]], dtype=bool)"
      ]
     },
     "execution_count": 181,
     "metadata": {},
     "output_type": "execute_result"
    }
   ],
   "source": [
    "gp_mask = np.array([output_gp == gp for gp in gp_list]); gp_mask"
   ]
  },
  {
   "cell_type": "code",
   "execution_count": 182,
   "metadata": {},
   "outputs": [
    {
     "data": {
      "text/plain": [
       "(4, 145063, 1)"
      ]
     },
     "execution_count": 182,
     "metadata": {},
     "output_type": "execute_result"
    }
   ],
   "source": [
    "gp_mask_reshape = gp_mask.reshape(len(gp_mask),len(gp_mask[0]),1); gp_mask_reshape.shape"
   ]
  },
  {
   "cell_type": "code",
   "execution_count": 183,
   "metadata": {
    "collapsed": true
   },
   "outputs": [],
   "source": [
    "Y_output_ori_list_ens_med_temp_mask = gp_mask_reshape * Y_output_ori_list_ens_med_temp"
   ]
  },
  {
   "cell_type": "code",
   "execution_count": 184,
   "metadata": {},
   "outputs": [
    {
     "data": {
      "text/plain": [
       "(4, 145063, 64)"
      ]
     },
     "execution_count": 184,
     "metadata": {},
     "output_type": "execute_result"
    }
   ],
   "source": [
    "Y_output_ori_list_ens_med_temp_mask.shape"
   ]
  },
  {
   "cell_type": "code",
   "execution_count": 185,
   "metadata": {
    "collapsed": true
   },
   "outputs": [],
   "source": [
    "Y_output_gpm_ens_med = np.sum(Y_output_ori_list_ens_med_temp_mask, axis=0)"
   ]
  },
  {
   "cell_type": "code",
   "execution_count": 186,
   "metadata": {},
   "outputs": [
    {
     "data": {
      "text/plain": [
       "(145063, 64)"
      ]
     },
     "execution_count": 186,
     "metadata": {},
     "output_type": "execute_result"
    }
   ],
   "source": [
    "Y_output_gpm_ens_med.shape"
   ]
  },
  {
   "cell_type": "code",
   "execution_count": 187,
   "metadata": {
    "collapsed": true
   },
   "outputs": [],
   "source": [
    "gpm_ens_smape = smape(Y_output_raw, Y_output_gpm_ens_med)"
   ]
  },
  {
   "cell_type": "code",
   "execution_count": 188,
   "metadata": {},
   "outputs": [
    {
     "data": {
      "text/plain": [
       "(38.21085, 38.221931)"
      ]
     },
     "execution_count": 188,
     "metadata": {},
     "output_type": "execute_result"
    }
   ],
   "source": [
    "gpm_ens_smape, ens_med_smape"
   ]
  },
  {
   "cell_type": "markdown",
   "metadata": {},
   "source": [
    "#### Group scores"
   ]
  },
  {
   "cell_type": "code",
   "execution_count": 189,
   "metadata": {
    "collapsed": true
   },
   "outputs": [],
   "source": [
    "Y_output_gpm_ens_med_list = [Y_output_gpm_ens_med[output_gp == gp] for gp in gp_list]"
   ]
  },
  {
   "cell_type": "code",
   "execution_count": 190,
   "metadata": {
    "collapsed": true
   },
   "outputs": [],
   "source": [
    "# Group SMAPE scores\n",
    "if test_length:\n",
    "    gp_gpm_ens_med_smape = [smape(Y, Y_p) for Y, Y_p in zip(Y_output_raw_list, Y_output_gpm_ens_med_list)]"
   ]
  },
  {
   "cell_type": "code",
   "execution_count": 191,
   "metadata": {},
   "outputs": [
    {
     "name": "stdout",
     "output_type": "stream",
     "text": [
      " N_pages|Fibonacci|GPM Optim|Ens Media| Average |\n",
      "|--------|---------|---------|---------|---------|\n",
      "|  24929 |  61.209 |  64.668 |  64.668 |  64.936 |\n",
      "|  43689 |  40.710 |  39.789 |  39.789 |  40.079 |\n",
      "|  75648 |  34.504 |  29.679 |  29.679 |  29.974 |\n",
      "|    797 |  34.828 |  29.851 |  31.896 |  32.094 |\n"
     ]
    }
   ],
   "source": [
    "if test_length:\n",
    "    #print('#### ' + model_name + 'group model optimized')\n",
    "    #print('', end='|')\n",
    "    print(' N_pages', 'Fibonacci', 'GPM Optim', 'Ens Media', ' Average ', sep='|', end='|')\n",
    "    #or run in ens_list: print(' Model', run, end=' |')\n",
    "    print('')\n",
    "    print('', end='|')\n",
    "    print('--------', '---------', '---------', '---------', '---------', sep='|', end='|')\n",
    "    #for run in ens_list: print('---------', end='|')\n",
    "    print('')\n",
    "    for gp in gp_list:\n",
    "        print('', end='|')\n",
    "        print(' %6d ' % gp_n[gp], end='|')\n",
    "        print(' %7.3f ' % gp_smape_fib[gp], end='|')\n",
    "        print(' %7.3f ' % gp_gpm_ens_med_smape[gp], end='|')\n",
    "        print(' %7.3f ' % gp_omed_smape[gp], end='|')\n",
    "        print(' %7.3f ' % gp_smape_mean[gp], end='|')\n",
    "        print('')\n",
    "    #print('|Over All', ' %7.3f ' % fib_smape, ' %7.3f ' % f_omed_smape,\n",
    "    #      ' %7.3f ' % model_smape_ens_mean, sep='|', end='|')    \n",
    "# Note The over all score for ensemble median (Ens Media) is the one after combining with \n",
    "# Fibonacci median model not the total score"
   ]
  },
  {
   "cell_type": "markdown",
   "metadata": {},
   "source": [
    "#### Combined with Fib."
   ]
  },
  {
   "cell_type": "code",
   "execution_count": 192,
   "metadata": {},
   "outputs": [
    {
     "data": {
      "text/plain": [
       "(145063, 1)"
      ]
     },
     "execution_count": 192,
     "metadata": {},
     "output_type": "execute_result"
    }
   ],
   "source": [
    "#Select group 0\n",
    "#fib_mask = ((output_gp == 0)|(output_gp == 1)).reshape(-1,1); fib_mask.shape\n",
    "fib_mask = (output_gp == 0).reshape(-1,1); fib_mask.shape"
   ]
  },
  {
   "cell_type": "code",
   "execution_count": 193,
   "metadata": {
    "collapsed": true
   },
   "outputs": [],
   "source": [
    "Y_output_f_gpm = fib_mask * Y_output_fib_ori + (~fib_mask) * Y_output_gpm_ens_med  # Our final output"
   ]
  },
  {
   "cell_type": "code",
   "execution_count": 194,
   "metadata": {
    "collapsed": true
   },
   "outputs": [],
   "source": [
    "f_gpm_ens_smape = smape(Y_output_raw, Y_output_f_gpm)"
   ]
  },
  {
   "cell_type": "code",
   "execution_count": 195,
   "metadata": {},
   "outputs": [
    {
     "name": "stdout",
     "output_type": "stream",
     "text": [
      "37.675 (38.211) - model_10_Modified_CNN_4_The_Model_2_Longer_Prediction_4_63_64 GPM Optim Ens\n"
     ]
    }
   ],
   "source": [
    "print('%6.3f' % f_gpm_ens_smape, '(%6.3f)' % gpm_ens_smape, '-', model_name, 'GPM Optim Ens')"
   ]
  },
  {
   "cell_type": "markdown",
   "metadata": {},
   "source": [
    "## Plots"
   ]
  },
  {
   "cell_type": "markdown",
   "metadata": {
    "collapsed": true
   },
   "source": [
    "### Group model examination"
   ]
  },
  {
   "cell_type": "code",
   "execution_count": 196,
   "metadata": {},
   "outputs": [
    {
     "data": {
      "text/plain": [
       "(4, 145063, 64)"
      ]
     },
     "execution_count": 196,
     "metadata": {},
     "output_type": "execute_result"
    }
   ],
   "source": [
    "Y_output_all_ori_list_ens_med.shape"
   ]
  },
  {
   "cell_type": "markdown",
   "metadata": {},
   "source": [
    "#### Group = 5"
   ]
  },
  {
   "cell_type": "code",
   "execution_count": 197,
   "metadata": {
    "collapsed": true
   },
   "outputs": [],
   "source": [
    "gp = 5\n",
    "Y_list = Y_output_all_ori_list_ens_med[:, output_gp == gp]"
   ]
  },
  {
   "cell_type": "code",
   "execution_count": 198,
   "metadata": {},
   "outputs": [
    {
     "data": {
      "text/plain": [
       "(4, 0, 64)"
      ]
     },
     "execution_count": 198,
     "metadata": {},
     "output_type": "execute_result"
    }
   ],
   "source": [
    "Y_list.shape"
   ]
  },
  {
   "cell_type": "code",
   "execution_count": 199,
   "metadata": {},
   "outputs": [
    {
     "ename": "ValueError",
     "evalue": "a must be greater than 0",
     "output_type": "error",
     "traceback": [
      "\u001b[1;31m---------------------------------------------------------------------------\u001b[0m",
      "\u001b[1;31mValueError\u001b[0m                                Traceback (most recent call last)",
      "\u001b[1;32m<ipython-input-199-863832cbd7b4>\u001b[0m in \u001b[0;36m<module>\u001b[1;34m()\u001b[0m\n\u001b[1;32m----> 1\u001b[1;33m \u001b[0mview_list\u001b[0m \u001b[1;33m=\u001b[0m \u001b[0mnp\u001b[0m\u001b[1;33m.\u001b[0m\u001b[0msort\u001b[0m\u001b[1;33m(\u001b[0m\u001b[0mnp\u001b[0m\u001b[1;33m.\u001b[0m\u001b[0mrandom\u001b[0m\u001b[1;33m.\u001b[0m\u001b[0mchoice\u001b[0m\u001b[1;33m(\u001b[0m\u001b[0mlen\u001b[0m\u001b[1;33m(\u001b[0m\u001b[0mY_list\u001b[0m\u001b[1;33m[\u001b[0m\u001b[1;36m0\u001b[0m\u001b[1;33m]\u001b[0m\u001b[1;33m)\u001b[0m\u001b[1;33m,\u001b[0m \u001b[1;36m5\u001b[0m\u001b[1;33m,\u001b[0m \u001b[0mreplace\u001b[0m\u001b[1;33m=\u001b[0m\u001b[1;32mFalse\u001b[0m\u001b[1;33m)\u001b[0m\u001b[1;33m)\u001b[0m\u001b[1;33m;\u001b[0m \u001b[0mview_list\u001b[0m\u001b[1;33m\u001b[0m\u001b[0m\n\u001b[0m",
      "\u001b[1;32mmtrand.pyx\u001b[0m in \u001b[0;36mmtrand.RandomState.choice\u001b[1;34m()\u001b[0m\n",
      "\u001b[1;31mValueError\u001b[0m: a must be greater than 0"
     ]
    }
   ],
   "source": [
    "view_list = np.sort(np.random.choice(len(Y_list[0]), 5, replace=False)); view_list"
   ]
  },
  {
   "cell_type": "code",
   "execution_count": null,
   "metadata": {
    "collapsed": true,
    "scrolled": true
   },
   "outputs": [],
   "source": [
    "print('Group ' + str(gp))\n",
    "for i in view_list:\n",
    "    print('i = ', i)\n",
    "    plt.plot(Y_output_ori_list[gp][i], label='true')\n",
    "    for gpm in gp_list:\n",
    "        plt.plot(Y_list[gpm, i], label='gpm '+ str(gpm))\n",
    "    plt.legend()\n",
    "    plt.show()    "
   ]
  },
  {
   "cell_type": "code",
   "execution_count": null,
   "metadata": {
    "collapsed": true
   },
   "outputs": [],
   "source": [
    "orinal_view_list = np.arange(len(output_gp))[output_gp == gp][view_list];\n",
    "np.array([view_list, orinal_view_list])"
   ]
  },
  {
   "cell_type": "code",
   "execution_count": null,
   "metadata": {
    "collapsed": true
   },
   "outputs": [],
   "source": [
    "np.array([fib_input_median[orinal_view_list], fib_output_median[orinal_view_list]])"
   ]
  },
  {
   "cell_type": "markdown",
   "metadata": {},
   "source": [
    "#### Group = 4"
   ]
  },
  {
   "cell_type": "code",
   "execution_count": null,
   "metadata": {
    "collapsed": true
   },
   "outputs": [],
   "source": [
    "gp = 4\n",
    "Y_list = Y_output_all_ori_list_ens_med[:, output_gp == gp]"
   ]
  },
  {
   "cell_type": "code",
   "execution_count": null,
   "metadata": {
    "collapsed": true
   },
   "outputs": [],
   "source": [
    "Y_list.shape"
   ]
  },
  {
   "cell_type": "code",
   "execution_count": null,
   "metadata": {
    "collapsed": true
   },
   "outputs": [],
   "source": [
    "view_list = np.sort(np.random.choice(len(Y_list[0]), 5, replace=False)); view_list"
   ]
  },
  {
   "cell_type": "code",
   "execution_count": null,
   "metadata": {
    "collapsed": true
   },
   "outputs": [],
   "source": [
    "output_log_std_p = [1.]"
   ]
  },
  {
   "cell_type": "code",
   "execution_count": null,
   "metadata": {
    "collapsed": true,
    "scrolled": false
   },
   "outputs": [],
   "source": [
    "print('Group ' + str(gp))\n",
    "for i in view_list:\n",
    "    print('i = ', i)\n",
    "    plt.plot(Y_output_ori_list[gp][i], label='true')\n",
    "    for gpm in gp_list:\n",
    "        plt.plot(Y_list[gpm, i], label='gpm '+ str(gpm))\n",
    "    plt.legend()\n",
    "    plt.show()    "
   ]
  },
  {
   "cell_type": "code",
   "execution_count": null,
   "metadata": {
    "collapsed": true,
    "scrolled": false
   },
   "outputs": [],
   "source": [
    "print('Group ' + str(gp))\n",
    "for i in view_list:\n",
    "    print('i = ', i)\n",
    "    plt.plot(Y_output_ori_list[gp][i], label='true')\n",
    "    for gpm in gp_list:\n",
    "        plt.plot(Y_list[gpm, i], label='gpm '+ str(gpm))\n",
    "    plt.yscale('log')\n",
    "    plt.legend(); plt.show()    "
   ]
  },
  {
   "cell_type": "code",
   "execution_count": null,
   "metadata": {
    "collapsed": true
   },
   "outputs": [],
   "source": [
    "orinal_view_list = np.arange(len(output_gp))[output_gp == gp][view_list];\n",
    "np.array([view_list, orinal_view_list])"
   ]
  },
  {
   "cell_type": "code",
   "execution_count": null,
   "metadata": {
    "collapsed": true
   },
   "outputs": [],
   "source": [
    "np.array([fib_input_median[orinal_view_list], fib_output_median[orinal_view_list]])"
   ]
  },
  {
   "cell_type": "markdown",
   "metadata": {},
   "source": [
    "#### Case 131296"
   ]
  },
  {
   "cell_type": "code",
   "execution_count": null,
   "metadata": {
    "collapsed": true
   },
   "outputs": [],
   "source": [
    "i = 131296"
   ]
  },
  {
   "cell_type": "code",
   "execution_count": null,
   "metadata": {
    "collapsed": true
   },
   "outputs": [],
   "source": [
    "multi_view((Y_output_ori[i],Y_output_pred_ori[i]))"
   ]
  },
  {
   "cell_type": "markdown",
   "metadata": {},
   "source": [
    "### Cases study"
   ]
  },
  {
   "cell_type": "code",
   "execution_count": null,
   "metadata": {
    "collapsed": true
   },
   "outputs": [],
   "source": [
    "view_list=[93175, 13986, 5464, 89589, 119659, 64392, 73856, 140331, 19234, 25591]"
   ]
  },
  {
   "cell_type": "markdown",
   "metadata": {
    "scrolled": true
   },
   "source": [
    "view_list = examine_list_gp((Y_output_ori,\n",
    "                             Y_output_pred_ori_ens_mean, \n",
    "                             Y_output_pred_ori_ens_med,\n",
    "                             Y_output_pred_ori_ens[-1], \n",
    "                             ), output_gp, view_list=view_list)"
   ]
  },
  {
   "cell_type": "markdown",
   "metadata": {},
   "source": [
    "i = 93175\n",
    "plt.plot(Y_output_ori[i], label='true')\n",
    "plt.plot(Y_output_pred_ori_ens_mean[i], label='ens mean')\n",
    "plt.plot(Y_output_pred_ori_ens_med[i], label='ens median')\n",
    "plt.plot(Y_output_pred_ens_mean_ori[i], label='ens mean before transf')\n",
    "plt.plot(Y_output_pred_ens_med_ori[i], label='ens median before transf')\n",
    "plt.plot(Y_output_pred_ori_ens[-1][i], label='run: 4')\n",
    "plt.title('i = ' + str(i) + ' gp = ' + str(output_gp[i]))\n",
    "plt.legend()\n",
    "plt.show()"
   ]
  },
  {
   "cell_type": "markdown",
   "metadata": {},
   "source": [
    "i = 93175\n",
    "plt.plot(Y_output_ori[i], label='true')\n",
    "for run in ens_list:\n",
    "    plt.plot(Y_output_pred_ori_ens[run][i], label='run' + str(run))\n",
    "plt.plot(Y_output_pred_ens_mean_ori[i], label='ens mean before transf')\n",
    "plt.title('i = ' + str(i) + ' gp = ' + str(output_gp[i]))\n",
    "plt.legend()\n",
    "plt.show()"
   ]
  },
  {
   "cell_type": "code",
   "execution_count": null,
   "metadata": {
    "collapsed": true,
    "scrolled": true
   },
   "outputs": [],
   "source": [
    "view_list = examine_list_gp((Y_output_pred_ori_ens[-1], \n",
    "                             Y_output_pred_ori_ens_med,\n",
    "                             Y_output_f_gpm, \n",
    "                             Y_output_ori), output_gp, view_list=view_list)"
   ]
  },
  {
   "cell_type": "markdown",
   "metadata": {},
   "source": [
    "view_list = comp_examine(X_output, Y_output_pred, view_list=view_list)"
   ]
  },
  {
   "cell_type": "markdown",
   "metadata": {},
   "source": [
    "view_list = comp_examine(X_output_ori, Y_output_pred_ori, view_list=view_list)"
   ]
  },
  {
   "cell_type": "code",
   "execution_count": null,
   "metadata": {
    "collapsed": true
   },
   "outputs": [],
   "source": [
    "view_list = examine_list_gp((Y_output_pred_ori, X_output_ori, Y_input_ori), output_gp, view_list=view_list)"
   ]
  },
  {
   "cell_type": "code",
   "execution_count": null,
   "metadata": {
    "collapsed": true,
    "scrolled": true
   },
   "outputs": [],
   "source": [
    "view_list = examine_list_gp((Y_output_pred_ori, X_output_ori, Y_input_ori), output_gp, view_list=view_list)"
   ]
  },
  {
   "cell_type": "markdown",
   "metadata": {},
   "source": [
    "view_list = examine_list_gp((Y_output_pred, X_output, Y_input), output_gp, view_list=view_list)"
   ]
  },
  {
   "cell_type": "markdown",
   "metadata": {},
   "source": [
    "if test_length:\n",
    "    view_list = examine_list((Y_output_pred, Y_output, X_output), view_list=view_list)"
   ]
  },
  {
   "cell_type": "markdown",
   "metadata": {},
   "source": [
    "if test_length:\n",
    "    view_list = examine_list((Y_output_pred_ori, Y_output_ori, X_output_ori), view_list=view_list)"
   ]
  },
  {
   "cell_type": "markdown",
   "metadata": {
    "scrolled": true
   },
   "source": [
    "if test_length:\n",
    "    view_list = examine_list_gp((Y_output_pred, Y_output, X_output), output_gp,\n",
    "                             view_list=view_list)"
   ]
  },
  {
   "cell_type": "markdown",
   "metadata": {
    "scrolled": true
   },
   "source": [
    "if test_length:\n",
    "    view_list = examine_list_gp((Y_output_pred_ori, Y_output_ori, X_output_ori), output_gp,\n",
    "                             view_list=view_list)"
   ]
  },
  {
   "cell_type": "markdown",
   "metadata": {},
   "source": [
    "view_list_smape = [smape(Y_output_pred_ori[i], Y_output_raw[i]) for i in view_list]; view_list_smape"
   ]
  },
  {
   "cell_type": "markdown",
   "metadata": {
    "scrolled": true
   },
   "source": [
    "view_list_review = [score < model_smape for score in view_list_smape]; view_list_review"
   ]
  },
  {
   "cell_type": "markdown",
   "metadata": {},
   "source": [
    "view_list_good = list(np.array(view_list)[view_list_review]); view_list_good"
   ]
  },
  {
   "cell_type": "markdown",
   "metadata": {},
   "source": [
    "view_list_bad = list(np.array(view_list)[~np.array(view_list_review)]); view_list_bad"
   ]
  },
  {
   "cell_type": "markdown",
   "metadata": {},
   "source": [
    "#### Good cases"
   ]
  },
  {
   "cell_type": "markdown",
   "metadata": {
    "scrolled": true
   },
   "source": [
    "examine_list_gp((Y_output_pred_ori, Y_output_ori, X_output_ori), output_gp,\n",
    "             view_list=view_list_good)"
   ]
  },
  {
   "cell_type": "markdown",
   "metadata": {},
   "source": [
    "#### Bad cases"
   ]
  },
  {
   "cell_type": "markdown",
   "metadata": {
    "scrolled": true
   },
   "source": [
    "examine_list_gp((Y_output_pred_ori, Y_output_ori, X_output_ori),output_gp,\n",
    "             view_list=view_list_bad)"
   ]
  },
  {
   "cell_type": "markdown",
   "metadata": {},
   "source": [
    "print(Y_output_center[view_list_good].reshape(-1))\n",
    "print(Y_output_center[view_list_bad].reshape(-1))"
   ]
  },
  {
   "cell_type": "markdown",
   "metadata": {},
   "source": [
    "print(output_scale[view_list_good].reshape(-1))\n",
    "print(output_scale[view_list_bad].reshape(-1))"
   ]
  },
  {
   "cell_type": "markdown",
   "metadata": {},
   "source": [
    "output_gp[view_list_good]"
   ]
  },
  {
   "cell_type": "markdown",
   "metadata": {},
   "source": [
    "output_gp[view_list_bad]"
   ]
  },
  {
   "cell_type": "markdown",
   "metadata": {},
   "source": [
    "#### Case 93175"
   ]
  },
  {
   "cell_type": "markdown",
   "metadata": {
    "collapsed": true
   },
   "source": [
    "i = 93175"
   ]
  },
  {
   "cell_type": "markdown",
   "metadata": {},
   "source": [
    "multi_view((Y_output_pred_ori[i], Y_output_ori[i], X_output_ori[i]), yscale='log')\n",
    "multi_view((Y_output_pred_ori[i], Y_output_ori[i], X_output_ori[i]))"
   ]
  },
  {
   "cell_type": "markdown",
   "metadata": {},
   "source": [
    "smape(Y_output_pred_ori[i], Y_output_raw[i])"
   ]
  },
  {
   "cell_type": "markdown",
   "metadata": {
    "scrolled": false
   },
   "source": [
    "Y_input_center[i], Y_output_center[i], input_scale[i], output_scale[i]"
   ]
  },
  {
   "cell_type": "markdown",
   "metadata": {},
   "source": [
    "#### Case 41896"
   ]
  },
  {
   "cell_type": "markdown",
   "metadata": {
    "collapsed": true
   },
   "source": [
    "i = 41896"
   ]
  },
  {
   "cell_type": "markdown",
   "metadata": {
    "collapsed": true
   },
   "source": [
    "multi_view((X_input[i], Y_input[i]))"
   ]
  },
  {
   "cell_type": "markdown",
   "metadata": {
    "collapsed": true
   },
   "source": [
    "comp_view(X_input_ori[i], Y_input_ori[i])"
   ]
  },
  {
   "cell_type": "markdown",
   "metadata": {
    "collapsed": true
   },
   "source": [
    "comp_view(X_output_ori[i], Y_output_pred_ori[i])"
   ]
  },
  {
   "cell_type": "markdown",
   "metadata": {
    "collapsed": true
   },
   "source": [
    "comp_view(X_input_ori[i], Y_input_ori[i])"
   ]
  },
  {
   "cell_type": "markdown",
   "metadata": {},
   "source": [
    "### Good and bad cases"
   ]
  },
  {
   "cell_type": "markdown",
   "metadata": {
    "collapsed": true
   },
   "source": [
    "review_Y = np.array([score < model_smape for score in smape_Y_pred])\n",
    "good_Y_index = np.arange(len(Y_output_pred))[review_Y]; #good_Y_index\n",
    "bad_Y_index = np.arange(len(Y_output_pred))[~review_Y]; #bad_Y_index"
   ]
  },
  {
   "cell_type": "markdown",
   "metadata": {
    "collapsed": true
   },
   "source": [
    "good_input_scale = input_scale[good_Y_index]\n",
    "good_output_scale = output_scale[good_Y_index]\n",
    "bad_input_scale = input_scale[bad_Y_index]\n",
    "bad_output_scale = output_scale[bad_Y_index]"
   ]
  },
  {
   "cell_type": "markdown",
   "metadata": {
    "collapsed": true
   },
   "source": [
    "good_Y_input_center = Y_input_center[good_Y_index]\n",
    "good_Y_output_center = Y_output_center[good_Y_index]\n",
    "bad_Y_input_center = Y_input_center[bad_Y_index]\n",
    "bad_Y_output_center = Y_output_center[bad_Y_index]"
   ]
  },
  {
   "cell_type": "markdown",
   "metadata": {
    "scrolled": true
   },
   "source": [
    "examine_list_gp((Y_output_pred_ori[good_Y_index], Y_output_ori[good_Y_index], X_output_ori[good_Y_index]), output_gp[good_Y_index])"
   ]
  },
  {
   "cell_type": "markdown",
   "metadata": {
    "scrolled": true
   },
   "source": [
    "examine_list_gp((Y_output_pred_ori[bad_Y_index], Y_output_ori[bad_Y_index], X_output_ori[bad_Y_index]), output_gp[bad_Y_index])"
   ]
  },
  {
   "cell_type": "markdown",
   "metadata": {},
   "source": [
    "good_output_scale.min(), good_output_scale.max()"
   ]
  },
  {
   "cell_type": "markdown",
   "metadata": {},
   "source": [
    "bad_output_scale.min(), bad_output_scale.max()"
   ]
  },
  {
   "cell_type": "markdown",
   "metadata": {},
   "source": [
    "plt.hist(good_input_scale, bins=40, alpha=0.6, label='good input')\n",
    "plt.hist(bad_input_scale, bins=40, alpha=0.6, label='bad input')\n",
    "plt.yscale('linear')\n",
    "plt.legend()\n",
    "plt.show()"
   ]
  },
  {
   "cell_type": "markdown",
   "metadata": {},
   "source": [
    "plt.hist(good_output_scale, bins=40, alpha=0.6, label='good output')\n",
    "plt.hist(bad_output_scale, bins=40, alpha=0.6, label='bad output')\n",
    "plt.yscale('linear')\n",
    "plt.legend()\n",
    "plt.show()"
   ]
  },
  {
   "cell_type": "markdown",
   "metadata": {},
   "source": [
    "plt.hist(good_input_scale, bins=40, alpha=0.6, label='good input')\n",
    "plt.hist(bad_input_scale, bins=40, alpha=0.6, label='bad input')\n",
    "plt.yscale('log')\n",
    "plt.legend()\n",
    "plt.show()"
   ]
  },
  {
   "cell_type": "markdown",
   "metadata": {
    "scrolled": false
   },
   "source": [
    "plt.hist(good_output_scale, bins=40, alpha=0.6, label='good output')\n",
    "plt.hist(bad_output_scale, bins=40, alpha=0.6, label='bad output')\n",
    "plt.yscale('log')\n",
    "plt.legend()\n",
    "plt.show()"
   ]
  },
  {
   "cell_type": "markdown",
   "metadata": {},
   "source": [
    "plt.figure(figsize=(12,4))\n",
    "plt.hist(good_input_scale, bins=100, range=(0,0.8), alpha=0.6, label='good input')\n",
    "plt.hist(good_output_scale, bins=100, range=(0,0.8), alpha=0.6, label='good output')\n",
    "plt.hist(bad_input_scale, bins=100, range=(0,0.8), alpha=0.6, label='bad input')\n",
    "plt.hist(bad_output_scale, bins=100, range=(0,0.8), alpha=0.6, label='bad output')\n",
    "plt.yscale('linear')\n",
    "plt.legend()\n",
    "plt.show()"
   ]
  },
  {
   "cell_type": "markdown",
   "metadata": {},
   "source": [
    "Should we split the data into std > and < 1.7 ?"
   ]
  },
  {
   "cell_type": "markdown",
   "metadata": {},
   "source": [
    "np.mean(good_output_scale), np.mean(good_input_scale)"
   ]
  },
  {
   "cell_type": "markdown",
   "metadata": {},
   "source": [
    "np.mean(bad_output_scale), np.mean(bad_input_scale)"
   ]
  },
  {
   "cell_type": "markdown",
   "metadata": {},
   "source": [
    "plt.figure(figsize=(12,4))\n",
    "plt.hist(bad_input_scale, bins=60, range=(0,0.8), alpha=0.6, label='bad input')\n",
    "plt.hist(bad_output_scale, bins=60, range=(0,0.8), alpha=0.6, label='bad output')\n",
    "plt.yscale('linear')\n",
    "plt.legend()\n",
    "plt.show()"
   ]
  },
  {
   "cell_type": "markdown",
   "metadata": {
    "scrolled": true
   },
   "source": [
    "plt.figure(figsize=(12,4))\n",
    "plt.hist(output_scale, bins=40, alpha=0.6, label='output')\n",
    "plt.hist(input_scale, bins=40, alpha=0.6, label='input')\n",
    "plt.legend()\n",
    "plt.show()"
   ]
  },
  {
   "cell_type": "markdown",
   "metadata": {},
   "source": [
    "np.histogram(output_scale, bins=np.arange(0,1,0.05))"
   ]
  },
  {
   "cell_type": "markdown",
   "metadata": {},
   "source": [
    "#### Median"
   ]
  },
  {
   "cell_type": "markdown",
   "metadata": {},
   "source": [
    "plt.figure(figsize=(12,4))\n",
    "plt.hist(good_Y_input_center, bins=100, range=(0,5), alpha=0.6, label='good input')\n",
    "plt.hist(good_Y_output_center, bins=100, range=(0,5), alpha=0.6, label='good output')\n",
    "plt.hist(bad_Y_input_center, bins=100, range=(0,5), alpha=0.6, label='bad input')\n",
    "plt.hist(bad_Y_output_center, bins=100, range=(0,5), alpha=0.6, label='bad output')\n",
    "plt.yscale('linear')\n",
    "plt.legend()\n",
    "plt.show()"
   ]
  },
  {
   "cell_type": "markdown",
   "metadata": {},
   "source": [
    "### stdev/median"
   ]
  },
  {
   "cell_type": "markdown",
   "metadata": {},
   "source": [
    "output_factor_1 = (Y_output_center / output_scale).reshape(-1); output_factor_1"
   ]
  },
  {
   "cell_type": "markdown",
   "metadata": {},
   "source": [
    "output_factor_1.min(), output_factor_1.max()"
   ]
  },
  {
   "cell_type": "markdown",
   "metadata": {},
   "source": [
    "plt.hist(output_factor_1, bins=40, range=[0,50], alpha=0.6)\n",
    "plt.show()"
   ]
  },
  {
   "cell_type": "markdown",
   "metadata": {},
   "source": [
    "plt.scatter(smape_Y_pred, output_scale, alpha=0.1, marker='.')\n",
    "plt.show()"
   ]
  },
  {
   "cell_type": "markdown",
   "metadata": {},
   "source": [
    "plt.figure(figsize=(12,9))\n",
    "plt.scatter(smape_Y_pred, Y_output_center, alpha=0.1, marker='.')\n",
    "plt.ylim([-0.1,5])\n",
    "plt.show()"
   ]
  },
  {
   "cell_type": "markdown",
   "metadata": {},
   "source": [
    "plt.figure(figsize=(12,9))\n",
    "plt.scatter(smape_Y_pred, output_scale, alpha=0.1, marker='.')\n",
    "plt.ylim([0,0.5])\n",
    "plt.show()"
   ]
  },
  {
   "cell_type": "markdown",
   "metadata": {},
   "source": [
    "plt.figure(figsize=(12,9))\n",
    "plt.scatter(output_scale, Y_output_center, alpha=0.1, marker='.')\n",
    "plt.ylim([0,4.5])\n",
    "plt.xlim([0,0.6])\n",
    "plt.show()"
   ]
  },
  {
   "cell_type": "markdown",
   "metadata": {},
   "source": [
    "output_factor_2 = (output_scale / Y_output_center).reshape(-1); output_factor_2"
   ]
  },
  {
   "cell_type": "markdown",
   "metadata": {},
   "source": [
    "plt.figure(figsize=(12,9))\n",
    "plt.scatter(smape_Y_pred, output_factor_2, alpha=0.1, marker='.')\n",
    "plt.ylim([0,0.8])\n",
    "#plt.xlim([0,0.6])\n",
    "plt.show()"
   ]
  },
  {
   "cell_type": "markdown",
   "metadata": {},
   "source": [
    "output_factor_3 = (output_scale / (Y_output_center + 0.01)).reshape(-1); output_factor_3"
   ]
  },
  {
   "cell_type": "markdown",
   "metadata": {},
   "source": [
    "plt.figure(figsize=(12,9))\n",
    "plt.scatter(smape_Y_pred, output_factor_3, alpha=0.1, marker='.')\n",
    "plt.ylim([0,4])\n",
    "#plt.xlim([0,0.6])\n",
    "plt.show()"
   ]
  },
  {
   "cell_type": "markdown",
   "metadata": {},
   "source": [
    "output_factor_4 = output_scale - input_scale"
   ]
  },
  {
   "cell_type": "markdown",
   "metadata": {},
   "source": [
    "plt.figure(figsize=(12,9))\n",
    "plt.scatter(smape_Y_pred, output_factor_4, alpha=0.1, marker='.')\n",
    "plt.ylim([-1.5,0.5])\n",
    "#plt.xlim([0,0.6])\n",
    "plt.show()"
   ]
  },
  {
   "cell_type": "markdown",
   "metadata": {},
   "source": [
    "## Output Prediction\n",
    "For predicting stage only"
   ]
  },
  {
   "cell_type": "markdown",
   "metadata": {},
   "source": [
    "### Result DataFrame"
   ]
  },
  {
   "cell_type": "markdown",
   "metadata": {
    "collapsed": true
   },
   "source": [
    "predict_dates_index=pd.date_range(Y_output_first_day, \n",
    "                                  periods=np.timedelta64(y_length,'D'), \n",
    "                                  freq = 'D', unit = 'D')\n",
    "predict_dates_index"
   ]
  },
  {
   "cell_type": "code",
   "execution_count": null,
   "metadata": {
    "collapsed": true
   },
   "outputs": [],
   "source": [
    "Y_output_dates"
   ]
  },
  {
   "cell_type": "code",
   "execution_count": null,
   "metadata": {
    "collapsed": true,
    "scrolled": true
   },
   "outputs": [],
   "source": [
    "if test_length == 0:\n",
    "    result_df = pd.DataFrame(Y_output_f_omed, columns = Y_output_dates)  # using ensemble median combined result\n",
    "result_df"
   ]
  },
  {
   "cell_type": "code",
   "execution_count": null,
   "metadata": {
    "collapsed": true,
    "scrolled": true
   },
   "outputs": [],
   "source": [
    "result_df['Page'] = input_df['Page']  # Append 'Page' column from input_df\n",
    "result_df"
   ]
  },
  {
   "cell_type": "code",
   "execution_count": null,
   "metadata": {
    "collapsed": true,
    "scrolled": true
   },
   "outputs": [],
   "source": [
    "result_flat_df = pd.melt(result_df, id_vars='Page', var_name='date',\n",
    "                         value_name='Visits')\n",
    "result_flat_df"
   ]
  },
  {
   "cell_type": "markdown",
   "metadata": {},
   "source": [
    "### Output DataFrame"
   ]
  },
  {
   "cell_type": "code",
   "execution_count": null,
   "metadata": {
    "collapsed": true
   },
   "outputs": [],
   "source": [
    "if test_length == 0:\n",
    "    print('%%% Reading data key_2.csv ...', end = '', flush = True)\n",
    "    output_df = pd.read_csv(\"../data/key_2.csv\")\n",
    "    print('done!')"
   ]
  },
  {
   "cell_type": "code",
   "execution_count": null,
   "metadata": {
    "collapsed": true,
    "scrolled": true
   },
   "outputs": [],
   "source": [
    "output_df['date'] = output_df.Page.apply(lambda a: a[-10:])  # take the last 10 characters from 'Page' as date\n",
    "output_df['Page'] = output_df.Page.apply(lambda a: a[:-11])  # remove the last 10 caharacters from 'Page'\n",
    "#output_df['date'] = output_df['date'].astype('datetime64[ns]')  # convert 'date' string to numpy datetime format\n",
    "#test['weekday'] = test.date.dt.dayofweek  # find the day of week using the 'date' column\n",
    "output_df.head()"
   ]
  },
  {
   "cell_type": "code",
   "execution_count": null,
   "metadata": {
    "collapsed": true
   },
   "outputs": [],
   "source": [
    "output_df.info()"
   ]
  },
  {
   "cell_type": "code",
   "execution_count": null,
   "metadata": {
    "collapsed": true,
    "scrolled": true
   },
   "outputs": [],
   "source": [
    "output_df['date'].values[0:62]  # Make sure the range is 60 days (see if the dates resume after 60)"
   ]
  },
  {
   "cell_type": "code",
   "execution_count": null,
   "metadata": {
    "collapsed": true
   },
   "outputs": [],
   "source": [
    "Y_output_dates"
   ]
  },
  {
   "cell_type": "code",
   "execution_count": null,
   "metadata": {
    "collapsed": true,
    "scrolled": true
   },
   "outputs": [],
   "source": [
    "output_df = output_df.merge(result_flat_df, how='left')  # fill the 'Visits\" from result\n",
    "output_df"
   ]
  },
  {
   "cell_type": "code",
   "execution_count": null,
   "metadata": {
    "collapsed": true
   },
   "outputs": [],
   "source": [
    "del result_flat_df"
   ]
  },
  {
   "cell_type": "code",
   "execution_count": null,
   "metadata": {
    "collapsed": true
   },
   "outputs": [],
   "source": [
    "gc.collect()"
   ]
  },
  {
   "cell_type": "code",
   "execution_count": null,
   "metadata": {
    "collapsed": true
   },
   "outputs": [],
   "source": [
    "#Check if there is null value\n",
    "output_df.loc[output_df.Visits.isnull(), 'Visits']"
   ]
  },
  {
   "cell_type": "code",
   "execution_count": null,
   "metadata": {
    "collapsed": true
   },
   "outputs": [],
   "source": [
    "#output_df.loc[output_df.Visits.isnull(), 'Visits'] = 0.0  # Uncommend this line to Replace NaN with 0.0"
   ]
  },
  {
   "cell_type": "code",
   "execution_count": null,
   "metadata": {
    "collapsed": true
   },
   "outputs": [],
   "source": [
    "print('%%% Writing result for ' + model_name + ' ...', \n",
    "      end = '', flush = True)\n",
    "#Write only the 'Id' and 'Visits' to the result file\n",
    "output_df[['Id','Visits']].to_csv('../results/submit_1_' + model_name\n",
    "                                  + '.csv', index = False, \n",
    "                                  float_format='%.3f')\n",
    "print('done!')"
   ]
  },
  {
   "cell_type": "markdown",
   "metadata": {},
   "source": [
    "Kaggle LB Score: \n",
    "\n",
    "[6.0.0] 46.3 [Model 6.0.0 CNN - Conv(60, 7)-FC(120)-Drop(0.25)-FC(120)-Drop(0.5)-Linear, 20 epoches]\n",
    "\n",
    "[6.1.0] 46.7 [Model 6.1.0 CNN - Conv(30, 7)-Conv(60, 7)-FC(120)-Drop(0.25)-FC(120)-Drop(0.5)-Linear, 20 epoches]\n",
    "\n",
    "[7.1.2] 47.3 [Model 7.1.2 CNN Fibonacci - range corrected :-y_length - score corrected]\n",
    "\n",
    "[7.2.0] 46.5 [Model 7.2.0 CNN Fibonacci and original combined]"
   ]
  }
 ],
 "metadata": {
  "kernelspec": {
   "display_name": "Python 3",
   "language": "python",
   "name": "python3"
  },
  "language_info": {
   "codemirror_mode": {
    "name": "ipython",
    "version": 3
   },
   "file_extension": ".py",
   "mimetype": "text/x-python",
   "name": "python",
   "nbconvert_exporter": "python",
   "pygments_lexer": "ipython3",
   "version": "3.6.1"
  }
 },
 "nbformat": 4,
 "nbformat_minor": 2
}
