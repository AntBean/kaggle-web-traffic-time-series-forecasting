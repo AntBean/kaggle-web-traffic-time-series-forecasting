{
 "cells": [
  {
   "cell_type": "code",
   "execution_count": null,
   "metadata": {},
   "outputs": [],
   "source": [
    "%autosave 0"
   ]
  },
  {
   "cell_type": "markdown",
   "metadata": {},
   "source": [
    "### Kaggle - Web Traffic Time Series Forecasting\n",
    "\n",
    "## Model 10 - Modified CNN with Fibonacci\n",
    "\n",
    "### v2 Center X by Median but center Y by Fib. Median\n",
    "\n",
    "by Louis Yang\n",
    "\n",
    "Use Fibonacci series median instead of median. The Fib. median are now compute on both training and CV set separately.\n",
    "\n",
    "Split into groups based on the scale of visit number and train individual model in each group\n",
    "\n",
    "The first 2 groups use original Fibonacci median as prediction. The rest groups use the trained CNN as prediction.\n",
    "\n",
    "v0 Feed second input (median and stdev) to the neural network after the CNN part.\n",
    "\n",
    "Test on stage 2 data.\n",
    "\n",
    "Original model: 'model_10_Modified_CNN_0_median_stdev'\n",
    "\n",
    "Ensemble: automatically evaluate the same model 5 times\n",
    "\n",
    "Result: didn't finish. Min and max of X_input go to +-1e7. Doesn't look good."
   ]
  },
  {
   "cell_type": "code",
   "execution_count": 1,
   "metadata": {
    "collapsed": true
   },
   "outputs": [],
   "source": [
    "model_name = 'model_10_Modified_CNN_2_Median_x_Fib_y'"
   ]
  },
  {
   "cell_type": "code",
   "execution_count": 2,
   "metadata": {
    "collapsed": true
   },
   "outputs": [],
   "source": [
    "import numpy as np # linear algebra\n",
    "import pandas as pd # data processing, CSV file I/O (e.g. pd.read_csv)\n",
    "import matplotlib.pyplot as plt\n",
    "import gc  # Python garbage collect\n",
    "from tools import *"
   ]
  },
  {
   "cell_type": "markdown",
   "metadata": {},
   "source": [
    "## Input"
   ]
  },
  {
   "cell_type": "code",
   "execution_count": 3,
   "metadata": {
    "collapsed": true
   },
   "outputs": [],
   "source": [
    "train_file = 'train_2.csv'"
   ]
  },
  {
   "cell_type": "code",
   "execution_count": 7,
   "metadata": {},
   "outputs": [],
   "source": [
    "input_df = pd.read_csv('../data/' + train_file, nrows=1)"
   ]
  },
  {
   "cell_type": "code",
   "execution_count": 8,
   "metadata": {},
   "outputs": [
    {
     "data": {
      "text/html": [
       "<div>\n",
       "<style>\n",
       "    .dataframe thead tr:only-child th {\n",
       "        text-align: right;\n",
       "    }\n",
       "\n",
       "    .dataframe thead th {\n",
       "        text-align: left;\n",
       "    }\n",
       "\n",
       "    .dataframe tbody tr th {\n",
       "        vertical-align: top;\n",
       "    }\n",
       "</style>\n",
       "<table border=\"1\" class=\"dataframe\">\n",
       "  <thead>\n",
       "    <tr style=\"text-align: right;\">\n",
       "      <th></th>\n",
       "      <th>Page</th>\n",
       "      <th>2015-07-01</th>\n",
       "      <th>2015-07-02</th>\n",
       "      <th>2015-07-03</th>\n",
       "      <th>2015-07-04</th>\n",
       "      <th>2015-07-05</th>\n",
       "      <th>2015-07-06</th>\n",
       "      <th>2015-07-07</th>\n",
       "      <th>2015-07-08</th>\n",
       "      <th>2015-07-09</th>\n",
       "      <th>...</th>\n",
       "      <th>2017-08-22</th>\n",
       "      <th>2017-08-23</th>\n",
       "      <th>2017-08-24</th>\n",
       "      <th>2017-08-25</th>\n",
       "      <th>2017-08-26</th>\n",
       "      <th>2017-08-27</th>\n",
       "      <th>2017-08-28</th>\n",
       "      <th>2017-08-29</th>\n",
       "      <th>2017-08-30</th>\n",
       "      <th>2017-08-31</th>\n",
       "    </tr>\n",
       "  </thead>\n",
       "  <tbody>\n",
       "    <tr>\n",
       "      <th>0</th>\n",
       "      <td>2NE1_zh.wikipedia.org_all-access_spider</td>\n",
       "      <td>18</td>\n",
       "      <td>11</td>\n",
       "      <td>5</td>\n",
       "      <td>13</td>\n",
       "      <td>14</td>\n",
       "      <td>9</td>\n",
       "      <td>9</td>\n",
       "      <td>22</td>\n",
       "      <td>26</td>\n",
       "      <td>...</td>\n",
       "      <td>37</td>\n",
       "      <td>58</td>\n",
       "      <td>25</td>\n",
       "      <td>23</td>\n",
       "      <td>25</td>\n",
       "      <td>47</td>\n",
       "      <td>44</td>\n",
       "      <td>26</td>\n",
       "      <td>24</td>\n",
       "      <td>21</td>\n",
       "    </tr>\n",
       "  </tbody>\n",
       "</table>\n",
       "<p>1 rows × 794 columns</p>\n",
       "</div>"
      ],
      "text/plain": [
       "                                      Page  2015-07-01  2015-07-02  \\\n",
       "0  2NE1_zh.wikipedia.org_all-access_spider          18          11   \n",
       "\n",
       "   2015-07-03  2015-07-04  2015-07-05  2015-07-06  2015-07-07  2015-07-08  \\\n",
       "0           5          13          14           9           9          22   \n",
       "\n",
       "   2015-07-09     ...      2017-08-22  2017-08-23  2017-08-24  2017-08-25  \\\n",
       "0          26     ...              37          58          25          23   \n",
       "\n",
       "   2017-08-26  2017-08-27  2017-08-28  2017-08-29  2017-08-30  2017-08-31  \n",
       "0          25          47          44          26          24          21  \n",
       "\n",
       "[1 rows x 794 columns]"
      ]
     },
     "execution_count": 8,
     "metadata": {},
     "output_type": "execute_result"
    }
   ],
   "source": [
    "input_df"
   ]
  },
  {
   "cell_type": "code",
   "execution_count": 9,
   "metadata": {},
   "outputs": [
    {
     "data": {
      "text/plain": [
       "Index(['2015-07-01', '2015-07-02', '2015-07-03', '2015-07-04', '2015-07-05',\n",
       "       '2015-07-06', '2015-07-07', '2015-07-08', '2015-07-09', '2015-07-10',\n",
       "       ...\n",
       "       '2017-08-22', '2017-08-23', '2017-08-24', '2017-08-25', '2017-08-26',\n",
       "       '2017-08-27', '2017-08-28', '2017-08-29', '2017-08-30', '2017-08-31'],\n",
       "      dtype='object', length=793)"
      ]
     },
     "execution_count": 9,
     "metadata": {},
     "output_type": "execute_result"
    }
   ],
   "source": [
    "input_df_dates = input_df.columns[1:]; input_df_dates"
   ]
  },
  {
   "cell_type": "code",
   "execution_count": 10,
   "metadata": {
    "collapsed": true
   },
   "outputs": [],
   "source": [
    "visits_dtype = {d: np.float32 for d in input_df_dates}"
   ]
  },
  {
   "cell_type": "code",
   "execution_count": 12,
   "metadata": {},
   "outputs": [
    {
     "name": "stdout",
     "output_type": "stream",
     "text": [
      "%%% Reading data train_2.csv ... done!\n"
     ]
    }
   ],
   "source": [
    "print('%%% Reading data '+ train_file + ' ... ', end = '', flush = True)\n",
    "input_df = pd.read_csv('../data/' + train_file, engine='c', dtype=visits_dtype)\n",
    "print('done!')"
   ]
  },
  {
   "cell_type": "code",
   "execution_count": 13,
   "metadata": {},
   "outputs": [
    {
     "data": {
      "text/html": [
       "<div>\n",
       "<style>\n",
       "    .dataframe thead tr:only-child th {\n",
       "        text-align: right;\n",
       "    }\n",
       "\n",
       "    .dataframe thead th {\n",
       "        text-align: left;\n",
       "    }\n",
       "\n",
       "    .dataframe tbody tr th {\n",
       "        vertical-align: top;\n",
       "    }\n",
       "</style>\n",
       "<table border=\"1\" class=\"dataframe\">\n",
       "  <thead>\n",
       "    <tr style=\"text-align: right;\">\n",
       "      <th></th>\n",
       "      <th>Page</th>\n",
       "      <th>2015-07-01</th>\n",
       "      <th>2015-07-02</th>\n",
       "      <th>2015-07-03</th>\n",
       "      <th>2015-07-04</th>\n",
       "      <th>2015-07-05</th>\n",
       "      <th>2015-07-06</th>\n",
       "      <th>2015-07-07</th>\n",
       "      <th>2015-07-08</th>\n",
       "      <th>2015-07-09</th>\n",
       "      <th>...</th>\n",
       "      <th>2017-08-22</th>\n",
       "      <th>2017-08-23</th>\n",
       "      <th>2017-08-24</th>\n",
       "      <th>2017-08-25</th>\n",
       "      <th>2017-08-26</th>\n",
       "      <th>2017-08-27</th>\n",
       "      <th>2017-08-28</th>\n",
       "      <th>2017-08-29</th>\n",
       "      <th>2017-08-30</th>\n",
       "      <th>2017-08-31</th>\n",
       "    </tr>\n",
       "  </thead>\n",
       "  <tbody>\n",
       "    <tr>\n",
       "      <th>0</th>\n",
       "      <td>2NE1_zh.wikipedia.org_all-access_spider</td>\n",
       "      <td>18.0</td>\n",
       "      <td>11.0</td>\n",
       "      <td>5.0</td>\n",
       "      <td>13.0</td>\n",
       "      <td>14.0</td>\n",
       "      <td>9.0</td>\n",
       "      <td>9.0</td>\n",
       "      <td>22.0</td>\n",
       "      <td>26.0</td>\n",
       "      <td>...</td>\n",
       "      <td>37.0</td>\n",
       "      <td>58.0</td>\n",
       "      <td>25.0</td>\n",
       "      <td>23.0</td>\n",
       "      <td>25.0</td>\n",
       "      <td>47.0</td>\n",
       "      <td>44.0</td>\n",
       "      <td>26.0</td>\n",
       "      <td>24.0</td>\n",
       "      <td>21.0</td>\n",
       "    </tr>\n",
       "    <tr>\n",
       "      <th>1</th>\n",
       "      <td>2PM_zh.wikipedia.org_all-access_spider</td>\n",
       "      <td>11.0</td>\n",
       "      <td>14.0</td>\n",
       "      <td>15.0</td>\n",
       "      <td>18.0</td>\n",
       "      <td>11.0</td>\n",
       "      <td>13.0</td>\n",
       "      <td>22.0</td>\n",
       "      <td>11.0</td>\n",
       "      <td>10.0</td>\n",
       "      <td>...</td>\n",
       "      <td>14.0</td>\n",
       "      <td>34.0</td>\n",
       "      <td>16.0</td>\n",
       "      <td>31.0</td>\n",
       "      <td>34.0</td>\n",
       "      <td>33.0</td>\n",
       "      <td>32.0</td>\n",
       "      <td>29.0</td>\n",
       "      <td>34.0</td>\n",
       "      <td>25.0</td>\n",
       "    </tr>\n",
       "    <tr>\n",
       "      <th>2</th>\n",
       "      <td>3C_zh.wikipedia.org_all-access_spider</td>\n",
       "      <td>1.0</td>\n",
       "      <td>0.0</td>\n",
       "      <td>1.0</td>\n",
       "      <td>1.0</td>\n",
       "      <td>0.0</td>\n",
       "      <td>4.0</td>\n",
       "      <td>0.0</td>\n",
       "      <td>3.0</td>\n",
       "      <td>4.0</td>\n",
       "      <td>...</td>\n",
       "      <td>6.0</td>\n",
       "      <td>23.0</td>\n",
       "      <td>11.0</td>\n",
       "      <td>8.0</td>\n",
       "      <td>6.0</td>\n",
       "      <td>13.0</td>\n",
       "      <td>12.0</td>\n",
       "      <td>8.0</td>\n",
       "      <td>12.0</td>\n",
       "      <td>9.0</td>\n",
       "    </tr>\n",
       "    <tr>\n",
       "      <th>3</th>\n",
       "      <td>4minute_zh.wikipedia.org_all-access_spider</td>\n",
       "      <td>35.0</td>\n",
       "      <td>13.0</td>\n",
       "      <td>10.0</td>\n",
       "      <td>94.0</td>\n",
       "      <td>4.0</td>\n",
       "      <td>26.0</td>\n",
       "      <td>14.0</td>\n",
       "      <td>9.0</td>\n",
       "      <td>11.0</td>\n",
       "      <td>...</td>\n",
       "      <td>21.0</td>\n",
       "      <td>42.0</td>\n",
       "      <td>23.0</td>\n",
       "      <td>17.0</td>\n",
       "      <td>11.0</td>\n",
       "      <td>21.0</td>\n",
       "      <td>20.0</td>\n",
       "      <td>20.0</td>\n",
       "      <td>110.0</td>\n",
       "      <td>15.0</td>\n",
       "    </tr>\n",
       "    <tr>\n",
       "      <th>4</th>\n",
       "      <td>52_Hz_I_Love_You_zh.wikipedia.org_all-access_s...</td>\n",
       "      <td>NaN</td>\n",
       "      <td>NaN</td>\n",
       "      <td>NaN</td>\n",
       "      <td>NaN</td>\n",
       "      <td>NaN</td>\n",
       "      <td>NaN</td>\n",
       "      <td>NaN</td>\n",
       "      <td>NaN</td>\n",
       "      <td>NaN</td>\n",
       "      <td>...</td>\n",
       "      <td>23.0</td>\n",
       "      <td>41.0</td>\n",
       "      <td>25.0</td>\n",
       "      <td>22.0</td>\n",
       "      <td>20.0</td>\n",
       "      <td>24.0</td>\n",
       "      <td>29.0</td>\n",
       "      <td>20.0</td>\n",
       "      <td>17.0</td>\n",
       "      <td>24.0</td>\n",
       "    </tr>\n",
       "  </tbody>\n",
       "</table>\n",
       "<p>5 rows × 794 columns</p>\n",
       "</div>"
      ],
      "text/plain": [
       "                                                Page  2015-07-01  2015-07-02  \\\n",
       "0            2NE1_zh.wikipedia.org_all-access_spider        18.0        11.0   \n",
       "1             2PM_zh.wikipedia.org_all-access_spider        11.0        14.0   \n",
       "2              3C_zh.wikipedia.org_all-access_spider         1.0         0.0   \n",
       "3         4minute_zh.wikipedia.org_all-access_spider        35.0        13.0   \n",
       "4  52_Hz_I_Love_You_zh.wikipedia.org_all-access_s...         NaN         NaN   \n",
       "\n",
       "   2015-07-03  2015-07-04  2015-07-05  2015-07-06  2015-07-07  2015-07-08  \\\n",
       "0         5.0        13.0        14.0         9.0         9.0        22.0   \n",
       "1        15.0        18.0        11.0        13.0        22.0        11.0   \n",
       "2         1.0         1.0         0.0         4.0         0.0         3.0   \n",
       "3        10.0        94.0         4.0        26.0        14.0         9.0   \n",
       "4         NaN         NaN         NaN         NaN         NaN         NaN   \n",
       "\n",
       "   2015-07-09     ...      2017-08-22  2017-08-23  2017-08-24  2017-08-25  \\\n",
       "0        26.0     ...            37.0        58.0        25.0        23.0   \n",
       "1        10.0     ...            14.0        34.0        16.0        31.0   \n",
       "2         4.0     ...             6.0        23.0        11.0         8.0   \n",
       "3        11.0     ...            21.0        42.0        23.0        17.0   \n",
       "4         NaN     ...            23.0        41.0        25.0        22.0   \n",
       "\n",
       "   2017-08-26  2017-08-27  2017-08-28  2017-08-29  2017-08-30  2017-08-31  \n",
       "0        25.0        47.0        44.0        26.0        24.0        21.0  \n",
       "1        34.0        33.0        32.0        29.0        34.0        25.0  \n",
       "2         6.0        13.0        12.0         8.0        12.0         9.0  \n",
       "3        11.0        21.0        20.0        20.0       110.0        15.0  \n",
       "4        20.0        24.0        29.0        20.0        17.0        24.0  \n",
       "\n",
       "[5 rows x 794 columns]"
      ]
     },
     "execution_count": 13,
     "metadata": {},
     "output_type": "execute_result"
    }
   ],
   "source": [
    "input_df.head()"
   ]
  },
  {
   "cell_type": "code",
   "execution_count": 14,
   "metadata": {},
   "outputs": [
    {
     "name": "stdout",
     "output_type": "stream",
     "text": [
      "<class 'pandas.core.frame.DataFrame'>\n",
      "RangeIndex: 145063 entries, 0 to 145062\n",
      "Columns: 794 entries, Page to 2017-08-31\n",
      "dtypes: float32(793), object(1)\n",
      "memory usage: 439.9+ MB\n"
     ]
    }
   ],
   "source": [
    "input_df.info()"
   ]
  },
  {
   "cell_type": "markdown",
   "metadata": {},
   "source": [
    "## Processing Data\n",
    "Generate training set and test (predict) set"
   ]
  },
  {
   "cell_type": "markdown",
   "metadata": {},
   "source": [
    "### Day of week alignment"
   ]
  },
  {
   "cell_type": "code",
   "execution_count": 15,
   "metadata": {
    "collapsed": true
   },
   "outputs": [],
   "source": [
    "from datetime import datetime\n",
    "def weekday(datestr):\n",
    "    return datetime.strptime(datestr,'%Y-%m-%d').weekday()\n",
    "def daydiff(dstr1,dstr2):\n",
    "    return datetime.strptime(dstr1,'%Y-%m-%d') - datetime.strptime(dstr2,'%Y-%m-%d') "
   ]
  },
  {
   "cell_type": "markdown",
   "metadata": {},
   "source": [
    "We need to predict output (Y_output_pred) start from Sunday (6) for data set 1. (0: Monday, 6: Sunday)"
   ]
  },
  {
   "cell_type": "code",
   "execution_count": 16,
   "metadata": {
    "collapsed": true
   },
   "outputs": [],
   "source": [
    "# We take the x_length + y_length days of data only\n",
    "# This part then split into x_length as input X and y_length as output Y\n",
    "x_length = 63  # input period\n",
    "y_length = 63  # predict period"
   ]
  },
  {
   "cell_type": "code",
   "execution_count": 17,
   "metadata": {
    "collapsed": true
   },
   "outputs": [],
   "source": [
    "#test_length = 0  # for predicting\n",
    "test_length = y_length  # for self testing"
   ]
  },
  {
   "cell_type": "markdown",
   "metadata": {},
   "source": [
    "Shift everything forward by y_length = 63 days to allows self testing without Kaggle"
   ]
  },
  {
   "cell_type": "markdown",
   "metadata": {},
   "source": [
    "#### X"
   ]
  },
  {
   "cell_type": "code",
   "execution_count": 18,
   "metadata": {
    "collapsed": true
   },
   "outputs": [],
   "source": [
    "X_input_dates = input_df_dates[-x_length-test_length-364:-test_length-364]; #X_input_dates"
   ]
  },
  {
   "cell_type": "code",
   "execution_count": 19,
   "metadata": {},
   "outputs": [
    {
     "data": {
      "text/plain": [
       "('2016-04-29', '2016-06-30')"
      ]
     },
     "execution_count": 19,
     "metadata": {},
     "output_type": "execute_result"
    }
   ],
   "source": [
    "X_input_first_day = X_input_dates[0]\n",
    "X_input_final_day = X_input_dates[-1]\n",
    "X_input_first_day, X_input_final_day"
   ]
  },
  {
   "cell_type": "code",
   "execution_count": 20,
   "metadata": {},
   "outputs": [
    {
     "data": {
      "text/plain": [
       "datetime.timedelta(-62)"
      ]
     },
     "execution_count": 20,
     "metadata": {},
     "output_type": "execute_result"
    }
   ],
   "source": [
    "daydiff(X_input_first_day, X_input_final_day)  # should be 1 - y_length"
   ]
  },
  {
   "cell_type": "code",
   "execution_count": 21,
   "metadata": {
    "collapsed": true
   },
   "outputs": [],
   "source": [
    "# X for output set\n",
    "if test_length:\n",
    "    X_output_dates = input_df_dates[-x_length-test_length:-test_length]\n",
    "else:\n",
    "    X_output_dates = input_df_dates[-x_length:]\n",
    "#X_output_dates"
   ]
  },
  {
   "cell_type": "code",
   "execution_count": 22,
   "metadata": {},
   "outputs": [
    {
     "data": {
      "text/plain": [
       "('2017-04-28', '2017-06-29')"
      ]
     },
     "execution_count": 22,
     "metadata": {},
     "output_type": "execute_result"
    }
   ],
   "source": [
    "X_output_first_day = X_output_dates[0]\n",
    "X_output_final_day = X_output_dates[-1]\n",
    "X_output_first_day, X_output_final_day"
   ]
  },
  {
   "cell_type": "code",
   "execution_count": 23,
   "metadata": {},
   "outputs": [
    {
     "data": {
      "text/plain": [
       "datetime.timedelta(-62)"
      ]
     },
     "execution_count": 23,
     "metadata": {},
     "output_type": "execute_result"
    }
   ],
   "source": [
    "daydiff(X_output_first_day, X_output_final_day)  # should be 1 - y_length"
   ]
  },
  {
   "cell_type": "code",
   "execution_count": 24,
   "metadata": {},
   "outputs": [
    {
     "data": {
      "text/plain": [
       "(4, 4)"
      ]
     },
     "execution_count": 24,
     "metadata": {},
     "output_type": "execute_result"
    }
   ],
   "source": [
    "weekday(X_input_first_day), weekday(X_output_first_day)"
   ]
  },
  {
   "cell_type": "markdown",
   "metadata": {},
   "source": [
    "Should be the same"
   ]
  },
  {
   "cell_type": "markdown",
   "metadata": {},
   "source": [
    "#### Y"
   ]
  },
  {
   "cell_type": "code",
   "execution_count": 25,
   "metadata": {
    "collapsed": true
   },
   "outputs": [],
   "source": [
    "Y_input_dates = input_df_dates[-test_length-364:-test_length-364+y_length]; #Y_input_dates"
   ]
  },
  {
   "cell_type": "code",
   "execution_count": 26,
   "metadata": {},
   "outputs": [
    {
     "data": {
      "text/plain": [
       "('2016-07-01', '2016-09-01')"
      ]
     },
     "execution_count": 26,
     "metadata": {},
     "output_type": "execute_result"
    }
   ],
   "source": [
    "Y_input_first_day = Y_input_dates[0]\n",
    "Y_input_final_day = Y_input_dates[-1]\n",
    "Y_input_first_day, Y_input_final_day"
   ]
  },
  {
   "cell_type": "code",
   "execution_count": 27,
   "metadata": {},
   "outputs": [
    {
     "data": {
      "text/plain": [
       "datetime.timedelta(-62)"
      ]
     },
     "execution_count": 27,
     "metadata": {},
     "output_type": "execute_result"
    }
   ],
   "source": [
    "daydiff(Y_input_first_day, Y_input_final_day)"
   ]
  },
  {
   "cell_type": "code",
   "execution_count": 28,
   "metadata": {
    "collapsed": true
   },
   "outputs": [],
   "source": [
    "# Y for output set\n",
    "if test_length:\n",
    "    Y_output_dates = input_df_dates[-test_length:]\n",
    "else:\n",
    "    Y_output_first_day = '2017-09-12'  ## Make sure it is correct when predicting !!!!!!!\n",
    "    Y_output_dates = pd.Index(np.arange(np.datetime64(Y_output_first_day), \n",
    "                                        np.datetime64(Y_output_first_day)\n",
    "                                        + np.timedelta64(y_length, 'D')).astype('str'))\n",
    "#Y_output_dates"
   ]
  },
  {
   "cell_type": "code",
   "execution_count": 29,
   "metadata": {
    "scrolled": true
   },
   "outputs": [
    {
     "data": {
      "text/plain": [
       "('2017-06-30', '2017-08-31')"
      ]
     },
     "execution_count": 29,
     "metadata": {},
     "output_type": "execute_result"
    }
   ],
   "source": [
    "Y_output_first_day = Y_output_dates[0]\n",
    "Y_output_final_day = Y_output_dates[-1]\n",
    "Y_output_first_day, Y_output_final_day"
   ]
  },
  {
   "cell_type": "code",
   "execution_count": 30,
   "metadata": {},
   "outputs": [
    {
     "data": {
      "text/plain": [
       "datetime.timedelta(-62)"
      ]
     },
     "execution_count": 30,
     "metadata": {},
     "output_type": "execute_result"
    }
   ],
   "source": [
    "daydiff(Y_output_first_day, Y_output_final_day)  # should be 1 - y_length"
   ]
  },
  {
   "cell_type": "code",
   "execution_count": 31,
   "metadata": {},
   "outputs": [
    {
     "data": {
      "text/plain": [
       "(4, 4)"
      ]
     },
     "execution_count": 31,
     "metadata": {},
     "output_type": "execute_result"
    }
   ],
   "source": [
    "weekday(Y_input_first_day), weekday(Y_output_first_day)"
   ]
  },
  {
   "cell_type": "markdown",
   "metadata": {},
   "source": [
    "Should be the same"
   ]
  },
  {
   "cell_type": "markdown",
   "metadata": {},
   "source": [
    "#### Z"
   ]
  },
  {
   "cell_type": "markdown",
   "metadata": {},
   "source": [
    "Z_input_dates = input_df_dates[-test_length-364*2:y_length-test_length-364*2]; Z_input_dates"
   ]
  },
  {
   "cell_type": "markdown",
   "metadata": {},
   "source": [
    "Z_input_first_day = Z_input_dates[0]\n",
    "Z_input_final_day = Z_input_dates[-1]\n",
    "Z_input_first_day, Z_input_final_day"
   ]
  },
  {
   "cell_type": "markdown",
   "metadata": {},
   "source": [
    "daydiff(Z_input_first_day, Z_input_final_day)  # should be 1 - y_length"
   ]
  },
  {
   "cell_type": "markdown",
   "metadata": {},
   "source": [
    "#Z for output set\n",
    "Z_output_dates = Y_input_dates\n",
    "Z_output_dates"
   ]
  },
  {
   "cell_type": "markdown",
   "metadata": {},
   "source": [
    "Z_output_first_day = Z_output_dates[0]\n",
    "Z_output_final_day = Z_output_dates[-1]\n",
    "Z_output_first_day, Z_output_final_day"
   ]
  },
  {
   "cell_type": "markdown",
   "metadata": {},
   "source": [
    "daydiff(Z_output_first_day, Z_output_final_day)  # should be 1 - y_length"
   ]
  },
  {
   "cell_type": "markdown",
   "metadata": {},
   "source": [
    "weekday(Z_input_first_day), weekday(Z_output_first_day)"
   ]
  },
  {
   "cell_type": "markdown",
   "metadata": {},
   "source": [
    "## Fibonacci"
   ]
  },
  {
   "cell_type": "markdown",
   "metadata": {},
   "source": [
    "#### Window Sizes"
   ]
  },
  {
   "cell_type": "markdown",
   "metadata": {},
   "source": [
    "The window sizes are given by Ehsan https://www.kaggle.com/safavieh"
   ]
  },
  {
   "cell_type": "code",
   "execution_count": 32,
   "metadata": {
    "collapsed": true
   },
   "outputs": [],
   "source": [
    "windows = [11, 18, 30, 48, 78, 126, 203, 329]\n",
    "fib_length = max(windows)#; fib_length"
   ]
  },
  {
   "cell_type": "markdown",
   "metadata": {},
   "source": [
    "#### Data selection"
   ]
  },
  {
   "cell_type": "markdown",
   "metadata": {},
   "source": [
    "In this testing code, we did not include the last y_length days since in the real predicting stage, we don't know their visits."
   ]
  },
  {
   "cell_type": "code",
   "execution_count": 33,
   "metadata": {},
   "outputs": [
    {
     "data": {
      "text/plain": [
       "(Index(['2015-08-07', '2015-08-08', '2015-08-09', '2015-08-10', '2015-08-11',\n",
       "        '2015-08-12', '2015-08-13', '2015-08-14', '2015-08-15', '2015-08-16',\n",
       "        ...\n",
       "        '2016-06-21', '2016-06-22', '2016-06-23', '2016-06-24', '2016-06-25',\n",
       "        '2016-06-26', '2016-06-27', '2016-06-28', '2016-06-29', '2016-06-30'],\n",
       "       dtype='object', length=329),\n",
       " Index(['2016-08-05', '2016-08-06', '2016-08-07', '2016-08-08', '2016-08-09',\n",
       "        '2016-08-10', '2016-08-11', '2016-08-12', '2016-08-13', '2016-08-14',\n",
       "        ...\n",
       "        '2017-06-20', '2017-06-21', '2017-06-22', '2017-06-23', '2017-06-24',\n",
       "        '2017-06-25', '2017-06-26', '2017-06-27', '2017-06-28', '2017-06-29'],\n",
       "       dtype='object', length=329))"
      ]
     },
     "execution_count": 33,
     "metadata": {},
     "output_type": "execute_result"
    }
   ],
   "source": [
    "if test_length:\n",
    "    fib_output_dates = input_df_dates[-fib_length-test_length:-test_length]\n",
    "else:\n",
    "    fib_output_dates = input_df_dates[-fib_length:]\n",
    "fib_input_dates = input_df_dates[-fib_length-test_length-364:-test_length-364]\n",
    "fib_input_dates, fib_output_dates"
   ]
  },
  {
   "cell_type": "code",
   "execution_count": 34,
   "metadata": {},
   "outputs": [
    {
     "data": {
      "text/plain": [
       "(4, 4)"
      ]
     },
     "execution_count": 34,
     "metadata": {},
     "output_type": "execute_result"
    }
   ],
   "source": [
    "weekday(fib_input_dates[0]), weekday(fib_output_dates[0])"
   ]
  },
  {
   "cell_type": "code",
   "execution_count": 35,
   "metadata": {
    "collapsed": true
   },
   "outputs": [],
   "source": [
    "fib_output_data = input_df[fib_output_dates].values; #fib_output_data"
   ]
  },
  {
   "cell_type": "code",
   "execution_count": 36,
   "metadata": {
    "collapsed": true
   },
   "outputs": [],
   "source": [
    "fib_input_data = input_df[fib_input_dates].values; #fib_input_data"
   ]
  },
  {
   "cell_type": "markdown",
   "metadata": {},
   "source": [
    "#### Fibonacci median in each window"
   ]
  },
  {
   "cell_type": "code",
   "execution_count": 37,
   "metadata": {},
   "outputs": [
    {
     "name": "stderr",
     "output_type": "stream",
     "text": [
      "c:\\python3\\lib\\site-packages\\numpy\\lib\\function_base.py:4011: RuntimeWarning: All-NaN slice encountered\n",
      "  r = func(a, **kwargs)\n"
     ]
    }
   ],
   "source": [
    "fib_input_median_list = np.array([np.nanmedian(fib_input_data[:, -w:] , axis=-1) \n",
    "                            for w in windows])"
   ]
  },
  {
   "cell_type": "code",
   "execution_count": 38,
   "metadata": {},
   "outputs": [
    {
     "name": "stderr",
     "output_type": "stream",
     "text": [
      "c:\\python3\\lib\\site-packages\\numpy\\lib\\function_base.py:4011: RuntimeWarning: All-NaN slice encountered\n",
      "  r = func(a, **kwargs)\n"
     ]
    }
   ],
   "source": [
    "fib_output_median_list = np.array([np.nanmedian(fib_output_data[:, -w:] , axis=-1) \n",
    "                            for w in windows])"
   ]
  },
  {
   "cell_type": "markdown",
   "metadata": {},
   "source": [
    "fib_input_median_list.T.shape"
   ]
  },
  {
   "cell_type": "markdown",
   "metadata": {},
   "source": [
    "fib_output_median_na = np.nanmedian(fib_output_median_list.T, axis=-1)"
   ]
  },
  {
   "cell_type": "markdown",
   "metadata": {},
   "source": [
    "fib_output_median_na"
   ]
  },
  {
   "cell_type": "code",
   "execution_count": 39,
   "metadata": {},
   "outputs": [
    {
     "name": "stderr",
     "output_type": "stream",
     "text": [
      "c:\\python3\\lib\\site-packages\\numpy\\lib\\function_base.py:4011: RuntimeWarning: All-NaN slice encountered\n",
      "  r = func(a, **kwargs)\n"
     ]
    },
    {
     "data": {
      "text/plain": [
       "(145063,)"
      ]
     },
     "execution_count": 39,
     "metadata": {},
     "output_type": "execute_result"
    }
   ],
   "source": [
    "fib_input_median = np.nan_to_num(np.nanmedian(fib_input_median_list.T, axis=-1)); fib_input_median.shape"
   ]
  },
  {
   "cell_type": "code",
   "execution_count": 40,
   "metadata": {
    "scrolled": true
   },
   "outputs": [
    {
     "name": "stderr",
     "output_type": "stream",
     "text": [
      "c:\\python3\\lib\\site-packages\\numpy\\lib\\function_base.py:4011: RuntimeWarning: All-NaN slice encountered\n",
      "  r = func(a, **kwargs)\n"
     ]
    },
    {
     "data": {
      "text/plain": [
       "(145063,)"
      ]
     },
     "execution_count": 40,
     "metadata": {},
     "output_type": "execute_result"
    }
   ],
   "source": [
    "fib_output_median = np.nan_to_num(np.nanmedian(fib_output_median_list.T, axis=-1)); fib_output_median.shape"
   ]
  },
  {
   "cell_type": "markdown",
   "metadata": {},
   "source": [
    "fib_input_median"
   ]
  },
  {
   "cell_type": "markdown",
   "metadata": {
    "scrolled": true
   },
   "source": [
    "fib_output_median"
   ]
  },
  {
   "cell_type": "code",
   "execution_count": 41,
   "metadata": {},
   "outputs": [
    {
     "data": {
      "text/plain": [
       "22"
      ]
     },
     "execution_count": 41,
     "metadata": {},
     "output_type": "execute_result"
    }
   ],
   "source": [
    "del fib_output_data\n",
    "del fib_input_data\n",
    "del fib_output_median_list\n",
    "del fib_input_median_list\n",
    "gc.collect()"
   ]
  },
  {
   "cell_type": "markdown",
   "metadata": {},
   "source": [
    "We will use this as the center and part of the result"
   ]
  },
  {
   "cell_type": "code",
   "execution_count": 43,
   "metadata": {
    "collapsed": true
   },
   "outputs": [],
   "source": [
    "Y_input_fib = fib_input_median.reshape(-1,1)\n",
    "Y_output_fib = fib_output_median.reshape(-1,1)"
   ]
  },
  {
   "cell_type": "markdown",
   "metadata": {},
   "source": [
    "## Data Selection\n",
    "Select x_length + y_length days of data as input or ouput set."
   ]
  },
  {
   "cell_type": "markdown",
   "metadata": {},
   "source": [
    "### Input and Output data"
   ]
  },
  {
   "cell_type": "code",
   "execution_count": 44,
   "metadata": {
    "collapsed": true
   },
   "outputs": [],
   "source": [
    "X_input_raw = input_df[X_input_dates].values\n",
    "Y_input_raw = input_df[Y_input_dates].values\n",
    "X_output_raw = input_df[X_output_dates].values\n",
    "if test_length:\n",
    "    Y_output_raw = input_df[Y_output_dates].values"
   ]
  },
  {
   "cell_type": "markdown",
   "metadata": {},
   "source": [
    "##### Convert nan to number 0."
   ]
  },
  {
   "cell_type": "markdown",
   "metadata": {},
   "source": [
    "X_input_num = np.nan_to_num(X_input_raw)\n",
    "Y_input_num = np.nan_to_num(Y_input_raw)\n",
    "X_output_num = np.nan_to_num(X_output_raw)\n",
    "if test_length:\n",
    "    Y_output_num = np.nan_to_num(Y_output_raw)"
   ]
  },
  {
   "cell_type": "markdown",
   "metadata": {},
   "source": [
    "## Transform Data"
   ]
  },
  {
   "cell_type": "markdown",
   "metadata": {},
   "source": [
    "### Log"
   ]
  },
  {
   "cell_type": "code",
   "execution_count": 50,
   "metadata": {
    "collapsed": true
   },
   "outputs": [],
   "source": [
    "def log(X):\n",
    "    return np.log10(X + 1.0)\n",
    "def unlog(X):\n",
    "    return np.clip(np.power(10., X) - 1.0, 0.0, None)"
   ]
  },
  {
   "cell_type": "code",
   "execution_count": 89,
   "metadata": {
    "collapsed": true
   },
   "outputs": [],
   "source": [
    "X_input_log = log(X_input_raw)  # Contain nan\n",
    "Y_input_log = log(Y_input_raw)\n",
    "X_output_log = log(X_output_raw)\n",
    "if test_length:\n",
    "    Y_output_log = log(Y_output_raw)"
   ]
  },
  {
   "cell_type": "code",
   "execution_count": 93,
   "metadata": {},
   "outputs": [
    {
     "data": {
      "text/plain": [
       "array([[ 1.20412004,  1.47712123,  1.27875364, ...,  1.27875364,\n",
       "         1.38021123,  1.11394334],\n",
       "       [ 1.36172783,  1.36172783,  1.82607484, ...,  1.39794004,\n",
       "         1.23044896,  1.20412004],\n",
       "       [ 0.84509802,  0.60206002,  0.30103001, ...,  0.77815127,\n",
       "         0.30103001,  0.69897002],\n",
       "       ..., \n",
       "       [        nan,         nan,         nan, ...,         nan,\n",
       "                nan,         nan],\n",
       "       [        nan,         nan,         nan, ...,         nan,\n",
       "                nan,         nan],\n",
       "       [        nan,         nan,         nan, ...,         nan,\n",
       "                nan,         nan]], dtype=float32)"
      ]
     },
     "execution_count": 93,
     "metadata": {},
     "output_type": "execute_result"
    }
   ],
   "source": [
    "X_input_log"
   ]
  },
  {
   "cell_type": "markdown",
   "metadata": {
    "collapsed": true
   },
   "source": [
    "X_input_log = log(X_input_num)\n",
    "Y_input_log = log(Y_input_num)\n",
    "X_output_log = log(X_output_num)\n",
    "if test_length:\n",
    "    Y_output_log = log(Y_output_num)"
   ]
  },
  {
   "cell_type": "markdown",
   "metadata": {
    "collapsed": true
   },
   "source": [
    "input_data_log = log(input_data_num)\n",
    "output_data_log = log(output_data_num)"
   ]
  },
  {
   "cell_type": "markdown",
   "metadata": {
    "collapsed": true
   },
   "source": [
    "Z_input_data_log = log(Z_input_data_num)"
   ]
  },
  {
   "cell_type": "markdown",
   "metadata": {},
   "source": [
    "##### Check Log transformation"
   ]
  },
  {
   "cell_type": "code",
   "execution_count": 94,
   "metadata": {},
   "outputs": [
    {
     "name": "stdout",
     "output_type": "stream",
     "text": [
      "(145063, 63) (145063, 63) (145063, 63)\n",
      "(145063, 63)\n"
     ]
    }
   ],
   "source": [
    "print(X_input_log.shape, Y_input_log.shape, X_output_log.shape)\n",
    "if test_length: print(Y_output_log.shape)"
   ]
  },
  {
   "cell_type": "markdown",
   "metadata": {
    "collapsed": true
   },
   "source": [
    "#Check inverse log transformation\n",
    "input_data_log_tt = unlog(input_data_log)\n",
    "input_data_log_tt_dif = input_data_log_tt - input_data_num\n",
    "input_data_log_tt_dif.min(), input_data_log_tt_dif.max()"
   ]
  },
  {
   "cell_type": "markdown",
   "metadata": {
    "collapsed": true
   },
   "source": [
    "#Check inverse log transformation\n",
    "output_data_log_tt = unlog(output_data_log)\n",
    "output_data_log_tt_dif = output_data_log_tt - output_data_num\n",
    "output_data_log_tt_dif.min(), output_data_log_tt_dif.max()"
   ]
  },
  {
   "cell_type": "markdown",
   "metadata": {
    "collapsed": true
   },
   "source": [
    "del input_data_log_tt\n",
    "del input_data_log_tt_dif\n",
    "del output_data_log_tt\n",
    "del output_data_log_tt_dif"
   ]
  },
  {
   "cell_type": "markdown",
   "metadata": {},
   "source": [
    "### Normalization (Center and Scale)"
   ]
  },
  {
   "cell_type": "markdown",
   "metadata": {},
   "source": [
    "#### Use Regular Median as the Center for X"
   ]
  },
  {
   "cell_type": "code",
   "execution_count": 72,
   "metadata": {},
   "outputs": [
    {
     "name": "stderr",
     "output_type": "stream",
     "text": [
      "c:\\python3\\lib\\site-packages\\numpy\\lib\\function_base.py:4011: RuntimeWarning: All-NaN slice encountered\n",
      "  r = func(a, **kwargs)\n"
     ]
    }
   ],
   "source": [
    "# Not including nan\n",
    "X_input_center = np.nan_to_num(np.nanmedian(X_input_log, axis=-1)).reshape(-1,1)\n",
    "X_output_center = np.nan_to_num(np.nanmedian(X_output_log, axis=-1)).reshape(-1,1)\n",
    "\n",
    "# Another choice: Including nan\n",
    "#X_input_center = np.median(np.nan_to_num(X_input_log), axis=-1).reshape(-1,1)\n",
    "#X_output_center = np.median(np.nan_to_num(X_output_log), axis=-1).reshape(-1,1)"
   ]
  },
  {
   "cell_type": "markdown",
   "metadata": {},
   "source": [
    "#### Use Fib Median as the Center for Y"
   ]
  },
  {
   "cell_type": "code",
   "execution_count": 59,
   "metadata": {
    "collapsed": true
   },
   "outputs": [],
   "source": [
    "Y_input_center = log(fib_input_median).reshape(-1,1)\n",
    "Y_output_center = log(fib_output_median).reshape(-1,1)\n",
    "#Y_input_center = Y_output_center  # using Y_output_center instead"
   ]
  },
  {
   "cell_type": "code",
   "execution_count": 77,
   "metadata": {},
   "outputs": [
    {
     "data": {
      "text/plain": [
       "(array([[ 1.24303806],\n",
       "        [ 1.21085334],\n",
       "        [ 0.69897002],\n",
       "        ..., \n",
       "        [ 0.        ],\n",
       "        [ 0.        ],\n",
       "        [ 0.        ]], dtype=float32), array([[ 1.39794004],\n",
       "        [ 1.37106788],\n",
       "        [ 0.69897002],\n",
       "        ..., \n",
       "        [ 1.5440681 ],\n",
       "        [ 0.94200808],\n",
       "        [ 1.08813608]], dtype=float32))"
      ]
     },
     "execution_count": 77,
     "metadata": {},
     "output_type": "execute_result"
    }
   ],
   "source": [
    "Y_input_center, Y_output_center"
   ]
  },
  {
   "cell_type": "markdown",
   "metadata": {},
   "source": [
    "plt.scatter(X_input_center.reshape(-1),Y_input_center.reshape(-1))\n",
    "plt.show()"
   ]
  },
  {
   "cell_type": "markdown",
   "metadata": {
    "collapsed": true
   },
   "source": [
    "Z_input_center = np.median(Z_input_data_log, axis=-1).reshape(-1,1)"
   ]
  },
  {
   "cell_type": "markdown",
   "metadata": {},
   "source": [
    "Z_input_center.shape"
   ]
  },
  {
   "cell_type": "markdown",
   "metadata": {},
   "source": [
    "#### Choice of default scale"
   ]
  },
  {
   "cell_type": "markdown",
   "metadata": {
    "collapsed": true
   },
   "source": [
    "input_log = log(input_data)  # log of input_data with nan\n",
    "output_log = log(output_data)  # log of output_data with nan"
   ]
  },
  {
   "cell_type": "markdown",
   "metadata": {},
   "source": [
    "np.median(np.nanstd(input_data_log[:,:x_length], axis=-1))"
   ]
  },
  {
   "cell_type": "markdown",
   "metadata": {},
   "source": [
    "np.mean(np.nanstd(input_data_log[:,:x_length], axis=-1))"
   ]
  },
  {
   "cell_type": "code",
   "execution_count": 95,
   "metadata": {
    "scrolled": true
   },
   "outputs": [
    {
     "name": "stderr",
     "output_type": "stream",
     "text": [
      "c:\\python3\\lib\\site-packages\\numpy\\lib\\nanfunctions.py:1427: RuntimeWarning: Degrees of freedom <= 0 for slice.\n",
      "  keepdims=keepdims)\n"
     ]
    },
    {
     "data": {
      "text/plain": [
       "0.17974041"
      ]
     },
     "execution_count": 95,
     "metadata": {},
     "output_type": "execute_result"
    }
   ],
   "source": [
    "default_input_scale = np.nanmedian(np.nanstd(X_input_log, axis=-1))\n",
    "default_input_scale"
   ]
  },
  {
   "cell_type": "code",
   "execution_count": 96,
   "metadata": {
    "scrolled": true
   },
   "outputs": [
    {
     "name": "stderr",
     "output_type": "stream",
     "text": [
      "c:\\python3\\lib\\site-packages\\numpy\\lib\\nanfunctions.py:1427: RuntimeWarning: Degrees of freedom <= 0 for slice.\n",
      "  keepdims=keepdims)\n"
     ]
    },
    {
     "data": {
      "text/plain": [
       "0.16425449"
      ]
     },
     "execution_count": 96,
     "metadata": {},
     "output_type": "execute_result"
    }
   ],
   "source": [
    "default_output_scale = np.nanmedian(np.nanstd(X_output_log, axis=-1))\n",
    "default_output_scale"
   ]
  },
  {
   "cell_type": "code",
   "execution_count": 97,
   "metadata": {},
   "outputs": [
    {
     "data": {
      "text/plain": [
       "0.17199746"
      ]
     },
     "execution_count": 97,
     "metadata": {},
     "output_type": "execute_result"
    }
   ],
   "source": [
    "default_scale = np.mean([default_input_scale, default_output_scale]); default_scale"
   ]
  },
  {
   "cell_type": "markdown",
   "metadata": {},
   "source": [
    "#### Compute Median and Stdev"
   ]
  },
  {
   "cell_type": "markdown",
   "metadata": {},
   "source": [
    "Here we are not using this median as center"
   ]
  },
  {
   "cell_type": "markdown",
   "metadata": {},
   "source": [
    "Y_input_center = np.nanmedian(input_data_log[:,:x_length], axis=-1).reshape(-1,1)\n",
    "Y_input_center  # remember sample-wised center"
   ]
  },
  {
   "cell_type": "code",
   "execution_count": 98,
   "metadata": {
    "scrolled": true
   },
   "outputs": [
    {
     "name": "stderr",
     "output_type": "stream",
     "text": [
      "c:\\python3\\lib\\site-packages\\numpy\\lib\\nanfunctions.py:1427: RuntimeWarning: Degrees of freedom <= 0 for slice.\n",
      "  keepdims=keepdims)\n"
     ]
    },
    {
     "data": {
      "text/plain": [
       "array([[ 0.22042467],\n",
       "       [ 0.19443031],\n",
       "       [ 0.23390391],\n",
       "       ..., \n",
       "       [ 0.17199746],\n",
       "       [ 0.17199746],\n",
       "       [ 0.17199746]], dtype=float32)"
      ]
     },
     "execution_count": 98,
     "metadata": {},
     "output_type": "execute_result"
    }
   ],
   "source": [
    "input_scale = np.nan_to_num(np.nanstd(X_input_log, axis=-1)).reshape(-1,1)\n",
    "input_scale[input_scale == 0.0] = default_scale  # Prevent divid by zero \n",
    "# non-zero value is choose based on the median of other page with non-zero stdev)\n",
    "input_scale  # remember sample-wised scale"
   ]
  },
  {
   "cell_type": "markdown",
   "metadata": {},
   "source": [
    "Y_output_center = np.nanmedian(output_data_log[:,:x_length], axis=-1).reshape(-1,1)\n",
    "Y_output_center  # remember sample-wised center"
   ]
  },
  {
   "cell_type": "code",
   "execution_count": 99,
   "metadata": {
    "scrolled": true
   },
   "outputs": [
    {
     "name": "stderr",
     "output_type": "stream",
     "text": [
      "c:\\python3\\lib\\site-packages\\numpy\\lib\\nanfunctions.py:1427: RuntimeWarning: Degrees of freedom <= 0 for slice.\n",
      "  keepdims=keepdims)\n"
     ]
    },
    {
     "data": {
      "text/plain": [
       "array([[ 0.15715757],\n",
       "       [ 0.23019141],\n",
       "       [ 0.29932547],\n",
       "       ..., \n",
       "       [ 0.30635026],\n",
       "       [ 0.30876896],\n",
       "       [ 0.41433722]], dtype=float32)"
      ]
     },
     "execution_count": 99,
     "metadata": {},
     "output_type": "execute_result"
    }
   ],
   "source": [
    "output_scale = np.nan_to_num(np.nanstd(X_output_log, axis=-1)).reshape(-1,1)\n",
    "output_scale[output_scale == 0.0] = default_scale  # Prevent divid by zero \n",
    "# non-zero value is choose based on the median of other page with non-zero stdev)\n",
    "output_scale  # remember sample-wised scale"
   ]
  },
  {
   "cell_type": "markdown",
   "metadata": {},
   "source": [
    "Z_input_scale = np.std(Z_input_data_log, axis=-1).reshape(-1,1)\n",
    "Z_input_scale[Z_input_scale == 0.0] = default_input_scale  # Prevent divid by zero\n",
    "Z_input_scale  # remember sample-wised scale"
   ]
  },
  {
   "cell_type": "markdown",
   "metadata": {},
   "source": [
    "##### Check zero in scale"
   ]
  },
  {
   "cell_type": "markdown",
   "metadata": {},
   "source": [
    "#Check if there is any 0. in input_scale\n",
    "input_scale[input_scale == 0.]"
   ]
  },
  {
   "cell_type": "markdown",
   "metadata": {},
   "source": [
    "#Check if there is any 0. in output_scale\n",
    "output_scale[output_scale == 0.]"
   ]
  },
  {
   "cell_type": "markdown",
   "metadata": {},
   "source": [
    "#### Shift by Center and Scale by Scale"
   ]
  },
  {
   "cell_type": "code",
   "execution_count": 87,
   "metadata": {
    "collapsed": true
   },
   "outputs": [],
   "source": [
    "def transform(data_ori, center, scale):\n",
    "    return (data_ori - center) / scale\n",
    "def untransform(data, center, scale):\n",
    "    return data * scale + center"
   ]
  },
  {
   "cell_type": "code",
   "execution_count": 103,
   "metadata": {
    "collapsed": true
   },
   "outputs": [],
   "source": [
    "# Normalize after nan->0\n",
    "X_input = transform(np.nan_to_num(X_input_log), X_input_center, input_scale)\n",
    "X_output = transform(np.nan_to_num(X_output_log), X_output_center, output_scale)\n",
    "Y_input = transform(np.nan_to_num(Y_input_log), Y_input_center, input_scale)\n",
    "if test_length:\n",
    "    Y_output = transform(np.nan_to_num(Y_output_log), Y_output_center, output_scale)\n",
    "\n",
    "# Another choice: Normalize before nan->0\n",
    "#X_input = np.nan_to_num(transform(X_input_log, X_input_center, input_scale))\n",
    "#X_output = np.nan_to_num(transform(X_output_log, X_output_center, output_scale))\n",
    "#Y_input = np.nan_to_num(transform(Y_input_log, Y_input_center, input_scale))\n",
    "#if test_length:\n",
    "#    Y_output = np.nan_to_num(transform(Y_output_log, Y_output_center, output_scale))"
   ]
  },
  {
   "cell_type": "code",
   "execution_count": 125,
   "metadata": {},
   "outputs": [
    {
     "data": {
      "image/png": "[encoded data removed]",
      "text/plain": [
       "<matplotlib.figure.Figure at 0x21ff7668>"
      ]
     },
     "metadata": {},
     "output_type": "display_data"
    },
    {
     "data": {
      "image/png": "[encoded data removed]",
      "text/plain": [
       "<matplotlib.figure.Figure at 0xfc78b70>"
      ]
     },
     "metadata": {},
     "output_type": "display_data"
    },
    {
     "data": {
      "image/png": "[encoded data removed]",
      "text/plain": [
       "<matplotlib.figure.Figure at 0x1ba30e48>"
      ]
     },
     "metadata": {},
     "output_type": "display_data"
    },
    {
     "data": {
      "image/png": "[encoded data removed]",
      "text/plain": [
       "<matplotlib.figure.Figure at 0x23058f98>"
      ]
     },
     "metadata": {},
     "output_type": "display_data"
    },
    {
     "data": {
      "image/png": "[encoded data removed]",
      "text/plain": [
       "<matplotlib.figure.Figure at 0x1a954e80>"
      ]
     },
     "metadata": {},
     "output_type": "display_data"
    },
    {
     "data": {
      "text/plain": [
       "array([  5903,  61531,  11448, 141086, 120977])"
      ]
     },
     "execution_count": 125,
     "metadata": {},
     "output_type": "execute_result"
    }
   ],
   "source": [
    "examine(Y_input)"
   ]
  },
  {
   "cell_type": "markdown",
   "metadata": {},
   "source": [
    "If we take nan_to_num before transform, we make sure the nan got transformed into 0 but not the center.\n",
    "\n",
    "If we take nan_to_num after transform, nan trun into the center but not 0 of the original data."
   ]
  },
  {
   "cell_type": "markdown",
   "metadata": {
    "collapsed": true
   },
   "source": [
    "input_data_norm = transform(input_data_log, Y_input_center, input_scale)\n",
    "output_data_norm = transform(output_data_log, Y_output_center, output_scale)"
   ]
  },
  {
   "cell_type": "markdown",
   "metadata": {},
   "source": [
    "Z_input = transform(Z_input_data_log, Z_input_center, Z_input_scale)"
   ]
  },
  {
   "cell_type": "markdown",
   "metadata": {},
   "source": [
    "##### Check median and stdev transformations"
   ]
  },
  {
   "cell_type": "code",
   "execution_count": 104,
   "metadata": {
    "collapsed": true
   },
   "outputs": [],
   "source": [
    "def check_nan(X):\n",
    "    return [x for x in X if np.isnan(x).any()]"
   ]
  },
  {
   "cell_type": "markdown",
   "metadata": {},
   "source": [
    "check_nan(X_input)  # Check if there is any nan in the input_data"
   ]
  },
  {
   "cell_type": "markdown",
   "metadata": {},
   "source": [
    "#Check inverse scale transformation\n",
    "input_data_norm_it = untransform(input_data_norm, Y_input_center, input_scale)\n",
    "input_data_norm_it_dif = input_data_norm_it - input_data_log\n",
    "input_data_norm_it_dif.min(), input_data_norm_it_dif.max()"
   ]
  },
  {
   "cell_type": "markdown",
   "metadata": {
    "scrolled": true
   },
   "source": [
    "#Check inverse scale transformation\n",
    "output_data_norm_it = untransform(output_data_norm, Y_output_center, output_scale)\n",
    "output_data_norm_it_dif = output_data_norm_it - output_data_log\n",
    "output_data_norm_it_dif.min(), output_data_norm_it_dif.max()"
   ]
  },
  {
   "cell_type": "markdown",
   "metadata": {
    "scrolled": true
   },
   "source": [
    "del input_data_norm_it\n",
    "del input_data_norm_it_dif\n",
    "del output_data_norm_it\n",
    "del output_data_norm_it_dif\n",
    "gc.collect()"
   ]
  },
  {
   "cell_type": "markdown",
   "metadata": {},
   "source": [
    "## Center (Median) and Scale (Stdev) Investigation"
   ]
  },
  {
   "cell_type": "markdown",
   "metadata": {},
   "source": [
    "### Center"
   ]
  },
  {
   "cell_type": "markdown",
   "metadata": {},
   "source": [
    "plt.hist(Y_input_center, bins=40, alpha=0.5, label='input')\n",
    "plt.hist(Y_output_center, bins=40, alpha=0.5, label='output')\n",
    "plt.hist(X_input_center, bins=40, alpha=0.5, label='input')\n",
    "plt.hist(X_output_center, bins=40, alpha=0.5, label='output')\n",
    "#plt.hist(Z_input_center, bins=40, alpha=0.5, label='Z_input')\n",
    "plt.legend()\n",
    "plt.show()"
   ]
  },
  {
   "cell_type": "markdown",
   "metadata": {},
   "source": [
    "plt.hist(Y_input_center, bins=40, alpha=0.7, label='input')\n",
    "plt.hist(Y_output_center, bins=40, alpha=0.7, label='output')\n",
    "plt.legend()\n",
    "plt.yscale('log')\n",
    "plt.show()"
   ]
  },
  {
   "cell_type": "markdown",
   "metadata": {},
   "source": [
    "### Scale"
   ]
  },
  {
   "cell_type": "markdown",
   "metadata": {},
   "source": [
    "plt.hist(input_scale, bins=40, alpha=0.7, label='input')\n",
    "plt.hist(output_scale, bins=40, alpha=0.7, label='output')\n",
    "#plt.hist(Z_input_scale, bins=40, alpha=0.7, label='Z_input')\n",
    "plt.legend()\n",
    "plt.show()"
   ]
  },
  {
   "cell_type": "markdown",
   "metadata": {},
   "source": [
    "plt.hist(input_scale, bins=40, alpha=0.7, label='input')\n",
    "plt.hist(output_scale, bins=40, alpha=0.7, label='output')\n",
    "plt.legend()\n",
    "plt.yscale('log')\n",
    "plt.show()"
   ]
  },
  {
   "cell_type": "markdown",
   "metadata": {},
   "source": [
    "### Group index based on scale of median (center)"
   ]
  },
  {
   "cell_type": "markdown",
   "metadata": {},
   "source": [
    "def group_index(median, stdev):\n",
    "    if median < 1.0: return 0\n",
    "    elif median < 2.0: \n",
    "        if stdev < 1.7: return 1\n",
    "        else: return 2\n",
    "    elif median < 4.0: \n",
    "        if stdev < 1.7: return 3\n",
    "        else: return 4\n",
    "    else: return 5\n",
    "#group_index_v = np.vectorize(group_index)\n",
    "gp_list = list(range(6)); gp_list"
   ]
  },
  {
   "cell_type": "code",
   "execution_count": 117,
   "metadata": {},
   "outputs": [
    {
     "data": {
      "text/plain": [
       "[0, 1, 2, 3]"
      ]
     },
     "execution_count": 117,
     "metadata": {},
     "output_type": "execute_result"
    }
   ],
   "source": [
    "def group_index(logx):\n",
    "    if logx < 1.0: return 0\n",
    "    elif logx < 2.0: return 1\n",
    "    elif logx < 4.0: return 2\n",
    "    else: return 3\n",
    "group_index_v = np.vectorize(group_index)\n",
    "gp_list = list(range(4)); gp_list"
   ]
  },
  {
   "cell_type": "markdown",
   "metadata": {},
   "source": [
    "def group_index(logx):\n",
    "    if logx == 0.: return 0\n",
    "    elif logx < 1.0: return 1\n",
    "    elif logx < 2.0: return 2\n",
    "    elif logx < 4.0: return 3\n",
    "    elif logx < 5.0: return 4\n",
    "    else: return 5\n",
    "group_index_v = np.vectorize(group_index)\n",
    "gp_list = list(range(6)); gp_list"
   ]
  },
  {
   "cell_type": "markdown",
   "metadata": {},
   "source": [
    "input_gp = np.array([group_index(center, scale) for center, scale in zip(Y_input_center, input_scale)]).reshape(-1)\n",
    "output_gp = np.array([group_index(center, scale) for center, scale in zip(Y_output_center, output_scale)]).reshape(-1)"
   ]
  },
  {
   "cell_type": "code",
   "execution_count": 113,
   "metadata": {
    "collapsed": true
   },
   "outputs": [],
   "source": [
    "# Choice 1: Group using X center\n",
    "input_gp = group_index_v(X_input_center).reshape(-1)\n",
    "output_gp = group_index_v(X_output_center).reshape(-1)\n",
    "\n",
    "# Choice 2: Group using Y center (Fib Median)\n",
    "#input_gp = group_index_v(Y_input_center).reshape(-1)\n",
    "#output_gp = group_index_v(Y_output_center).reshape(-1)"
   ]
  },
  {
   "cell_type": "code",
   "execution_count": 114,
   "metadata": {},
   "outputs": [
    {
     "data": {
      "text/plain": [
       "(array([2, 2, 1, ..., 0, 0, 0]), array([2, 2, 1, ..., 2, 1, 2]))"
      ]
     },
     "execution_count": 114,
     "metadata": {},
     "output_type": "execute_result"
    }
   ],
   "source": [
    "input_gp, output_gp"
   ]
  },
  {
   "cell_type": "code",
   "execution_count": 115,
   "metadata": {},
   "outputs": [
    {
     "data": {
      "text/plain": [
       "[6993, 21980, 39327, 75849, 859, 55]"
      ]
     },
     "execution_count": 115,
     "metadata": {},
     "output_type": "execute_result"
    }
   ],
   "source": [
    "# group counts\n",
    "gp_input_counts = [0] * len(gp_list)\n",
    "for x in input_gp: gp_input_counts[x] += 1\n",
    "gp_input_counts"
   ]
  },
  {
   "cell_type": "code",
   "execution_count": 116,
   "metadata": {},
   "outputs": [
    {
     "data": {
      "text/plain": [
       "[2659, 22111, 43982, 75497, 765, 49]"
      ]
     },
     "execution_count": 116,
     "metadata": {},
     "output_type": "execute_result"
    }
   ],
   "source": [
    "# group counts\n",
    "gp_output_counts = [0] * len(gp_list)\n",
    "for x in output_gp: gp_output_counts[x] += 1\n",
    "gp_output_counts"
   ]
  },
  {
   "cell_type": "markdown",
   "metadata": {},
   "source": [
    "plt.hist(input_gp, alpha=0.8, label='input')\n",
    "plt.hist(output_gp, alpha=0.3, label='output')\n",
    "plt.yscale('linear')\n",
    "plt.legend()\n",
    "plt.show()"
   ]
  },
  {
   "cell_type": "markdown",
   "metadata": {},
   "source": [
    "plt.hist(input_gp, alpha=0.8, label='input')\n",
    "plt.hist(output_gp, alpha=0.3, label='output')\n",
    "plt.yscale('log')\n",
    "plt.legend()\n",
    "plt.show()"
   ]
  },
  {
   "cell_type": "markdown",
   "metadata": {},
   "source": [
    "#### Make (X,Y) pairs data from data set"
   ]
  },
  {
   "cell_type": "markdown",
   "metadata": {},
   "source": [
    "X_input = input_data_norm[:, :x_length]\n",
    "Y_input = input_data_norm[:, -y_length:]\n",
    "X_input.shape, Y_input.shape"
   ]
  },
  {
   "cell_type": "markdown",
   "metadata": {
    "scrolled": true
   },
   "source": [
    "X_output = output_data_norm[:, :x_length]\n",
    "if test_length:\n",
    "    Y_output = output_data_norm[:, -y_length:]\n",
    "    print(X_output.shape, Y_output.shape)\n",
    "else:\n",
    "    print(X_output.shape, 'No Y_output')"
   ]
  },
  {
   "cell_type": "markdown",
   "metadata": {
    "collapsed": true
   },
   "source": [
    "Z_output = Y_input"
   ]
  },
  {
   "cell_type": "markdown",
   "metadata": {},
   "source": [
    "Z_input.shape, Z_output.shape"
   ]
  },
  {
   "cell_type": "markdown",
   "metadata": {},
   "source": [
    "#### Original data"
   ]
  },
  {
   "cell_type": "code",
   "execution_count": 121,
   "metadata": {
    "collapsed": true
   },
   "outputs": [],
   "source": [
    "X_input_ori = np.nan_to_num(X_input_raw)\n",
    "Y_input_ori = np.nan_to_num(Y_input_raw)\n",
    "X_output_ori = np.nan_to_num(X_output_raw)\n",
    "if test_length:\n",
    "    Y_output_ori = np.nan_to_num(Y_output_raw)"
   ]
  },
  {
   "cell_type": "markdown",
   "metadata": {
    "collapsed": true
   },
   "source": [
    "X_input_ori = input_data_num[:, :x_length]\n",
    "Y_input_ori = input_data_num[:, -y_length:]\n",
    "X_output_ori = output_data_num[:, :x_length]\n",
    "if test_length: \n",
    "    Y_output_ori = output_data_num[:, -y_length:] "
   ]
  },
  {
   "cell_type": "markdown",
   "metadata": {},
   "source": [
    "#### Raw data (with nan)"
   ]
  },
  {
   "cell_type": "markdown",
   "metadata": {
    "collapsed": true
   },
   "source": [
    "X_input_raw = input_data[:, :x_length]\n",
    "Y_input_raw = input_data[:, -y_length:]\n",
    "X_output_raw = output_data[:, :x_length]\n",
    "if test_length:\n",
    "    Y_output_raw = output_data[:, -y_length:]"
   ]
  },
  {
   "cell_type": "code",
   "execution_count": 122,
   "metadata": {},
   "outputs": [
    {
     "name": "stdout",
     "output_type": "stream",
     "text": [
      "shape, min, max, median, stdev\n",
      "(145063, 63) -1.01009e+07 8.00101 0.0 100345.0\n",
      "(145063, 63) -1.01009e+07 1.31975e+08 -0.0999759 169102.0\n",
      "(145063, 63) -1.01009e+07 8.00101 0.0 116315.0\n",
      "(145063, 63) -1.01009e+07 3.11861e+07 -0.215274 128749.0\n",
      "(145063, 63) 0.0 2.32094e+07 126.0 63765.9\n",
      "(145063, 63) 0.0 6.72643e+07 128.0 155484.0\n",
      "(145063, 63) 0.0 2.46307e+07 123.0 65785.6\n",
      "(145063, 63) 0.0 1.86702e+07 113.0 57469.1\n"
     ]
    }
   ],
   "source": [
    "if test_length:\n",
    "    arr_info((X_input, Y_input, X_output, Y_output, \n",
    "              X_input_ori, Y_input_ori, X_output_ori, Y_output_ori))\n",
    "else:\n",
    "    arr_info((X_input, Y_input, X_output, \n",
    "              X_input_ori, Y_input_ori, X_output_ori))"
   ]
  },
  {
   "cell_type": "markdown",
   "metadata": {},
   "source": [
    "arr_info((Z_input,))"
   ]
  },
  {
   "cell_type": "markdown",
   "metadata": {},
   "source": [
    "#### Min and max cases examination"
   ]
  },
  {
   "cell_type": "markdown",
   "metadata": {},
   "source": [
    "np.argmin(Y_output, axis=0)"
   ]
  },
  {
   "cell_type": "markdown",
   "metadata": {},
   "source": [
    "Y_output[8604]"
   ]
  },
  {
   "cell_type": "markdown",
   "metadata": {},
   "source": [
    "Y_output_ori[8604]"
   ]
  },
  {
   "cell_type": "markdown",
   "metadata": {},
   "source": [
    "fib_output_median[8604]"
   ]
  },
  {
   "cell_type": "markdown",
   "metadata": {},
   "source": [
    "log(Y_output_ori[8604])"
   ]
  },
  {
   "cell_type": "markdown",
   "metadata": {},
   "source": [
    "log(fib_output_median[8604])"
   ]
  },
  {
   "cell_type": "markdown",
   "metadata": {},
   "source": [
    "np.std(log(Y_output_ori[8604]))"
   ]
  },
  {
   "cell_type": "markdown",
   "metadata": {},
   "source": [
    "np.std(log(X_output_ori[8604]))"
   ]
  },
  {
   "cell_type": "markdown",
   "metadata": {},
   "source": [
    "output_scale[8604]"
   ]
  },
  {
   "cell_type": "markdown",
   "metadata": {},
   "source": [
    "#### Check if the inverse transformation is correct"
   ]
  },
  {
   "cell_type": "markdown",
   "metadata": {
    "collapsed": true
   },
   "source": [
    "#Undo transformation\n",
    "X_input_tt = unlog(untransform(X_input, train_center, train_scale))"
   ]
  },
  {
   "cell_type": "markdown",
   "metadata": {},
   "source": [
    "X_input_tt_diff = X_input_tt - X_input_ori\n",
    "X_input_tt_diff.min(), X_input_tt_diff.max()"
   ]
  },
  {
   "cell_type": "markdown",
   "metadata": {},
   "source": [
    "## Split X,Y data into groups"
   ]
  },
  {
   "cell_type": "markdown",
   "metadata": {},
   "source": [
    "X_input[input_gp == 1].shape"
   ]
  },
  {
   "cell_type": "code",
   "execution_count": 118,
   "metadata": {
    "collapsed": true
   },
   "outputs": [],
   "source": [
    "X_input_list = [X_input[input_gp == gp] for gp in gp_list]\n",
    "Y_input_list = [Y_input[input_gp == gp] for gp in gp_list]\n",
    "X_output_list = [X_output[output_gp == gp] for gp in gp_list]\n",
    "if test_length:\n",
    "    Y_output_list = [Y_output[output_gp == gp] for gp in gp_list]"
   ]
  },
  {
   "cell_type": "markdown",
   "metadata": {
    "collapsed": true
   },
   "source": [
    "Z_input_list = [Z_input[input_gp == gp] for gp in gp_list]\n",
    "Z_output_list = [Z_output[output_gp == gp] for gp in gp_list]"
   ]
  },
  {
   "cell_type": "markdown",
   "metadata": {},
   "source": [
    "## Additional input for the neural network"
   ]
  },
  {
   "cell_type": "markdown",
   "metadata": {},
   "source": [
    "#Split center into group\n",
    "Y_input_center_list = [Y_input_center[input_gp == gp] for gp in gp_list]\n",
    "Y_output_center_list = [Y_output_center[output_gp == gp] for gp in gp_list]\n",
    "\n",
    "#Split scale into group\n",
    "input_scale_list = [input_scale[input_gp == gp] for gp in gp_list]\n",
    "output_scale_list = [output_scale[output_gp == gp] for gp in gp_list]"
   ]
  },
  {
   "cell_type": "markdown",
   "metadata": {},
   "source": [
    "input_scale_list[0].shape"
   ]
  },
  {
   "cell_type": "code",
   "execution_count": null,
   "metadata": {},
   "outputs": [],
   "source": [
    "A_input = np.concatenate((Y_input_center, input_scale), axis=1)\n",
    "A_output = np.concatenate((Y_output_center, output_scale), axis=1); A_input.shape, A_output.shape"
   ]
  },
  {
   "cell_type": "code",
   "execution_count": null,
   "metadata": {
    "collapsed": true
   },
   "outputs": [],
   "source": [
    "A_input_list = [A_input[input_gp == gp] for gp in gp_list]\n",
    "A_output_list = [A_output[output_gp == gp] for gp in gp_list]"
   ]
  },
  {
   "cell_type": "code",
   "execution_count": null,
   "metadata": {},
   "outputs": [],
   "source": [
    "a_length = len(A_input[0]); a_length"
   ]
  },
  {
   "cell_type": "markdown",
   "metadata": {},
   "source": [
    "## Neural Network?"
   ]
  },
  {
   "cell_type": "code",
   "execution_count": null,
   "metadata": {},
   "outputs": [],
   "source": [
    "from keras.models import Sequential\n",
    "#from keras.layers import Conv1D\n",
    "from keras.layers import Dense, Dropout, Flatten\n",
    "from keras.losses import mean_squared_error\n",
    "from keras.optimizers import Adam"
   ]
  },
  {
   "cell_type": "markdown",
   "metadata": {},
   "source": [
    "### SMAPE\n",
    "Symmetric mean absolute percentage error\n",
    "\n",
    "https://en.wikipedia.org/wiki/Symmetric_mean_absolute_percentage_error"
   ]
  },
  {
   "cell_type": "code",
   "execution_count": null,
   "metadata": {
    "collapsed": true
   },
   "outputs": [],
   "source": [
    "import keras.backend as K\n",
    "\n",
    "def k_smape(y_true, y_pred):\n",
    "    '''Symmetric mean absolute percentage error for keras metric'''\n",
    "    diff = K.abs((y_true - y_pred) / K.clip(K.abs(y_true) + K.abs(y_pred),\n",
    "                                            K.epsilon(), None))\n",
    "    return 200. * K.mean(diff, axis=-1)"
   ]
  },
  {
   "cell_type": "code",
   "execution_count": null,
   "metadata": {
    "collapsed": true
   },
   "outputs": [],
   "source": [
    "def smape(y_true, y_pred, axis=None):\n",
    "    '''Symmetric mean absolute percentage error'''\n",
    "    diff = np.abs((y_true - y_pred) / \n",
    "                  np.clip(np.abs(y_true) + np.abs(y_pred), np.float32(1e-07), None))\n",
    "    return np.float32(200.) * np.nanmean(diff, axis=axis)"
   ]
  },
  {
   "cell_type": "markdown",
   "metadata": {},
   "source": [
    "smape(np.array([0,1]),np.array([np.nan, 0])), smape(np.array([0]),np.array([0]))"
   ]
  },
  {
   "cell_type": "code",
   "execution_count": null,
   "metadata": {},
   "outputs": [],
   "source": [
    "# Benchmark SMAPE on the transformed data\n",
    "smape(Y_input,X_input), smape(Y_input, X_output), smape(Y_input,Y_input)"
   ]
  },
  {
   "cell_type": "code",
   "execution_count": null,
   "metadata": {
    "scrolled": true
   },
   "outputs": [],
   "source": [
    "# Benchmark SMAPE on the original data\n",
    "smape(Y_input_raw,X_input_ori), smape(Y_input_ori,X_input_ori)"
   ]
  },
  {
   "cell_type": "code",
   "execution_count": null,
   "metadata": {},
   "outputs": [],
   "source": [
    "if test_length: print(smape(Y_output_raw, X_output_ori), smape(Y_output, X_output))"
   ]
  },
  {
   "cell_type": "code",
   "execution_count": null,
   "metadata": {},
   "outputs": [],
   "source": [
    "print(smape(Y_input_raw, Y_input_fib))\n",
    "if test_length: print(smape(Y_output_raw, Y_output_fib))"
   ]
  },
  {
   "cell_type": "markdown",
   "metadata": {},
   "source": [
    "Doing better than the first two scores are better than simply copy and past the previous result."
   ]
  },
  {
   "cell_type": "markdown",
   "metadata": {},
   "source": [
    "### Neural Network Model\n",
    "With the flavor of convolutional neural network"
   ]
  },
  {
   "cell_type": "code",
   "execution_count": null,
   "metadata": {
    "collapsed": true
   },
   "outputs": [],
   "source": [
    "from keras.models import Model\n",
    "from keras.layers import Input\n",
    "from keras.layers import Conv1D\n",
    "from keras.layers import Flatten\n",
    "from keras.layers import Reshape\n",
    "from keras.layers import MaxPooling1D\n",
    "from keras.layers import AveragePooling1D\n",
    "from keras.layers import concatenate"
   ]
  },
  {
   "cell_type": "code",
   "execution_count": null,
   "metadata": {
    "collapsed": true
   },
   "outputs": [],
   "source": [
    "n_ens = 5\n",
    "ens_list = list(range(n_ens))"
   ]
  },
  {
   "cell_type": "code",
   "execution_count": null,
   "metadata": {
    "scrolled": true
   },
   "outputs": [],
   "source": [
    "#runbelow\n",
    "models_ens = []\n",
    "for run in ens_list:\n",
    "    print('Run', run, end=': ')\n",
    "    models = []\n",
    "    for gp in gp_list:\n",
    "        print('Group-', gp, sep='', end=' ')\n",
    "        layer_0 = Input(shape=(x_length,), name='x_input')\n",
    "        layer_t = Reshape((-1, 1))(layer_0)\n",
    "        layer_t = Conv1D(120, kernel_size=3, activation='relu')(layer_t)\n",
    "        layer_t = AveragePooling1D(pool_size=2)(layer_t)\n",
    "        layer_cnn_x = Flatten()(layer_t)\n",
    "        \n",
    "        layer_a = Input(shape=(a_length,), name='a_input')\n",
    "        \n",
    "        layer_z = Input(shape=(y_length,), name='z_input')\n",
    "        layer_t = Reshape((-1, 1))(layer_0)\n",
    "        layer_t = Conv1D(20, kernel_size=3, activation='relu')(layer_t)\n",
    "        layer_t = AveragePooling1D(pool_size=2)(layer_t)\n",
    "        layer_cnn_z = Flatten()(layer_t)\n",
    "                \n",
    "        layer_t = concatenate([layer_cnn_x, layer_a, layer_cnn_z])\n",
    "        \n",
    "        layer_t = Dense(120, activation='relu')(layer_t)\n",
    "        layer_t = Dropout(0.25)(layer_t)\n",
    "        layer_t = Dense(120, activation='relu')(layer_t)\n",
    "        layer_t = Dropout(0.5)(layer_t)\n",
    "        layer_f = Dense(y_length)(layer_t)\n",
    "        \n",
    "        model = Model(inputs=[layer_0, layer_a, layer_z], outputs=layer_f)\n",
    "        model.compile(optimizer='adam',\n",
    "                      loss='mean_absolute_error', metrics=[k_smape])\n",
    "        #model.summary()\n",
    "        models.append(model)\n",
    "    models_ens.append(models)\n",
    "    print('')"
   ]
  },
  {
   "cell_type": "code",
   "execution_count": null,
   "metadata": {},
   "outputs": [],
   "source": [
    "models_ens[0][1].summary()"
   ]
  },
  {
   "cell_type": "code",
   "execution_count": null,
   "metadata": {},
   "outputs": [],
   "source": [
    "np.array(models_ens).shape"
   ]
  },
  {
   "cell_type": "code",
   "execution_count": null,
   "metadata": {},
   "outputs": [],
   "source": [
    "len(gp_list)"
   ]
  },
  {
   "cell_type": "code",
   "execution_count": null,
   "metadata": {
    "collapsed": true
   },
   "outputs": [],
   "source": [
    "epochs_list = [1,1,40,40,60,80]  # change to smaller epochs later (1,1,20,40,60,80)"
   ]
  },
  {
   "cell_type": "code",
   "execution_count": null,
   "metadata": {
    "scrolled": true
   },
   "outputs": [],
   "source": [
    "%%time\n",
    "hists_ens = []\n",
    "for run, models in zip(ens_list, models_ens):\n",
    "    print('=== Run:', run+1, '/', len(ens_list), '===')\n",
    "    hists = []\n",
    "    for (gp, model, X_in, Y_in, epochs, A_in, Z_in) in zip(gp_list, models,\n",
    "                                       X_input_list, Y_input_list, \n",
    "                                       epochs_list, A_input_list, Z_input_list):\n",
    "        print('--- Group:', gp+1, '/', len(gp_list), '---')\n",
    "        hist = model.fit([X_in, A_in, Z_in], Y_in, batch_size=128, \n",
    "                         epochs=epochs, \n",
    "                         validation_split=0.1, verbose=2)\n",
    "        #validation_data=(X_val, Y_val))\n",
    "        hists.append(hist)\n",
    "    hists_ens.append(hists)"
   ]
  },
  {
   "cell_type": "markdown",
   "metadata": {},
   "source": [
    "### Training History"
   ]
  },
  {
   "cell_type": "code",
   "execution_count": null,
   "metadata": {
    "scrolled": true
   },
   "outputs": [],
   "source": [
    "for gp, ep in zip(gp_list, epochs_list):\n",
    "    if ep:\n",
    "        for run in ens_list:\n",
    "            hist = hists_ens[run][gp]\n",
    "            plt.plot(hist.history['loss'], label=str(run))\n",
    "        plt.title('Mean Squared Error (Train) - Group ' + str(gp))\n",
    "        plt.legend(); plt.show()        "
   ]
  },
  {
   "cell_type": "code",
   "execution_count": null,
   "metadata": {
    "scrolled": true
   },
   "outputs": [],
   "source": [
    "for gp, ep in zip(gp_list, epochs_list):\n",
    "    if ep:\n",
    "        for run in ens_list:\n",
    "            hist = hists_ens[run][gp]\n",
    "            plt.plot(hist.history['val_loss'], label=str(run))\n",
    "        plt.title('Mean Squared Error (Validation) - Group ' + str(gp))\n",
    "        plt.legend(); plt.show()        "
   ]
  },
  {
   "cell_type": "code",
   "execution_count": null,
   "metadata": {
    "scrolled": true
   },
   "outputs": [],
   "source": [
    "for gp, ep in zip(gp_list, epochs_list):\n",
    "    if ep:\n",
    "        for run in ens_list:\n",
    "            hist = hists_ens[run][gp]\n",
    "            plt.plot(hist.history['k_smape'], label=str(run))\n",
    "        plt.title('SMAPE (Train) - Group ' + str(gp))\n",
    "        plt.legend(); plt.show()        "
   ]
  },
  {
   "cell_type": "code",
   "execution_count": null,
   "metadata": {
    "scrolled": true
   },
   "outputs": [],
   "source": [
    "for gp, ep in zip(gp_list, epochs_list):\n",
    "    if ep:\n",
    "        for run in ens_list:\n",
    "            hist = hists_ens[run][gp]\n",
    "            plt.plot(hist.history['val_k_smape'], label=str(run))\n",
    "        plt.title('SMAPE (Validation) - Group ' + str(gp))\n",
    "        plt.legend(); plt.show()        "
   ]
  },
  {
   "cell_type": "code",
   "execution_count": null,
   "metadata": {
    "scrolled": true
   },
   "outputs": [],
   "source": [
    "for (hist, gp, ep) in zip(hists, gp_list, epochs_list):\n",
    "    if ep:\n",
    "        plt.plot(hist.history['loss'], label='train')\n",
    "        plt.plot(hist.history['val_loss'], label='validation')\n",
    "        plt.title('Mean Squared Error - ' + str(gp))\n",
    "        plt.legend(); plt.show()"
   ]
  },
  {
   "cell_type": "code",
   "execution_count": null,
   "metadata": {
    "scrolled": true
   },
   "outputs": [],
   "source": [
    "for (hist, gp, ep) in zip(hists, gp_list, epochs_list):\n",
    "    if ep:\n",
    "        plt.plot(hist.history['k_smape'], label='train')\n",
    "        plt.plot(hist.history['val_k_smape'], label='validation')\n",
    "        plt.title('SMAPE - ' + str(gp))\n",
    "        plt.legend(); plt.show()"
   ]
  },
  {
   "cell_type": "code",
   "execution_count": null,
   "metadata": {},
   "outputs": [],
   "source": [
    "for (hist, gp, ep) in zip(hists, gp_list, epochs_list):\n",
    "    if ep: plt.plot(hist.history['loss'], label=gp)\n",
    "plt.title('Mean Squared Error - train')\n",
    "plt.legend(); plt.show()"
   ]
  },
  {
   "cell_type": "code",
   "execution_count": null,
   "metadata": {},
   "outputs": [],
   "source": [
    "for (hist, gp, ep) in zip(hists, gp_list, epochs_list):\n",
    "    if ep: plt.plot(hist.history['val_loss'], label=gp)\n",
    "plt.title('Mean Squared Error - validation')\n",
    "plt.legend(); plt.show()"
   ]
  },
  {
   "cell_type": "code",
   "execution_count": null,
   "metadata": {},
   "outputs": [],
   "source": [
    "for (hist, gp, ep) in zip(hists, gp_list, epochs_list):\n",
    "    if ep: plt.plot(hist.history['k_smape'], label=gp)\n",
    "plt.title('SMAPE - train')\n",
    "plt.legend(); plt.show()"
   ]
  },
  {
   "cell_type": "code",
   "execution_count": null,
   "metadata": {},
   "outputs": [],
   "source": [
    "for (hist, gp, ep) in zip(hists, gp_list, epochs_list):\n",
    "    if ep: plt.plot(hist.history['val_k_smape'], label=gp)\n",
    "plt.title('SMAPE - validation')\n",
    "plt.legend(); plt.show()"
   ]
  },
  {
   "cell_type": "markdown",
   "metadata": {},
   "source": [
    "### More Training"
   ]
  },
  {
   "cell_type": "markdown",
   "metadata": {},
   "source": [
    "epochs_list2 = [0,10,0,0,10]"
   ]
  },
  {
   "cell_type": "markdown",
   "metadata": {},
   "source": [
    "hists2 = []\n",
    "for (gp, model, X_in, Y_in, epochs) in zip(gp_list, models,\n",
    "                                   X_input_list, Y_input_list, \n",
    "                                   epochs_list2):\n",
    "    hist = model.fit(X_in, Y_in, batch_size=128, \n",
    "                     epochs=epochs, \n",
    "                     validation_split=0.05)\n",
    "    #validation_data=(X_val, Y_val))\n",
    "    hists2.append(hist)"
   ]
  },
  {
   "cell_type": "markdown",
   "metadata": {},
   "source": [
    "for (hist, gp, epochs) in zip(hists2, gp_list, epochs_list2):\n",
    "    if epochs:\n",
    "        plt.plot(hist.history['loss'], label='train')\n",
    "        plt.plot(hist.history['val_loss'], label='validation')\n",
    "        plt.title('Mean Squared Error - ' + str(gp))\n",
    "        plt.legend(); plt.show()"
   ]
  },
  {
   "cell_type": "markdown",
   "metadata": {
    "scrolled": false
   },
   "source": [
    "for (hist, gp, epochs) in zip(hists2, gp_list, epochs_list2):\n",
    "    if epochs:\n",
    "        plt.plot(hist.history['k_smape'], label='train')\n",
    "        plt.plot(hist.history['val_k_smape'], label='validation')\n",
    "        plt.title('SMAPE - ' + str(gp))\n",
    "        plt.legend(); plt.show()"
   ]
  },
  {
   "cell_type": "markdown",
   "metadata": {},
   "source": [
    "for (hist, gp, epochs) in zip(hists2, gp_list, epochs_list2):\n",
    "    if epochs:\n",
    "        plt.plot(hist.history['loss'], label=gp)\n",
    "plt.title('Mean Squared Error - train')\n",
    "plt.legend(); plt.show()"
   ]
  },
  {
   "cell_type": "markdown",
   "metadata": {},
   "source": [
    "for (hist, gp, epochs) in zip(hists2, gp_list, epochs_list2):\n",
    "    if epochs: plt.plot(hist.history['val_loss'], label=gp)\n",
    "plt.title('Mean Squared Error - validation')\n",
    "plt.legend(); plt.show()"
   ]
  },
  {
   "cell_type": "markdown",
   "metadata": {},
   "source": [
    "for (hist, gp, epochs) in zip(hists2, gp_list, epochs_list2):\n",
    "    if epochs: plt.plot(hist.history['k_smape'], label=gp)\n",
    "plt.title('SMAPE - train')\n",
    "plt.legend(); plt.show()"
   ]
  },
  {
   "cell_type": "markdown",
   "metadata": {},
   "source": [
    "for (hist, gp, epochs) in zip(hists2, gp_list, epochs_list2):\n",
    "    if epochs: plt.plot(hist.history['val_k_smape'], label=gp)\n",
    "plt.title('SMAPE - validation')\n",
    "plt.legend(); plt.show()"
   ]
  },
  {
   "cell_type": "markdown",
   "metadata": {},
   "source": [
    "## Predict for Output Set"
   ]
  },
  {
   "cell_type": "code",
   "execution_count": null,
   "metadata": {},
   "outputs": [],
   "source": [
    "%%time\n",
    "Y_output_pred_list_ens = []\n",
    "for models, run in zip(models_ens, ens_list):\n",
    "    print('Run', run, end=': ')\n",
    "    Y_output_pred_list = []\n",
    "    for (gp, model, X, A, Z) in zip(gp_list, models, X_output_list, A_output_list, Z_output_list):\n",
    "        print(gp, end=' ')\n",
    "        Y_output_pred_list.append(model.predict([X, A, Z]))\n",
    "    Y_output_pred_list_ens.append(Y_output_pred_list)\n",
    "    print('')"
   ]
  },
  {
   "cell_type": "markdown",
   "metadata": {},
   "source": [
    "Find the original index"
   ]
  },
  {
   "cell_type": "code",
   "execution_count": null,
   "metadata": {
    "collapsed": true
   },
   "outputs": [],
   "source": [
    "output_index_range = np.arange(len(output_gp)); #output_index_range"
   ]
  },
  {
   "cell_type": "code",
   "execution_count": null,
   "metadata": {
    "collapsed": true
   },
   "outputs": [],
   "source": [
    "# list for original index\n",
    "output_index_list = [output_index_range[output_gp == gp] \n",
    "                     for gp in gp_list]"
   ]
  },
  {
   "cell_type": "code",
   "execution_count": null,
   "metadata": {
    "scrolled": false
   },
   "outputs": [],
   "source": [
    "for o in output_index_list:\n",
    "    print(o.shape, end=' ')"
   ]
  },
  {
   "cell_type": "code",
   "execution_count": null,
   "metadata": {
    "collapsed": true
   },
   "outputs": [],
   "source": [
    "output_index_list_comb = np.concatenate(output_index_list); #output_index_list_comb"
   ]
  },
  {
   "cell_type": "code",
   "execution_count": null,
   "metadata": {
    "collapsed": true
   },
   "outputs": [],
   "source": [
    "Y_output_pred_ens = []\n",
    "for Y_output_pred_list in Y_output_pred_list_ens:\n",
    "    Y_output_pred_comb = np.concatenate(Y_output_pred_list)\n",
    "    Y_output_pred = [0]*len(output_index_list_comb)\n",
    "\n",
    "    for index, y in zip(output_index_list_comb, Y_output_pred_comb):\n",
    "        Y_output_pred[index] = y\n",
    "\n",
    "    Y_output_pred = np.array(Y_output_pred)  # make it an numpy array (which will also make a copy)\n",
    "    Y_output_pred_ens.append(Y_output_pred)\n",
    "\n",
    "del Y_output_pred_comb"
   ]
  },
  {
   "cell_type": "code",
   "execution_count": null,
   "metadata": {
    "collapsed": true
   },
   "outputs": [],
   "source": [
    "# Inverse transform Y_output_pred to original Y\n",
    "Y_output_pred_ori_ens = []\n",
    "for Y_output_pred in Y_output_pred_ens:\n",
    "    Y_output_pred_ori = unlog(untransform(Y_output_pred, \n",
    "                                          Y_output_center, output_scale))\n",
    "    Y_output_pred_ori_ens.append(Y_output_pred_ori)"
   ]
  },
  {
   "cell_type": "markdown",
   "metadata": {},
   "source": [
    "#### Check predict output"
   ]
  },
  {
   "cell_type": "markdown",
   "metadata": {},
   "source": [
    "Y_output_pred"
   ]
  },
  {
   "cell_type": "markdown",
   "metadata": {},
   "source": [
    "Y_output_pred_ori"
   ]
  },
  {
   "cell_type": "markdown",
   "metadata": {
    "scrolled": true
   },
   "source": [
    "examine(Y_output_pred)"
   ]
  },
  {
   "cell_type": "markdown",
   "metadata": {
    "scrolled": true
   },
   "source": [
    "examine(Y_output_pred_ori)"
   ]
  },
  {
   "cell_type": "markdown",
   "metadata": {},
   "source": [
    "view(X_output_ori[126420])"
   ]
  },
  {
   "cell_type": "markdown",
   "metadata": {},
   "source": [
    "## SMAPE Scores"
   ]
  },
  {
   "cell_type": "markdown",
   "metadata": {},
   "source": [
    "### Model Score"
   ]
  },
  {
   "cell_type": "code",
   "execution_count": null,
   "metadata": {},
   "outputs": [],
   "source": [
    "# SMAPE scores for the model\n",
    "if test_length:\n",
    "    model_smape_ens = []\n",
    "    model_smape_0_ens = []\n",
    "    for Y_output_pred_ori in Y_output_pred_ori_ens:\n",
    "        model_smape = smape(Y_output_raw, Y_output_pred_ori) # SMAPE score excluding nan (Correct one)\n",
    "        model_smape_0 = smape(Y_output_ori, Y_output_pred_ori) # SMAPE assuming nan == 0\n",
    "        print(model_smape, model_smape_0)\n",
    "        \n",
    "        model_smape_ens.append(model_smape)\n",
    "        model_smape_0_ens.append(model_smape_0)\n",
    "    model_smape_ens_mean = np.mean(model_smape_ens)\n",
    "    model_smape_0_ens_mean = np.mean(model_smape_0_ens)\n",
    "    print('-----------')\n",
    "    print(model_smape_ens_mean, model_smape_0_ens_mean)"
   ]
  },
  {
   "cell_type": "code",
   "execution_count": null,
   "metadata": {},
   "outputs": [],
   "source": [
    "# SMAPE score for Fibonacci median\n",
    "if test_length:\n",
    "    fib_smape = smape(Y_output_raw, Y_output_fib)\n",
    "    print(fib_smape)"
   ]
  },
  {
   "cell_type": "markdown",
   "metadata": {},
   "source": [
    "### Group Scores"
   ]
  },
  {
   "cell_type": "code",
   "execution_count": null,
   "metadata": {
    "collapsed": true
   },
   "outputs": [],
   "source": [
    "# Prediction Y_output in group\n",
    "Y_output_pred_ori_list_ens = [[Y_output_pred_ori[output_gp == gp] for gp in gp_list]\n",
    "                              for Y_output_pred_ori in Y_output_pred_ori_ens]\n",
    "#Y_output_pred_ori_list = [Y_output_pred_ori[output_gp == gp] for gp in gp_list]\n",
    "Y_output_pred_ori_list = Y_output_pred_ori_list_ens[-1]  # in case you want to see one of them"
   ]
  },
  {
   "cell_type": "code",
   "execution_count": null,
   "metadata": {
    "collapsed": true
   },
   "outputs": [],
   "source": [
    "# Fibonacci median in group\n",
    "Y_output_fib_list = [Y_output_fib[output_gp == gp] for gp in gp_list]"
   ]
  },
  {
   "cell_type": "code",
   "execution_count": null,
   "metadata": {
    "collapsed": true
   },
   "outputs": [],
   "source": [
    "# True Y_output in group\n",
    "if test_length:\n",
    "    # untransformed Y_output with nan replaced by 0\n",
    "    Y_output_ori_list = [Y_output_ori[output_gp == gp] for gp in gp_list]\n",
    "    \n",
    "    # untransformed Y_output_ori with nan (for SMAPE estimation)\n",
    "    Y_output_raw_list = [Y_output_raw[output_gp == gp] for gp in gp_list]"
   ]
  },
  {
   "cell_type": "code",
   "execution_count": null,
   "metadata": {},
   "outputs": [],
   "source": [
    "tot_n = len(output_gp); tot_n  # total number of pages in output set"
   ]
  },
  {
   "cell_type": "code",
   "execution_count": null,
   "metadata": {
    "collapsed": true
   },
   "outputs": [],
   "source": [
    "def count_not_nan(data):\n",
    "    return np.count_nonzero(~np.isnan(data))"
   ]
  },
  {
   "cell_type": "markdown",
   "metadata": {
    "collapsed": true
   },
   "source": [
    "if test_length: print(count_not_nan(Y_output_raw))"
   ]
  },
  {
   "cell_type": "code",
   "execution_count": null,
   "metadata": {
    "collapsed": true
   },
   "outputs": [],
   "source": [
    "# Group scores for the model\n",
    "if test_length:\n",
    "    gp_n = [len(Y) for Y in Y_output_raw_list]\n",
    "    # SMAPE assuming nan == 0\n",
    "    #gp_smape_0 = [smape(Y, Y_p) for Y, Y_p \n",
    "    #              in zip(Y_output_ori_list, Y_output_pred_ori_list)]\n",
    "    \n",
    "    # SMAPE with nan values ignored (used by Kaggle)\n",
    "    gp_smape_ens = [[smape(Y, Y_p) for Y, Y_p in zip(Y_output_raw_list, Y_output_pred_ori_list)]\n",
    "                    for Y_output_pred_ori_list in Y_output_pred_ori_list_ens]\n",
    "    gp_smape = gp_smape_ens[-1]\n",
    "    #gp_smape = [smape(Y, Y_p) for Y, Y_p \n",
    "    #            in zip(Y_output_raw_list, Y_output_pred_ori_list)]\n",
    "    \n",
    "    #n_not_nan = count_not_nan(Y_output_raw)\n",
    "    #n_not_nan_gp = [count_not_nan(Y) for Y in Y_output_raw_list]\n",
    "    #n_not_nan_ratio_gp = [n / (len(Y) * len(Y[0])) for Y,n \n",
    "    #                      in zip(Y_output_raw_list, n_not_nan_gp)]\n",
    "    \n",
    "    # SMAPE contribution\n",
    "    #gp_smape_sum = [s * n for n, s in zip(gp_smape, n_not_nan_gp)]\n",
    "    #gp_smape_cont = [s / n_not_nan for s in gp_smape_sum]"
   ]
  },
  {
   "cell_type": "code",
   "execution_count": null,
   "metadata": {},
   "outputs": [],
   "source": [
    "gp_smape_mean = np.mean(gp_smape_ens, axis=0); gp_smape_mean"
   ]
  },
  {
   "cell_type": "code",
   "execution_count": null,
   "metadata": {
    "collapsed": true
   },
   "outputs": [],
   "source": [
    "# Group score for Fibonacci median\n",
    "if test_length:\n",
    "    gp_smape_fib = [smape(Y, Y_p) for Y, Y_p in zip(Y_output_raw_list, Y_output_fib_list)]"
   ]
  },
  {
   "cell_type": "code",
   "execution_count": null,
   "metadata": {},
   "outputs": [],
   "source": [
    "if test_length:  # gp_score compare\n",
    "    print('#### ' + model_name)\n",
    "    print('', end='|')\n",
    "    print('N_pages ', 'Fibonacci', ' Average ', sep='|', end='|')\n",
    "    for run in ens_list: print(' Model', run, end=' |')\n",
    "    print('')\n",
    "    print('', end='|')\n",
    "    print('--------', '---------', '---------', sep='|', end='|')\n",
    "    for run in ens_list: print('---------', end='|')\n",
    "    print('')\n",
    "    for gp in gp_list:\n",
    "        print('', end='|')\n",
    "        print(' %6d ' % gp_n[gp], end='|')\n",
    "        print(' %7.3f ' % gp_smape_fib[gp], end='|')\n",
    "        print(' %7.3f ' % gp_smape_mean[gp], end='|')\n",
    "        for run in ens_list:\n",
    "            print(' %7.3f ' % gp_smape_ens[run][gp], end='|')\n",
    "        print('')\n",
    "    print('|  Total ', ' %7.3f ' % fib_smape, ' %7.3f ' % model_smape_ens_mean, sep='|', end='|')\n",
    "    for run in ens_list:\n",
    "            print(' %7.3f ' % model_smape_ens[run], end='|')"
   ]
  },
  {
   "cell_type": "markdown",
   "metadata": {},
   "source": [
    "#### model_10_Modified_CNN_1_Z\n",
    "|N_pages |Fibonacci| Average | Model 0 | Model 1 | Model 2 | Model 3 | Model 4 |\n",
    "|--------|---------|---------|---------|---------|---------|---------|---------|\n",
    "|   1879 |  57.385 | 158.876 | 166.920 | 167.117 | 154.478 | 165.189 | 140.678 |\n",
    "|  23085 |  61.354 |  64.057 |  63.166 |  63.533 |  63.921 |  64.384 |  65.282 |\n",
    "|  43691 |  40.612 |  40.025 |  40.088 |  39.890 |  40.224 |  40.132 |  39.794 |\n",
    "|  75617 |  34.284 |  29.755 |  29.759 |  29.741 |  29.658 |  29.865 |  29.752 |\n",
    "|    740 |  35.621 |  33.983 |  33.411 |  33.945 |  34.447 |  34.013 |  34.100 |\n",
    "|     51 |  20.224 |  17.259 |  17.687 |  17.204 |  17.227 |  17.300 |  16.878 |\n",
    "|  Total |  40.404 |  38.937 |  38.881 |  38.869 |  38.897 |  39.122 |  38.914 |\n",
    "#### model_10_Modified_CNN_0_median_stdev_2_3_groups\n",
    "|N_pages |Fibonacci| Average | Model 0 | Model 1 | Model 2 | Model 3 | Model 4 |\n",
    "|--------|---------|---------|---------|---------|---------|---------|---------|\n",
    "|  24964 |  61.170 |  68.900 |  69.367 |  69.103 |  69.194 |  69.001 |  67.833 |\n",
    "|  43691 |  40.612 |  40.247 |  39.939 |  40.098 |  40.056 |  40.701 |  40.443 |\n",
    "|  76408 |  34.288 |  29.910 |  29.979 |  30.039 |  29.790 |  29.676 |  30.068 |\n",
    "|  Total |  40.404 |  39.140 |  39.154 |  39.194 |  39.062 |  39.169 |  39.119 |\n",
    "#### model_10_Modified_CNN_0_median_stdev\n",
    "|N_pages |Fibonacci| Model 0 | Model 1 | Model 2 | Model 3 | Model 4 |\n",
    "|--------|---------|---------|---------|---------|---------|---------|\n",
    "|   1879 |  57.385 | 161.576 | 156.487 | 166.024 | 139.355 | 159.019 |\n",
    "|  23085 |  61.354 |  64.389 |  64.273 |  64.008 |  63.988 |  64.148 |\n",
    "|  43691 |  40.612 |  39.684 |  39.842 |  39.969 |  39.808 |  40.173 |\n",
    "|  75617 |  34.284 |  29.538 |  29.575 |  29.454 |  29.907 |  29.573 |\n",
    "|    740 |  35.621 |  33.564 |  33.710 |  33.397 |  33.666 |  33.965 |\n",
    "|     51 |  20.224 |  16.406 |  16.451 |  17.309 |  16.628 |  16.331 |\n",
    "#### model_9_CNN_with_Fibonacci_4_Ensemble_3_filter_3\n",
    "|N_pages |Fibonacci| Model 0 | Model 1 | Model 2 | Model 3 | Model 4 |\n",
    "|--------|---------|---------|---------|---------|---------|---------|\n",
    "|   1879 |  57.385 | 161.230 | 166.806 | 139.008 | 152.935 | 170.833 |\n",
    "|  23085 |  61.354 |  64.048 |  63.281 |  63.966 |  63.664 |  63.569 |\n",
    "|  43691 |  40.612 |  40.004 |  39.860 |  40.201 |  39.817 |  40.143 |\n",
    "|  75617 |  34.284 |  30.201 |  29.582 |  29.611 |  29.744 |  29.618 |\n",
    "|    740 |  35.621 |  33.801 |  34.143 |  34.101 |  34.290 |  34.145 |\n",
    "|     51 |  20.224 |  16.933 |  17.094 |  16.930 |  17.424 |  16.985 |\n",
    "\n",
    "#### model_9_CNN_with_Fibonacci_4_Ensemble\n",
    "|N_pages |Fibonacci| Model 0 |\n",
    "|--------|---------|---------|\n",
    "|   1879 |  57.385 | 146.145 |\n",
    "|  23085 |  61.354 |  64.128 |\n",
    "|  43691 |  40.612 |  40.052 |\n",
    "|  75617 |  34.284 |  29.862 |\n",
    "|    740 |  35.621 |  34.607 |\n",
    "|     51 |  20.224 |  16.023 |"
   ]
  },
  {
   "cell_type": "markdown",
   "metadata": {},
   "source": [
    "if test_length:\n",
    "    print('[Group SMAPE]')\n",
    "    print('W/ Nan, Nan=0, Contribution, Pages, Non-nan Ratio')\n",
    "    for score, score_0, c, n, nr in zip(gp_smape, gp_smape_0,\n",
    "                                    gp_smape_cont, gp_n, \n",
    "                                    n_not_nan_ratio_gp):\n",
    "        print('%6.2f' % score, '%6.2f' % score_0, '       %6.2f' % c, '%6d' % n,\n",
    "              '        %6.3f' % nr)\n",
    "    print('-------------------------------------------------')\n",
    "    print('%6.2f' % model_smape, '%6.2f' % model_smape_0)"
   ]
  },
  {
   "cell_type": "markdown",
   "metadata": {},
   "source": [
    "n_not_nan_gp"
   ]
  },
  {
   "cell_type": "markdown",
   "metadata": {},
   "source": [
    "### Page Scores"
   ]
  },
  {
   "cell_type": "code",
   "execution_count": null,
   "metadata": {
    "scrolled": true
   },
   "outputs": [],
   "source": [
    "if test_length:  # Page scores for the model\n",
    "    smape_Y_pred_ens = []\n",
    "    for Y_output_pred_ori in Y_output_pred_ori_ens:\n",
    "        smape_Y_pred = np.nan_to_num(np.array([smape(yp, y) for yp, y \n",
    "                                               in zip(Y_output_pred_ori, Y_output_raw)]))\n",
    "        smape_Y_pred_ens.append(smape_Y_pred)"
   ]
  },
  {
   "cell_type": "code",
   "execution_count": null,
   "metadata": {
    "scrolled": true
   },
   "outputs": [],
   "source": [
    "if test_length:  # Page score for Fib.\n",
    "    smape_Y_fib = np.nan_to_num(np.array([smape(yp, y) for yp, y \n",
    "                                          in zip(Y_output_fib, Y_output_raw)]))"
   ]
  },
  {
   "cell_type": "markdown",
   "metadata": {},
   "source": [
    "if test_length:\n",
    "    for smape_Y_pred in smape_Y_pred_ens:\n",
    "        plt.hist(smape_Y_pred, bins=40, alpha=0.4)\n",
    "        #plt.yscale('log')\n",
    "    plt.title('Ensemble Page SMAPE'); plt.show()"
   ]
  },
  {
   "cell_type": "code",
   "execution_count": null,
   "metadata": {},
   "outputs": [],
   "source": [
    "if test_length:\n",
    "    plt.hist(smape_Y_fib, bins=40, alpha=0.6, label='Fib.')\n",
    "    plt.hist(smape_Y_pred, bins=40, alpha=0.6, label='Model')\n",
    "    #plt.yscale('log')\n",
    "    plt.legend(); plt.show()"
   ]
  },
  {
   "cell_type": "markdown",
   "metadata": {},
   "source": [
    "### Page Scores in Each Group"
   ]
  },
  {
   "cell_type": "code",
   "execution_count": null,
   "metadata": {
    "collapsed": true
   },
   "outputs": [],
   "source": [
    "if test_length:  # The model\n",
    "    smape_Y_pred_list_ens = []\n",
    "    for smape_Y_pred in smape_Y_pred_ens:\n",
    "        smape_Y_pred_list = [smape_Y_pred[output_gp == gp] for gp in gp_list]\n",
    "        smape_Y_pred_list_ens.append(smape_Y_pred_list)"
   ]
  },
  {
   "cell_type": "code",
   "execution_count": null,
   "metadata": {
    "collapsed": true
   },
   "outputs": [],
   "source": [
    "if test_length:  # Fib.\n",
    "    smape_Y_fib_list = [smape_Y_fib[output_gp == gp] for gp in gp_list]"
   ]
  },
  {
   "cell_type": "markdown",
   "metadata": {},
   "source": [
    "#### Plots"
   ]
  },
  {
   "cell_type": "code",
   "execution_count": null,
   "metadata": {},
   "outputs": [],
   "source": [
    "if test_length:\n",
    "    for gp,s in zip(gp_list,smape_Y_pred_list):\n",
    "        plt.hist(s, bins=40, normed=True, alpha=0.6, label='gp = ' + str(gp))\n",
    "    #plt.yscale('log')\n",
    "    plt.legend(); plt.show()"
   ]
  },
  {
   "cell_type": "code",
   "execution_count": null,
   "metadata": {},
   "outputs": [],
   "source": [
    "if test_length:\n",
    "    for gp,s in zip(gp_list,smape_Y_pred_list):\n",
    "        plt.hist(s, bins=40, alpha=0.6, label='gp = ' + str(gp))\n",
    "    #plt.yscale('log')\n",
    "    plt.legend(); plt.show()"
   ]
  },
  {
   "cell_type": "code",
   "execution_count": null,
   "metadata": {
    "scrolled": false
   },
   "outputs": [],
   "source": [
    "if test_length:\n",
    "    for gp in gp_list:\n",
    "        plt.hist(smape_Y_fib_list[gp], bins=40, alpha=0.6, label='Fib.')\n",
    "        plt.hist(smape_Y_pred_list[gp], bins=40, alpha=0.6, label='Model')\n",
    "        plt.title('gp = '+str(gp)); plt.legend()\n",
    "        plt.show()\n",
    "    #plt.yscale('log')\n",
    "    #plt.ylim([0,0.05])"
   ]
  },
  {
   "cell_type": "markdown",
   "metadata": {},
   "source": [
    "## Prediction Pre Combine\n",
    "Combine group 0, 1 from Fib and rest from the model"
   ]
  },
  {
   "cell_type": "markdown",
   "metadata": {},
   "source": [
    "Y_output_fib.shape"
   ]
  },
  {
   "cell_type": "code",
   "execution_count": null,
   "metadata": {},
   "outputs": [],
   "source": [
    "Y_output_fib_ori = np.repeat(Y_output_fib, y_length, axis=1); Y_output_fib_ori.shape"
   ]
  },
  {
   "cell_type": "code",
   "execution_count": null,
   "metadata": {},
   "outputs": [],
   "source": [
    "# Select group 0 from Fib.\n",
    "#fib_mask = (output_gp == 0).reshape(-1,1); fib_mask.shape\n",
    "fib_mask = ((output_gp == 0)|(output_gp == 1)).reshape(-1,1); fib_mask.shape"
   ]
  },
  {
   "cell_type": "code",
   "execution_count": null,
   "metadata": {
    "collapsed": true
   },
   "outputs": [],
   "source": [
    "# The combined result\n",
    "Y_output_fmc_ori_ens = []\n",
    "for Y_output_pred_ori in Y_output_pred_ori_ens:\n",
    "    \n",
    "    Y_output_fmc_ori = fib_mask * Y_output_fib_ori + (~fib_mask) * Y_output_pred_ori\n",
    "    \n",
    "    Y_output_fmc_ori_ens.append(Y_output_fmc_ori)"
   ]
  },
  {
   "cell_type": "markdown",
   "metadata": {},
   "source": [
    "Y_output_fmc_ori"
   ]
  },
  {
   "cell_type": "markdown",
   "metadata": {},
   "source": [
    "#### Pre Combined Score"
   ]
  },
  {
   "cell_type": "code",
   "execution_count": null,
   "metadata": {
    "collapsed": true
   },
   "outputs": [],
   "source": [
    "if test_length: \n",
    "    fmc_smape_ens = []\n",
    "    for Y_output_fmc_ori in Y_output_fmc_ori_ens:\n",
    "        fmc_smape = smape(Y_output_fmc_ori, Y_output_raw)\n",
    "        fmc_smape_ens.append(fmc_smape)        \n",
    "    fmc_smape_ens_mean = np.mean(fmc_smape_ens)"
   ]
  },
  {
   "cell_type": "code",
   "execution_count": null,
   "metadata": {},
   "outputs": [],
   "source": [
    "if test_length: \n",
    "    for run, fmc_smape, model_smape in zip(ens_list, fmc_smape_ens, model_smape_ens):\n",
    "        print('%6.3f' % fmc_smape, '(%6.3f)' % model_smape, '-', model_name, run)\n",
    "    print('%6.3f' % fmc_smape_ens_mean, '(%6.3f)' % model_smape_ens_mean, '-', model_name, 'Average')"
   ]
  },
  {
   "cell_type": "markdown",
   "metadata": {},
   "source": [
    "## Ensemble Learning"
   ]
  },
  {
   "cell_type": "markdown",
   "metadata": {},
   "source": [
    "### Ensemble Median"
   ]
  },
  {
   "cell_type": "code",
   "execution_count": null,
   "metadata": {},
   "outputs": [],
   "source": [
    "Y_output_pred_ori_ens_med = np.median(Y_output_pred_ori_ens, axis=0)\n",
    "Y_output_pred_ori_ens_med.shape"
   ]
  },
  {
   "cell_type": "markdown",
   "metadata": {},
   "source": [
    "Y_output_pred_ori_ens_med"
   ]
  },
  {
   "cell_type": "code",
   "execution_count": null,
   "metadata": {},
   "outputs": [],
   "source": [
    "ens_med_smape = smape(Y_output_pred_ori_ens_med, Y_output_raw); ens_med_smape"
   ]
  },
  {
   "cell_type": "markdown",
   "metadata": {},
   "source": [
    "Best ways seem to be taking median either before or after transformation."
   ]
  },
  {
   "cell_type": "markdown",
   "metadata": {},
   "source": [
    "### Ensemble Combine with Fibonacci Median"
   ]
  },
  {
   "cell_type": "markdown",
   "metadata": {},
   "source": [
    "#Select group 0, 1\n",
    "fib_mask = ((output_gp == 0)|(output_gp == 1)).reshape(-1,1); fib_mask.shape"
   ]
  },
  {
   "cell_type": "markdown",
   "metadata": {},
   "source": [
    "Y_output_pred_ori_ens_med"
   ]
  },
  {
   "cell_type": "code",
   "execution_count": null,
   "metadata": {
    "collapsed": true
   },
   "outputs": [],
   "source": [
    "#Y_output_f_omean = fib_mask * Y_output_fib_ori + (~fib_mask) * Y_output_pred_ori_ens_mean\n",
    "Y_output_f_omed  = fib_mask * Y_output_fib_ori + (~fib_mask) * Y_output_pred_ori_ens_med  # Our final output\n",
    "#Y_output_f_meano = fib_mask * Y_output_fib_ori + (~fib_mask) * Y_output_pred_ens_mean_ori\n",
    "#Y_output_f_medo  = fib_mask * Y_output_fib_ori + (~fib_mask) * Y_output_pred_ens_med_ori"
   ]
  },
  {
   "cell_type": "markdown",
   "metadata": {},
   "source": [
    "## All Model Scores"
   ]
  },
  {
   "cell_type": "code",
   "execution_count": null,
   "metadata": {
    "collapsed": true,
    "scrolled": true
   },
   "outputs": [],
   "source": [
    "if test_length:  # Ensemble learning model score\n",
    "    #f_omean_smape = smape(Y_output_raw, Y_output_f_omean)\n",
    "    f_omed_smape = smape(Y_output_raw, Y_output_f_omed)\n",
    "    #f_meano_smape = smape(Y_output_raw, Y_output_f_meano)\n",
    "    #f_medo_smape = smape(Y_output_raw, Y_output_f_medo)"
   ]
  },
  {
   "cell_type": "code",
   "execution_count": null,
   "metadata": {
    "scrolled": true
   },
   "outputs": [],
   "source": [
    "if test_length: # The_score with (without) combining Fibonacci median model\n",
    "    #print('%6.3f         ' % f_omean_smape, '-', model_name, 'ori_ens_mean')\n",
    "    print('%6.3f' % f_omed_smape, '(%6.3f)' % ens_med_smape,'-', model_name, 'ori_ensemble_median')\n",
    "    #print('%6.3f         ' % f_meano_smape, '-', model_name, 'ens_mean_ori')\n",
    "    #print('%6.3f         ' % f_medo_smape, '-', model_name, 'ens_med_ori')\n",
    "    print('%6.3f' % fmc_smape_ens_mean, '(%6.3f)' % model_smape_ens_mean, '-', model_name, 'Average')\n",
    "    for run, fmc_smape, model_smape in zip(ens_list, fmc_smape_ens, model_smape_ens):\n",
    "        print('%6.3f' % fmc_smape, '(%6.3f)' % model_smape, '-', model_name, run)"
   ]
  },
  {
   "cell_type": "markdown",
   "metadata": {},
   "source": [
    "37.436          - model_10_Modified_CNN_0_median_stdev ori_ens_mean\n",
    "37.382          - model_10_Modified_CNN_0_median_stdev ori_ens_med\n",
    "37.394          - model_10_Modified_CNN_0_median_stdev ens_mean_ori\n",
    "37.382          - model_10_Modified_CNN_0_median_stdev ens_med_ori\n",
    "37.687 (38.816) - model_10_Modified_CNN_0_median_stdev Average"
   ]
  },
  {
   "cell_type": "markdown",
   "metadata": {},
   "source": [
    "Ensemble of model are all better than the individual model."
   ]
  },
  {
   "cell_type": "markdown",
   "metadata": {},
   "source": [
    "fmc_smape_ens"
   ]
  },
  {
   "cell_type": "markdown",
   "metadata": {},
   "source": [
    "fmc_smape_ens_mean"
   ]
  },
  {
   "cell_type": "markdown",
   "metadata": {},
   "source": [
    " Y_output_ori_list = [Y_output_ori[output_gp == gp] for gp in gp_list]"
   ]
  },
  {
   "cell_type": "markdown",
   "metadata": {
    "collapsed": true
   },
   "source": [
    "#### Combined Scores:\n",
    "37.473          - model_10_Modified_CNN_1_Z ori_ensemble_median\n",
    "\n",
    "37.535          - model_10_Modified_CNN_0_median_stdev_2_3_groups ori_ensemble_median\n",
    "\n",
    "37.382          - model_10_Modified_CNN_0_median_stdev ori_ens_med\n",
    "\n",
    "37.687 (38.816) - model_10_Modified_CNN_0_median_stdev Average\n",
    "\n",
    "38.734 (39.415) - Model 9.1.0 - model_9_CNN_with_Fibonacci_1_no_group 1\n",
    "\n",
    "38.227 (39.321) - Model 9.0.0 - model_9_CNN_with_Fibonacci_0_separate_Fib_median 1\n",
    "\n",
    "43.009 (44.180) - Model 7.8.0 - model_7_CNN_with_Fibonacci_8_mean_absolute_error 2\n",
    "\n",
    "44.070 (45.335) - Model 7.6.3 - model_7_CNN_with_Fibonacci_6_Wider_3_conv_120_Averagepool 1\n",
    "\n",
    "44.473 (45.652) - Model 7.6.1 - model_7_CNN_with_Fibonacci_6_Wider_1_conv_120_Maxpool 1\n",
    "\n",
    "44.433 - Model 7.5.0 - model_7_CNN_with_Fibonacci_5_Deeper_0_Initial\n",
    "\n",
    "44.168 - Model 7.2.0"
   ]
  },
  {
   "cell_type": "markdown",
   "metadata": {},
   "source": [
    "## All Group Scores"
   ]
  },
  {
   "cell_type": "code",
   "execution_count": null,
   "metadata": {
    "collapsed": true
   },
   "outputs": [],
   "source": [
    "# ensemble result Y_output in each group\n",
    "#Y_output_pred_ori_ens_mean_list = [Y_output_pred_ori_ens_mean[output_gp == gp] for gp in gp_list]\n",
    "Y_output_pred_ori_ens_med_list = [Y_output_pred_ori_ens_med[output_gp == gp] for gp in gp_list]\n",
    "#Y_output_pred_ens_mean_ori_list = [Y_output_pred_ens_mean_ori[output_gp == gp] for gp in gp_list]\n",
    "#Y_output_pred_ens_med_ori_list = [Y_output_pred_ens_med_ori[output_gp == gp] for gp in gp_list]"
   ]
  },
  {
   "cell_type": "code",
   "execution_count": null,
   "metadata": {
    "collapsed": true
   },
   "outputs": [],
   "source": [
    "# Group SMAPE scores\n",
    "if test_length:\n",
    "    # SMAPE with nan values ignored (used by Kaggle)\n",
    "    #gp_omean_smape = [smape(Y, Y_p) for Y, Y_p in zip(Y_output_raw_list, Y_output_pred_ori_ens_mean_list)]\n",
    "    gp_omed_smape = [smape(Y, Y_p) for Y, Y_p in zip(Y_output_raw_list, Y_output_pred_ori_ens_med_list)]\n",
    "    #gp_meano_smape = [smape(Y, Y_p) for Y, Y_p in zip(Y_output_raw_list, Y_output_pred_ens_mean_ori_list)]\n"
   ]
  },
  {
   "cell_type": "code",
   "execution_count": null,
   "metadata": {
    "scrolled": true
   },
   "outputs": [],
   "source": [
    "if test_length:  # The_gp_score\n",
    "    print('#### ' + model_name)\n",
    "    print('', end='|')\n",
    "    print(' N_pages', 'Fibonacci', 'Ens Media', ' Average ', sep='|', end='|')\n",
    "    for run in ens_list: print(' Model', run, end=' |')\n",
    "    print('')\n",
    "    print('', end='|')\n",
    "    print('--------', '---------', '---------', '---------', sep='|', end='|')\n",
    "    for run in ens_list: print('---------', end='|')\n",
    "    print('')\n",
    "    for gp in gp_list:\n",
    "        print('', end='|')\n",
    "        print(' %6d ' % gp_n[gp], end='|')\n",
    "        print(' %7.3f ' % gp_smape_fib[gp], end='|')\n",
    "        #print(' %7.3f ' % gp_omean_smape[gp], end='|')\n",
    "        print(' %7.3f ' % gp_omed_smape[gp], end='|')\n",
    "        #print(' %7.3f ' % gp_meano_smape[gp], end='|')\n",
    "        #print(' %7.3f ' % gp_medo_smape[gp], end='|')\n",
    "        print(' %7.3f ' % gp_smape_mean[gp], end='|')\n",
    "        for run in ens_list:\n",
    "            print(' %7.3f ' % gp_smape_ens[run][gp], end='|')\n",
    "        print('')\n",
    "    print('|Over All', ' %7.3f ' % fib_smape, ' %7.3f ' % f_omed_smape,\n",
    "          ' %7.3f ' % model_smape_ens_mean, sep='|', end='|')\n",
    "    for run in ens_list:\n",
    "            print(' %7.3f ' % model_smape_ens[run], end='|')\n",
    "\n",
    "# Note The over all score for ensemble median (Ens Media) is the one after combining with \n",
    "# Fibonacci median model not the total score"
   ]
  },
  {
   "cell_type": "markdown",
   "metadata": {},
   "source": [
    "#### model_10_Modified_CNN_0_median_stdev_2_3_groups\n",
    "| N_pages|Fibonacci|Ens Media| Average | Model 0 | Model 1 | Model 2 | Model 3 | Model 4 |\n",
    "|--------|---------|---------|---------|---------|---------|---------|---------|---------|\n",
    "|  24964 |  61.170 |  68.909 |  68.900 |  69.367 |  69.103 |  69.194 |  69.001 |  67.833 |\n",
    "|  43691 |  40.612 |  39.821 |  40.247 |  39.939 |  40.098 |  40.056 |  40.701 |  40.443 |\n",
    "|  76408 |  34.288 |  29.400 |  29.910 |  29.979 |  30.039 |  29.790 |  29.676 |  30.068 |\n",
    "|Over All|  40.404 |  37.535 |  39.140 |  39.154 |  39.194 |  39.062 |  39.169 |  39.119 |\n",
    "#### model_10_Modified_CNN_0_median_stdev\n",
    "| N_pages|Fibonacci| ori mean|ori media| mean ori|media ori| Model 0 | Model 1 | Model 2 | Model 3 | Model 4 |\n",
    "|--------|---------|---------|---------|---------|---------|---------|---------|---------|---------|---------|\n",
    "|   1879 |  57.385 | 199.741 | 172.496 | 191.624 | 172.496 | 161.576 | 156.487 | 166.024 | 139.355 | 159.019 |\n",
    "|  23085 |  61.354 |  64.110 |  64.122 |  64.116 |  64.122 |  64.389 |  64.273 |  64.008 |  63.988 |  64.148 |\n",
    "|  43691 |  40.612 |  39.620 |  39.564 |  39.574 |  39.564 |  39.684 |  39.842 |  39.969 |  39.808 |  40.173 |\n",
    "|  75617 |  34.284 |  29.300 |  29.231 |  29.248 |  29.231 |  29.538 |  29.575 |  29.454 |  29.907 |  29.573 |\n",
    "|    740 |  35.621 |  33.403 |  33.482 |  33.373 |  33.482 |  33.564 |  33.710 |  33.397 |  33.666 |  33.965 |\n",
    "|     51 |  20.224 |  16.360 |  16.338 |  16.361 |  16.338 |  16.406 |  16.451 |  17.309 |  16.628 |  16.331 |\n",
    "#### model_9_CNN_with_Fibonacci_4_Ensemble_3_filter_3\n",
    "| N_pages|Fibonacci| ori mean|ori media| mean ori|media ori| Model 0 | Model 1 | Model 2 | Model 3 | Model 4 |\n",
    "|--------|---------|---------|---------|---------|---------|---------|---------|---------|---------|---------|\n",
    "|   1879 |  57.385 | 199.921 | 173.799 | 189.346 | 173.799 | 161.230 | 166.806 | 139.008 | 152.935 | 170.833 |\n",
    "|  23085 |  61.354 |  63.635 |  63.651 |  63.644 |  63.651 |  64.048 |  63.281 |  63.966 |  63.664 |  63.569 |\n",
    "|  43691 |  40.612 |  39.693 |  39.628 |  39.637 |  39.628 |  40.004 |  39.860 |  40.201 |  39.817 |  40.143 |\n",
    "|  75617 |  34.284 |  29.444 |  29.368 |  29.381 |  29.368 |  30.201 |  29.582 |  29.611 |  29.744 |  29.618 |\n",
    "|    740 |  35.621 |  33.858 |  33.893 |  33.837 |  33.893 |  33.801 |  34.143 |  34.101 |  34.290 |  34.145 |\n",
    "|     51 |  20.224 |  16.861 |  16.948 |  16.856 |  16.948 |  16.933 |  17.094 |  16.930 |  17.424 |  16.985 |"
   ]
  },
  {
   "cell_type": "markdown",
   "metadata": {},
   "source": [
    "## More Explore"
   ]
  },
  {
   "cell_type": "markdown",
   "metadata": {},
   "source": [
    "### Group Models in other Groups"
   ]
  },
  {
   "cell_type": "code",
   "execution_count": null,
   "metadata": {},
   "outputs": [],
   "source": [
    "%%time\n",
    "smape_gpm_gp_ens = []\n",
    "for run in ens_list:\n",
    "    print('Run', run)\n",
    "    models = models_ens[run]\n",
    "    Y_output_all_ori_list = unlog(np.array([untransform(model.predict([X_output, A_output, Z_output]), \n",
    "                                                        Y_output_center, output_scale) \n",
    "                                            for model in models]))\n",
    "    # row: model of the group; column: group of Y\n",
    "    smape_gpm_gp = [[smape(Y, Y_p[output_gp == gp]) for gp, Y in zip(gp_list, Y_output_raw_list)] \n",
    "                    for Y_p in Y_output_all_ori_list]\n",
    "    smape_gpm_gp_ens.append(smape_gpm_gp)"
   ]
  },
  {
   "cell_type": "code",
   "execution_count": null,
   "metadata": {
    "collapsed": true
   },
   "outputs": [],
   "source": [
    "smape_gpm_gp_ens = np.array(smape_gpm_gp_ens)"
   ]
  },
  {
   "cell_type": "code",
   "execution_count": null,
   "metadata": {
    "collapsed": true
   },
   "outputs": [],
   "source": [
    "smape_gpm_gp_mean = np.mean(smape_gpm_gp_ens, axis=0)"
   ]
  },
  {
   "cell_type": "code",
   "execution_count": null,
   "metadata": {
    "scrolled": true
   },
   "outputs": [],
   "source": [
    "print('Ensemble avg  ', end='|')\n",
    "for j in range(len(smape_gpm_gp_mean[0])): print(' group', j, end='|')\n",
    "print('')\n",
    "print('--------------', end='|')\n",
    "for j in range(len(smape_gpm_gp_mean[0])): print('--------', end='|')\n",
    "print('')\n",
    "for i in range(len(smape_gpm_gp_mean)):\n",
    "    print('group model', i, end=' |')\n",
    "    for j in range(len(smape_gpm_gp_mean[0])):\n",
    "        print(' %6.2f ' % smape_gpm_gp_mean[i][j], end='|')\n",
    "    print('')"
   ]
  },
  {
   "cell_type": "markdown",
   "metadata": {},
   "source": [
    "Only group model 2 and 3 are useful"
   ]
  },
  {
   "cell_type": "code",
   "execution_count": null,
   "metadata": {},
   "outputs": [],
   "source": [
    "for x in gp_omed_smape: print(' %6.2f ' % x, end='|')"
   ]
  },
  {
   "cell_type": "code",
   "execution_count": null,
   "metadata": {},
   "outputs": [],
   "source": [
    "for x in gp_smape_fib: print(' %6.2f ' % x, end='|')"
   ]
  },
  {
   "cell_type": "markdown",
   "metadata": {},
   "source": [
    "Group 4 is better at group 3 model. Group 5 is better at group 2 or 3 model"
   ]
  },
  {
   "cell_type": "markdown",
   "metadata": {},
   "source": [
    "## Optimize Group Models"
   ]
  },
  {
   "cell_type": "code",
   "execution_count": null,
   "metadata": {
    "collapsed": true
   },
   "outputs": [],
   "source": [
    "gpm_list = np.argmin(smape_gpm_gp_mean,axis=0)"
   ]
  },
  {
   "cell_type": "code",
   "execution_count": null,
   "metadata": {},
   "outputs": [],
   "source": [
    "gpm_list"
   ]
  },
  {
   "cell_type": "code",
   "execution_count": null,
   "metadata": {},
   "outputs": [],
   "source": [
    "%%time\n",
    "Y_output_all_ori_list_ens = unlog(np.array([[untransform(model.predict([X_output, A_output, Z_output]), \n",
    "                                                         Y_output_center, output_scale) \n",
    "                                            for model in models] for models in models_ens]))\n",
    "#Take 7 min on PC and NB"
   ]
  },
  {
   "cell_type": "code",
   "execution_count": null,
   "metadata": {},
   "outputs": [],
   "source": [
    "Y_output_all_ori_list_ens.shape"
   ]
  },
  {
   "cell_type": "code",
   "execution_count": null,
   "metadata": {},
   "outputs": [],
   "source": [
    "Y_output_all_ori_list_ens_med = np.median(Y_output_all_ori_list_ens, axis=0); Y_output_all_ori_list_ens_med.shape"
   ]
  },
  {
   "cell_type": "code",
   "execution_count": null,
   "metadata": {},
   "outputs": [],
   "source": [
    "gpm_mask = np.array([gpm_list == gp for gp in gp_list]).T; gpm_mask"
   ]
  },
  {
   "cell_type": "code",
   "execution_count": null,
   "metadata": {
    "collapsed": true
   },
   "outputs": [],
   "source": [
    "Y_output_ori_list_ens_med_temp = np.tensordot(gpm_mask, Y_output_all_ori_list_ens_med, axes=([1],[0]))"
   ]
  },
  {
   "cell_type": "code",
   "execution_count": null,
   "metadata": {},
   "outputs": [],
   "source": [
    "gp_mask = np.array([output_gp == gp for gp in gp_list]); gp_mask"
   ]
  },
  {
   "cell_type": "code",
   "execution_count": null,
   "metadata": {},
   "outputs": [],
   "source": [
    "gp_mask_reshape = gp_mask.reshape(len(gp_mask),len(gp_mask[0]),1); gp_mask_reshape.shape"
   ]
  },
  {
   "cell_type": "code",
   "execution_count": null,
   "metadata": {
    "collapsed": true
   },
   "outputs": [],
   "source": [
    "Y_output_ori_list_ens_med_temp_mask = gp_mask_reshape * Y_output_ori_list_ens_med_temp"
   ]
  },
  {
   "cell_type": "code",
   "execution_count": null,
   "metadata": {},
   "outputs": [],
   "source": [
    "Y_output_ori_list_ens_med_temp_mask.shape"
   ]
  },
  {
   "cell_type": "code",
   "execution_count": null,
   "metadata": {
    "collapsed": true
   },
   "outputs": [],
   "source": [
    "Y_output_gpm_ens_med = np.sum(Y_output_ori_list_ens_med_temp_mask, axis=0)"
   ]
  },
  {
   "cell_type": "code",
   "execution_count": null,
   "metadata": {},
   "outputs": [],
   "source": [
    "Y_output_gpm_ens_med.shape"
   ]
  },
  {
   "cell_type": "code",
   "execution_count": null,
   "metadata": {
    "collapsed": true
   },
   "outputs": [],
   "source": [
    "gpm_ens_smape = smape(Y_output_raw, Y_output_gpm_ens_med)"
   ]
  },
  {
   "cell_type": "code",
   "execution_count": null,
   "metadata": {},
   "outputs": [],
   "source": [
    "gpm_ens_smape, ens_med_smape"
   ]
  },
  {
   "cell_type": "markdown",
   "metadata": {},
   "source": [
    "#### Group scores"
   ]
  },
  {
   "cell_type": "code",
   "execution_count": null,
   "metadata": {
    "collapsed": true
   },
   "outputs": [],
   "source": [
    "Y_output_gpm_ens_med_list = [Y_output_gpm_ens_med[output_gp == gp] for gp in gp_list]"
   ]
  },
  {
   "cell_type": "code",
   "execution_count": null,
   "metadata": {
    "collapsed": true
   },
   "outputs": [],
   "source": [
    "# Group SMAPE scores\n",
    "if test_length:\n",
    "    gp_gpm_ens_med_smape = [smape(Y, Y_p) for Y, Y_p in zip(Y_output_raw_list, Y_output_gpm_ens_med_list)]"
   ]
  },
  {
   "cell_type": "code",
   "execution_count": null,
   "metadata": {},
   "outputs": [],
   "source": [
    "if test_length:\n",
    "    #print('#### ' + model_name + 'group model optimized')\n",
    "    #print('', end='|')\n",
    "    print(' N_pages', 'Fibonacci', 'GPM Optim', 'Ens Media', ' Average ', sep='|', end='|')\n",
    "    #or run in ens_list: print(' Model', run, end=' |')\n",
    "    print('')\n",
    "    print('', end='|')\n",
    "    print('--------', '---------', '---------', '---------', '---------', sep='|', end='|')\n",
    "    #for run in ens_list: print('---------', end='|')\n",
    "    print('')\n",
    "    for gp in gp_list:\n",
    "        print('', end='|')\n",
    "        print(' %6d ' % gp_n[gp], end='|')\n",
    "        print(' %7.3f ' % gp_smape_fib[gp], end='|')\n",
    "        print(' %7.3f ' % gp_gpm_ens_med_smape[gp], end='|')\n",
    "        print(' %7.3f ' % gp_omed_smape[gp], end='|')\n",
    "        print(' %7.3f ' % gp_smape_mean[gp], end='|')\n",
    "        print('')\n",
    "    #print('|Over All', ' %7.3f ' % fib_smape, ' %7.3f ' % f_omed_smape,\n",
    "    #      ' %7.3f ' % model_smape_ens_mean, sep='|', end='|')    \n",
    "# Note The over all score for ensemble median (Ens Media) is the one after combining with \n",
    "# Fibonacci median model not the total score"
   ]
  },
  {
   "cell_type": "markdown",
   "metadata": {},
   "source": [
    "Group 0 and 1 of GPM Optimized are worse than Fib."
   ]
  },
  {
   "cell_type": "markdown",
   "metadata": {},
   "source": [
    "#### Combined with Fib."
   ]
  },
  {
   "cell_type": "code",
   "execution_count": null,
   "metadata": {},
   "outputs": [],
   "source": [
    "#Select group 0\n",
    "fib_mask = ((output_gp == 0)|(output_gp == 1)).reshape(-1,1); fib_mask.shape\n",
    "#fib_mask = (output_gp == 0).reshape(-1,1); fib_mask.shape"
   ]
  },
  {
   "cell_type": "code",
   "execution_count": null,
   "metadata": {
    "collapsed": true
   },
   "outputs": [],
   "source": [
    "Y_output_f_gpm = fib_mask * Y_output_fib_ori + (~fib_mask) * Y_output_gpm_ens_med  # Our final output"
   ]
  },
  {
   "cell_type": "code",
   "execution_count": null,
   "metadata": {
    "collapsed": true
   },
   "outputs": [],
   "source": [
    "f_gpm_ens_smape = smape(Y_output_raw, Y_output_f_gpm)"
   ]
  },
  {
   "cell_type": "code",
   "execution_count": null,
   "metadata": {},
   "outputs": [],
   "source": [
    "print('%6.3f' % f_gpm_ens_smape, '(%6.3f)' % gpm_ens_smape, '-', model_name, 'GPM Optim Ens')"
   ]
  },
  {
   "cell_type": "markdown",
   "metadata": {},
   "source": [
    "## Plots"
   ]
  },
  {
   "cell_type": "markdown",
   "metadata": {
    "collapsed": true
   },
   "source": [
    "### Group model examination"
   ]
  },
  {
   "cell_type": "code",
   "execution_count": null,
   "metadata": {},
   "outputs": [],
   "source": [
    "Y_output_all_ori_list_ens_med.shape"
   ]
  },
  {
   "cell_type": "markdown",
   "metadata": {},
   "source": [
    "#### Group = 5"
   ]
  },
  {
   "cell_type": "code",
   "execution_count": null,
   "metadata": {
    "collapsed": true
   },
   "outputs": [],
   "source": [
    "gp = 5\n",
    "Y_list = Y_output_all_ori_list_ens_med[:, output_gp == gp]"
   ]
  },
  {
   "cell_type": "code",
   "execution_count": null,
   "metadata": {},
   "outputs": [],
   "source": [
    "Y_list.shape"
   ]
  },
  {
   "cell_type": "code",
   "execution_count": null,
   "metadata": {},
   "outputs": [],
   "source": [
    "view_list = np.sort(np.random.choice(len(Y_list[0]), 5, replace=False)); view_list"
   ]
  },
  {
   "cell_type": "code",
   "execution_count": null,
   "metadata": {
    "scrolled": true
   },
   "outputs": [],
   "source": [
    "print('Group ' + str(gp))\n",
    "for i in view_list:\n",
    "    print('i = ', i)\n",
    "    plt.plot(Y_output_ori_list[gp][i], label='true')\n",
    "    for gpm in gp_list:\n",
    "        plt.plot(Y_list[gpm, i], label='gpm '+ str(gpm))\n",
    "    plt.legend()\n",
    "    plt.show()    "
   ]
  },
  {
   "cell_type": "code",
   "execution_count": null,
   "metadata": {},
   "outputs": [],
   "source": [
    "orinal_view_list = np.arange(len(output_gp))[output_gp == gp][view_list];\n",
    "np.array([view_list, orinal_view_list])"
   ]
  },
  {
   "cell_type": "code",
   "execution_count": null,
   "metadata": {},
   "outputs": [],
   "source": [
    "np.array([fib_input_median[orinal_view_list], fib_output_median[orinal_view_list]])"
   ]
  },
  {
   "cell_type": "markdown",
   "metadata": {},
   "source": [
    "#### Group = 4"
   ]
  },
  {
   "cell_type": "code",
   "execution_count": null,
   "metadata": {
    "collapsed": true
   },
   "outputs": [],
   "source": [
    "gp = 4\n",
    "Y_list = Y_output_all_ori_list_ens_med[:, output_gp == gp]"
   ]
  },
  {
   "cell_type": "code",
   "execution_count": null,
   "metadata": {},
   "outputs": [],
   "source": [
    "Y_list.shape"
   ]
  },
  {
   "cell_type": "code",
   "execution_count": null,
   "metadata": {},
   "outputs": [],
   "source": [
    "view_list = np.sort(np.random.choice(len(Y_list[0]), 5, replace=False)); view_list"
   ]
  },
  {
   "cell_type": "code",
   "execution_count": null,
   "metadata": {
    "collapsed": true
   },
   "outputs": [],
   "source": [
    "output_log_std_p = [1.]"
   ]
  },
  {
   "cell_type": "code",
   "execution_count": null,
   "metadata": {
    "scrolled": false
   },
   "outputs": [],
   "source": [
    "print('Group ' + str(gp))\n",
    "for i in view_list:\n",
    "    print('i = ', i)\n",
    "    plt.plot(Y_output_ori_list[gp][i], label='true')\n",
    "    for gpm in gp_list:\n",
    "        plt.plot(Y_list[gpm, i], label='gpm '+ str(gpm))\n",
    "    plt.legend()\n",
    "    plt.show()    "
   ]
  },
  {
   "cell_type": "code",
   "execution_count": null,
   "metadata": {
    "scrolled": false
   },
   "outputs": [],
   "source": [
    "print('Group ' + str(gp))\n",
    "for i in view_list:\n",
    "    print('i = ', i)\n",
    "    plt.plot(Y_output_ori_list[gp][i], label='true')\n",
    "    for gpm in gp_list:\n",
    "        plt.plot(Y_list[gpm, i], label='gpm '+ str(gpm))\n",
    "    plt.yscale('log')\n",
    "    plt.legend(); plt.show()    "
   ]
  },
  {
   "cell_type": "code",
   "execution_count": null,
   "metadata": {},
   "outputs": [],
   "source": [
    "orinal_view_list = np.arange(len(output_gp))[output_gp == gp][view_list];\n",
    "np.array([view_list, orinal_view_list])"
   ]
  },
  {
   "cell_type": "code",
   "execution_count": null,
   "metadata": {},
   "outputs": [],
   "source": [
    "np.array([fib_input_median[orinal_view_list], fib_output_median[orinal_view_list]])"
   ]
  },
  {
   "cell_type": "markdown",
   "metadata": {},
   "source": [
    "#### Case 131296"
   ]
  },
  {
   "cell_type": "code",
   "execution_count": null,
   "metadata": {
    "collapsed": true
   },
   "outputs": [],
   "source": [
    "i = 131296"
   ]
  },
  {
   "cell_type": "code",
   "execution_count": null,
   "metadata": {},
   "outputs": [],
   "source": [
    "multi_view((Y_output_ori[i],Y_output_pred_ori[i]))"
   ]
  },
  {
   "cell_type": "markdown",
   "metadata": {},
   "source": [
    "### Cases study"
   ]
  },
  {
   "cell_type": "code",
   "execution_count": null,
   "metadata": {
    "collapsed": true
   },
   "outputs": [],
   "source": [
    "view_list=[93175, 13986, 5464, 89589, 119659, 64392, 73856, 140331, 19234, 25591]"
   ]
  },
  {
   "cell_type": "markdown",
   "metadata": {
    "scrolled": true
   },
   "source": [
    "view_list = examine_list_gp((Y_output_ori,\n",
    "                             Y_output_pred_ori_ens_mean, \n",
    "                             Y_output_pred_ori_ens_med,\n",
    "                             Y_output_pred_ori_ens[-1], \n",
    "                             ), output_gp, view_list=view_list)"
   ]
  },
  {
   "cell_type": "markdown",
   "metadata": {},
   "source": [
    "i = 93175\n",
    "plt.plot(Y_output_ori[i], label='true')\n",
    "plt.plot(Y_output_pred_ori_ens_mean[i], label='ens mean')\n",
    "plt.plot(Y_output_pred_ori_ens_med[i], label='ens median')\n",
    "plt.plot(Y_output_pred_ens_mean_ori[i], label='ens mean before transf')\n",
    "plt.plot(Y_output_pred_ens_med_ori[i], label='ens median before transf')\n",
    "plt.plot(Y_output_pred_ori_ens[-1][i], label='run: 4')\n",
    "plt.title('i = ' + str(i) + ' gp = ' + str(output_gp[i]))\n",
    "plt.legend()\n",
    "plt.show()"
   ]
  },
  {
   "cell_type": "markdown",
   "metadata": {},
   "source": [
    "i = 93175\n",
    "plt.plot(Y_output_ori[i], label='true')\n",
    "for run in ens_list:\n",
    "    plt.plot(Y_output_pred_ori_ens[run][i], label='run' + str(run))\n",
    "plt.plot(Y_output_pred_ens_mean_ori[i], label='ens mean before transf')\n",
    "plt.title('i = ' + str(i) + ' gp = ' + str(output_gp[i]))\n",
    "plt.legend()\n",
    "plt.show()"
   ]
  },
  {
   "cell_type": "code",
   "execution_count": null,
   "metadata": {
    "scrolled": true
   },
   "outputs": [],
   "source": [
    "view_list = examine_list_gp((Y_output_pred_ori_ens[-1], \n",
    "                             Y_output_pred_ori_ens_med,\n",
    "                             Y_output_f_gpm, \n",
    "                             Y_output_ori), output_gp, view_list=view_list)"
   ]
  },
  {
   "cell_type": "markdown",
   "metadata": {},
   "source": [
    "view_list = comp_examine(X_output, Y_output_pred, view_list=view_list)"
   ]
  },
  {
   "cell_type": "markdown",
   "metadata": {},
   "source": [
    "view_list = comp_examine(X_output_ori, Y_output_pred_ori, view_list=view_list)"
   ]
  },
  {
   "cell_type": "code",
   "execution_count": null,
   "metadata": {},
   "outputs": [],
   "source": [
    "view_list = examine_list_gp((Y_output_pred_ori, X_output_ori, Y_input_ori), output_gp, view_list=view_list)"
   ]
  },
  {
   "cell_type": "code",
   "execution_count": null,
   "metadata": {
    "scrolled": true
   },
   "outputs": [],
   "source": [
    "view_list = examine_list_gp((Y_output_pred_ori, X_output_ori, Y_input_ori), output_gp, view_list=view_list)"
   ]
  },
  {
   "cell_type": "markdown",
   "metadata": {},
   "source": [
    "view_list = examine_list_gp((Y_output_pred, X_output, Y_input), output_gp, view_list=view_list)"
   ]
  },
  {
   "cell_type": "markdown",
   "metadata": {},
   "source": [
    "if test_length:\n",
    "    view_list = examine_list((Y_output_pred, Y_output, X_output), view_list=view_list)"
   ]
  },
  {
   "cell_type": "markdown",
   "metadata": {},
   "source": [
    "if test_length:\n",
    "    view_list = examine_list((Y_output_pred_ori, Y_output_ori, X_output_ori), view_list=view_list)"
   ]
  },
  {
   "cell_type": "markdown",
   "metadata": {
    "scrolled": true
   },
   "source": [
    "if test_length:\n",
    "    view_list = examine_list_gp((Y_output_pred, Y_output, X_output), output_gp,\n",
    "                             view_list=view_list)"
   ]
  },
  {
   "cell_type": "markdown",
   "metadata": {
    "scrolled": true
   },
   "source": [
    "if test_length:\n",
    "    view_list = examine_list_gp((Y_output_pred_ori, Y_output_ori, X_output_ori), output_gp,\n",
    "                             view_list=view_list)"
   ]
  },
  {
   "cell_type": "markdown",
   "metadata": {},
   "source": [
    "view_list_smape = [smape(Y_output_pred_ori[i], Y_output_raw[i]) for i in view_list]; view_list_smape"
   ]
  },
  {
   "cell_type": "markdown",
   "metadata": {
    "scrolled": true
   },
   "source": [
    "view_list_review = [score < model_smape for score in view_list_smape]; view_list_review"
   ]
  },
  {
   "cell_type": "markdown",
   "metadata": {},
   "source": [
    "view_list_good = list(np.array(view_list)[view_list_review]); view_list_good"
   ]
  },
  {
   "cell_type": "markdown",
   "metadata": {},
   "source": [
    "view_list_bad = list(np.array(view_list)[~np.array(view_list_review)]); view_list_bad"
   ]
  },
  {
   "cell_type": "markdown",
   "metadata": {},
   "source": [
    "#### Good cases"
   ]
  },
  {
   "cell_type": "markdown",
   "metadata": {
    "scrolled": true
   },
   "source": [
    "examine_list_gp((Y_output_pred_ori, Y_output_ori, X_output_ori), output_gp,\n",
    "             view_list=view_list_good)"
   ]
  },
  {
   "cell_type": "markdown",
   "metadata": {},
   "source": [
    "#### Bad cases"
   ]
  },
  {
   "cell_type": "markdown",
   "metadata": {
    "scrolled": true
   },
   "source": [
    "examine_list_gp((Y_output_pred_ori, Y_output_ori, X_output_ori),output_gp,\n",
    "             view_list=view_list_bad)"
   ]
  },
  {
   "cell_type": "markdown",
   "metadata": {},
   "source": [
    "print(Y_output_center[view_list_good].reshape(-1))\n",
    "print(Y_output_center[view_list_bad].reshape(-1))"
   ]
  },
  {
   "cell_type": "markdown",
   "metadata": {},
   "source": [
    "print(output_scale[view_list_good].reshape(-1))\n",
    "print(output_scale[view_list_bad].reshape(-1))"
   ]
  },
  {
   "cell_type": "markdown",
   "metadata": {},
   "source": [
    "output_gp[view_list_good]"
   ]
  },
  {
   "cell_type": "markdown",
   "metadata": {},
   "source": [
    "output_gp[view_list_bad]"
   ]
  },
  {
   "cell_type": "markdown",
   "metadata": {},
   "source": [
    "#### Case 93175"
   ]
  },
  {
   "cell_type": "markdown",
   "metadata": {
    "collapsed": true
   },
   "source": [
    "i = 93175"
   ]
  },
  {
   "cell_type": "markdown",
   "metadata": {},
   "source": [
    "multi_view((Y_output_pred_ori[i], Y_output_ori[i], X_output_ori[i]), yscale='log')\n",
    "multi_view((Y_output_pred_ori[i], Y_output_ori[i], X_output_ori[i]))"
   ]
  },
  {
   "cell_type": "markdown",
   "metadata": {},
   "source": [
    "smape(Y_output_pred_ori[i], Y_output_raw[i])"
   ]
  },
  {
   "cell_type": "markdown",
   "metadata": {
    "scrolled": false
   },
   "source": [
    "Y_input_center[i], Y_output_center[i], input_scale[i], output_scale[i]"
   ]
  },
  {
   "cell_type": "markdown",
   "metadata": {},
   "source": [
    "#### Case 41896"
   ]
  },
  {
   "cell_type": "markdown",
   "metadata": {
    "collapsed": true
   },
   "source": [
    "i = 41896"
   ]
  },
  {
   "cell_type": "markdown",
   "metadata": {
    "collapsed": true
   },
   "source": [
    "multi_view((X_input[i], Y_input[i]))"
   ]
  },
  {
   "cell_type": "markdown",
   "metadata": {
    "collapsed": true
   },
   "source": [
    "comp_view(X_input_ori[i], Y_input_ori[i])"
   ]
  },
  {
   "cell_type": "markdown",
   "metadata": {
    "collapsed": true
   },
   "source": [
    "comp_view(X_output_ori[i], Y_output_pred_ori[i])"
   ]
  },
  {
   "cell_type": "markdown",
   "metadata": {
    "collapsed": true
   },
   "source": [
    "comp_view(X_input_ori[i], Y_input_ori[i])"
   ]
  },
  {
   "cell_type": "markdown",
   "metadata": {},
   "source": [
    "### Good and bad cases"
   ]
  },
  {
   "cell_type": "markdown",
   "metadata": {
    "collapsed": true
   },
   "source": [
    "review_Y = np.array([score < model_smape for score in smape_Y_pred])\n",
    "good_Y_index = np.arange(len(Y_output_pred))[review_Y]; #good_Y_index\n",
    "bad_Y_index = np.arange(len(Y_output_pred))[~review_Y]; #bad_Y_index"
   ]
  },
  {
   "cell_type": "markdown",
   "metadata": {
    "collapsed": true
   },
   "source": [
    "good_input_scale = input_scale[good_Y_index]\n",
    "good_output_scale = output_scale[good_Y_index]\n",
    "bad_input_scale = input_scale[bad_Y_index]\n",
    "bad_output_scale = output_scale[bad_Y_index]"
   ]
  },
  {
   "cell_type": "markdown",
   "metadata": {
    "collapsed": true
   },
   "source": [
    "good_Y_input_center = Y_input_center[good_Y_index]\n",
    "good_Y_output_center = Y_output_center[good_Y_index]\n",
    "bad_Y_input_center = Y_input_center[bad_Y_index]\n",
    "bad_Y_output_center = Y_output_center[bad_Y_index]"
   ]
  },
  {
   "cell_type": "markdown",
   "metadata": {
    "scrolled": true
   },
   "source": [
    "examine_list_gp((Y_output_pred_ori[good_Y_index], Y_output_ori[good_Y_index], X_output_ori[good_Y_index]), output_gp[good_Y_index])"
   ]
  },
  {
   "cell_type": "markdown",
   "metadata": {
    "scrolled": true
   },
   "source": [
    "examine_list_gp((Y_output_pred_ori[bad_Y_index], Y_output_ori[bad_Y_index], X_output_ori[bad_Y_index]), output_gp[bad_Y_index])"
   ]
  },
  {
   "cell_type": "markdown",
   "metadata": {},
   "source": [
    "good_output_scale.min(), good_output_scale.max()"
   ]
  },
  {
   "cell_type": "markdown",
   "metadata": {},
   "source": [
    "bad_output_scale.min(), bad_output_scale.max()"
   ]
  },
  {
   "cell_type": "markdown",
   "metadata": {},
   "source": [
    "plt.hist(good_input_scale, bins=40, alpha=0.6, label='good input')\n",
    "plt.hist(bad_input_scale, bins=40, alpha=0.6, label='bad input')\n",
    "plt.yscale('linear')\n",
    "plt.legend()\n",
    "plt.show()"
   ]
  },
  {
   "cell_type": "markdown",
   "metadata": {},
   "source": [
    "plt.hist(good_output_scale, bins=40, alpha=0.6, label='good output')\n",
    "plt.hist(bad_output_scale, bins=40, alpha=0.6, label='bad output')\n",
    "plt.yscale('linear')\n",
    "plt.legend()\n",
    "plt.show()"
   ]
  },
  {
   "cell_type": "markdown",
   "metadata": {},
   "source": [
    "plt.hist(good_input_scale, bins=40, alpha=0.6, label='good input')\n",
    "plt.hist(bad_input_scale, bins=40, alpha=0.6, label='bad input')\n",
    "plt.yscale('log')\n",
    "plt.legend()\n",
    "plt.show()"
   ]
  },
  {
   "cell_type": "markdown",
   "metadata": {
    "scrolled": false
   },
   "source": [
    "plt.hist(good_output_scale, bins=40, alpha=0.6, label='good output')\n",
    "plt.hist(bad_output_scale, bins=40, alpha=0.6, label='bad output')\n",
    "plt.yscale('log')\n",
    "plt.legend()\n",
    "plt.show()"
   ]
  },
  {
   "cell_type": "markdown",
   "metadata": {},
   "source": [
    "plt.figure(figsize=(12,4))\n",
    "plt.hist(good_input_scale, bins=100, range=(0,0.8), alpha=0.6, label='good input')\n",
    "plt.hist(good_output_scale, bins=100, range=(0,0.8), alpha=0.6, label='good output')\n",
    "plt.hist(bad_input_scale, bins=100, range=(0,0.8), alpha=0.6, label='bad input')\n",
    "plt.hist(bad_output_scale, bins=100, range=(0,0.8), alpha=0.6, label='bad output')\n",
    "plt.yscale('linear')\n",
    "plt.legend()\n",
    "plt.show()"
   ]
  },
  {
   "cell_type": "markdown",
   "metadata": {},
   "source": [
    "Should we split the data into std > and < 1.7 ?"
   ]
  },
  {
   "cell_type": "markdown",
   "metadata": {},
   "source": [
    "np.mean(good_output_scale), np.mean(good_input_scale)"
   ]
  },
  {
   "cell_type": "markdown",
   "metadata": {},
   "source": [
    "np.mean(bad_output_scale), np.mean(bad_input_scale)"
   ]
  },
  {
   "cell_type": "markdown",
   "metadata": {},
   "source": [
    "plt.figure(figsize=(12,4))\n",
    "plt.hist(bad_input_scale, bins=60, range=(0,0.8), alpha=0.6, label='bad input')\n",
    "plt.hist(bad_output_scale, bins=60, range=(0,0.8), alpha=0.6, label='bad output')\n",
    "plt.yscale('linear')\n",
    "plt.legend()\n",
    "plt.show()"
   ]
  },
  {
   "cell_type": "markdown",
   "metadata": {
    "scrolled": true
   },
   "source": [
    "plt.figure(figsize=(12,4))\n",
    "plt.hist(output_scale, bins=40, alpha=0.6, label='output')\n",
    "plt.hist(input_scale, bins=40, alpha=0.6, label='input')\n",
    "plt.legend()\n",
    "plt.show()"
   ]
  },
  {
   "cell_type": "markdown",
   "metadata": {},
   "source": [
    "np.histogram(output_scale, bins=np.arange(0,1,0.05))"
   ]
  },
  {
   "cell_type": "markdown",
   "metadata": {},
   "source": [
    "#### Median"
   ]
  },
  {
   "cell_type": "markdown",
   "metadata": {},
   "source": [
    "plt.figure(figsize=(12,4))\n",
    "plt.hist(good_Y_input_center, bins=100, range=(0,5), alpha=0.6, label='good input')\n",
    "plt.hist(good_Y_output_center, bins=100, range=(0,5), alpha=0.6, label='good output')\n",
    "plt.hist(bad_Y_input_center, bins=100, range=(0,5), alpha=0.6, label='bad input')\n",
    "plt.hist(bad_Y_output_center, bins=100, range=(0,5), alpha=0.6, label='bad output')\n",
    "plt.yscale('linear')\n",
    "plt.legend()\n",
    "plt.show()"
   ]
  },
  {
   "cell_type": "markdown",
   "metadata": {},
   "source": [
    "### stdev/median"
   ]
  },
  {
   "cell_type": "markdown",
   "metadata": {},
   "source": [
    "output_factor_1 = (Y_output_center / output_scale).reshape(-1); output_factor_1"
   ]
  },
  {
   "cell_type": "markdown",
   "metadata": {},
   "source": [
    "output_factor_1.min(), output_factor_1.max()"
   ]
  },
  {
   "cell_type": "markdown",
   "metadata": {},
   "source": [
    "plt.hist(output_factor_1, bins=40, range=[0,50], alpha=0.6)\n",
    "plt.show()"
   ]
  },
  {
   "cell_type": "markdown",
   "metadata": {},
   "source": [
    "plt.scatter(smape_Y_pred, output_scale, alpha=0.1, marker='.')\n",
    "plt.show()"
   ]
  },
  {
   "cell_type": "markdown",
   "metadata": {},
   "source": [
    "plt.figure(figsize=(12,9))\n",
    "plt.scatter(smape_Y_pred, Y_output_center, alpha=0.1, marker='.')\n",
    "plt.ylim([-0.1,5])\n",
    "plt.show()"
   ]
  },
  {
   "cell_type": "markdown",
   "metadata": {},
   "source": [
    "plt.figure(figsize=(12,9))\n",
    "plt.scatter(smape_Y_pred, output_scale, alpha=0.1, marker='.')\n",
    "plt.ylim([0,0.5])\n",
    "plt.show()"
   ]
  },
  {
   "cell_type": "markdown",
   "metadata": {},
   "source": [
    "plt.figure(figsize=(12,9))\n",
    "plt.scatter(output_scale, Y_output_center, alpha=0.1, marker='.')\n",
    "plt.ylim([0,4.5])\n",
    "plt.xlim([0,0.6])\n",
    "plt.show()"
   ]
  },
  {
   "cell_type": "markdown",
   "metadata": {},
   "source": [
    "output_factor_2 = (output_scale / Y_output_center).reshape(-1); output_factor_2"
   ]
  },
  {
   "cell_type": "markdown",
   "metadata": {},
   "source": [
    "plt.figure(figsize=(12,9))\n",
    "plt.scatter(smape_Y_pred, output_factor_2, alpha=0.1, marker='.')\n",
    "plt.ylim([0,0.8])\n",
    "#plt.xlim([0,0.6])\n",
    "plt.show()"
   ]
  },
  {
   "cell_type": "markdown",
   "metadata": {},
   "source": [
    "output_factor_3 = (output_scale / (Y_output_center + 0.01)).reshape(-1); output_factor_3"
   ]
  },
  {
   "cell_type": "markdown",
   "metadata": {},
   "source": [
    "plt.figure(figsize=(12,9))\n",
    "plt.scatter(smape_Y_pred, output_factor_3, alpha=0.1, marker='.')\n",
    "plt.ylim([0,4])\n",
    "#plt.xlim([0,0.6])\n",
    "plt.show()"
   ]
  },
  {
   "cell_type": "markdown",
   "metadata": {},
   "source": [
    "output_factor_4 = output_scale - input_scale"
   ]
  },
  {
   "cell_type": "markdown",
   "metadata": {},
   "source": [
    "plt.figure(figsize=(12,9))\n",
    "plt.scatter(smape_Y_pred, output_factor_4, alpha=0.1, marker='.')\n",
    "plt.ylim([-1.5,0.5])\n",
    "#plt.xlim([0,0.6])\n",
    "plt.show()"
   ]
  },
  {
   "cell_type": "markdown",
   "metadata": {},
   "source": [
    "## Output Prediction\n",
    "For predicting stage only"
   ]
  },
  {
   "cell_type": "markdown",
   "metadata": {},
   "source": [
    "### Result DataFrame"
   ]
  },
  {
   "cell_type": "markdown",
   "metadata": {
    "collapsed": true
   },
   "source": [
    "predict_dates_index=pd.date_range(Y_output_first_day, \n",
    "                                  periods=np.timedelta64(y_length,'D'), \n",
    "                                  freq = 'D', unit = 'D')\n",
    "predict_dates_index"
   ]
  },
  {
   "cell_type": "code",
   "execution_count": null,
   "metadata": {
    "collapsed": true
   },
   "outputs": [],
   "source": [
    "Y_output_dates"
   ]
  },
  {
   "cell_type": "code",
   "execution_count": null,
   "metadata": {
    "collapsed": true,
    "scrolled": true
   },
   "outputs": [],
   "source": [
    "if test_length == 0:\n",
    "    result_df = pd.DataFrame(Y_output_f_omed, columns = Y_output_dates)  # using ensemble median combined result\n",
    "result_df"
   ]
  },
  {
   "cell_type": "code",
   "execution_count": null,
   "metadata": {
    "collapsed": true,
    "scrolled": true
   },
   "outputs": [],
   "source": [
    "result_df['Page'] = input_df['Page']  # Append 'Page' column from input_df\n",
    "result_df"
   ]
  },
  {
   "cell_type": "code",
   "execution_count": null,
   "metadata": {
    "collapsed": true,
    "scrolled": true
   },
   "outputs": [],
   "source": [
    "result_flat_df = pd.melt(result_df, id_vars='Page', var_name='date',\n",
    "                         value_name='Visits')\n",
    "result_flat_df"
   ]
  },
  {
   "cell_type": "markdown",
   "metadata": {},
   "source": [
    "### Output DataFrame"
   ]
  },
  {
   "cell_type": "code",
   "execution_count": null,
   "metadata": {
    "collapsed": true
   },
   "outputs": [],
   "source": [
    "if test_length == 0:\n",
    "    print('%%% Reading data key_2.csv ...', end = '', flush = True)\n",
    "    output_df = pd.read_csv(\"../data/key_2.csv\")\n",
    "    print('done!')"
   ]
  },
  {
   "cell_type": "code",
   "execution_count": null,
   "metadata": {
    "collapsed": true,
    "scrolled": true
   },
   "outputs": [],
   "source": [
    "output_df['date'] = output_df.Page.apply(lambda a: a[-10:])  # take the last 10 characters from 'Page' as date\n",
    "output_df['Page'] = output_df.Page.apply(lambda a: a[:-11])  # remove the last 10 caharacters from 'Page'\n",
    "#output_df['date'] = output_df['date'].astype('datetime64[ns]')  # convert 'date' string to numpy datetime format\n",
    "#test['weekday'] = test.date.dt.dayofweek  # find the day of week using the 'date' column\n",
    "output_df.head()"
   ]
  },
  {
   "cell_type": "code",
   "execution_count": null,
   "metadata": {
    "collapsed": true
   },
   "outputs": [],
   "source": [
    "output_df.info()"
   ]
  },
  {
   "cell_type": "code",
   "execution_count": null,
   "metadata": {
    "collapsed": true,
    "scrolled": true
   },
   "outputs": [],
   "source": [
    "output_df['date'].values[0:62]  # Make sure the range is 60 days (see if the dates resume after 60)"
   ]
  },
  {
   "cell_type": "code",
   "execution_count": null,
   "metadata": {
    "collapsed": true
   },
   "outputs": [],
   "source": [
    "Y_output_dates"
   ]
  },
  {
   "cell_type": "code",
   "execution_count": null,
   "metadata": {
    "collapsed": true,
    "scrolled": true
   },
   "outputs": [],
   "source": [
    "output_df = output_df.merge(result_flat_df, how='left')  # fill the 'Visits\" from result\n",
    "output_df"
   ]
  },
  {
   "cell_type": "code",
   "execution_count": null,
   "metadata": {
    "collapsed": true
   },
   "outputs": [],
   "source": [
    "del result_flat_df"
   ]
  },
  {
   "cell_type": "code",
   "execution_count": null,
   "metadata": {
    "collapsed": true
   },
   "outputs": [],
   "source": [
    "gc.collect()"
   ]
  },
  {
   "cell_type": "code",
   "execution_count": null,
   "metadata": {
    "collapsed": true
   },
   "outputs": [],
   "source": [
    "#Check if there is null value\n",
    "output_df.loc[output_df.Visits.isnull(), 'Visits']"
   ]
  },
  {
   "cell_type": "code",
   "execution_count": null,
   "metadata": {
    "collapsed": true
   },
   "outputs": [],
   "source": [
    "#output_df.loc[output_df.Visits.isnull(), 'Visits'] = 0.0  # Uncommend this line to Replace NaN with 0.0"
   ]
  },
  {
   "cell_type": "code",
   "execution_count": null,
   "metadata": {
    "collapsed": true
   },
   "outputs": [],
   "source": [
    "print('%%% Writing result for ' + model_name + ' ...', \n",
    "      end = '', flush = True)\n",
    "#Write only the 'Id' and 'Visits' to the result file\n",
    "output_df[['Id','Visits']].to_csv('../results/submit_1_' + model_name\n",
    "                                  + '.csv', index = False, \n",
    "                                  float_format='%.3f')\n",
    "print('done!')"
   ]
  },
  {
   "cell_type": "markdown",
   "metadata": {},
   "source": [
    "Kaggle LB Score: \n",
    "\n",
    "[6.0.0] 46.3 [Model 6.0.0 CNN - Conv(60, 7)-FC(120)-Drop(0.25)-FC(120)-Drop(0.5)-Linear, 20 epoches]\n",
    "\n",
    "[6.1.0] 46.7 [Model 6.1.0 CNN - Conv(30, 7)-Conv(60, 7)-FC(120)-Drop(0.25)-FC(120)-Drop(0.5)-Linear, 20 epoches]\n",
    "\n",
    "[7.1.2] 47.3 [Model 7.1.2 CNN Fibonacci - range corrected :-y_length - score corrected]\n",
    "\n",
    "[7.2.0] 46.5 [Model 7.2.0 CNN Fibonacci and original combined]"
   ]
  }
 ],
 "metadata": {
  "kernelspec": {
   "display_name": "Python 3",
   "language": "python",
   "name": "python3"
  },
  "language_info": {
   "codemirror_mode": {
    "name": "ipython",
    "version": 3
   },
   "file_extension": ".py",
   "mimetype": "text/x-python",
   "name": "python",
   "nbconvert_exporter": "python",
   "pygments_lexer": "ipython3",
   "version": "3.6.1"
  }
 },
 "nbformat": 4,
 "nbformat_minor": 2
}
